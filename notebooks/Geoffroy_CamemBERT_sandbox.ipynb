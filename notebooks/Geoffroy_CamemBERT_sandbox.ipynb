{
 "cells": [
  {
   "cell_type": "markdown",
   "id": "3ea6ae41",
   "metadata": {},
   "source": [
    "# Try date detection from CamemBERT\n",
    "https://huggingface.co/Jean-Baptiste/camembert-ner-with-dates"
   ]
  },
  {
   "cell_type": "code",
   "execution_count": null,
   "id": "a7d4b956",
   "metadata": {},
   "outputs": [],
   "source": [
    "#!pip install transformers"
   ]
  },
  {
   "cell_type": "code",
   "execution_count": 1,
   "id": "521664c2",
   "metadata": {},
   "outputs": [],
   "source": [
    "from transformers import AutoTokenizer, AutoModelForTokenClassification"
   ]
  },
  {
   "cell_type": "code",
   "execution_count": 2,
   "id": "919daa63",
   "metadata": {},
   "outputs": [
    {
     "data": {
      "application/vnd.jupyter.widget-view+json": {
       "model_id": "a85ea7f2b4ce46a08a19528059b5da51",
       "version_major": 2,
       "version_minor": 0
      },
      "text/plain": [
       "Downloading:   0%|          | 0.00/423 [00:00<?, ?B/s]"
      ]
     },
     "metadata": {},
     "output_type": "display_data"
    },
    {
     "data": {
      "application/vnd.jupyter.widget-view+json": {
       "model_id": "9fd3f8f826d6458ca6959205482d59b0",
       "version_major": 2,
       "version_minor": 0
      },
      "text/plain": [
       "Downloading:   0%|          | 0.00/970 [00:00<?, ?B/s]"
      ]
     },
     "metadata": {},
     "output_type": "display_data"
    },
    {
     "data": {
      "application/vnd.jupyter.widget-view+json": {
       "model_id": "96b3dea600e04add85184f5eee141aef",
       "version_major": 2,
       "version_minor": 0
      },
      "text/plain": [
       "Downloading:   0%|          | 0.00/792k [00:00<?, ?B/s]"
      ]
     },
     "metadata": {},
     "output_type": "display_data"
    },
    {
     "data": {
      "application/vnd.jupyter.widget-view+json": {
       "model_id": "4b44bb5050c04191a7fafed662d4ac4e",
       "version_major": 2,
       "version_minor": 0
      },
      "text/plain": [
       "Downloading:   0%|          | 0.00/210 [00:00<?, ?B/s]"
      ]
     },
     "metadata": {},
     "output_type": "display_data"
    },
    {
     "data": {
      "application/vnd.jupyter.widget-view+json": {
       "model_id": "af9aae1aef3441c0aba20b3217484be1",
       "version_major": 2,
       "version_minor": 0
      },
      "text/plain": [
       "Downloading:   0%|          | 0.00/420M [00:00<?, ?B/s]"
      ]
     },
     "metadata": {},
     "output_type": "display_data"
    }
   ],
   "source": [
    "tokenizer = AutoTokenizer.from_pretrained(\"Jean-Baptiste/camembert-ner-with-dates\")\n",
    "model = AutoModelForTokenClassification.from_pretrained(\"Jean-Baptiste/camembert-ner-with-dates\")"
   ]
  },
  {
   "cell_type": "code",
   "execution_count": 3,
   "id": "70d6c4d1",
   "metadata": {},
   "outputs": [],
   "source": [
    "from transformers import pipeline"
   ]
  },
  {
   "cell_type": "code",
   "execution_count": 4,
   "id": "78f33247",
   "metadata": {},
   "outputs": [
    {
     "data": {
      "text/plain": [
       "[{'entity_group': 'ORG',\n",
       "  'score': 0.977638,\n",
       "  'word': 'Apple',\n",
       "  'start': 0,\n",
       "  'end': 5},\n",
       " {'entity_group': 'DATE',\n",
       "  'score': 0.97937775,\n",
       "  'word': 'le 1er avril 1976 dans le',\n",
       "  'start': 15,\n",
       "  'end': 41},\n",
       " {'entity_group': 'PER',\n",
       "  'score': 0.9958226,\n",
       "  'word': 'Steve Jobs',\n",
       "  'start': 74,\n",
       "  'end': 85},\n",
       " {'entity_group': 'LOC',\n",
       "  'score': 0.99508715,\n",
       "  'word': 'Los Altos',\n",
       "  'start': 87,\n",
       "  'end': 97},\n",
       " {'entity_group': 'LOC',\n",
       "  'score': 0.99533045,\n",
       "  'word': 'Californie',\n",
       "  'start': 100,\n",
       "  'end': 111},\n",
       " {'entity_group': 'PER',\n",
       "  'score': 0.9961076,\n",
       "  'word': 'Steve Jobs',\n",
       "  'start': 115,\n",
       "  'end': 126},\n",
       " {'entity_group': 'PER',\n",
       "  'score': 0.99603254,\n",
       "  'word': 'Steve Wozniak',\n",
       "  'start': 127,\n",
       "  'end': 141},\n",
       " {'entity_group': 'PER',\n",
       "  'score': 0.9957776,\n",
       "  'word': 'Ronald Wayne',\n",
       "  'start': 144,\n",
       "  'end': 157},\n",
       " {'entity_group': 'DATE',\n",
       "  'score': 0.9940308,\n",
       "  'word': 'le 3 janvier 1977 à',\n",
       "  'start': 198,\n",
       "  'end': 218},\n",
       " {'entity_group': 'ORG',\n",
       "  'score': 0.972081,\n",
       "  'word': \"d'Apple Computer\",\n",
       "  'start': 240,\n",
       "  'end': 257},\n",
       " {'entity_group': 'DATE',\n",
       "  'score': 0.9924157,\n",
       "  'word': '30 ans et',\n",
       "  'start': 272,\n",
       "  'end': 282},\n",
       " {'entity_group': 'DATE',\n",
       "  'score': 0.9934852,\n",
       "  'word': 'le 9 janvier 2015.',\n",
       "  'start': 363,\n",
       "  'end': 382}]"
      ]
     },
     "execution_count": 4,
     "metadata": {},
     "output_type": "execute_result"
    }
   ],
   "source": [
    "##### Process text sample (from wikipedia)\n",
    "nlp = pipeline('ner', model=model, tokenizer=tokenizer, aggregation_strategy=\"simple\")\n",
    "nlp(\"Apple est créée le 1er avril 1976 dans le garage de la maison d'enfance de Steve Jobs à Los Altos en Californie par Steve Jobs, Steve Wozniak et Ronald Wayne14, puis constituée sous forme de société le 3 janvier 1977 à l'origine sous le nom d'Apple Computer, mais pour ses 30 ans et pour refléter la diversification de ses produits, le mot « computer » est retiré le 9 janvier 2015.\")\n"
   ]
  },
  {
   "cell_type": "markdown",
   "id": "f97b43b0",
   "metadata": {},
   "source": [
    "## We see that it works well to detect dates in our data"
   ]
  },
  {
   "cell_type": "code",
   "execution_count": 16,
   "id": "77d040db",
   "metadata": {},
   "outputs": [],
   "source": [
    "sentence = \"Réalisation d'une prise de sang chez monsieur Didier Nicolas Prise de \\\n",
    "sang réalisée le 12 février 2022 à 9h15 à domicile, patient en ald merci.\"\n",
    "sentence = \"Ordonnance pour la réalisation d'un test PCR covid-19 à madame gauthier monique. \\\n",
    "Test réalisé à domicile le 28 03 2022 à 9h15 test pris en charge car ordonnance pour \\\n",
    "intervention programmée et patiente au parcours vaccinal complet. Merci.\"\n",
    "sentence = \"Vaccin fait le 11/11/2020 au domicile de la patiente merci.\"\n",
    "sentence = \"Prise de sang, réaliser au cabinet le 10 août à 9h10 dans le cadre du 100% ald.\"\n",
    "sentence = \"Je sang fait au domicile de la patiente le 9 janvier attention, changement de nom, \\\n",
    "reprise du nom de jeune fille au nom de marie-claude, à la place de vader. \\\n",
    "Mutuelle, numériser, merci. Prise de sang fait le 9, merci.\""
   ]
  },
  {
   "cell_type": "code",
   "execution_count": 17,
   "id": "1c903eeb",
   "metadata": {},
   "outputs": [
    {
     "name": "stdout",
     "output_type": "stream",
     "text": [
      "Je sang fait au domicile de la patiente le 9 janvier attention, changement de nom, reprise du nom de jeune fille au nom de marie-claude, à la place de vader. Mutuelle, numériser, merci. Prise de sang fait le 9, merci.\n"
     ]
    },
    {
     "data": {
      "text/plain": [
       "[{'entity_group': 'DATE',\n",
       "  'score': 0.9947311,\n",
       "  'word': 'le 9 janvier',\n",
       "  'start': 39,\n",
       "  'end': 52},\n",
       " {'entity_group': 'PER',\n",
       "  'score': 0.9652222,\n",
       "  'word': 'marie-claude',\n",
       "  'start': 122,\n",
       "  'end': 135},\n",
       " {'entity_group': 'PER',\n",
       "  'score': 0.9703687,\n",
       "  'word': 'vader',\n",
       "  'start': 150,\n",
       "  'end': 156}]"
      ]
     },
     "execution_count": 17,
     "metadata": {},
     "output_type": "execute_result"
    }
   ],
   "source": [
    "print(sentence)\n",
    "nlp(sentence)"
   ]
  },
  {
   "cell_type": "markdown",
   "id": "2e5c02b4",
   "metadata": {},
   "source": [
    "## But it can't detect durations and durations mess up with the date detection\n",
    "But this is expected since this model was not trained to detect durations. It was only trained to detect dates"
   ]
  },
  {
   "cell_type": "code",
   "execution_count": 20,
   "id": "a555aa1a",
   "metadata": {},
   "outputs": [
    {
     "name": "stdout",
     "output_type": "stream",
     "text": [
      "Faire pratiquer par une infirmière à domicile, dimanche et jours fériés compris. Une injection en intramusculaire une fois par jour pendant 6 jours. Ainsi qu'une perfusion longue une fois par jour pendant 5 jours en sous-cutanée. Début des soins le 11 mars 2022 à 18h merci.\n"
     ]
    },
    {
     "data": {
      "text/plain": [
       "[{'entity_group': 'DATE',\n",
       "  'score': 0.96709746,\n",
       "  'word': 'dimanche',\n",
       "  'start': 46,\n",
       "  'end': 55},\n",
       " {'entity_group': 'DATE',\n",
       "  'score': 0.99601805,\n",
       "  'word': '6 jours',\n",
       "  'start': 139,\n",
       "  'end': 147},\n",
       " {'entity_group': 'DATE',\n",
       "  'score': 0.9827482,\n",
       "  'word': '5 jours en',\n",
       "  'start': 204,\n",
       "  'end': 215},\n",
       " {'entity_group': 'DATE',\n",
       "  'score': 0.9877873,\n",
       "  'word': 'le 11 mars 2022 à 18h',\n",
       "  'start': 245,\n",
       "  'end': 267}]"
      ]
     },
     "execution_count": 20,
     "metadata": {},
     "output_type": "execute_result"
    }
   ],
   "source": [
    "sentence = \"Prise de sang tous les trois jours, 2 fois par semaine. Et RDV pour le 5 juin.\"\n",
    "sentence = \"Faire pratiquer par une infirmière à domicile, dimanche et jours fériés compris. Une \\\n",
    "injection en intramusculaire une fois par jour pendant 6 jours. Ainsi qu'une perfusion longue une fois par jour \\\n",
    "pendant 5 jours en sous-cutanée. Début des soins le 11 mars 2022 à 18h merci.\"\n",
    "print(sentence)\n",
    "nlp(sentence)"
   ]
  }
 ],
 "metadata": {
  "kernelspec": {
   "display_name": "Python 3 (ipykernel)",
   "language": "python",
   "name": "python3"
  },
  "language_info": {
   "codemirror_mode": {
    "name": "ipython",
    "version": 3
   },
   "file_extension": ".py",
   "mimetype": "text/x-python",
   "name": "python",
   "nbconvert_exporter": "python",
   "pygments_lexer": "ipython3",
   "version": "3.8.12"
  },
  "toc": {
   "base_numbering": 1,
   "nav_menu": {},
   "number_sections": true,
   "sideBar": true,
   "skip_h1_title": false,
   "title_cell": "Table of Contents",
   "title_sidebar": "Contents",
   "toc_cell": false,
   "toc_position": {},
   "toc_section_display": true,
   "toc_window_display": false
  },
  "varInspector": {
   "cols": {
    "lenName": 16,
    "lenType": 16,
    "lenVar": 40
   },
   "kernels_config": {
    "python": {
     "delete_cmd_postfix": "",
     "delete_cmd_prefix": "del ",
     "library": "var_list.py",
     "varRefreshCmd": "print(var_dic_list())"
    },
    "r": {
     "delete_cmd_postfix": ") ",
     "delete_cmd_prefix": "rm(",
     "library": "var_list.r",
     "varRefreshCmd": "cat(var_dic_list()) "
    }
   },
   "types_to_exclude": [
    "module",
    "function",
    "builtin_function_or_method",
    "instance",
    "_Feature"
   ],
   "window_display": false
  }
 },
 "nbformat": 4,
 "nbformat_minor": 5
}
