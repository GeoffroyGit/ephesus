{
 "cells": [
  {
   "cell_type": "code",
   "execution_count": 1,
   "id": "0b9ae61d",
   "metadata": {},
   "outputs": [
    {
     "name": "stderr",
     "output_type": "stream",
     "text": [
      "2022-06-03 12:34:37.123134: W tensorflow/stream_executor/platform/default/dso_loader.cc:64] Could not load dynamic library 'libcudart.so.11.0'; dlerror: libcudart.so.11.0: cannot open shared object file: No such file or directory\n",
      "2022-06-03 12:34:37.123158: I tensorflow/stream_executor/cuda/cudart_stub.cc:29] Ignore above cudart dlerror if you do not have a GPU set up on your machine.\n"
     ]
    }
   ],
   "source": [
    "import pandas as pd\n",
    "import seaborn as sns\n",
    "from ephesus.data import get_data_json\n",
    "from transformers import AutoTokenizer, AutoModelForTokenClassification, pipeline"
   ]
  },
  {
   "cell_type": "code",
   "execution_count": 2,
   "id": "ef259d0a",
   "metadata": {},
   "outputs": [
    {
     "data": {
      "text/html": [
       "<div>\n",
       "<style scoped>\n",
       "    .dataframe tbody tr th:only-of-type {\n",
       "        vertical-align: middle;\n",
       "    }\n",
       "\n",
       "    .dataframe tbody tr th {\n",
       "        vertical-align: top;\n",
       "    }\n",
       "\n",
       "    .dataframe thead th {\n",
       "        text-align: right;\n",
       "    }\n",
       "</style>\n",
       "<table border=\"1\" class=\"dataframe\">\n",
       "  <thead>\n",
       "    <tr style=\"text-align: right;\">\n",
       "      <th></th>\n",
       "      <th>fichier</th>\n",
       "      <th>translation</th>\n",
       "    </tr>\n",
       "  </thead>\n",
       "  <tbody>\n",
       "    <tr>\n",
       "      <th>0</th>\n",
       "      <td>3e7ffb67-8872-4172-bf18-4fe338ecae3f_64e118fc-...</td>\n",
       "      <td>Nouvelle ordonnance pour madame Vilain, valabl...</td>\n",
       "    </tr>\n",
       "    <tr>\n",
       "      <th>1</th>\n",
       "      <td>2d035c4b-cdfa-4982-87dc-916fe07a0824_50e8d80a-...</td>\n",
       "      <td>Prise de sang réalisée au domicile, ce jour, l...</td>\n",
       "    </tr>\n",
       "    <tr>\n",
       "      <th>2</th>\n",
       "      <td>f0caa21b-c11d-40a3-98ec-e2df3d2b9cc4_3ab44a1b-...</td>\n",
       "      <td>Prise de sang réalisée le 12 mai puis le 9 jui...</td>\n",
       "    </tr>\n",
       "    <tr>\n",
       "      <th>3</th>\n",
       "      <td>a5050600-95ef-43d8-a5fa-a57c791bf843_2af70417-...</td>\n",
       "      <td>Injection intramusculaire cet après-midi, pas ...</td>\n",
       "    </tr>\n",
       "    <tr>\n",
       "      <th>4</th>\n",
       "      <td>9f980dcf-b431-4e67-876f-2b8e288b7900_777f3b22-...</td>\n",
       "      <td>Test PCR remboursable fait le 8 février à 11h1...</td>\n",
       "    </tr>\n",
       "  </tbody>\n",
       "</table>\n",
       "</div>"
      ],
      "text/plain": [
       "                                             fichier  \\\n",
       "0  3e7ffb67-8872-4172-bf18-4fe338ecae3f_64e118fc-...   \n",
       "1  2d035c4b-cdfa-4982-87dc-916fe07a0824_50e8d80a-...   \n",
       "2  f0caa21b-c11d-40a3-98ec-e2df3d2b9cc4_3ab44a1b-...   \n",
       "3  a5050600-95ef-43d8-a5fa-a57c791bf843_2af70417-...   \n",
       "4  9f980dcf-b431-4e67-876f-2b8e288b7900_777f3b22-...   \n",
       "\n",
       "                                         translation  \n",
       "0  Nouvelle ordonnance pour madame Vilain, valabl...  \n",
       "1  Prise de sang réalisée au domicile, ce jour, l...  \n",
       "2  Prise de sang réalisée le 12 mai puis le 9 jui...  \n",
       "3  Injection intramusculaire cet après-midi, pas ...  \n",
       "4  Test PCR remboursable fait le 8 février à 11h1...  "
      ]
     },
     "execution_count": 2,
     "metadata": {},
     "output_type": "execute_result"
    }
   ],
   "source": [
    "df = get_data_json()\n",
    "df.head()"
   ]
  },
  {
   "cell_type": "code",
   "execution_count": 3,
   "id": "2ef744c2",
   "metadata": {},
   "outputs": [],
   "source": [
    "tokenizer = AutoTokenizer.from_pretrained(\"Jean-Baptiste/camembert-ner-with-dates\")\n",
    "model = AutoModelForTokenClassification.from_pretrained(\"Jean-Baptiste/camembert-ner-with-dates\")"
   ]
  },
  {
   "cell_type": "code",
   "execution_count": 4,
   "id": "ac5cc015",
   "metadata": {},
   "outputs": [],
   "source": [
    "nlp = pipeline('ner', model=model, tokenizer=tokenizer, aggregation_strategy=\"simple\")"
   ]
  },
  {
   "cell_type": "code",
   "execution_count": 5,
   "id": "b41b72ba",
   "metadata": {},
   "outputs": [
    {
     "data": {
      "text/html": [
       "<div>\n",
       "<style scoped>\n",
       "    .dataframe tbody tr th:only-of-type {\n",
       "        vertical-align: middle;\n",
       "    }\n",
       "\n",
       "    .dataframe tbody tr th {\n",
       "        vertical-align: top;\n",
       "    }\n",
       "\n",
       "    .dataframe thead th {\n",
       "        text-align: right;\n",
       "    }\n",
       "</style>\n",
       "<table border=\"1\" class=\"dataframe\">\n",
       "  <thead>\n",
       "    <tr style=\"text-align: right;\">\n",
       "      <th></th>\n",
       "      <th>fichier</th>\n",
       "      <th>translation</th>\n",
       "      <th>camembert</th>\n",
       "    </tr>\n",
       "  </thead>\n",
       "  <tbody>\n",
       "    <tr>\n",
       "      <th>223</th>\n",
       "      <td>978eb126-14a0-46cf-bd27-44b6b77cecb7_2f2e740b-...</td>\n",
       "      <td>Pansement tous les 2 jours pendant 20 jours. D...</td>\n",
       "      <td>[{'entity_group': 'DATE', 'score': 0.8874701, ...</td>\n",
       "    </tr>\n",
       "    <tr>\n",
       "      <th>3519</th>\n",
       "      <td>9f980dcf-b431-4e67-876f-2b8e288b7900_5e4fa2f1-...</td>\n",
       "      <td>Monsieur maurice, julien test antigénique le 6...</td>\n",
       "      <td>[{'entity_group': 'PER', 'score': 0.90974444, ...</td>\n",
       "    </tr>\n",
       "    <tr>\n",
       "      <th>2267</th>\n",
       "      <td>a5050600-95ef-43d8-a5fa-a57c791bf843_7c158de8-...</td>\n",
       "      <td>Test antigénique réalisé ce soir au cabinet.</td>\n",
       "      <td>[]</td>\n",
       "    </tr>\n",
       "    <tr>\n",
       "      <th>1481</th>\n",
       "      <td>2d035c4b-cdfa-4982-87dc-916fe07a0824_1808a05d-...</td>\n",
       "      <td>Réalisation d'une prise de sang à monsieur por...</td>\n",
       "      <td>[{'entity_group': 'LOC', 'score': 0.42230144, ...</td>\n",
       "    </tr>\n",
       "    <tr>\n",
       "      <th>2796</th>\n",
       "      <td>2d035c4b-cdfa-4982-87dc-916fe07a0824_0d7a71c6-...</td>\n",
       "      <td>Pansement AMI2 2 fois par semaine le lundi et ...</td>\n",
       "      <td>[{'entity_group': 'MISC', 'score': 0.9655404, ...</td>\n",
       "    </tr>\n",
       "  </tbody>\n",
       "</table>\n",
       "</div>"
      ],
      "text/plain": [
       "                                                fichier  \\\n",
       "223   978eb126-14a0-46cf-bd27-44b6b77cecb7_2f2e740b-...   \n",
       "3519  9f980dcf-b431-4e67-876f-2b8e288b7900_5e4fa2f1-...   \n",
       "2267  a5050600-95ef-43d8-a5fa-a57c791bf843_7c158de8-...   \n",
       "1481  2d035c4b-cdfa-4982-87dc-916fe07a0824_1808a05d-...   \n",
       "2796  2d035c4b-cdfa-4982-87dc-916fe07a0824_0d7a71c6-...   \n",
       "\n",
       "                                            translation  \\\n",
       "223   Pansement tous les 2 jours pendant 20 jours. D...   \n",
       "3519  Monsieur maurice, julien test antigénique le 6...   \n",
       "2267       Test antigénique réalisé ce soir au cabinet.   \n",
       "1481  Réalisation d'une prise de sang à monsieur por...   \n",
       "2796  Pansement AMI2 2 fois par semaine le lundi et ...   \n",
       "\n",
       "                                              camembert  \n",
       "223   [{'entity_group': 'DATE', 'score': 0.8874701, ...  \n",
       "3519  [{'entity_group': 'PER', 'score': 0.90974444, ...  \n",
       "2267                                                 []  \n",
       "1481  [{'entity_group': 'LOC', 'score': 0.42230144, ...  \n",
       "2796  [{'entity_group': 'MISC', 'score': 0.9655404, ...  "
      ]
     },
     "execution_count": 5,
     "metadata": {},
     "output_type": "execute_result"
    }
   ],
   "source": [
    "sample_size = sample_size = 30\n",
    "df_sample = df.sample(sample_size).copy()\n",
    "\n",
    "df_sample[\"camembert\"] = nlp(df_sample[\"translation\"].to_list())\n",
    "df_sample.head()"
   ]
  },
  {
   "cell_type": "code",
   "execution_count": 6,
   "id": "e1ec6d0c",
   "metadata": {},
   "outputs": [],
   "source": [
    "def keep_date_only(entities_serie):\n",
    "    return [[entity.get(\"word\") for entity in entities if entity.get(\"entity_group\", \"empty\") == \"DATE\"] for entities in entities_serie]"
   ]
  },
  {
   "cell_type": "code",
   "execution_count": 7,
   "id": "703a3cea",
   "metadata": {},
   "outputs": [
    {
     "data": {
      "text/html": [
       "<div>\n",
       "<style scoped>\n",
       "    .dataframe tbody tr th:only-of-type {\n",
       "        vertical-align: middle;\n",
       "    }\n",
       "\n",
       "    .dataframe tbody tr th {\n",
       "        vertical-align: top;\n",
       "    }\n",
       "\n",
       "    .dataframe thead th {\n",
       "        text-align: right;\n",
       "    }\n",
       "</style>\n",
       "<table border=\"1\" class=\"dataframe\">\n",
       "  <thead>\n",
       "    <tr style=\"text-align: right;\">\n",
       "      <th></th>\n",
       "      <th>fichier</th>\n",
       "      <th>translation</th>\n",
       "      <th>camembert</th>\n",
       "      <th>date_words</th>\n",
       "    </tr>\n",
       "  </thead>\n",
       "  <tbody>\n",
       "    <tr>\n",
       "      <th>223</th>\n",
       "      <td>978eb126-14a0-46cf-bd27-44b6b77cecb7_2f2e740b-...</td>\n",
       "      <td>Pansement tous les 2 jours pendant 20 jours. D...</td>\n",
       "      <td>[{'entity_group': 'DATE', 'score': 0.8874701, ...</td>\n",
       "      <td>[2 jours pendant 20 jours, le 2 octobre]</td>\n",
       "    </tr>\n",
       "    <tr>\n",
       "      <th>3519</th>\n",
       "      <td>9f980dcf-b431-4e67-876f-2b8e288b7900_5e4fa2f1-...</td>\n",
       "      <td>Monsieur maurice, julien test antigénique le 6...</td>\n",
       "      <td>[{'entity_group': 'PER', 'score': 0.90974444, ...</td>\n",
       "      <td>[à 13h30.]</td>\n",
       "    </tr>\n",
       "    <tr>\n",
       "      <th>2267</th>\n",
       "      <td>a5050600-95ef-43d8-a5fa-a57c791bf843_7c158de8-...</td>\n",
       "      <td>Test antigénique réalisé ce soir au cabinet.</td>\n",
       "      <td>[]</td>\n",
       "      <td>[]</td>\n",
       "    </tr>\n",
       "    <tr>\n",
       "      <th>1481</th>\n",
       "      <td>2d035c4b-cdfa-4982-87dc-916fe07a0824_1808a05d-...</td>\n",
       "      <td>Réalisation d'une prise de sang à monsieur por...</td>\n",
       "      <td>[{'entity_group': 'LOC', 'score': 0.42230144, ...</td>\n",
       "      <td>[le 23 01 2021 à 8h30 à]</td>\n",
       "    </tr>\n",
       "    <tr>\n",
       "      <th>2796</th>\n",
       "      <td>2d035c4b-cdfa-4982-87dc-916fe07a0824_0d7a71c6-...</td>\n",
       "      <td>Pansement AMI2 2 fois par semaine le lundi et ...</td>\n",
       "      <td>[{'entity_group': 'MISC', 'score': 0.9655404, ...</td>\n",
       "      <td>[le lundi et le jeudi, le 25 juillet]</td>\n",
       "    </tr>\n",
       "  </tbody>\n",
       "</table>\n",
       "</div>"
      ],
      "text/plain": [
       "                                                fichier  \\\n",
       "223   978eb126-14a0-46cf-bd27-44b6b77cecb7_2f2e740b-...   \n",
       "3519  9f980dcf-b431-4e67-876f-2b8e288b7900_5e4fa2f1-...   \n",
       "2267  a5050600-95ef-43d8-a5fa-a57c791bf843_7c158de8-...   \n",
       "1481  2d035c4b-cdfa-4982-87dc-916fe07a0824_1808a05d-...   \n",
       "2796  2d035c4b-cdfa-4982-87dc-916fe07a0824_0d7a71c6-...   \n",
       "\n",
       "                                            translation  \\\n",
       "223   Pansement tous les 2 jours pendant 20 jours. D...   \n",
       "3519  Monsieur maurice, julien test antigénique le 6...   \n",
       "2267       Test antigénique réalisé ce soir au cabinet.   \n",
       "1481  Réalisation d'une prise de sang à monsieur por...   \n",
       "2796  Pansement AMI2 2 fois par semaine le lundi et ...   \n",
       "\n",
       "                                              camembert  \\\n",
       "223   [{'entity_group': 'DATE', 'score': 0.8874701, ...   \n",
       "3519  [{'entity_group': 'PER', 'score': 0.90974444, ...   \n",
       "2267                                                 []   \n",
       "1481  [{'entity_group': 'LOC', 'score': 0.42230144, ...   \n",
       "2796  [{'entity_group': 'MISC', 'score': 0.9655404, ...   \n",
       "\n",
       "                                    date_words  \n",
       "223   [2 jours pendant 20 jours, le 2 octobre]  \n",
       "3519                                [à 13h30.]  \n",
       "2267                                        []  \n",
       "1481                  [le 23 01 2021 à 8h30 à]  \n",
       "2796     [le lundi et le jeudi, le 25 juillet]  "
      ]
     },
     "execution_count": 7,
     "metadata": {},
     "output_type": "execute_result"
    }
   ],
   "source": [
    "df_sample[\"date_words\"] = keep_date_only(df_sample[\"camembert\"])\n",
    "df_sample.head()"
   ]
  },
  {
   "cell_type": "code",
   "execution_count": 8,
   "id": "8fb3f094",
   "metadata": {},
   "outputs": [
    {
     "data": {
      "text/html": [
       "<div>\n",
       "<style scoped>\n",
       "    .dataframe tbody tr th:only-of-type {\n",
       "        vertical-align: middle;\n",
       "    }\n",
       "\n",
       "    .dataframe tbody tr th {\n",
       "        vertical-align: top;\n",
       "    }\n",
       "\n",
       "    .dataframe thead th {\n",
       "        text-align: right;\n",
       "    }\n",
       "</style>\n",
       "<table border=\"1\" class=\"dataframe\">\n",
       "  <thead>\n",
       "    <tr style=\"text-align: right;\">\n",
       "      <th></th>\n",
       "      <th>fichier</th>\n",
       "      <th>translation</th>\n",
       "      <th>camembert</th>\n",
       "      <th>date_words</th>\n",
       "      <th>date_words_len</th>\n",
       "    </tr>\n",
       "  </thead>\n",
       "  <tbody>\n",
       "    <tr>\n",
       "      <th>223</th>\n",
       "      <td>978eb126-14a0-46cf-bd27-44b6b77cecb7_2f2e740b-...</td>\n",
       "      <td>Pansement tous les 2 jours pendant 20 jours. D...</td>\n",
       "      <td>[{'entity_group': 'DATE', 'score': 0.8874701, ...</td>\n",
       "      <td>[2 jours pendant 20 jours, le 2 octobre]</td>\n",
       "      <td>2</td>\n",
       "    </tr>\n",
       "    <tr>\n",
       "      <th>3519</th>\n",
       "      <td>9f980dcf-b431-4e67-876f-2b8e288b7900_5e4fa2f1-...</td>\n",
       "      <td>Monsieur maurice, julien test antigénique le 6...</td>\n",
       "      <td>[{'entity_group': 'PER', 'score': 0.90974444, ...</td>\n",
       "      <td>[à 13h30.]</td>\n",
       "      <td>1</td>\n",
       "    </tr>\n",
       "    <tr>\n",
       "      <th>2267</th>\n",
       "      <td>a5050600-95ef-43d8-a5fa-a57c791bf843_7c158de8-...</td>\n",
       "      <td>Test antigénique réalisé ce soir au cabinet.</td>\n",
       "      <td>[]</td>\n",
       "      <td>[]</td>\n",
       "      <td>0</td>\n",
       "    </tr>\n",
       "    <tr>\n",
       "      <th>1481</th>\n",
       "      <td>2d035c4b-cdfa-4982-87dc-916fe07a0824_1808a05d-...</td>\n",
       "      <td>Réalisation d'une prise de sang à monsieur por...</td>\n",
       "      <td>[{'entity_group': 'LOC', 'score': 0.42230144, ...</td>\n",
       "      <td>[le 23 01 2021 à 8h30 à]</td>\n",
       "      <td>1</td>\n",
       "    </tr>\n",
       "    <tr>\n",
       "      <th>2796</th>\n",
       "      <td>2d035c4b-cdfa-4982-87dc-916fe07a0824_0d7a71c6-...</td>\n",
       "      <td>Pansement AMI2 2 fois par semaine le lundi et ...</td>\n",
       "      <td>[{'entity_group': 'MISC', 'score': 0.9655404, ...</td>\n",
       "      <td>[le lundi et le jeudi, le 25 juillet]</td>\n",
       "      <td>2</td>\n",
       "    </tr>\n",
       "  </tbody>\n",
       "</table>\n",
       "</div>"
      ],
      "text/plain": [
       "                                                fichier  \\\n",
       "223   978eb126-14a0-46cf-bd27-44b6b77cecb7_2f2e740b-...   \n",
       "3519  9f980dcf-b431-4e67-876f-2b8e288b7900_5e4fa2f1-...   \n",
       "2267  a5050600-95ef-43d8-a5fa-a57c791bf843_7c158de8-...   \n",
       "1481  2d035c4b-cdfa-4982-87dc-916fe07a0824_1808a05d-...   \n",
       "2796  2d035c4b-cdfa-4982-87dc-916fe07a0824_0d7a71c6-...   \n",
       "\n",
       "                                            translation  \\\n",
       "223   Pansement tous les 2 jours pendant 20 jours. D...   \n",
       "3519  Monsieur maurice, julien test antigénique le 6...   \n",
       "2267       Test antigénique réalisé ce soir au cabinet.   \n",
       "1481  Réalisation d'une prise de sang à monsieur por...   \n",
       "2796  Pansement AMI2 2 fois par semaine le lundi et ...   \n",
       "\n",
       "                                              camembert  \\\n",
       "223   [{'entity_group': 'DATE', 'score': 0.8874701, ...   \n",
       "3519  [{'entity_group': 'PER', 'score': 0.90974444, ...   \n",
       "2267                                                 []   \n",
       "1481  [{'entity_group': 'LOC', 'score': 0.42230144, ...   \n",
       "2796  [{'entity_group': 'MISC', 'score': 0.9655404, ...   \n",
       "\n",
       "                                    date_words  date_words_len  \n",
       "223   [2 jours pendant 20 jours, le 2 octobre]               2  \n",
       "3519                                [à 13h30.]               1  \n",
       "2267                                        []               0  \n",
       "1481                  [le 23 01 2021 à 8h30 à]               1  \n",
       "2796     [le lundi et le jeudi, le 25 juillet]               2  "
      ]
     },
     "execution_count": 8,
     "metadata": {},
     "output_type": "execute_result"
    }
   ],
   "source": [
    "df_sample[\"date_words_len\"] = df_sample[\"date_words\"].map(len)\n",
    "df_sample.head()"
   ]
  },
  {
   "cell_type": "code",
   "execution_count": 9,
   "id": "ca8fb02b",
   "metadata": {},
   "outputs": [
    {
     "data": {
      "image/png": "[encoded data removed]",
      "text/plain": [
       "<Figure size 432x288 with 1 Axes>"
      ]
     },
     "metadata": {
      "needs_background": "light"
     },
     "output_type": "display_data"
    }
   ],
   "source": [
    "sns.histplot(data=df_sample, x=\"date_words_len\");"
   ]
  },
  {
   "cell_type": "code",
   "execution_count": 10,
   "id": "b9da4209",
   "metadata": {},
   "outputs": [
    {
     "data": {
      "text/plain": [
       "(30, 5)"
      ]
     },
     "execution_count": 10,
     "metadata": {},
     "output_type": "execute_result"
    }
   ],
   "source": [
    "df_sample.shape"
   ]
  },
  {
   "cell_type": "markdown",
   "id": "81681015",
   "metadata": {},
   "source": [
    "## let's see if we're correct when we don't detect any date"
   ]
  },
  {
   "cell_type": "markdown",
   "id": "1c61d093",
   "metadata": {},
   "source": [
    "On voit qu'on ne détecte pas les \"ce jour\", \"ce matin\", \"cet apres-midi\", etc"
   ]
  },
  {
   "cell_type": "code",
   "execution_count": 11,
   "id": "7a6f6746",
   "metadata": {},
   "outputs": [
    {
     "name": "stdout",
     "output_type": "stream",
     "text": [
      "['Test antigénique réalisé ce soir au cabinet.']\n",
      "['Test antigénique réalisé ce matin à domicile.']\n",
      "[\"Prise de sang au cabinet, c'est que plus mutuel, pour Sylvie Caillol.\"]\n",
      "['Test antigénique réalisé cet après-midi au cabinet.']\n",
      "['Test antigénique réalisé ce midi à domicile.']\n",
      "['PCR, PCR réalisé ce jour à domicile, effectuera au tiers temps pour emeline.']\n"
     ]
    }
   ],
   "source": [
    "mask = df_sample[\"date_words_len\"] == 0\n",
    "df_zero = df_sample[mask][[\"translation\"]]\n",
    "for i in range(len(df_zero)):\n",
    "    print(df_zero.iloc[i].to_list())"
   ]
  },
  {
   "cell_type": "markdown",
   "id": "0f84cb09",
   "metadata": {},
   "source": [
    "## let's see if we're correct when we detect one date only"
   ]
  },
  {
   "cell_type": "markdown",
   "id": "b8343e98",
   "metadata": {},
   "source": [
    "On voit que ca fonctionne bien : il n'y avait en effet qu'une date dans le message et on l'a bien detectee"
   ]
  },
  {
   "cell_type": "code",
   "execution_count": 12,
   "id": "fd81b294",
   "metadata": {},
   "outputs": [
    {
     "name": "stdout",
     "output_type": "stream",
     "text": [
      "[\"Monsieur maurice, julien test antigénique le 611 2000 vingt-et-un pas de zone au cabinet à 13h30. Pas de prise en charge. Soins payés dans l'intégralité par chèque.\", ['à 13h30.']]\n",
      "[\"Réalisation d'une prise de sang à monsieur porte et 1000. Prise de sang réalisée le 23 01 2021 à 8h30 à domicile. Patient miley, merci.\", ['le 23 01 2021 à 8h30 à']]\n",
      "['Test-PCR réalisé à domicile le jeudi 3 février à 10h30. ', ['le jeudi 3 février à 10h30.']]\n",
      "['Sous-cutanée fait que 25 janvier à 11h au domicile, tournee une.', ['25 janvier à 11h']]\n",
      "['Test antigénique au cabinet le 27 avril à 14h30 par amandine.', ['le 27 avril à 14h30']]\n",
      "['Prise de sang et test pcr covid-19, effectuez le 15 février, 10h30 à domicile. ', ['le 15 février, 10h30 à']]\n",
      "['Test PCR réalisé le 11 janvier 2022.', ['le 11 janvier 2022']]\n",
      "['Prise de sang réalisé le 5 avril 2022 à 6h45 à domicile par aline.', ['le 5 avril 2022 à 6h45 à']]\n",
      "['Prise de sang et test PCR avec ordonnance à domicile réalisé ce jour à 8h.', ['à 8h']]\n",
      "['10h.', ['10h']]\n",
      "['Donc sous-cutanée, suite chimio donc le 10 juillet à 15h à domicile. Plus 5 km.', ['le 10 juillet à 15h à']]\n",
      "['Débuter soin le 3 février.', ['le 3 février']]\n",
      "['Test PCR à domicile le mercredi 2 mars à 10h55 par amandine.', ['le mercredi 2 mars à 10h55']]\n",
      "['Test PCR le 29 décembre.', ['le 29 décembre']]\n",
      "[\"Test dessert pour madame Didier Nicole, c'est le mardi 1 février 2022.\", ['le mardi 1 février 2022']]\n"
     ]
    }
   ],
   "source": [
    "mask = df_sample[\"date_words_len\"] == 1\n",
    "df_one = df_sample[mask][[\"translation\", \"date_words\"]]\n",
    "for i in range(len(df_one)):\n",
    "    print(df_one.iloc[i].to_list())"
   ]
  },
  {
   "cell_type": "markdown",
   "id": "6bca64c2",
   "metadata": {},
   "source": [
    "## let's see if we're correct when we detect exactly two dates"
   ]
  },
  {
   "cell_type": "code",
   "execution_count": 13,
   "id": "3dafd5bf",
   "metadata": {},
   "outputs": [
    {
     "name": "stdout",
     "output_type": "stream",
     "text": [
      "['Pansement tous les 2 jours pendant 20 jours. Début le 2 octobre. Merci.', ['2 jours pendant 20 jours', 'le 2 octobre']]\n",
      "['Pansement AMI2 2 fois par semaine le lundi et le jeudi 10h-10h30. Ablation des fils le 25 juillet, moins de 10 fils au domicile du patient.', ['le lundi et le jeudi', 'le 25 juillet']]\n",
      "[\"Prise de sang, prise d'analyse d'urine réalisés au domicile du patient le 19 février à 8h15. Merci de compter un IFK 8-4.\", ['le 19 février à 8h15.', '-4']]\n",
      "['Monsieur manière, sylvain. Test épaissir le 31 2022 par Aubry Sandra à 10h15 au cabinet. Pas de zone. Soit importe, exonéré, car personne vaccinée et présentant des symptômes.', ['le 31 2022', 'à 10h15']]\n",
      "['Prise de sang réalisée le 14 novembre à domicile à 7h30.', ['le 14 novembre à', 'à 7h30.']]\n",
      "['Donc prise de sang, effectué le 6 décembre pour monsieur joly, gérard, à domicile vers 8h.', ['le 6 décembre', '8h']]\n",
      "[\"Réalisation d'une prise de sang happy axel le 20 4012 1022 à domicile, à 11h. Merci.\", ['20 4012 1022 à', 'à 11h']]\n"
     ]
    }
   ],
   "source": [
    "mask = df_sample[\"date_words_len\"] == 2\n",
    "df_two = df_sample[mask][[\"translation\", \"date_words\"]]\n",
    "for i in range(len(df_two)):\n",
    "    print(df_two.iloc[i].to_list())"
   ]
  }
 ],
 "metadata": {
  "kernelspec": {
   "display_name": "Python 3 (ipykernel)",
   "language": "python",
   "name": "python3"
  },
  "language_info": {
   "codemirror_mode": {
    "name": "ipython",
    "version": 3
   },
   "file_extension": ".py",
   "mimetype": "text/x-python",
   "name": "python",
   "nbconvert_exporter": "python",
   "pygments_lexer": "ipython3",
   "version": "3.8.12"
  },
  "toc": {
   "base_numbering": 1,
   "nav_menu": {},
   "number_sections": true,
   "sideBar": true,
   "skip_h1_title": false,
   "title_cell": "Table of Contents",
   "title_sidebar": "Contents",
   "toc_cell": false,
   "toc_position": {},
   "toc_section_display": true,
   "toc_window_display": false
  },
  "varInspector": {
   "cols": {
    "lenName": 16,
    "lenType": 16,
    "lenVar": 40
   },
   "kernels_config": {
    "python": {
     "delete_cmd_postfix": "",
     "delete_cmd_prefix": "del ",
     "library": "var_list.py",
     "varRefreshCmd": "print(var_dic_list())"
    },
    "r": {
     "delete_cmd_postfix": ") ",
     "delete_cmd_prefix": "rm(",
     "library": "var_list.r",
     "varRefreshCmd": "cat(var_dic_list()) "
    }
   },
   "types_to_exclude": [
    "module",
    "function",
    "builtin_function_or_method",
    "instance",
    "_Feature"
   ],
   "window_display": false
  }
 },
 "nbformat": 4,
 "nbformat_minor": 5
}
