{
 "cells": [
  {
   "cell_type": "code",
   "execution_count": 1,
   "id": "0b9ae61d",
   "metadata": {},
   "outputs": [],
   "source": [
    "import pandas as pd\n",
    "import seaborn as sns\n",
    "from ephesus.data import get_data_json\n",
    "from transformers import AutoTokenizer, AutoModelForTokenClassification, pipeline"
   ]
  },
  {
   "cell_type": "code",
   "execution_count": 2,
   "id": "ef259d0a",
   "metadata": {},
   "outputs": [
    {
     "data": {
      "text/html": [
       "<div>\n",
       "<style scoped>\n",
       "    .dataframe tbody tr th:only-of-type {\n",
       "        vertical-align: middle;\n",
       "    }\n",
       "\n",
       "    .dataframe tbody tr th {\n",
       "        vertical-align: top;\n",
       "    }\n",
       "\n",
       "    .dataframe thead th {\n",
       "        text-align: right;\n",
       "    }\n",
       "</style>\n",
       "<table border=\"1\" class=\"dataframe\">\n",
       "  <thead>\n",
       "    <tr style=\"text-align: right;\">\n",
       "      <th></th>\n",
       "      <th>fichier</th>\n",
       "      <th>translation</th>\n",
       "    </tr>\n",
       "  </thead>\n",
       "  <tbody>\n",
       "    <tr>\n",
       "      <th>0</th>\n",
       "      <td>3e7ffb67-8872-4172-bf18-4fe338ecae3f_64e118fc-...</td>\n",
       "      <td>Nouvelle ordonnance pour madame Vilain, valabl...</td>\n",
       "    </tr>\n",
       "    <tr>\n",
       "      <th>1</th>\n",
       "      <td>2d035c4b-cdfa-4982-87dc-916fe07a0824_50e8d80a-...</td>\n",
       "      <td>Prise de sang réalisée au domicile, ce jour, l...</td>\n",
       "    </tr>\n",
       "    <tr>\n",
       "      <th>2</th>\n",
       "      <td>f0caa21b-c11d-40a3-98ec-e2df3d2b9cc4_3ab44a1b-...</td>\n",
       "      <td>Prise de sang réalisée le 12 mai puis le 9 jui...</td>\n",
       "    </tr>\n",
       "    <tr>\n",
       "      <th>3</th>\n",
       "      <td>a5050600-95ef-43d8-a5fa-a57c791bf843_2af70417-...</td>\n",
       "      <td>Injection intramusculaire cet après-midi, pas ...</td>\n",
       "    </tr>\n",
       "    <tr>\n",
       "      <th>4</th>\n",
       "      <td>9f980dcf-b431-4e67-876f-2b8e288b7900_777f3b22-...</td>\n",
       "      <td>Test PCR remboursable fait le 8 février à 11h1...</td>\n",
       "    </tr>\n",
       "  </tbody>\n",
       "</table>\n",
       "</div>"
      ],
      "text/plain": [
       "                                             fichier  \\\n",
       "0  3e7ffb67-8872-4172-bf18-4fe338ecae3f_64e118fc-...   \n",
       "1  2d035c4b-cdfa-4982-87dc-916fe07a0824_50e8d80a-...   \n",
       "2  f0caa21b-c11d-40a3-98ec-e2df3d2b9cc4_3ab44a1b-...   \n",
       "3  a5050600-95ef-43d8-a5fa-a57c791bf843_2af70417-...   \n",
       "4  9f980dcf-b431-4e67-876f-2b8e288b7900_777f3b22-...   \n",
       "\n",
       "                                         translation  \n",
       "0  Nouvelle ordonnance pour madame Vilain, valabl...  \n",
       "1  Prise de sang réalisée au domicile, ce jour, l...  \n",
       "2  Prise de sang réalisée le 12 mai puis le 9 jui...  \n",
       "3  Injection intramusculaire cet après-midi, pas ...  \n",
       "4  Test PCR remboursable fait le 8 février à 11h1...  "
      ]
     },
     "execution_count": 2,
     "metadata": {},
     "output_type": "execute_result"
    }
   ],
   "source": [
    "df = get_data_json()\n",
    "df.head()"
   ]
  },
  {
   "cell_type": "code",
   "execution_count": 3,
   "id": "2ef744c2",
   "metadata": {},
   "outputs": [],
   "source": [
    "tokenizer = AutoTokenizer.from_pretrained(\"Jean-Baptiste/camembert-ner-with-dates\")\n",
    "model = AutoModelForTokenClassification.from_pretrained(\"Jean-Baptiste/camembert-ner-with-dates\")"
   ]
  },
  {
   "cell_type": "code",
   "execution_count": 4,
   "id": "ac5cc015",
   "metadata": {},
   "outputs": [],
   "source": [
    "nlp = pipeline('ner', model=model, tokenizer=tokenizer, aggregation_strategy=\"simple\")"
   ]
  },
  {
   "cell_type": "code",
   "execution_count": 9,
   "id": "b41b72ba",
   "metadata": {},
   "outputs": [
    {
     "data": {
      "text/html": [
       "<div>\n",
       "<style scoped>\n",
       "    .dataframe tbody tr th:only-of-type {\n",
       "        vertical-align: middle;\n",
       "    }\n",
       "\n",
       "    .dataframe tbody tr th {\n",
       "        vertical-align: top;\n",
       "    }\n",
       "\n",
       "    .dataframe thead th {\n",
       "        text-align: right;\n",
       "    }\n",
       "</style>\n",
       "<table border=\"1\" class=\"dataframe\">\n",
       "  <thead>\n",
       "    <tr style=\"text-align: right;\">\n",
       "      <th></th>\n",
       "      <th>fichier</th>\n",
       "      <th>translation</th>\n",
       "      <th>camembert</th>\n",
       "    </tr>\n",
       "  </thead>\n",
       "  <tbody>\n",
       "    <tr>\n",
       "      <th>669</th>\n",
       "      <td>9d42ce6f-8537-49a9-a121-c8ae1dc7cda8_8dc2f00b-...</td>\n",
       "      <td>Bon sang, prélèvement des selles par isabelle ...</td>\n",
       "      <td>[{'entity_group': 'PER', 'score': 0.75985837, ...</td>\n",
       "    </tr>\n",
       "    <tr>\n",
       "      <th>3378</th>\n",
       "      <td>a5050600-95ef-43d8-a5fa-a57c791bf843_705bf562-...</td>\n",
       "      <td>Test antigénique réalisé ce soir à domicile se...</td>\n",
       "      <td>[]</td>\n",
       "    </tr>\n",
       "    <tr>\n",
       "      <th>1558</th>\n",
       "      <td>2d035c4b-cdfa-4982-87dc-916fe07a0824_2738acaf-...</td>\n",
       "      <td>Réalisation d'un prélèvement nasopharyngé à mo...</td>\n",
       "      <td>[{'entity_group': 'PER', 'score': 0.88512313, ...</td>\n",
       "    </tr>\n",
       "    <tr>\n",
       "      <th>1824</th>\n",
       "      <td>3e7ffb67-8872-4172-bf18-4fe338ecae3f_1fb436e2-...</td>\n",
       "      <td>Injection intramusculaire réalisé le 27 août à...</td>\n",
       "      <td>[{'entity_group': 'DATE', 'score': 0.99288464,...</td>\n",
       "    </tr>\n",
       "    <tr>\n",
       "      <th>1720</th>\n",
       "      <td>a5050600-95ef-43d8-a5fa-a57c791bf843_09327b73-...</td>\n",
       "      <td>Test antigénique réalisé cet après-midi à domi...</td>\n",
       "      <td>[]</td>\n",
       "    </tr>\n",
       "  </tbody>\n",
       "</table>\n",
       "</div>"
      ],
      "text/plain": [
       "                                                fichier  \\\n",
       "669   9d42ce6f-8537-49a9-a121-c8ae1dc7cda8_8dc2f00b-...   \n",
       "3378  a5050600-95ef-43d8-a5fa-a57c791bf843_705bf562-...   \n",
       "1558  2d035c4b-cdfa-4982-87dc-916fe07a0824_2738acaf-...   \n",
       "1824  3e7ffb67-8872-4172-bf18-4fe338ecae3f_1fb436e2-...   \n",
       "1720  a5050600-95ef-43d8-a5fa-a57c791bf843_09327b73-...   \n",
       "\n",
       "                                            translation  \\\n",
       "669   Bon sang, prélèvement des selles par isabelle ...   \n",
       "3378  Test antigénique réalisé ce soir à domicile se...   \n",
       "1558  Réalisation d'un prélèvement nasopharyngé à mo...   \n",
       "1824  Injection intramusculaire réalisé le 27 août à...   \n",
       "1720  Test antigénique réalisé cet après-midi à domi...   \n",
       "\n",
       "                                              camembert  \n",
       "669   [{'entity_group': 'PER', 'score': 0.75985837, ...  \n",
       "3378                                                 []  \n",
       "1558  [{'entity_group': 'PER', 'score': 0.88512313, ...  \n",
       "1824  [{'entity_group': 'DATE', 'score': 0.99288464,...  \n",
       "1720                                                 []  "
      ]
     },
     "execution_count": 9,
     "metadata": {},
     "output_type": "execute_result"
    }
   ],
   "source": [
    "sample_size = sample_size = 30\n",
    "df_sample = df.sample(sample_size).copy()\n",
    "\n",
    "df_sample[\"camembert\"] = nlp(df_sample[\"translation\"].to_list())\n",
    "df_sample.head()"
   ]
  },
  {
   "cell_type": "code",
   "execution_count": 10,
   "id": "e1ec6d0c",
   "metadata": {},
   "outputs": [],
   "source": [
    "def keep_date_only(entities_serie):\n",
    "    return [[entity.get(\"word\") for entity in entities if entity.get(\"entity_group\", \"empty\") == \"DATE\"] for entities in entities_serie]"
   ]
  },
  {
   "cell_type": "code",
   "execution_count": 11,
   "id": "703a3cea",
   "metadata": {},
   "outputs": [
    {
     "data": {
      "text/html": [
       "<div>\n",
       "<style scoped>\n",
       "    .dataframe tbody tr th:only-of-type {\n",
       "        vertical-align: middle;\n",
       "    }\n",
       "\n",
       "    .dataframe tbody tr th {\n",
       "        vertical-align: top;\n",
       "    }\n",
       "\n",
       "    .dataframe thead th {\n",
       "        text-align: right;\n",
       "    }\n",
       "</style>\n",
       "<table border=\"1\" class=\"dataframe\">\n",
       "  <thead>\n",
       "    <tr style=\"text-align: right;\">\n",
       "      <th></th>\n",
       "      <th>fichier</th>\n",
       "      <th>translation</th>\n",
       "      <th>camembert</th>\n",
       "      <th>date_words</th>\n",
       "    </tr>\n",
       "  </thead>\n",
       "  <tbody>\n",
       "    <tr>\n",
       "      <th>669</th>\n",
       "      <td>9d42ce6f-8537-49a9-a121-c8ae1dc7cda8_8dc2f00b-...</td>\n",
       "      <td>Bon sang, prélèvement des selles par isabelle ...</td>\n",
       "      <td>[{'entity_group': 'PER', 'score': 0.75985837, ...</td>\n",
       "      <td>[]</td>\n",
       "    </tr>\n",
       "    <tr>\n",
       "      <th>3378</th>\n",
       "      <td>a5050600-95ef-43d8-a5fa-a57c791bf843_705bf562-...</td>\n",
       "      <td>Test antigénique réalisé ce soir à domicile se...</td>\n",
       "      <td>[]</td>\n",
       "      <td>[]</td>\n",
       "    </tr>\n",
       "    <tr>\n",
       "      <th>1558</th>\n",
       "      <td>2d035c4b-cdfa-4982-87dc-916fe07a0824_2738acaf-...</td>\n",
       "      <td>Réalisation d'un prélèvement nasopharyngé à mo...</td>\n",
       "      <td>[{'entity_group': 'PER', 'score': 0.88512313, ...</td>\n",
       "      <td>[le 709 2021 à 7h15]</td>\n",
       "    </tr>\n",
       "    <tr>\n",
       "      <th>1824</th>\n",
       "      <td>3e7ffb67-8872-4172-bf18-4fe338ecae3f_1fb436e2-...</td>\n",
       "      <td>Injection intramusculaire réalisé le 27 août à...</td>\n",
       "      <td>[{'entity_group': 'DATE', 'score': 0.99288464,...</td>\n",
       "      <td>[le 27 août à 11h]</td>\n",
       "    </tr>\n",
       "    <tr>\n",
       "      <th>1720</th>\n",
       "      <td>a5050600-95ef-43d8-a5fa-a57c791bf843_09327b73-...</td>\n",
       "      <td>Test antigénique réalisé cet après-midi à domi...</td>\n",
       "      <td>[]</td>\n",
       "      <td>[]</td>\n",
       "    </tr>\n",
       "  </tbody>\n",
       "</table>\n",
       "</div>"
      ],
      "text/plain": [
       "                                                fichier  \\\n",
       "669   9d42ce6f-8537-49a9-a121-c8ae1dc7cda8_8dc2f00b-...   \n",
       "3378  a5050600-95ef-43d8-a5fa-a57c791bf843_705bf562-...   \n",
       "1558  2d035c4b-cdfa-4982-87dc-916fe07a0824_2738acaf-...   \n",
       "1824  3e7ffb67-8872-4172-bf18-4fe338ecae3f_1fb436e2-...   \n",
       "1720  a5050600-95ef-43d8-a5fa-a57c791bf843_09327b73-...   \n",
       "\n",
       "                                            translation  \\\n",
       "669   Bon sang, prélèvement des selles par isabelle ...   \n",
       "3378  Test antigénique réalisé ce soir à domicile se...   \n",
       "1558  Réalisation d'un prélèvement nasopharyngé à mo...   \n",
       "1824  Injection intramusculaire réalisé le 27 août à...   \n",
       "1720  Test antigénique réalisé cet après-midi à domi...   \n",
       "\n",
       "                                              camembert            date_words  \n",
       "669   [{'entity_group': 'PER', 'score': 0.75985837, ...                    []  \n",
       "3378                                                 []                    []  \n",
       "1558  [{'entity_group': 'PER', 'score': 0.88512313, ...  [le 709 2021 à 7h15]  \n",
       "1824  [{'entity_group': 'DATE', 'score': 0.99288464,...    [le 27 août à 11h]  \n",
       "1720                                                 []                    []  "
      ]
     },
     "execution_count": 11,
     "metadata": {},
     "output_type": "execute_result"
    }
   ],
   "source": [
    "df_sample[\"date_words\"] = keep_date_only(df_sample[\"camembert\"])\n",
    "df_sample.head()"
   ]
  },
  {
   "cell_type": "code",
   "execution_count": 12,
   "id": "8fb3f094",
   "metadata": {},
   "outputs": [
    {
     "data": {
      "text/html": [
       "<div>\n",
       "<style scoped>\n",
       "    .dataframe tbody tr th:only-of-type {\n",
       "        vertical-align: middle;\n",
       "    }\n",
       "\n",
       "    .dataframe tbody tr th {\n",
       "        vertical-align: top;\n",
       "    }\n",
       "\n",
       "    .dataframe thead th {\n",
       "        text-align: right;\n",
       "    }\n",
       "</style>\n",
       "<table border=\"1\" class=\"dataframe\">\n",
       "  <thead>\n",
       "    <tr style=\"text-align: right;\">\n",
       "      <th></th>\n",
       "      <th>fichier</th>\n",
       "      <th>translation</th>\n",
       "      <th>camembert</th>\n",
       "      <th>date_words</th>\n",
       "      <th>date_words_len</th>\n",
       "    </tr>\n",
       "  </thead>\n",
       "  <tbody>\n",
       "    <tr>\n",
       "      <th>669</th>\n",
       "      <td>9d42ce6f-8537-49a9-a121-c8ae1dc7cda8_8dc2f00b-...</td>\n",
       "      <td>Bon sang, prélèvement des selles par isabelle ...</td>\n",
       "      <td>[{'entity_group': 'PER', 'score': 0.75985837, ...</td>\n",
       "      <td>[]</td>\n",
       "      <td>0</td>\n",
       "    </tr>\n",
       "    <tr>\n",
       "      <th>3378</th>\n",
       "      <td>a5050600-95ef-43d8-a5fa-a57c791bf843_705bf562-...</td>\n",
       "      <td>Test antigénique réalisé ce soir à domicile se...</td>\n",
       "      <td>[]</td>\n",
       "      <td>[]</td>\n",
       "      <td>0</td>\n",
       "    </tr>\n",
       "    <tr>\n",
       "      <th>1558</th>\n",
       "      <td>2d035c4b-cdfa-4982-87dc-916fe07a0824_2738acaf-...</td>\n",
       "      <td>Réalisation d'un prélèvement nasopharyngé à mo...</td>\n",
       "      <td>[{'entity_group': 'PER', 'score': 0.88512313, ...</td>\n",
       "      <td>[le 709 2021 à 7h15]</td>\n",
       "      <td>1</td>\n",
       "    </tr>\n",
       "    <tr>\n",
       "      <th>1824</th>\n",
       "      <td>3e7ffb67-8872-4172-bf18-4fe338ecae3f_1fb436e2-...</td>\n",
       "      <td>Injection intramusculaire réalisé le 27 août à...</td>\n",
       "      <td>[{'entity_group': 'DATE', 'score': 0.99288464,...</td>\n",
       "      <td>[le 27 août à 11h]</td>\n",
       "      <td>1</td>\n",
       "    </tr>\n",
       "    <tr>\n",
       "      <th>1720</th>\n",
       "      <td>a5050600-95ef-43d8-a5fa-a57c791bf843_09327b73-...</td>\n",
       "      <td>Test antigénique réalisé cet après-midi à domi...</td>\n",
       "      <td>[]</td>\n",
       "      <td>[]</td>\n",
       "      <td>0</td>\n",
       "    </tr>\n",
       "  </tbody>\n",
       "</table>\n",
       "</div>"
      ],
      "text/plain": [
       "                                                fichier  \\\n",
       "669   9d42ce6f-8537-49a9-a121-c8ae1dc7cda8_8dc2f00b-...   \n",
       "3378  a5050600-95ef-43d8-a5fa-a57c791bf843_705bf562-...   \n",
       "1558  2d035c4b-cdfa-4982-87dc-916fe07a0824_2738acaf-...   \n",
       "1824  3e7ffb67-8872-4172-bf18-4fe338ecae3f_1fb436e2-...   \n",
       "1720  a5050600-95ef-43d8-a5fa-a57c791bf843_09327b73-...   \n",
       "\n",
       "                                            translation  \\\n",
       "669   Bon sang, prélèvement des selles par isabelle ...   \n",
       "3378  Test antigénique réalisé ce soir à domicile se...   \n",
       "1558  Réalisation d'un prélèvement nasopharyngé à mo...   \n",
       "1824  Injection intramusculaire réalisé le 27 août à...   \n",
       "1720  Test antigénique réalisé cet après-midi à domi...   \n",
       "\n",
       "                                              camembert            date_words  \\\n",
       "669   [{'entity_group': 'PER', 'score': 0.75985837, ...                    []   \n",
       "3378                                                 []                    []   \n",
       "1558  [{'entity_group': 'PER', 'score': 0.88512313, ...  [le 709 2021 à 7h15]   \n",
       "1824  [{'entity_group': 'DATE', 'score': 0.99288464,...    [le 27 août à 11h]   \n",
       "1720                                                 []                    []   \n",
       "\n",
       "      date_words_len  \n",
       "669                0  \n",
       "3378               0  \n",
       "1558               1  \n",
       "1824               1  \n",
       "1720               0  "
      ]
     },
     "execution_count": 12,
     "metadata": {},
     "output_type": "execute_result"
    }
   ],
   "source": [
    "df_sample[\"date_words_len\"] = df_sample[\"date_words\"].map(len)\n",
    "df_sample.head()"
   ]
  },
  {
   "cell_type": "code",
   "execution_count": 13,
   "id": "ca8fb02b",
   "metadata": {},
   "outputs": [
    {
     "data": {
      "image/png": "[encoded data removed]",
      "text/plain": [
       "<Figure size 432x288 with 1 Axes>"
      ]
     },
     "metadata": {
      "needs_background": "light"
     },
     "output_type": "display_data"
    }
   ],
   "source": [
    "sns.histplot(data=df_sample, x=\"date_words_len\");"
   ]
  },
  {
   "cell_type": "code",
   "execution_count": 14,
   "id": "b9da4209",
   "metadata": {},
   "outputs": [
    {
     "data": {
      "text/plain": [
       "(30, 5)"
      ]
     },
     "execution_count": 14,
     "metadata": {},
     "output_type": "execute_result"
    }
   ],
   "source": [
    "df_sample.shape"
   ]
  },
  {
   "cell_type": "markdown",
   "id": "81681015",
   "metadata": {},
   "source": [
    "## let's see if we're correct when we don't detect any date"
   ]
  },
  {
   "cell_type": "markdown",
   "id": "1c61d093",
   "metadata": {},
   "source": [
    "On voit qu'on ne détecte pas les \"ce jour\", \"ce matin\", \"cet apres-midi\", etc"
   ]
  },
  {
   "cell_type": "code",
   "execution_count": 16,
   "id": "7a6f6746",
   "metadata": {},
   "outputs": [
    {
     "name": "stdout",
     "output_type": "stream",
     "text": [
      "['Bon sang, prélèvement des selles par isabelle à domicile.']\n",
      "['Test antigénique réalisé ce soir à domicile selon ordonnance.']\n",
      "['Test antigénique réalisé cet après-midi à domicile pas de frais de déplacement.']\n",
      "['Pansement simple à domicile. Arena belo']\n",
      "['Soit fait ce jour par pauline sur le remplacement de christelle.']\n",
      "['Ordonnance pour le renouvellement des soins de monsieur Didier Nicolas, soit un programme et comme habituellement patient en ald, merci.']\n",
      "['Test PCR réalisé ce matin à domicile. Pas de frais de déplacement.']\n",
      "['Test, le PCR air réalisé ce matin au cabinet.']\n"
     ]
    }
   ],
   "source": [
    "mask = df_sample[\"date_words_len\"] == 0\n",
    "df_zero = df_sample[mask][[\"translation\"]]\n",
    "for i in range(len(df_zero)):\n",
    "    print(df_zero.iloc[i].to_list())"
   ]
  },
  {
   "cell_type": "markdown",
   "id": "0f84cb09",
   "metadata": {},
   "source": [
    "## let's see if we're correct when we detect one date only"
   ]
  },
  {
   "cell_type": "markdown",
   "id": "b8343e98",
   "metadata": {},
   "source": [
    "On voit que ca fonctionne bien : il n'y avait en effet qu'une date dans le message et on l'a bien detectee"
   ]
  },
  {
   "cell_type": "code",
   "execution_count": 17,
   "id": "fd81b294",
   "metadata": {},
   "outputs": [
    {
     "name": "stdout",
     "output_type": "stream",
     "text": [
      "[\"Réalisation d'un prélèvement nasopharyngé à monsieur gatignon enzo. Prélèvement réalisé le 709 2021 à 7h15 au cabinet pour test PCR covid-19 merci.\", ['le 709 2021 à 7h15']]\n",
      "['Injection intramusculaire réalisé le 27 août à 11h. Ne pas compter de domicile.', ['le 27 août à 11h']]\n",
      "['Prise de sang le 24 septembre.', ['le 24 septembre']]\n",
      "['Prise de sang réalisée le 8 novembre à 9h à domicile. ', ['le 8 novembre à 9h à']]\n",
      "[\"Félix jean, test PCR ce jour, Aubry Sandra, en même temps qu'elle soins à 8h.\", ['à 8h']]\n",
      "['Prise de sang faite ce jour à domicile à 7h06. Pour une patiente en ald.', ['à 7h06']]\n",
      "['Prise de sang réalisée le 21 janvier en même temps que la sous-cutanée.', ['le 21 janvier en']]\n",
      "['Vaccin fait le 11/11/2020 au domicile de la patiente merci.', ['le 11/11/2020 au']]\n",
      "['Test PCR réalisé à domicile ce jour le 9 mars 2022 à 11h10 par aline.', ['le 9 mars 2022 à 11h10']]\n",
      "['Test pcr pour madame Didier Denise fait le samedi 15 janvier 2022 par sabrina.', ['le samedi 15 janvier 2022']]\n",
      "['Ordonnance pour la réalisation de glycémie capillaire 3 fois par jour pour surveillance du diabète à monsieur Didier Nicolas patient en ald donc à débuter à partir du 3 décembre 2021 à domicile donc à programmer 3 passages par jour. 8h30-9h le matin, 11h30 et midi et le dernier passage, 19h30-20h, merci.', ['3 décembre 2021 à']]\n",
      "['Réalisation du vaccin antigrippal chez madame Didier Denise vaccin réalisé le 12 novembre 2021 à 8h05 à domicile en même temps que la prise de sang, merci.', ['le 12 novembre 2021 à 8h05 à']]\n",
      "[\"Passage quotidien tous les jours plus ce week-end pour anaïs, 3 ami4 que c'est plus ami4 sur 2 à domicile plus 5 km. Faite ce jour, je vous envoie la copie. Donc, depuis le 3/02.\", ['le 3/02']]\n"
     ]
    }
   ],
   "source": [
    "mask = df_sample[\"date_words_len\"] == 1\n",
    "df_one = df_sample[mask][[\"translation\", \"date_words\"]]\n",
    "for i in range(len(df_one)):\n",
    "    print(df_one.iloc[i].to_list())"
   ]
  },
  {
   "cell_type": "markdown",
   "id": "6bca64c2",
   "metadata": {},
   "source": [
    "## let's see if we're correct when we detect exactly two dates"
   ]
  },
  {
   "cell_type": "code",
   "execution_count": 18,
   "id": "3dafd5bf",
   "metadata": {},
   "outputs": [
    {
     "name": "stdout",
     "output_type": "stream",
     "text": [
      "[\"Prolongation de l'ordonnance c'est des sous-cutanée, jusqu'au 7 avril. Une injection par jour aux alentours de 17,18h.\", ['7 avril', '17,18h']]\n",
      "[\"Ordonnance pour la réalisation d'une prise de sang à monsieur Didier Nicolas sang, réaliser. Le 1502 2022 à domicile à 8h30, patient en merci.\", ['1502 2022', 'à 8h30,']]\n",
      "['Bilan sanguin réalisé le mercredi 2 mars matin à domicile.', ['le mercredi 2 mars', 'à']]\n",
      "[\"Test antigénique réalisé le 5 avril 2022, suivis d'un test PCR r. À 18h50 par aline.\", ['le 5 avril 2022', 'À 18h50']]\n",
      "[\"Ordonnance pour la réalisation d'une prise de sang à madame Didier Denise . Prise de sang réalisée le 30 mars 2022 à domicile à 6h45 patient en ald merci.\", ['le 30 mars 2022 à', 'à 6h45']]\n"
     ]
    }
   ],
   "source": [
    "mask = df_sample[\"date_words_len\"] == 2\n",
    "df_two = df_sample[mask][[\"translation\", \"date_words\"]]\n",
    "for i in range(len(df_two)):\n",
    "    print(df_two.iloc[i].to_list())"
   ]
  }
 ],
 "metadata": {
  "kernelspec": {
   "display_name": "Python 3 (ipykernel)",
   "language": "python",
   "name": "python3"
  },
  "language_info": {
   "codemirror_mode": {
    "name": "ipython",
    "version": 3
   },
   "file_extension": ".py",
   "mimetype": "text/x-python",
   "name": "python",
   "nbconvert_exporter": "python",
   "pygments_lexer": "ipython3",
   "version": "3.8.12"
  },
  "toc": {
   "base_numbering": 1,
   "nav_menu": {},
   "number_sections": true,
   "sideBar": true,
   "skip_h1_title": false,
   "title_cell": "Table of Contents",
   "title_sidebar": "Contents",
   "toc_cell": false,
   "toc_position": {},
   "toc_section_display": true,
   "toc_window_display": false
  },
  "varInspector": {
   "cols": {
    "lenName": 16,
    "lenType": 16,
    "lenVar": 40
   },
   "kernels_config": {
    "python": {
     "delete_cmd_postfix": "",
     "delete_cmd_prefix": "del ",
     "library": "var_list.py",
     "varRefreshCmd": "print(var_dic_list())"
    },
    "r": {
     "delete_cmd_postfix": ") ",
     "delete_cmd_prefix": "rm(",
     "library": "var_list.r",
     "varRefreshCmd": "cat(var_dic_list()) "
    }
   },
   "types_to_exclude": [
    "module",
    "function",
    "builtin_function_or_method",
    "instance",
    "_Feature"
   ],
   "window_display": false
  }
 },
 "nbformat": 4,
 "nbformat_minor": 5
}
