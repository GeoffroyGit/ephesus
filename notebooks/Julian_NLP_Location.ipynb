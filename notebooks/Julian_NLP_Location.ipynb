{
 "cells": [
  {
   "cell_type": "code",
   "execution_count": 1,
   "id": "52100fb1",
   "metadata": {},
   "outputs": [],
   "source": [
    "import pandas as pd"
   ]
  },
  {
   "cell_type": "code",
   "execution_count": 5,
   "id": "97c38e1e",
   "metadata": {},
   "outputs": [
    {
     "data": {
      "text/plain": [
       "Domicile    3517\n",
       "Cabinet      512\n",
       "Name: CareLocation_1, dtype: int64"
      ]
     },
     "execution_count": 5,
     "metadata": {},
     "output_type": "execute_result"
    }
   ],
   "source": [
    "df = pd.read_csv('../raw_data/input_data_final.csv')\n",
    "df[\"CareLocation_1\"].value_counts()"
   ]
  },
  {
   "cell_type": "code",
   "execution_count": 25,
   "id": "973535d5",
   "metadata": {},
   "outputs": [
    {
     "data": {
      "text/plain": [
       "(4029, 2)"
      ]
     },
     "execution_count": 25,
     "metadata": {},
     "output_type": "execute_result"
    }
   ],
   "source": [
    "df_1=df[[\"translation\",\"CareLocation_1\"]]\n",
    "df_1.shape"
   ]
  },
  {
   "cell_type": "code",
   "execution_count": 26,
   "id": "448a8257",
   "metadata": {},
   "outputs": [
    {
     "data": {
      "text/plain": [
       "4029"
      ]
     },
     "execution_count": 26,
     "metadata": {},
     "output_type": "execute_result"
    }
   ],
   "source": [
    "len(df_1)"
   ]
  },
  {
   "cell_type": "code",
   "execution_count": 31,
   "id": "a603e440",
   "metadata": {},
   "outputs": [
    {
     "name": "stderr",
     "output_type": "stream",
     "text": [
      "/tmp/ipykernel_13188/1373394142.py:1: SettingWithCopyWarning: \n",
      "A value is trying to be set on a copy of a slice from a DataFrame.\n",
      "Try using .loc[row_indexer,col_indexer] = value instead\n",
      "\n",
      "See the caveats in the documentation: https://pandas.pydata.org/pandas-docs/stable/user_guide/indexing.html#returning-a-view-versus-a-copy\n",
      "  df_1[\"dom\"]=[\"dom\" if \"domicile\" in df_1[\"translation\"][i].split() else \"null\" for i in range(len(df_1))]\n"
     ]
    }
   ],
   "source": [
    "df_1[\"dom\"]=[\"dom\" if \"domicile\" in df_1[\"translation\"][i].split() else \"null\" for i in range(len(df_1))]"
   ]
  },
  {
   "cell_type": "code",
   "execution_count": 57,
   "id": "81bf9525",
   "metadata": {},
   "outputs": [
    {
     "name": "stderr",
     "output_type": "stream",
     "text": [
      "/tmp/ipykernel_13188/3854167444.py:1: SettingWithCopyWarning: \n",
      "A value is trying to be set on a copy of a slice from a DataFrame.\n",
      "Try using .loc[row_indexer,col_indexer] = value instead\n",
      "\n",
      "See the caveats in the documentation: https://pandas.pydata.org/pandas-docs/stable/user_guide/indexing.html#returning-a-view-versus-a-copy\n",
      "  df_1[\"cab\"]=[\"cab\" if \"cabinet\" in df_1[\"translation\"][i].split() else \"cab\" if \"cabinet.\" in df_1[\"translation\"][i].split() else \"null\" for i in range(len(df_1))]\n"
     ]
    }
   ],
   "source": [
    "df_1[\"cab\"]=[\"cab\" if \"cabinet\" in df_1[\"translation\"][i].split() else \"cab\" if \"cabinet.\" in df_1[\"translation\"][i].split() else \"null\" for i in range(len(df_1))]"
   ]
  },
  {
   "cell_type": "code",
   "execution_count": 58,
   "id": "93e27d71",
   "metadata": {},
   "outputs": [
    {
     "data": {
      "text/plain": [
       "Domicile    3517\n",
       "Cabinet      512\n",
       "Name: CareLocation_1, dtype: int64"
      ]
     },
     "execution_count": 58,
     "metadata": {},
     "output_type": "execute_result"
    }
   ],
   "source": [
    "df_1[\"CareLocation_1\"].value_counts()"
   ]
  },
  {
   "cell_type": "code",
   "execution_count": 59,
   "id": "c5868fac",
   "metadata": {},
   "outputs": [
    {
     "data": {
      "text/plain": [
       "null    2914\n",
       "dom     1115\n",
       "Name: dom, dtype: int64"
      ]
     },
     "execution_count": 59,
     "metadata": {},
     "output_type": "execute_result"
    }
   ],
   "source": [
    "df_1[\"dom\"].value_counts()"
   ]
  },
  {
   "cell_type": "code",
   "execution_count": 60,
   "id": "caf09822",
   "metadata": {},
   "outputs": [
    {
     "data": {
      "text/plain": [
       "null    3575\n",
       "cab      454\n",
       "Name: cab, dtype: int64"
      ]
     },
     "execution_count": 60,
     "metadata": {},
     "output_type": "execute_result"
    }
   ],
   "source": [
    "df_1[\"cab\"].value_counts()"
   ]
  },
  {
   "cell_type": "code",
   "execution_count": 61,
   "id": "e0132e5d",
   "metadata": {},
   "outputs": [],
   "source": [
    "df_cab = df_1[(df_1.cab == \"null\") & (df_1.CareLocation_1 == \"Cabinet\")]"
   ]
  },
  {
   "cell_type": "code",
   "execution_count": 62,
   "id": "6dd9b687",
   "metadata": {},
   "outputs": [
    {
     "data": {
      "text/html": [
       "<div>\n",
       "<style scoped>\n",
       "    .dataframe tbody tr th:only-of-type {\n",
       "        vertical-align: middle;\n",
       "    }\n",
       "\n",
       "    .dataframe tbody tr th {\n",
       "        vertical-align: top;\n",
       "    }\n",
       "\n",
       "    .dataframe thead th {\n",
       "        text-align: right;\n",
       "    }\n",
       "</style>\n",
       "<table border=\"1\" class=\"dataframe\">\n",
       "  <thead>\n",
       "    <tr style=\"text-align: right;\">\n",
       "      <th></th>\n",
       "      <th>translation</th>\n",
       "      <th>CareLocation_1</th>\n",
       "      <th>Dom</th>\n",
       "      <th>dom</th>\n",
       "      <th>cab</th>\n",
       "    </tr>\n",
       "  </thead>\n",
       "  <tbody>\n",
       "    <tr>\n",
       "      <th>7</th>\n",
       "      <td>Prise de sang plus sous-cutanée faite ce jour,...</td>\n",
       "      <td>Cabinet</td>\n",
       "      <td>null</td>\n",
       "      <td>null</td>\n",
       "      <td>null</td>\n",
       "    </tr>\n",
       "    <tr>\n",
       "      <th>18</th>\n",
       "      <td>Pour Marley Véronique pc19 le 23 12 pour sylvi...</td>\n",
       "      <td>Cabinet</td>\n",
       "      <td>null</td>\n",
       "      <td>null</td>\n",
       "      <td>null</td>\n",
       "    </tr>\n",
       "    <tr>\n",
       "      <th>74</th>\n",
       "      <td>Merci de fusionner les dossiers.</td>\n",
       "      <td>Cabinet</td>\n",
       "      <td>null</td>\n",
       "      <td>null</td>\n",
       "      <td>null</td>\n",
       "    </tr>\n",
       "    <tr>\n",
       "      <th>205</th>\n",
       "      <td>PC19 le 23 décembre à 9h55 par amandine.</td>\n",
       "      <td>Cabinet</td>\n",
       "      <td>null</td>\n",
       "      <td>null</td>\n",
       "      <td>null</td>\n",
       "    </tr>\n",
       "    <tr>\n",
       "      <th>241</th>\n",
       "      <td>Pc19 pour Bécon Clémence et sylvie mercier. Ce...</td>\n",
       "      <td>Cabinet</td>\n",
       "      <td>null</td>\n",
       "      <td>null</td>\n",
       "      <td>null</td>\n",
       "    </tr>\n",
       "    <tr>\n",
       "      <th>...</th>\n",
       "      <td>...</td>\n",
       "      <td>...</td>\n",
       "      <td>...</td>\n",
       "      <td>...</td>\n",
       "      <td>...</td>\n",
       "    </tr>\n",
       "    <tr>\n",
       "      <th>3810</th>\n",
       "      <td>Pc19 pour Cartan Milan pour sylvie, aujourd'hu...</td>\n",
       "      <td>Cabinet</td>\n",
       "      <td>null</td>\n",
       "      <td>null</td>\n",
       "      <td>null</td>\n",
       "    </tr>\n",
       "    <tr>\n",
       "      <th>3943</th>\n",
       "      <td>Merci de facturer cette patient sang dégradé. ...</td>\n",
       "      <td>Cabinet</td>\n",
       "      <td>null</td>\n",
       "      <td>null</td>\n",
       "      <td>null</td>\n",
       "    </tr>\n",
       "    <tr>\n",
       "      <th>3961</th>\n",
       "      <td>PCR remboursable fait le 30 mars à 11h15 au ca...</td>\n",
       "      <td>Cabinet</td>\n",
       "      <td>null</td>\n",
       "      <td>null</td>\n",
       "      <td>null</td>\n",
       "    </tr>\n",
       "    <tr>\n",
       "      <th>3971</th>\n",
       "      <td>Madame Toity Dalida. PCR ce jour, le 212 21, r...</td>\n",
       "      <td>Cabinet</td>\n",
       "      <td>null</td>\n",
       "      <td>null</td>\n",
       "      <td>null</td>\n",
       "    </tr>\n",
       "    <tr>\n",
       "      <th>3972</th>\n",
       "      <td>Test antigénique réalisé cet après-midi à domi...</td>\n",
       "      <td>Cabinet</td>\n",
       "      <td>Test antigénique réalisé cet après-midi à domi...</td>\n",
       "      <td>dom</td>\n",
       "      <td>null</td>\n",
       "    </tr>\n",
       "  </tbody>\n",
       "</table>\n",
       "<p>90 rows × 5 columns</p>\n",
       "</div>"
      ],
      "text/plain": [
       "                                            translation CareLocation_1  \\\n",
       "7     Prise de sang plus sous-cutanée faite ce jour,...        Cabinet   \n",
       "18    Pour Marley Véronique pc19 le 23 12 pour sylvi...        Cabinet   \n",
       "74                     Merci de fusionner les dossiers.        Cabinet   \n",
       "205            PC19 le 23 décembre à 9h55 par amandine.        Cabinet   \n",
       "241   Pc19 pour Bécon Clémence et sylvie mercier. Ce...        Cabinet   \n",
       "...                                                 ...            ...   \n",
       "3810  Pc19 pour Cartan Milan pour sylvie, aujourd'hu...        Cabinet   \n",
       "3943  Merci de facturer cette patient sang dégradé. ...        Cabinet   \n",
       "3961  PCR remboursable fait le 30 mars à 11h15 au ca...        Cabinet   \n",
       "3971  Madame Toity Dalida. PCR ce jour, le 212 21, r...        Cabinet   \n",
       "3972  Test antigénique réalisé cet après-midi à domi...        Cabinet   \n",
       "\n",
       "                                                    Dom   dom   cab  \n",
       "7                                                  null  null  null  \n",
       "18                                                 null  null  null  \n",
       "74                                                 null  null  null  \n",
       "205                                                null  null  null  \n",
       "241                                                null  null  null  \n",
       "...                                                 ...   ...   ...  \n",
       "3810                                               null  null  null  \n",
       "3943                                               null  null  null  \n",
       "3961                                               null  null  null  \n",
       "3971                                               null  null  null  \n",
       "3972  Test antigénique réalisé cet après-midi à domi...   dom  null  \n",
       "\n",
       "[90 rows x 5 columns]"
      ]
     },
     "execution_count": 62,
     "metadata": {},
     "output_type": "execute_result"
    }
   ],
   "source": [
    "df_cab"
   ]
  },
  {
   "cell_type": "code",
   "execution_count": 63,
   "id": "dad02976",
   "metadata": {},
   "outputs": [
    {
     "data": {
      "text/plain": [
       "'PC19 le 23 décembre à 9h55 par amandine.'"
      ]
     },
     "execution_count": 63,
     "metadata": {},
     "output_type": "execute_result"
    }
   ],
   "source": [
    "df_cab[\"translation\"][205]"
   ]
  }
 ],
 "metadata": {
  "kernelspec": {
   "display_name": "Python 3 (ipykernel)",
   "language": "python",
   "name": "python3"
  },
  "language_info": {
   "codemirror_mode": {
    "name": "ipython",
    "version": 3
   },
   "file_extension": ".py",
   "mimetype": "text/x-python",
   "name": "python",
   "nbconvert_exporter": "python",
   "pygments_lexer": "ipython3",
   "version": "3.8.12"
  },
  "toc": {
   "base_numbering": 1,
   "nav_menu": {},
   "number_sections": true,
   "sideBar": true,
   "skip_h1_title": false,
   "title_cell": "Table of Contents",
   "title_sidebar": "Contents",
   "toc_cell": false,
   "toc_position": {},
   "toc_section_display": true,
   "toc_window_display": false
  }
 },
 "nbformat": 4,
 "nbformat_minor": 5
}
