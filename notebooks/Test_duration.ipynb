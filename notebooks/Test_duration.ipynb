{
 "cells": [
  {
   "cell_type": "code",
   "execution_count": 236,
   "id": "6ff08bf5",
   "metadata": {},
   "outputs": [],
   "source": [
    "from ephesus.data import get_data_csv\n",
    "from ephesus.sentence import return_label, load_model\n",
    "import spacy\n",
    "import numpy as np\n",
    "import seaborn as sns\n",
    "import matplotlib.pyplot as plt\n",
    "import pandas as pd \n",
    "import string\n",
    "import re\n",
    "import datetime\n",
    "from ephesus.timedate import Date"
   ]
  },
  {
   "cell_type": "markdown",
   "id": "8ab94903",
   "metadata": {},
   "source": [
    "# PREWORK"
   ]
  },
  {
   "cell_type": "markdown",
   "id": "77c86e76",
   "metadata": {},
   "source": [
    "## Exploration"
   ]
  },
  {
   "cell_type": "code",
   "execution_count": 2,
   "id": "fab839a8",
   "metadata": {},
   "outputs": [],
   "source": [
    "data = get_data_csv()"
   ]
  },
  {
   "cell_type": "code",
   "execution_count": 3,
   "id": "b68d5bfe",
   "metadata": {},
   "outputs": [
    {
     "data": {
      "text/plain": [
       "Index(['translation', 'TreatmentDetected_1', 'NGAP_1', 'Cotation_1', 'Hour_1',\n",
       "       'AldRelated_1', 'CareBeginDate_1', 'CareDuration_1',\n",
       "       'CareDurationTypeEnum_1', 'CareOnPublicHoliday_1', 'CareLocation_1',\n",
       "       'CareBeginHpName_1', 'ZoneName_1', 'IK_1'],\n",
       "      dtype='object')"
      ]
     },
     "execution_count": 3,
     "metadata": {},
     "output_type": "execute_result"
    }
   ],
   "source": [
    "data.columns"
   ]
  },
  {
   "cell_type": "code",
   "execution_count": 4,
   "id": "d06845c1",
   "metadata": {},
   "outputs": [
    {
     "data": {
      "text/plain": [
       "array([ True, False])"
      ]
     },
     "execution_count": 4,
     "metadata": {},
     "output_type": "execute_result"
    }
   ],
   "source": [
    "data['CareOnPublicHoliday_1'].unique()"
   ]
  },
  {
   "cell_type": "code",
   "execution_count": 5,
   "id": "7e6c00ab",
   "metadata": {},
   "outputs": [
    {
     "data": {
      "text/html": [
       "<div>\n",
       "<style scoped>\n",
       "    .dataframe tbody tr th:only-of-type {\n",
       "        vertical-align: middle;\n",
       "    }\n",
       "\n",
       "    .dataframe tbody tr th {\n",
       "        vertical-align: top;\n",
       "    }\n",
       "\n",
       "    .dataframe thead th {\n",
       "        text-align: right;\n",
       "    }\n",
       "</style>\n",
       "<table border=\"1\" class=\"dataframe\">\n",
       "  <thead>\n",
       "    <tr style=\"text-align: right;\">\n",
       "      <th></th>\n",
       "      <th>translation</th>\n",
       "      <th>CareBeginDate_1</th>\n",
       "      <th>CareDuration_1</th>\n",
       "      <th>CareDurationTypeEnum_1</th>\n",
       "    </tr>\n",
       "    <tr>\n",
       "      <th>fichier</th>\n",
       "      <th></th>\n",
       "      <th></th>\n",
       "      <th></th>\n",
       "      <th></th>\n",
       "    </tr>\n",
       "  </thead>\n",
       "  <tbody>\n",
       "    <tr>\n",
       "      <th>9f980dcf-b431-4e67-876f-2b8e288b7900_3b5f3f01-e244-4398-8388-19fb5058c9c1</th>\n",
       "      <td>Prise de sang faite le 19 février à domicile p...</td>\n",
       "      <td>2022-02-19T10:00:00</td>\n",
       "      <td>1</td>\n",
       "      <td>Days</td>\n",
       "    </tr>\n",
       "    <tr>\n",
       "      <th>2d035c4b-cdfa-4982-87dc-916fe07a0824_710f4bda-ba21-434f-883e-1b72df7ea27a</th>\n",
       "      <td>Pansement également refait le 23 mars par mylène.</td>\n",
       "      <td>2022-03-23T18:00:00</td>\n",
       "      <td>1</td>\n",
       "      <td>Days</td>\n",
       "    </tr>\n",
       "    <tr>\n",
       "      <th>b96ad235-2f4f-4236-9aa3-9df85dfcf7cb_ff1697c1-a01f-4eb5-a1c2-b95205dc389a</th>\n",
       "      <td>Pcr plus prise de sang fait à domicile à 11.</td>\n",
       "      <td>2022-03-12T11:00:00</td>\n",
       "      <td>1</td>\n",
       "      <td>Days</td>\n",
       "    </tr>\n",
       "    <tr>\n",
       "      <th>3e7ffb67-8872-4172-bf18-4fe338ecae3f_6e8b49e5-4213-45da-bad6-158592c7f731</th>\n",
       "      <td>Prise de sang et analyse stérile des urines à ...</td>\n",
       "      <td>2022-02-18T09:00:00</td>\n",
       "      <td>1</td>\n",
       "      <td>Days</td>\n",
       "    </tr>\n",
       "    <tr>\n",
       "      <th>2d035c4b-cdfa-4982-87dc-916fe07a0824_56c749ad-eed8-407a-ae9e-a17ebf420cf4</th>\n",
       "      <td>Bonjour, merci de renouveler cette ordonnance ...</td>\n",
       "      <td>2022-03-18T16:00:00</td>\n",
       "      <td>2</td>\n",
       "      <td>Months</td>\n",
       "    </tr>\n",
       "  </tbody>\n",
       "</table>\n",
       "</div>"
      ],
      "text/plain": [
       "                                                                                          translation  \\\n",
       "fichier                                                                                                 \n",
       "9f980dcf-b431-4e67-876f-2b8e288b7900_3b5f3f01-e...  Prise de sang faite le 19 février à domicile p...   \n",
       "2d035c4b-cdfa-4982-87dc-916fe07a0824_710f4bda-b...  Pansement également refait le 23 mars par mylène.   \n",
       "b96ad235-2f4f-4236-9aa3-9df85dfcf7cb_ff1697c1-a...       Pcr plus prise de sang fait à domicile à 11.   \n",
       "3e7ffb67-8872-4172-bf18-4fe338ecae3f_6e8b49e5-4...  Prise de sang et analyse stérile des urines à ...   \n",
       "2d035c4b-cdfa-4982-87dc-916fe07a0824_56c749ad-e...  Bonjour, merci de renouveler cette ordonnance ...   \n",
       "\n",
       "                                                        CareBeginDate_1  \\\n",
       "fichier                                                                   \n",
       "9f980dcf-b431-4e67-876f-2b8e288b7900_3b5f3f01-e...  2022-02-19T10:00:00   \n",
       "2d035c4b-cdfa-4982-87dc-916fe07a0824_710f4bda-b...  2022-03-23T18:00:00   \n",
       "b96ad235-2f4f-4236-9aa3-9df85dfcf7cb_ff1697c1-a...  2022-03-12T11:00:00   \n",
       "3e7ffb67-8872-4172-bf18-4fe338ecae3f_6e8b49e5-4...  2022-02-18T09:00:00   \n",
       "2d035c4b-cdfa-4982-87dc-916fe07a0824_56c749ad-e...  2022-03-18T16:00:00   \n",
       "\n",
       "                                                    CareDuration_1  \\\n",
       "fichier                                                              \n",
       "9f980dcf-b431-4e67-876f-2b8e288b7900_3b5f3f01-e...               1   \n",
       "2d035c4b-cdfa-4982-87dc-916fe07a0824_710f4bda-b...               1   \n",
       "b96ad235-2f4f-4236-9aa3-9df85dfcf7cb_ff1697c1-a...               1   \n",
       "3e7ffb67-8872-4172-bf18-4fe338ecae3f_6e8b49e5-4...               1   \n",
       "2d035c4b-cdfa-4982-87dc-916fe07a0824_56c749ad-e...               2   \n",
       "\n",
       "                                                   CareDurationTypeEnum_1  \n",
       "fichier                                                                    \n",
       "9f980dcf-b431-4e67-876f-2b8e288b7900_3b5f3f01-e...                   Days  \n",
       "2d035c4b-cdfa-4982-87dc-916fe07a0824_710f4bda-b...                   Days  \n",
       "b96ad235-2f4f-4236-9aa3-9df85dfcf7cb_ff1697c1-a...                   Days  \n",
       "3e7ffb67-8872-4172-bf18-4fe338ecae3f_6e8b49e5-4...                   Days  \n",
       "2d035c4b-cdfa-4982-87dc-916fe07a0824_56c749ad-e...                 Months  "
      ]
     },
     "execution_count": 5,
     "metadata": {},
     "output_type": "execute_result"
    }
   ],
   "source": [
    "df_extract = data.copy()[['translation','CareBeginDate_1','CareDuration_1','CareDurationTypeEnum_1']]\n",
    "df_extract.head()"
   ]
  },
  {
   "cell_type": "code",
   "execution_count": 6,
   "id": "285454e1",
   "metadata": {},
   "outputs": [],
   "source": [
    "nlp = load_model(\"../models/model_full/model-best\")"
   ]
  },
  {
   "cell_type": "code",
   "execution_count": 7,
   "id": "bea4449d",
   "metadata": {},
   "outputs": [],
   "source": [
    "df_extract['extracted_label'] = df_extract['translation'].apply(lambda x: return_label(x, nlp))"
   ]
  },
  {
   "cell_type": "code",
   "execution_count": 8,
   "id": "edb77935",
   "metadata": {},
   "outputs": [],
   "source": [
    "def extract(prediction, label):\n",
    "    for elm in prediction:\n",
    "        if elm[1] == label:\n",
    "            if elm[0] == np.nan:\n",
    "                return np.nan\n",
    "            else:\n",
    "                return elm[0]  "
   ]
  },
  {
   "cell_type": "code",
   "execution_count": 9,
   "id": "3c1c0799",
   "metadata": {},
   "outputs": [],
   "source": [
    "df_extract['Duration'] = df_extract['extracted_label'].apply(lambda x: extract(x, \"Duration\"))"
   ]
  },
  {
   "cell_type": "code",
   "execution_count": 10,
   "id": "ede1363f",
   "metadata": {},
   "outputs": [
    {
     "data": {
      "text/html": [
       "<div>\n",
       "<style scoped>\n",
       "    .dataframe tbody tr th:only-of-type {\n",
       "        vertical-align: middle;\n",
       "    }\n",
       "\n",
       "    .dataframe tbody tr th {\n",
       "        vertical-align: top;\n",
       "    }\n",
       "\n",
       "    .dataframe thead th {\n",
       "        text-align: right;\n",
       "    }\n",
       "</style>\n",
       "<table border=\"1\" class=\"dataframe\">\n",
       "  <thead>\n",
       "    <tr style=\"text-align: right;\">\n",
       "      <th></th>\n",
       "      <th>translation</th>\n",
       "      <th>CareBeginDate_1</th>\n",
       "      <th>CareDuration_1</th>\n",
       "      <th>CareDurationTypeEnum_1</th>\n",
       "      <th>extracted_label</th>\n",
       "      <th>Duration</th>\n",
       "    </tr>\n",
       "    <tr>\n",
       "      <th>fichier</th>\n",
       "      <th></th>\n",
       "      <th></th>\n",
       "      <th></th>\n",
       "      <th></th>\n",
       "      <th></th>\n",
       "      <th></th>\n",
       "    </tr>\n",
       "  </thead>\n",
       "  <tbody>\n",
       "    <tr>\n",
       "      <th>9f980dcf-b431-4e67-876f-2b8e288b7900_3b5f3f01-e244-4398-8388-19fb5058c9c1</th>\n",
       "      <td>Prise de sang faite le 19 février à domicile p...</td>\n",
       "      <td>2022-02-19T10:00:00</td>\n",
       "      <td>1</td>\n",
       "      <td>Days</td>\n",
       "      <td>[(Prise de sang, Treatment), (le 19 février, D...</td>\n",
       "      <td>None</td>\n",
       "    </tr>\n",
       "    <tr>\n",
       "      <th>2d035c4b-cdfa-4982-87dc-916fe07a0824_710f4bda-ba21-434f-883e-1b72df7ea27a</th>\n",
       "      <td>Pansement également refait le 23 mars par mylène.</td>\n",
       "      <td>2022-03-23T18:00:00</td>\n",
       "      <td>1</td>\n",
       "      <td>Days</td>\n",
       "      <td>[(Pansement, Treatment), (23 mars, Date)]</td>\n",
       "      <td>None</td>\n",
       "    </tr>\n",
       "    <tr>\n",
       "      <th>b96ad235-2f4f-4236-9aa3-9df85dfcf7cb_ff1697c1-a01f-4eb5-a1c2-b95205dc389a</th>\n",
       "      <td>Pcr plus prise de sang fait à domicile à 11.</td>\n",
       "      <td>2022-03-12T11:00:00</td>\n",
       "      <td>1</td>\n",
       "      <td>Days</td>\n",
       "      <td>[(prise de sang, Treatment), (domicile, Locati...</td>\n",
       "      <td>None</td>\n",
       "    </tr>\n",
       "    <tr>\n",
       "      <th>3e7ffb67-8872-4172-bf18-4fe338ecae3f_6e8b49e5-4213-45da-bad6-158592c7f731</th>\n",
       "      <td>Prise de sang et analyse stérile des urines à ...</td>\n",
       "      <td>2022-02-18T09:00:00</td>\n",
       "      <td>1</td>\n",
       "      <td>Days</td>\n",
       "      <td>[(Prise de sang, Treatment), (analyse stérile ...</td>\n",
       "      <td>None</td>\n",
       "    </tr>\n",
       "    <tr>\n",
       "      <th>2d035c4b-cdfa-4982-87dc-916fe07a0824_56c749ad-eed8-407a-ae9e-a17ebf420cf4</th>\n",
       "      <td>Bonjour, merci de renouveler cette ordonnance ...</td>\n",
       "      <td>2022-03-18T16:00:00</td>\n",
       "      <td>2</td>\n",
       "      <td>Months</td>\n",
       "      <td>[(pansement, Treatment), (bien marqué, Treatme...</td>\n",
       "      <td>None</td>\n",
       "    </tr>\n",
       "  </tbody>\n",
       "</table>\n",
       "</div>"
      ],
      "text/plain": [
       "                                                                                          translation  \\\n",
       "fichier                                                                                                 \n",
       "9f980dcf-b431-4e67-876f-2b8e288b7900_3b5f3f01-e...  Prise de sang faite le 19 février à domicile p...   \n",
       "2d035c4b-cdfa-4982-87dc-916fe07a0824_710f4bda-b...  Pansement également refait le 23 mars par mylène.   \n",
       "b96ad235-2f4f-4236-9aa3-9df85dfcf7cb_ff1697c1-a...       Pcr plus prise de sang fait à domicile à 11.   \n",
       "3e7ffb67-8872-4172-bf18-4fe338ecae3f_6e8b49e5-4...  Prise de sang et analyse stérile des urines à ...   \n",
       "2d035c4b-cdfa-4982-87dc-916fe07a0824_56c749ad-e...  Bonjour, merci de renouveler cette ordonnance ...   \n",
       "\n",
       "                                                        CareBeginDate_1  \\\n",
       "fichier                                                                   \n",
       "9f980dcf-b431-4e67-876f-2b8e288b7900_3b5f3f01-e...  2022-02-19T10:00:00   \n",
       "2d035c4b-cdfa-4982-87dc-916fe07a0824_710f4bda-b...  2022-03-23T18:00:00   \n",
       "b96ad235-2f4f-4236-9aa3-9df85dfcf7cb_ff1697c1-a...  2022-03-12T11:00:00   \n",
       "3e7ffb67-8872-4172-bf18-4fe338ecae3f_6e8b49e5-4...  2022-02-18T09:00:00   \n",
       "2d035c4b-cdfa-4982-87dc-916fe07a0824_56c749ad-e...  2022-03-18T16:00:00   \n",
       "\n",
       "                                                    CareDuration_1  \\\n",
       "fichier                                                              \n",
       "9f980dcf-b431-4e67-876f-2b8e288b7900_3b5f3f01-e...               1   \n",
       "2d035c4b-cdfa-4982-87dc-916fe07a0824_710f4bda-b...               1   \n",
       "b96ad235-2f4f-4236-9aa3-9df85dfcf7cb_ff1697c1-a...               1   \n",
       "3e7ffb67-8872-4172-bf18-4fe338ecae3f_6e8b49e5-4...               1   \n",
       "2d035c4b-cdfa-4982-87dc-916fe07a0824_56c749ad-e...               2   \n",
       "\n",
       "                                                   CareDurationTypeEnum_1  \\\n",
       "fichier                                                                     \n",
       "9f980dcf-b431-4e67-876f-2b8e288b7900_3b5f3f01-e...                   Days   \n",
       "2d035c4b-cdfa-4982-87dc-916fe07a0824_710f4bda-b...                   Days   \n",
       "b96ad235-2f4f-4236-9aa3-9df85dfcf7cb_ff1697c1-a...                   Days   \n",
       "3e7ffb67-8872-4172-bf18-4fe338ecae3f_6e8b49e5-4...                   Days   \n",
       "2d035c4b-cdfa-4982-87dc-916fe07a0824_56c749ad-e...                 Months   \n",
       "\n",
       "                                                                                      extracted_label  \\\n",
       "fichier                                                                                                 \n",
       "9f980dcf-b431-4e67-876f-2b8e288b7900_3b5f3f01-e...  [(Prise de sang, Treatment), (le 19 février, D...   \n",
       "2d035c4b-cdfa-4982-87dc-916fe07a0824_710f4bda-b...          [(Pansement, Treatment), (23 mars, Date)]   \n",
       "b96ad235-2f4f-4236-9aa3-9df85dfcf7cb_ff1697c1-a...  [(prise de sang, Treatment), (domicile, Locati...   \n",
       "3e7ffb67-8872-4172-bf18-4fe338ecae3f_6e8b49e5-4...  [(Prise de sang, Treatment), (analyse stérile ...   \n",
       "2d035c4b-cdfa-4982-87dc-916fe07a0824_56c749ad-e...  [(pansement, Treatment), (bien marqué, Treatme...   \n",
       "\n",
       "                                                   Duration  \n",
       "fichier                                                      \n",
       "9f980dcf-b431-4e67-876f-2b8e288b7900_3b5f3f01-e...     None  \n",
       "2d035c4b-cdfa-4982-87dc-916fe07a0824_710f4bda-b...     None  \n",
       "b96ad235-2f4f-4236-9aa3-9df85dfcf7cb_ff1697c1-a...     None  \n",
       "3e7ffb67-8872-4172-bf18-4fe338ecae3f_6e8b49e5-4...     None  \n",
       "2d035c4b-cdfa-4982-87dc-916fe07a0824_56c749ad-e...     None  "
      ]
     },
     "execution_count": 10,
     "metadata": {},
     "output_type": "execute_result"
    }
   ],
   "source": [
    "df_extract.head()"
   ]
  },
  {
   "cell_type": "code",
   "execution_count": 11,
   "id": "8cbbb350",
   "metadata": {},
   "outputs": [
    {
     "data": {
      "text/plain": [
       "translation                  0\n",
       "CareBeginDate_1              0\n",
       "CareDuration_1               0\n",
       "CareDurationTypeEnum_1       0\n",
       "extracted_label              0\n",
       "Duration                  3655\n",
       "dtype: int64"
      ]
     },
     "execution_count": 11,
     "metadata": {},
     "output_type": "execute_result"
    }
   ],
   "source": [
    "df_extract.isna().sum()"
   ]
  },
  {
   "cell_type": "code",
   "execution_count": 12,
   "id": "978e2bfe",
   "metadata": {},
   "outputs": [],
   "source": [
    "df_extract['Duration'][1]"
   ]
  },
  {
   "cell_type": "code",
   "execution_count": 13,
   "id": "e18ae5c7",
   "metadata": {},
   "outputs": [
    {
     "data": {
      "text/html": [
       "<div>\n",
       "<style scoped>\n",
       "    .dataframe tbody tr th:only-of-type {\n",
       "        vertical-align: middle;\n",
       "    }\n",
       "\n",
       "    .dataframe tbody tr th {\n",
       "        vertical-align: top;\n",
       "    }\n",
       "\n",
       "    .dataframe thead th {\n",
       "        text-align: right;\n",
       "    }\n",
       "</style>\n",
       "<table border=\"1\" class=\"dataframe\">\n",
       "  <thead>\n",
       "    <tr style=\"text-align: right;\">\n",
       "      <th></th>\n",
       "      <th>translation</th>\n",
       "      <th>CareBeginDate_1</th>\n",
       "      <th>CareDuration_1</th>\n",
       "      <th>CareDurationTypeEnum_1</th>\n",
       "      <th>extracted_label</th>\n",
       "      <th>Duration</th>\n",
       "    </tr>\n",
       "    <tr>\n",
       "      <th>fichier</th>\n",
       "      <th></th>\n",
       "      <th></th>\n",
       "      <th></th>\n",
       "      <th></th>\n",
       "      <th></th>\n",
       "      <th></th>\n",
       "    </tr>\n",
       "  </thead>\n",
       "  <tbody>\n",
       "    <tr>\n",
       "      <th>55d674cc-3389-4cf6-ab7c-1f1b9fa1b6ed_3e005951-47a1-4edb-ab50-ce602fe56c54</th>\n",
       "      <td>Renouvellement du bsc. D'une durée de un an à ...</td>\n",
       "      <td>2021-05-18T00:00:00</td>\n",
       "      <td>1</td>\n",
       "      <td>Days</td>\n",
       "      <td>[(une durée de un an, Duration), (21 mai 2021,...</td>\n",
       "      <td>une durée de un an</td>\n",
       "    </tr>\n",
       "    <tr>\n",
       "      <th>2d035c4b-cdfa-4982-87dc-916fe07a0824_2dfdf4ab-fc95-4ec1-8e03-af502b95baf8</th>\n",
       "      <td>Ordonnance pour la réalisation de injection de...</td>\n",
       "      <td>2021-04-17T08:30:00</td>\n",
       "      <td>6</td>\n",
       "      <td>Days</td>\n",
       "      <td>[(injection de kétoprofène, Treatment), (intra...</td>\n",
       "      <td>pour 6 jours</td>\n",
       "    </tr>\n",
       "    <tr>\n",
       "      <th>c619f0e1-7c22-4047-adb2-df4dec6643ba_8214d80f-0f7d-4e0d-9d4a-23294f9690b3</th>\n",
       "      <td>Soin débuté le vendredi 14 janvier 2022 jusqu'...</td>\n",
       "      <td>2022-01-14T12:30:00</td>\n",
       "      <td>4</td>\n",
       "      <td>Days</td>\n",
       "      <td>[(Soin, Treatment), (vendredi 14 janvier 2022,...</td>\n",
       "      <td>jusqu'au lundi 17 janvier 2022</td>\n",
       "    </tr>\n",
       "    <tr>\n",
       "      <th>f0caa21b-c11d-40a3-98ec-e2df3d2b9cc4_7e5c146c-2faa-44ce-9228-ee5addf48580</th>\n",
       "      <td>Soin débuté le 10 avril,  à réaliser donc le s...</td>\n",
       "      <td>2021-04-10T08:00:00</td>\n",
       "      <td>15</td>\n",
       "      <td>Days</td>\n",
       "      <td>[(Soin, Treatment), (10 avril, Date), (samedi ...</td>\n",
       "      <td>pendant 15 jours</td>\n",
       "    </tr>\n",
       "    <tr>\n",
       "      <th>c619f0e1-7c22-4047-adb2-df4dec6643ba_108cb1d9-6a25-4b7e-ba5a-390d464ed37c</th>\n",
       "      <td>Je ne vois pas les perfusions dans la dernière...</td>\n",
       "      <td>2022-01-19T06:30:00</td>\n",
       "      <td>1</td>\n",
       "      <td>Months</td>\n",
       "      <td>[(fin du mois, Duration), (le mois de février,...</td>\n",
       "      <td>fin du mois</td>\n",
       "    </tr>\n",
       "  </tbody>\n",
       "</table>\n",
       "</div>"
      ],
      "text/plain": [
       "                                                                                          translation  \\\n",
       "fichier                                                                                                 \n",
       "55d674cc-3389-4cf6-ab7c-1f1b9fa1b6ed_3e005951-4...  Renouvellement du bsc. D'une durée de un an à ...   \n",
       "2d035c4b-cdfa-4982-87dc-916fe07a0824_2dfdf4ab-f...  Ordonnance pour la réalisation de injection de...   \n",
       "c619f0e1-7c22-4047-adb2-df4dec6643ba_8214d80f-0...  Soin débuté le vendredi 14 janvier 2022 jusqu'...   \n",
       "f0caa21b-c11d-40a3-98ec-e2df3d2b9cc4_7e5c146c-2...  Soin débuté le 10 avril,  à réaliser donc le s...   \n",
       "c619f0e1-7c22-4047-adb2-df4dec6643ba_108cb1d9-6...  Je ne vois pas les perfusions dans la dernière...   \n",
       "\n",
       "                                                        CareBeginDate_1  \\\n",
       "fichier                                                                   \n",
       "55d674cc-3389-4cf6-ab7c-1f1b9fa1b6ed_3e005951-4...  2021-05-18T00:00:00   \n",
       "2d035c4b-cdfa-4982-87dc-916fe07a0824_2dfdf4ab-f...  2021-04-17T08:30:00   \n",
       "c619f0e1-7c22-4047-adb2-df4dec6643ba_8214d80f-0...  2022-01-14T12:30:00   \n",
       "f0caa21b-c11d-40a3-98ec-e2df3d2b9cc4_7e5c146c-2...  2021-04-10T08:00:00   \n",
       "c619f0e1-7c22-4047-adb2-df4dec6643ba_108cb1d9-6...  2022-01-19T06:30:00   \n",
       "\n",
       "                                                    CareDuration_1  \\\n",
       "fichier                                                              \n",
       "55d674cc-3389-4cf6-ab7c-1f1b9fa1b6ed_3e005951-4...               1   \n",
       "2d035c4b-cdfa-4982-87dc-916fe07a0824_2dfdf4ab-f...               6   \n",
       "c619f0e1-7c22-4047-adb2-df4dec6643ba_8214d80f-0...               4   \n",
       "f0caa21b-c11d-40a3-98ec-e2df3d2b9cc4_7e5c146c-2...              15   \n",
       "c619f0e1-7c22-4047-adb2-df4dec6643ba_108cb1d9-6...               1   \n",
       "\n",
       "                                                   CareDurationTypeEnum_1  \\\n",
       "fichier                                                                     \n",
       "55d674cc-3389-4cf6-ab7c-1f1b9fa1b6ed_3e005951-4...                   Days   \n",
       "2d035c4b-cdfa-4982-87dc-916fe07a0824_2dfdf4ab-f...                   Days   \n",
       "c619f0e1-7c22-4047-adb2-df4dec6643ba_8214d80f-0...                   Days   \n",
       "f0caa21b-c11d-40a3-98ec-e2df3d2b9cc4_7e5c146c-2...                   Days   \n",
       "c619f0e1-7c22-4047-adb2-df4dec6643ba_108cb1d9-6...                 Months   \n",
       "\n",
       "                                                                                      extracted_label  \\\n",
       "fichier                                                                                                 \n",
       "55d674cc-3389-4cf6-ab7c-1f1b9fa1b6ed_3e005951-4...  [(une durée de un an, Duration), (21 mai 2021,...   \n",
       "2d035c4b-cdfa-4982-87dc-916fe07a0824_2dfdf4ab-f...  [(injection de kétoprofène, Treatment), (intra...   \n",
       "c619f0e1-7c22-4047-adb2-df4dec6643ba_8214d80f-0...  [(Soin, Treatment), (vendredi 14 janvier 2022,...   \n",
       "f0caa21b-c11d-40a3-98ec-e2df3d2b9cc4_7e5c146c-2...  [(Soin, Treatment), (10 avril, Date), (samedi ...   \n",
       "c619f0e1-7c22-4047-adb2-df4dec6643ba_108cb1d9-6...  [(fin du mois, Duration), (le mois de février,...   \n",
       "\n",
       "                                                                          Duration  \n",
       "fichier                                                                             \n",
       "55d674cc-3389-4cf6-ab7c-1f1b9fa1b6ed_3e005951-4...              une durée de un an  \n",
       "2d035c4b-cdfa-4982-87dc-916fe07a0824_2dfdf4ab-f...                    pour 6 jours  \n",
       "c619f0e1-7c22-4047-adb2-df4dec6643ba_8214d80f-0...  jusqu'au lundi 17 janvier 2022  \n",
       "f0caa21b-c11d-40a3-98ec-e2df3d2b9cc4_7e5c146c-2...                pendant 15 jours  \n",
       "c619f0e1-7c22-4047-adb2-df4dec6643ba_108cb1d9-6...                     fin du mois  "
      ]
     },
     "execution_count": 13,
     "metadata": {},
     "output_type": "execute_result"
    }
   ],
   "source": [
    "df_not_null = df_extract.dropna()\n",
    "df_not_null.head()"
   ]
  },
  {
   "cell_type": "code",
   "execution_count": 14,
   "id": "0596e68e",
   "metadata": {
    "scrolled": true
   },
   "outputs": [
    {
     "data": {
      "text/plain": [
       "array(['une durée de un an', 'pour 6 jours',\n",
       "       \"jusqu'au lundi 17 janvier 2022\", 'pendant 15 jours',\n",
       "       'fin du mois', \"jusqu'au 8/12/2019\", 'pour un an', '6 mois',\n",
       "       'au 21 mars', 'jusque vendredi 25 février inclus',\n",
       "       'pendant 3 mois', \"jusqu'au 28 novembre\", \"jusqu'à\",\n",
       "       \"Jusqu'au. 8 septembre\", 'une durée de 3 mois', 'pendant 20 jours',\n",
       "       'durée de 12 mois', 'pour 6 mois', '2 mois',\n",
       "       'du 5 mars au 14 mars', 'une série de 10 mineuses',\n",
       "       'pendant un mois', 'pendant 3 semaines', 'pendant 21 jours',\n",
       "       'pendant donc 15 jours', 'pour 15 jours', 'cim si 86',\n",
       "       'pendant  5 jours', '3 mois', 'ais 3 matins', 'durée de 15 jours',\n",
       "       '6 fois', \"jusqu'au.\", 'pour 3 mois', 'pendant 6 mois',\n",
       "       'pendant une semaine', 'pendant 3 jours', 'pendant 10 mois',\n",
       "       'au premier avril', 'pendant 10 jours', 'pendant 49 jours',\n",
       "       \"jusqu'au dimanche 7\", 'erreur de cotation', \"jusqu'à 11h15\",\n",
       "       \"jusqu'à vendredi\", 'pendant 5 semaines', 'pendant 35 jours.',\n",
       "       \"jusqu'au 16 avril\", 'pendant 5 jours', 'pendant 2 semaines',\n",
       "       'du 25 au 28 février', 'pour lundi 7 février', 'pendant midi',\n",
       "       'pour 8 mois', \"jusqu'au 20 février\", 'du 12 au 21 février',\n",
       "       'pendant 7 jours', 'du 14 mars', '-moi 12 jours', 'pour 8',\n",
       "       'pendant 5 mois.', \"jusqu'au 18 juillet\", 'du 25 mars',\n",
       "       'pour 28 jours', '6 2ais3', 'pendant 4 semaines',\n",
       "       'pendant 8 jours', \"pendant 10 fois d'affilée\", 'pendant 6 jours',\n",
       "       \"jusqu'au 21 et après\", '-moi au matin', 'pendant 14 jours',\n",
       "       'pour un premier', \"jusqu'au 4 mars\", 'pendant 4 mois',\n",
       "       'une durée de 6 mois', 'pour un mois', 'pendant un an',\n",
       "       'pour 12 fois', '19/04 au domicile', '6 octobre au matin',\n",
       "       'pendant 6 semaines', 'du premier au 20 mars', \"jusqu'à ce\",\n",
       "       '6 jours', \"jusqu'au 27 octobre\", 'pour 7 jours',\n",
       "       'durée de 3 semaines', \"jusqu'au dimanche 27 juin\",\n",
       "       'pendant 15 jours.', \"du 3 mars et jusqu'au 6 mars inclus\",\n",
       "       'un mois', 'pour 21 jours', 'pendant 2 mois',\n",
       "       'pause de sonde de naso-Gastrique', \"jusqu'au 11 septembre\",\n",
       "       \"jusqu'au 17 janvier\", \"jusqu'au 7 avril\", 'durée de 6 mois',\n",
       "       'une durée de 21 jours', 'pendant 2', \"jusqu'à équilibre\",\n",
       "       \"jusqu'au 2 avril inclus\", '6 au matin soir', 'dans 15 jours',\n",
       "       'durée de 3 mois', 'pendant 60 jours', \"jusqu'au 25\",\n",
       "       \"jusqu'au 9 septembre\", \"jusqu'au 8e jour\", 'pendant et on',\n",
       "       \"jusqu'au 15 inclus\", '0 un 2022', 'valable 6 mois',\n",
       "       'pendant 6 jours.', 'programmé 5 jours', 'valable un an',\n",
       "       \"jusqu'au 12 juillet\", 'dans 14 jours', 'du 11 décembre',\n",
       "       'pour soins infirmiers', \"Jusqu'à demain\", \"puisqu'elle eu 90\",\n",
       "       'les 15 jours', 'pendant une période de 10 jours',\n",
       "       'pendant 2 jours', \"jusqu'au vendredi 7 janvier\", \"d'une oreille\",\n",
       "       '21/08/20 au soir', 'pour 14 jours', 'pendant 21 jours.',\n",
       "       \"jusqu'au 18 août\", 'Pour un mois', 'pendant 31 jours',\n",
       "       'durée de 2 mois', 'dizaine de jours', 'fait samedi 8',\n",
       "       \"jusqu'au 6 mars\", 'pendant une', \"jusqu'au 2 avril\", 'six mois',\n",
       "       \"jusqu'au,\", 'ais3 le soir', 'depuis 10 jours', 'pendant 5 jours,',\n",
       "       'une durée de 12 mois', \"jusqu'au 18 inclus\", 'au 10 avril',\n",
       "       'jusqu au 28', 'pour 5 jours', 'du 25 et on finit',\n",
       "       \"Jusqu'à cicatrisation\", \"jusqu'au 25 novembre\",\n",
       "       'une durée de un mois', 'le 25', 'du 12 au 21 mai',\n",
       "       'du 24 décembre au 24 mars 2022', 'et 18 février',\n",
       "       'fin le 25 février', '2 en cotation', 'série de 8 jours',\n",
       "       \"jusqu'au 2 août\", 'pendant 5 jours.', \"jusqu'au 8 juillet\",\n",
       "       'fait une fois', 'jusqu au 2 décembre 2021',\n",
       "       \"Jusqu'à ce ais4 isation\", 'ais 6.', 'pour un', \"jusqu'au 20 mars\",\n",
       "       'pendant 6 cycles plus', 'une durée de 5 semaines',\n",
       "       'pendant 10. Fois', \"jusqu'au 30\", 'pendant 10 jours.',\n",
       "       'dans un premier', 'du 19', 'valable 6',\n",
       "       'une série de perfusions,', \"jusqu'au 10 février\",\n",
       "       \"jusqu'au 29 octobre 2000 vingt-et-un\", 'pendant 30 jours',\n",
       "       'valable pour un an', 'pendant 15 pendant'], dtype=object)"
      ]
     },
     "execution_count": 14,
     "metadata": {},
     "output_type": "execute_result"
    }
   ],
   "source": [
    "df_not_null['Duration'].unique()"
   ]
  },
  {
   "cell_type": "code",
   "execution_count": 15,
   "id": "f967ed0c",
   "metadata": {},
   "outputs": [
    {
     "data": {
      "text/plain": [
       "translation               Pour monsieur Didier Nicolas, donc un passage ...\n",
       "CareBeginDate_1                                         2019-11-24T10:30:00\n",
       "CareDuration_1                                                           15\n",
       "CareDurationTypeEnum_1                                                 Days\n",
       "extracted_label           [(tous les jours, Frequency), (jusqu'au 8/12/2...\n",
       "Duration                                                 jusqu'au 8/12/2019\n",
       "Name: 9d42ce6f-8537-49a9-a121-c8ae1dc7cda8_3ffbf9cc-b9e4-405d-a038-fb4f9e036a72, dtype: object"
      ]
     },
     "execution_count": 15,
     "metadata": {},
     "output_type": "execute_result"
    }
   ],
   "source": [
    "df_not_null.iloc[5,:]"
   ]
  },
  {
   "cell_type": "code",
   "execution_count": 16,
   "id": "c806cd4e",
   "metadata": {},
   "outputs": [
    {
     "data": {
      "text/plain": [
       "\"jusqu'au 8/12/2019\""
      ]
     },
     "execution_count": 16,
     "metadata": {},
     "output_type": "execute_result"
    }
   ],
   "source": [
    "df_not_null.iloc[5,5]"
   ]
  },
  {
   "cell_type": "code",
   "execution_count": 17,
   "id": "3fe4fa6a",
   "metadata": {},
   "outputs": [
    {
     "data": {
      "text/plain": [
       "array(['Days', 'Months', 'Weeks', 'Acts', 'Rdvs'], dtype=object)"
      ]
     },
     "execution_count": 17,
     "metadata": {},
     "output_type": "execute_result"
    }
   ],
   "source": [
    "df_extract['CareDurationTypeEnum_1'].unique()"
   ]
  },
  {
   "cell_type": "code",
   "execution_count": 18,
   "id": "3b260002",
   "metadata": {
    "scrolled": true
   },
   "outputs": [
    {
     "data": {
      "image/png": "[encoded data removed]",
      "text/plain": [
       "<Figure size 432x288 with 1 Axes>"
      ]
     },
     "metadata": {
      "needs_background": "light"
     },
     "output_type": "display_data"
    }
   ],
   "source": [
    "sns.histplot(df_extract['CareDurationTypeEnum_1']);"
   ]
  },
  {
   "cell_type": "code",
   "execution_count": 19,
   "id": "df7ab414",
   "metadata": {},
   "outputs": [
    {
     "data": {
      "text/html": [
       "<span class=\"tex2jax_ignore\"><div class=\"entities\" style=\"line-height: 2.5; direction: ltr\">\n",
       "<mark class=\"entity\" style=\"background: #ddd; padding: 0.45em 0.6em; margin: 0 0.25em; line-height: 1; border-radius: 0.35em;\">\n",
       "    prise de sang\n",
       "    <span style=\"font-size: 0.8em; font-weight: bold; line-height: 1; border-radius: 0.35em; vertical-align: middle; margin-left: 0.5rem\">Treatment</span>\n",
       "</mark>\n",
       " \n",
       "<mark class=\"entity\" style=\"background: #ddd; padding: 0.45em 0.6em; margin: 0 0.25em; line-height: 1; border-radius: 0.35em;\">\n",
       "    tous les 15 jours\n",
       "    <span style=\"font-size: 0.8em; font-weight: bold; line-height: 1; border-radius: 0.35em; vertical-align: middle; margin-left: 0.5rem\">Frequency</span>\n",
       "</mark>\n",
       " \n",
       "<mark class=\"entity\" style=\"background: #ddd; padding: 0.45em 0.6em; margin: 0 0.25em; line-height: 1; border-radius: 0.35em;\">\n",
       "    pour un an\n",
       "    <span style=\"font-size: 0.8em; font-weight: bold; line-height: 1; border-radius: 0.35em; vertical-align: middle; margin-left: 0.5rem\">Duration</span>\n",
       "</mark>\n",
       "</div></span>"
      ],
      "text/plain": [
       "<IPython.core.display.HTML object>"
      ]
     },
     "metadata": {},
     "output_type": "display_data"
    }
   ],
   "source": [
    "doc = nlp(\"prise de sang tous les 15 jours pour un an\")\n",
    "spacy.displacy.render(doc, style=\"ent\",jupyter=True)"
   ]
  },
  {
   "cell_type": "code",
   "execution_count": 20,
   "id": "02b5e632",
   "metadata": {},
   "outputs": [],
   "source": [
    "test = \"prise de sang tous les 15 jours pendant 555 jours\""
   ]
  },
  {
   "cell_type": "code",
   "execution_count": 21,
   "id": "f477968e",
   "metadata": {},
   "outputs": [],
   "source": [
    "x = re.search('((?<=pour\\s)|(?<=pendant\\s))\\d{1,3}\\sjours|mois', test)"
   ]
  },
  {
   "cell_type": "code",
   "execution_count": 22,
   "id": "9d508a6e",
   "metadata": {},
   "outputs": [
    {
     "name": "stdout",
     "output_type": "stream",
     "text": [
      "['555', 'jours']\n"
     ]
    }
   ],
   "source": [
    "print(x.group().split())"
   ]
  },
  {
   "cell_type": "code",
   "execution_count": 23,
   "id": "64adb632",
   "metadata": {},
   "outputs": [
    {
     "data": {
      "text/plain": [
       "931"
      ]
     },
     "execution_count": 23,
     "metadata": {},
     "output_type": "execute_result"
    }
   ],
   "source": [
    "len(df_extract[df_extract['CareDuration_1']>1])"
   ]
  },
  {
   "cell_type": "markdown",
   "id": "21c4837e",
   "metadata": {},
   "source": [
    "## Définition des REGEX principales "
   ]
  },
  {
   "cell_type": "code",
   "execution_count": 24,
   "id": "85b49cf2",
   "metadata": {},
   "outputs": [],
   "source": [
    "def replace_un_une(sentence):\n",
    "    if re.search('(un|une)\\s(jour|mois|semaine|an)', sentence) is not None:\n",
    "        sentence = sentence.replace(\"une\",\"1\")\n",
    "        sentence = sentence.replace(\"un\",\"1\")\n",
    "    return sentence"
   ]
  },
  {
   "cell_type": "code",
   "execution_count": 25,
   "id": "6a2bf26a",
   "metadata": {},
   "outputs": [],
   "source": [
    "def duration_explo(sentence):\n",
    "    liste_mois = '(janvier|février|mars|avril|mai|juin|juillet|août|septembre|octobre|novembre|décembre)'\n",
    "    if sentence is None:\n",
    "        return np.nan\n",
    "    sentence = replace_un_une(sentence)\n",
    "    sentence = sentence.replace('premier', '1')\n",
    "    sentence = re.sub(' +', ' ', sentence).lower()\n",
    "    if re.search('((?<=pour\\s)|(?<=pendant\\s))*\\d{1,3}\\s(jours|mois|semaines|an)', sentence) is not None:\n",
    "        return \"OK\"\n",
    "    if re.search('durée\\sde\\s\\d{1,3}\\s(jours|mois|an)', sentence) is not None:\n",
    "        return \"OK\"\n",
    "    if re.search(\"jusqu\", sentence) is not None:\n",
    "        return \"OK\"\n",
    "    if re.search('du\\s\\d{1,2}\\sau\\s\\d{1,2}\\s'+liste_mois, sentence) is not None:\n",
    "        return \"OK\"\n",
    "    if re.search('du\\s\\d{1,2}\\s'+liste_mois+'\\sau\\s\\d{1,2}\\s'+liste_mois, sentence) is not None:\n",
    "        return \"OK\"\n",
    "    "
   ]
  },
  {
   "cell_type": "code",
   "execution_count": 26,
   "id": "a6877672",
   "metadata": {
    "scrolled": true
   },
   "outputs": [
    {
     "data": {
      "text/html": [
       "<div>\n",
       "<style scoped>\n",
       "    .dataframe tbody tr th:only-of-type {\n",
       "        vertical-align: middle;\n",
       "    }\n",
       "\n",
       "    .dataframe tbody tr th {\n",
       "        vertical-align: top;\n",
       "    }\n",
       "\n",
       "    .dataframe thead th {\n",
       "        text-align: right;\n",
       "    }\n",
       "</style>\n",
       "<table border=\"1\" class=\"dataframe\">\n",
       "  <thead>\n",
       "    <tr style=\"text-align: right;\">\n",
       "      <th></th>\n",
       "      <th>extract</th>\n",
       "      <th>valid</th>\n",
       "    </tr>\n",
       "  </thead>\n",
       "  <tbody>\n",
       "    <tr>\n",
       "      <th>0</th>\n",
       "      <td>une durée de un an</td>\n",
       "      <td>NaN</td>\n",
       "    </tr>\n",
       "    <tr>\n",
       "      <th>1</th>\n",
       "      <td>pour 6 jours</td>\n",
       "      <td>NaN</td>\n",
       "    </tr>\n",
       "    <tr>\n",
       "      <th>2</th>\n",
       "      <td>jusqu'au lundi 17 janvier 2022</td>\n",
       "      <td>NaN</td>\n",
       "    </tr>\n",
       "    <tr>\n",
       "      <th>3</th>\n",
       "      <td>pendant 15 jours</td>\n",
       "      <td>NaN</td>\n",
       "    </tr>\n",
       "    <tr>\n",
       "      <th>4</th>\n",
       "      <td>fin du mois</td>\n",
       "      <td>NaN</td>\n",
       "    </tr>\n",
       "    <tr>\n",
       "      <th>...</th>\n",
       "      <td>...</td>\n",
       "      <td>...</td>\n",
       "    </tr>\n",
       "    <tr>\n",
       "      <th>179</th>\n",
       "      <td>jusqu'au 10 février</td>\n",
       "      <td>NaN</td>\n",
       "    </tr>\n",
       "    <tr>\n",
       "      <th>180</th>\n",
       "      <td>jusqu'au 29 octobre 2000 vingt-et-un</td>\n",
       "      <td>NaN</td>\n",
       "    </tr>\n",
       "    <tr>\n",
       "      <th>181</th>\n",
       "      <td>pendant 30 jours</td>\n",
       "      <td>NaN</td>\n",
       "    </tr>\n",
       "    <tr>\n",
       "      <th>182</th>\n",
       "      <td>valable pour un an</td>\n",
       "      <td>NaN</td>\n",
       "    </tr>\n",
       "    <tr>\n",
       "      <th>183</th>\n",
       "      <td>pendant 15 pendant</td>\n",
       "      <td>NaN</td>\n",
       "    </tr>\n",
       "  </tbody>\n",
       "</table>\n",
       "<p>184 rows × 2 columns</p>\n",
       "</div>"
      ],
      "text/plain": [
       "                                  extract  valid\n",
       "0                      une durée de un an    NaN\n",
       "1                            pour 6 jours    NaN\n",
       "2          jusqu'au lundi 17 janvier 2022    NaN\n",
       "3                        pendant 15 jours    NaN\n",
       "4                             fin du mois    NaN\n",
       "..                                    ...    ...\n",
       "179                   jusqu'au 10 février    NaN\n",
       "180  jusqu'au 29 octobre 2000 vingt-et-un    NaN\n",
       "181                      pendant 30 jours    NaN\n",
       "182                    valable pour un an    NaN\n",
       "183                    pendant 15 pendant    NaN\n",
       "\n",
       "[184 rows x 2 columns]"
      ]
     },
     "execution_count": 26,
     "metadata": {},
     "output_type": "execute_result"
    }
   ],
   "source": [
    "df_test = pd.DataFrame(df_not_null['Duration'].copy().unique(), columns=['extract'])\n",
    "df_test[\"valid\"] = np.nan\n",
    "df_test"
   ]
  },
  {
   "cell_type": "code",
   "execution_count": 27,
   "id": "a605c528",
   "metadata": {},
   "outputs": [],
   "source": [
    "df_test[\"valid\"] = df_test[\"extract\"].apply(lambda x: duration_explo(x))"
   ]
  },
  {
   "cell_type": "code",
   "execution_count": 28,
   "id": "fde1da85",
   "metadata": {},
   "outputs": [
    {
     "data": {
      "text/plain": [
       "0.717391304347826"
      ]
     },
     "execution_count": 28,
     "metadata": {},
     "output_type": "execute_result"
    }
   ],
   "source": [
    "(len(df_test) - df_test['valid'].isna().sum())/len(df_test)"
   ]
  },
  {
   "cell_type": "code",
   "execution_count": 29,
   "id": "d1e2007f",
   "metadata": {
    "scrolled": true
   },
   "outputs": [
    {
     "data": {
      "text/plain": [
       "array(['fin du mois', 'au 21 mars', 'une série de 10 mineuses',\n",
       "       'cim si 86', 'ais 3 matins', '6 fois', 'pendant une semaine',\n",
       "       'au premier avril', 'erreur de cotation', 'pour lundi 7 février',\n",
       "       'pendant midi', 'du 14 mars', 'pour 8', 'du 25 mars', '6 2ais3',\n",
       "       \"pendant 10 fois d'affilée\", '-moi au matin', 'pour un premier',\n",
       "       'pour 12 fois', '19/04 au domicile', '6 octobre au matin',\n",
       "       'pause de sonde de naso-Gastrique', 'pendant 2', '6 au matin soir',\n",
       "       'pendant et on', '0 un 2022', 'du 11 décembre',\n",
       "       'pour soins infirmiers', \"puisqu'elle eu 90\", \"d'une oreille\",\n",
       "       '21/08/20 au soir', 'dizaine de jours', 'fait samedi 8',\n",
       "       'pendant une', 'six mois', 'ais3 le soir', 'au 10 avril',\n",
       "       'du 25 et on finit', 'le 25', 'et 18 février', 'fin le 25 février',\n",
       "       '2 en cotation', 'fait une fois', 'ais 6.', 'pour un',\n",
       "       'pendant 6 cycles plus', 'pendant 10. Fois', 'dans un premier',\n",
       "       'du 19', 'valable 6', 'une série de perfusions,',\n",
       "       'pendant 15 pendant'], dtype=object)"
      ]
     },
     "execution_count": 29,
     "metadata": {},
     "output_type": "execute_result"
    }
   ],
   "source": [
    "df_test[~(df_test['valid'] == 'OK')][\"extract\"].unique()"
   ]
  },
  {
   "cell_type": "markdown",
   "id": "23f64af6",
   "metadata": {},
   "source": [
    "# REGEX"
   ]
  },
  {
   "cell_type": "markdown",
   "id": "1e5bae1c",
   "metadata": {},
   "source": [
    "## Explicit duration"
   ]
  },
  {
   "cell_type": "markdown",
   "id": "08557050",
   "metadata": {
    "heading_collapsed": true
   },
   "source": [
    "### Pour/pendant X jours/mois/semaines"
   ]
  },
  {
   "cell_type": "code",
   "execution_count": 53,
   "id": "0ddaea05",
   "metadata": {
    "hidden": true
   },
   "outputs": [],
   "source": [
    "test = 'pour 3 jours'"
   ]
  },
  {
   "cell_type": "code",
   "execution_count": 54,
   "id": "e1b4f63b",
   "metadata": {
    "hidden": true
   },
   "outputs": [],
   "source": [
    "def regex_1(sentence):\n",
    "    if re.search('((?<=pour\\s)|(?<=pendant\\s))*\\d{1,3}\\s(jours|mois|semaines|an)', sentence) is not None:\n",
    "        x = re.search('((?<=pour\\s)|(?<=pendant\\s))*\\d{1,3}\\s(jours|mois|semaines|an)', sentence).group().split()\n",
    "        #print(x)\n",
    "        care_duration = x[0]\n",
    "        #print(care_duration)\n",
    "        care_duration_type = x[1]\n",
    "        #print(care_duration_type)\n",
    "        care_duration_type = care_duration_type.replace(\"jours\", \"Days\")\n",
    "        care_duration_type = care_duration_type.replace(\"mois\", \"Months\")\n",
    "        care_duration_type = care_duration_type.replace(\"semaines\", \"Weeks\")\n",
    "        care_duration_type = care_duration_type.replace(\"an\", \"Year\")\n",
    "        return care_duration, care_duration_type"
   ]
  },
  {
   "cell_type": "code",
   "execution_count": 32,
   "id": "68cd0f23",
   "metadata": {
    "hidden": true
   },
   "outputs": [
    {
     "data": {
      "text/plain": [
       "('3', 'Days')"
      ]
     },
     "execution_count": 32,
     "metadata": {},
     "output_type": "execute_result"
    }
   ],
   "source": [
    "regex_1(test)"
   ]
  },
  {
   "cell_type": "code",
   "execution_count": 55,
   "id": "e8850318",
   "metadata": {
    "hidden": true
   },
   "outputs": [],
   "source": [
    "def test_1(sentence):\n",
    "    liste_mois = '(janvier|février|mars|avril|mai|juin|juillet|août|septembre|octobre|novembre|décembre)'\n",
    "    if sentence is None:\n",
    "        return np.nan\n",
    "    sentence = replace_un_une(sentence)\n",
    "    sentence = sentence.replace('premier', '1')\n",
    "    sentence = re.sub(' +', ' ', sentence).lower()\n",
    "    if re.search('((?<=pour\\s)|(?<=pendant\\s))*\\d{1,3}\\s(jours|mois|semaines|an)', sentence) is not None:\n",
    "        return regex_1(sentence)\n",
    "    if re.search('durée\\sde\\s\\d{1,3}\\s(jours|mois|an)', sentence) is not None:\n",
    "        return np.nan\n",
    "    if re.search(\"jusqu\", sentence) is not None:\n",
    "        return np.nan\n",
    "    if re.search('du\\s\\d{1,2}\\sau\\s\\d{1,2}\\s'+liste_mois, sentence) is not None:\n",
    "        return np.nan\n",
    "    if re.search('du\\s\\d{1,2}\\s'+liste_mois+'\\sau\\s\\d{1,2}\\s'+liste_mois, sentence) is not None:\n",
    "        return np.nan\n",
    "    return np.nan"
   ]
  },
  {
   "cell_type": "code",
   "execution_count": 56,
   "id": "a2b94679",
   "metadata": {
    "hidden": true
   },
   "outputs": [
    {
     "data": {
      "text/html": [
       "<div>\n",
       "<style scoped>\n",
       "    .dataframe tbody tr th:only-of-type {\n",
       "        vertical-align: middle;\n",
       "    }\n",
       "\n",
       "    .dataframe tbody tr th {\n",
       "        vertical-align: top;\n",
       "    }\n",
       "\n",
       "    .dataframe thead th {\n",
       "        text-align: right;\n",
       "    }\n",
       "</style>\n",
       "<table border=\"1\" class=\"dataframe\">\n",
       "  <thead>\n",
       "    <tr style=\"text-align: right;\">\n",
       "      <th></th>\n",
       "      <th>extract</th>\n",
       "      <th>valid</th>\n",
       "    </tr>\n",
       "  </thead>\n",
       "  <tbody>\n",
       "    <tr>\n",
       "      <th>0</th>\n",
       "      <td>une durée de un an</td>\n",
       "      <td>NaN</td>\n",
       "    </tr>\n",
       "    <tr>\n",
       "      <th>1</th>\n",
       "      <td>pour 6 jours</td>\n",
       "      <td>NaN</td>\n",
       "    </tr>\n",
       "    <tr>\n",
       "      <th>2</th>\n",
       "      <td>jusqu'au lundi 17 janvier 2022</td>\n",
       "      <td>NaN</td>\n",
       "    </tr>\n",
       "    <tr>\n",
       "      <th>3</th>\n",
       "      <td>pendant 15 jours</td>\n",
       "      <td>NaN</td>\n",
       "    </tr>\n",
       "    <tr>\n",
       "      <th>4</th>\n",
       "      <td>fin du mois</td>\n",
       "      <td>NaN</td>\n",
       "    </tr>\n",
       "    <tr>\n",
       "      <th>...</th>\n",
       "      <td>...</td>\n",
       "      <td>...</td>\n",
       "    </tr>\n",
       "    <tr>\n",
       "      <th>179</th>\n",
       "      <td>jusqu'au 10 février</td>\n",
       "      <td>NaN</td>\n",
       "    </tr>\n",
       "    <tr>\n",
       "      <th>180</th>\n",
       "      <td>jusqu'au 29 octobre 2000 vingt-et-un</td>\n",
       "      <td>NaN</td>\n",
       "    </tr>\n",
       "    <tr>\n",
       "      <th>181</th>\n",
       "      <td>pendant 30 jours</td>\n",
       "      <td>NaN</td>\n",
       "    </tr>\n",
       "    <tr>\n",
       "      <th>182</th>\n",
       "      <td>valable pour un an</td>\n",
       "      <td>NaN</td>\n",
       "    </tr>\n",
       "    <tr>\n",
       "      <th>183</th>\n",
       "      <td>pendant 15 pendant</td>\n",
       "      <td>NaN</td>\n",
       "    </tr>\n",
       "  </tbody>\n",
       "</table>\n",
       "<p>184 rows × 2 columns</p>\n",
       "</div>"
      ],
      "text/plain": [
       "                                  extract  valid\n",
       "0                      une durée de un an    NaN\n",
       "1                            pour 6 jours    NaN\n",
       "2          jusqu'au lundi 17 janvier 2022    NaN\n",
       "3                        pendant 15 jours    NaN\n",
       "4                             fin du mois    NaN\n",
       "..                                    ...    ...\n",
       "179                   jusqu'au 10 février    NaN\n",
       "180  jusqu'au 29 octobre 2000 vingt-et-un    NaN\n",
       "181                      pendant 30 jours    NaN\n",
       "182                    valable pour un an    NaN\n",
       "183                    pendant 15 pendant    NaN\n",
       "\n",
       "[184 rows x 2 columns]"
      ]
     },
     "execution_count": 56,
     "metadata": {},
     "output_type": "execute_result"
    }
   ],
   "source": [
    "df_test = pd.DataFrame(df_not_null['Duration'].copy().unique(), columns=['extract'])\n",
    "df_test[\"valid\"] = np.nan\n",
    "df_test"
   ]
  },
  {
   "cell_type": "code",
   "execution_count": 57,
   "id": "3c8bd7e5",
   "metadata": {
    "hidden": true
   },
   "outputs": [
    {
     "data": {
      "text/html": [
       "<div>\n",
       "<style scoped>\n",
       "    .dataframe tbody tr th:only-of-type {\n",
       "        vertical-align: middle;\n",
       "    }\n",
       "\n",
       "    .dataframe tbody tr th {\n",
       "        vertical-align: top;\n",
       "    }\n",
       "\n",
       "    .dataframe thead th {\n",
       "        text-align: right;\n",
       "    }\n",
       "</style>\n",
       "<table border=\"1\" class=\"dataframe\">\n",
       "  <thead>\n",
       "    <tr style=\"text-align: right;\">\n",
       "      <th></th>\n",
       "      <th>extract</th>\n",
       "      <th>valid</th>\n",
       "    </tr>\n",
       "  </thead>\n",
       "  <tbody>\n",
       "    <tr>\n",
       "      <th>0</th>\n",
       "      <td>une durée de un an</td>\n",
       "      <td>(1, Year)</td>\n",
       "    </tr>\n",
       "    <tr>\n",
       "      <th>1</th>\n",
       "      <td>pour 6 jours</td>\n",
       "      <td>(6, Days)</td>\n",
       "    </tr>\n",
       "    <tr>\n",
       "      <th>3</th>\n",
       "      <td>pendant 15 jours</td>\n",
       "      <td>(15, Days)</td>\n",
       "    </tr>\n",
       "    <tr>\n",
       "      <th>6</th>\n",
       "      <td>pour un an</td>\n",
       "      <td>(1, Year)</td>\n",
       "    </tr>\n",
       "    <tr>\n",
       "      <th>7</th>\n",
       "      <td>6 mois</td>\n",
       "      <td>(6, Months)</td>\n",
       "    </tr>\n",
       "    <tr>\n",
       "      <th>...</th>\n",
       "      <td>...</td>\n",
       "      <td>...</td>\n",
       "    </tr>\n",
       "    <tr>\n",
       "      <th>162</th>\n",
       "      <td>pendant 5 jours.</td>\n",
       "      <td>(5, Days)</td>\n",
       "    </tr>\n",
       "    <tr>\n",
       "      <th>171</th>\n",
       "      <td>une durée de 5 semaines</td>\n",
       "      <td>(5, Weeks)</td>\n",
       "    </tr>\n",
       "    <tr>\n",
       "      <th>174</th>\n",
       "      <td>pendant 10 jours.</td>\n",
       "      <td>(10, Days)</td>\n",
       "    </tr>\n",
       "    <tr>\n",
       "      <th>181</th>\n",
       "      <td>pendant 30 jours</td>\n",
       "      <td>(30, Days)</td>\n",
       "    </tr>\n",
       "    <tr>\n",
       "      <th>182</th>\n",
       "      <td>valable pour un an</td>\n",
       "      <td>(1, Year)</td>\n",
       "    </tr>\n",
       "  </tbody>\n",
       "</table>\n",
       "<p>79 rows × 2 columns</p>\n",
       "</div>"
      ],
      "text/plain": [
       "                     extract        valid\n",
       "0         une durée de un an    (1, Year)\n",
       "1               pour 6 jours    (6, Days)\n",
       "3           pendant 15 jours   (15, Days)\n",
       "6                 pour un an    (1, Year)\n",
       "7                     6 mois  (6, Months)\n",
       "..                       ...          ...\n",
       "162         pendant 5 jours.    (5, Days)\n",
       "171  une durée de 5 semaines   (5, Weeks)\n",
       "174        pendant 10 jours.   (10, Days)\n",
       "181         pendant 30 jours   (30, Days)\n",
       "182       valable pour un an    (1, Year)\n",
       "\n",
       "[79 rows x 2 columns]"
      ]
     },
     "execution_count": 57,
     "metadata": {},
     "output_type": "execute_result"
    }
   ],
   "source": [
    "df_test[\"valid\"] = df_test[\"extract\"].apply(lambda x: test_1(x))\n",
    "df_test.dropna()"
   ]
  },
  {
   "cell_type": "code",
   "execution_count": 58,
   "id": "f6f9b381",
   "metadata": {
    "hidden": true,
    "scrolled": true
   },
   "outputs": [
    {
     "data": {
      "text/plain": [
       "0.42934782608695654"
      ]
     },
     "execution_count": 58,
     "metadata": {},
     "output_type": "execute_result"
    }
   ],
   "source": [
    "len(df_test.dropna())/len(df_test)"
   ]
  },
  {
   "cell_type": "code",
   "execution_count": 59,
   "id": "8bacab6c",
   "metadata": {
    "hidden": true
   },
   "outputs": [
    {
     "data": {
      "text/plain": [
       "array([('1', 'Year'), ('6', 'Days'), nan, ('15', 'Days'), ('6', 'Months'),\n",
       "       ('3', 'Months'), ('20', 'Days'), ('12', 'Months'), ('2', 'Months'),\n",
       "       ('1', 'Months'), ('3', 'Weeks'), ('21', 'Days'), ('5', 'Days'),\n",
       "       ('3', 'Days'), ('10', 'Months'), ('10', 'Days'), ('49', 'Days'),\n",
       "       ('5', 'Weeks'), ('35', 'Days'), ('2', 'Weeks'), ('8', 'Months'),\n",
       "       ('7', 'Days'), ('12', 'Days'), ('5', 'Months'), ('28', 'Days'),\n",
       "       ('4', 'Weeks'), ('8', 'Days'), ('14', 'Days'), ('4', 'Months'),\n",
       "       ('6', 'Weeks'), ('60', 'Days'), ('2', 'Days'), ('31', 'Days'),\n",
       "       ('30', 'Days')], dtype=object)"
      ]
     },
     "execution_count": 59,
     "metadata": {},
     "output_type": "execute_result"
    }
   ],
   "source": [
    "df_test[\"valid\"].unique()"
   ]
  },
  {
   "cell_type": "markdown",
   "id": "7ab760d2",
   "metadata": {
    "heading_collapsed": true
   },
   "source": [
    "### une durée de x jours"
   ]
  },
  {
   "cell_type": "code",
   "execution_count": 38,
   "id": "38550e1e",
   "metadata": {
    "hidden": true
   },
   "outputs": [],
   "source": [
    "test = 'sur une durée de 3 jours'"
   ]
  },
  {
   "cell_type": "code",
   "execution_count": 39,
   "id": "4741139a",
   "metadata": {
    "hidden": true
   },
   "outputs": [],
   "source": [
    "def regex_2(sentence):\n",
    "    if re.search('durée\\sde\\s\\d{1,3}\\s(jours|mois|an)', sentence) is not None:\n",
    "        temp = re.search('durée\\sde\\s\\d{1,3}\\s(jours|mois|an)', sentence).string\n",
    "        x = re.search('\\d{1,3}\\s(jours|mois|an)', temp).group().split()\n",
    "        #print(x)\n",
    "        care_duration = x[0]\n",
    "        #print(care_duration)\n",
    "        care_duration_type = x[1]\n",
    "        #print(care_duration_type)\n",
    "        care_duration_type = care_duration_type.replace(\"jours\", \"Days\")\n",
    "        care_duration_type = care_duration_type.replace(\"mois\", \"Months\")\n",
    "        care_duration_type = care_duration_type.replace(\"semaines\", \"Weeks\")\n",
    "        care_duration_type = care_duration_type.replace(\"an\", \"Year\")\n",
    "        return care_duration, care_duration_type"
   ]
  },
  {
   "cell_type": "code",
   "execution_count": 40,
   "id": "9b4ec049",
   "metadata": {
    "hidden": true
   },
   "outputs": [
    {
     "data": {
      "text/plain": [
       "('3', 'Days')"
      ]
     },
     "execution_count": 40,
     "metadata": {},
     "output_type": "execute_result"
    }
   ],
   "source": [
    "regex_2(test)"
   ]
  },
  {
   "cell_type": "code",
   "execution_count": 41,
   "id": "596ecabc",
   "metadata": {
    "hidden": true
   },
   "outputs": [],
   "source": [
    "def test(sentence):\n",
    "    liste_mois = '(janvier|février|mars|avril|mai|juin|juillet|août|septembre|octobre|novembre|décembre)'\n",
    "    if sentence is None:\n",
    "        return np.nan\n",
    "    sentence = replace_un_une(sentence)\n",
    "    sentence = sentence.replace('premier', '1')\n",
    "    sentence = re.sub(' +', ' ', sentence).lower()\n",
    "    if re.search('((?<=pour\\s)|(?<=pendant\\s))*\\d{1,3}\\s(jours|mois|semaines|an)', sentence) is not None:\n",
    "        return regex_1(sentence)\n",
    "    if re.search('durée\\sde\\s\\d{1,3}\\s(jours|mois|an)', sentence) is not None:\n",
    "        return regex_2(sentence)\n",
    "    if re.search(\"jusqu\", sentence) is not None:\n",
    "        return np.nan\n",
    "    if re.search('du\\s\\d{1,2}\\sau\\s\\d{1,2}\\s'+liste_mois, sentence) is not None:\n",
    "        return np.nan\n",
    "    if re.search('du\\s\\d{1,2}\\s'+liste_mois+'\\sau\\s\\d{1,2}\\s'+liste_mois, sentence) is not None:\n",
    "        return np.nan"
   ]
  },
  {
   "cell_type": "code",
   "execution_count": 42,
   "id": "f2fdcfb6",
   "metadata": {
    "hidden": true
   },
   "outputs": [
    {
     "data": {
      "text/html": [
       "<div>\n",
       "<style scoped>\n",
       "    .dataframe tbody tr th:only-of-type {\n",
       "        vertical-align: middle;\n",
       "    }\n",
       "\n",
       "    .dataframe tbody tr th {\n",
       "        vertical-align: top;\n",
       "    }\n",
       "\n",
       "    .dataframe thead th {\n",
       "        text-align: right;\n",
       "    }\n",
       "</style>\n",
       "<table border=\"1\" class=\"dataframe\">\n",
       "  <thead>\n",
       "    <tr style=\"text-align: right;\">\n",
       "      <th></th>\n",
       "      <th>extract</th>\n",
       "      <th>valid</th>\n",
       "    </tr>\n",
       "  </thead>\n",
       "  <tbody>\n",
       "    <tr>\n",
       "      <th>0</th>\n",
       "      <td>une durée de un an</td>\n",
       "      <td>(1, Year)</td>\n",
       "    </tr>\n",
       "    <tr>\n",
       "      <th>1</th>\n",
       "      <td>pour 6 jours</td>\n",
       "      <td>(6, Days)</td>\n",
       "    </tr>\n",
       "    <tr>\n",
       "      <th>3</th>\n",
       "      <td>pendant 15 jours</td>\n",
       "      <td>(15, Days)</td>\n",
       "    </tr>\n",
       "    <tr>\n",
       "      <th>6</th>\n",
       "      <td>pour un an</td>\n",
       "      <td>(1, Year)</td>\n",
       "    </tr>\n",
       "    <tr>\n",
       "      <th>7</th>\n",
       "      <td>6 mois</td>\n",
       "      <td>(6, Months)</td>\n",
       "    </tr>\n",
       "    <tr>\n",
       "      <th>...</th>\n",
       "      <td>...</td>\n",
       "      <td>...</td>\n",
       "    </tr>\n",
       "    <tr>\n",
       "      <th>162</th>\n",
       "      <td>pendant 5 jours.</td>\n",
       "      <td>(5, Days)</td>\n",
       "    </tr>\n",
       "    <tr>\n",
       "      <th>171</th>\n",
       "      <td>une durée de 5 semaines</td>\n",
       "      <td>(5, Weeks)</td>\n",
       "    </tr>\n",
       "    <tr>\n",
       "      <th>174</th>\n",
       "      <td>pendant 10 jours.</td>\n",
       "      <td>(10, Days)</td>\n",
       "    </tr>\n",
       "    <tr>\n",
       "      <th>181</th>\n",
       "      <td>pendant 30 jours</td>\n",
       "      <td>(30, Days)</td>\n",
       "    </tr>\n",
       "    <tr>\n",
       "      <th>182</th>\n",
       "      <td>valable pour un an</td>\n",
       "      <td>(1, Year)</td>\n",
       "    </tr>\n",
       "  </tbody>\n",
       "</table>\n",
       "<p>79 rows × 2 columns</p>\n",
       "</div>"
      ],
      "text/plain": [
       "                     extract        valid\n",
       "0         une durée de un an    (1, Year)\n",
       "1               pour 6 jours    (6, Days)\n",
       "3           pendant 15 jours   (15, Days)\n",
       "6                 pour un an    (1, Year)\n",
       "7                     6 mois  (6, Months)\n",
       "..                       ...          ...\n",
       "162         pendant 5 jours.    (5, Days)\n",
       "171  une durée de 5 semaines   (5, Weeks)\n",
       "174        pendant 10 jours.   (10, Days)\n",
       "181         pendant 30 jours   (30, Days)\n",
       "182       valable pour un an    (1, Year)\n",
       "\n",
       "[79 rows x 2 columns]"
      ]
     },
     "execution_count": 42,
     "metadata": {},
     "output_type": "execute_result"
    }
   ],
   "source": [
    "df_test = pd.DataFrame(df_not_null['Duration'].copy().unique(), columns=['extract'])\n",
    "df_test[\"valid\"] = df_test[\"extract\"].apply(lambda x: test(x))\n",
    "df_test.dropna()"
   ]
  },
  {
   "cell_type": "code",
   "execution_count": 43,
   "id": "3756b95e",
   "metadata": {
    "hidden": true
   },
   "outputs": [
    {
     "data": {
      "text/plain": [
       "0.42934782608695654"
      ]
     },
     "execution_count": 43,
     "metadata": {},
     "output_type": "execute_result"
    }
   ],
   "source": [
    "len(df_test.dropna())/len(df_test)"
   ]
  },
  {
   "cell_type": "markdown",
   "id": "0df712c2",
   "metadata": {},
   "source": [
    "### Test une seule REGEX pour les deux"
   ]
  },
  {
   "cell_type": "code",
   "execution_count": 60,
   "id": "70cbedd8",
   "metadata": {},
   "outputs": [],
   "source": [
    "def explicit_duration(sentence):\n",
    "    x = re.search('\\d{1,3}\\s(jours|mois|semaines|an)', sentence).group().split()\n",
    "        #print(x)\n",
    "    care_duration = x[0]\n",
    "        #print(care_duration)\n",
    "    care_duration_type = x[1]\n",
    "        #print(care_duration_type)\n",
    "    care_duration_type = care_duration_type.replace(\"jours\", \"Days\")\n",
    "    care_duration_type = care_duration_type.replace(\"mois\", \"Months\")\n",
    "    care_duration_type = care_duration_type.replace(\"semaines\", \"Weeks\")\n",
    "    care_duration_type = care_duration_type.replace(\"an\", \"Year\")\n",
    "    return care_duration, care_duration_type"
   ]
  },
  {
   "cell_type": "code",
   "execution_count": 62,
   "id": "4dda8c63",
   "metadata": {},
   "outputs": [],
   "source": [
    "def test(sentence):\n",
    "    liste_mois = '(janvier|février|mars|avril|mai|juin|juillet|août|septembre|octobre|novembre|décembre)'\n",
    "    if sentence is None:\n",
    "        return np.nan\n",
    "    sentence = replace_un_une(sentence)\n",
    "    sentence = sentence.replace('premier', '1')\n",
    "    sentence = re.sub(' +', ' ', sentence).lower()\n",
    "    if re.search('\\d{1,3}\\s(jours|mois|semaines|an)', sentence) is not None:\n",
    "        return explicit_duration(sentence)\n",
    "    if re.search('du\\s\\d{1,2}\\sau\\s\\d{1,2}\\s'+liste_mois, sentence) is not None:\n",
    "        return np.nan\n",
    "    if re.search('du\\s\\d{1,2}\\s'+liste_mois+'\\sau\\s\\d{1,2}\\s'+liste_mois, sentence) is not None:\n",
    "        return np.nan"
   ]
  },
  {
   "cell_type": "code",
   "execution_count": 63,
   "id": "2db4314e",
   "metadata": {},
   "outputs": [
    {
     "data": {
      "text/html": [
       "<div>\n",
       "<style scoped>\n",
       "    .dataframe tbody tr th:only-of-type {\n",
       "        vertical-align: middle;\n",
       "    }\n",
       "\n",
       "    .dataframe tbody tr th {\n",
       "        vertical-align: top;\n",
       "    }\n",
       "\n",
       "    .dataframe thead th {\n",
       "        text-align: right;\n",
       "    }\n",
       "</style>\n",
       "<table border=\"1\" class=\"dataframe\">\n",
       "  <thead>\n",
       "    <tr style=\"text-align: right;\">\n",
       "      <th></th>\n",
       "      <th>extract</th>\n",
       "      <th>valid</th>\n",
       "    </tr>\n",
       "  </thead>\n",
       "  <tbody>\n",
       "    <tr>\n",
       "      <th>0</th>\n",
       "      <td>une durée de un an</td>\n",
       "      <td>(1, Year)</td>\n",
       "    </tr>\n",
       "    <tr>\n",
       "      <th>1</th>\n",
       "      <td>pour 6 jours</td>\n",
       "      <td>(6, Days)</td>\n",
       "    </tr>\n",
       "    <tr>\n",
       "      <th>3</th>\n",
       "      <td>pendant 15 jours</td>\n",
       "      <td>(15, Days)</td>\n",
       "    </tr>\n",
       "    <tr>\n",
       "      <th>6</th>\n",
       "      <td>pour un an</td>\n",
       "      <td>(1, Year)</td>\n",
       "    </tr>\n",
       "    <tr>\n",
       "      <th>7</th>\n",
       "      <td>6 mois</td>\n",
       "      <td>(6, Months)</td>\n",
       "    </tr>\n",
       "    <tr>\n",
       "      <th>...</th>\n",
       "      <td>...</td>\n",
       "      <td>...</td>\n",
       "    </tr>\n",
       "    <tr>\n",
       "      <th>162</th>\n",
       "      <td>pendant 5 jours.</td>\n",
       "      <td>(5, Days)</td>\n",
       "    </tr>\n",
       "    <tr>\n",
       "      <th>171</th>\n",
       "      <td>une durée de 5 semaines</td>\n",
       "      <td>(5, Weeks)</td>\n",
       "    </tr>\n",
       "    <tr>\n",
       "      <th>174</th>\n",
       "      <td>pendant 10 jours.</td>\n",
       "      <td>(10, Days)</td>\n",
       "    </tr>\n",
       "    <tr>\n",
       "      <th>181</th>\n",
       "      <td>pendant 30 jours</td>\n",
       "      <td>(30, Days)</td>\n",
       "    </tr>\n",
       "    <tr>\n",
       "      <th>182</th>\n",
       "      <td>valable pour un an</td>\n",
       "      <td>(1, Year)</td>\n",
       "    </tr>\n",
       "  </tbody>\n",
       "</table>\n",
       "<p>79 rows × 2 columns</p>\n",
       "</div>"
      ],
      "text/plain": [
       "                     extract        valid\n",
       "0         une durée de un an    (1, Year)\n",
       "1               pour 6 jours    (6, Days)\n",
       "3           pendant 15 jours   (15, Days)\n",
       "6                 pour un an    (1, Year)\n",
       "7                     6 mois  (6, Months)\n",
       "..                       ...          ...\n",
       "162         pendant 5 jours.    (5, Days)\n",
       "171  une durée de 5 semaines   (5, Weeks)\n",
       "174        pendant 10 jours.   (10, Days)\n",
       "181         pendant 30 jours   (30, Days)\n",
       "182       valable pour un an    (1, Year)\n",
       "\n",
       "[79 rows x 2 columns]"
      ]
     },
     "execution_count": 63,
     "metadata": {},
     "output_type": "execute_result"
    }
   ],
   "source": [
    "df_test = pd.DataFrame(df_not_null['Duration'].copy().unique(), columns=['extract'])\n",
    "df_test[\"valid\"] = df_test[\"extract\"].apply(lambda x: test(x))\n",
    "df_test.dropna()"
   ]
  },
  {
   "cell_type": "code",
   "execution_count": 64,
   "id": "7d1e79cf",
   "metadata": {},
   "outputs": [
    {
     "data": {
      "text/plain": [
       "0.42934782608695654"
      ]
     },
     "execution_count": 64,
     "metadata": {},
     "output_type": "execute_result"
    }
   ],
   "source": [
    "len(df_test.dropna())/len(df_test)"
   ]
  },
  {
   "cell_type": "markdown",
   "id": "ff613515",
   "metadata": {},
   "source": [
    "## Implicit duration"
   ]
  },
  {
   "cell_type": "markdown",
   "id": "730dfe52",
   "metadata": {},
   "source": [
    "### Jusqu'au ..."
   ]
  },
  {
   "cell_type": "code",
   "execution_count": 74,
   "id": "094dd550",
   "metadata": {},
   "outputs": [],
   "source": [
    "test = \"jusqu'au 10 juin\""
   ]
  },
  {
   "cell_type": "code",
   "execution_count": 75,
   "id": "04017f5f",
   "metadata": {},
   "outputs": [],
   "source": [
    "month_dico = {'janvier':1,\n",
    "             'février':2,\n",
    "             'mars':3,\n",
    "             'avril':4,\n",
    "             'mai':5,\n",
    "             'juin':6,\n",
    "             'juillet':7,\n",
    "             'août':8,\n",
    "             'septembre':9,\n",
    "             'octobre':10,\n",
    "             'novembre':11,\n",
    "             'décembre':12}"
   ]
  },
  {
   "cell_type": "code",
   "execution_count": 112,
   "id": "366057da",
   "metadata": {
    "scrolled": true
   },
   "outputs": [
    {
     "data": {
      "text/html": [
       "<div>\n",
       "<style scoped>\n",
       "    .dataframe tbody tr th:only-of-type {\n",
       "        vertical-align: middle;\n",
       "    }\n",
       "\n",
       "    .dataframe tbody tr th {\n",
       "        vertical-align: top;\n",
       "    }\n",
       "\n",
       "    .dataframe thead th {\n",
       "        text-align: right;\n",
       "    }\n",
       "</style>\n",
       "<table border=\"1\" class=\"dataframe\">\n",
       "  <thead>\n",
       "    <tr style=\"text-align: right;\">\n",
       "      <th></th>\n",
       "      <th>translation</th>\n",
       "      <th>TreatmentDetected_1</th>\n",
       "      <th>NGAP_1</th>\n",
       "      <th>Cotation_1</th>\n",
       "      <th>Hour_1</th>\n",
       "      <th>AldRelated_1</th>\n",
       "      <th>CareBeginDate_1</th>\n",
       "      <th>CareDuration_1</th>\n",
       "      <th>CareDurationTypeEnum_1</th>\n",
       "      <th>CareOnPublicHoliday_1</th>\n",
       "      <th>CareLocation_1</th>\n",
       "      <th>CareBeginHpName_1</th>\n",
       "      <th>ZoneName_1</th>\n",
       "      <th>IK_1</th>\n",
       "    </tr>\n",
       "    <tr>\n",
       "      <th>fichier</th>\n",
       "      <th></th>\n",
       "      <th></th>\n",
       "      <th></th>\n",
       "      <th></th>\n",
       "      <th></th>\n",
       "      <th></th>\n",
       "      <th></th>\n",
       "      <th></th>\n",
       "      <th></th>\n",
       "      <th></th>\n",
       "      <th></th>\n",
       "      <th></th>\n",
       "      <th></th>\n",
       "      <th></th>\n",
       "    </tr>\n",
       "  </thead>\n",
       "  <tbody>\n",
       "    <tr>\n",
       "      <th>9f980dcf-b431-4e67-876f-2b8e288b7900_3b5f3f01-e244-4398-8388-19fb5058c9c1</th>\n",
       "      <td>Prise de sang faite le 19 février à domicile p...</td>\n",
       "      <td>NaN</td>\n",
       "      <td>PSG</td>\n",
       "      <td>NaN</td>\n",
       "      <td>10:00:00</td>\n",
       "      <td>True</td>\n",
       "      <td>2022-02-19T10:00:00</td>\n",
       "      <td>1</td>\n",
       "      <td>Days</td>\n",
       "      <td>True</td>\n",
       "      <td>Domicile</td>\n",
       "      <td>Bouvet Pauline</td>\n",
       "      <td>NaN</td>\n",
       "      <td>{'KilometersNumberPlain': None, 'KilometersNum...</td>\n",
       "    </tr>\n",
       "    <tr>\n",
       "      <th>2d035c4b-cdfa-4982-87dc-916fe07a0824_710f4bda-ba21-434f-883e-1b72df7ea27a</th>\n",
       "      <td>Pansement également refait le 23 mars par mylène.</td>\n",
       "      <td>NaN</td>\n",
       "      <td>PSTA</td>\n",
       "      <td>NaN</td>\n",
       "      <td>18:00:00</td>\n",
       "      <td>True</td>\n",
       "      <td>2022-03-23T18:00:00</td>\n",
       "      <td>1</td>\n",
       "      <td>Days</td>\n",
       "      <td>True</td>\n",
       "      <td>Domicile</td>\n",
       "      <td>Scheuer Mylène</td>\n",
       "      <td>NaN</td>\n",
       "      <td>NaN</td>\n",
       "    </tr>\n",
       "    <tr>\n",
       "      <th>b96ad235-2f4f-4236-9aa3-9df85dfcf7cb_ff1697c1-a01f-4eb5-a1c2-b95205dc389a</th>\n",
       "      <td>Pcr plus prise de sang fait à domicile à 11.</td>\n",
       "      <td>NaN</td>\n",
       "      <td>PV19</td>\n",
       "      <td>NaN</td>\n",
       "      <td>11:00:00</td>\n",
       "      <td>False</td>\n",
       "      <td>2022-03-12T11:00:00</td>\n",
       "      <td>1</td>\n",
       "      <td>Days</td>\n",
       "      <td>True</td>\n",
       "      <td>Domicile</td>\n",
       "      <td>NaN</td>\n",
       "      <td>NaN</td>\n",
       "      <td>NaN</td>\n",
       "    </tr>\n",
       "    <tr>\n",
       "      <th>3e7ffb67-8872-4172-bf18-4fe338ecae3f_6e8b49e5-4213-45da-bad6-158592c7f731</th>\n",
       "      <td>Prise de sang et analyse stérile des urines à ...</td>\n",
       "      <td>NaN</td>\n",
       "      <td>PLVA</td>\n",
       "      <td>NaN</td>\n",
       "      <td>09:00:00</td>\n",
       "      <td>True</td>\n",
       "      <td>2022-02-18T09:00:00</td>\n",
       "      <td>1</td>\n",
       "      <td>Days</td>\n",
       "      <td>True</td>\n",
       "      <td>Domicile</td>\n",
       "      <td>NaN</td>\n",
       "      <td>NaN</td>\n",
       "      <td>NaN</td>\n",
       "    </tr>\n",
       "    <tr>\n",
       "      <th>2d035c4b-cdfa-4982-87dc-916fe07a0824_56c749ad-eed8-407a-ae9e-a17ebf420cf4</th>\n",
       "      <td>Bonjour, merci de renouveler cette ordonnance ...</td>\n",
       "      <td>NaN</td>\n",
       "      <td>PLM</td>\n",
       "      <td>NaN</td>\n",
       "      <td>16:00:00</td>\n",
       "      <td>False</td>\n",
       "      <td>2022-03-18T16:00:00</td>\n",
       "      <td>2</td>\n",
       "      <td>Months</td>\n",
       "      <td>True</td>\n",
       "      <td>Domicile</td>\n",
       "      <td>NaN</td>\n",
       "      <td>NaN</td>\n",
       "      <td>NaN</td>\n",
       "    </tr>\n",
       "    <tr>\n",
       "      <th>...</th>\n",
       "      <td>...</td>\n",
       "      <td>...</td>\n",
       "      <td>...</td>\n",
       "      <td>...</td>\n",
       "      <td>...</td>\n",
       "      <td>...</td>\n",
       "      <td>...</td>\n",
       "      <td>...</td>\n",
       "      <td>...</td>\n",
       "      <td>...</td>\n",
       "      <td>...</td>\n",
       "      <td>...</td>\n",
       "      <td>...</td>\n",
       "      <td>...</td>\n",
       "    </tr>\n",
       "    <tr>\n",
       "      <th>a5050600-95ef-43d8-a5fa-a57c791bf843_448853a4-f75e-403a-8fcb-8dfc18f0b4ec</th>\n",
       "      <td>Test antigénique réalisé cet après-midi à domi...</td>\n",
       "      <td>NaN</td>\n",
       "      <td>TAID19</td>\n",
       "      <td>NaN</td>\n",
       "      <td>14:00:00</td>\n",
       "      <td>False</td>\n",
       "      <td>2022-04-05T14:00:00</td>\n",
       "      <td>1</td>\n",
       "      <td>Days</td>\n",
       "      <td>True</td>\n",
       "      <td>Domicile</td>\n",
       "      <td>NaN</td>\n",
       "      <td>NaN</td>\n",
       "      <td>NaN</td>\n",
       "    </tr>\n",
       "    <tr>\n",
       "      <th>2d035c4b-cdfa-4982-87dc-916fe07a0824_4fb0c6a1-0562-496a-ae88-1adadec059a6</th>\n",
       "      <td>Réalisation d'une prise de sang chez monsieur ...</td>\n",
       "      <td>NaN</td>\n",
       "      <td>PSG</td>\n",
       "      <td>NaN</td>\n",
       "      <td>08:15:00</td>\n",
       "      <td>False</td>\n",
       "      <td>2022-02-24T08:15:00</td>\n",
       "      <td>1</td>\n",
       "      <td>Days</td>\n",
       "      <td>True</td>\n",
       "      <td>Domicile</td>\n",
       "      <td>NaN</td>\n",
       "      <td>NaN</td>\n",
       "      <td>NaN</td>\n",
       "    </tr>\n",
       "    <tr>\n",
       "      <th>b96ad235-2f4f-4236-9aa3-9df85dfcf7cb_b8a5877a-b8ce-4347-b294-3aa46efbcb34</th>\n",
       "      <td>Ordonnance pour la préparation du pilulier en ...</td>\n",
       "      <td>NaN</td>\n",
       "      <td>SSCP</td>\n",
       "      <td>NaN</td>\n",
       "      <td>17:00:00</td>\n",
       "      <td>True</td>\n",
       "      <td>2022-02-03T17:00:00</td>\n",
       "      <td>12</td>\n",
       "      <td>Months</td>\n",
       "      <td>True</td>\n",
       "      <td>Domicile</td>\n",
       "      <td>NaN</td>\n",
       "      <td>NaN</td>\n",
       "      <td>NaN</td>\n",
       "    </tr>\n",
       "    <tr>\n",
       "      <th>978eb126-14a0-46cf-bd27-44b6b77cecb7_01fc29bf-08c4-4e82-99be-8f9f24c5974b</th>\n",
       "      <td>Début des soins le 10 juin. Avec début des sou...</td>\n",
       "      <td>NaN</td>\n",
       "      <td>SC</td>\n",
       "      <td>NaN</td>\n",
       "      <td>08:00:00</td>\n",
       "      <td>True</td>\n",
       "      <td>2021-06-10T08:00:00</td>\n",
       "      <td>21</td>\n",
       "      <td>Days</td>\n",
       "      <td>True</td>\n",
       "      <td>Domicile</td>\n",
       "      <td>NaN</td>\n",
       "      <td>NaN</td>\n",
       "      <td>NaN</td>\n",
       "    </tr>\n",
       "    <tr>\n",
       "      <th>2d035c4b-cdfa-4982-87dc-916fe07a0824_47d4e0f3-f2f0-4a19-9df1-8ab0894980f9</th>\n",
       "      <td>Prise de sang faite au domicile de la patiente...</td>\n",
       "      <td>NaN</td>\n",
       "      <td>PSG</td>\n",
       "      <td>NaN</td>\n",
       "      <td>10:00:00</td>\n",
       "      <td>False</td>\n",
       "      <td>2021-03-19T10:00:00</td>\n",
       "      <td>1</td>\n",
       "      <td>Days</td>\n",
       "      <td>True</td>\n",
       "      <td>Domicile</td>\n",
       "      <td>NaN</td>\n",
       "      <td>NaN</td>\n",
       "      <td>NaN</td>\n",
       "    </tr>\n",
       "  </tbody>\n",
       "</table>\n",
       "<p>4029 rows × 14 columns</p>\n",
       "</div>"
      ],
      "text/plain": [
       "                                                                                          translation  \\\n",
       "fichier                                                                                                 \n",
       "9f980dcf-b431-4e67-876f-2b8e288b7900_3b5f3f01-e...  Prise de sang faite le 19 février à domicile p...   \n",
       "2d035c4b-cdfa-4982-87dc-916fe07a0824_710f4bda-b...  Pansement également refait le 23 mars par mylène.   \n",
       "b96ad235-2f4f-4236-9aa3-9df85dfcf7cb_ff1697c1-a...       Pcr plus prise de sang fait à domicile à 11.   \n",
       "3e7ffb67-8872-4172-bf18-4fe338ecae3f_6e8b49e5-4...  Prise de sang et analyse stérile des urines à ...   \n",
       "2d035c4b-cdfa-4982-87dc-916fe07a0824_56c749ad-e...  Bonjour, merci de renouveler cette ordonnance ...   \n",
       "...                                                                                               ...   \n",
       "a5050600-95ef-43d8-a5fa-a57c791bf843_448853a4-f...  Test antigénique réalisé cet après-midi à domi...   \n",
       "2d035c4b-cdfa-4982-87dc-916fe07a0824_4fb0c6a1-0...  Réalisation d'une prise de sang chez monsieur ...   \n",
       "b96ad235-2f4f-4236-9aa3-9df85dfcf7cb_b8a5877a-b...  Ordonnance pour la préparation du pilulier en ...   \n",
       "978eb126-14a0-46cf-bd27-44b6b77cecb7_01fc29bf-0...  Début des soins le 10 juin. Avec début des sou...   \n",
       "2d035c4b-cdfa-4982-87dc-916fe07a0824_47d4e0f3-f...  Prise de sang faite au domicile de la patiente...   \n",
       "\n",
       "                                                    TreatmentDetected_1  \\\n",
       "fichier                                                                   \n",
       "9f980dcf-b431-4e67-876f-2b8e288b7900_3b5f3f01-e...                  NaN   \n",
       "2d035c4b-cdfa-4982-87dc-916fe07a0824_710f4bda-b...                  NaN   \n",
       "b96ad235-2f4f-4236-9aa3-9df85dfcf7cb_ff1697c1-a...                  NaN   \n",
       "3e7ffb67-8872-4172-bf18-4fe338ecae3f_6e8b49e5-4...                  NaN   \n",
       "2d035c4b-cdfa-4982-87dc-916fe07a0824_56c749ad-e...                  NaN   \n",
       "...                                                                 ...   \n",
       "a5050600-95ef-43d8-a5fa-a57c791bf843_448853a4-f...                  NaN   \n",
       "2d035c4b-cdfa-4982-87dc-916fe07a0824_4fb0c6a1-0...                  NaN   \n",
       "b96ad235-2f4f-4236-9aa3-9df85dfcf7cb_b8a5877a-b...                  NaN   \n",
       "978eb126-14a0-46cf-bd27-44b6b77cecb7_01fc29bf-0...                  NaN   \n",
       "2d035c4b-cdfa-4982-87dc-916fe07a0824_47d4e0f3-f...                  NaN   \n",
       "\n",
       "                                                    NGAP_1 Cotation_1  \\\n",
       "fichier                                                                 \n",
       "9f980dcf-b431-4e67-876f-2b8e288b7900_3b5f3f01-e...     PSG        NaN   \n",
       "2d035c4b-cdfa-4982-87dc-916fe07a0824_710f4bda-b...    PSTA        NaN   \n",
       "b96ad235-2f4f-4236-9aa3-9df85dfcf7cb_ff1697c1-a...    PV19        NaN   \n",
       "3e7ffb67-8872-4172-bf18-4fe338ecae3f_6e8b49e5-4...    PLVA        NaN   \n",
       "2d035c4b-cdfa-4982-87dc-916fe07a0824_56c749ad-e...     PLM        NaN   \n",
       "...                                                    ...        ...   \n",
       "a5050600-95ef-43d8-a5fa-a57c791bf843_448853a4-f...  TAID19        NaN   \n",
       "2d035c4b-cdfa-4982-87dc-916fe07a0824_4fb0c6a1-0...     PSG        NaN   \n",
       "b96ad235-2f4f-4236-9aa3-9df85dfcf7cb_b8a5877a-b...    SSCP        NaN   \n",
       "978eb126-14a0-46cf-bd27-44b6b77cecb7_01fc29bf-0...      SC        NaN   \n",
       "2d035c4b-cdfa-4982-87dc-916fe07a0824_47d4e0f3-f...     PSG        NaN   \n",
       "\n",
       "                                                      Hour_1  AldRelated_1  \\\n",
       "fichier                                                                      \n",
       "9f980dcf-b431-4e67-876f-2b8e288b7900_3b5f3f01-e...  10:00:00          True   \n",
       "2d035c4b-cdfa-4982-87dc-916fe07a0824_710f4bda-b...  18:00:00          True   \n",
       "b96ad235-2f4f-4236-9aa3-9df85dfcf7cb_ff1697c1-a...  11:00:00         False   \n",
       "3e7ffb67-8872-4172-bf18-4fe338ecae3f_6e8b49e5-4...  09:00:00          True   \n",
       "2d035c4b-cdfa-4982-87dc-916fe07a0824_56c749ad-e...  16:00:00         False   \n",
       "...                                                      ...           ...   \n",
       "a5050600-95ef-43d8-a5fa-a57c791bf843_448853a4-f...  14:00:00         False   \n",
       "2d035c4b-cdfa-4982-87dc-916fe07a0824_4fb0c6a1-0...  08:15:00         False   \n",
       "b96ad235-2f4f-4236-9aa3-9df85dfcf7cb_b8a5877a-b...  17:00:00          True   \n",
       "978eb126-14a0-46cf-bd27-44b6b77cecb7_01fc29bf-0...  08:00:00          True   \n",
       "2d035c4b-cdfa-4982-87dc-916fe07a0824_47d4e0f3-f...  10:00:00         False   \n",
       "\n",
       "                                                        CareBeginDate_1  \\\n",
       "fichier                                                                   \n",
       "9f980dcf-b431-4e67-876f-2b8e288b7900_3b5f3f01-e...  2022-02-19T10:00:00   \n",
       "2d035c4b-cdfa-4982-87dc-916fe07a0824_710f4bda-b...  2022-03-23T18:00:00   \n",
       "b96ad235-2f4f-4236-9aa3-9df85dfcf7cb_ff1697c1-a...  2022-03-12T11:00:00   \n",
       "3e7ffb67-8872-4172-bf18-4fe338ecae3f_6e8b49e5-4...  2022-02-18T09:00:00   \n",
       "2d035c4b-cdfa-4982-87dc-916fe07a0824_56c749ad-e...  2022-03-18T16:00:00   \n",
       "...                                                                 ...   \n",
       "a5050600-95ef-43d8-a5fa-a57c791bf843_448853a4-f...  2022-04-05T14:00:00   \n",
       "2d035c4b-cdfa-4982-87dc-916fe07a0824_4fb0c6a1-0...  2022-02-24T08:15:00   \n",
       "b96ad235-2f4f-4236-9aa3-9df85dfcf7cb_b8a5877a-b...  2022-02-03T17:00:00   \n",
       "978eb126-14a0-46cf-bd27-44b6b77cecb7_01fc29bf-0...  2021-06-10T08:00:00   \n",
       "2d035c4b-cdfa-4982-87dc-916fe07a0824_47d4e0f3-f...  2021-03-19T10:00:00   \n",
       "\n",
       "                                                    CareDuration_1  \\\n",
       "fichier                                                              \n",
       "9f980dcf-b431-4e67-876f-2b8e288b7900_3b5f3f01-e...               1   \n",
       "2d035c4b-cdfa-4982-87dc-916fe07a0824_710f4bda-b...               1   \n",
       "b96ad235-2f4f-4236-9aa3-9df85dfcf7cb_ff1697c1-a...               1   \n",
       "3e7ffb67-8872-4172-bf18-4fe338ecae3f_6e8b49e5-4...               1   \n",
       "2d035c4b-cdfa-4982-87dc-916fe07a0824_56c749ad-e...               2   \n",
       "...                                                            ...   \n",
       "a5050600-95ef-43d8-a5fa-a57c791bf843_448853a4-f...               1   \n",
       "2d035c4b-cdfa-4982-87dc-916fe07a0824_4fb0c6a1-0...               1   \n",
       "b96ad235-2f4f-4236-9aa3-9df85dfcf7cb_b8a5877a-b...              12   \n",
       "978eb126-14a0-46cf-bd27-44b6b77cecb7_01fc29bf-0...              21   \n",
       "2d035c4b-cdfa-4982-87dc-916fe07a0824_47d4e0f3-f...               1   \n",
       "\n",
       "                                                   CareDurationTypeEnum_1  \\\n",
       "fichier                                                                     \n",
       "9f980dcf-b431-4e67-876f-2b8e288b7900_3b5f3f01-e...                   Days   \n",
       "2d035c4b-cdfa-4982-87dc-916fe07a0824_710f4bda-b...                   Days   \n",
       "b96ad235-2f4f-4236-9aa3-9df85dfcf7cb_ff1697c1-a...                   Days   \n",
       "3e7ffb67-8872-4172-bf18-4fe338ecae3f_6e8b49e5-4...                   Days   \n",
       "2d035c4b-cdfa-4982-87dc-916fe07a0824_56c749ad-e...                 Months   \n",
       "...                                                                   ...   \n",
       "a5050600-95ef-43d8-a5fa-a57c791bf843_448853a4-f...                   Days   \n",
       "2d035c4b-cdfa-4982-87dc-916fe07a0824_4fb0c6a1-0...                   Days   \n",
       "b96ad235-2f4f-4236-9aa3-9df85dfcf7cb_b8a5877a-b...                 Months   \n",
       "978eb126-14a0-46cf-bd27-44b6b77cecb7_01fc29bf-0...                   Days   \n",
       "2d035c4b-cdfa-4982-87dc-916fe07a0824_47d4e0f3-f...                   Days   \n",
       "\n",
       "                                                    CareOnPublicHoliday_1  \\\n",
       "fichier                                                                     \n",
       "9f980dcf-b431-4e67-876f-2b8e288b7900_3b5f3f01-e...                   True   \n",
       "2d035c4b-cdfa-4982-87dc-916fe07a0824_710f4bda-b...                   True   \n",
       "b96ad235-2f4f-4236-9aa3-9df85dfcf7cb_ff1697c1-a...                   True   \n",
       "3e7ffb67-8872-4172-bf18-4fe338ecae3f_6e8b49e5-4...                   True   \n",
       "2d035c4b-cdfa-4982-87dc-916fe07a0824_56c749ad-e...                   True   \n",
       "...                                                                   ...   \n",
       "a5050600-95ef-43d8-a5fa-a57c791bf843_448853a4-f...                   True   \n",
       "2d035c4b-cdfa-4982-87dc-916fe07a0824_4fb0c6a1-0...                   True   \n",
       "b96ad235-2f4f-4236-9aa3-9df85dfcf7cb_b8a5877a-b...                   True   \n",
       "978eb126-14a0-46cf-bd27-44b6b77cecb7_01fc29bf-0...                   True   \n",
       "2d035c4b-cdfa-4982-87dc-916fe07a0824_47d4e0f3-f...                   True   \n",
       "\n",
       "                                                   CareLocation_1  \\\n",
       "fichier                                                             \n",
       "9f980dcf-b431-4e67-876f-2b8e288b7900_3b5f3f01-e...       Domicile   \n",
       "2d035c4b-cdfa-4982-87dc-916fe07a0824_710f4bda-b...       Domicile   \n",
       "b96ad235-2f4f-4236-9aa3-9df85dfcf7cb_ff1697c1-a...       Domicile   \n",
       "3e7ffb67-8872-4172-bf18-4fe338ecae3f_6e8b49e5-4...       Domicile   \n",
       "2d035c4b-cdfa-4982-87dc-916fe07a0824_56c749ad-e...       Domicile   \n",
       "...                                                           ...   \n",
       "a5050600-95ef-43d8-a5fa-a57c791bf843_448853a4-f...       Domicile   \n",
       "2d035c4b-cdfa-4982-87dc-916fe07a0824_4fb0c6a1-0...       Domicile   \n",
       "b96ad235-2f4f-4236-9aa3-9df85dfcf7cb_b8a5877a-b...       Domicile   \n",
       "978eb126-14a0-46cf-bd27-44b6b77cecb7_01fc29bf-0...       Domicile   \n",
       "2d035c4b-cdfa-4982-87dc-916fe07a0824_47d4e0f3-f...       Domicile   \n",
       "\n",
       "                                                   CareBeginHpName_1  \\\n",
       "fichier                                                                \n",
       "9f980dcf-b431-4e67-876f-2b8e288b7900_3b5f3f01-e...    Bouvet Pauline   \n",
       "2d035c4b-cdfa-4982-87dc-916fe07a0824_710f4bda-b...    Scheuer Mylène   \n",
       "b96ad235-2f4f-4236-9aa3-9df85dfcf7cb_ff1697c1-a...               NaN   \n",
       "3e7ffb67-8872-4172-bf18-4fe338ecae3f_6e8b49e5-4...               NaN   \n",
       "2d035c4b-cdfa-4982-87dc-916fe07a0824_56c749ad-e...               NaN   \n",
       "...                                                              ...   \n",
       "a5050600-95ef-43d8-a5fa-a57c791bf843_448853a4-f...               NaN   \n",
       "2d035c4b-cdfa-4982-87dc-916fe07a0824_4fb0c6a1-0...               NaN   \n",
       "b96ad235-2f4f-4236-9aa3-9df85dfcf7cb_b8a5877a-b...               NaN   \n",
       "978eb126-14a0-46cf-bd27-44b6b77cecb7_01fc29bf-0...               NaN   \n",
       "2d035c4b-cdfa-4982-87dc-916fe07a0824_47d4e0f3-f...               NaN   \n",
       "\n",
       "                                                   ZoneName_1  \\\n",
       "fichier                                                         \n",
       "9f980dcf-b431-4e67-876f-2b8e288b7900_3b5f3f01-e...        NaN   \n",
       "2d035c4b-cdfa-4982-87dc-916fe07a0824_710f4bda-b...        NaN   \n",
       "b96ad235-2f4f-4236-9aa3-9df85dfcf7cb_ff1697c1-a...        NaN   \n",
       "3e7ffb67-8872-4172-bf18-4fe338ecae3f_6e8b49e5-4...        NaN   \n",
       "2d035c4b-cdfa-4982-87dc-916fe07a0824_56c749ad-e...        NaN   \n",
       "...                                                       ...   \n",
       "a5050600-95ef-43d8-a5fa-a57c791bf843_448853a4-f...        NaN   \n",
       "2d035c4b-cdfa-4982-87dc-916fe07a0824_4fb0c6a1-0...        NaN   \n",
       "b96ad235-2f4f-4236-9aa3-9df85dfcf7cb_b8a5877a-b...        NaN   \n",
       "978eb126-14a0-46cf-bd27-44b6b77cecb7_01fc29bf-0...        NaN   \n",
       "2d035c4b-cdfa-4982-87dc-916fe07a0824_47d4e0f3-f...        NaN   \n",
       "\n",
       "                                                                                                 IK_1  \n",
       "fichier                                                                                                \n",
       "9f980dcf-b431-4e67-876f-2b8e288b7900_3b5f3f01-e...  {'KilometersNumberPlain': None, 'KilometersNum...  \n",
       "2d035c4b-cdfa-4982-87dc-916fe07a0824_710f4bda-b...                                                NaN  \n",
       "b96ad235-2f4f-4236-9aa3-9df85dfcf7cb_ff1697c1-a...                                                NaN  \n",
       "3e7ffb67-8872-4172-bf18-4fe338ecae3f_6e8b49e5-4...                                                NaN  \n",
       "2d035c4b-cdfa-4982-87dc-916fe07a0824_56c749ad-e...                                                NaN  \n",
       "...                                                                                               ...  \n",
       "a5050600-95ef-43d8-a5fa-a57c791bf843_448853a4-f...                                                NaN  \n",
       "2d035c4b-cdfa-4982-87dc-916fe07a0824_4fb0c6a1-0...                                                NaN  \n",
       "b96ad235-2f4f-4236-9aa3-9df85dfcf7cb_b8a5877a-b...                                                NaN  \n",
       "978eb126-14a0-46cf-bd27-44b6b77cecb7_01fc29bf-0...                                                NaN  \n",
       "2d035c4b-cdfa-4982-87dc-916fe07a0824_47d4e0f3-f...                                                NaN  \n",
       "\n",
       "[4029 rows x 14 columns]"
      ]
     },
     "execution_count": 112,
     "metadata": {},
     "output_type": "execute_result"
    }
   ],
   "source": [
    "data"
   ]
  },
  {
   "cell_type": "code",
   "execution_count": 122,
   "id": "14d2680e",
   "metadata": {},
   "outputs": [],
   "source": [
    "liste_mois = '(janvier|février|mars|avril|mai|juin|juillet|août|septembre|octobre|novembre|décembre)'"
   ]
  },
  {
   "cell_type": "code",
   "execution_count": 233,
   "id": "4b9ae31d",
   "metadata": {},
   "outputs": [],
   "source": [
    "def implicit_duration_1(sentence, CareBeginDate=None):\n",
    "    df = pd.DataFrame()\n",
    "    end_date = re.search(\"(?<=jusqu\\'au\\s)(\\w\\s)*\\d{1,2}\\s\"+liste_mois, sentence).group()\n",
    "    if CareBeginDate == None:\n",
    "        df[\"CareDuration\"] = [np.nan]\n",
    "        df[\"CareDurationType\"] = [np.nan]\n",
    "        df[\"CareEnd\"] = [end_date]\n",
    "        return df\n",
    "    #transformation de end_date\n",
    "    df_end_date = Date().transform_data(end_date)\n",
    "    end_date_datetime = datetime.date(2022,df_end_date.iloc[0,2],df_end_date.iloc[0,1])\n",
    "    #transformation de CareBeginDate\n",
    "    df_start_date = Date().transform_data(CareBeginDate)\n",
    "    start_date = datetime.date(2022,df_start_date.iloc[0,2],df_start_date.iloc[0,1])\n",
    "    df[\"CareDuration\"] = [(end_date_datetime - start_date).days]\n",
    "    df[\"CareDurationType\"] = [\"Days\"]\n",
    "    df[\"CareEnd\"] = [end_date]\n",
    "    return df"
   ]
  },
  {
   "cell_type": "code",
   "execution_count": 234,
   "id": "660f0760",
   "metadata": {},
   "outputs": [
    {
     "data": {
      "text/html": [
       "<div>\n",
       "<style scoped>\n",
       "    .dataframe tbody tr th:only-of-type {\n",
       "        vertical-align: middle;\n",
       "    }\n",
       "\n",
       "    .dataframe tbody tr th {\n",
       "        vertical-align: top;\n",
       "    }\n",
       "\n",
       "    .dataframe thead th {\n",
       "        text-align: right;\n",
       "    }\n",
       "</style>\n",
       "<table border=\"1\" class=\"dataframe\">\n",
       "  <thead>\n",
       "    <tr style=\"text-align: right;\">\n",
       "      <th></th>\n",
       "      <th>CareDuration</th>\n",
       "      <th>CareDurationType</th>\n",
       "      <th>CareEnd</th>\n",
       "    </tr>\n",
       "  </thead>\n",
       "  <tbody>\n",
       "    <tr>\n",
       "      <th>0</th>\n",
       "      <td>7</td>\n",
       "      <td>Days</td>\n",
       "      <td>10 juin</td>\n",
       "    </tr>\n",
       "  </tbody>\n",
       "</table>\n",
       "</div>"
      ],
      "text/plain": [
       "   CareDuration CareDurationType  CareEnd\n",
       "0             7             Days  10 juin"
      ]
     },
     "execution_count": 234,
     "metadata": {},
     "output_type": "execute_result"
    }
   ],
   "source": [
    "implicit_duration_1(\"traitement jusqu'au 10 juin\",CareBeginDate=\"3 juin\")"
   ]
  },
  {
   "cell_type": "code",
   "execution_count": 235,
   "id": "f7bccf34",
   "metadata": {},
   "outputs": [
    {
     "data": {
      "text/html": [
       "<div>\n",
       "<style scoped>\n",
       "    .dataframe tbody tr th:only-of-type {\n",
       "        vertical-align: middle;\n",
       "    }\n",
       "\n",
       "    .dataframe tbody tr th {\n",
       "        vertical-align: top;\n",
       "    }\n",
       "\n",
       "    .dataframe thead th {\n",
       "        text-align: right;\n",
       "    }\n",
       "</style>\n",
       "<table border=\"1\" class=\"dataframe\">\n",
       "  <thead>\n",
       "    <tr style=\"text-align: right;\">\n",
       "      <th></th>\n",
       "      <th>CareDuration</th>\n",
       "      <th>CareDurationType</th>\n",
       "      <th>CareEnd</th>\n",
       "    </tr>\n",
       "  </thead>\n",
       "  <tbody>\n",
       "    <tr>\n",
       "      <th>0</th>\n",
       "      <td>NaN</td>\n",
       "      <td>NaN</td>\n",
       "      <td>10 juin</td>\n",
       "    </tr>\n",
       "  </tbody>\n",
       "</table>\n",
       "</div>"
      ],
      "text/plain": [
       "   CareDuration  CareDurationType  CareEnd\n",
       "0           NaN               NaN  10 juin"
      ]
     },
     "execution_count": 235,
     "metadata": {},
     "output_type": "execute_result"
    }
   ],
   "source": [
    "implicit_duration_1(\"traitement jusqu'au 10 juin\")"
   ]
  },
  {
   "cell_type": "markdown",
   "id": "9d141443",
   "metadata": {},
   "source": [
    "### Du XX au XX mois"
   ]
  },
  {
   "cell_type": "code",
   "execution_count": 137,
   "id": "cc1d4db7",
   "metadata": {},
   "outputs": [],
   "source": [
    "test = \"du 6 juin au 15 juin\""
   ]
  },
  {
   "cell_type": "code",
   "execution_count": 142,
   "id": "63d605f1",
   "metadata": {},
   "outputs": [
    {
     "data": {
      "text/plain": [
       "'du 6 juin au 15 juin'"
      ]
     },
     "execution_count": 142,
     "metadata": {},
     "output_type": "execute_result"
    }
   ],
   "source": [
    "re.search('(du\\s)(\\d{1,2})(\\sjuin\\s)(au\\s)\\d{1,2}\\sjuin', test).group()"
   ]
  },
  {
   "cell_type": "code",
   "execution_count": null,
   "id": "5e5b136f",
   "metadata": {},
   "outputs": [],
   "source": [
    "'((?<=pour\\s)|(?<=pendant\\s))*\\d{1,3}\\s(jours|mois|semaines|an)'"
   ]
  }
 ],
 "metadata": {
  "kernelspec": {
   "display_name": "Python 3 (ipykernel)",
   "language": "python",
   "name": "python3"
  },
  "language_info": {
   "codemirror_mode": {
    "name": "ipython",
    "version": 3
   },
   "file_extension": ".py",
   "mimetype": "text/x-python",
   "name": "python",
   "nbconvert_exporter": "python",
   "pygments_lexer": "ipython3",
   "version": "3.8.12"
  },
  "toc": {
   "base_numbering": 1,
   "nav_menu": {},
   "number_sections": true,
   "sideBar": true,
   "skip_h1_title": false,
   "title_cell": "Table of Contents",
   "title_sidebar": "Contents",
   "toc_cell": false,
   "toc_position": {},
   "toc_section_display": true,
   "toc_window_display": false
  }
 },
 "nbformat": 4,
 "nbformat_minor": 5
}
