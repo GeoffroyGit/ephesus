{
 "cells": [
  {
   "cell_type": "code",
   "execution_count": 39,
   "id": "a489be9b",
   "metadata": {},
   "outputs": [],
   "source": [
    "from ephesus.data import get_data_csv\n",
    "from ephesus.sentence import return_label, load_model\n",
    "import spacy\n",
    "import numpy as np\n",
    "import seaborn as sns"
   ]
  },
  {
   "cell_type": "markdown",
   "id": "20309f68",
   "metadata": {},
   "source": [
    "# Exploration"
   ]
  },
  {
   "cell_type": "code",
   "execution_count": 2,
   "id": "159fae2c",
   "metadata": {},
   "outputs": [],
   "source": [
    "data = get_data_csv()"
   ]
  },
  {
   "cell_type": "code",
   "execution_count": 5,
   "id": "87b0a53b",
   "metadata": {},
   "outputs": [
    {
     "data": {
      "text/plain": [
       "Index(['translation', 'TreatmentDetected_1', 'NGAP_1', 'Cotation_1', 'Hour_1',\n",
       "       'AldRelated_1', 'CareBeginDate_1', 'CareDuration_1',\n",
       "       'CareDurationTypeEnum_1', 'CareOnPublicHoliday_1', 'CareLocation_1',\n",
       "       'CareBeginHpName_1', 'ZoneName_1', 'IK_1'],\n",
       "      dtype='object')"
      ]
     },
     "execution_count": 5,
     "metadata": {},
     "output_type": "execute_result"
    }
   ],
   "source": [
    "data.columns"
   ]
  },
  {
   "cell_type": "code",
   "execution_count": 6,
   "id": "cc8507ce",
   "metadata": {},
   "outputs": [
    {
     "data": {
      "text/html": [
       "<div>\n",
       "<style scoped>\n",
       "    .dataframe tbody tr th:only-of-type {\n",
       "        vertical-align: middle;\n",
       "    }\n",
       "\n",
       "    .dataframe tbody tr th {\n",
       "        vertical-align: top;\n",
       "    }\n",
       "\n",
       "    .dataframe thead th {\n",
       "        text-align: right;\n",
       "    }\n",
       "</style>\n",
       "<table border=\"1\" class=\"dataframe\">\n",
       "  <thead>\n",
       "    <tr style=\"text-align: right;\">\n",
       "      <th></th>\n",
       "      <th>translation</th>\n",
       "      <th>CareBeginDate_1</th>\n",
       "      <th>CareDuration_1</th>\n",
       "      <th>CareDurationTypeEnum_1</th>\n",
       "    </tr>\n",
       "    <tr>\n",
       "      <th>fichier</th>\n",
       "      <th></th>\n",
       "      <th></th>\n",
       "      <th></th>\n",
       "      <th></th>\n",
       "    </tr>\n",
       "  </thead>\n",
       "  <tbody>\n",
       "    <tr>\n",
       "      <th>9f980dcf-b431-4e67-876f-2b8e288b7900_3b5f3f01-e244-4398-8388-19fb5058c9c1</th>\n",
       "      <td>Prise de sang faite le 19 février à domicile p...</td>\n",
       "      <td>2022-02-19T10:00:00</td>\n",
       "      <td>1</td>\n",
       "      <td>Days</td>\n",
       "    </tr>\n",
       "    <tr>\n",
       "      <th>2d035c4b-cdfa-4982-87dc-916fe07a0824_710f4bda-ba21-434f-883e-1b72df7ea27a</th>\n",
       "      <td>Pansement également refait le 23 mars par mylène.</td>\n",
       "      <td>2022-03-23T18:00:00</td>\n",
       "      <td>1</td>\n",
       "      <td>Days</td>\n",
       "    </tr>\n",
       "    <tr>\n",
       "      <th>b96ad235-2f4f-4236-9aa3-9df85dfcf7cb_ff1697c1-a01f-4eb5-a1c2-b95205dc389a</th>\n",
       "      <td>Pcr plus prise de sang fait à domicile à 11.</td>\n",
       "      <td>2022-03-12T11:00:00</td>\n",
       "      <td>1</td>\n",
       "      <td>Days</td>\n",
       "    </tr>\n",
       "    <tr>\n",
       "      <th>3e7ffb67-8872-4172-bf18-4fe338ecae3f_6e8b49e5-4213-45da-bad6-158592c7f731</th>\n",
       "      <td>Prise de sang et analyse stérile des urines à ...</td>\n",
       "      <td>2022-02-18T09:00:00</td>\n",
       "      <td>1</td>\n",
       "      <td>Days</td>\n",
       "    </tr>\n",
       "    <tr>\n",
       "      <th>2d035c4b-cdfa-4982-87dc-916fe07a0824_56c749ad-eed8-407a-ae9e-a17ebf420cf4</th>\n",
       "      <td>Bonjour, merci de renouveler cette ordonnance ...</td>\n",
       "      <td>2022-03-18T16:00:00</td>\n",
       "      <td>2</td>\n",
       "      <td>Months</td>\n",
       "    </tr>\n",
       "  </tbody>\n",
       "</table>\n",
       "</div>"
      ],
      "text/plain": [
       "                                                                                          translation  ... CareDurationTypeEnum_1\n",
       "fichier                                                                                                ...                       \n",
       "9f980dcf-b431-4e67-876f-2b8e288b7900_3b5f3f01-e...  Prise de sang faite le 19 février à domicile p...  ...                   Days\n",
       "2d035c4b-cdfa-4982-87dc-916fe07a0824_710f4bda-b...  Pansement également refait le 23 mars par mylène.  ...                   Days\n",
       "b96ad235-2f4f-4236-9aa3-9df85dfcf7cb_ff1697c1-a...       Pcr plus prise de sang fait à domicile à 11.  ...                   Days\n",
       "3e7ffb67-8872-4172-bf18-4fe338ecae3f_6e8b49e5-4...  Prise de sang et analyse stérile des urines à ...  ...                   Days\n",
       "2d035c4b-cdfa-4982-87dc-916fe07a0824_56c749ad-e...  Bonjour, merci de renouveler cette ordonnance ...  ...                 Months\n",
       "\n",
       "[5 rows x 4 columns]"
      ]
     },
     "execution_count": 6,
     "metadata": {},
     "output_type": "execute_result"
    }
   ],
   "source": [
    "df_extract = data.copy()[['translation','CareBeginDate_1','CareDuration_1','CareDurationTypeEnum_1']]\n",
    "df_extract.head()"
   ]
  },
  {
   "cell_type": "code",
   "execution_count": 11,
   "id": "2dbeda3b",
   "metadata": {},
   "outputs": [],
   "source": [
    "nlp = load_model(\"../models/model_full/model-best\")"
   ]
  },
  {
   "cell_type": "code",
   "execution_count": 12,
   "id": "c7b53431",
   "metadata": {},
   "outputs": [],
   "source": [
    "df_extract['extracted_label'] = df_extract['translation'].apply(lambda x: return_label(x, nlp))"
   ]
  },
  {
   "cell_type": "code",
   "execution_count": 13,
   "id": "0c758361",
   "metadata": {},
   "outputs": [],
   "source": [
    "def extract(prediction, label):\n",
    "    for elm in prediction:\n",
    "        if elm[1] == label:\n",
    "            if elm[0] == np.nan:\n",
    "                return np.nan\n",
    "            else:\n",
    "                return elm[0]  "
   ]
  },
  {
   "cell_type": "code",
   "execution_count": 16,
   "id": "dce12e9b",
   "metadata": {},
   "outputs": [],
   "source": [
    "df_extract['Duration'] = df_extract['extracted_label'].apply(lambda x: extract(x, \"Duration\"))"
   ]
  },
  {
   "cell_type": "code",
   "execution_count": 17,
   "id": "5e21a217",
   "metadata": {},
   "outputs": [
    {
     "data": {
      "text/html": [
       "<div>\n",
       "<style scoped>\n",
       "    .dataframe tbody tr th:only-of-type {\n",
       "        vertical-align: middle;\n",
       "    }\n",
       "\n",
       "    .dataframe tbody tr th {\n",
       "        vertical-align: top;\n",
       "    }\n",
       "\n",
       "    .dataframe thead th {\n",
       "        text-align: right;\n",
       "    }\n",
       "</style>\n",
       "<table border=\"1\" class=\"dataframe\">\n",
       "  <thead>\n",
       "    <tr style=\"text-align: right;\">\n",
       "      <th></th>\n",
       "      <th>translation</th>\n",
       "      <th>CareBeginDate_1</th>\n",
       "      <th>CareDuration_1</th>\n",
       "      <th>CareDurationTypeEnum_1</th>\n",
       "      <th>extracted_label</th>\n",
       "      <th>Duration</th>\n",
       "    </tr>\n",
       "    <tr>\n",
       "      <th>fichier</th>\n",
       "      <th></th>\n",
       "      <th></th>\n",
       "      <th></th>\n",
       "      <th></th>\n",
       "      <th></th>\n",
       "      <th></th>\n",
       "    </tr>\n",
       "  </thead>\n",
       "  <tbody>\n",
       "    <tr>\n",
       "      <th>9f980dcf-b431-4e67-876f-2b8e288b7900_3b5f3f01-e244-4398-8388-19fb5058c9c1</th>\n",
       "      <td>Prise de sang faite le 19 février à domicile p...</td>\n",
       "      <td>2022-02-19T10:00:00</td>\n",
       "      <td>1</td>\n",
       "      <td>Days</td>\n",
       "      <td>[(Prise de sang, Treatment), (le 19 février, D...</td>\n",
       "      <td>None</td>\n",
       "    </tr>\n",
       "    <tr>\n",
       "      <th>2d035c4b-cdfa-4982-87dc-916fe07a0824_710f4bda-ba21-434f-883e-1b72df7ea27a</th>\n",
       "      <td>Pansement également refait le 23 mars par mylène.</td>\n",
       "      <td>2022-03-23T18:00:00</td>\n",
       "      <td>1</td>\n",
       "      <td>Days</td>\n",
       "      <td>[(Pansement, Treatment), (23 mars, Date)]</td>\n",
       "      <td>None</td>\n",
       "    </tr>\n",
       "    <tr>\n",
       "      <th>b96ad235-2f4f-4236-9aa3-9df85dfcf7cb_ff1697c1-a01f-4eb5-a1c2-b95205dc389a</th>\n",
       "      <td>Pcr plus prise de sang fait à domicile à 11.</td>\n",
       "      <td>2022-03-12T11:00:00</td>\n",
       "      <td>1</td>\n",
       "      <td>Days</td>\n",
       "      <td>[(prise de sang, Treatment), (domicile, Locati...</td>\n",
       "      <td>None</td>\n",
       "    </tr>\n",
       "    <tr>\n",
       "      <th>3e7ffb67-8872-4172-bf18-4fe338ecae3f_6e8b49e5-4213-45da-bad6-158592c7f731</th>\n",
       "      <td>Prise de sang et analyse stérile des urines à ...</td>\n",
       "      <td>2022-02-18T09:00:00</td>\n",
       "      <td>1</td>\n",
       "      <td>Days</td>\n",
       "      <td>[(Prise de sang, Treatment), (analyse stérile ...</td>\n",
       "      <td>None</td>\n",
       "    </tr>\n",
       "    <tr>\n",
       "      <th>2d035c4b-cdfa-4982-87dc-916fe07a0824_56c749ad-eed8-407a-ae9e-a17ebf420cf4</th>\n",
       "      <td>Bonjour, merci de renouveler cette ordonnance ...</td>\n",
       "      <td>2022-03-18T16:00:00</td>\n",
       "      <td>2</td>\n",
       "      <td>Months</td>\n",
       "      <td>[(pansement, Treatment), (bien marqué, Treatme...</td>\n",
       "      <td>None</td>\n",
       "    </tr>\n",
       "  </tbody>\n",
       "</table>\n",
       "</div>"
      ],
      "text/plain": [
       "                                                                                          translation  ... Duration\n",
       "fichier                                                                                                ...         \n",
       "9f980dcf-b431-4e67-876f-2b8e288b7900_3b5f3f01-e...  Prise de sang faite le 19 février à domicile p...  ...     None\n",
       "2d035c4b-cdfa-4982-87dc-916fe07a0824_710f4bda-b...  Pansement également refait le 23 mars par mylène.  ...     None\n",
       "b96ad235-2f4f-4236-9aa3-9df85dfcf7cb_ff1697c1-a...       Pcr plus prise de sang fait à domicile à 11.  ...     None\n",
       "3e7ffb67-8872-4172-bf18-4fe338ecae3f_6e8b49e5-4...  Prise de sang et analyse stérile des urines à ...  ...     None\n",
       "2d035c4b-cdfa-4982-87dc-916fe07a0824_56c749ad-e...  Bonjour, merci de renouveler cette ordonnance ...  ...     None\n",
       "\n",
       "[5 rows x 6 columns]"
      ]
     },
     "execution_count": 17,
     "metadata": {},
     "output_type": "execute_result"
    }
   ],
   "source": [
    "df_extract.head()"
   ]
  },
  {
   "cell_type": "code",
   "execution_count": 19,
   "id": "79246010",
   "metadata": {},
   "outputs": [
    {
     "data": {
      "text/plain": [
       "translation                  0\n",
       "CareBeginDate_1              0\n",
       "CareDuration_1               0\n",
       "CareDurationTypeEnum_1       0\n",
       "extracted_label              0\n",
       "Duration                  3655\n",
       "dtype: int64"
      ]
     },
     "execution_count": 19,
     "metadata": {},
     "output_type": "execute_result"
    }
   ],
   "source": [
    "df_extract.isna().sum()"
   ]
  },
  {
   "cell_type": "code",
   "execution_count": 22,
   "id": "1660db2f",
   "metadata": {},
   "outputs": [],
   "source": [
    "df_extract['Duration'][1]"
   ]
  },
  {
   "cell_type": "code",
   "execution_count": 31,
   "id": "86850530",
   "metadata": {},
   "outputs": [
    {
     "data": {
      "text/html": [
       "<div>\n",
       "<style scoped>\n",
       "    .dataframe tbody tr th:only-of-type {\n",
       "        vertical-align: middle;\n",
       "    }\n",
       "\n",
       "    .dataframe tbody tr th {\n",
       "        vertical-align: top;\n",
       "    }\n",
       "\n",
       "    .dataframe thead th {\n",
       "        text-align: right;\n",
       "    }\n",
       "</style>\n",
       "<table border=\"1\" class=\"dataframe\">\n",
       "  <thead>\n",
       "    <tr style=\"text-align: right;\">\n",
       "      <th></th>\n",
       "      <th>translation</th>\n",
       "      <th>CareBeginDate_1</th>\n",
       "      <th>CareDuration_1</th>\n",
       "      <th>CareDurationTypeEnum_1</th>\n",
       "      <th>extracted_label</th>\n",
       "      <th>Duration</th>\n",
       "    </tr>\n",
       "    <tr>\n",
       "      <th>fichier</th>\n",
       "      <th></th>\n",
       "      <th></th>\n",
       "      <th></th>\n",
       "      <th></th>\n",
       "      <th></th>\n",
       "      <th></th>\n",
       "    </tr>\n",
       "  </thead>\n",
       "  <tbody>\n",
       "    <tr>\n",
       "      <th>55d674cc-3389-4cf6-ab7c-1f1b9fa1b6ed_3e005951-47a1-4edb-ab50-ce602fe56c54</th>\n",
       "      <td>Renouvellement du bsc. D'une durée de un an à ...</td>\n",
       "      <td>2021-05-18T00:00:00</td>\n",
       "      <td>1</td>\n",
       "      <td>Days</td>\n",
       "      <td>[(une durée de un an, Duration), (21 mai 2021,...</td>\n",
       "      <td>une durée de un an</td>\n",
       "    </tr>\n",
       "    <tr>\n",
       "      <th>2d035c4b-cdfa-4982-87dc-916fe07a0824_2dfdf4ab-fc95-4ec1-8e03-af502b95baf8</th>\n",
       "      <td>Ordonnance pour la réalisation de injection de...</td>\n",
       "      <td>2021-04-17T08:30:00</td>\n",
       "      <td>6</td>\n",
       "      <td>Days</td>\n",
       "      <td>[(injection de kétoprofène, Treatment), (intra...</td>\n",
       "      <td>pour 6 jours</td>\n",
       "    </tr>\n",
       "    <tr>\n",
       "      <th>c619f0e1-7c22-4047-adb2-df4dec6643ba_8214d80f-0f7d-4e0d-9d4a-23294f9690b3</th>\n",
       "      <td>Soin débuté le vendredi 14 janvier 2022 jusqu'...</td>\n",
       "      <td>2022-01-14T12:30:00</td>\n",
       "      <td>4</td>\n",
       "      <td>Days</td>\n",
       "      <td>[(Soin, Treatment), (vendredi 14 janvier 2022,...</td>\n",
       "      <td>jusqu'au lundi 17 janvier 2022</td>\n",
       "    </tr>\n",
       "    <tr>\n",
       "      <th>f0caa21b-c11d-40a3-98ec-e2df3d2b9cc4_7e5c146c-2faa-44ce-9228-ee5addf48580</th>\n",
       "      <td>Soin débuté le 10 avril,  à réaliser donc le s...</td>\n",
       "      <td>2021-04-10T08:00:00</td>\n",
       "      <td>15</td>\n",
       "      <td>Days</td>\n",
       "      <td>[(Soin, Treatment), (10 avril, Date), (samedi ...</td>\n",
       "      <td>pendant 15 jours</td>\n",
       "    </tr>\n",
       "    <tr>\n",
       "      <th>c619f0e1-7c22-4047-adb2-df4dec6643ba_108cb1d9-6a25-4b7e-ba5a-390d464ed37c</th>\n",
       "      <td>Je ne vois pas les perfusions dans la dernière...</td>\n",
       "      <td>2022-01-19T06:30:00</td>\n",
       "      <td>1</td>\n",
       "      <td>Months</td>\n",
       "      <td>[(fin du mois, Duration), (le mois de février,...</td>\n",
       "      <td>fin du mois</td>\n",
       "    </tr>\n",
       "  </tbody>\n",
       "</table>\n",
       "</div>"
      ],
      "text/plain": [
       "                                                                                          translation  ...                        Duration\n",
       "fichier                                                                                                ...                                \n",
       "55d674cc-3389-4cf6-ab7c-1f1b9fa1b6ed_3e005951-4...  Renouvellement du bsc. D'une durée de un an à ...  ...              une durée de un an\n",
       "2d035c4b-cdfa-4982-87dc-916fe07a0824_2dfdf4ab-f...  Ordonnance pour la réalisation de injection de...  ...                    pour 6 jours\n",
       "c619f0e1-7c22-4047-adb2-df4dec6643ba_8214d80f-0...  Soin débuté le vendredi 14 janvier 2022 jusqu'...  ...  jusqu'au lundi 17 janvier 2022\n",
       "f0caa21b-c11d-40a3-98ec-e2df3d2b9cc4_7e5c146c-2...  Soin débuté le 10 avril,  à réaliser donc le s...  ...                pendant 15 jours\n",
       "c619f0e1-7c22-4047-adb2-df4dec6643ba_108cb1d9-6...  Je ne vois pas les perfusions dans la dernière...  ...                     fin du mois\n",
       "\n",
       "[5 rows x 6 columns]"
      ]
     },
     "execution_count": 31,
     "metadata": {},
     "output_type": "execute_result"
    }
   ],
   "source": [
    "df_not_null = df_extract.dropna()\n",
    "df_not_null.head()"
   ]
  },
  {
   "cell_type": "code",
   "execution_count": 37,
   "id": "286ccc0f",
   "metadata": {},
   "outputs": [
    {
     "data": {
      "text/plain": [
       "array(['une durée de un an', 'pour 6 jours',\n",
       "       \"jusqu'au lundi 17 janvier 2022\", 'pendant 15 jours',\n",
       "       'fin du mois', \"jusqu'au 8/12/2019\", 'pour un an', '6 mois',\n",
       "       'au 21 mars', 'jusque vendredi 25 février inclus',\n",
       "       'pendant 3 mois', \"jusqu'au 28 novembre\", \"jusqu'à\",\n",
       "       \"Jusqu'au. 8 septembre\", 'une durée de 3 mois', 'pendant 20 jours',\n",
       "       'durée de 12 mois', 'pour 6 mois', '2 mois',\n",
       "       'du 5 mars au 14 mars', 'une série de 10 mineuses',\n",
       "       'pendant un mois', 'pendant 3 semaines', 'pendant 21 jours',\n",
       "       'pendant donc 15 jours', 'pour 15 jours', 'cim si 86',\n",
       "       'pendant  5 jours', '3 mois', 'ais 3 matins', 'durée de 15 jours',\n",
       "       '6 fois', \"jusqu'au.\", 'pour 3 mois', 'pendant 6 mois',\n",
       "       'pendant une semaine', 'pendant 3 jours', 'pendant 10 mois',\n",
       "       'au premier avril', 'pendant 10 jours', 'pendant 49 jours',\n",
       "       \"jusqu'au dimanche 7\", 'erreur de cotation', \"jusqu'à 11h15\",\n",
       "       \"jusqu'à vendredi\", 'pendant 5 semaines', 'pendant 35 jours.',\n",
       "       \"jusqu'au 16 avril\", 'pendant 5 jours', 'pendant 2 semaines',\n",
       "       'du 25 au 28 février', 'pour lundi 7 février', 'pendant midi',\n",
       "       'pour 8 mois', \"jusqu'au 20 février\", 'du 12 au 21 février',\n",
       "       'pendant 7 jours', 'du 14 mars', '-moi 12 jours', 'pour 8',\n",
       "       'pendant 5 mois.', \"jusqu'au 18 juillet\", 'du 25 mars',\n",
       "       'pour 28 jours', '6 2ais3', 'pendant 4 semaines',\n",
       "       'pendant 8 jours', \"pendant 10 fois d'affilée\", 'pendant 6 jours',\n",
       "       \"jusqu'au 21 et après\", '-moi au matin', 'pendant 14 jours',\n",
       "       'pour un premier', \"jusqu'au 4 mars\", 'pendant 4 mois',\n",
       "       'une durée de 6 mois', 'pour un mois', 'pendant un an',\n",
       "       'pour 12 fois', '19/04 au domicile', '6 octobre au matin',\n",
       "       'pendant 6 semaines', 'du premier au 20 mars', \"jusqu'à ce\",\n",
       "       '6 jours', \"jusqu'au 27 octobre\", 'pour 7 jours',\n",
       "       'durée de 3 semaines', \"jusqu'au dimanche 27 juin\",\n",
       "       'pendant 15 jours.', \"du 3 mars et jusqu'au 6 mars inclus\",\n",
       "       'un mois', 'pour 21 jours', 'pendant 2 mois',\n",
       "       'pause de sonde de naso-Gastrique', \"jusqu'au 11 septembre\",\n",
       "       \"jusqu'au 17 janvier\", \"jusqu'au 7 avril\", 'durée de 6 mois',\n",
       "       'une durée de 21 jours', 'pendant 2', \"jusqu'à équilibre\",\n",
       "       \"jusqu'au 2 avril inclus\", '6 au matin soir', 'dans 15 jours',\n",
       "       'durée de 3 mois', 'pendant 60 jours', \"jusqu'au 25\",\n",
       "       \"jusqu'au 9 septembre\", \"jusqu'au 8e jour\", 'pendant et on',\n",
       "       \"jusqu'au 15 inclus\", '0 un 2022', 'valable 6 mois',\n",
       "       'pendant 6 jours.', 'programmé 5 jours', 'valable un an',\n",
       "       \"jusqu'au 12 juillet\", 'dans 14 jours', 'du 11 décembre',\n",
       "       'pour soins infirmiers', \"Jusqu'à demain\", \"puisqu'elle eu 90\",\n",
       "       'les 15 jours', 'pendant une période de 10 jours',\n",
       "       'pendant 2 jours', \"jusqu'au vendredi 7 janvier\", \"d'une oreille\",\n",
       "       '21/08/20 au soir', 'pour 14 jours', 'pendant 21 jours.',\n",
       "       \"jusqu'au 18 août\", 'Pour un mois', 'pendant 31 jours',\n",
       "       'durée de 2 mois', 'dizaine de jours', 'fait samedi 8',\n",
       "       \"jusqu'au 6 mars\", 'pendant une', \"jusqu'au 2 avril\", 'six mois',\n",
       "       \"jusqu'au,\", 'ais3 le soir', 'depuis 10 jours', 'pendant 5 jours,',\n",
       "       'une durée de 12 mois', \"jusqu'au 18 inclus\", 'au 10 avril',\n",
       "       'jusqu au 28', 'pour 5 jours', 'du 25 et on finit',\n",
       "       \"Jusqu'à cicatrisation\", \"jusqu'au 25 novembre\",\n",
       "       'une durée de un mois', 'le 25', 'du 12 au 21 mai',\n",
       "       'du 24 décembre au 24 mars 2022', 'et 18 février',\n",
       "       'fin le 25 février', '2 en cotation', 'série de 8 jours',\n",
       "       \"jusqu'au 2 août\", 'pendant 5 jours.', \"jusqu'au 8 juillet\",\n",
       "       'fait une fois', 'jusqu au 2 décembre 2021',\n",
       "       \"Jusqu'à ce ais4 isation\", 'ais 6.', 'pour un', \"jusqu'au 20 mars\",\n",
       "       'pendant 6 cycles plus', 'une durée de 5 semaines',\n",
       "       'pendant 10. Fois', \"jusqu'au 30\", 'pendant 10 jours.',\n",
       "       'dans un premier', 'du 19', 'valable 6',\n",
       "       'une série de perfusions,', \"jusqu'au 10 février\",\n",
       "       \"jusqu'au 29 octobre 2000 vingt-et-un\", 'pendant 30 jours',\n",
       "       'valable pour un an', 'pendant 15 pendant'], dtype=object)"
      ]
     },
     "execution_count": 37,
     "metadata": {},
     "output_type": "execute_result"
    }
   ],
   "source": [
    "df_not_null['Duration'].unique()"
   ]
  },
  {
   "cell_type": "code",
   "execution_count": 35,
   "id": "2b74c847",
   "metadata": {},
   "outputs": [
    {
     "data": {
      "text/plain": [
       "translation               Pour monsieur Didier Nicolas, donc un passage ...\n",
       "CareBeginDate_1                                         2019-11-24T10:30:00\n",
       "CareDuration_1                                                           15\n",
       "CareDurationTypeEnum_1                                                 Days\n",
       "extracted_label           [(tous les jours, Frequency), (jusqu'au 8/12/2...\n",
       "Duration                                                 jusqu'au 8/12/2019\n",
       "Name: 9d42ce6f-8537-49a9-a121-c8ae1dc7cda8_3ffbf9cc-b9e4-405d-a038-fb4f9e036a72, dtype: object"
      ]
     },
     "execution_count": 35,
     "metadata": {},
     "output_type": "execute_result"
    }
   ],
   "source": [
    "df_not_null.iloc[5,:]"
   ]
  },
  {
   "cell_type": "code",
   "execution_count": 36,
   "id": "09ffb3d2",
   "metadata": {},
   "outputs": [
    {
     "data": {
      "text/plain": [
       "\"jusqu'au 8/12/2019\""
      ]
     },
     "execution_count": 36,
     "metadata": {},
     "output_type": "execute_result"
    }
   ],
   "source": [
    "df_not_null.iloc[5,5]"
   ]
  },
  {
   "cell_type": "code",
   "execution_count": 38,
   "id": "fd56b18d",
   "metadata": {},
   "outputs": [
    {
     "data": {
      "text/plain": [
       "array(['Days', 'Months', 'Weeks', 'Acts', 'Rdvs'], dtype=object)"
      ]
     },
     "execution_count": 38,
     "metadata": {},
     "output_type": "execute_result"
    }
   ],
   "source": [
    "df_extract['CareDurationTypeEnum_1'].unique()"
   ]
  },
  {
   "cell_type": "code",
   "execution_count": 41,
   "id": "8a8d2508",
   "metadata": {},
   "outputs": [
    {
     "data": {
      "image/png": "[encoded data removed]",
      "text/plain": [
       "<Figure size 432x288 with 1 Axes>"
      ]
     },
     "metadata": {
      "needs_background": "light"
     },
     "output_type": "display_data"
    }
   ],
   "source": [
    "sns.histplot(df_extract['CareDurationTypeEnum_1']);"
   ]
  },
  {
   "cell_type": "markdown",
   "id": "07ea1d41",
   "metadata": {},
   "source": [
    "# Phase de test"
   ]
  },
  {
   "cell_type": "code",
   "execution_count": 103,
   "id": "1aa4dae9",
   "metadata": {},
   "outputs": [
    {
     "data": {
      "text/html": [
       "<span class=\"tex2jax_ignore\"><div class=\"entities\" style=\"line-height: 2.5; direction: ltr\">\n",
       "<mark class=\"entity\" style=\"background: #ddd; padding: 0.45em 0.6em; margin: 0 0.25em; line-height: 1; border-radius: 0.35em;\">\n",
       "    prise de sang\n",
       "    <span style=\"font-size: 0.8em; font-weight: bold; line-height: 1; border-radius: 0.35em; vertical-align: middle; margin-left: 0.5rem\">Treatment</span>\n",
       "</mark>\n",
       " \n",
       "<mark class=\"entity\" style=\"background: #ddd; padding: 0.45em 0.6em; margin: 0 0.25em; line-height: 1; border-radius: 0.35em;\">\n",
       "    tous les 15 jours\n",
       "    <span style=\"font-size: 0.8em; font-weight: bold; line-height: 1; border-radius: 0.35em; vertical-align: middle; margin-left: 0.5rem\">Frequency</span>\n",
       "</mark>\n",
       " pour 2 ans</div></span>"
      ],
      "text/plain": [
       "<IPython.core.display.HTML object>"
      ]
     },
     "metadata": {},
     "output_type": "display_data"
    }
   ],
   "source": [
    "doc = nlp(\"prise de sang tous les 15 jours pour 2 ans\")\n",
    "spacy.displacy.render(doc, style=\"ent\",jupyter=True)"
   ]
  },
  {
   "cell_type": "code",
   "execution_count": 43,
   "id": "f39dc2fd",
   "metadata": {},
   "outputs": [],
   "source": [
    "import re"
   ]
  },
  {
   "cell_type": "code",
   "execution_count": 137,
   "id": "d14820b9",
   "metadata": {},
   "outputs": [],
   "source": [
    "test = \"prise de sang tous les 15 jours pendant 5 jours\""
   ]
  },
  {
   "cell_type": "code",
   "execution_count": 138,
   "id": "01ce91cf",
   "metadata": {},
   "outputs": [],
   "source": [
    "x = re.search('((?<=pour\\s)|(?<=pendant\\s))\\d\\sjours', test)"
   ]
  },
  {
   "cell_type": "code",
   "execution_count": 139,
   "id": "900b59ee",
   "metadata": {},
   "outputs": [
    {
     "name": "stdout",
     "output_type": "stream",
     "text": [
      "['5', 'jours']\n"
     ]
    }
   ],
   "source": [
    "print(x.group().split())"
   ]
  },
  {
   "cell_type": "code",
   "execution_count": 93,
   "id": "8f1dd135",
   "metadata": {},
   "outputs": [
    {
     "data": {
      "text/plain": [
       "931"
      ]
     },
     "execution_count": 93,
     "metadata": {},
     "output_type": "execute_result"
    }
   ],
   "source": [
    "len(df_extract[df_extract['CareDuration_1']>1])"
   ]
  },
  {
   "cell_type": "code",
   "execution_count": 106,
   "id": "c43321e5",
   "metadata": {},
   "outputs": [
    {
     "ename": "AttributeError",
     "evalue": "'re.Match' object has no attribute '__dict__'",
     "output_type": "error",
     "traceback": [
      "\u001b[0;31m---------------------------------------------------------------------------\u001b[0m",
      "\u001b[0;31mAttributeError\u001b[0m                            Traceback (most recent call last)",
      "Input \u001b[0;32mIn [106]\u001b[0m, in \u001b[0;36m<cell line: 1>\u001b[0;34m()\u001b[0m\n\u001b[0;32m----> 1\u001b[0m \u001b[43mx\u001b[49m\u001b[38;5;241;43m.\u001b[39;49m\u001b[38;5;18;43m__dict__\u001b[39;49m\n",
      "\u001b[0;31mAttributeError\u001b[0m: 're.Match' object has no attribute '__dict__'"
     ]
    }
   ],
   "source": [
    "x.__dict__"
   ]
  },
  {
   "cell_type": "code",
   "execution_count": null,
   "id": "099a8570",
   "metadata": {},
   "outputs": [],
   "source": []
  }
 ],
 "metadata": {
  "kernelspec": {
   "display_name": "Python 3 (ipykernel)",
   "language": "python",
   "name": "python3"
  },
  "language_info": {
   "codemirror_mode": {
    "name": "ipython",
    "version": 3
   },
   "file_extension": ".py",
   "mimetype": "text/x-python",
   "name": "python",
   "nbconvert_exporter": "python",
   "pygments_lexer": "ipython3",
   "version": "3.8.12"
  },
  "toc": {
   "base_numbering": 1,
   "nav_menu": {},
   "number_sections": true,
   "sideBar": true,
   "skip_h1_title": false,
   "title_cell": "Table of Contents",
   "title_sidebar": "Contents",
   "toc_cell": false,
   "toc_position": {},
   "toc_section_display": true,
   "toc_window_display": false
  }
 },
 "nbformat": 4,
 "nbformat_minor": 5
}
