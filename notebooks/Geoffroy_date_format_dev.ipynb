{
 "cells": [
  {
   "cell_type": "markdown",
   "id": "88f1c77b",
   "metadata": {},
   "source": [
    "# Let's try to create targets in the form of as many date formats as possible"
   ]
  },
  {
   "cell_type": "code",
   "execution_count": 1,
   "id": "4fb3b152",
   "metadata": {},
   "outputs": [],
   "source": [
    "import locale\n",
    "import pandas as pd\n",
    "from ephesus.data import get_data_targets_json"
   ]
  },
  {
   "cell_type": "markdown",
   "id": "24f2e901",
   "metadata": {},
   "source": [
    "## import target data"
   ]
  },
  {
   "cell_type": "code",
   "execution_count": 2,
   "id": "5eaa9ed7",
   "metadata": {},
   "outputs": [
    {
     "data": {
      "text/html": [
       "<div>\n",
       "<style scoped>\n",
       "    .dataframe tbody tr th:only-of-type {\n",
       "        vertical-align: middle;\n",
       "    }\n",
       "\n",
       "    .dataframe tbody tr th {\n",
       "        vertical-align: top;\n",
       "    }\n",
       "\n",
       "    .dataframe thead th {\n",
       "        text-align: right;\n",
       "    }\n",
       "</style>\n",
       "<table border=\"1\" class=\"dataframe\">\n",
       "  <thead>\n",
       "    <tr style=\"text-align: right;\">\n",
       "      <th></th>\n",
       "      <th>fichier</th>\n",
       "      <th>TreatmentDetected_1</th>\n",
       "      <th>NGAP_1</th>\n",
       "      <th>Cotation_1</th>\n",
       "      <th>Hour_1</th>\n",
       "      <th>AldRelated_1</th>\n",
       "      <th>CareBeginDate_1</th>\n",
       "      <th>CareDuration_1</th>\n",
       "      <th>CareDurationTypeEnum_1</th>\n",
       "      <th>CareOnPublicHoliday_1</th>\n",
       "      <th>CareLocation_1</th>\n",
       "      <th>CareBeginHpName_1</th>\n",
       "      <th>ZoneName_1</th>\n",
       "      <th>IK_1</th>\n",
       "    </tr>\n",
       "  </thead>\n",
       "  <tbody>\n",
       "    <tr>\n",
       "      <th>0</th>\n",
       "      <td>2d035c4b-cdfa-4982-87dc-916fe07a0824_249f1d30-...</td>\n",
       "      <td>None</td>\n",
       "      <td>PSG</td>\n",
       "      <td>None</td>\n",
       "      <td>09:00:00</td>\n",
       "      <td>True</td>\n",
       "      <td>2019-12-04T09:00:00</td>\n",
       "      <td>1</td>\n",
       "      <td>Days</td>\n",
       "      <td>True</td>\n",
       "      <td>Cabinet</td>\n",
       "      <td>Gassert Margaux</td>\n",
       "      <td>None</td>\n",
       "      <td>None</td>\n",
       "    </tr>\n",
       "    <tr>\n",
       "      <th>1</th>\n",
       "      <td>2d035c4b-cdfa-4982-87dc-916fe07a0824_019a0add-...</td>\n",
       "      <td>None</td>\n",
       "      <td>PC19</td>\n",
       "      <td>None</td>\n",
       "      <td>09:40:00</td>\n",
       "      <td>False</td>\n",
       "      <td>2021-10-16T09:30:00</td>\n",
       "      <td>1</td>\n",
       "      <td>Days</td>\n",
       "      <td>True</td>\n",
       "      <td>Cabinet</td>\n",
       "      <td>None</td>\n",
       "      <td>None</td>\n",
       "      <td>None</td>\n",
       "    </tr>\n",
       "    <tr>\n",
       "      <th>2</th>\n",
       "      <td>55d674cc-3389-4cf6-ab7c-1f1b9fa1b6ed_02a55241-...</td>\n",
       "      <td>None</td>\n",
       "      <td>TAID19</td>\n",
       "      <td>None</td>\n",
       "      <td>18:35:00</td>\n",
       "      <td>False</td>\n",
       "      <td>2022-04-05T18:35:00</td>\n",
       "      <td>1</td>\n",
       "      <td>Days</td>\n",
       "      <td>True</td>\n",
       "      <td>Domicile</td>\n",
       "      <td>Ceulemans Aline</td>\n",
       "      <td>None</td>\n",
       "      <td>None</td>\n",
       "    </tr>\n",
       "    <tr>\n",
       "      <th>3</th>\n",
       "      <td>9f980dcf-b431-4e67-876f-2b8e288b7900_1a26bbf2-...</td>\n",
       "      <td>None</td>\n",
       "      <td>TAIC19</td>\n",
       "      <td>None</td>\n",
       "      <td>08:00:00</td>\n",
       "      <td>False</td>\n",
       "      <td>2022-01-09T08:00:00</td>\n",
       "      <td>1</td>\n",
       "      <td>Days</td>\n",
       "      <td>True</td>\n",
       "      <td>Cabinet</td>\n",
       "      <td>Aubry Sandra</td>\n",
       "      <td>None</td>\n",
       "      <td>{'KilometersNumberPlain': None, 'KilometersNum...</td>\n",
       "    </tr>\n",
       "    <tr>\n",
       "      <th>4</th>\n",
       "      <td>2d035c4b-cdfa-4982-87dc-916fe07a0824_545d42f0-...</td>\n",
       "      <td>None</td>\n",
       "      <td>PSG</td>\n",
       "      <td>None</td>\n",
       "      <td>08:00:00</td>\n",
       "      <td>True</td>\n",
       "      <td>2021-09-28T08:00:00</td>\n",
       "      <td>1</td>\n",
       "      <td>Days</td>\n",
       "      <td>True</td>\n",
       "      <td>Domicile</td>\n",
       "      <td>None</td>\n",
       "      <td>None</td>\n",
       "      <td>None</td>\n",
       "    </tr>\n",
       "  </tbody>\n",
       "</table>\n",
       "</div>"
      ],
      "text/plain": [
       "                                             fichier TreatmentDetected_1  \\\n",
       "0  2d035c4b-cdfa-4982-87dc-916fe07a0824_249f1d30-...                None   \n",
       "1  2d035c4b-cdfa-4982-87dc-916fe07a0824_019a0add-...                None   \n",
       "2  55d674cc-3389-4cf6-ab7c-1f1b9fa1b6ed_02a55241-...                None   \n",
       "3  9f980dcf-b431-4e67-876f-2b8e288b7900_1a26bbf2-...                None   \n",
       "4  2d035c4b-cdfa-4982-87dc-916fe07a0824_545d42f0-...                None   \n",
       "\n",
       "   NGAP_1 Cotation_1    Hour_1  AldRelated_1      CareBeginDate_1  \\\n",
       "0     PSG       None  09:00:00          True  2019-12-04T09:00:00   \n",
       "1    PC19       None  09:40:00         False  2021-10-16T09:30:00   \n",
       "2  TAID19       None  18:35:00         False  2022-04-05T18:35:00   \n",
       "3  TAIC19       None  08:00:00         False  2022-01-09T08:00:00   \n",
       "4     PSG       None  08:00:00          True  2021-09-28T08:00:00   \n",
       "\n",
       "   CareDuration_1 CareDurationTypeEnum_1  CareOnPublicHoliday_1  \\\n",
       "0               1                   Days                   True   \n",
       "1               1                   Days                   True   \n",
       "2               1                   Days                   True   \n",
       "3               1                   Days                   True   \n",
       "4               1                   Days                   True   \n",
       "\n",
       "  CareLocation_1 CareBeginHpName_1 ZoneName_1  \\\n",
       "0        Cabinet   Gassert Margaux       None   \n",
       "1        Cabinet              None       None   \n",
       "2       Domicile   Ceulemans Aline       None   \n",
       "3        Cabinet      Aubry Sandra       None   \n",
       "4       Domicile              None       None   \n",
       "\n",
       "                                                IK_1  \n",
       "0                                               None  \n",
       "1                                               None  \n",
       "2                                               None  \n",
       "3  {'KilometersNumberPlain': None, 'KilometersNum...  \n",
       "4                                               None  "
      ]
     },
     "execution_count": 2,
     "metadata": {},
     "output_type": "execute_result"
    }
   ],
   "source": [
    "df = get_data_targets_json()\n",
    "df.head()"
   ]
  },
  {
   "cell_type": "code",
   "execution_count": 3,
   "id": "9dc0e553",
   "metadata": {},
   "outputs": [
    {
     "data": {
      "text/html": [
       "<div>\n",
       "<style scoped>\n",
       "    .dataframe tbody tr th:only-of-type {\n",
       "        vertical-align: middle;\n",
       "    }\n",
       "\n",
       "    .dataframe tbody tr th {\n",
       "        vertical-align: top;\n",
       "    }\n",
       "\n",
       "    .dataframe thead th {\n",
       "        text-align: right;\n",
       "    }\n",
       "</style>\n",
       "<table border=\"1\" class=\"dataframe\">\n",
       "  <thead>\n",
       "    <tr style=\"text-align: right;\">\n",
       "      <th></th>\n",
       "      <th>fichier</th>\n",
       "      <th>CareBeginDate_1</th>\n",
       "    </tr>\n",
       "  </thead>\n",
       "  <tbody>\n",
       "    <tr>\n",
       "      <th>0</th>\n",
       "      <td>2d035c4b-cdfa-4982-87dc-916fe07a0824_249f1d30-...</td>\n",
       "      <td>2019-12-04T09:00:00</td>\n",
       "    </tr>\n",
       "    <tr>\n",
       "      <th>1</th>\n",
       "      <td>2d035c4b-cdfa-4982-87dc-916fe07a0824_019a0add-...</td>\n",
       "      <td>2021-10-16T09:30:00</td>\n",
       "    </tr>\n",
       "    <tr>\n",
       "      <th>2</th>\n",
       "      <td>55d674cc-3389-4cf6-ab7c-1f1b9fa1b6ed_02a55241-...</td>\n",
       "      <td>2022-04-05T18:35:00</td>\n",
       "    </tr>\n",
       "    <tr>\n",
       "      <th>3</th>\n",
       "      <td>9f980dcf-b431-4e67-876f-2b8e288b7900_1a26bbf2-...</td>\n",
       "      <td>2022-01-09T08:00:00</td>\n",
       "    </tr>\n",
       "    <tr>\n",
       "      <th>4</th>\n",
       "      <td>2d035c4b-cdfa-4982-87dc-916fe07a0824_545d42f0-...</td>\n",
       "      <td>2021-09-28T08:00:00</td>\n",
       "    </tr>\n",
       "  </tbody>\n",
       "</table>\n",
       "</div>"
      ],
      "text/plain": [
       "                                             fichier      CareBeginDate_1\n",
       "0  2d035c4b-cdfa-4982-87dc-916fe07a0824_249f1d30-...  2019-12-04T09:00:00\n",
       "1  2d035c4b-cdfa-4982-87dc-916fe07a0824_019a0add-...  2021-10-16T09:30:00\n",
       "2  55d674cc-3389-4cf6-ab7c-1f1b9fa1b6ed_02a55241-...  2022-04-05T18:35:00\n",
       "3  9f980dcf-b431-4e67-876f-2b8e288b7900_1a26bbf2-...  2022-01-09T08:00:00\n",
       "4  2d035c4b-cdfa-4982-87dc-916fe07a0824_545d42f0-...  2021-09-28T08:00:00"
      ]
     },
     "execution_count": 3,
     "metadata": {},
     "output_type": "execute_result"
    }
   ],
   "source": [
    "df = df[[\"fichier\", \"CareBeginDate_1\"]]\n",
    "df.head()"
   ]
  },
  {
   "cell_type": "code",
   "execution_count": 4,
   "id": "90cac526",
   "metadata": {},
   "outputs": [
    {
     "data": {
      "text/plain": [
       "1060    2021-04-15T08:00:00\n",
       "1061    2021-07-21T11:15:00\n",
       "1062    0001-01-01T00:00:00\n",
       "1063    2020-10-23T12:00:00\n",
       "1064    2020-02-10T09:30:00\n",
       "Name: CareBeginDate_1, dtype: object"
      ]
     },
     "execution_count": 4,
     "metadata": {},
     "output_type": "execute_result"
    }
   ],
   "source": [
    "# we need to clean a few dates that were set to year 0001\n",
    "df[\"CareBeginDate_1\"][1060:1065]"
   ]
  },
  {
   "cell_type": "code",
   "execution_count": 5,
   "id": "e2ad8976",
   "metadata": {},
   "outputs": [
    {
     "data": {
      "text/html": [
       "<div>\n",
       "<style scoped>\n",
       "    .dataframe tbody tr th:only-of-type {\n",
       "        vertical-align: middle;\n",
       "    }\n",
       "\n",
       "    .dataframe tbody tr th {\n",
       "        vertical-align: top;\n",
       "    }\n",
       "\n",
       "    .dataframe thead th {\n",
       "        text-align: right;\n",
       "    }\n",
       "</style>\n",
       "<table border=\"1\" class=\"dataframe\">\n",
       "  <thead>\n",
       "    <tr style=\"text-align: right;\">\n",
       "      <th></th>\n",
       "      <th>fichier</th>\n",
       "      <th>CareBeginDate_1</th>\n",
       "      <th>CareBeginDate_fix</th>\n",
       "    </tr>\n",
       "  </thead>\n",
       "  <tbody>\n",
       "    <tr>\n",
       "      <th>0</th>\n",
       "      <td>2d035c4b-cdfa-4982-87dc-916fe07a0824_249f1d30-...</td>\n",
       "      <td>2019-12-04T09:00:00</td>\n",
       "      <td>2019-12-04T09:00:00</td>\n",
       "    </tr>\n",
       "    <tr>\n",
       "      <th>1</th>\n",
       "      <td>2d035c4b-cdfa-4982-87dc-916fe07a0824_019a0add-...</td>\n",
       "      <td>2021-10-16T09:30:00</td>\n",
       "      <td>2021-10-16T09:30:00</td>\n",
       "    </tr>\n",
       "    <tr>\n",
       "      <th>2</th>\n",
       "      <td>55d674cc-3389-4cf6-ab7c-1f1b9fa1b6ed_02a55241-...</td>\n",
       "      <td>2022-04-05T18:35:00</td>\n",
       "      <td>2022-04-05T18:35:00</td>\n",
       "    </tr>\n",
       "    <tr>\n",
       "      <th>3</th>\n",
       "      <td>9f980dcf-b431-4e67-876f-2b8e288b7900_1a26bbf2-...</td>\n",
       "      <td>2022-01-09T08:00:00</td>\n",
       "      <td>2022-01-09T08:00:00</td>\n",
       "    </tr>\n",
       "    <tr>\n",
       "      <th>4</th>\n",
       "      <td>2d035c4b-cdfa-4982-87dc-916fe07a0824_545d42f0-...</td>\n",
       "      <td>2021-09-28T08:00:00</td>\n",
       "      <td>2021-09-28T08:00:00</td>\n",
       "    </tr>\n",
       "  </tbody>\n",
       "</table>\n",
       "</div>"
      ],
      "text/plain": [
       "                                             fichier      CareBeginDate_1  \\\n",
       "0  2d035c4b-cdfa-4982-87dc-916fe07a0824_249f1d30-...  2019-12-04T09:00:00   \n",
       "1  2d035c4b-cdfa-4982-87dc-916fe07a0824_019a0add-...  2021-10-16T09:30:00   \n",
       "2  55d674cc-3389-4cf6-ab7c-1f1b9fa1b6ed_02a55241-...  2022-04-05T18:35:00   \n",
       "3  9f980dcf-b431-4e67-876f-2b8e288b7900_1a26bbf2-...  2022-01-09T08:00:00   \n",
       "4  2d035c4b-cdfa-4982-87dc-916fe07a0824_545d42f0-...  2021-09-28T08:00:00   \n",
       "\n",
       "     CareBeginDate_fix  \n",
       "0  2019-12-04T09:00:00  \n",
       "1  2021-10-16T09:30:00  \n",
       "2  2022-04-05T18:35:00  \n",
       "3  2022-01-09T08:00:00  \n",
       "4  2021-09-28T08:00:00  "
      ]
     },
     "execution_count": 5,
     "metadata": {},
     "output_type": "execute_result"
    }
   ],
   "source": [
    "def change_year(s):\n",
    "    if s[:4] == \"0001\":\n",
    "        return \"2000\" + s[4:]\n",
    "    else:\n",
    "        return s\n",
    "\n",
    "df[\"CareBeginDate_fix\"] = df[\"CareBeginDate_1\"].apply(change_year)\n",
    "df.head()"
   ]
  },
  {
   "cell_type": "code",
   "execution_count": 6,
   "id": "853e37ac",
   "metadata": {},
   "outputs": [
    {
     "data": {
      "text/html": [
       "<div>\n",
       "<style scoped>\n",
       "    .dataframe tbody tr th:only-of-type {\n",
       "        vertical-align: middle;\n",
       "    }\n",
       "\n",
       "    .dataframe tbody tr th {\n",
       "        vertical-align: top;\n",
       "    }\n",
       "\n",
       "    .dataframe thead th {\n",
       "        text-align: right;\n",
       "    }\n",
       "</style>\n",
       "<table border=\"1\" class=\"dataframe\">\n",
       "  <thead>\n",
       "    <tr style=\"text-align: right;\">\n",
       "      <th></th>\n",
       "      <th>fichier</th>\n",
       "      <th>CareBeginDate_1</th>\n",
       "      <th>CareBeginDate_fix</th>\n",
       "      <th>CareBeginDate_datetime</th>\n",
       "    </tr>\n",
       "  </thead>\n",
       "  <tbody>\n",
       "    <tr>\n",
       "      <th>0</th>\n",
       "      <td>2d035c4b-cdfa-4982-87dc-916fe07a0824_249f1d30-...</td>\n",
       "      <td>2019-12-04T09:00:00</td>\n",
       "      <td>2019-12-04T09:00:00</td>\n",
       "      <td>2019-12-04 09:00:00</td>\n",
       "    </tr>\n",
       "    <tr>\n",
       "      <th>1</th>\n",
       "      <td>2d035c4b-cdfa-4982-87dc-916fe07a0824_019a0add-...</td>\n",
       "      <td>2021-10-16T09:30:00</td>\n",
       "      <td>2021-10-16T09:30:00</td>\n",
       "      <td>2021-10-16 09:30:00</td>\n",
       "    </tr>\n",
       "    <tr>\n",
       "      <th>2</th>\n",
       "      <td>55d674cc-3389-4cf6-ab7c-1f1b9fa1b6ed_02a55241-...</td>\n",
       "      <td>2022-04-05T18:35:00</td>\n",
       "      <td>2022-04-05T18:35:00</td>\n",
       "      <td>2022-04-05 18:35:00</td>\n",
       "    </tr>\n",
       "    <tr>\n",
       "      <th>3</th>\n",
       "      <td>9f980dcf-b431-4e67-876f-2b8e288b7900_1a26bbf2-...</td>\n",
       "      <td>2022-01-09T08:00:00</td>\n",
       "      <td>2022-01-09T08:00:00</td>\n",
       "      <td>2022-01-09 08:00:00</td>\n",
       "    </tr>\n",
       "    <tr>\n",
       "      <th>4</th>\n",
       "      <td>2d035c4b-cdfa-4982-87dc-916fe07a0824_545d42f0-...</td>\n",
       "      <td>2021-09-28T08:00:00</td>\n",
       "      <td>2021-09-28T08:00:00</td>\n",
       "      <td>2021-09-28 08:00:00</td>\n",
       "    </tr>\n",
       "  </tbody>\n",
       "</table>\n",
       "</div>"
      ],
      "text/plain": [
       "                                             fichier      CareBeginDate_1  \\\n",
       "0  2d035c4b-cdfa-4982-87dc-916fe07a0824_249f1d30-...  2019-12-04T09:00:00   \n",
       "1  2d035c4b-cdfa-4982-87dc-916fe07a0824_019a0add-...  2021-10-16T09:30:00   \n",
       "2  55d674cc-3389-4cf6-ab7c-1f1b9fa1b6ed_02a55241-...  2022-04-05T18:35:00   \n",
       "3  9f980dcf-b431-4e67-876f-2b8e288b7900_1a26bbf2-...  2022-01-09T08:00:00   \n",
       "4  2d035c4b-cdfa-4982-87dc-916fe07a0824_545d42f0-...  2021-09-28T08:00:00   \n",
       "\n",
       "     CareBeginDate_fix CareBeginDate_datetime  \n",
       "0  2019-12-04T09:00:00    2019-12-04 09:00:00  \n",
       "1  2021-10-16T09:30:00    2021-10-16 09:30:00  \n",
       "2  2022-04-05T18:35:00    2022-04-05 18:35:00  \n",
       "3  2022-01-09T08:00:00    2022-01-09 08:00:00  \n",
       "4  2021-09-28T08:00:00    2021-09-28 08:00:00  "
      ]
     },
     "execution_count": 6,
     "metadata": {},
     "output_type": "execute_result"
    }
   ],
   "source": [
    "df[\"CareBeginDate_datetime\"] = pd.to_datetime(df[\"CareBeginDate_fix\"], infer_datetime_format=True)\n",
    "df.head()"
   ]
  },
  {
   "cell_type": "code",
   "execution_count": 7,
   "id": "1fb47794",
   "metadata": {},
   "outputs": [
    {
     "name": "stdout",
     "output_type": "stream",
     "text": [
      "<class 'pandas.core.frame.DataFrame'>\n",
      "RangeIndex: 4078 entries, 0 to 4077\n",
      "Data columns (total 4 columns):\n",
      " #   Column                  Non-Null Count  Dtype         \n",
      "---  ------                  --------------  -----         \n",
      " 0   fichier                 4078 non-null   object        \n",
      " 1   CareBeginDate_1         4078 non-null   object        \n",
      " 2   CareBeginDate_fix       4078 non-null   object        \n",
      " 3   CareBeginDate_datetime  4078 non-null   datetime64[ns]\n",
      "dtypes: datetime64[ns](1), object(3)\n",
      "memory usage: 127.6+ KB\n"
     ]
    }
   ],
   "source": [
    "df.info()"
   ]
  },
  {
   "cell_type": "code",
   "execution_count": 8,
   "id": "8a3f51ed",
   "metadata": {},
   "outputs": [
    {
     "data": {
      "text/plain": [
       "0        December 04, 2019, 09:00:00 AM\n",
       "1         October 16, 2021, 09:30:00 AM\n",
       "2           April 05, 2022, 06:35:00 PM\n",
       "3         January 09, 2022, 08:00:00 AM\n",
       "4       September 28, 2021, 08:00:00 AM\n",
       "                     ...               \n",
       "4073     December 04, 2021, 05:30:00 PM\n",
       "4074      January 05, 2022, 02:00:00 PM\n",
       "4075      January 08, 2021, 09:00:00 AM\n",
       "4076     November 24, 2021, 08:00:00 AM\n",
       "4077     February 09, 2021, 11:00:00 AM\n",
       "Name: CareBeginDate_datetime, Length: 4078, dtype: object"
      ]
     },
     "execution_count": 8,
     "metadata": {},
     "output_type": "execute_result"
    }
   ],
   "source": [
    "df[\"CareBeginDate_datetime\"].dt.strftime('%B %d, %Y, %r')"
   ]
  },
  {
   "cell_type": "markdown",
   "id": "0a145a35",
   "metadata": {},
   "source": [
    "## create dates in French"
   ]
  },
  {
   "cell_type": "markdown",
   "id": "efc3d80e",
   "metadata": {},
   "source": [
    "It seems that once we change the variable \"locale\", it's permanent (we'll use it to our advantage)"
   ]
  },
  {
   "cell_type": "code",
   "execution_count": 9,
   "id": "f72a423c",
   "metadata": {},
   "outputs": [
    {
     "data": {
      "text/plain": [
       "0        Décembre\n",
       "1         Octobre\n",
       "2           Avril\n",
       "3         Janvier\n",
       "4       Septembre\n",
       "          ...    \n",
       "4073     Décembre\n",
       "4074      Janvier\n",
       "4075      Janvier\n",
       "4076     Novembre\n",
       "4077      Février\n",
       "Name: CareBeginDate_datetime, Length: 4078, dtype: object"
      ]
     },
     "execution_count": 9,
     "metadata": {},
     "output_type": "execute_result"
    }
   ],
   "source": [
    "#locale.getlocale() #show available locale languages\n",
    "df[\"CareBeginDate_datetime\"].dt.month_name(locale = ('fr_FR', 'UTF-8'))"
   ]
  },
  {
   "cell_type": "code",
   "execution_count": 10,
   "id": "71f63841",
   "metadata": {},
   "outputs": [
    {
     "data": {
      "text/plain": [
       "0       mercredi 04 décembre 2019 à 09h00\n",
       "1          samedi 16 octobre 2021 à 09h30\n",
       "2             mardi 05 avril 2022 à 18h35\n",
       "3        dimanche 09 janvier 2022 à 08h00\n",
       "4         mardi 28 septembre 2021 à 08h00\n",
       "                      ...                \n",
       "4073      samedi 04 décembre 2021 à 17h30\n",
       "4074     mercredi 05 janvier 2022 à 14h00\n",
       "4075     vendredi 08 janvier 2021 à 09h00\n",
       "4076    mercredi 24 novembre 2021 à 08h00\n",
       "4077        mardi 09 février 2021 à 11h00\n",
       "Name: CareBeginDate_datetime, Length: 4078, dtype: object"
      ]
     },
     "execution_count": 10,
     "metadata": {},
     "output_type": "execute_result"
    }
   ],
   "source": [
    "df[\"CareBeginDate_datetime\"].dt.strftime('%A %d %B %Y à %Hh%M')"
   ]
  },
  {
   "cell_type": "code",
   "execution_count": 11,
   "id": "9740483c",
   "metadata": {},
   "outputs": [
    {
     "data": {
      "text/plain": [
       "0        04 décembre 2019 à 09h00\n",
       "1         16 octobre 2021 à 09h30\n",
       "2           05 avril 2022 à 18h35\n",
       "3         09 janvier 2022 à 08h00\n",
       "4       28 septembre 2021 à 08h00\n",
       "                  ...            \n",
       "4073     04 décembre 2021 à 17h30\n",
       "4074      05 janvier 2022 à 14h00\n",
       "4075      08 janvier 2021 à 09h00\n",
       "4076     24 novembre 2021 à 08h00\n",
       "4077      09 février 2021 à 11h00\n",
       "Name: CareBeginDate_datetime, Length: 4078, dtype: object"
      ]
     },
     "execution_count": 11,
     "metadata": {},
     "output_type": "execute_result"
    }
   ],
   "source": [
    "df[\"CareBeginDate_datetime\"].dt.strftime('%d %B %Y à %Hh%M')"
   ]
  },
  {
   "cell_type": "code",
   "execution_count": 12,
   "id": "1a0bb828",
   "metadata": {},
   "outputs": [
    {
     "data": {
      "text/plain": [
       "0        04 décembre 2019 à 09h\n",
       "1         16 octobre 2021 à 09h\n",
       "2           05 avril 2022 à 18h\n",
       "3         09 janvier 2022 à 08h\n",
       "4       28 septembre 2021 à 08h\n",
       "                 ...           \n",
       "4073     04 décembre 2021 à 17h\n",
       "4074      05 janvier 2022 à 14h\n",
       "4075      08 janvier 2021 à 09h\n",
       "4076     24 novembre 2021 à 08h\n",
       "4077      09 février 2021 à 11h\n",
       "Name: CareBeginDate_datetime, Length: 4078, dtype: object"
      ]
     },
     "execution_count": 12,
     "metadata": {},
     "output_type": "execute_result"
    }
   ],
   "source": [
    "df[\"CareBeginDate_datetime\"].dt.strftime('%d %B %Y à %Hh')"
   ]
  },
  {
   "cell_type": "code",
   "execution_count": 13,
   "id": "fece08dd",
   "metadata": {},
   "outputs": [
    {
     "data": {
      "text/plain": [
       "0        04 décembre à 09h\n",
       "1         16 octobre à 09h\n",
       "2           05 avril à 18h\n",
       "3         09 janvier à 08h\n",
       "4       28 septembre à 08h\n",
       "               ...        \n",
       "4073     04 décembre à 17h\n",
       "4074      05 janvier à 14h\n",
       "4075      08 janvier à 09h\n",
       "4076     24 novembre à 08h\n",
       "4077      09 février à 11h\n",
       "Name: CareBeginDate_datetime, Length: 4078, dtype: object"
      ]
     },
     "execution_count": 13,
     "metadata": {},
     "output_type": "execute_result"
    }
   ],
   "source": [
    "df[\"CareBeginDate_datetime\"].dt.strftime('%d %B à %Hh')"
   ]
  },
  {
   "cell_type": "code",
   "execution_count": 21,
   "id": "2ebdf39f",
   "metadata": {},
   "outputs": [
    {
     "data": {
      "text/plain": [
       "'4'"
      ]
     },
     "execution_count": 21,
     "metadata": {},
     "output_type": "execute_result"
    }
   ],
   "source": [
    "def trim_day(day):\n",
    "    return day.lstrip(\"0\")\n",
    "\n",
    "trim_day(\"04\")"
   ]
  },
  {
   "cell_type": "markdown",
   "id": "66b9cf89",
   "metadata": {},
   "source": [
    "# now that I implemented this into a function : test that function"
   ]
  },
  {
   "cell_type": "code",
   "execution_count": 24,
   "id": "ee88f981",
   "metadata": {},
   "outputs": [],
   "source": [
    "from ephesus.date import get_dates_targets, get_data_targets_json"
   ]
  },
  {
   "cell_type": "code",
   "execution_count": 27,
   "id": "f028d6bb",
   "metadata": {},
   "outputs": [
    {
     "data": {
      "text/html": [
       "<div>\n",
       "<style scoped>\n",
       "    .dataframe tbody tr th:only-of-type {\n",
       "        vertical-align: middle;\n",
       "    }\n",
       "\n",
       "    .dataframe tbody tr th {\n",
       "        vertical-align: top;\n",
       "    }\n",
       "\n",
       "    .dataframe thead th {\n",
       "        text-align: right;\n",
       "    }\n",
       "</style>\n",
       "<table border=\"1\" class=\"dataframe\">\n",
       "  <thead>\n",
       "    <tr style=\"text-align: right;\">\n",
       "      <th></th>\n",
       "      <th>fichier</th>\n",
       "      <th>TreatmentDetected_1</th>\n",
       "      <th>NGAP_1</th>\n",
       "      <th>Cotation_1</th>\n",
       "      <th>Hour_1</th>\n",
       "      <th>AldRelated_1</th>\n",
       "      <th>CareBeginDate_1</th>\n",
       "      <th>CareDuration_1</th>\n",
       "      <th>CareDurationTypeEnum_1</th>\n",
       "      <th>CareOnPublicHoliday_1</th>\n",
       "      <th>...</th>\n",
       "      <th>CareBeginDate_month_format02</th>\n",
       "      <th>CareBeginDate_month_format03</th>\n",
       "      <th>CareBeginDate_year_format01</th>\n",
       "      <th>CareBeginDate_year_format02</th>\n",
       "      <th>CareBeginDate_hour_format01</th>\n",
       "      <th>CareBeginDate_hour_format02</th>\n",
       "      <th>CareBeginDate_hour_format03</th>\n",
       "      <th>CareBeginDate_hour_format04</th>\n",
       "      <th>CareBeginDate_hour_format05</th>\n",
       "      <th>CareBeginDate_hour_format06</th>\n",
       "    </tr>\n",
       "  </thead>\n",
       "  <tbody>\n",
       "    <tr>\n",
       "      <th>0</th>\n",
       "      <td>2d035c4b-cdfa-4982-87dc-916fe07a0824_249f1d30-...</td>\n",
       "      <td>None</td>\n",
       "      <td>PSG</td>\n",
       "      <td>None</td>\n",
       "      <td>09:00:00</td>\n",
       "      <td>True</td>\n",
       "      <td>2019-12-04T09:00:00</td>\n",
       "      <td>1</td>\n",
       "      <td>Days</td>\n",
       "      <td>True</td>\n",
       "      <td>...</td>\n",
       "      <td>12</td>\n",
       "      <td>12</td>\n",
       "      <td>19</td>\n",
       "      <td>2019</td>\n",
       "      <td>9h00</td>\n",
       "      <td>9h</td>\n",
       "      <td>9</td>\n",
       "      <td>9h00</td>\n",
       "      <td>9h</td>\n",
       "      <td>9</td>\n",
       "    </tr>\n",
       "    <tr>\n",
       "      <th>1</th>\n",
       "      <td>2d035c4b-cdfa-4982-87dc-916fe07a0824_019a0add-...</td>\n",
       "      <td>None</td>\n",
       "      <td>PC19</td>\n",
       "      <td>None</td>\n",
       "      <td>09:40:00</td>\n",
       "      <td>False</td>\n",
       "      <td>2021-10-16T09:30:00</td>\n",
       "      <td>1</td>\n",
       "      <td>Days</td>\n",
       "      <td>True</td>\n",
       "      <td>...</td>\n",
       "      <td>10</td>\n",
       "      <td>10</td>\n",
       "      <td>21</td>\n",
       "      <td>2021</td>\n",
       "      <td>9h30</td>\n",
       "      <td>9h</td>\n",
       "      <td>9</td>\n",
       "      <td>9h30</td>\n",
       "      <td>9h</td>\n",
       "      <td>9</td>\n",
       "    </tr>\n",
       "    <tr>\n",
       "      <th>2</th>\n",
       "      <td>55d674cc-3389-4cf6-ab7c-1f1b9fa1b6ed_02a55241-...</td>\n",
       "      <td>None</td>\n",
       "      <td>TAID19</td>\n",
       "      <td>None</td>\n",
       "      <td>18:35:00</td>\n",
       "      <td>False</td>\n",
       "      <td>2022-04-05T18:35:00</td>\n",
       "      <td>1</td>\n",
       "      <td>Days</td>\n",
       "      <td>True</td>\n",
       "      <td>...</td>\n",
       "      <td>04</td>\n",
       "      <td>4</td>\n",
       "      <td>22</td>\n",
       "      <td>2022</td>\n",
       "      <td>18h35</td>\n",
       "      <td>18h</td>\n",
       "      <td>18</td>\n",
       "      <td>6h35</td>\n",
       "      <td>6h</td>\n",
       "      <td>6</td>\n",
       "    </tr>\n",
       "    <tr>\n",
       "      <th>3</th>\n",
       "      <td>9f980dcf-b431-4e67-876f-2b8e288b7900_1a26bbf2-...</td>\n",
       "      <td>None</td>\n",
       "      <td>TAIC19</td>\n",
       "      <td>None</td>\n",
       "      <td>08:00:00</td>\n",
       "      <td>False</td>\n",
       "      <td>2022-01-09T08:00:00</td>\n",
       "      <td>1</td>\n",
       "      <td>Days</td>\n",
       "      <td>True</td>\n",
       "      <td>...</td>\n",
       "      <td>01</td>\n",
       "      <td>1</td>\n",
       "      <td>22</td>\n",
       "      <td>2022</td>\n",
       "      <td>8h00</td>\n",
       "      <td>8h</td>\n",
       "      <td>8</td>\n",
       "      <td>8h00</td>\n",
       "      <td>8h</td>\n",
       "      <td>8</td>\n",
       "    </tr>\n",
       "    <tr>\n",
       "      <th>4</th>\n",
       "      <td>2d035c4b-cdfa-4982-87dc-916fe07a0824_545d42f0-...</td>\n",
       "      <td>None</td>\n",
       "      <td>PSG</td>\n",
       "      <td>None</td>\n",
       "      <td>08:00:00</td>\n",
       "      <td>True</td>\n",
       "      <td>2021-09-28T08:00:00</td>\n",
       "      <td>1</td>\n",
       "      <td>Days</td>\n",
       "      <td>True</td>\n",
       "      <td>...</td>\n",
       "      <td>09</td>\n",
       "      <td>9</td>\n",
       "      <td>21</td>\n",
       "      <td>2021</td>\n",
       "      <td>8h00</td>\n",
       "      <td>8h</td>\n",
       "      <td>8</td>\n",
       "      <td>8h00</td>\n",
       "      <td>8h</td>\n",
       "      <td>8</td>\n",
       "    </tr>\n",
       "  </tbody>\n",
       "</table>\n",
       "<p>5 rows × 29 columns</p>\n",
       "</div>"
      ],
      "text/plain": [
       "                                             fichier TreatmentDetected_1  \\\n",
       "0  2d035c4b-cdfa-4982-87dc-916fe07a0824_249f1d30-...                None   \n",
       "1  2d035c4b-cdfa-4982-87dc-916fe07a0824_019a0add-...                None   \n",
       "2  55d674cc-3389-4cf6-ab7c-1f1b9fa1b6ed_02a55241-...                None   \n",
       "3  9f980dcf-b431-4e67-876f-2b8e288b7900_1a26bbf2-...                None   \n",
       "4  2d035c4b-cdfa-4982-87dc-916fe07a0824_545d42f0-...                None   \n",
       "\n",
       "   NGAP_1 Cotation_1    Hour_1  AldRelated_1      CareBeginDate_1  \\\n",
       "0     PSG       None  09:00:00          True  2019-12-04T09:00:00   \n",
       "1    PC19       None  09:40:00         False  2021-10-16T09:30:00   \n",
       "2  TAID19       None  18:35:00         False  2022-04-05T18:35:00   \n",
       "3  TAIC19       None  08:00:00         False  2022-01-09T08:00:00   \n",
       "4     PSG       None  08:00:00          True  2021-09-28T08:00:00   \n",
       "\n",
       "   CareDuration_1 CareDurationTypeEnum_1  CareOnPublicHoliday_1  ...  \\\n",
       "0               1                   Days                   True  ...   \n",
       "1               1                   Days                   True  ...   \n",
       "2               1                   Days                   True  ...   \n",
       "3               1                   Days                   True  ...   \n",
       "4               1                   Days                   True  ...   \n",
       "\n",
       "  CareBeginDate_month_format02 CareBeginDate_month_format03  \\\n",
       "0                           12                           12   \n",
       "1                           10                           10   \n",
       "2                           04                            4   \n",
       "3                           01                            1   \n",
       "4                           09                            9   \n",
       "\n",
       "  CareBeginDate_year_format01 CareBeginDate_year_format02  \\\n",
       "0                          19                        2019   \n",
       "1                          21                        2021   \n",
       "2                          22                        2022   \n",
       "3                          22                        2022   \n",
       "4                          21                        2021   \n",
       "\n",
       "  CareBeginDate_hour_format01 CareBeginDate_hour_format02  \\\n",
       "0                        9h00                          9h   \n",
       "1                        9h30                          9h   \n",
       "2                       18h35                         18h   \n",
       "3                        8h00                          8h   \n",
       "4                        8h00                          8h   \n",
       "\n",
       "  CareBeginDate_hour_format03 CareBeginDate_hour_format04  \\\n",
       "0                           9                        9h00   \n",
       "1                           9                        9h30   \n",
       "2                          18                        6h35   \n",
       "3                           8                        8h00   \n",
       "4                           8                        8h00   \n",
       "\n",
       "  CareBeginDate_hour_format05 CareBeginDate_hour_format06  \n",
       "0                          9h                           9  \n",
       "1                          9h                           9  \n",
       "2                          6h                           6  \n",
       "3                          8h                           8  \n",
       "4                          8h                           8  \n",
       "\n",
       "[5 rows x 29 columns]"
      ]
     },
     "execution_count": 27,
     "metadata": {},
     "output_type": "execute_result"
    }
   ],
   "source": [
    "df = get_data_targets_json()\n",
    "df = get_dates_targets(df)\n",
    "df.head()"
   ]
  }
 ],
 "metadata": {
  "kernelspec": {
   "display_name": "Python 3 (ipykernel)",
   "language": "python",
   "name": "python3"
  },
  "language_info": {
   "codemirror_mode": {
    "name": "ipython",
    "version": 3
   },
   "file_extension": ".py",
   "mimetype": "text/x-python",
   "name": "python",
   "nbconvert_exporter": "python",
   "pygments_lexer": "ipython3",
   "version": "3.8.12"
  },
  "toc": {
   "base_numbering": 1,
   "nav_menu": {},
   "number_sections": true,
   "sideBar": true,
   "skip_h1_title": false,
   "title_cell": "Table of Contents",
   "title_sidebar": "Contents",
   "toc_cell": false,
   "toc_position": {},
   "toc_section_display": true,
   "toc_window_display": false
  },
  "varInspector": {
   "cols": {
    "lenName": 16,
    "lenType": 16,
    "lenVar": 40
   },
   "kernels_config": {
    "python": {
     "delete_cmd_postfix": "",
     "delete_cmd_prefix": "del ",
     "library": "var_list.py",
     "varRefreshCmd": "print(var_dic_list())"
    },
    "r": {
     "delete_cmd_postfix": ") ",
     "delete_cmd_prefix": "rm(",
     "library": "var_list.r",
     "varRefreshCmd": "cat(var_dic_list()) "
    }
   },
   "types_to_exclude": [
    "module",
    "function",
    "builtin_function_or_method",
    "instance",
    "_Feature"
   ],
   "window_display": false
  }
 },
 "nbformat": 4,
 "nbformat_minor": 5
}
