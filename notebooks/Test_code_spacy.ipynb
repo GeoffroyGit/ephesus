{
 "cells": [
  {
   "cell_type": "code",
   "execution_count": 55,
   "id": "37122ccd",
   "metadata": {},
   "outputs": [
    {
     "name": "stderr",
     "output_type": "stream",
     "text": [
      "/home/thomas/.pyenv/versions/3.8.12/envs/ephesus/lib/python3.8/site-packages/tqdm/auto.py:22: TqdmWarning: IProgress not found. Please update jupyter and ipywidgets. See https://ipywidgets.readthedocs.io/en/stable/user_install.html\n",
      "  from .autonotebook import tqdm as notebook_tqdm\n"
     ]
    },
    {
     "name": "stdout",
     "output_type": "stream",
     "text": [
      "The autoreload extension is already loaded. To reload it, use:\n",
      "  %reload_ext autoreload\n"
     ]
    }
   ],
   "source": [
    "%load_ext autoreload\n",
    "%autoreload 2"
   ]
  },
  {
   "cell_type": "code",
   "execution_count": 65,
   "id": "f9485b68",
   "metadata": {},
   "outputs": [],
   "source": [
    "from ephesus.spacy import *\n",
    "from sklearn.model_selection import train_test_split"
   ]
  },
  {
   "cell_type": "code",
   "execution_count": 66,
   "id": "10a68bbf",
   "metadata": {},
   "outputs": [],
   "source": [
    "data = extract_json(\"PROJECT_EPHESUS-labeling_V01.json\")"
   ]
  },
  {
   "cell_type": "code",
   "execution_count": 67,
   "id": "d1526697",
   "metadata": {},
   "outputs": [],
   "source": [
    "dico = tune_data(data)"
   ]
  },
  {
   "cell_type": "code",
   "execution_count": 68,
   "id": "9e4071d8",
   "metadata": {},
   "outputs": [
    {
     "data": {
      "text/plain": [
       "{'text': 'Donc vaccin antigrippale, domicile non facturés.',\n",
       " 'entities': [(5, 24, 'Treatment'), (26, 34, 'Location')]}"
      ]
     },
     "execution_count": 68,
     "metadata": {},
     "output_type": "execute_result"
    }
   ],
   "source": [
    "dico[\"annotations\"][0]"
   ]
  },
  {
   "cell_type": "code",
   "execution_count": 69,
   "id": "c1ba1406",
   "metadata": {
    "scrolled": true
   },
   "outputs": [],
   "source": [
    "train_set, test_set = create_training_set(dico)"
   ]
  },
  {
   "cell_type": "code",
   "execution_count": 70,
   "id": "946b877f",
   "metadata": {},
   "outputs": [
    {
     "data": {
      "text/plain": [
       "{'text': 'Donc gros pansement lourd et complexe, donc ami4 avec le nursing tous les jours. À partir du 4.',\n",
       " 'entities': [(4, 37, 'Treatment'),\n",
       "  (44, 48, 'Cotation'),\n",
       "  (65, 79, 'Frequency'),\n",
       "  (90, 94, 'Date')]}"
      ]
     },
     "execution_count": 70,
     "metadata": {},
     "output_type": "execute_result"
    }
   ],
   "source": [
    "train_set[\"annotations\"][0]"
   ]
  },
  {
   "cell_type": "code",
   "execution_count": 71,
   "id": "fd4211c7",
   "metadata": {},
   "outputs": [
    {
     "name": "stderr",
     "output_type": "stream",
     "text": [
      "100%|█████████████████████████████████████████████████████████████████████████████████| 240/240 [00:03<00:00, 75.58it/s]"
     ]
    },
    {
     "name": "stdout",
     "output_type": "stream",
     "text": [
      "training data created under '../raw_data/test.spacy'\n"
     ]
    },
    {
     "name": "stderr",
     "output_type": "stream",
     "text": [
      "\n"
     ]
    }
   ],
   "source": [
    "create_training_data(train_set,\"test.spacy\")"
   ]
  },
  {
   "cell_type": "code",
   "execution_count": null,
   "id": "1df85cee",
   "metadata": {},
   "outputs": [],
   "source": []
  }
 ],
 "metadata": {
  "kernelspec": {
   "display_name": "Python 3 (ipykernel)",
   "language": "python",
   "name": "python3"
  },
  "language_info": {
   "codemirror_mode": {
    "name": "ipython",
    "version": 3
   },
   "file_extension": ".py",
   "mimetype": "text/x-python",
   "name": "python",
   "nbconvert_exporter": "python",
   "pygments_lexer": "ipython3",
   "version": "3.8.12"
  },
  "toc": {
   "base_numbering": 1,
   "nav_menu": {},
   "number_sections": true,
   "sideBar": true,
   "skip_h1_title": false,
   "title_cell": "Table of Contents",
   "title_sidebar": "Contents",
   "toc_cell": false,
   "toc_position": {},
   "toc_section_display": true,
   "toc_window_display": false
  }
 },
 "nbformat": 4,
 "nbformat_minor": 5
}
