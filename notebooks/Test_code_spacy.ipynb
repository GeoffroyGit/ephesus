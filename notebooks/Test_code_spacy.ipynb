{
 "cells": [
  {
   "cell_type": "code",
   "execution_count": 17,
   "id": "37122ccd",
   "metadata": {},
   "outputs": [
    {
     "name": "stdout",
     "output_type": "stream",
     "text": [
      "The autoreload extension is already loaded. To reload it, use:\n",
      "  %reload_ext autoreload\n"
     ]
    }
   ],
   "source": [
    "%load_ext autoreload\n",
    "%autoreload 2"
   ]
  },
  {
   "cell_type": "code",
   "execution_count": 23,
   "id": "f9485b68",
   "metadata": {},
   "outputs": [],
   "source": [
    "from ephesus.sentence import *\n",
    "import pandas as pd"
   ]
  },
  {
   "cell_type": "code",
   "execution_count": 2,
   "id": "10a68bbf",
   "metadata": {},
   "outputs": [],
   "source": [
    "data = extract_json(\"PROJECT_EPHESUS-labeling_V01.json\")\n",
    "dico = tune_data(data)\n",
    "train_set, test_set = create_training_set(dico)"
   ]
  },
  {
   "cell_type": "code",
   "execution_count": 4,
   "id": "f515938f",
   "metadata": {
    "scrolled": true
   },
   "outputs": [
    {
     "name": "stderr",
     "output_type": "stream",
     "text": [
      "100%|█████████████████████████████████████████████████████████████████████████████████| 240/240 [00:02<00:00, 93.36it/s]"
     ]
    },
    {
     "name": "stdout",
     "output_type": "stream",
     "text": [
      "training data created under '../raw_data/train_test_01.spacy'\n"
     ]
    },
    {
     "name": "stderr",
     "output_type": "stream",
     "text": [
      "\n"
     ]
    }
   ],
   "source": [
    "create_training_data(train_set, \"train_test_01.spacy\")"
   ]
  },
  {
   "cell_type": "code",
   "execution_count": 5,
   "id": "780549ee",
   "metadata": {},
   "outputs": [],
   "source": [
    "nlp = load_model(\"../models/model_small/model-best\")"
   ]
  },
  {
   "cell_type": "code",
   "execution_count": 17,
   "id": "d175e303",
   "metadata": {},
   "outputs": [
    {
     "data": {
      "text/html": [
       "<span class=\"tex2jax_ignore\"><div class=\"entities\" style=\"line-height: 2.5; direction: ltr\">Alors madame didier, donc prescription pour un \n",
       "<mark class=\"entity\" style=\"background: #ddd; padding: 0.45em 0.6em; margin: 0 0.25em; line-height: 1; border-radius: 0.35em;\">\n",
       "    pansement simple\n",
       "    <span style=\"font-size: 0.8em; font-weight: bold; line-height: 1; border-radius: 0.35em; vertical-align: middle; margin-left: 0.5rem\">Treatment</span>\n",
       "</mark>\n",
       ". À compter du \n",
       "<mark class=\"entity\" style=\"background: #bfe1d9; padding: 0.45em 0.6em; margin: 0 0.25em; line-height: 1; border-radius: 0.35em;\">\n",
       "    vendredi 16 juillet\n",
       "    <span style=\"font-size: 0.8em; font-weight: bold; line-height: 1; border-radius: 0.35em; vertical-align: middle; margin-left: 0.5rem\">Date</span>\n",
       "</mark>\n",
       ", horaires de passage, \n",
       "<mark class=\"entity\" style=\"background: #bfe1d9; padding: 0.45em 0.6em; margin: 0 0.25em; line-height: 1; border-radius: 0.35em;\">\n",
       "    13h\n",
       "    <span style=\"font-size: 0.8em; font-weight: bold; line-height: 1; border-radius: 0.35em; vertical-align: middle; margin-left: 0.5rem\">Time</span>\n",
       "</mark>\n",
       " dans la tournée des villages. Merci.</div></span>"
      ],
      "text/plain": [
       "<IPython.core.display.HTML object>"
      ]
     },
     "metadata": {},
     "output_type": "display_data"
    }
   ],
   "source": [
    "test = test_set[\"annotations\"][5]['text']\n",
    "doc = nlp(test)\n",
    "spacy.displacy.render(doc, style=\"ent\",jupyter=True)"
   ]
  },
  {
   "cell_type": "markdown",
   "id": "10dea77f",
   "metadata": {},
   "source": [
    "Test de return_label vs. original labelisation"
   ]
  },
  {
   "cell_type": "code",
   "execution_count": 42,
   "id": "e281d6cb",
   "metadata": {},
   "outputs": [
    {
     "data": {
      "text/plain": [
       "[('Test antigénique', 'Treatment'),\n",
       " ('cabinet', 'Location'),\n",
       " ('15 avril', 'Date')]"
      ]
     },
     "execution_count": 42,
     "metadata": {},
     "output_type": "execute_result"
    }
   ],
   "source": [
    "return_label(sentence,nlp)"
   ]
  },
  {
   "cell_type": "code",
   "execution_count": 31,
   "id": "92a60573",
   "metadata": {},
   "outputs": [],
   "source": [
    "df_test = pd.DataFrame(test_set[\"annotations\"])\n",
    "liste_test = df_test.iloc[0,1]"
   ]
  },
  {
   "cell_type": "code",
   "execution_count": 32,
   "id": "c902be44",
   "metadata": {},
   "outputs": [
    {
     "data": {
      "text/plain": [
       "'Test antigénique réalisés au cabinet. Le 15 avril à 11.'"
      ]
     },
     "execution_count": 32,
     "metadata": {},
     "output_type": "execute_result"
    }
   ],
   "source": [
    "sentence = df_test.iloc[0,0]\n",
    "sentence"
   ]
  },
  {
   "cell_type": "code",
   "execution_count": 35,
   "id": "41b8e3e2",
   "metadata": {
    "scrolled": true
   },
   "outputs": [
    {
     "name": "stdout",
     "output_type": "stream",
     "text": [
      "Test antigénique\n",
      "Treatment\n",
      "cabinet\n",
      "Location\n",
      "15 avril\n",
      "Date\n",
      "11\n",
      "Time\n"
     ]
    }
   ],
   "source": [
    "for elm in liste_test:\n",
    "    print(sentence[elm[0]:elm[1]])\n",
    "    print(elm[2])"
   ]
  },
  {
   "cell_type": "code",
   "execution_count": 40,
   "id": "ec9023cb",
   "metadata": {},
   "outputs": [],
   "source": [
    "def test(sentence, ents):\n",
    "    liste = []\n",
    "    for elm in ents:\n",
    "        \n",
    "        liste.append((sentence[elm[0]:elm[1]],elm[2]))\n",
    "    return liste\n",
    "        \n",
    "        \n",
    "    "
   ]
  },
  {
   "cell_type": "code",
   "execution_count": 41,
   "id": "85dfa051",
   "metadata": {
    "scrolled": true
   },
   "outputs": [
    {
     "data": {
      "text/plain": [
       "[('Test antigénique', 'Treatment'),\n",
       " ('cabinet', 'Location'),\n",
       " ('15 avril', 'Date'),\n",
       " ('11', 'Time')]"
      ]
     },
     "execution_count": 41,
     "metadata": {},
     "output_type": "execute_result"
    }
   ],
   "source": [
    "test(sentence,liste_test)"
   ]
  },
  {
   "cell_type": "code",
   "execution_count": 43,
   "id": "308c033f",
   "metadata": {},
   "outputs": [
    {
     "name": "stderr",
     "output_type": "stream",
     "text": [
      "100%|██████████████████████████████████████████████████████████████████████████████████| 60/60 [00:00<00:00, 219.71it/s]"
     ]
    },
    {
     "name": "stdout",
     "output_type": "stream",
     "text": [
      "training data created under '../raw_data/test_set.spacy'\n"
     ]
    },
    {
     "name": "stderr",
     "output_type": "stream",
     "text": [
      "\n"
     ]
    }
   ],
   "source": [
    "create_training_data(test_set, \"test_set.spacy\")"
   ]
  },
  {
   "cell_type": "markdown",
   "id": "03e88b7c",
   "metadata": {},
   "source": [
    "# Tuto from https://www.kaggle.com/code/finalepoch/medical-ner-using-spacy"
   ]
  },
  {
   "cell_type": "code",
   "execution_count": 27,
   "id": "37c9eef9",
   "metadata": {},
   "outputs": [],
   "source": [
    "from __future__ import unicode_literals, print_function\n",
    "import random\n",
    "from pathlib import Path\n",
    "from spacy.util import minibatch, compounding\n",
    "import spacy\n",
    "import sys"
   ]
  },
  {
   "cell_type": "code",
   "execution_count": null,
   "id": "ec417172",
   "metadata": {},
   "outputs": [],
   "source": []
  }
 ],
 "metadata": {
  "kernelspec": {
   "display_name": "Python 3 (ipykernel)",
   "language": "python",
   "name": "python3"
  },
  "language_info": {
   "codemirror_mode": {
    "name": "ipython",
    "version": 3
   },
   "file_extension": ".py",
   "mimetype": "text/x-python",
   "name": "python",
   "nbconvert_exporter": "python",
   "pygments_lexer": "ipython3",
   "version": "3.8.12"
  },
  "toc": {
   "base_numbering": 1,
   "nav_menu": {},
   "number_sections": true,
   "sideBar": true,
   "skip_h1_title": false,
   "title_cell": "Table of Contents",
   "title_sidebar": "Contents",
   "toc_cell": false,
   "toc_position": {},
   "toc_section_display": true,
   "toc_window_display": false
  }
 },
 "nbformat": 4,
 "nbformat_minor": 5
}
