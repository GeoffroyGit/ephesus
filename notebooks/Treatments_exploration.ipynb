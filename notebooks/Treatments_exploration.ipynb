{
 "cells": [
  {
   "cell_type": "code",
   "execution_count": 99,
   "id": "5f6cf574",
   "metadata": {},
   "outputs": [],
   "source": [
    "from os import listdir\n",
    "from os.path import isfile, join\n",
    "import pandas as pd\n",
    "import json\n",
    "import seaborn as sns\n",
    "from data "
   ]
  },
  {
   "cell_type": "code",
   "execution_count": 131,
   "id": "4c248ed6",
   "metadata": {},
   "outputs": [],
   "source": [
    "result = pd.read_csv(\"../raw_data/input_data.csv\").drop(columns=\"Unnamed: 0\")"
   ]
  },
  {
   "cell_type": "code",
   "execution_count": 136,
   "id": "1702fb75",
   "metadata": {},
   "outputs": [
    {
     "data": {
      "text/html": [
       "<div>\n",
       "<style scoped>\n",
       "    .dataframe tbody tr th:only-of-type {\n",
       "        vertical-align: middle;\n",
       "    }\n",
       "\n",
       "    .dataframe tbody tr th {\n",
       "        vertical-align: top;\n",
       "    }\n",
       "\n",
       "    .dataframe thead th {\n",
       "        text-align: right;\n",
       "    }\n",
       "</style>\n",
       "<table border=\"1\" class=\"dataframe\">\n",
       "  <thead>\n",
       "    <tr style=\"text-align: right;\">\n",
       "      <th></th>\n",
       "      <th>fichier</th>\n",
       "      <th>translation</th>\n",
       "    </tr>\n",
       "  </thead>\n",
       "  <tbody>\n",
       "    <tr>\n",
       "      <th>0</th>\n",
       "      <td>0037fbb3-844e-477e-8432-bf93ab0b678c_translati...</td>\n",
       "      <td>Création d'un AMI, ami 1 50 le lundi premier o...</td>\n",
       "    </tr>\n",
       "    <tr>\n",
       "      <th>1</th>\n",
       "      <td>035ba22d-af77-42ff-9a5a-d6c0969f18cf_translati...</td>\n",
       "      <td>Créer une ami 1 50 faite au cabinet ce matin à...</td>\n",
       "    </tr>\n",
       "    <tr>\n",
       "      <th>2</th>\n",
       "      <td>038b4861-80a8-4615-bc74-28023bf4a62b_translati...</td>\n",
       "      <td>Ajouter une ami 1 50 à la visite de ce matin.</td>\n",
       "    </tr>\n",
       "    <tr>\n",
       "      <th>3</th>\n",
       "      <td>038cf73c-1508-44e9-b3b0-7d0e3a320a66_translati...</td>\n",
       "      <td>Prise de sang faite au cabinet le 22 juillet à...</td>\n",
       "    </tr>\n",
       "    <tr>\n",
       "      <th>4</th>\n",
       "      <td>039a13db-4d36-422b-ac3d-e1d682dac08f_translati...</td>\n",
       "      <td>Création d'un ami 1 50 réalisé à 8h00 au cabin...</td>\n",
       "    </tr>\n",
       "  </tbody>\n",
       "</table>\n",
       "</div>"
      ],
      "text/plain": [
       "                                             fichier  \\\n",
       "0  0037fbb3-844e-477e-8432-bf93ab0b678c_translati...   \n",
       "1  035ba22d-af77-42ff-9a5a-d6c0969f18cf_translati...   \n",
       "2  038b4861-80a8-4615-bc74-28023bf4a62b_translati...   \n",
       "3  038cf73c-1508-44e9-b3b0-7d0e3a320a66_translati...   \n",
       "4  039a13db-4d36-422b-ac3d-e1d682dac08f_translati...   \n",
       "\n",
       "                                         translation  \n",
       "0  Création d'un AMI, ami 1 50 le lundi premier o...  \n",
       "1  Créer une ami 1 50 faite au cabinet ce matin à...  \n",
       "2      Ajouter une ami 1 50 à la visite de ce matin.  \n",
       "3  Prise de sang faite au cabinet le 22 juillet à...  \n",
       "4  Création d'un ami 1 50 réalisé à 8h00 au cabin...  "
      ]
     },
     "execution_count": 136,
     "metadata": {},
     "output_type": "execute_result"
    }
   ],
   "source": [
    "result.head()"
   ]
  },
  {
   "cell_type": "code",
   "execution_count": 132,
   "id": "bd31c296",
   "metadata": {},
   "outputs": [],
   "source": [
    "LOCAL_PATH = \"../raw_data/targets\"\n",
    "\n",
    "# monRepertoire = \"Data\"\n",
    "\n",
    "# récupération des noms des fichiers output translation des memos vocaux\n",
    "fichiers = [fichier for fichier in listdir(LOCAL_PATH) if isfile(join(LOCAL_PATH, fichier))]"
   ]
  },
  {
   "cell_type": "code",
   "execution_count": 175,
   "id": "3958ef3f",
   "metadata": {},
   "outputs": [],
   "source": [
    "# ouverture des fichiers json et récupération de la translation exemple ci dessous\n",
    "    # OUTPUT MEMO VOCAL\n",
    "    # {\n",
    "    #    \"Translation\": \"Une prise de sang à enregistrer sur la tournée de numéro un le 25 janvier à 8h45 sur la commune de Gémenos, 26 km montagne. Merci.\"\n",
    "    # }\n",
    "\n",
    "data = []\n",
    "for fichier in fichiers :\n",
    "    lib_fichier = LOCAL_PATH + \"/\" + fichier\n",
    "    with open(lib_fichier) as mon_fichier:\n",
    "        data.append(json.load(mon_fichier))\n",
    "\n",
    "treatments = [data[i][\"Treatments\"][0]['TreatmentCares'][0]['TreatmentDetected'] for i in range(len(data))]\n",
    "ngap = [data[i][\"Treatments\"][0]['TreatmentCares'][0]['NGAP'] for i in range(len(data))]\n",
    "cotation = [data[i][\"Treatments\"][0]['TreatmentCares'][0]['Cotation'] for i in range(len(data))]\n"
   ]
  },
  {
   "cell_type": "code",
   "execution_count": 173,
   "id": "addaa6d9",
   "metadata": {},
   "outputs": [
    {
     "data": {
      "text/html": [
       "<div>\n",
       "<style scoped>\n",
       "    .dataframe tbody tr th:only-of-type {\n",
       "        vertical-align: middle;\n",
       "    }\n",
       "\n",
       "    .dataframe tbody tr th {\n",
       "        vertical-align: top;\n",
       "    }\n",
       "\n",
       "    .dataframe thead th {\n",
       "        text-align: right;\n",
       "    }\n",
       "</style>\n",
       "<table border=\"1\" class=\"dataframe\">\n",
       "  <thead>\n",
       "    <tr style=\"text-align: right;\">\n",
       "      <th></th>\n",
       "      <th>fichier</th>\n",
       "      <th>Treatments</th>\n",
       "      <th>translation</th>\n",
       "    </tr>\n",
       "  </thead>\n",
       "  <tbody>\n",
       "  </tbody>\n",
       "</table>\n",
       "</div>"
      ],
      "text/plain": [
       "Empty DataFrame\n",
       "Columns: [fichier, Treatments, translation]\n",
       "Index: []"
      ]
     },
     "execution_count": 173,
     "metadata": {},
     "output_type": "execute_result"
    }
   ],
   "source": [
    "# création d'un dataframe avec nom du fichier et la phrase\n",
    "df = pd.DataFrame({'fichier': fichiers, 'Treatments': data})\n",
    "df.merge(result)"
   ]
  },
  {
   "cell_type": "code",
   "execution_count": 174,
   "id": "b04610a0",
   "metadata": {},
   "outputs": [
    {
     "data": {
      "text/html": [
       "<div>\n",
       "<style scoped>\n",
       "    .dataframe tbody tr th:only-of-type {\n",
       "        vertical-align: middle;\n",
       "    }\n",
       "\n",
       "    .dataframe tbody tr th {\n",
       "        vertical-align: top;\n",
       "    }\n",
       "\n",
       "    .dataframe thead th {\n",
       "        text-align: right;\n",
       "    }\n",
       "</style>\n",
       "<table border=\"1\" class=\"dataframe\">\n",
       "  <thead>\n",
       "    <tr style=\"text-align: right;\">\n",
       "      <th></th>\n",
       "      <th>fichier</th>\n",
       "      <th>Treatments</th>\n",
       "    </tr>\n",
       "  </thead>\n",
       "  <tbody>\n",
       "    <tr>\n",
       "      <th>0</th>\n",
       "      <td>2206f47b-a858-4f23-8696-d10e1050f2d7_6ad77b18-...</td>\n",
       "      <td>{'TreatmentDetected': None, 'NGAP': 'SC', 'Cot...</td>\n",
       "    </tr>\n",
       "    <tr>\n",
       "      <th>1</th>\n",
       "      <td>c619f0e1-7c22-4047-adb2-df4dec6643ba_1013078c-...</td>\n",
       "      <td>{'TreatmentDetected': None, 'NGAP': 'PSG', 'Co...</td>\n",
       "    </tr>\n",
       "    <tr>\n",
       "      <th>2</th>\n",
       "      <td>9f980dcf-b431-4e67-876f-2b8e288b7900_81de811a-...</td>\n",
       "      <td>{'TreatmentDetected': None, 'NGAP': 'PSG', 'Co...</td>\n",
       "    </tr>\n",
       "    <tr>\n",
       "      <th>3</th>\n",
       "      <td>2d035c4b-cdfa-4982-87dc-916fe07a0824_760f30f6-...</td>\n",
       "      <td>{'TreatmentDetected': None, 'NGAP': 'PSG', 'Co...</td>\n",
       "    </tr>\n",
       "    <tr>\n",
       "      <th>4</th>\n",
       "      <td>2d035c4b-cdfa-4982-87dc-916fe07a0824_6265ee25-...</td>\n",
       "      <td>{'TreatmentDetected': None, 'NGAP': 'TAID19', ...</td>\n",
       "    </tr>\n",
       "    <tr>\n",
       "      <th>...</th>\n",
       "      <td>...</td>\n",
       "      <td>...</td>\n",
       "    </tr>\n",
       "    <tr>\n",
       "      <th>4073</th>\n",
       "      <td>3e7ffb67-8872-4172-bf18-4fe338ecae3f_82f59fa4-...</td>\n",
       "      <td>{'TreatmentDetected': None, 'NGAP': 'PSG', 'Co...</td>\n",
       "    </tr>\n",
       "    <tr>\n",
       "      <th>4074</th>\n",
       "      <td>9f980dcf-b431-4e67-876f-2b8e288b7900_0cd87a40-...</td>\n",
       "      <td>{'TreatmentDetected': None, 'NGAP': 'SC', 'Cot...</td>\n",
       "    </tr>\n",
       "    <tr>\n",
       "      <th>4075</th>\n",
       "      <td>9d42ce6f-8537-49a9-a121-c8ae1dc7cda8_308bd1a4-...</td>\n",
       "      <td>{'TreatmentDetected': None, 'NGAP': 'PSG', 'Co...</td>\n",
       "    </tr>\n",
       "    <tr>\n",
       "      <th>4076</th>\n",
       "      <td>9f980dcf-b431-4e67-876f-2b8e288b7900_2dc62589-...</td>\n",
       "      <td>{'TreatmentDetected': None, 'NGAP': 'ABFM', 'C...</td>\n",
       "    </tr>\n",
       "    <tr>\n",
       "      <th>4077</th>\n",
       "      <td>2d035c4b-cdfa-4982-87dc-916fe07a0824_8af7aaf3-...</td>\n",
       "      <td>{'TreatmentDetected': None, 'NGAP': 'PSTA', 'C...</td>\n",
       "    </tr>\n",
       "  </tbody>\n",
       "</table>\n",
       "<p>4078 rows × 2 columns</p>\n",
       "</div>"
      ],
      "text/plain": [
       "                                                fichier  \\\n",
       "0     2206f47b-a858-4f23-8696-d10e1050f2d7_6ad77b18-...   \n",
       "1     c619f0e1-7c22-4047-adb2-df4dec6643ba_1013078c-...   \n",
       "2     9f980dcf-b431-4e67-876f-2b8e288b7900_81de811a-...   \n",
       "3     2d035c4b-cdfa-4982-87dc-916fe07a0824_760f30f6-...   \n",
       "4     2d035c4b-cdfa-4982-87dc-916fe07a0824_6265ee25-...   \n",
       "...                                                 ...   \n",
       "4073  3e7ffb67-8872-4172-bf18-4fe338ecae3f_82f59fa4-...   \n",
       "4074  9f980dcf-b431-4e67-876f-2b8e288b7900_0cd87a40-...   \n",
       "4075  9d42ce6f-8537-49a9-a121-c8ae1dc7cda8_308bd1a4-...   \n",
       "4076  9f980dcf-b431-4e67-876f-2b8e288b7900_2dc62589-...   \n",
       "4077  2d035c4b-cdfa-4982-87dc-916fe07a0824_8af7aaf3-...   \n",
       "\n",
       "                                             Treatments  \n",
       "0     {'TreatmentDetected': None, 'NGAP': 'SC', 'Cot...  \n",
       "1     {'TreatmentDetected': None, 'NGAP': 'PSG', 'Co...  \n",
       "2     {'TreatmentDetected': None, 'NGAP': 'PSG', 'Co...  \n",
       "3     {'TreatmentDetected': None, 'NGAP': 'PSG', 'Co...  \n",
       "4     {'TreatmentDetected': None, 'NGAP': 'TAID19', ...  \n",
       "...                                                 ...  \n",
       "4073  {'TreatmentDetected': None, 'NGAP': 'PSG', 'Co...  \n",
       "4074  {'TreatmentDetected': None, 'NGAP': 'SC', 'Cot...  \n",
       "4075  {'TreatmentDetected': None, 'NGAP': 'PSG', 'Co...  \n",
       "4076  {'TreatmentDetected': None, 'NGAP': 'ABFM', 'C...  \n",
       "4077  {'TreatmentDetected': None, 'NGAP': 'PSTA', 'C...  \n",
       "\n",
       "[4078 rows x 2 columns]"
      ]
     },
     "execution_count": 174,
     "metadata": {},
     "output_type": "execute_result"
    }
   ],
   "source": [
    "df"
   ]
  },
  {
   "cell_type": "code",
   "execution_count": 166,
   "id": "8ed5424d",
   "metadata": {},
   "outputs": [
    {
     "data": {
      "text/plain": [
       "{'TreatmentDetected': None,\n",
       " 'NGAP': 'SC',\n",
       " 'Cotation': None,\n",
       " 'Hour': '10:00:00',\n",
       " 'AldRelated': False}"
      ]
     },
     "execution_count": 166,
     "metadata": {},
     "output_type": "execute_result"
    }
   ],
   "source": [
    "df.iloc[0,1]"
   ]
  },
  {
   "cell_type": "code",
   "execution_count": 171,
   "id": "ef5b7763",
   "metadata": {},
   "outputs": [
    {
     "name": "stdout",
     "output_type": "stream",
     "text": [
      "None\n"
     ]
    }
   ],
   "source": [
    "print(df.iloc[0,1][\"TreatmentDetected\"])"
   ]
  },
  {
   "cell_type": "code",
   "execution_count": 167,
   "id": "da25de64",
   "metadata": {},
   "outputs": [
    {
     "ename": "KeyError",
     "evalue": "'TreatmentDetected'",
     "output_type": "error",
     "traceback": [
      "\u001b[0;31m---------------------------------------------------------------------------\u001b[0m",
      "\u001b[0;31mKeyError\u001b[0m                                  Traceback (most recent call last)",
      "Input \u001b[0;32mIn [167]\u001b[0m, in \u001b[0;36m<cell line: 1>\u001b[0;34m()\u001b[0m\n\u001b[0;32m----> 1\u001b[0m df[\u001b[38;5;124m\"\u001b[39m\u001b[38;5;124mtest\u001b[39m\u001b[38;5;124m\"\u001b[39m] \u001b[38;5;241m=\u001b[39m \u001b[43mdf\u001b[49m\u001b[38;5;241;43m.\u001b[39;49m\u001b[43miloc\u001b[49m\u001b[43m[\u001b[49m\u001b[43m:\u001b[49m\u001b[43m,\u001b[49m\u001b[38;5;241;43m1\u001b[39;49m\u001b[43m]\u001b[49m\u001b[43m[\u001b[49m\u001b[38;5;124;43m\"\u001b[39;49m\u001b[38;5;124;43mTreatmentDetected\u001b[39;49m\u001b[38;5;124;43m\"\u001b[39;49m\u001b[43m]\u001b[49m\n",
      "File \u001b[0;32m~/.pyenv/versions/3.8.12/envs/ephesus/lib/python3.8/site-packages/pandas/core/series.py:958\u001b[0m, in \u001b[0;36mSeries.__getitem__\u001b[0;34m(self, key)\u001b[0m\n\u001b[1;32m    955\u001b[0m     \u001b[38;5;28;01mreturn\u001b[39;00m \u001b[38;5;28mself\u001b[39m\u001b[38;5;241m.\u001b[39m_values[key]\n\u001b[1;32m    957\u001b[0m \u001b[38;5;28;01melif\u001b[39;00m key_is_scalar:\n\u001b[0;32m--> 958\u001b[0m     \u001b[38;5;28;01mreturn\u001b[39;00m \u001b[38;5;28;43mself\u001b[39;49m\u001b[38;5;241;43m.\u001b[39;49m\u001b[43m_get_value\u001b[49m\u001b[43m(\u001b[49m\u001b[43mkey\u001b[49m\u001b[43m)\u001b[49m\n\u001b[1;32m    960\u001b[0m \u001b[38;5;28;01mif\u001b[39;00m is_hashable(key):\n\u001b[1;32m    961\u001b[0m     \u001b[38;5;66;03m# Otherwise index.get_value will raise InvalidIndexError\u001b[39;00m\n\u001b[1;32m    962\u001b[0m     \u001b[38;5;28;01mtry\u001b[39;00m:\n\u001b[1;32m    963\u001b[0m         \u001b[38;5;66;03m# For labels that don't resolve as scalars like tuples and frozensets\u001b[39;00m\n",
      "File \u001b[0;32m~/.pyenv/versions/3.8.12/envs/ephesus/lib/python3.8/site-packages/pandas/core/series.py:1069\u001b[0m, in \u001b[0;36mSeries._get_value\u001b[0;34m(self, label, takeable)\u001b[0m\n\u001b[1;32m   1066\u001b[0m     \u001b[38;5;28;01mreturn\u001b[39;00m \u001b[38;5;28mself\u001b[39m\u001b[38;5;241m.\u001b[39m_values[label]\n\u001b[1;32m   1068\u001b[0m \u001b[38;5;66;03m# Similar to Index.get_value, but we do not fall back to positional\u001b[39;00m\n\u001b[0;32m-> 1069\u001b[0m loc \u001b[38;5;241m=\u001b[39m \u001b[38;5;28;43mself\u001b[39;49m\u001b[38;5;241;43m.\u001b[39;49m\u001b[43mindex\u001b[49m\u001b[38;5;241;43m.\u001b[39;49m\u001b[43mget_loc\u001b[49m\u001b[43m(\u001b[49m\u001b[43mlabel\u001b[49m\u001b[43m)\u001b[49m\n\u001b[1;32m   1070\u001b[0m \u001b[38;5;28;01mreturn\u001b[39;00m \u001b[38;5;28mself\u001b[39m\u001b[38;5;241m.\u001b[39mindex\u001b[38;5;241m.\u001b[39m_get_values_for_loc(\u001b[38;5;28mself\u001b[39m, loc, label)\n",
      "File \u001b[0;32m~/.pyenv/versions/3.8.12/envs/ephesus/lib/python3.8/site-packages/pandas/core/indexes/range.py:389\u001b[0m, in \u001b[0;36mRangeIndex.get_loc\u001b[0;34m(self, key, method, tolerance)\u001b[0m\n\u001b[1;32m    387\u001b[0m             \u001b[38;5;28;01mraise\u001b[39;00m \u001b[38;5;167;01mKeyError\u001b[39;00m(key) \u001b[38;5;28;01mfrom\u001b[39;00m \u001b[38;5;21;01merr\u001b[39;00m\n\u001b[1;32m    388\u001b[0m     \u001b[38;5;28mself\u001b[39m\u001b[38;5;241m.\u001b[39m_check_indexing_error(key)\n\u001b[0;32m--> 389\u001b[0m     \u001b[38;5;28;01mraise\u001b[39;00m \u001b[38;5;167;01mKeyError\u001b[39;00m(key)\n\u001b[1;32m    390\u001b[0m \u001b[38;5;28;01mreturn\u001b[39;00m \u001b[38;5;28msuper\u001b[39m()\u001b[38;5;241m.\u001b[39mget_loc(key, method\u001b[38;5;241m=\u001b[39mmethod, tolerance\u001b[38;5;241m=\u001b[39mtolerance)\n",
      "\u001b[0;31mKeyError\u001b[0m: 'TreatmentDetected'"
     ]
    }
   ],
   "source": [
    "df[\"test\"] = df.iloc[:,1][\"TreatmentDetected\"]"
   ]
  },
  {
   "cell_type": "code",
   "execution_count": 104,
   "id": "014378cb",
   "metadata": {},
   "outputs": [],
   "source": [
    "df['len_treatments'] = df['Treatments'].apply(lambda x: len(x))"
   ]
  },
  {
   "cell_type": "code",
   "execution_count": 107,
   "id": "008ae07c",
   "metadata": {},
   "outputs": [
    {
     "data": {
      "text/plain": [
       "array([1, 2, 3, 4, 8, 5, 6])"
      ]
     },
     "execution_count": 107,
     "metadata": {},
     "output_type": "execute_result"
    }
   ],
   "source": [
    "df['len_treatments'].unique()"
   ]
  },
  {
   "cell_type": "code",
   "execution_count": 108,
   "id": "df9f1fe3",
   "metadata": {},
   "outputs": [
    {
     "data": {
      "text/plain": [
       "<AxesSubplot:xlabel='len_treatments', ylabel='Count'>"
      ]
     },
     "execution_count": 108,
     "metadata": {},
     "output_type": "execute_result"
    },
    {
     "data": {
      "image/png": "[encoded data removed]",
      "text/plain": [
       "<Figure size 432x288 with 1 Axes>"
      ]
     },
     "metadata": {
      "needs_background": "light"
     },
     "output_type": "display_data"
    }
   ],
   "source": [
    "sns.histplot(df[\"len_treatments\"])"
   ]
  },
  {
   "cell_type": "code",
   "execution_count": 118,
   "id": "5b6210d9",
   "metadata": {},
   "outputs": [
    {
     "data": {
      "text/html": [
       "<div>\n",
       "<style scoped>\n",
       "    .dataframe tbody tr th:only-of-type {\n",
       "        vertical-align: middle;\n",
       "    }\n",
       "\n",
       "    .dataframe tbody tr th {\n",
       "        vertical-align: top;\n",
       "    }\n",
       "\n",
       "    .dataframe thead th {\n",
       "        text-align: right;\n",
       "    }\n",
       "</style>\n",
       "<table border=\"1\" class=\"dataframe\">\n",
       "  <thead>\n",
       "    <tr style=\"text-align: right;\">\n",
       "      <th></th>\n",
       "      <th>len_treatments</th>\n",
       "      <th>fichier</th>\n",
       "    </tr>\n",
       "  </thead>\n",
       "  <tbody>\n",
       "    <tr>\n",
       "      <th>0</th>\n",
       "      <td>1</td>\n",
       "      <td>3786</td>\n",
       "    </tr>\n",
       "    <tr>\n",
       "      <th>1</th>\n",
       "      <td>2</td>\n",
       "      <td>223</td>\n",
       "    </tr>\n",
       "    <tr>\n",
       "      <th>2</th>\n",
       "      <td>3</td>\n",
       "      <td>40</td>\n",
       "    </tr>\n",
       "    <tr>\n",
       "      <th>3</th>\n",
       "      <td>4</td>\n",
       "      <td>21</td>\n",
       "    </tr>\n",
       "    <tr>\n",
       "      <th>4</th>\n",
       "      <td>5</td>\n",
       "      <td>4</td>\n",
       "    </tr>\n",
       "    <tr>\n",
       "      <th>5</th>\n",
       "      <td>6</td>\n",
       "      <td>2</td>\n",
       "    </tr>\n",
       "    <tr>\n",
       "      <th>6</th>\n",
       "      <td>8</td>\n",
       "      <td>2</td>\n",
       "    </tr>\n",
       "  </tbody>\n",
       "</table>\n",
       "</div>"
      ],
      "text/plain": [
       "   len_treatments  fichier\n",
       "0               1     3786\n",
       "1               2      223\n",
       "2               3       40\n",
       "3               4       21\n",
       "4               5        4\n",
       "5               6        2\n",
       "6               8        2"
      ]
     },
     "execution_count": 118,
     "metadata": {},
     "output_type": "execute_result"
    }
   ],
   "source": [
    "pd.DataFrame(df.groupby(\"len_treatments\",).count()[\"fichier\"]).reset_index()"
   ]
  },
  {
   "cell_type": "code",
   "execution_count": 120,
   "id": "b89559be",
   "metadata": {},
   "outputs": [],
   "source": [
    "df = df[df[\"len_treatments\"]==1]"
   ]
  },
  {
   "cell_type": "code",
   "execution_count": 121,
   "id": "946a671a",
   "metadata": {},
   "outputs": [
    {
     "data": {
      "text/plain": [
       "[{'TreatmentCares': [{'TreatmentDetected': None,\n",
       "    'NGAP': 'PSG',\n",
       "    'Cotation': None,\n",
       "    'Hour': '08:00:00',\n",
       "    'AldRelated': False}],\n",
       "  'CareIntervals': [{'IntervalType': 'AllDays',\n",
       "    'IntervalInDays': 1,\n",
       "    'PassingDayOfWeek': 0,\n",
       "    'PassingDate': None}],\n",
       "  'CareBeginDate': '2022-02-22T08:00:00',\n",
       "  'CareDuration': 1,\n",
       "  'CareDurationTypeEnum': 'Days',\n",
       "  'CareOnPublicHoliday': True,\n",
       "  'CareLocation': 'Domicile',\n",
       "  'CareBeginHpName': 'Delecluse Sabrina',\n",
       "  'ZoneName': None,\n",
       "  'IK': {'KilometersNumberPlain': 1,\n",
       "   'KilometersNumberMontain': None,\n",
       "   'KilometersNumberSpecial': None}}]"
      ]
     },
     "execution_count": 121,
     "metadata": {},
     "output_type": "execute_result"
    }
   ],
   "source": [
    "df.iloc[1,1]"
   ]
  },
  {
   "cell_type": "code",
   "execution_count": 138,
   "id": "a11d1ebc",
   "metadata": {},
   "outputs": [
    {
     "data": {
      "text/plain": [
       "[{'TreatmentCares': [{'TreatmentDetected': None,\n",
       "    'NGAP': 'SC',\n",
       "    'Cotation': None,\n",
       "    'Hour': '10:00:00',\n",
       "    'AldRelated': False}],\n",
       "  'CareIntervals': [{'IntervalType': 'AllDays',\n",
       "    'IntervalInDays': 1,\n",
       "    'PassingDayOfWeek': 0,\n",
       "    'PassingDate': None}],\n",
       "  'CareBeginDate': '2022-02-18T10:00:00',\n",
       "  'CareDuration': 15,\n",
       "  'CareDurationTypeEnum': 'Days',\n",
       "  'CareOnPublicHoliday': True,\n",
       "  'CareLocation': 'Domicile',\n",
       "  'CareBeginHpName': None,\n",
       "  'ZoneName': None,\n",
       "  'IK': None}]"
      ]
     },
     "execution_count": 138,
     "metadata": {},
     "output_type": "execute_result"
    }
   ],
   "source": [
    "df[\"Treatments\"][0]"
   ]
  },
  {
   "cell_type": "code",
   "execution_count": 139,
   "id": "da1e5e7c",
   "metadata": {},
   "outputs": [
    {
     "data": {
      "text/plain": [
       "{'TreatmentCares': [{'TreatmentDetected': None,\n",
       "   'NGAP': 'SC',\n",
       "   'Cotation': None,\n",
       "   'Hour': '10:00:00',\n",
       "   'AldRelated': False}],\n",
       " 'CareIntervals': [{'IntervalType': 'AllDays',\n",
       "   'IntervalInDays': 1,\n",
       "   'PassingDayOfWeek': 0,\n",
       "   'PassingDate': None}],\n",
       " 'CareBeginDate': '2022-02-18T10:00:00',\n",
       " 'CareDuration': 15,\n",
       " 'CareDurationTypeEnum': 'Days',\n",
       " 'CareOnPublicHoliday': True,\n",
       " 'CareLocation': 'Domicile',\n",
       " 'CareBeginHpName': None,\n",
       " 'ZoneName': None,\n",
       " 'IK': None}"
      ]
     },
     "execution_count": 139,
     "metadata": {},
     "output_type": "execute_result"
    }
   ],
   "source": [
    "df[\"Treatments\"][0][0]"
   ]
  },
  {
   "cell_type": "code",
   "execution_count": 140,
   "id": "ec6abe9a",
   "metadata": {},
   "outputs": [
    {
     "data": {
      "text/plain": [
       "[{'TreatmentDetected': None,\n",
       "  'NGAP': 'SC',\n",
       "  'Cotation': None,\n",
       "  'Hour': '10:00:00',\n",
       "  'AldRelated': False}]"
      ]
     },
     "execution_count": 140,
     "metadata": {},
     "output_type": "execute_result"
    }
   ],
   "source": [
    "df[\"Treatments\"][0][0][\"TreatmentCares\"]"
   ]
  },
  {
   "cell_type": "code",
   "execution_count": 141,
   "id": "ec5f698d",
   "metadata": {
    "scrolled": true
   },
   "outputs": [
    {
     "data": {
      "text/plain": [
       "{'TreatmentDetected': None,\n",
       " 'NGAP': 'SC',\n",
       " 'Cotation': None,\n",
       " 'Hour': '10:00:00',\n",
       " 'AldRelated': False}"
      ]
     },
     "execution_count": 141,
     "metadata": {},
     "output_type": "execute_result"
    }
   ],
   "source": [
    "df[\"Treatments\"][0][0][\"TreatmentCares\"][0]"
   ]
  },
  {
   "cell_type": "code",
   "execution_count": 144,
   "id": "76475741",
   "metadata": {},
   "outputs": [
    {
     "name": "stdout",
     "output_type": "stream",
     "text": [
      "None\n"
     ]
    }
   ],
   "source": [
    "print(df[\"Treatments\"][0][0][\"TreatmentCares\"][0][\"TreatmentDetected\"])"
   ]
  },
  {
   "cell_type": "code",
   "execution_count": 146,
   "id": "2f1feaf9",
   "metadata": {},
   "outputs": [
    {
     "ename": "TypeError",
     "evalue": "list indices must be integers or slices, not str",
     "output_type": "error",
     "traceback": [
      "\u001b[0;31m---------------------------------------------------------------------------\u001b[0m",
      "\u001b[0;31mTypeError\u001b[0m                                 Traceback (most recent call last)",
      "Input \u001b[0;32mIn [146]\u001b[0m, in \u001b[0;36m<cell line: 1>\u001b[0;34m()\u001b[0m\n\u001b[0;32m----> 1\u001b[0m df[\u001b[38;5;124m\"\u001b[39m\u001b[38;5;124mtest\u001b[39m\u001b[38;5;124m\"\u001b[39m] \u001b[38;5;241m=\u001b[39m \u001b[43mdf\u001b[49m\u001b[38;5;241;43m.\u001b[39;49m\u001b[43miloc\u001b[49m\u001b[43m[\u001b[49m\u001b[43m:\u001b[49m\u001b[43m,\u001b[49m\u001b[38;5;241;43m1\u001b[39;49m\u001b[43m]\u001b[49m\u001b[43m[\u001b[49m\u001b[38;5;241;43m0\u001b[39;49m\u001b[43m]\u001b[49m\u001b[43m[\u001b[49m\u001b[38;5;124;43m\"\u001b[39;49m\u001b[38;5;124;43mTreatmentCares\u001b[39;49m\u001b[38;5;124;43m\"\u001b[39;49m\u001b[43m]\u001b[49m[\u001b[38;5;241m0\u001b[39m]\n",
      "\u001b[0;31mTypeError\u001b[0m: list indices must be integers or slices, not str"
     ]
    }
   ],
   "source": [
    "df[\"test\"] = df.iloc[:,1][0][\"TreatmentCares\"][0]"
   ]
  },
  {
   "cell_type": "code",
   "execution_count": 154,
   "id": "49b53105",
   "metadata": {},
   "outputs": [
    {
     "data": {
      "text/plain": [
       "{'TreatmentDetected': None,\n",
       " 'NGAP': 'PSG',\n",
       " 'Cotation': None,\n",
       " 'Hour': '11:00:00',\n",
       " 'AldRelated': False}"
      ]
     },
     "execution_count": 154,
     "metadata": {},
     "output_type": "execute_result"
    }
   ],
   "source": [
    "df.iloc[5,1][0][\"TreatmentCares\"][0]"
   ]
  },
  {
   "cell_type": "code",
   "execution_count": null,
   "id": "ce1142fa",
   "metadata": {},
   "outputs": [],
   "source": []
  }
 ],
 "metadata": {
  "interpreter": {
   "hash": "2d4d78e3df638170bbded06be6784210fe9a974188502733d55ef265a17f52ab"
  },
  "kernelspec": {
   "display_name": "Python 3 (ipykernel)",
   "language": "python",
   "name": "python3"
  },
  "language_info": {
   "codemirror_mode": {
    "name": "ipython",
    "version": 3
   },
   "file_extension": ".py",
   "mimetype": "text/x-python",
   "name": "python",
   "nbconvert_exporter": "python",
   "pygments_lexer": "ipython3",
   "version": "3.8.12"
  },
  "toc": {
   "base_numbering": 1,
   "nav_menu": {},
   "number_sections": true,
   "sideBar": true,
   "skip_h1_title": false,
   "title_cell": "Table of Contents",
   "title_sidebar": "Contents",
   "toc_cell": false,
   "toc_position": {},
   "toc_section_display": true,
   "toc_window_display": false
  }
 },
 "nbformat": 4,
 "nbformat_minor": 5
}
