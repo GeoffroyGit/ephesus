{
 "cells": [
  {
   "cell_type": "code",
   "execution_count": 37,
   "id": "5f6cf574",
   "metadata": {},
   "outputs": [],
   "source": [
    "from os import listdir\n",
    "from os.path import isfile, join\n",
    "import pandas as pd\n",
    "import json\n",
    "import seaborn as sns\n",
    "import matplotlib.pyplot as plt"
   ]
  },
  {
   "cell_type": "markdown",
   "id": "0b263f1c",
   "metadata": {},
   "source": [
    "# Data Exploration"
   ]
  },
  {
   "cell_type": "code",
   "execution_count": 2,
   "id": "146c8ffb",
   "metadata": {},
   "outputs": [],
   "source": [
    "result = pd.read_csv(\"../raw_data/input_data.csv\").drop(columns=\"Unnamed: 0\")"
   ]
  },
  {
   "cell_type": "code",
   "execution_count": 3,
   "id": "fdc0a7a3",
   "metadata": {},
   "outputs": [
    {
     "data": {
      "text/html": [
       "<div>\n",
       "<style scoped>\n",
       "    .dataframe tbody tr th:only-of-type {\n",
       "        vertical-align: middle;\n",
       "    }\n",
       "\n",
       "    .dataframe tbody tr th {\n",
       "        vertical-align: top;\n",
       "    }\n",
       "\n",
       "    .dataframe thead th {\n",
       "        text-align: right;\n",
       "    }\n",
       "</style>\n",
       "<table border=\"1\" class=\"dataframe\">\n",
       "  <thead>\n",
       "    <tr style=\"text-align: right;\">\n",
       "      <th></th>\n",
       "      <th>fichier</th>\n",
       "      <th>translation</th>\n",
       "    </tr>\n",
       "  </thead>\n",
       "  <tbody>\n",
       "    <tr>\n",
       "      <th>0</th>\n",
       "      <td>0037fbb3-844e-477e-8432-bf93ab0b678c_translati...</td>\n",
       "      <td>Création d'un AMI, ami 1 50 le lundi premier o...</td>\n",
       "    </tr>\n",
       "    <tr>\n",
       "      <th>1</th>\n",
       "      <td>035ba22d-af77-42ff-9a5a-d6c0969f18cf_translati...</td>\n",
       "      <td>Créer une ami 1 50 faite au cabinet ce matin à...</td>\n",
       "    </tr>\n",
       "    <tr>\n",
       "      <th>2</th>\n",
       "      <td>038b4861-80a8-4615-bc74-28023bf4a62b_translati...</td>\n",
       "      <td>Ajouter une ami 1 50 à la visite de ce matin.</td>\n",
       "    </tr>\n",
       "    <tr>\n",
       "      <th>3</th>\n",
       "      <td>038cf73c-1508-44e9-b3b0-7d0e3a320a66_translati...</td>\n",
       "      <td>Prise de sang faite au cabinet le 22 juillet à...</td>\n",
       "    </tr>\n",
       "    <tr>\n",
       "      <th>4</th>\n",
       "      <td>039a13db-4d36-422b-ac3d-e1d682dac08f_translati...</td>\n",
       "      <td>Création d'un ami 1 50 réalisé à 8h00 au cabin...</td>\n",
       "    </tr>\n",
       "  </tbody>\n",
       "</table>\n",
       "</div>"
      ],
      "text/plain": [
       "                                             fichier  \\\n",
       "0  0037fbb3-844e-477e-8432-bf93ab0b678c_translati...   \n",
       "1  035ba22d-af77-42ff-9a5a-d6c0969f18cf_translati...   \n",
       "2  038b4861-80a8-4615-bc74-28023bf4a62b_translati...   \n",
       "3  038cf73c-1508-44e9-b3b0-7d0e3a320a66_translati...   \n",
       "4  039a13db-4d36-422b-ac3d-e1d682dac08f_translati...   \n",
       "\n",
       "                                         translation  \n",
       "0  Création d'un AMI, ami 1 50 le lundi premier o...  \n",
       "1  Créer une ami 1 50 faite au cabinet ce matin à...  \n",
       "2      Ajouter une ami 1 50 à la visite de ce matin.  \n",
       "3  Prise de sang faite au cabinet le 22 juillet à...  \n",
       "4  Création d'un ami 1 50 réalisé à 8h00 au cabin...  "
      ]
     },
     "execution_count": 3,
     "metadata": {},
     "output_type": "execute_result"
    }
   ],
   "source": [
    "result.head()"
   ]
  },
  {
   "cell_type": "code",
   "execution_count": 51,
   "id": "bd31c296",
   "metadata": {},
   "outputs": [
    {
     "data": {
      "text/html": [
       "<div>\n",
       "<style scoped>\n",
       "    .dataframe tbody tr th:only-of-type {\n",
       "        vertical-align: middle;\n",
       "    }\n",
       "\n",
       "    .dataframe tbody tr th {\n",
       "        vertical-align: top;\n",
       "    }\n",
       "\n",
       "    .dataframe thead th {\n",
       "        text-align: right;\n",
       "    }\n",
       "</style>\n",
       "<table border=\"1\" class=\"dataframe\">\n",
       "  <thead>\n",
       "    <tr style=\"text-align: right;\">\n",
       "      <th></th>\n",
       "      <th>fichier</th>\n",
       "      <th>Treatments</th>\n",
       "      <th>NGAP</th>\n",
       "      <th>Cotation</th>\n",
       "    </tr>\n",
       "  </thead>\n",
       "  <tbody>\n",
       "    <tr>\n",
       "      <th>0</th>\n",
       "      <td>2206f47b-a858-4f23-8696-d10e1050f2d7_6ad77b18-...</td>\n",
       "      <td>None</td>\n",
       "      <td>SC</td>\n",
       "      <td>None</td>\n",
       "    </tr>\n",
       "    <tr>\n",
       "      <th>1</th>\n",
       "      <td>c619f0e1-7c22-4047-adb2-df4dec6643ba_1013078c-...</td>\n",
       "      <td>None</td>\n",
       "      <td>PSG</td>\n",
       "      <td>None</td>\n",
       "    </tr>\n",
       "    <tr>\n",
       "      <th>2</th>\n",
       "      <td>9f980dcf-b431-4e67-876f-2b8e288b7900_81de811a-...</td>\n",
       "      <td>None</td>\n",
       "      <td>PSG</td>\n",
       "      <td>None</td>\n",
       "    </tr>\n",
       "    <tr>\n",
       "      <th>3</th>\n",
       "      <td>2d035c4b-cdfa-4982-87dc-916fe07a0824_760f30f6-...</td>\n",
       "      <td>None</td>\n",
       "      <td>PSG</td>\n",
       "      <td>None</td>\n",
       "    </tr>\n",
       "    <tr>\n",
       "      <th>4</th>\n",
       "      <td>2d035c4b-cdfa-4982-87dc-916fe07a0824_6265ee25-...</td>\n",
       "      <td>None</td>\n",
       "      <td>TAID19</td>\n",
       "      <td>None</td>\n",
       "    </tr>\n",
       "  </tbody>\n",
       "</table>\n",
       "</div>"
      ],
      "text/plain": [
       "                                             fichier Treatments    NGAP  \\\n",
       "0  2206f47b-a858-4f23-8696-d10e1050f2d7_6ad77b18-...       None      SC   \n",
       "1  c619f0e1-7c22-4047-adb2-df4dec6643ba_1013078c-...       None     PSG   \n",
       "2  9f980dcf-b431-4e67-876f-2b8e288b7900_81de811a-...       None     PSG   \n",
       "3  2d035c4b-cdfa-4982-87dc-916fe07a0824_760f30f6-...       None     PSG   \n",
       "4  2d035c4b-cdfa-4982-87dc-916fe07a0824_6265ee25-...       None  TAID19   \n",
       "\n",
       "  Cotation  \n",
       "0     None  \n",
       "1     None  \n",
       "2     None  \n",
       "3     None  \n",
       "4     None  "
      ]
     },
     "execution_count": 51,
     "metadata": {},
     "output_type": "execute_result"
    }
   ],
   "source": [
    "LOCAL_PATH = \"../raw_data/targets\"\n",
    "\n",
    "fichiers = [fichier for fichier in listdir(LOCAL_PATH) if isfile(join(LOCAL_PATH, fichier))]\n",
    "\n",
    "data = []\n",
    "for fichier in fichiers :\n",
    "    lib_fichier = LOCAL_PATH + \"/\" + fichier\n",
    "    with open(lib_fichier) as mon_fichier:\n",
    "        data.append(json.load(mon_fichier))\n",
    "\n",
    "treatments = [data[i][\"Treatments\"][0]['TreatmentCares'][0]['TreatmentDetected'] for i in range(len(data))]\n",
    "ngap = [data[i][\"Treatments\"][0]['TreatmentCares'][0]['NGAP'] for i in range(len(data))]\n",
    "cotation = [data[i][\"Treatments\"][0]['TreatmentCares'][0]['Cotation'] for i in range(len(data))]\n",
    "\n",
    "# création d'un dataframe\n",
    "data = pd.DataFrame({'fichier': fichiers, 'Treatments': treatments, 'NGAP':ngap, 'Cotation':cotation})\n",
    "data.head()"
   ]
  },
  {
   "cell_type": "code",
   "execution_count": 59,
   "id": "dca45f85",
   "metadata": {},
   "outputs": [
    {
     "data": {
      "text/plain": [
       "array([None], dtype=object)"
      ]
     },
     "execution_count": 59,
     "metadata": {},
     "output_type": "execute_result"
    }
   ],
   "source": [
    "data[\"Treatments\"].unique()"
   ]
  },
  {
   "cell_type": "code",
   "execution_count": 60,
   "id": "bc46ce02",
   "metadata": {
    "scrolled": false
   },
   "outputs": [
    {
     "data": {
      "text/plain": [
       "array(['SC', 'PSG', 'TAID19', 'PLE', 'PSTA', 'IM', 'PSTL', None, 'LAVE',\n",
       "       'TAIC19', 'OBSD', 'PVAG', 'ADM2', 'PC19', 'BSA', 'PV19', 'PUGC',\n",
       "       'CFAP', 'FPL', 'VC19', 'CFFB', 'NUR1', 'PINJI19', 'ADM1', 'PLB',\n",
       "       'NUR2', 'INJS', 'FAP', 'SSCP', 'OBSP', 'CSC', 'PSTD', 'ABFM',\n",
       "       'PLVA', 'CFPC', 'ABFP', 'PLM', 'PSTO', 'AERO', 'FFB', 'BSC',\n",
       "       'SICR', 'PSTS', 'SHSD', 'PSD19', 'ISCI', 'PLU', 'TAC19', 'BSI1',\n",
       "       'PINJ19', 'CFPL', 'TAG19NR', 'SSI2', 'BSI2', 'FPC', 'VDSI19',\n",
       "       'TAI3D19', 'IISC', 'DSI1', 'ALIS', 'RSU', 'BSB', 'CATV', 'BSI3',\n",
       "       'INJ19', 'CSUF', 'IVD', 'PSTE', 'ATPUGC', 'SAIG', 'CSUH', 'CIM',\n",
       "       'SSI1', 'PLVC', 'DIAL', 'PSC19', 'BPL', 'ALIC', 'ATPLU', 'RSUPO'],\n",
       "      dtype=object)"
      ]
     },
     "execution_count": 60,
     "metadata": {},
     "output_type": "execute_result"
    }
   ],
   "source": [
    "data[\"NGAP\"].unique()"
   ]
  },
  {
   "cell_type": "code",
   "execution_count": 61,
   "id": "4dad50a7",
   "metadata": {},
   "outputs": [
    {
     "data": {
      "text/plain": [
       "79"
      ]
     },
     "execution_count": 61,
     "metadata": {},
     "output_type": "execute_result"
    }
   ],
   "source": [
    "data[\"NGAP\"].nunique()"
   ]
  },
  {
   "cell_type": "code",
   "execution_count": 62,
   "id": "44917773",
   "metadata": {
    "scrolled": true
   },
   "outputs": [],
   "source": [
    "table_ngap = pd.read_csv(\"../raw_data/table_ngap.csv\", sep=\";\")\n",
    "table_ngap.columns = ['NGAP', 'AllowanceCodeList', 'Coefficient', 'Designation', 'NgapId']"
   ]
  },
  {
   "cell_type": "code",
   "execution_count": 63,
   "id": "c729ac64",
   "metadata": {},
   "outputs": [
    {
     "data": {
      "text/plain": [
       "array(['TLS', 'TLL', 'TLD', 'SICR', 'ATPD', 'SHSD', 'PSTD', 'ISCI',\n",
       "       'OBSD', 'TAG19NR', 'PLE', 'PLB', 'PUGC', 'PSTL', 'ATPLE', 'PLM',\n",
       "       'ATPUGC', 'PLP', 'PLR', 'PLF', 'BPL', 'PLO', 'PLA', 'ATPLU', 'PLU',\n",
       "       'ADPM3', 'OBSP', 'ADM2', 'ADPM2', 'ADM1', 'ADPM1', 'HN', 'SCPAPO',\n",
       "       'CFRDPO', 'RSUPO', 'SCAPO', 'IVI', 'ALL', 'INJS', 'IVD', 'VAGM',\n",
       "       'IM', 'IVE', 'GAGR', 'ID', 'SC', 'PSG', 'PLVA', 'SVAG', 'SAIG',\n",
       "       'IISC', 'PVAG', 'GAR1', 'GAR2', 'CATP', 'CATV', 'CSC', 'CIPA',\n",
       "       'CFPC', 'CFPL', 'CFAP', 'CFSC', 'CSAP', 'CIV', 'CFSP', 'CFFB',\n",
       "       'CIM', 'PSTA', 'PSTO', 'PSTS_AMI2', 'PSTS', 'ABFP', 'PSTE', 'ABFM',\n",
       "       'PSTT', 'PSTT_AMI225', 'DIAL', 'DIAS', 'DIAB', 'IRRI', 'INJC',\n",
       "       'INJA', 'INJI', 'PLVC', 'CSUF', 'PIEP', 'CSUH', 'GYNE', 'CATF',\n",
       "       'ILV', 'EDUC', 'RSU', 'REAV', 'INJV', 'CATH', 'LECT', 'TEST',\n",
       "       'PULV', 'NUR1', 'SSCP', 'DSI1', 'DSI2', 'SSI1', 'SAP', 'SSI2',\n",
       "       'NUR2', 'MUCO', 'FPC', 'FAP', 'FSC', 'FFB', 'FPL', 'FSP', 'LAVE',\n",
       "       'SBOU', 'FECA', 'FPAS', 'FPAE', 'MIP', 'FPAI', 'SIN', 'AERO',\n",
       "       'POSS', 'ALIS', 'ALIC', 'MCI', 'MIE', 'MAU', 'MMN', 'BSC', 'BSB',\n",
       "       'IFI', 'BSI3', 'BSA', 'IFIMP', 'BSI1', 'BSI2', 'TAIC19', 'TAC19',\n",
       "       'TC19', 'VAC19', 'PSC19', 'TPINJ19', 'TAID19', 'VC19', 'PRCC19',\n",
       "       'VDSI19', 'TAE19', 'PSD19', 'TPINJI19', 'PV19', 'PC19', 'INJ19',\n",
       "       'PINJ19', 'PINJI19', 'FIS'], dtype=object)"
      ]
     },
     "execution_count": 63,
     "metadata": {},
     "output_type": "execute_result"
    }
   ],
   "source": [
    "table_ngap[\"NGAP\"].unique()"
   ]
  },
  {
   "cell_type": "code",
   "execution_count": 64,
   "id": "3953e121",
   "metadata": {},
   "outputs": [
    {
     "data": {
      "text/plain": [
       "156"
      ]
     },
     "execution_count": 64,
     "metadata": {},
     "output_type": "execute_result"
    }
   ],
   "source": [
    "table_ngap[\"NGAP\"].nunique()"
   ]
  },
  {
   "cell_type": "code",
   "execution_count": 80,
   "id": "94ec4721",
   "metadata": {},
   "outputs": [],
   "source": [
    "df = pd.DataFrame(data.groupby(\"NGAP\").count()[\"fichier\"]).sort_values(by=\"fichier\", ascending=False).reset_index()\n",
    "df = df.merge(table_ngap)\n",
    "df[\"percentage\"] = df[\"fichier\"]/len(data)"
   ]
  },
  {
   "cell_type": "code",
   "execution_count": 81,
   "id": "bd49661f",
   "metadata": {},
   "outputs": [
    {
     "data": {
      "text/html": [
       "<div>\n",
       "<style scoped>\n",
       "    .dataframe tbody tr th:only-of-type {\n",
       "        vertical-align: middle;\n",
       "    }\n",
       "\n",
       "    .dataframe tbody tr th {\n",
       "        vertical-align: top;\n",
       "    }\n",
       "\n",
       "    .dataframe thead th {\n",
       "        text-align: right;\n",
       "    }\n",
       "</style>\n",
       "<table border=\"1\" class=\"dataframe\">\n",
       "  <thead>\n",
       "    <tr style=\"text-align: right;\">\n",
       "      <th></th>\n",
       "      <th>NGAP</th>\n",
       "      <th>fichier</th>\n",
       "      <th>AllowanceCodeList</th>\n",
       "      <th>Coefficient</th>\n",
       "      <th>Designation</th>\n",
       "      <th>NgapId</th>\n",
       "      <th>percentage</th>\n",
       "    </tr>\n",
       "  </thead>\n",
       "  <tbody>\n",
       "    <tr>\n",
       "      <th>0</th>\n",
       "      <td>PSG</td>\n",
       "      <td>1499</td>\n",
       "      <td>AMI</td>\n",
       "      <td>1,5</td>\n",
       "      <td>Prise de sang (prélèvement par ponction veineu...</td>\n",
       "      <td>7120e91c-1f7e-48d3-894a-34cd403dffb4</td>\n",
       "      <td>0.367582</td>\n",
       "    </tr>\n",
       "    <tr>\n",
       "      <th>1</th>\n",
       "      <td>PV19</td>\n",
       "      <td>514</td>\n",
       "      <td>AMI</td>\n",
       "      <td>4,2</td>\n",
       "      <td>Prélèvement nasopharyngé ou prélèvement sangui...</td>\n",
       "      <td>ae340e3d-39b3-4037-9249-35f199c47ef8</td>\n",
       "      <td>0.126042</td>\n",
       "    </tr>\n",
       "    <tr>\n",
       "      <th>2</th>\n",
       "      <td>TAID19</td>\n",
       "      <td>289</td>\n",
       "      <td>AMI</td>\n",
       "      <td>9,5</td>\n",
       "      <td>Test antigénique individuel à domicile</td>\n",
       "      <td>747aede8-431b-41d7-a239-be4e4d1856d2</td>\n",
       "      <td>0.070868</td>\n",
       "    </tr>\n",
       "    <tr>\n",
       "      <th>3</th>\n",
       "      <td>PSTA</td>\n",
       "      <td>230</td>\n",
       "      <td>AMI</td>\n",
       "      <td>2</td>\n",
       "      <td>Autre pansement</td>\n",
       "      <td>bdff8960-b5e2-427b-be41-d004ffef3a8c</td>\n",
       "      <td>0.056400</td>\n",
       "    </tr>\n",
       "    <tr>\n",
       "      <th>4</th>\n",
       "      <td>PC19</td>\n",
       "      <td>222</td>\n",
       "      <td>AMI</td>\n",
       "      <td>3,1</td>\n",
       "      <td>Prélèvement nasopharyngé au cabinet ou réalisé...</td>\n",
       "      <td>c276df18-3a71-45b8-aa1f-3f3cbb562312</td>\n",
       "      <td>0.054438</td>\n",
       "    </tr>\n",
       "    <tr>\n",
       "      <th>...</th>\n",
       "      <td>...</td>\n",
       "      <td>...</td>\n",
       "      <td>...</td>\n",
       "      <td>...</td>\n",
       "      <td>...</td>\n",
       "      <td>...</td>\n",
       "      <td>...</td>\n",
       "    </tr>\n",
       "    <tr>\n",
       "      <th>73</th>\n",
       "      <td>CSUH</td>\n",
       "      <td>1</td>\n",
       "      <td>AMI</td>\n",
       "      <td>4</td>\n",
       "      <td>Changement de sonde urinaire chez l'homme à de...</td>\n",
       "      <td>901b9ad1-6e19-46df-bb43-5dfcc145097d</td>\n",
       "      <td>0.000245</td>\n",
       "    </tr>\n",
       "    <tr>\n",
       "      <th>74</th>\n",
       "      <td>INJ19</td>\n",
       "      <td>1</td>\n",
       "      <td>INJ</td>\n",
       "      <td>1</td>\n",
       "      <td>Injection du vaccin COVID-19</td>\n",
       "      <td>015b2979-00fc-4140-b8d5-27dd98fe12ec</td>\n",
       "      <td>0.000245</td>\n",
       "    </tr>\n",
       "    <tr>\n",
       "      <th>75</th>\n",
       "      <td>PSC19</td>\n",
       "      <td>1</td>\n",
       "      <td>AMI</td>\n",
       "      <td>1,9</td>\n",
       "      <td>Prélèvement salivaire au cabinet ou réalisé à ...</td>\n",
       "      <td>8a08fe1a-031d-442b-beef-aaef6df1e54d</td>\n",
       "      <td>0.000245</td>\n",
       "    </tr>\n",
       "    <tr>\n",
       "      <th>76</th>\n",
       "      <td>PLVC</td>\n",
       "      <td>1</td>\n",
       "      <td>AMI</td>\n",
       "      <td>1</td>\n",
       "      <td>Prélèvement sanguin sur cathéter veineux centr...</td>\n",
       "      <td>12e1a730-e368-4d28-b96d-e3e335dd5605</td>\n",
       "      <td>0.000245</td>\n",
       "    </tr>\n",
       "    <tr>\n",
       "      <th>77</th>\n",
       "      <td>BSI3</td>\n",
       "      <td>1</td>\n",
       "      <td>DI</td>\n",
       "      <td>1,2</td>\n",
       "      <td>Bilan intermédiaire en cas d’évolution cliniqu...</td>\n",
       "      <td>d554e078-fca1-46bb-ba97-9cb2bda97c04</td>\n",
       "      <td>0.000245</td>\n",
       "    </tr>\n",
       "  </tbody>\n",
       "</table>\n",
       "<p>78 rows × 7 columns</p>\n",
       "</div>"
      ],
      "text/plain": [
       "      NGAP  fichier AllowanceCodeList Coefficient  \\\n",
       "0      PSG     1499               AMI         1,5   \n",
       "1     PV19      514               AMI         4,2   \n",
       "2   TAID19      289               AMI         9,5   \n",
       "3     PSTA      230               AMI           2   \n",
       "4     PC19      222               AMI         3,1   \n",
       "..     ...      ...               ...         ...   \n",
       "73    CSUH        1               AMI           4   \n",
       "74   INJ19        1               INJ           1   \n",
       "75   PSC19        1               AMI         1,9   \n",
       "76    PLVC        1               AMI           1   \n",
       "77    BSI3        1                DI         1,2   \n",
       "\n",
       "                                          Designation  \\\n",
       "0   Prise de sang (prélèvement par ponction veineu...   \n",
       "1   Prélèvement nasopharyngé ou prélèvement sangui...   \n",
       "2              Test antigénique individuel à domicile   \n",
       "3                                     Autre pansement   \n",
       "4   Prélèvement nasopharyngé au cabinet ou réalisé...   \n",
       "..                                                ...   \n",
       "73  Changement de sonde urinaire chez l'homme à de...   \n",
       "74                       Injection du vaccin COVID-19   \n",
       "75  Prélèvement salivaire au cabinet ou réalisé à ...   \n",
       "76  Prélèvement sanguin sur cathéter veineux centr...   \n",
       "77  Bilan intermédiaire en cas d’évolution cliniqu...   \n",
       "\n",
       "                                  NgapId  percentage  \n",
       "0   7120e91c-1f7e-48d3-894a-34cd403dffb4    0.367582  \n",
       "1   ae340e3d-39b3-4037-9249-35f199c47ef8    0.126042  \n",
       "2   747aede8-431b-41d7-a239-be4e4d1856d2    0.070868  \n",
       "3   bdff8960-b5e2-427b-be41-d004ffef3a8c    0.056400  \n",
       "4   c276df18-3a71-45b8-aa1f-3f3cbb562312    0.054438  \n",
       "..                                   ...         ...  \n",
       "73  901b9ad1-6e19-46df-bb43-5dfcc145097d    0.000245  \n",
       "74  015b2979-00fc-4140-b8d5-27dd98fe12ec    0.000245  \n",
       "75  8a08fe1a-031d-442b-beef-aaef6df1e54d    0.000245  \n",
       "76  12e1a730-e368-4d28-b96d-e3e335dd5605    0.000245  \n",
       "77  d554e078-fca1-46bb-ba97-9cb2bda97c04    0.000245  \n",
       "\n",
       "[78 rows x 7 columns]"
      ]
     },
     "execution_count": 81,
     "metadata": {},
     "output_type": "execute_result"
    }
   ],
   "source": [
    "df"
   ]
  },
  {
   "cell_type": "code",
   "execution_count": 107,
   "id": "ce96d715",
   "metadata": {},
   "outputs": [
    {
     "data": {
      "text/plain": [
       "18"
      ]
     },
     "execution_count": 107,
     "metadata": {},
     "output_type": "execute_result"
    }
   ],
   "source": [
    "len(df[df['fichier']>20])"
   ]
  },
  {
   "cell_type": "code",
   "execution_count": 83,
   "id": "801ac1d2",
   "metadata": {},
   "outputs": [
    {
     "data": {
      "text/plain": [
       "<AxesSubplot:xlabel='NGAP', ylabel='percentage'>"
      ]
     },
     "execution_count": 83,
     "metadata": {},
     "output_type": "execute_result"
    },
    {
     "data": {
      "image/png": "[encoded data removed]",
      "text/plain": [
       "<Figure size 1224x360 with 1 Axes>"
      ]
     },
     "metadata": {
      "needs_background": "light"
     },
     "output_type": "display_data"
    }
   ],
   "source": [
    "fig = plt.figure(figsize=(17,5))\n",
    "sns.barplot(x=\"NGAP\", y=\"percentage\", data=df.head(30))"
   ]
  },
  {
   "cell_type": "code",
   "execution_count": 98,
   "id": "5f9d7241",
   "metadata": {
    "scrolled": true
   },
   "outputs": [
    {
     "data": {
      "text/html": [
       "<div>\n",
       "<style scoped>\n",
       "    .dataframe tbody tr th:only-of-type {\n",
       "        vertical-align: middle;\n",
       "    }\n",
       "\n",
       "    .dataframe tbody tr th {\n",
       "        vertical-align: top;\n",
       "    }\n",
       "\n",
       "    .dataframe thead th {\n",
       "        text-align: right;\n",
       "    }\n",
       "</style>\n",
       "<table border=\"1\" class=\"dataframe\">\n",
       "  <thead>\n",
       "    <tr style=\"text-align: right;\">\n",
       "      <th></th>\n",
       "      <th>NGAP</th>\n",
       "      <th>fichier</th>\n",
       "      <th>AllowanceCodeList</th>\n",
       "      <th>Coefficient</th>\n",
       "      <th>Designation</th>\n",
       "      <th>NgapId</th>\n",
       "      <th>percentage</th>\n",
       "      <th>cum</th>\n",
       "    </tr>\n",
       "  </thead>\n",
       "  <tbody>\n",
       "    <tr>\n",
       "      <th>0</th>\n",
       "      <td>PSG</td>\n",
       "      <td>1499</td>\n",
       "      <td>AMI</td>\n",
       "      <td>1,5</td>\n",
       "      <td>Prise de sang (prélèvement par ponction veineu...</td>\n",
       "      <td>7120e91c-1f7e-48d3-894a-34cd403dffb4</td>\n",
       "      <td>0.367582</td>\n",
       "      <td>0.367582</td>\n",
       "    </tr>\n",
       "    <tr>\n",
       "      <th>1</th>\n",
       "      <td>PV19</td>\n",
       "      <td>514</td>\n",
       "      <td>AMI</td>\n",
       "      <td>4,2</td>\n",
       "      <td>Prélèvement nasopharyngé ou prélèvement sangui...</td>\n",
       "      <td>ae340e3d-39b3-4037-9249-35f199c47ef8</td>\n",
       "      <td>0.126042</td>\n",
       "      <td>0.493624</td>\n",
       "    </tr>\n",
       "    <tr>\n",
       "      <th>2</th>\n",
       "      <td>TAID19</td>\n",
       "      <td>289</td>\n",
       "      <td>AMI</td>\n",
       "      <td>9,5</td>\n",
       "      <td>Test antigénique individuel à domicile</td>\n",
       "      <td>747aede8-431b-41d7-a239-be4e4d1856d2</td>\n",
       "      <td>0.070868</td>\n",
       "      <td>0.564492</td>\n",
       "    </tr>\n",
       "    <tr>\n",
       "      <th>3</th>\n",
       "      <td>PSTA</td>\n",
       "      <td>230</td>\n",
       "      <td>AMI</td>\n",
       "      <td>2</td>\n",
       "      <td>Autre pansement</td>\n",
       "      <td>bdff8960-b5e2-427b-be41-d004ffef3a8c</td>\n",
       "      <td>0.056400</td>\n",
       "      <td>0.620893</td>\n",
       "    </tr>\n",
       "    <tr>\n",
       "      <th>4</th>\n",
       "      <td>PC19</td>\n",
       "      <td>222</td>\n",
       "      <td>AMI</td>\n",
       "      <td>3,1</td>\n",
       "      <td>Prélèvement nasopharyngé au cabinet ou réalisé...</td>\n",
       "      <td>c276df18-3a71-45b8-aa1f-3f3cbb562312</td>\n",
       "      <td>0.054438</td>\n",
       "      <td>0.675331</td>\n",
       "    </tr>\n",
       "    <tr>\n",
       "      <th>...</th>\n",
       "      <td>...</td>\n",
       "      <td>...</td>\n",
       "      <td>...</td>\n",
       "      <td>...</td>\n",
       "      <td>...</td>\n",
       "      <td>...</td>\n",
       "      <td>...</td>\n",
       "      <td>...</td>\n",
       "    </tr>\n",
       "    <tr>\n",
       "      <th>73</th>\n",
       "      <td>CSUH</td>\n",
       "      <td>1</td>\n",
       "      <td>AMI</td>\n",
       "      <td>4</td>\n",
       "      <td>Changement de sonde urinaire chez l'homme à de...</td>\n",
       "      <td>901b9ad1-6e19-46df-bb43-5dfcc145097d</td>\n",
       "      <td>0.000245</td>\n",
       "      <td>0.983325</td>\n",
       "    </tr>\n",
       "    <tr>\n",
       "      <th>74</th>\n",
       "      <td>INJ19</td>\n",
       "      <td>1</td>\n",
       "      <td>INJ</td>\n",
       "      <td>1</td>\n",
       "      <td>Injection du vaccin COVID-19</td>\n",
       "      <td>015b2979-00fc-4140-b8d5-27dd98fe12ec</td>\n",
       "      <td>0.000245</td>\n",
       "      <td>0.983570</td>\n",
       "    </tr>\n",
       "    <tr>\n",
       "      <th>75</th>\n",
       "      <td>PSC19</td>\n",
       "      <td>1</td>\n",
       "      <td>AMI</td>\n",
       "      <td>1,9</td>\n",
       "      <td>Prélèvement salivaire au cabinet ou réalisé à ...</td>\n",
       "      <td>8a08fe1a-031d-442b-beef-aaef6df1e54d</td>\n",
       "      <td>0.000245</td>\n",
       "      <td>0.983816</td>\n",
       "    </tr>\n",
       "    <tr>\n",
       "      <th>76</th>\n",
       "      <td>PLVC</td>\n",
       "      <td>1</td>\n",
       "      <td>AMI</td>\n",
       "      <td>1</td>\n",
       "      <td>Prélèvement sanguin sur cathéter veineux centr...</td>\n",
       "      <td>12e1a730-e368-4d28-b96d-e3e335dd5605</td>\n",
       "      <td>0.000245</td>\n",
       "      <td>0.984061</td>\n",
       "    </tr>\n",
       "    <tr>\n",
       "      <th>77</th>\n",
       "      <td>BSI3</td>\n",
       "      <td>1</td>\n",
       "      <td>DI</td>\n",
       "      <td>1,2</td>\n",
       "      <td>Bilan intermédiaire en cas d’évolution cliniqu...</td>\n",
       "      <td>d554e078-fca1-46bb-ba97-9cb2bda97c04</td>\n",
       "      <td>0.000245</td>\n",
       "      <td>0.984306</td>\n",
       "    </tr>\n",
       "  </tbody>\n",
       "</table>\n",
       "<p>78 rows × 8 columns</p>\n",
       "</div>"
      ],
      "text/plain": [
       "      NGAP  fichier AllowanceCodeList Coefficient  \\\n",
       "0      PSG     1499               AMI         1,5   \n",
       "1     PV19      514               AMI         4,2   \n",
       "2   TAID19      289               AMI         9,5   \n",
       "3     PSTA      230               AMI           2   \n",
       "4     PC19      222               AMI         3,1   \n",
       "..     ...      ...               ...         ...   \n",
       "73    CSUH        1               AMI           4   \n",
       "74   INJ19        1               INJ           1   \n",
       "75   PSC19        1               AMI         1,9   \n",
       "76    PLVC        1               AMI           1   \n",
       "77    BSI3        1                DI         1,2   \n",
       "\n",
       "                                          Designation  \\\n",
       "0   Prise de sang (prélèvement par ponction veineu...   \n",
       "1   Prélèvement nasopharyngé ou prélèvement sangui...   \n",
       "2              Test antigénique individuel à domicile   \n",
       "3                                     Autre pansement   \n",
       "4   Prélèvement nasopharyngé au cabinet ou réalisé...   \n",
       "..                                                ...   \n",
       "73  Changement de sonde urinaire chez l'homme à de...   \n",
       "74                       Injection du vaccin COVID-19   \n",
       "75  Prélèvement salivaire au cabinet ou réalisé à ...   \n",
       "76  Prélèvement sanguin sur cathéter veineux centr...   \n",
       "77  Bilan intermédiaire en cas d’évolution cliniqu...   \n",
       "\n",
       "                                  NgapId  percentage       cum  \n",
       "0   7120e91c-1f7e-48d3-894a-34cd403dffb4    0.367582  0.367582  \n",
       "1   ae340e3d-39b3-4037-9249-35f199c47ef8    0.126042  0.493624  \n",
       "2   747aede8-431b-41d7-a239-be4e4d1856d2    0.070868  0.564492  \n",
       "3   bdff8960-b5e2-427b-be41-d004ffef3a8c    0.056400  0.620893  \n",
       "4   c276df18-3a71-45b8-aa1f-3f3cbb562312    0.054438  0.675331  \n",
       "..                                   ...         ...       ...  \n",
       "73  901b9ad1-6e19-46df-bb43-5dfcc145097d    0.000245  0.983325  \n",
       "74  015b2979-00fc-4140-b8d5-27dd98fe12ec    0.000245  0.983570  \n",
       "75  8a08fe1a-031d-442b-beef-aaef6df1e54d    0.000245  0.983816  \n",
       "76  12e1a730-e368-4d28-b96d-e3e335dd5605    0.000245  0.984061  \n",
       "77  d554e078-fca1-46bb-ba97-9cb2bda97c04    0.000245  0.984306  \n",
       "\n",
       "[78 rows x 8 columns]"
      ]
     },
     "execution_count": 98,
     "metadata": {},
     "output_type": "execute_result"
    }
   ],
   "source": [
    "test = df.copy()\n",
    "test.sort_values(\"percentage\", ascending=False, inplace=True)\n",
    "test['cum'] = test[\"percentage\"].cumsum()\n",
    "test"
   ]
  },
  {
   "cell_type": "code",
   "execution_count": 101,
   "id": "60e6fbf6",
   "metadata": {},
   "outputs": [
    {
     "data": {
      "text/html": [
       "<div>\n",
       "<style scoped>\n",
       "    .dataframe tbody tr th:only-of-type {\n",
       "        vertical-align: middle;\n",
       "    }\n",
       "\n",
       "    .dataframe tbody tr th {\n",
       "        vertical-align: top;\n",
       "    }\n",
       "\n",
       "    .dataframe thead th {\n",
       "        text-align: right;\n",
       "    }\n",
       "</style>\n",
       "<table border=\"1\" class=\"dataframe\">\n",
       "  <thead>\n",
       "    <tr style=\"text-align: right;\">\n",
       "      <th></th>\n",
       "      <th>NGAP</th>\n",
       "      <th>fichier</th>\n",
       "      <th>AllowanceCodeList</th>\n",
       "      <th>Coefficient</th>\n",
       "      <th>Designation</th>\n",
       "      <th>NgapId</th>\n",
       "      <th>percentage</th>\n",
       "      <th>cum</th>\n",
       "    </tr>\n",
       "  </thead>\n",
       "  <tbody>\n",
       "    <tr>\n",
       "      <th>0</th>\n",
       "      <td>PSG</td>\n",
       "      <td>1499</td>\n",
       "      <td>AMI</td>\n",
       "      <td>1,5</td>\n",
       "      <td>Prise de sang (prélèvement par ponction veineu...</td>\n",
       "      <td>7120e91c-1f7e-48d3-894a-34cd403dffb4</td>\n",
       "      <td>0.367582</td>\n",
       "      <td>0.367582</td>\n",
       "    </tr>\n",
       "    <tr>\n",
       "      <th>1</th>\n",
       "      <td>PV19</td>\n",
       "      <td>514</td>\n",
       "      <td>AMI</td>\n",
       "      <td>4,2</td>\n",
       "      <td>Prélèvement nasopharyngé ou prélèvement sangui...</td>\n",
       "      <td>ae340e3d-39b3-4037-9249-35f199c47ef8</td>\n",
       "      <td>0.126042</td>\n",
       "      <td>0.493624</td>\n",
       "    </tr>\n",
       "    <tr>\n",
       "      <th>2</th>\n",
       "      <td>TAID19</td>\n",
       "      <td>289</td>\n",
       "      <td>AMI</td>\n",
       "      <td>9,5</td>\n",
       "      <td>Test antigénique individuel à domicile</td>\n",
       "      <td>747aede8-431b-41d7-a239-be4e4d1856d2</td>\n",
       "      <td>0.070868</td>\n",
       "      <td>0.564492</td>\n",
       "    </tr>\n",
       "    <tr>\n",
       "      <th>3</th>\n",
       "      <td>PSTA</td>\n",
       "      <td>230</td>\n",
       "      <td>AMI</td>\n",
       "      <td>2</td>\n",
       "      <td>Autre pansement</td>\n",
       "      <td>bdff8960-b5e2-427b-be41-d004ffef3a8c</td>\n",
       "      <td>0.056400</td>\n",
       "      <td>0.620893</td>\n",
       "    </tr>\n",
       "    <tr>\n",
       "      <th>4</th>\n",
       "      <td>PC19</td>\n",
       "      <td>222</td>\n",
       "      <td>AMI</td>\n",
       "      <td>3,1</td>\n",
       "      <td>Prélèvement nasopharyngé au cabinet ou réalisé...</td>\n",
       "      <td>c276df18-3a71-45b8-aa1f-3f3cbb562312</td>\n",
       "      <td>0.054438</td>\n",
       "      <td>0.675331</td>\n",
       "    </tr>\n",
       "    <tr>\n",
       "      <th>5</th>\n",
       "      <td>TAIC19</td>\n",
       "      <td>169</td>\n",
       "      <td>AMI</td>\n",
       "      <td>8,3</td>\n",
       "      <td>Test antigénique individuel au cabinet</td>\n",
       "      <td>415f5133-7ff7-47a2-8863-e51dc4a43199</td>\n",
       "      <td>0.041442</td>\n",
       "      <td>0.716773</td>\n",
       "    </tr>\n",
       "    <tr>\n",
       "      <th>6</th>\n",
       "      <td>SC</td>\n",
       "      <td>157</td>\n",
       "      <td>AMI</td>\n",
       "      <td>1</td>\n",
       "      <td>Injection sous cutanée</td>\n",
       "      <td>720afa9b-5e9c-41bf-a219-0788991f5e43</td>\n",
       "      <td>0.038499</td>\n",
       "      <td>0.755272</td>\n",
       "    </tr>\n",
       "    <tr>\n",
       "      <th>7</th>\n",
       "      <td>PVAG</td>\n",
       "      <td>98</td>\n",
       "      <td>AMI</td>\n",
       "      <td>1</td>\n",
       "      <td>Prescription et injection d'un vaccin antigrip...</td>\n",
       "      <td>c58b3d84-cf2c-4d18-aa67-f78ef46f63c5</td>\n",
       "      <td>0.024031</td>\n",
       "      <td>0.779304</td>\n",
       "    </tr>\n",
       "    <tr>\n",
       "      <th>8</th>\n",
       "      <td>IM</td>\n",
       "      <td>87</td>\n",
       "      <td>AMI</td>\n",
       "      <td>1</td>\n",
       "      <td>Injection intramusculaire</td>\n",
       "      <td>25d58b68-55d1-4d46-be01-cc5176ee6ab7</td>\n",
       "      <td>0.021334</td>\n",
       "      <td>0.800638</td>\n",
       "    </tr>\n",
       "    <tr>\n",
       "      <th>9</th>\n",
       "      <td>ABFM</td>\n",
       "      <td>67</td>\n",
       "      <td>AMI</td>\n",
       "      <td>2</td>\n",
       "      <td>Ablation de fils ou d'agrafes, dix ou moins, y...</td>\n",
       "      <td>b57c7588-807d-453c-90f6-5b9a61b1046a</td>\n",
       "      <td>0.016430</td>\n",
       "      <td>0.817067</td>\n",
       "    </tr>\n",
       "  </tbody>\n",
       "</table>\n",
       "</div>"
      ],
      "text/plain": [
       "     NGAP  fichier AllowanceCodeList Coefficient  \\\n",
       "0     PSG     1499               AMI         1,5   \n",
       "1    PV19      514               AMI         4,2   \n",
       "2  TAID19      289               AMI         9,5   \n",
       "3    PSTA      230               AMI           2   \n",
       "4    PC19      222               AMI         3,1   \n",
       "5  TAIC19      169               AMI         8,3   \n",
       "6      SC      157               AMI           1   \n",
       "7    PVAG       98               AMI           1   \n",
       "8      IM       87               AMI           1   \n",
       "9    ABFM       67               AMI           2   \n",
       "\n",
       "                                         Designation  \\\n",
       "0  Prise de sang (prélèvement par ponction veineu...   \n",
       "1  Prélèvement nasopharyngé ou prélèvement sangui...   \n",
       "2             Test antigénique individuel à domicile   \n",
       "3                                    Autre pansement   \n",
       "4  Prélèvement nasopharyngé au cabinet ou réalisé...   \n",
       "5             Test antigénique individuel au cabinet   \n",
       "6                             Injection sous cutanée   \n",
       "7  Prescription et injection d'un vaccin antigrip...   \n",
       "8                          Injection intramusculaire   \n",
       "9  Ablation de fils ou d'agrafes, dix ou moins, y...   \n",
       "\n",
       "                                 NgapId  percentage       cum  \n",
       "0  7120e91c-1f7e-48d3-894a-34cd403dffb4    0.367582  0.367582  \n",
       "1  ae340e3d-39b3-4037-9249-35f199c47ef8    0.126042  0.493624  \n",
       "2  747aede8-431b-41d7-a239-be4e4d1856d2    0.070868  0.564492  \n",
       "3  bdff8960-b5e2-427b-be41-d004ffef3a8c    0.056400  0.620893  \n",
       "4  c276df18-3a71-45b8-aa1f-3f3cbb562312    0.054438  0.675331  \n",
       "5  415f5133-7ff7-47a2-8863-e51dc4a43199    0.041442  0.716773  \n",
       "6  720afa9b-5e9c-41bf-a219-0788991f5e43    0.038499  0.755272  \n",
       "7  c58b3d84-cf2c-4d18-aa67-f78ef46f63c5    0.024031  0.779304  \n",
       "8  25d58b68-55d1-4d46-be01-cc5176ee6ab7    0.021334  0.800638  \n",
       "9  b57c7588-807d-453c-90f6-5b9a61b1046a    0.016430  0.817067  "
      ]
     },
     "execution_count": 101,
     "metadata": {},
     "output_type": "execute_result"
    }
   ],
   "source": [
    "test[test[\"cum\"]<=0.82]"
   ]
  },
  {
   "cell_type": "code",
   "execution_count": 104,
   "id": "4797c755",
   "metadata": {},
   "outputs": [
    {
     "data": {
      "text/plain": [
       "31"
      ]
     },
     "execution_count": 104,
     "metadata": {},
     "output_type": "execute_result"
    }
   ],
   "source": [
    "len(test[test[\"percentage\"]<0.001])"
   ]
  },
  {
   "cell_type": "code",
   "execution_count": 99,
   "id": "e562ea70",
   "metadata": {},
   "outputs": [
    {
     "data": {
      "text/plain": [
       "<AxesSubplot:xlabel='NGAP', ylabel='cum'>"
      ]
     },
     "execution_count": 99,
     "metadata": {},
     "output_type": "execute_result"
    },
    {
     "data": {
      "image/png": "[encoded data removed]",
      "text/plain": [
       "<Figure size 1224x504 with 1 Axes>"
      ]
     },
     "metadata": {
      "needs_background": "light"
     },
     "output_type": "display_data"
    }
   ],
   "source": [
    "fig = plt.figure(figsize=(17,7))\n",
    "sns.barplot(x=\"NGAP\", y=\"cum\", data=test)"
   ]
  },
  {
   "cell_type": "code",
   "execution_count": 43,
   "id": "881b2c39",
   "metadata": {},
   "outputs": [
    {
     "data": {
      "text/plain": [
       "'Prélèvement nasopharyngé ou prélèvement sanguin à domicile pour un patient covid-19 réalisé seul'"
      ]
     },
     "execution_count": 43,
     "metadata": {},
     "output_type": "execute_result"
    }
   ],
   "source": [
    "top_thirty.iloc[1,4]"
   ]
  },
  {
   "cell_type": "code",
   "execution_count": 44,
   "id": "d7ba5a44",
   "metadata": {},
   "outputs": [
    {
     "data": {
      "text/plain": [
       "'Test antigénique individuel à domicile'"
      ]
     },
     "execution_count": 44,
     "metadata": {},
     "output_type": "execute_result"
    }
   ],
   "source": [
    "top_thirty.iloc[2,4]"
   ]
  },
  {
   "cell_type": "code",
   "execution_count": 45,
   "id": "7cfb359e",
   "metadata": {},
   "outputs": [
    {
     "data": {
      "text/plain": [
       "'Prélèvement nasopharyngé au cabinet ou réalisé à domicile avec un autre acte hors sérologie pour un patient suspecté d’infection covid-19'"
      ]
     },
     "execution_count": 45,
     "metadata": {},
     "output_type": "execute_result"
    }
   ],
   "source": [
    "top_thirty.iloc[4,4]"
   ]
  },
  {
   "cell_type": "code",
   "execution_count": 46,
   "id": "41563a09",
   "metadata": {},
   "outputs": [
    {
     "data": {
      "text/plain": [
       "'Test antigénique individuel au cabinet'"
      ]
     },
     "execution_count": 46,
     "metadata": {},
     "output_type": "execute_result"
    }
   ],
   "source": [
    "top_thirty.iloc[5,4]"
   ]
  },
  {
   "cell_type": "code",
   "execution_count": 47,
   "id": "9b506d93",
   "metadata": {},
   "outputs": [
    {
     "data": {
      "text/plain": [
       "'Prescription et Injection du vaccin contre le COVID-19'"
      ]
     },
     "execution_count": 47,
     "metadata": {},
     "output_type": "execute_result"
    }
   ],
   "source": [
    "top_thirty.iloc[16,4]"
   ]
  },
  {
   "cell_type": "code",
   "execution_count": 48,
   "id": "25dd68d4",
   "metadata": {},
   "outputs": [
    {
     "data": {
      "text/plain": [
       "'Prescription et Injection du vaccin contre le COVID-19 à domicile hors soins infirmiers'"
      ]
     },
     "execution_count": 48,
     "metadata": {},
     "output_type": "execute_result"
    }
   ],
   "source": [
    "top_thirty.iloc[21,4]"
   ]
  },
  {
   "cell_type": "code",
   "execution_count": 49,
   "id": "3cfbdcec",
   "metadata": {},
   "outputs": [
    {
     "data": {
      "text/plain": [
       "0.3028445316331535"
      ]
     },
     "execution_count": 49,
     "metadata": {},
     "output_type": "execute_result"
    }
   ],
   "source": [
    "liste = [1,2,4,5,16,21]\n",
    "total = 0\n",
    "for elm in liste:\n",
    "    total += top_thirty.iloc[elm,6]\n",
    "total\n"
   ]
  },
  {
   "cell_type": "markdown",
   "id": "8a040cb8",
   "metadata": {},
   "source": [
    "# ML"
   ]
  },
  {
   "cell_type": "code",
   "execution_count": 1,
   "id": "11507c6b",
   "metadata": {},
   "outputs": [],
   "source": []
  },
  {
   "cell_type": "code",
   "execution_count": null,
   "id": "fc760bd2",
   "metadata": {},
   "outputs": [],
   "source": []
  }
 ],
 "metadata": {
  "interpreter": {
   "hash": "2d4d78e3df638170bbded06be6784210fe9a974188502733d55ef265a17f52ab"
  },
  "kernelspec": {
   "display_name": "Python 3 (ipykernel)",
   "language": "python",
   "name": "python3"
  },
  "language_info": {
   "codemirror_mode": {
    "name": "ipython",
    "version": 3
   },
   "file_extension": ".py",
   "mimetype": "text/x-python",
   "name": "python",
   "nbconvert_exporter": "python",
   "pygments_lexer": "ipython3",
   "version": "3.8.12"
  },
  "toc": {
   "base_numbering": 1,
   "nav_menu": {},
   "number_sections": true,
   "sideBar": true,
   "skip_h1_title": false,
   "title_cell": "Table of Contents",
   "title_sidebar": "Contents",
   "toc_cell": false,
   "toc_position": {},
   "toc_section_display": true,
   "toc_window_display": false
  }
 },
 "nbformat": 4,
 "nbformat_minor": 5
}
