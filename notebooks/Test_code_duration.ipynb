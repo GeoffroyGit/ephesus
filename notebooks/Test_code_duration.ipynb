{
 "cells": [
  {
   "cell_type": "code",
   "execution_count": 1,
   "id": "4b431df2",
   "metadata": {},
   "outputs": [],
   "source": [
    "%load_ext autoreload\n",
    "%autoreload 2"
   ]
  },
  {
   "cell_type": "code",
   "execution_count": 2,
   "id": "2276298c",
   "metadata": {
    "scrolled": true
   },
   "outputs": [
    {
     "name": "stderr",
     "output_type": "stream",
     "text": [
      "2022-06-09 08:50:24.223703: W tensorflow/stream_executor/platform/default/dso_loader.cc:64] Could not load dynamic library 'libcudart.so.11.0'; dlerror: libcudart.so.11.0: cannot open shared object file: No such file or directory\n",
      "2022-06-09 08:50:24.223804: I tensorflow/stream_executor/cuda/cudart_stub.cc:29] Ignore above cudart dlerror if you do not have a GPU set up on your machine.\n"
     ]
    }
   ],
   "source": [
    "from ephesus.data import get_data_csv, get_data_json\n",
    "from ephesus.sentence import return_label, load_model\n",
    "from ephesus.duration import Duration\n",
    "from ephesus.timedate import Date \n",
    "import numpy as np\n",
    "import pandas as pd\n",
    "from ephesus.duration import Duration\n",
    "import re"
   ]
  },
  {
   "cell_type": "code",
   "execution_count": 3,
   "id": "1f601c29",
   "metadata": {},
   "outputs": [],
   "source": [
    "df = pd.DataFrame(get_data_csv()[\"translation\"])"
   ]
  },
  {
   "cell_type": "code",
   "execution_count": 4,
   "id": "ab556b68",
   "metadata": {},
   "outputs": [],
   "source": [
    "model = load_model(\"../models/model_full/model-best\")"
   ]
  },
  {
   "cell_type": "code",
   "execution_count": 5,
   "id": "1c114e1c",
   "metadata": {},
   "outputs": [
    {
     "data": {
      "text/html": [
       "<div>\n",
       "<style scoped>\n",
       "    .dataframe tbody tr th:only-of-type {\n",
       "        vertical-align: middle;\n",
       "    }\n",
       "\n",
       "    .dataframe tbody tr th {\n",
       "        vertical-align: top;\n",
       "    }\n",
       "\n",
       "    .dataframe thead th {\n",
       "        text-align: right;\n",
       "    }\n",
       "</style>\n",
       "<table border=\"1\" class=\"dataframe\">\n",
       "  <thead>\n",
       "    <tr style=\"text-align: right;\">\n",
       "      <th></th>\n",
       "      <th>translation</th>\n",
       "    </tr>\n",
       "    <tr>\n",
       "      <th>fichier</th>\n",
       "      <th></th>\n",
       "    </tr>\n",
       "  </thead>\n",
       "  <tbody>\n",
       "    <tr>\n",
       "      <th>9f980dcf-b431-4e67-876f-2b8e288b7900_3b5f3f01-e244-4398-8388-19fb5058c9c1</th>\n",
       "      <td>Prise de sang faite le 19 février à domicile p...</td>\n",
       "    </tr>\n",
       "    <tr>\n",
       "      <th>2d035c4b-cdfa-4982-87dc-916fe07a0824_710f4bda-ba21-434f-883e-1b72df7ea27a</th>\n",
       "      <td>Pansement également refait le 23 mars par mylène.</td>\n",
       "    </tr>\n",
       "    <tr>\n",
       "      <th>b96ad235-2f4f-4236-9aa3-9df85dfcf7cb_ff1697c1-a01f-4eb5-a1c2-b95205dc389a</th>\n",
       "      <td>Pcr plus prise de sang fait à domicile à 11.</td>\n",
       "    </tr>\n",
       "    <tr>\n",
       "      <th>3e7ffb67-8872-4172-bf18-4fe338ecae3f_6e8b49e5-4213-45da-bad6-158592c7f731</th>\n",
       "      <td>Prise de sang et analyse stérile des urines à ...</td>\n",
       "    </tr>\n",
       "    <tr>\n",
       "      <th>2d035c4b-cdfa-4982-87dc-916fe07a0824_56c749ad-eed8-407a-ae9e-a17ebf420cf4</th>\n",
       "      <td>Bonjour, merci de renouveler cette ordonnance ...</td>\n",
       "    </tr>\n",
       "    <tr>\n",
       "      <th>...</th>\n",
       "      <td>...</td>\n",
       "    </tr>\n",
       "    <tr>\n",
       "      <th>a5050600-95ef-43d8-a5fa-a57c791bf843_448853a4-f75e-403a-8fcb-8dfc18f0b4ec</th>\n",
       "      <td>Test antigénique réalisé cet après-midi à domi...</td>\n",
       "    </tr>\n",
       "    <tr>\n",
       "      <th>2d035c4b-cdfa-4982-87dc-916fe07a0824_4fb0c6a1-0562-496a-ae88-1adadec059a6</th>\n",
       "      <td>Réalisation d'une prise de sang chez monsieur ...</td>\n",
       "    </tr>\n",
       "    <tr>\n",
       "      <th>b96ad235-2f4f-4236-9aa3-9df85dfcf7cb_b8a5877a-b8ce-4347-b294-3aa46efbcb34</th>\n",
       "      <td>Ordonnance pour la préparation du pilulier en ...</td>\n",
       "    </tr>\n",
       "    <tr>\n",
       "      <th>978eb126-14a0-46cf-bd27-44b6b77cecb7_01fc29bf-08c4-4e82-99be-8f9f24c5974b</th>\n",
       "      <td>Début des soins le 10 juin. Avec début des sou...</td>\n",
       "    </tr>\n",
       "    <tr>\n",
       "      <th>2d035c4b-cdfa-4982-87dc-916fe07a0824_47d4e0f3-f2f0-4a19-9df1-8ab0894980f9</th>\n",
       "      <td>Prise de sang faite au domicile de la patiente...</td>\n",
       "    </tr>\n",
       "  </tbody>\n",
       "</table>\n",
       "<p>4029 rows × 1 columns</p>\n",
       "</div>"
      ],
      "text/plain": [
       "                                                                                          translation\n",
       "fichier                                                                                              \n",
       "9f980dcf-b431-4e67-876f-2b8e288b7900_3b5f3f01-e...  Prise de sang faite le 19 février à domicile p...\n",
       "2d035c4b-cdfa-4982-87dc-916fe07a0824_710f4bda-b...  Pansement également refait le 23 mars par mylène.\n",
       "b96ad235-2f4f-4236-9aa3-9df85dfcf7cb_ff1697c1-a...       Pcr plus prise de sang fait à domicile à 11.\n",
       "3e7ffb67-8872-4172-bf18-4fe338ecae3f_6e8b49e5-4...  Prise de sang et analyse stérile des urines à ...\n",
       "2d035c4b-cdfa-4982-87dc-916fe07a0824_56c749ad-e...  Bonjour, merci de renouveler cette ordonnance ...\n",
       "...                                                                                               ...\n",
       "a5050600-95ef-43d8-a5fa-a57c791bf843_448853a4-f...  Test antigénique réalisé cet après-midi à domi...\n",
       "2d035c4b-cdfa-4982-87dc-916fe07a0824_4fb0c6a1-0...  Réalisation d'une prise de sang chez monsieur ...\n",
       "b96ad235-2f4f-4236-9aa3-9df85dfcf7cb_b8a5877a-b...  Ordonnance pour la préparation du pilulier en ...\n",
       "978eb126-14a0-46cf-bd27-44b6b77cecb7_01fc29bf-0...  Début des soins le 10 juin. Avec début des sou...\n",
       "2d035c4b-cdfa-4982-87dc-916fe07a0824_47d4e0f3-f...  Prise de sang faite au domicile de la patiente...\n",
       "\n",
       "[4029 rows x 1 columns]"
      ]
     },
     "execution_count": 5,
     "metadata": {},
     "output_type": "execute_result"
    }
   ],
   "source": [
    "df"
   ]
  },
  {
   "cell_type": "code",
   "execution_count": 6,
   "id": "98a0f0aa",
   "metadata": {},
   "outputs": [],
   "source": [
    "df[\"entities\"] = df[\"translation\"].apply(lambda x: return_label(x, model))"
   ]
  },
  {
   "cell_type": "code",
   "execution_count": 7,
   "id": "bb9e8d10",
   "metadata": {},
   "outputs": [],
   "source": [
    "def extract(prediction, label):\n",
    "    for elm in prediction:\n",
    "        if elm[1] == label:\n",
    "            if elm[0] == np.nan:\n",
    "                return np.nan\n",
    "            else:\n",
    "                return elm[0]  "
   ]
  },
  {
   "cell_type": "code",
   "execution_count": 8,
   "id": "0cb1716f",
   "metadata": {},
   "outputs": [],
   "source": [
    "df[\"raw_date\"] = df[\"entities\"].apply(lambda x: extract(x,'Date'))"
   ]
  },
  {
   "cell_type": "code",
   "execution_count": 9,
   "id": "7ae157c8",
   "metadata": {},
   "outputs": [],
   "source": [
    "df[\"Duration\"] = df[\"entities\"].apply(lambda x: extract(x,'Duration'))"
   ]
  },
  {
   "cell_type": "code",
   "execution_count": 10,
   "id": "67b66cf1",
   "metadata": {},
   "outputs": [],
   "source": [
    "def apply_date(sentence):\n",
    "    if sentence == None:\n",
    "        return None\n",
    "    else: \n",
    "        df = Date().transform_data(sentence)\n",
    "        return [df.iloc[0,2], df.iloc[0,1]]"
   ]
  },
  {
   "cell_type": "code",
   "execution_count": 11,
   "id": "7b1e8a09",
   "metadata": {},
   "outputs": [
    {
     "data": {
      "text/html": [
       "<div>\n",
       "<style scoped>\n",
       "    .dataframe tbody tr th:only-of-type {\n",
       "        vertical-align: middle;\n",
       "    }\n",
       "\n",
       "    .dataframe tbody tr th {\n",
       "        vertical-align: top;\n",
       "    }\n",
       "\n",
       "    .dataframe thead th {\n",
       "        text-align: right;\n",
       "    }\n",
       "</style>\n",
       "<table border=\"1\" class=\"dataframe\">\n",
       "  <thead>\n",
       "    <tr style=\"text-align: right;\">\n",
       "      <th></th>\n",
       "      <th>data</th>\n",
       "      <th>day</th>\n",
       "      <th>month</th>\n",
       "      <th>year</th>\n",
       "      <th>day_of_week</th>\n",
       "      <th>day_from_today</th>\n",
       "    </tr>\n",
       "  </thead>\n",
       "  <tbody>\n",
       "    <tr>\n",
       "      <th>0</th>\n",
       "      <td>[10, juin]</td>\n",
       "      <td>10</td>\n",
       "      <td>6</td>\n",
       "      <td>99</td>\n",
       "      <td>99</td>\n",
       "      <td>99</td>\n",
       "    </tr>\n",
       "  </tbody>\n",
       "</table>\n",
       "</div>"
      ],
      "text/plain": [
       "         data  day  month  year  day_of_week  day_from_today\n",
       "0  [10, juin]   10      6    99           99              99"
      ]
     },
     "execution_count": 11,
     "metadata": {},
     "output_type": "execute_result"
    }
   ],
   "source": [
    "test = 'le 10 juin'\n",
    "temp = Date().transform_data(test)\n",
    "temp"
   ]
  },
  {
   "cell_type": "code",
   "execution_count": 12,
   "id": "5364bf28",
   "metadata": {},
   "outputs": [
    {
     "data": {
      "text/plain": [
       "[6, 10]"
      ]
     },
     "execution_count": 12,
     "metadata": {},
     "output_type": "execute_result"
    }
   ],
   "source": [
    "apply_date(test)"
   ]
  },
  {
   "cell_type": "code",
   "execution_count": 13,
   "id": "fcc3b072",
   "metadata": {},
   "outputs": [],
   "source": [
    "df[\"Date\"] = df[\"raw_date\"].apply(lambda x: apply_date(x))"
   ]
  },
  {
   "cell_type": "code",
   "execution_count": 14,
   "id": "a3153ef2",
   "metadata": {},
   "outputs": [],
   "source": [
    "df.drop(columns=[\"entities\", \"raw_date\"], inplace=True)"
   ]
  },
  {
   "cell_type": "code",
   "execution_count": 15,
   "id": "f5ac9eab",
   "metadata": {},
   "outputs": [
    {
     "data": {
      "text/html": [
       "<div>\n",
       "<style scoped>\n",
       "    .dataframe tbody tr th:only-of-type {\n",
       "        vertical-align: middle;\n",
       "    }\n",
       "\n",
       "    .dataframe tbody tr th {\n",
       "        vertical-align: top;\n",
       "    }\n",
       "\n",
       "    .dataframe thead th {\n",
       "        text-align: right;\n",
       "    }\n",
       "</style>\n",
       "<table border=\"1\" class=\"dataframe\">\n",
       "  <thead>\n",
       "    <tr style=\"text-align: right;\">\n",
       "      <th></th>\n",
       "      <th>translation</th>\n",
       "      <th>Duration</th>\n",
       "      <th>Date</th>\n",
       "    </tr>\n",
       "    <tr>\n",
       "      <th>fichier</th>\n",
       "      <th></th>\n",
       "      <th></th>\n",
       "      <th></th>\n",
       "    </tr>\n",
       "  </thead>\n",
       "  <tbody>\n",
       "    <tr>\n",
       "      <th>9f980dcf-b431-4e67-876f-2b8e288b7900_3b5f3f01-e244-4398-8388-19fb5058c9c1</th>\n",
       "      <td>Prise de sang faite le 19 février à domicile p...</td>\n",
       "      <td>None</td>\n",
       "      <td>[2, 19]</td>\n",
       "    </tr>\n",
       "    <tr>\n",
       "      <th>2d035c4b-cdfa-4982-87dc-916fe07a0824_710f4bda-ba21-434f-883e-1b72df7ea27a</th>\n",
       "      <td>Pansement également refait le 23 mars par mylène.</td>\n",
       "      <td>None</td>\n",
       "      <td>[3, 23]</td>\n",
       "    </tr>\n",
       "    <tr>\n",
       "      <th>b96ad235-2f4f-4236-9aa3-9df85dfcf7cb_ff1697c1-a01f-4eb5-a1c2-b95205dc389a</th>\n",
       "      <td>Pcr plus prise de sang fait à domicile à 11.</td>\n",
       "      <td>None</td>\n",
       "      <td>None</td>\n",
       "    </tr>\n",
       "    <tr>\n",
       "      <th>3e7ffb67-8872-4172-bf18-4fe338ecae3f_6e8b49e5-4213-45da-bad6-158592c7f731</th>\n",
       "      <td>Prise de sang et analyse stérile des urines à ...</td>\n",
       "      <td>None</td>\n",
       "      <td>[2, 18]</td>\n",
       "    </tr>\n",
       "    <tr>\n",
       "      <th>2d035c4b-cdfa-4982-87dc-916fe07a0824_56c749ad-eed8-407a-ae9e-a17ebf420cf4</th>\n",
       "      <td>Bonjour, merci de renouveler cette ordonnance ...</td>\n",
       "      <td>None</td>\n",
       "      <td>None</td>\n",
       "    </tr>\n",
       "  </tbody>\n",
       "</table>\n",
       "</div>"
      ],
      "text/plain": [
       "                                                                                          translation  \\\n",
       "fichier                                                                                                 \n",
       "9f980dcf-b431-4e67-876f-2b8e288b7900_3b5f3f01-e...  Prise de sang faite le 19 février à domicile p...   \n",
       "2d035c4b-cdfa-4982-87dc-916fe07a0824_710f4bda-b...  Pansement également refait le 23 mars par mylène.   \n",
       "b96ad235-2f4f-4236-9aa3-9df85dfcf7cb_ff1697c1-a...       Pcr plus prise de sang fait à domicile à 11.   \n",
       "3e7ffb67-8872-4172-bf18-4fe338ecae3f_6e8b49e5-4...  Prise de sang et analyse stérile des urines à ...   \n",
       "2d035c4b-cdfa-4982-87dc-916fe07a0824_56c749ad-e...  Bonjour, merci de renouveler cette ordonnance ...   \n",
       "\n",
       "                                                   Duration     Date  \n",
       "fichier                                                               \n",
       "9f980dcf-b431-4e67-876f-2b8e288b7900_3b5f3f01-e...     None  [2, 19]  \n",
       "2d035c4b-cdfa-4982-87dc-916fe07a0824_710f4bda-b...     None  [3, 23]  \n",
       "b96ad235-2f4f-4236-9aa3-9df85dfcf7cb_ff1697c1-a...     None     None  \n",
       "3e7ffb67-8872-4172-bf18-4fe338ecae3f_6e8b49e5-4...     None  [2, 18]  \n",
       "2d035c4b-cdfa-4982-87dc-916fe07a0824_56c749ad-e...     None     None  "
      ]
     },
     "execution_count": 15,
     "metadata": {},
     "output_type": "execute_result"
    }
   ],
   "source": [
    "df.head()"
   ]
  },
  {
   "cell_type": "code",
   "execution_count": 16,
   "id": "35deed9d",
   "metadata": {},
   "outputs": [
    {
     "data": {
      "text/plain": [
       "{'CareDuration': ['3'], 'CareDurationType': ['Weeks'], 'CareEnd': [nan]}"
      ]
     },
     "execution_count": 16,
     "metadata": {},
     "output_type": "execute_result"
    }
   ],
   "source": [
    "Duration().explicit_duration(\"pendant 3 semaines\")"
   ]
  },
  {
   "cell_type": "code",
   "execution_count": 17,
   "id": "9e4fed52",
   "metadata": {},
   "outputs": [],
   "source": [
    "test = Duration()"
   ]
  },
  {
   "cell_type": "code",
   "execution_count": 18,
   "id": "c9822bcd",
   "metadata": {},
   "outputs": [
    {
     "data": {
      "text/plain": [
       "{'CareDuration': ['3'], 'CareDurationType': ['Days'], 'CareEnd': [nan]}"
      ]
     },
     "execution_count": 18,
     "metadata": {},
     "output_type": "execute_result"
    }
   ],
   "source": [
    "test.explicit_duration(\"pendant 3 jours\")"
   ]
  },
  {
   "cell_type": "code",
   "execution_count": 19,
   "id": "bd9c6a28",
   "metadata": {},
   "outputs": [],
   "source": [
    "df.iloc[0,2][0] = df.iloc[0,2][0] + 2 "
   ]
  },
  {
   "cell_type": "code",
   "execution_count": 20,
   "id": "09702cbe",
   "metadata": {},
   "outputs": [
    {
     "data": {
      "text/plain": [
       "4"
      ]
     },
     "execution_count": 20,
     "metadata": {},
     "output_type": "execute_result"
    }
   ],
   "source": [
    "df.iloc[0,2][0]"
   ]
  },
  {
   "cell_type": "code",
   "execution_count": 21,
   "id": "552b6418",
   "metadata": {},
   "outputs": [
    {
     "data": {
      "text/plain": [
       "'(janvier|février|mars|avril|mai|juin|juillet|août|septembre|octobre|novembre|décembre)'"
      ]
     },
     "execution_count": 21,
     "metadata": {},
     "output_type": "execute_result"
    }
   ],
   "source": [
    "test.liste_mois"
   ]
  },
  {
   "cell_type": "code",
   "execution_count": 22,
   "id": "2e5d47e5",
   "metadata": {},
   "outputs": [
    {
     "data": {
      "text/plain": [
       "{'CareDuration': [nan], 'CareDurationType': [nan], 'CareEnd': ['24 juin']}"
      ]
     },
     "execution_count": 22,
     "metadata": {},
     "output_type": "execute_result"
    }
   ],
   "source": [
    "test.implicit_duration_1('jusqu\\'au 24 juin')"
   ]
  },
  {
   "cell_type": "code",
   "execution_count": 23,
   "id": "87ebe3ec",
   "metadata": {},
   "outputs": [
    {
     "data": {
      "text/plain": [
       "{'CareDuration': [14], 'CareDurationType': ['Days'], 'CareEnd': ['24 juin']}"
      ]
     },
     "execution_count": 23,
     "metadata": {},
     "output_type": "execute_result"
    }
   ],
   "source": [
    "test.implicit_duration_1('jusqu\\'au 24 juin',(6,10))"
   ]
  },
  {
   "cell_type": "code",
   "execution_count": 24,
   "id": "200ddcce",
   "metadata": {},
   "outputs": [
    {
     "data": {
      "text/plain": [
       "{'CareDuration': [nan], 'CareDurationType': ['Days'], 'CareEnd': ['16 juin']}"
      ]
     },
     "execution_count": 24,
     "metadata": {},
     "output_type": "execute_result"
    }
   ],
   "source": [
    "test.get_duration(sentence='jusqu\\'au 16 juin', CareBeginDate=[6,20])"
   ]
  },
  {
   "cell_type": "code",
   "execution_count": 25,
   "id": "38cd4ec6",
   "metadata": {},
   "outputs": [],
   "source": [
    "liste_mois = '(janvier|février|mars|avril|mai|juin|juillet|août|septembre|octobre|novembre|décembre)'"
   ]
  },
  {
   "cell_type": "code",
   "execution_count": 26,
   "id": "099ab941",
   "metadata": {},
   "outputs": [
    {
     "data": {
      "text/plain": [
       "<re.Match object; span=(9, 16), match='16 juin'>"
      ]
     },
     "execution_count": 26,
     "metadata": {},
     "output_type": "execute_result"
    }
   ],
   "source": [
    "re.search(\"(?<=jusqu\\'au\\s)(\\w\\s)*\\d{1,2}\\s\"+liste_mois, 'jusqu\\'au 16 juin')"
   ]
  },
  {
   "cell_type": "code",
   "execution_count": 27,
   "id": "aa517169",
   "metadata": {},
   "outputs": [
    {
     "data": {
      "text/plain": [
       "{'CareDuration': [nan], 'CareDurationType': [nan], 'CareEnd': ['16 juin']}"
      ]
     },
     "execution_count": 27,
     "metadata": {},
     "output_type": "execute_result"
    }
   ],
   "source": [
    "test.get_duration(sentence=\"jusqu'au 16 juin\")"
   ]
  },
  {
   "cell_type": "code",
   "execution_count": 28,
   "id": "a05be4e6",
   "metadata": {},
   "outputs": [
    {
     "data": {
      "text/plain": [
       "{'CareDuration': ['10'], 'CareDurationType': ['Days'], 'CareEnd': [nan]}"
      ]
     },
     "execution_count": 28,
     "metadata": {},
     "output_type": "execute_result"
    }
   ],
   "source": [
    "test.get_duration(sentence='pour 10 jours')"
   ]
  },
  {
   "cell_type": "code",
   "execution_count": 29,
   "id": "f9cd840d",
   "metadata": {},
   "outputs": [],
   "source": [
    "def get_duration_df(x):\n",
    "    if x is None:\n",
    "        return None"
   ]
  },
  {
   "cell_type": "code",
   "execution_count": 30,
   "id": "9db0d592",
   "metadata": {},
   "outputs": [],
   "source": [
    "test = pd.DataFrame()"
   ]
  },
  {
   "cell_type": "code",
   "execution_count": 31,
   "id": "e3249529",
   "metadata": {},
   "outputs": [
    {
     "data": {
      "text/plain": [
       "True"
      ]
     },
     "execution_count": 31,
     "metadata": {},
     "output_type": "execute_result"
    }
   ],
   "source": [
    "type(test) == pd.core.frame.DataFrame"
   ]
  },
  {
   "cell_type": "code",
   "execution_count": 32,
   "id": "e1d85430",
   "metadata": {},
   "outputs": [
    {
     "data": {
      "text/plain": [
       "pandas.core.series.Series"
      ]
     },
     "execution_count": 32,
     "metadata": {},
     "output_type": "execute_result"
    }
   ],
   "source": [
    "type(df[\"Duration\"])"
   ]
  },
  {
   "cell_type": "code",
   "execution_count": 33,
   "id": "22f212a7",
   "metadata": {},
   "outputs": [],
   "source": [
    "duration = df[\"Duration\"]\n",
    "date = df[\"Date\"]"
   ]
  },
  {
   "cell_type": "code",
   "execution_count": 34,
   "id": "14b52228",
   "metadata": {},
   "outputs": [
    {
     "data": {
      "text/html": [
       "<div>\n",
       "<style scoped>\n",
       "    .dataframe tbody tr th:only-of-type {\n",
       "        vertical-align: middle;\n",
       "    }\n",
       "\n",
       "    .dataframe tbody tr th {\n",
       "        vertical-align: top;\n",
       "    }\n",
       "\n",
       "    .dataframe thead th {\n",
       "        text-align: right;\n",
       "    }\n",
       "</style>\n",
       "<table border=\"1\" class=\"dataframe\">\n",
       "  <thead>\n",
       "    <tr style=\"text-align: right;\">\n",
       "      <th></th>\n",
       "      <th>translation</th>\n",
       "      <th>Duration</th>\n",
       "      <th>Date</th>\n",
       "    </tr>\n",
       "    <tr>\n",
       "      <th>fichier</th>\n",
       "      <th></th>\n",
       "      <th></th>\n",
       "      <th></th>\n",
       "    </tr>\n",
       "  </thead>\n",
       "  <tbody>\n",
       "    <tr>\n",
       "      <th>55d674cc-3389-4cf6-ab7c-1f1b9fa1b6ed_3e005951-47a1-4edb-ab50-ce602fe56c54</th>\n",
       "      <td>Renouvellement du bsc. D'une durée de un an à ...</td>\n",
       "      <td>une durée de un an</td>\n",
       "      <td>[5, 21]</td>\n",
       "    </tr>\n",
       "    <tr>\n",
       "      <th>2d035c4b-cdfa-4982-87dc-916fe07a0824_2dfdf4ab-fc95-4ec1-8e03-af502b95baf8</th>\n",
       "      <td>Ordonnance pour la réalisation de injection de...</td>\n",
       "      <td>pour 6 jours</td>\n",
       "      <td>[4, 17]</td>\n",
       "    </tr>\n",
       "    <tr>\n",
       "      <th>c619f0e1-7c22-4047-adb2-df4dec6643ba_8214d80f-0f7d-4e0d-9d4a-23294f9690b3</th>\n",
       "      <td>Soin débuté le vendredi 14 janvier 2022 jusqu'...</td>\n",
       "      <td>jusqu'au lundi 17 janvier 2022</td>\n",
       "      <td>[1, 14]</td>\n",
       "    </tr>\n",
       "    <tr>\n",
       "      <th>f0caa21b-c11d-40a3-98ec-e2df3d2b9cc4_7e5c146c-2faa-44ce-9228-ee5addf48580</th>\n",
       "      <td>Soin débuté le 10 avril,  à réaliser donc le s...</td>\n",
       "      <td>pendant 15 jours</td>\n",
       "      <td>[4, 10]</td>\n",
       "    </tr>\n",
       "    <tr>\n",
       "      <th>9d42ce6f-8537-49a9-a121-c8ae1dc7cda8_3ffbf9cc-b9e4-405d-a038-fb4f9e036a72</th>\n",
       "      <td>Pour monsieur Didier Nicolas, donc un passage ...</td>\n",
       "      <td>jusqu'au 8/12/2019</td>\n",
       "      <td>[99, 25]</td>\n",
       "    </tr>\n",
       "    <tr>\n",
       "      <th>...</th>\n",
       "      <td>...</td>\n",
       "      <td>...</td>\n",
       "      <td>...</td>\n",
       "    </tr>\n",
       "    <tr>\n",
       "      <th>3e7ffb67-8872-4172-bf18-4fe338ecae3f_04fe104b-9843-4abc-b467-a9301c5eb3a2</th>\n",
       "      <td>Injection sous-cutanée à réaliser une fois par...</td>\n",
       "      <td>pendant 8 jours</td>\n",
       "      <td>[7, 9]</td>\n",
       "    </tr>\n",
       "    <tr>\n",
       "      <th>3e7ffb67-8872-4172-bf18-4fe338ecae3f_67dbeda4-1876-41a6-8249-68f1dfeebb70</th>\n",
       "      <td>Nouvelle ordonnance pour madame Gris Rennes. O...</td>\n",
       "      <td>pendant un mois</td>\n",
       "      <td>[7, 20]</td>\n",
       "    </tr>\n",
       "    <tr>\n",
       "      <th>3e7ffb67-8872-4172-bf18-4fe338ecae3f_80f9b3d2-47b8-4152-9e45-a26dcf173335</th>\n",
       "      <td>Injection sous-cutanée à faire une fois par jo...</td>\n",
       "      <td>pendant 30 jours</td>\n",
       "      <td>[4, 7]</td>\n",
       "    </tr>\n",
       "    <tr>\n",
       "      <th>b96ad235-2f4f-4236-9aa3-9df85dfcf7cb_b1cb90a1-acbb-40c6-963d-10ebac5fb0d4</th>\n",
       "      <td>Ordonnance daté du 31 mai 2021 faite par le ce...</td>\n",
       "      <td>valable pour un an</td>\n",
       "      <td>[5, 31]</td>\n",
       "    </tr>\n",
       "    <tr>\n",
       "      <th>74b154c1-e265-4cb9-8e71-0c9bbc3dc880_5c18e09e-9dfc-421d-92b2-73b6a22d2ddc</th>\n",
       "      <td>Oui, bonjour dany, c'est sylvie, je viens de v...</td>\n",
       "      <td>pendant 15 pendant</td>\n",
       "      <td>[99, 99]</td>\n",
       "    </tr>\n",
       "  </tbody>\n",
       "</table>\n",
       "<p>306 rows × 3 columns</p>\n",
       "</div>"
      ],
      "text/plain": [
       "                                                                                          translation  \\\n",
       "fichier                                                                                                 \n",
       "55d674cc-3389-4cf6-ab7c-1f1b9fa1b6ed_3e005951-4...  Renouvellement du bsc. D'une durée de un an à ...   \n",
       "2d035c4b-cdfa-4982-87dc-916fe07a0824_2dfdf4ab-f...  Ordonnance pour la réalisation de injection de...   \n",
       "c619f0e1-7c22-4047-adb2-df4dec6643ba_8214d80f-0...  Soin débuté le vendredi 14 janvier 2022 jusqu'...   \n",
       "f0caa21b-c11d-40a3-98ec-e2df3d2b9cc4_7e5c146c-2...  Soin débuté le 10 avril,  à réaliser donc le s...   \n",
       "9d42ce6f-8537-49a9-a121-c8ae1dc7cda8_3ffbf9cc-b...  Pour monsieur Didier Nicolas, donc un passage ...   \n",
       "...                                                                                               ...   \n",
       "3e7ffb67-8872-4172-bf18-4fe338ecae3f_04fe104b-9...  Injection sous-cutanée à réaliser une fois par...   \n",
       "3e7ffb67-8872-4172-bf18-4fe338ecae3f_67dbeda4-1...  Nouvelle ordonnance pour madame Gris Rennes. O...   \n",
       "3e7ffb67-8872-4172-bf18-4fe338ecae3f_80f9b3d2-4...  Injection sous-cutanée à faire une fois par jo...   \n",
       "b96ad235-2f4f-4236-9aa3-9df85dfcf7cb_b1cb90a1-a...  Ordonnance daté du 31 mai 2021 faite par le ce...   \n",
       "74b154c1-e265-4cb9-8e71-0c9bbc3dc880_5c18e09e-9...  Oui, bonjour dany, c'est sylvie, je viens de v...   \n",
       "\n",
       "                                                                          Duration  \\\n",
       "fichier                                                                              \n",
       "55d674cc-3389-4cf6-ab7c-1f1b9fa1b6ed_3e005951-4...              une durée de un an   \n",
       "2d035c4b-cdfa-4982-87dc-916fe07a0824_2dfdf4ab-f...                    pour 6 jours   \n",
       "c619f0e1-7c22-4047-adb2-df4dec6643ba_8214d80f-0...  jusqu'au lundi 17 janvier 2022   \n",
       "f0caa21b-c11d-40a3-98ec-e2df3d2b9cc4_7e5c146c-2...                pendant 15 jours   \n",
       "9d42ce6f-8537-49a9-a121-c8ae1dc7cda8_3ffbf9cc-b...              jusqu'au 8/12/2019   \n",
       "...                                                                            ...   \n",
       "3e7ffb67-8872-4172-bf18-4fe338ecae3f_04fe104b-9...                 pendant 8 jours   \n",
       "3e7ffb67-8872-4172-bf18-4fe338ecae3f_67dbeda4-1...                 pendant un mois   \n",
       "3e7ffb67-8872-4172-bf18-4fe338ecae3f_80f9b3d2-4...                pendant 30 jours   \n",
       "b96ad235-2f4f-4236-9aa3-9df85dfcf7cb_b1cb90a1-a...              valable pour un an   \n",
       "74b154c1-e265-4cb9-8e71-0c9bbc3dc880_5c18e09e-9...              pendant 15 pendant   \n",
       "\n",
       "                                                        Date  \n",
       "fichier                                                       \n",
       "55d674cc-3389-4cf6-ab7c-1f1b9fa1b6ed_3e005951-4...   [5, 21]  \n",
       "2d035c4b-cdfa-4982-87dc-916fe07a0824_2dfdf4ab-f...   [4, 17]  \n",
       "c619f0e1-7c22-4047-adb2-df4dec6643ba_8214d80f-0...   [1, 14]  \n",
       "f0caa21b-c11d-40a3-98ec-e2df3d2b9cc4_7e5c146c-2...   [4, 10]  \n",
       "9d42ce6f-8537-49a9-a121-c8ae1dc7cda8_3ffbf9cc-b...  [99, 25]  \n",
       "...                                                      ...  \n",
       "3e7ffb67-8872-4172-bf18-4fe338ecae3f_04fe104b-9...    [7, 9]  \n",
       "3e7ffb67-8872-4172-bf18-4fe338ecae3f_67dbeda4-1...   [7, 20]  \n",
       "3e7ffb67-8872-4172-bf18-4fe338ecae3f_80f9b3d2-4...    [4, 7]  \n",
       "b96ad235-2f4f-4236-9aa3-9df85dfcf7cb_b1cb90a1-a...   [5, 31]  \n",
       "74b154c1-e265-4cb9-8e71-0c9bbc3dc880_5c18e09e-9...  [99, 99]  \n",
       "\n",
       "[306 rows x 3 columns]"
      ]
     },
     "execution_count": 34,
     "metadata": {},
     "output_type": "execute_result"
    }
   ],
   "source": [
    "df_temp = df.dropna()\n",
    "df_temp"
   ]
  },
  {
   "cell_type": "code",
   "execution_count": 35,
   "id": "761dfa85",
   "metadata": {},
   "outputs": [],
   "source": [
    "test_1 = Duration().explicit_duration(\"pour 4 jours\")"
   ]
  },
  {
   "cell_type": "code",
   "execution_count": 36,
   "id": "62b1e4e4",
   "metadata": {},
   "outputs": [],
   "source": [
    "test_2 = Duration().explicit_duration(\"pendant 8 mois\")"
   ]
  },
  {
   "cell_type": "code",
   "execution_count": 37,
   "id": "0cb15811",
   "metadata": {},
   "outputs": [
    {
     "data": {
      "text/html": [
       "<div>\n",
       "<style scoped>\n",
       "    .dataframe tbody tr th:only-of-type {\n",
       "        vertical-align: middle;\n",
       "    }\n",
       "\n",
       "    .dataframe tbody tr th {\n",
       "        vertical-align: top;\n",
       "    }\n",
       "\n",
       "    .dataframe thead th {\n",
       "        text-align: right;\n",
       "    }\n",
       "</style>\n",
       "<table border=\"1\" class=\"dataframe\">\n",
       "  <thead>\n",
       "    <tr style=\"text-align: right;\">\n",
       "      <th></th>\n",
       "      <th>test</th>\n",
       "    </tr>\n",
       "  </thead>\n",
       "  <tbody>\n",
       "    <tr>\n",
       "      <th>0</th>\n",
       "      <td>{'CareDuration': ['4'], 'CareDurationType': ['...</td>\n",
       "    </tr>\n",
       "    <tr>\n",
       "      <th>1</th>\n",
       "      <td>{'CareDuration': ['8'], 'CareDurationType': ['...</td>\n",
       "    </tr>\n",
       "  </tbody>\n",
       "</table>\n",
       "</div>"
      ],
      "text/plain": [
       "                                                test\n",
       "0  {'CareDuration': ['4'], 'CareDurationType': ['...\n",
       "1  {'CareDuration': ['8'], 'CareDurationType': ['..."
      ]
     },
     "execution_count": 37,
     "metadata": {},
     "output_type": "execute_result"
    }
   ],
   "source": [
    "full_test = pd.DataFrame({'test':[test_1,test_2]})\n",
    "full_test"
   ]
  },
  {
   "cell_type": "code",
   "execution_count": 38,
   "id": "a528ebb5",
   "metadata": {},
   "outputs": [],
   "source": [
    "full_test['CareDuration'] = full_test[\"test\"].apply(lambda x:x['CareDuration'][0])"
   ]
  },
  {
   "cell_type": "code",
   "execution_count": 39,
   "id": "616a94f2",
   "metadata": {},
   "outputs": [
    {
     "data": {
      "text/html": [
       "<div>\n",
       "<style scoped>\n",
       "    .dataframe tbody tr th:only-of-type {\n",
       "        vertical-align: middle;\n",
       "    }\n",
       "\n",
       "    .dataframe tbody tr th {\n",
       "        vertical-align: top;\n",
       "    }\n",
       "\n",
       "    .dataframe thead th {\n",
       "        text-align: right;\n",
       "    }\n",
       "</style>\n",
       "<table border=\"1\" class=\"dataframe\">\n",
       "  <thead>\n",
       "    <tr style=\"text-align: right;\">\n",
       "      <th></th>\n",
       "      <th>test</th>\n",
       "      <th>CareDuration</th>\n",
       "    </tr>\n",
       "  </thead>\n",
       "  <tbody>\n",
       "    <tr>\n",
       "      <th>0</th>\n",
       "      <td>{'CareDuration': ['4'], 'CareDurationType': ['...</td>\n",
       "      <td>4</td>\n",
       "    </tr>\n",
       "    <tr>\n",
       "      <th>1</th>\n",
       "      <td>{'CareDuration': ['8'], 'CareDurationType': ['...</td>\n",
       "      <td>8</td>\n",
       "    </tr>\n",
       "  </tbody>\n",
       "</table>\n",
       "</div>"
      ],
      "text/plain": [
       "                                                test CareDuration\n",
       "0  {'CareDuration': ['4'], 'CareDurationType': ['...            4\n",
       "1  {'CareDuration': ['8'], 'CareDurationType': ['...            8"
      ]
     },
     "execution_count": 39,
     "metadata": {},
     "output_type": "execute_result"
    }
   ],
   "source": [
    "full_test"
   ]
  },
  {
   "cell_type": "code",
   "execution_count": 40,
   "id": "ae2776a5",
   "metadata": {},
   "outputs": [
    {
     "data": {
      "text/html": [
       "<div>\n",
       "<style scoped>\n",
       "    .dataframe tbody tr th:only-of-type {\n",
       "        vertical-align: middle;\n",
       "    }\n",
       "\n",
       "    .dataframe tbody tr th {\n",
       "        vertical-align: top;\n",
       "    }\n",
       "\n",
       "    .dataframe thead th {\n",
       "        text-align: right;\n",
       "    }\n",
       "</style>\n",
       "<table border=\"1\" class=\"dataframe\">\n",
       "  <thead>\n",
       "    <tr style=\"text-align: right;\">\n",
       "      <th></th>\n",
       "      <th>CareDuration</th>\n",
       "      <th>CareDurationType</th>\n",
       "      <th>CareEnd</th>\n",
       "    </tr>\n",
       "  </thead>\n",
       "  <tbody>\n",
       "    <tr>\n",
       "      <th>0</th>\n",
       "      <td>10</td>\n",
       "      <td>Days</td>\n",
       "      <td>20 juin</td>\n",
       "    </tr>\n",
       "  </tbody>\n",
       "</table>\n",
       "</div>"
      ],
      "text/plain": [
       "   CareDuration CareDurationType  CareEnd\n",
       "0            10             Days  20 juin"
      ]
     },
     "execution_count": 40,
     "metadata": {},
     "output_type": "execute_result"
    }
   ],
   "source": [
    "Duration().implicit_duration_1(\"jusqu'au 20 juin\", [6,10],df=True)"
   ]
  },
  {
   "cell_type": "code",
   "execution_count": 41,
   "id": "223473dd",
   "metadata": {},
   "outputs": [
    {
     "data": {
      "text/html": [
       "<div>\n",
       "<style scoped>\n",
       "    .dataframe tbody tr th:only-of-type {\n",
       "        vertical-align: middle;\n",
       "    }\n",
       "\n",
       "    .dataframe tbody tr th {\n",
       "        vertical-align: top;\n",
       "    }\n",
       "\n",
       "    .dataframe thead th {\n",
       "        text-align: right;\n",
       "    }\n",
       "</style>\n",
       "<table border=\"1\" class=\"dataframe\">\n",
       "  <thead>\n",
       "    <tr style=\"text-align: right;\">\n",
       "      <th></th>\n",
       "      <th>translation</th>\n",
       "      <th>Duration</th>\n",
       "      <th>Date</th>\n",
       "    </tr>\n",
       "    <tr>\n",
       "      <th>fichier</th>\n",
       "      <th></th>\n",
       "      <th></th>\n",
       "      <th></th>\n",
       "    </tr>\n",
       "  </thead>\n",
       "  <tbody>\n",
       "    <tr>\n",
       "      <th>9f980dcf-b431-4e67-876f-2b8e288b7900_3b5f3f01-e244-4398-8388-19fb5058c9c1</th>\n",
       "      <td>Prise de sang faite le 19 février à domicile p...</td>\n",
       "      <td>None</td>\n",
       "      <td>[4, 19]</td>\n",
       "    </tr>\n",
       "    <tr>\n",
       "      <th>2d035c4b-cdfa-4982-87dc-916fe07a0824_710f4bda-ba21-434f-883e-1b72df7ea27a</th>\n",
       "      <td>Pansement également refait le 23 mars par mylène.</td>\n",
       "      <td>None</td>\n",
       "      <td>[3, 23]</td>\n",
       "    </tr>\n",
       "    <tr>\n",
       "      <th>b96ad235-2f4f-4236-9aa3-9df85dfcf7cb_ff1697c1-a01f-4eb5-a1c2-b95205dc389a</th>\n",
       "      <td>Pcr plus prise de sang fait à domicile à 11.</td>\n",
       "      <td>None</td>\n",
       "      <td>None</td>\n",
       "    </tr>\n",
       "    <tr>\n",
       "      <th>3e7ffb67-8872-4172-bf18-4fe338ecae3f_6e8b49e5-4213-45da-bad6-158592c7f731</th>\n",
       "      <td>Prise de sang et analyse stérile des urines à ...</td>\n",
       "      <td>None</td>\n",
       "      <td>[2, 18]</td>\n",
       "    </tr>\n",
       "    <tr>\n",
       "      <th>2d035c4b-cdfa-4982-87dc-916fe07a0824_56c749ad-eed8-407a-ae9e-a17ebf420cf4</th>\n",
       "      <td>Bonjour, merci de renouveler cette ordonnance ...</td>\n",
       "      <td>None</td>\n",
       "      <td>None</td>\n",
       "    </tr>\n",
       "    <tr>\n",
       "      <th>...</th>\n",
       "      <td>...</td>\n",
       "      <td>...</td>\n",
       "      <td>...</td>\n",
       "    </tr>\n",
       "    <tr>\n",
       "      <th>a5050600-95ef-43d8-a5fa-a57c791bf843_448853a4-f75e-403a-8fcb-8dfc18f0b4ec</th>\n",
       "      <td>Test antigénique réalisé cet après-midi à domi...</td>\n",
       "      <td>None</td>\n",
       "      <td>[99, 99]</td>\n",
       "    </tr>\n",
       "    <tr>\n",
       "      <th>2d035c4b-cdfa-4982-87dc-916fe07a0824_4fb0c6a1-0562-496a-ae88-1adadec059a6</th>\n",
       "      <td>Réalisation d'une prise de sang chez monsieur ...</td>\n",
       "      <td>None</td>\n",
       "      <td>[2, 24]</td>\n",
       "    </tr>\n",
       "    <tr>\n",
       "      <th>b96ad235-2f4f-4236-9aa3-9df85dfcf7cb_b8a5877a-b8ce-4347-b294-3aa46efbcb34</th>\n",
       "      <td>Ordonnance pour la préparation du pilulier en ...</td>\n",
       "      <td>None</td>\n",
       "      <td>[2, 1]</td>\n",
       "    </tr>\n",
       "    <tr>\n",
       "      <th>978eb126-14a0-46cf-bd27-44b6b77cecb7_01fc29bf-08c4-4e82-99be-8f9f24c5974b</th>\n",
       "      <td>Début des soins le 10 juin. Avec début des sou...</td>\n",
       "      <td>None</td>\n",
       "      <td>[6, 10]</td>\n",
       "    </tr>\n",
       "    <tr>\n",
       "      <th>2d035c4b-cdfa-4982-87dc-916fe07a0824_47d4e0f3-f2f0-4a19-9df1-8ab0894980f9</th>\n",
       "      <td>Prise de sang faite au domicile de la patiente...</td>\n",
       "      <td>None</td>\n",
       "      <td>None</td>\n",
       "    </tr>\n",
       "  </tbody>\n",
       "</table>\n",
       "<p>4029 rows × 3 columns</p>\n",
       "</div>"
      ],
      "text/plain": [
       "                                                                                          translation  \\\n",
       "fichier                                                                                                 \n",
       "9f980dcf-b431-4e67-876f-2b8e288b7900_3b5f3f01-e...  Prise de sang faite le 19 février à domicile p...   \n",
       "2d035c4b-cdfa-4982-87dc-916fe07a0824_710f4bda-b...  Pansement également refait le 23 mars par mylène.   \n",
       "b96ad235-2f4f-4236-9aa3-9df85dfcf7cb_ff1697c1-a...       Pcr plus prise de sang fait à domicile à 11.   \n",
       "3e7ffb67-8872-4172-bf18-4fe338ecae3f_6e8b49e5-4...  Prise de sang et analyse stérile des urines à ...   \n",
       "2d035c4b-cdfa-4982-87dc-916fe07a0824_56c749ad-e...  Bonjour, merci de renouveler cette ordonnance ...   \n",
       "...                                                                                               ...   \n",
       "a5050600-95ef-43d8-a5fa-a57c791bf843_448853a4-f...  Test antigénique réalisé cet après-midi à domi...   \n",
       "2d035c4b-cdfa-4982-87dc-916fe07a0824_4fb0c6a1-0...  Réalisation d'une prise de sang chez monsieur ...   \n",
       "b96ad235-2f4f-4236-9aa3-9df85dfcf7cb_b8a5877a-b...  Ordonnance pour la préparation du pilulier en ...   \n",
       "978eb126-14a0-46cf-bd27-44b6b77cecb7_01fc29bf-0...  Début des soins le 10 juin. Avec début des sou...   \n",
       "2d035c4b-cdfa-4982-87dc-916fe07a0824_47d4e0f3-f...  Prise de sang faite au domicile de la patiente...   \n",
       "\n",
       "                                                   Duration      Date  \n",
       "fichier                                                                \n",
       "9f980dcf-b431-4e67-876f-2b8e288b7900_3b5f3f01-e...     None   [4, 19]  \n",
       "2d035c4b-cdfa-4982-87dc-916fe07a0824_710f4bda-b...     None   [3, 23]  \n",
       "b96ad235-2f4f-4236-9aa3-9df85dfcf7cb_ff1697c1-a...     None      None  \n",
       "3e7ffb67-8872-4172-bf18-4fe338ecae3f_6e8b49e5-4...     None   [2, 18]  \n",
       "2d035c4b-cdfa-4982-87dc-916fe07a0824_56c749ad-e...     None      None  \n",
       "...                                                     ...       ...  \n",
       "a5050600-95ef-43d8-a5fa-a57c791bf843_448853a4-f...     None  [99, 99]  \n",
       "2d035c4b-cdfa-4982-87dc-916fe07a0824_4fb0c6a1-0...     None   [2, 24]  \n",
       "b96ad235-2f4f-4236-9aa3-9df85dfcf7cb_b8a5877a-b...     None    [2, 1]  \n",
       "978eb126-14a0-46cf-bd27-44b6b77cecb7_01fc29bf-0...     None   [6, 10]  \n",
       "2d035c4b-cdfa-4982-87dc-916fe07a0824_47d4e0f3-f...     None      None  \n",
       "\n",
       "[4029 rows x 3 columns]"
      ]
     },
     "execution_count": 41,
     "metadata": {},
     "output_type": "execute_result"
    }
   ],
   "source": [
    "df"
   ]
  },
  {
   "cell_type": "code",
   "execution_count": 42,
   "id": "f0f87734",
   "metadata": {},
   "outputs": [],
   "source": [
    "def test(x):\n",
    "    if x is None:\n",
    "        return None\n",
    "    return Duration().implicit_duration_1(x)"
   ]
  },
  {
   "cell_type": "code",
   "execution_count": 59,
   "id": "fcfdcff8",
   "metadata": {},
   "outputs": [],
   "source": [
    "df_temp = df.copy()"
   ]
  },
  {
   "cell_type": "code",
   "execution_count": 60,
   "id": "c4fb1ec7",
   "metadata": {
    "scrolled": true
   },
   "outputs": [
    {
     "ename": "TypeError",
     "evalue": "'str' object is not callable",
     "output_type": "error",
     "traceback": [
      "\u001b[0;31m---------------------------------------------------------------------------\u001b[0m",
      "\u001b[0;31mTypeError\u001b[0m                                 Traceback (most recent call last)",
      "Input \u001b[0;32mIn [60]\u001b[0m, in \u001b[0;36m<cell line: 1>\u001b[0;34m()\u001b[0m\n\u001b[0;32m----> 1\u001b[0m df_temp[\u001b[38;5;124m\"\u001b[39m\u001b[38;5;124mtest\u001b[39m\u001b[38;5;124m\"\u001b[39m] \u001b[38;5;241m=\u001b[39m \u001b[43mdf_temp\u001b[49m\u001b[43m[\u001b[49m\u001b[38;5;124;43m\"\u001b[39;49m\u001b[38;5;124;43mDuration\u001b[39;49m\u001b[38;5;124;43m\"\u001b[39;49m\u001b[43m]\u001b[49m\u001b[38;5;241;43m.\u001b[39;49m\u001b[43mapply\u001b[49m\u001b[43m(\u001b[49m\u001b[38;5;28;43;01mlambda\u001b[39;49;00m\u001b[43m \u001b[49m\u001b[43mx\u001b[49m\u001b[43m:\u001b[49m\u001b[43m \u001b[49m\u001b[43mtest\u001b[49m\u001b[43m(\u001b[49m\u001b[43mx\u001b[49m\u001b[43m)\u001b[49m\u001b[43m)\u001b[49m\n",
      "File \u001b[0;32m~/.pyenv/versions/3.8.12/envs/ephesus/lib/python3.8/site-packages/pandas/core/series.py:4433\u001b[0m, in \u001b[0;36mSeries.apply\u001b[0;34m(self, func, convert_dtype, args, **kwargs)\u001b[0m\n\u001b[1;32m   4323\u001b[0m \u001b[38;5;28;01mdef\u001b[39;00m \u001b[38;5;21mapply\u001b[39m(\n\u001b[1;32m   4324\u001b[0m     \u001b[38;5;28mself\u001b[39m,\n\u001b[1;32m   4325\u001b[0m     func: AggFuncType,\n\u001b[0;32m   (...)\u001b[0m\n\u001b[1;32m   4328\u001b[0m     \u001b[38;5;241m*\u001b[39m\u001b[38;5;241m*\u001b[39mkwargs,\n\u001b[1;32m   4329\u001b[0m ) \u001b[38;5;241m-\u001b[39m\u001b[38;5;241m>\u001b[39m DataFrame \u001b[38;5;241m|\u001b[39m Series:\n\u001b[1;32m   4330\u001b[0m     \u001b[38;5;124;03m\"\"\"\u001b[39;00m\n\u001b[1;32m   4331\u001b[0m \u001b[38;5;124;03m    Invoke function on values of Series.\u001b[39;00m\n\u001b[1;32m   4332\u001b[0m \n\u001b[0;32m   (...)\u001b[0m\n\u001b[1;32m   4431\u001b[0m \u001b[38;5;124;03m    dtype: float64\u001b[39;00m\n\u001b[1;32m   4432\u001b[0m \u001b[38;5;124;03m    \"\"\"\u001b[39;00m\n\u001b[0;32m-> 4433\u001b[0m     \u001b[38;5;28;01mreturn\u001b[39;00m \u001b[43mSeriesApply\u001b[49m\u001b[43m(\u001b[49m\u001b[38;5;28;43mself\u001b[39;49m\u001b[43m,\u001b[49m\u001b[43m \u001b[49m\u001b[43mfunc\u001b[49m\u001b[43m,\u001b[49m\u001b[43m \u001b[49m\u001b[43mconvert_dtype\u001b[49m\u001b[43m,\u001b[49m\u001b[43m \u001b[49m\u001b[43margs\u001b[49m\u001b[43m,\u001b[49m\u001b[43m \u001b[49m\u001b[43mkwargs\u001b[49m\u001b[43m)\u001b[49m\u001b[38;5;241;43m.\u001b[39;49m\u001b[43mapply\u001b[49m\u001b[43m(\u001b[49m\u001b[43m)\u001b[49m\n",
      "File \u001b[0;32m~/.pyenv/versions/3.8.12/envs/ephesus/lib/python3.8/site-packages/pandas/core/apply.py:1082\u001b[0m, in \u001b[0;36mSeriesApply.apply\u001b[0;34m(self)\u001b[0m\n\u001b[1;32m   1078\u001b[0m \u001b[38;5;28;01mif\u001b[39;00m \u001b[38;5;28misinstance\u001b[39m(\u001b[38;5;28mself\u001b[39m\u001b[38;5;241m.\u001b[39mf, \u001b[38;5;28mstr\u001b[39m):\n\u001b[1;32m   1079\u001b[0m     \u001b[38;5;66;03m# if we are a string, try to dispatch\u001b[39;00m\n\u001b[1;32m   1080\u001b[0m     \u001b[38;5;28;01mreturn\u001b[39;00m \u001b[38;5;28mself\u001b[39m\u001b[38;5;241m.\u001b[39mapply_str()\n\u001b[0;32m-> 1082\u001b[0m \u001b[38;5;28;01mreturn\u001b[39;00m \u001b[38;5;28;43mself\u001b[39;49m\u001b[38;5;241;43m.\u001b[39;49m\u001b[43mapply_standard\u001b[49m\u001b[43m(\u001b[49m\u001b[43m)\u001b[49m\n",
      "File \u001b[0;32m~/.pyenv/versions/3.8.12/envs/ephesus/lib/python3.8/site-packages/pandas/core/apply.py:1137\u001b[0m, in \u001b[0;36mSeriesApply.apply_standard\u001b[0;34m(self)\u001b[0m\n\u001b[1;32m   1131\u001b[0m         values \u001b[38;5;241m=\u001b[39m obj\u001b[38;5;241m.\u001b[39mastype(\u001b[38;5;28mobject\u001b[39m)\u001b[38;5;241m.\u001b[39m_values\n\u001b[1;32m   1132\u001b[0m         \u001b[38;5;66;03m# error: Argument 2 to \"map_infer\" has incompatible type\u001b[39;00m\n\u001b[1;32m   1133\u001b[0m         \u001b[38;5;66;03m# \"Union[Callable[..., Any], str, List[Union[Callable[..., Any], str]],\u001b[39;00m\n\u001b[1;32m   1134\u001b[0m         \u001b[38;5;66;03m# Dict[Hashable, Union[Union[Callable[..., Any], str],\u001b[39;00m\n\u001b[1;32m   1135\u001b[0m         \u001b[38;5;66;03m# List[Union[Callable[..., Any], str]]]]]\"; expected\u001b[39;00m\n\u001b[1;32m   1136\u001b[0m         \u001b[38;5;66;03m# \"Callable[[Any], Any]\"\u001b[39;00m\n\u001b[0;32m-> 1137\u001b[0m         mapped \u001b[38;5;241m=\u001b[39m \u001b[43mlib\u001b[49m\u001b[38;5;241;43m.\u001b[39;49m\u001b[43mmap_infer\u001b[49m\u001b[43m(\u001b[49m\n\u001b[1;32m   1138\u001b[0m \u001b[43m            \u001b[49m\u001b[43mvalues\u001b[49m\u001b[43m,\u001b[49m\n\u001b[1;32m   1139\u001b[0m \u001b[43m            \u001b[49m\u001b[43mf\u001b[49m\u001b[43m,\u001b[49m\u001b[43m  \u001b[49m\u001b[38;5;66;43;03m# type: ignore[arg-type]\u001b[39;49;00m\n\u001b[1;32m   1140\u001b[0m \u001b[43m            \u001b[49m\u001b[43mconvert\u001b[49m\u001b[38;5;241;43m=\u001b[39;49m\u001b[38;5;28;43mself\u001b[39;49m\u001b[38;5;241;43m.\u001b[39;49m\u001b[43mconvert_dtype\u001b[49m\u001b[43m,\u001b[49m\n\u001b[1;32m   1141\u001b[0m \u001b[43m        \u001b[49m\u001b[43m)\u001b[49m\n\u001b[1;32m   1143\u001b[0m \u001b[38;5;28;01mif\u001b[39;00m \u001b[38;5;28mlen\u001b[39m(mapped) \u001b[38;5;129;01mand\u001b[39;00m \u001b[38;5;28misinstance\u001b[39m(mapped[\u001b[38;5;241m0\u001b[39m], ABCSeries):\n\u001b[1;32m   1144\u001b[0m     \u001b[38;5;66;03m# GH#43986 Need to do list(mapped) in order to get treated as nested\u001b[39;00m\n\u001b[1;32m   1145\u001b[0m     \u001b[38;5;66;03m#  See also GH#25959 regarding EA support\u001b[39;00m\n\u001b[1;32m   1146\u001b[0m     \u001b[38;5;28;01mreturn\u001b[39;00m obj\u001b[38;5;241m.\u001b[39m_constructor_expanddim(\u001b[38;5;28mlist\u001b[39m(mapped), index\u001b[38;5;241m=\u001b[39mobj\u001b[38;5;241m.\u001b[39mindex)\n",
      "File \u001b[0;32m~/.pyenv/versions/3.8.12/envs/ephesus/lib/python3.8/site-packages/pandas/_libs/lib.pyx:2870\u001b[0m, in \u001b[0;36mpandas._libs.lib.map_infer\u001b[0;34m()\u001b[0m\n",
      "Input \u001b[0;32mIn [60]\u001b[0m, in \u001b[0;36m<lambda>\u001b[0;34m(x)\u001b[0m\n\u001b[0;32m----> 1\u001b[0m df_temp[\u001b[38;5;124m\"\u001b[39m\u001b[38;5;124mtest\u001b[39m\u001b[38;5;124m\"\u001b[39m] \u001b[38;5;241m=\u001b[39m df_temp[\u001b[38;5;124m\"\u001b[39m\u001b[38;5;124mDuration\u001b[39m\u001b[38;5;124m\"\u001b[39m]\u001b[38;5;241m.\u001b[39mapply(\u001b[38;5;28;01mlambda\u001b[39;00m x: \u001b[43mtest\u001b[49m\u001b[43m(\u001b[49m\u001b[43mx\u001b[49m\u001b[43m)\u001b[49m)\n",
      "\u001b[0;31mTypeError\u001b[0m: 'str' object is not callable"
     ]
    }
   ],
   "source": [
    "df_temp[\"test\"] = df_temp[\"Duration\"].apply(lambda x: test(x))"
   ]
  },
  {
   "cell_type": "code",
   "execution_count": 61,
   "id": "57c5496c",
   "metadata": {},
   "outputs": [
    {
     "data": {
      "text/plain": [
       "translation       0\n",
       "Duration       3655\n",
       "Date            652\n",
       "dtype: int64"
      ]
     },
     "execution_count": 61,
     "metadata": {},
     "output_type": "execute_result"
    }
   ],
   "source": [
    "df_temp.isna().sum()"
   ]
  },
  {
   "cell_type": "code",
   "execution_count": 46,
   "id": "60895a58",
   "metadata": {},
   "outputs": [
    {
     "data": {
      "text/html": [
       "<div>\n",
       "<style scoped>\n",
       "    .dataframe tbody tr th:only-of-type {\n",
       "        vertical-align: middle;\n",
       "    }\n",
       "\n",
       "    .dataframe tbody tr th {\n",
       "        vertical-align: top;\n",
       "    }\n",
       "\n",
       "    .dataframe thead th {\n",
       "        text-align: right;\n",
       "    }\n",
       "</style>\n",
       "<table border=\"1\" class=\"dataframe\">\n",
       "  <thead>\n",
       "    <tr style=\"text-align: right;\">\n",
       "      <th></th>\n",
       "      <th>data</th>\n",
       "      <th>day</th>\n",
       "      <th>month</th>\n",
       "      <th>year</th>\n",
       "      <th>day_of_week</th>\n",
       "      <th>day_from_today</th>\n",
       "    </tr>\n",
       "  </thead>\n",
       "  <tbody>\n",
       "    <tr>\n",
       "      <th>0</th>\n",
       "      <td>[jusqu, 6, 6, 2022]</td>\n",
       "      <td>6</td>\n",
       "      <td>6</td>\n",
       "      <td>2022</td>\n",
       "      <td>99</td>\n",
       "      <td>99</td>\n",
       "    </tr>\n",
       "  </tbody>\n",
       "</table>\n",
       "</div>"
      ],
      "text/plain": [
       "                  data  day  month  year  day_of_week  day_from_today\n",
       "0  [jusqu, 6, 6, 2022]    6      6  2022           99              99"
      ]
     },
     "execution_count": 46,
     "metadata": {},
     "output_type": "execute_result"
    }
   ],
   "source": [
    "test = \"jusqu'au 6/6/2022\"\n",
    "df_blabla = Date().transform_data(test)\n",
    "df_blabla"
   ]
  },
  {
   "cell_type": "code",
   "execution_count": 47,
   "id": "6f8135c9",
   "metadata": {},
   "outputs": [
    {
     "data": {
      "text/html": [
       "<div>\n",
       "<style scoped>\n",
       "    .dataframe tbody tr th:only-of-type {\n",
       "        vertical-align: middle;\n",
       "    }\n",
       "\n",
       "    .dataframe tbody tr th {\n",
       "        vertical-align: top;\n",
       "    }\n",
       "\n",
       "    .dataframe thead th {\n",
       "        text-align: right;\n",
       "    }\n",
       "</style>\n",
       "<table border=\"1\" class=\"dataframe\">\n",
       "  <thead>\n",
       "    <tr style=\"text-align: right;\">\n",
       "      <th></th>\n",
       "      <th>CareDuration</th>\n",
       "      <th>CareDurationType</th>\n",
       "      <th>CareEnd</th>\n",
       "    </tr>\n",
       "  </thead>\n",
       "  <tbody>\n",
       "    <tr>\n",
       "      <th>0</th>\n",
       "      <td>4</td>\n",
       "      <td>Days</td>\n",
       "      <td>6 juin</td>\n",
       "    </tr>\n",
       "  </tbody>\n",
       "</table>\n",
       "</div>"
      ],
      "text/plain": [
       "   CareDuration CareDurationType CareEnd\n",
       "0             4             Days  6 juin"
      ]
     },
     "execution_count": 47,
     "metadata": {},
     "output_type": "execute_result"
    }
   ],
   "source": [
    "Duration().implicit_duration_1(test, [6,2], df=True)"
   ]
  },
  {
   "cell_type": "code",
   "execution_count": 48,
   "id": "ce4071f2",
   "metadata": {},
   "outputs": [],
   "source": [
    "test = \"jusqu'au 10 juin\""
   ]
  },
  {
   "cell_type": "code",
   "execution_count": 49,
   "id": "ffe75e5b",
   "metadata": {},
   "outputs": [
    {
     "data": {
      "text/html": [
       "<div>\n",
       "<style scoped>\n",
       "    .dataframe tbody tr th:only-of-type {\n",
       "        vertical-align: middle;\n",
       "    }\n",
       "\n",
       "    .dataframe tbody tr th {\n",
       "        vertical-align: top;\n",
       "    }\n",
       "\n",
       "    .dataframe thead th {\n",
       "        text-align: right;\n",
       "    }\n",
       "</style>\n",
       "<table border=\"1\" class=\"dataframe\">\n",
       "  <thead>\n",
       "    <tr style=\"text-align: right;\">\n",
       "      <th></th>\n",
       "      <th>CareDuration</th>\n",
       "      <th>CareDurationType</th>\n",
       "      <th>CareEnd</th>\n",
       "    </tr>\n",
       "  </thead>\n",
       "  <tbody>\n",
       "    <tr>\n",
       "      <th>0</th>\n",
       "      <td>NaN</td>\n",
       "      <td>NaN</td>\n",
       "      <td>10 juin</td>\n",
       "    </tr>\n",
       "  </tbody>\n",
       "</table>\n",
       "</div>"
      ],
      "text/plain": [
       "   CareDuration  CareDurationType  CareEnd\n",
       "0           NaN               NaN  10 juin"
      ]
     },
     "execution_count": 49,
     "metadata": {},
     "output_type": "execute_result"
    }
   ],
   "source": [
    "Duration().get_duration(test, [6,99], df=True)"
   ]
  },
  {
   "cell_type": "code",
   "execution_count": 50,
   "id": "9b0d3786",
   "metadata": {},
   "outputs": [
    {
     "data": {
      "text/html": [
       "<div>\n",
       "<style scoped>\n",
       "    .dataframe tbody tr th:only-of-type {\n",
       "        vertical-align: middle;\n",
       "    }\n",
       "\n",
       "    .dataframe tbody tr th {\n",
       "        vertical-align: top;\n",
       "    }\n",
       "\n",
       "    .dataframe thead th {\n",
       "        text-align: right;\n",
       "    }\n",
       "</style>\n",
       "<table border=\"1\" class=\"dataframe\">\n",
       "  <thead>\n",
       "    <tr style=\"text-align: right;\">\n",
       "      <th></th>\n",
       "      <th>translation</th>\n",
       "      <th>Duration</th>\n",
       "      <th>Date</th>\n",
       "    </tr>\n",
       "    <tr>\n",
       "      <th>fichier</th>\n",
       "      <th></th>\n",
       "      <th></th>\n",
       "      <th></th>\n",
       "    </tr>\n",
       "  </thead>\n",
       "  <tbody>\n",
       "    <tr>\n",
       "      <th>9f980dcf-b431-4e67-876f-2b8e288b7900_3b5f3f01-e244-4398-8388-19fb5058c9c1</th>\n",
       "      <td>Prise de sang faite le 19 février à domicile p...</td>\n",
       "      <td>None</td>\n",
       "      <td>[4, 19]</td>\n",
       "    </tr>\n",
       "    <tr>\n",
       "      <th>2d035c4b-cdfa-4982-87dc-916fe07a0824_710f4bda-ba21-434f-883e-1b72df7ea27a</th>\n",
       "      <td>Pansement également refait le 23 mars par mylène.</td>\n",
       "      <td>None</td>\n",
       "      <td>[3, 23]</td>\n",
       "    </tr>\n",
       "    <tr>\n",
       "      <th>b96ad235-2f4f-4236-9aa3-9df85dfcf7cb_ff1697c1-a01f-4eb5-a1c2-b95205dc389a</th>\n",
       "      <td>Pcr plus prise de sang fait à domicile à 11.</td>\n",
       "      <td>None</td>\n",
       "      <td>None</td>\n",
       "    </tr>\n",
       "    <tr>\n",
       "      <th>3e7ffb67-8872-4172-bf18-4fe338ecae3f_6e8b49e5-4213-45da-bad6-158592c7f731</th>\n",
       "      <td>Prise de sang et analyse stérile des urines à ...</td>\n",
       "      <td>None</td>\n",
       "      <td>[2, 18]</td>\n",
       "    </tr>\n",
       "    <tr>\n",
       "      <th>2d035c4b-cdfa-4982-87dc-916fe07a0824_56c749ad-eed8-407a-ae9e-a17ebf420cf4</th>\n",
       "      <td>Bonjour, merci de renouveler cette ordonnance ...</td>\n",
       "      <td>None</td>\n",
       "      <td>None</td>\n",
       "    </tr>\n",
       "    <tr>\n",
       "      <th>...</th>\n",
       "      <td>...</td>\n",
       "      <td>...</td>\n",
       "      <td>...</td>\n",
       "    </tr>\n",
       "    <tr>\n",
       "      <th>a5050600-95ef-43d8-a5fa-a57c791bf843_448853a4-f75e-403a-8fcb-8dfc18f0b4ec</th>\n",
       "      <td>Test antigénique réalisé cet après-midi à domi...</td>\n",
       "      <td>None</td>\n",
       "      <td>[99, 99]</td>\n",
       "    </tr>\n",
       "    <tr>\n",
       "      <th>2d035c4b-cdfa-4982-87dc-916fe07a0824_4fb0c6a1-0562-496a-ae88-1adadec059a6</th>\n",
       "      <td>Réalisation d'une prise de sang chez monsieur ...</td>\n",
       "      <td>None</td>\n",
       "      <td>[2, 24]</td>\n",
       "    </tr>\n",
       "    <tr>\n",
       "      <th>b96ad235-2f4f-4236-9aa3-9df85dfcf7cb_b8a5877a-b8ce-4347-b294-3aa46efbcb34</th>\n",
       "      <td>Ordonnance pour la préparation du pilulier en ...</td>\n",
       "      <td>None</td>\n",
       "      <td>[2, 1]</td>\n",
       "    </tr>\n",
       "    <tr>\n",
       "      <th>978eb126-14a0-46cf-bd27-44b6b77cecb7_01fc29bf-08c4-4e82-99be-8f9f24c5974b</th>\n",
       "      <td>Début des soins le 10 juin. Avec début des sou...</td>\n",
       "      <td>None</td>\n",
       "      <td>[6, 10]</td>\n",
       "    </tr>\n",
       "    <tr>\n",
       "      <th>2d035c4b-cdfa-4982-87dc-916fe07a0824_47d4e0f3-f2f0-4a19-9df1-8ab0894980f9</th>\n",
       "      <td>Prise de sang faite au domicile de la patiente...</td>\n",
       "      <td>None</td>\n",
       "      <td>None</td>\n",
       "    </tr>\n",
       "  </tbody>\n",
       "</table>\n",
       "<p>4029 rows × 3 columns</p>\n",
       "</div>"
      ],
      "text/plain": [
       "                                                                                          translation  \\\n",
       "fichier                                                                                                 \n",
       "9f980dcf-b431-4e67-876f-2b8e288b7900_3b5f3f01-e...  Prise de sang faite le 19 février à domicile p...   \n",
       "2d035c4b-cdfa-4982-87dc-916fe07a0824_710f4bda-b...  Pansement également refait le 23 mars par mylène.   \n",
       "b96ad235-2f4f-4236-9aa3-9df85dfcf7cb_ff1697c1-a...       Pcr plus prise de sang fait à domicile à 11.   \n",
       "3e7ffb67-8872-4172-bf18-4fe338ecae3f_6e8b49e5-4...  Prise de sang et analyse stérile des urines à ...   \n",
       "2d035c4b-cdfa-4982-87dc-916fe07a0824_56c749ad-e...  Bonjour, merci de renouveler cette ordonnance ...   \n",
       "...                                                                                               ...   \n",
       "a5050600-95ef-43d8-a5fa-a57c791bf843_448853a4-f...  Test antigénique réalisé cet après-midi à domi...   \n",
       "2d035c4b-cdfa-4982-87dc-916fe07a0824_4fb0c6a1-0...  Réalisation d'une prise de sang chez monsieur ...   \n",
       "b96ad235-2f4f-4236-9aa3-9df85dfcf7cb_b8a5877a-b...  Ordonnance pour la préparation du pilulier en ...   \n",
       "978eb126-14a0-46cf-bd27-44b6b77cecb7_01fc29bf-0...  Début des soins le 10 juin. Avec début des sou...   \n",
       "2d035c4b-cdfa-4982-87dc-916fe07a0824_47d4e0f3-f...  Prise de sang faite au domicile de la patiente...   \n",
       "\n",
       "                                                   Duration      Date  \n",
       "fichier                                                                \n",
       "9f980dcf-b431-4e67-876f-2b8e288b7900_3b5f3f01-e...     None   [4, 19]  \n",
       "2d035c4b-cdfa-4982-87dc-916fe07a0824_710f4bda-b...     None   [3, 23]  \n",
       "b96ad235-2f4f-4236-9aa3-9df85dfcf7cb_ff1697c1-a...     None      None  \n",
       "3e7ffb67-8872-4172-bf18-4fe338ecae3f_6e8b49e5-4...     None   [2, 18]  \n",
       "2d035c4b-cdfa-4982-87dc-916fe07a0824_56c749ad-e...     None      None  \n",
       "...                                                     ...       ...  \n",
       "a5050600-95ef-43d8-a5fa-a57c791bf843_448853a4-f...     None  [99, 99]  \n",
       "2d035c4b-cdfa-4982-87dc-916fe07a0824_4fb0c6a1-0...     None   [2, 24]  \n",
       "b96ad235-2f4f-4236-9aa3-9df85dfcf7cb_b8a5877a-b...     None    [2, 1]  \n",
       "978eb126-14a0-46cf-bd27-44b6b77cecb7_01fc29bf-0...     None   [6, 10]  \n",
       "2d035c4b-cdfa-4982-87dc-916fe07a0824_47d4e0f3-f...     None      None  \n",
       "\n",
       "[4029 rows x 3 columns]"
      ]
     },
     "execution_count": 50,
     "metadata": {},
     "output_type": "execute_result"
    }
   ],
   "source": [
    "df"
   ]
  },
  {
   "cell_type": "code",
   "execution_count": 95,
   "id": "6774832b",
   "metadata": {},
   "outputs": [],
   "source": [
    "df_temp = df.copy()"
   ]
  },
  {
   "cell_type": "code",
   "execution_count": 98,
   "id": "6bfb8878",
   "metadata": {},
   "outputs": [
    {
     "data": {
      "text/plain": [
       "translation       0\n",
       "Duration       3655\n",
       "Date            652\n",
       "dtype: int64"
      ]
     },
     "execution_count": 98,
     "metadata": {},
     "output_type": "execute_result"
    }
   ],
   "source": [
    "df_temp.isna().sum()"
   ]
  },
  {
   "cell_type": "code",
   "execution_count": 101,
   "id": "b7a922b9",
   "metadata": {},
   "outputs": [
    {
     "name": "stdout",
     "output_type": "stream",
     "text": [
      "{'CareDuration': [nan], 'CareDurationType': [nan], 'CareEnd': [nan]}\n"
     ]
    }
   ],
   "source": [
    "print(Duration().get_duration('ma bite'))"
   ]
  },
  {
   "cell_type": "code",
   "execution_count": 97,
   "id": "038dca1c",
   "metadata": {},
   "outputs": [
    {
     "ename": "TypeError",
     "evalue": "'NoneType' object is not subscriptable",
     "output_type": "error",
     "traceback": [
      "\u001b[0;31m---------------------------------------------------------------------------\u001b[0m",
      "\u001b[0;31mTypeError\u001b[0m                                 Traceback (most recent call last)",
      "Input \u001b[0;32mIn [97]\u001b[0m, in \u001b[0;36m<cell line: 1>\u001b[0;34m()\u001b[0m\n\u001b[0;32m----> 1\u001b[0m test \u001b[38;5;241m=\u001b[39m \u001b[43mDuration\u001b[49m\u001b[43m(\u001b[49m\u001b[43m)\u001b[49m\u001b[38;5;241;43m.\u001b[39;49m\u001b[43mapply_to_df\u001b[49m\u001b[43m(\u001b[49m\u001b[43mdf_temp\u001b[49m\u001b[43m)\u001b[49m\n\u001b[1;32m      2\u001b[0m test\n",
      "File \u001b[0;32m~/code/GeoffroyGit/ephesus/ephesus/duration.py:191\u001b[0m, in \u001b[0;36mDuration.apply_to_df\u001b[0;34m(self, df)\u001b[0m\n\u001b[1;32m    189\u001b[0m df \u001b[38;5;241m=\u001b[39m df\u001b[38;5;241m.\u001b[39mcopy()\n\u001b[1;32m    190\u001b[0m df[\u001b[38;5;124m'\u001b[39m\u001b[38;5;124mtemp\u001b[39m\u001b[38;5;124m'\u001b[39m] \u001b[38;5;241m=\u001b[39m df\u001b[38;5;241m.\u001b[39mDuration\u001b[38;5;241m.\u001b[39mcombine(df\u001b[38;5;241m.\u001b[39mDate, func\u001b[38;5;241m=\u001b[39m\u001b[38;5;28mself\u001b[39m\u001b[38;5;241m.\u001b[39mget_duration)\n\u001b[0;32m--> 191\u001b[0m df[\u001b[38;5;124m'\u001b[39m\u001b[38;5;124mCareDuration\u001b[39m\u001b[38;5;124m'\u001b[39m] \u001b[38;5;241m=\u001b[39m  \u001b[43mdf\u001b[49m\u001b[43m[\u001b[49m\u001b[38;5;124;43m\"\u001b[39;49m\u001b[38;5;124;43mtemp\u001b[39;49m\u001b[38;5;124;43m\"\u001b[39;49m\u001b[43m]\u001b[49m\u001b[38;5;241;43m.\u001b[39;49m\u001b[43mapply\u001b[49m\u001b[43m(\u001b[49m\u001b[38;5;28;43;01mlambda\u001b[39;49;00m\u001b[43m \u001b[49m\u001b[43mx\u001b[49m\u001b[43m:\u001b[49m\u001b[43m \u001b[49m\u001b[43mx\u001b[49m\u001b[43m[\u001b[49m\u001b[38;5;124;43m\"\u001b[39;49m\u001b[38;5;124;43mCareDuration\u001b[39;49m\u001b[38;5;124;43m\"\u001b[39;49m\u001b[43m]\u001b[49m\u001b[43m[\u001b[49m\u001b[38;5;241;43m0\u001b[39;49m\u001b[43m]\u001b[49m\u001b[43m)\u001b[49m\n\u001b[1;32m    192\u001b[0m df[\u001b[38;5;124m'\u001b[39m\u001b[38;5;124mCareDurationType\u001b[39m\u001b[38;5;124m'\u001b[39m] \u001b[38;5;241m=\u001b[39m  df[\u001b[38;5;124m\"\u001b[39m\u001b[38;5;124mtemp\u001b[39m\u001b[38;5;124m\"\u001b[39m]\u001b[38;5;241m.\u001b[39mapply(\u001b[38;5;28;01mlambda\u001b[39;00m x: x[\u001b[38;5;124m\"\u001b[39m\u001b[38;5;124mCareDurationType\u001b[39m\u001b[38;5;124m\"\u001b[39m][\u001b[38;5;241m0\u001b[39m])\n\u001b[1;32m    193\u001b[0m df[\u001b[38;5;124m'\u001b[39m\u001b[38;5;124mCareEnd\u001b[39m\u001b[38;5;124m'\u001b[39m] \u001b[38;5;241m=\u001b[39m  df[\u001b[38;5;124m\"\u001b[39m\u001b[38;5;124mtemp\u001b[39m\u001b[38;5;124m\"\u001b[39m]\u001b[38;5;241m.\u001b[39mapply(\u001b[38;5;28;01mlambda\u001b[39;00m x: x[\u001b[38;5;124m\"\u001b[39m\u001b[38;5;124mCareEnd\u001b[39m\u001b[38;5;124m\"\u001b[39m][\u001b[38;5;241m0\u001b[39m])\n",
      "File \u001b[0;32m~/.pyenv/versions/3.8.12/envs/ephesus/lib/python3.8/site-packages/pandas/core/series.py:4433\u001b[0m, in \u001b[0;36mSeries.apply\u001b[0;34m(self, func, convert_dtype, args, **kwargs)\u001b[0m\n\u001b[1;32m   4323\u001b[0m \u001b[38;5;28;01mdef\u001b[39;00m \u001b[38;5;21mapply\u001b[39m(\n\u001b[1;32m   4324\u001b[0m     \u001b[38;5;28mself\u001b[39m,\n\u001b[1;32m   4325\u001b[0m     func: AggFuncType,\n\u001b[0;32m   (...)\u001b[0m\n\u001b[1;32m   4328\u001b[0m     \u001b[38;5;241m*\u001b[39m\u001b[38;5;241m*\u001b[39mkwargs,\n\u001b[1;32m   4329\u001b[0m ) \u001b[38;5;241m-\u001b[39m\u001b[38;5;241m>\u001b[39m DataFrame \u001b[38;5;241m|\u001b[39m Series:\n\u001b[1;32m   4330\u001b[0m     \u001b[38;5;124;03m\"\"\"\u001b[39;00m\n\u001b[1;32m   4331\u001b[0m \u001b[38;5;124;03m    Invoke function on values of Series.\u001b[39;00m\n\u001b[1;32m   4332\u001b[0m \n\u001b[0;32m   (...)\u001b[0m\n\u001b[1;32m   4431\u001b[0m \u001b[38;5;124;03m    dtype: float64\u001b[39;00m\n\u001b[1;32m   4432\u001b[0m \u001b[38;5;124;03m    \"\"\"\u001b[39;00m\n\u001b[0;32m-> 4433\u001b[0m     \u001b[38;5;28;01mreturn\u001b[39;00m \u001b[43mSeriesApply\u001b[49m\u001b[43m(\u001b[49m\u001b[38;5;28;43mself\u001b[39;49m\u001b[43m,\u001b[49m\u001b[43m \u001b[49m\u001b[43mfunc\u001b[49m\u001b[43m,\u001b[49m\u001b[43m \u001b[49m\u001b[43mconvert_dtype\u001b[49m\u001b[43m,\u001b[49m\u001b[43m \u001b[49m\u001b[43margs\u001b[49m\u001b[43m,\u001b[49m\u001b[43m \u001b[49m\u001b[43mkwargs\u001b[49m\u001b[43m)\u001b[49m\u001b[38;5;241;43m.\u001b[39;49m\u001b[43mapply\u001b[49m\u001b[43m(\u001b[49m\u001b[43m)\u001b[49m\n",
      "File \u001b[0;32m~/.pyenv/versions/3.8.12/envs/ephesus/lib/python3.8/site-packages/pandas/core/apply.py:1082\u001b[0m, in \u001b[0;36mSeriesApply.apply\u001b[0;34m(self)\u001b[0m\n\u001b[1;32m   1078\u001b[0m \u001b[38;5;28;01mif\u001b[39;00m \u001b[38;5;28misinstance\u001b[39m(\u001b[38;5;28mself\u001b[39m\u001b[38;5;241m.\u001b[39mf, \u001b[38;5;28mstr\u001b[39m):\n\u001b[1;32m   1079\u001b[0m     \u001b[38;5;66;03m# if we are a string, try to dispatch\u001b[39;00m\n\u001b[1;32m   1080\u001b[0m     \u001b[38;5;28;01mreturn\u001b[39;00m \u001b[38;5;28mself\u001b[39m\u001b[38;5;241m.\u001b[39mapply_str()\n\u001b[0;32m-> 1082\u001b[0m \u001b[38;5;28;01mreturn\u001b[39;00m \u001b[38;5;28;43mself\u001b[39;49m\u001b[38;5;241;43m.\u001b[39;49m\u001b[43mapply_standard\u001b[49m\u001b[43m(\u001b[49m\u001b[43m)\u001b[49m\n",
      "File \u001b[0;32m~/.pyenv/versions/3.8.12/envs/ephesus/lib/python3.8/site-packages/pandas/core/apply.py:1137\u001b[0m, in \u001b[0;36mSeriesApply.apply_standard\u001b[0;34m(self)\u001b[0m\n\u001b[1;32m   1131\u001b[0m         values \u001b[38;5;241m=\u001b[39m obj\u001b[38;5;241m.\u001b[39mastype(\u001b[38;5;28mobject\u001b[39m)\u001b[38;5;241m.\u001b[39m_values\n\u001b[1;32m   1132\u001b[0m         \u001b[38;5;66;03m# error: Argument 2 to \"map_infer\" has incompatible type\u001b[39;00m\n\u001b[1;32m   1133\u001b[0m         \u001b[38;5;66;03m# \"Union[Callable[..., Any], str, List[Union[Callable[..., Any], str]],\u001b[39;00m\n\u001b[1;32m   1134\u001b[0m         \u001b[38;5;66;03m# Dict[Hashable, Union[Union[Callable[..., Any], str],\u001b[39;00m\n\u001b[1;32m   1135\u001b[0m         \u001b[38;5;66;03m# List[Union[Callable[..., Any], str]]]]]\"; expected\u001b[39;00m\n\u001b[1;32m   1136\u001b[0m         \u001b[38;5;66;03m# \"Callable[[Any], Any]\"\u001b[39;00m\n\u001b[0;32m-> 1137\u001b[0m         mapped \u001b[38;5;241m=\u001b[39m \u001b[43mlib\u001b[49m\u001b[38;5;241;43m.\u001b[39;49m\u001b[43mmap_infer\u001b[49m\u001b[43m(\u001b[49m\n\u001b[1;32m   1138\u001b[0m \u001b[43m            \u001b[49m\u001b[43mvalues\u001b[49m\u001b[43m,\u001b[49m\n\u001b[1;32m   1139\u001b[0m \u001b[43m            \u001b[49m\u001b[43mf\u001b[49m\u001b[43m,\u001b[49m\u001b[43m  \u001b[49m\u001b[38;5;66;43;03m# type: ignore[arg-type]\u001b[39;49;00m\n\u001b[1;32m   1140\u001b[0m \u001b[43m            \u001b[49m\u001b[43mconvert\u001b[49m\u001b[38;5;241;43m=\u001b[39;49m\u001b[38;5;28;43mself\u001b[39;49m\u001b[38;5;241;43m.\u001b[39;49m\u001b[43mconvert_dtype\u001b[49m\u001b[43m,\u001b[49m\n\u001b[1;32m   1141\u001b[0m \u001b[43m        \u001b[49m\u001b[43m)\u001b[49m\n\u001b[1;32m   1143\u001b[0m \u001b[38;5;28;01mif\u001b[39;00m \u001b[38;5;28mlen\u001b[39m(mapped) \u001b[38;5;129;01mand\u001b[39;00m \u001b[38;5;28misinstance\u001b[39m(mapped[\u001b[38;5;241m0\u001b[39m], ABCSeries):\n\u001b[1;32m   1144\u001b[0m     \u001b[38;5;66;03m# GH#43986 Need to do list(mapped) in order to get treated as nested\u001b[39;00m\n\u001b[1;32m   1145\u001b[0m     \u001b[38;5;66;03m#  See also GH#25959 regarding EA support\u001b[39;00m\n\u001b[1;32m   1146\u001b[0m     \u001b[38;5;28;01mreturn\u001b[39;00m obj\u001b[38;5;241m.\u001b[39m_constructor_expanddim(\u001b[38;5;28mlist\u001b[39m(mapped), index\u001b[38;5;241m=\u001b[39mobj\u001b[38;5;241m.\u001b[39mindex)\n",
      "File \u001b[0;32m~/.pyenv/versions/3.8.12/envs/ephesus/lib/python3.8/site-packages/pandas/_libs/lib.pyx:2870\u001b[0m, in \u001b[0;36mpandas._libs.lib.map_infer\u001b[0;34m()\u001b[0m\n",
      "File \u001b[0;32m~/code/GeoffroyGit/ephesus/ephesus/duration.py:191\u001b[0m, in \u001b[0;36mDuration.apply_to_df.<locals>.<lambda>\u001b[0;34m(x)\u001b[0m\n\u001b[1;32m    189\u001b[0m df \u001b[38;5;241m=\u001b[39m df\u001b[38;5;241m.\u001b[39mcopy()\n\u001b[1;32m    190\u001b[0m df[\u001b[38;5;124m'\u001b[39m\u001b[38;5;124mtemp\u001b[39m\u001b[38;5;124m'\u001b[39m] \u001b[38;5;241m=\u001b[39m df\u001b[38;5;241m.\u001b[39mDuration\u001b[38;5;241m.\u001b[39mcombine(df\u001b[38;5;241m.\u001b[39mDate, func\u001b[38;5;241m=\u001b[39m\u001b[38;5;28mself\u001b[39m\u001b[38;5;241m.\u001b[39mget_duration)\n\u001b[0;32m--> 191\u001b[0m df[\u001b[38;5;124m'\u001b[39m\u001b[38;5;124mCareDuration\u001b[39m\u001b[38;5;124m'\u001b[39m] \u001b[38;5;241m=\u001b[39m  df[\u001b[38;5;124m\"\u001b[39m\u001b[38;5;124mtemp\u001b[39m\u001b[38;5;124m\"\u001b[39m]\u001b[38;5;241m.\u001b[39mapply(\u001b[38;5;28;01mlambda\u001b[39;00m x: \u001b[43mx\u001b[49m\u001b[43m[\u001b[49m\u001b[38;5;124;43m\"\u001b[39;49m\u001b[38;5;124;43mCareDuration\u001b[39;49m\u001b[38;5;124;43m\"\u001b[39;49m\u001b[43m]\u001b[49m[\u001b[38;5;241m0\u001b[39m])\n\u001b[1;32m    192\u001b[0m df[\u001b[38;5;124m'\u001b[39m\u001b[38;5;124mCareDurationType\u001b[39m\u001b[38;5;124m'\u001b[39m] \u001b[38;5;241m=\u001b[39m  df[\u001b[38;5;124m\"\u001b[39m\u001b[38;5;124mtemp\u001b[39m\u001b[38;5;124m\"\u001b[39m]\u001b[38;5;241m.\u001b[39mapply(\u001b[38;5;28;01mlambda\u001b[39;00m x: x[\u001b[38;5;124m\"\u001b[39m\u001b[38;5;124mCareDurationType\u001b[39m\u001b[38;5;124m\"\u001b[39m][\u001b[38;5;241m0\u001b[39m])\n\u001b[1;32m    193\u001b[0m df[\u001b[38;5;124m'\u001b[39m\u001b[38;5;124mCareEnd\u001b[39m\u001b[38;5;124m'\u001b[39m] \u001b[38;5;241m=\u001b[39m  df[\u001b[38;5;124m\"\u001b[39m\u001b[38;5;124mtemp\u001b[39m\u001b[38;5;124m\"\u001b[39m]\u001b[38;5;241m.\u001b[39mapply(\u001b[38;5;28;01mlambda\u001b[39;00m x: x[\u001b[38;5;124m\"\u001b[39m\u001b[38;5;124mCareEnd\u001b[39m\u001b[38;5;124m\"\u001b[39m][\u001b[38;5;241m0\u001b[39m])\n",
      "\u001b[0;31mTypeError\u001b[0m: 'NoneType' object is not subscriptable"
     ]
    }
   ],
   "source": [
    "test = Duration().apply_to_df(df_temp)\n",
    "test"
   ]
  },
  {
   "cell_type": "code",
   "execution_count": 86,
   "id": "dacf53d7",
   "metadata": {},
   "outputs": [
    {
     "data": {
      "text/plain": [
       "translation           0\n",
       "Duration              0\n",
       "Date                  0\n",
       "CareDuration         78\n",
       "CareDurationType     75\n",
       "CareEnd             287\n",
       "dtype: int64"
      ]
     },
     "execution_count": 86,
     "metadata": {},
     "output_type": "execute_result"
    }
   ],
   "source": [
    "test.isna().sum()"
   ]
  },
  {
   "cell_type": "code",
   "execution_count": 87,
   "id": "b3c2d3f2",
   "metadata": {},
   "outputs": [
    {
     "data": {
      "text/html": [
       "<div>\n",
       "<style scoped>\n",
       "    .dataframe tbody tr th:only-of-type {\n",
       "        vertical-align: middle;\n",
       "    }\n",
       "\n",
       "    .dataframe tbody tr th {\n",
       "        vertical-align: top;\n",
       "    }\n",
       "\n",
       "    .dataframe thead th {\n",
       "        text-align: right;\n",
       "    }\n",
       "</style>\n",
       "<table border=\"1\" class=\"dataframe\">\n",
       "  <thead>\n",
       "    <tr style=\"text-align: right;\">\n",
       "      <th></th>\n",
       "      <th>translation</th>\n",
       "      <th>Duration</th>\n",
       "      <th>Date</th>\n",
       "      <th>CareDuration</th>\n",
       "      <th>CareDurationType</th>\n",
       "      <th>CareEnd</th>\n",
       "    </tr>\n",
       "    <tr>\n",
       "      <th>fichier</th>\n",
       "      <th></th>\n",
       "      <th></th>\n",
       "      <th></th>\n",
       "      <th></th>\n",
       "      <th></th>\n",
       "      <th></th>\n",
       "    </tr>\n",
       "  </thead>\n",
       "  <tbody>\n",
       "    <tr>\n",
       "      <th>55d674cc-3389-4cf6-ab7c-1f1b9fa1b6ed_3e005951-47a1-4edb-ab50-ce602fe56c54</th>\n",
       "      <td>Renouvellement du bsc. D'une durée de un an à ...</td>\n",
       "      <td>une durée de un an</td>\n",
       "      <td>[5, 21]</td>\n",
       "      <td>1</td>\n",
       "      <td>Year</td>\n",
       "      <td>NaN</td>\n",
       "    </tr>\n",
       "    <tr>\n",
       "      <th>2d035c4b-cdfa-4982-87dc-916fe07a0824_2dfdf4ab-fc95-4ec1-8e03-af502b95baf8</th>\n",
       "      <td>Ordonnance pour la réalisation de injection de...</td>\n",
       "      <td>pour 6 jours</td>\n",
       "      <td>[4, 17]</td>\n",
       "      <td>6</td>\n",
       "      <td>Days</td>\n",
       "      <td>NaN</td>\n",
       "    </tr>\n",
       "    <tr>\n",
       "      <th>c619f0e1-7c22-4047-adb2-df4dec6643ba_8214d80f-0f7d-4e0d-9d4a-23294f9690b3</th>\n",
       "      <td>Soin débuté le vendredi 14 janvier 2022 jusqu'...</td>\n",
       "      <td>jusqu'au lundi 17 janvier 2022</td>\n",
       "      <td>[1, 14]</td>\n",
       "      <td>3</td>\n",
       "      <td>Days</td>\n",
       "      <td>17 janvier</td>\n",
       "    </tr>\n",
       "    <tr>\n",
       "      <th>f0caa21b-c11d-40a3-98ec-e2df3d2b9cc4_7e5c146c-2faa-44ce-9228-ee5addf48580</th>\n",
       "      <td>Soin débuté le 10 avril,  à réaliser donc le s...</td>\n",
       "      <td>pendant 15 jours</td>\n",
       "      <td>[4, 10]</td>\n",
       "      <td>15</td>\n",
       "      <td>Days</td>\n",
       "      <td>NaN</td>\n",
       "    </tr>\n",
       "    <tr>\n",
       "      <th>9d42ce6f-8537-49a9-a121-c8ae1dc7cda8_3ffbf9cc-b9e4-405d-a038-fb4f9e036a72</th>\n",
       "      <td>Pour monsieur Didier Nicolas, donc un passage ...</td>\n",
       "      <td>jusqu'au 8/12/2019</td>\n",
       "      <td>[99, 25]</td>\n",
       "      <td>NaN</td>\n",
       "      <td>NaN</td>\n",
       "      <td>8 décembre</td>\n",
       "    </tr>\n",
       "    <tr>\n",
       "      <th>...</th>\n",
       "      <td>...</td>\n",
       "      <td>...</td>\n",
       "      <td>...</td>\n",
       "      <td>...</td>\n",
       "      <td>...</td>\n",
       "      <td>...</td>\n",
       "    </tr>\n",
       "    <tr>\n",
       "      <th>3e7ffb67-8872-4172-bf18-4fe338ecae3f_04fe104b-9843-4abc-b467-a9301c5eb3a2</th>\n",
       "      <td>Injection sous-cutanée à réaliser une fois par...</td>\n",
       "      <td>pendant 8 jours</td>\n",
       "      <td>[7, 9]</td>\n",
       "      <td>8</td>\n",
       "      <td>Days</td>\n",
       "      <td>NaN</td>\n",
       "    </tr>\n",
       "    <tr>\n",
       "      <th>3e7ffb67-8872-4172-bf18-4fe338ecae3f_67dbeda4-1876-41a6-8249-68f1dfeebb70</th>\n",
       "      <td>Nouvelle ordonnance pour madame Gris Rennes. O...</td>\n",
       "      <td>pendant un mois</td>\n",
       "      <td>[7, 20]</td>\n",
       "      <td>1</td>\n",
       "      <td>Months</td>\n",
       "      <td>NaN</td>\n",
       "    </tr>\n",
       "    <tr>\n",
       "      <th>3e7ffb67-8872-4172-bf18-4fe338ecae3f_80f9b3d2-47b8-4152-9e45-a26dcf173335</th>\n",
       "      <td>Injection sous-cutanée à faire une fois par jo...</td>\n",
       "      <td>pendant 30 jours</td>\n",
       "      <td>[4, 7]</td>\n",
       "      <td>30</td>\n",
       "      <td>Days</td>\n",
       "      <td>NaN</td>\n",
       "    </tr>\n",
       "    <tr>\n",
       "      <th>b96ad235-2f4f-4236-9aa3-9df85dfcf7cb_b1cb90a1-acbb-40c6-963d-10ebac5fb0d4</th>\n",
       "      <td>Ordonnance daté du 31 mai 2021 faite par le ce...</td>\n",
       "      <td>valable pour un an</td>\n",
       "      <td>[5, 31]</td>\n",
       "      <td>1</td>\n",
       "      <td>Year</td>\n",
       "      <td>NaN</td>\n",
       "    </tr>\n",
       "    <tr>\n",
       "      <th>74b154c1-e265-4cb9-8e71-0c9bbc3dc880_5c18e09e-9dfc-421d-92b2-73b6a22d2ddc</th>\n",
       "      <td>Oui, bonjour dany, c'est sylvie, je viens de v...</td>\n",
       "      <td>pendant 15 pendant</td>\n",
       "      <td>[99, 99]</td>\n",
       "      <td>NaN</td>\n",
       "      <td>NaN</td>\n",
       "      <td>NaN</td>\n",
       "    </tr>\n",
       "  </tbody>\n",
       "</table>\n",
       "<p>306 rows × 6 columns</p>\n",
       "</div>"
      ],
      "text/plain": [
       "                                                                                          translation  \\\n",
       "fichier                                                                                                 \n",
       "55d674cc-3389-4cf6-ab7c-1f1b9fa1b6ed_3e005951-4...  Renouvellement du bsc. D'une durée de un an à ...   \n",
       "2d035c4b-cdfa-4982-87dc-916fe07a0824_2dfdf4ab-f...  Ordonnance pour la réalisation de injection de...   \n",
       "c619f0e1-7c22-4047-adb2-df4dec6643ba_8214d80f-0...  Soin débuté le vendredi 14 janvier 2022 jusqu'...   \n",
       "f0caa21b-c11d-40a3-98ec-e2df3d2b9cc4_7e5c146c-2...  Soin débuté le 10 avril,  à réaliser donc le s...   \n",
       "9d42ce6f-8537-49a9-a121-c8ae1dc7cda8_3ffbf9cc-b...  Pour monsieur Didier Nicolas, donc un passage ...   \n",
       "...                                                                                               ...   \n",
       "3e7ffb67-8872-4172-bf18-4fe338ecae3f_04fe104b-9...  Injection sous-cutanée à réaliser une fois par...   \n",
       "3e7ffb67-8872-4172-bf18-4fe338ecae3f_67dbeda4-1...  Nouvelle ordonnance pour madame Gris Rennes. O...   \n",
       "3e7ffb67-8872-4172-bf18-4fe338ecae3f_80f9b3d2-4...  Injection sous-cutanée à faire une fois par jo...   \n",
       "b96ad235-2f4f-4236-9aa3-9df85dfcf7cb_b1cb90a1-a...  Ordonnance daté du 31 mai 2021 faite par le ce...   \n",
       "74b154c1-e265-4cb9-8e71-0c9bbc3dc880_5c18e09e-9...  Oui, bonjour dany, c'est sylvie, je viens de v...   \n",
       "\n",
       "                                                                          Duration  \\\n",
       "fichier                                                                              \n",
       "55d674cc-3389-4cf6-ab7c-1f1b9fa1b6ed_3e005951-4...              une durée de un an   \n",
       "2d035c4b-cdfa-4982-87dc-916fe07a0824_2dfdf4ab-f...                    pour 6 jours   \n",
       "c619f0e1-7c22-4047-adb2-df4dec6643ba_8214d80f-0...  jusqu'au lundi 17 janvier 2022   \n",
       "f0caa21b-c11d-40a3-98ec-e2df3d2b9cc4_7e5c146c-2...                pendant 15 jours   \n",
       "9d42ce6f-8537-49a9-a121-c8ae1dc7cda8_3ffbf9cc-b...              jusqu'au 8/12/2019   \n",
       "...                                                                            ...   \n",
       "3e7ffb67-8872-4172-bf18-4fe338ecae3f_04fe104b-9...                 pendant 8 jours   \n",
       "3e7ffb67-8872-4172-bf18-4fe338ecae3f_67dbeda4-1...                 pendant un mois   \n",
       "3e7ffb67-8872-4172-bf18-4fe338ecae3f_80f9b3d2-4...                pendant 30 jours   \n",
       "b96ad235-2f4f-4236-9aa3-9df85dfcf7cb_b1cb90a1-a...              valable pour un an   \n",
       "74b154c1-e265-4cb9-8e71-0c9bbc3dc880_5c18e09e-9...              pendant 15 pendant   \n",
       "\n",
       "                                                        Date CareDuration  \\\n",
       "fichier                                                                     \n",
       "55d674cc-3389-4cf6-ab7c-1f1b9fa1b6ed_3e005951-4...   [5, 21]            1   \n",
       "2d035c4b-cdfa-4982-87dc-916fe07a0824_2dfdf4ab-f...   [4, 17]            6   \n",
       "c619f0e1-7c22-4047-adb2-df4dec6643ba_8214d80f-0...   [1, 14]            3   \n",
       "f0caa21b-c11d-40a3-98ec-e2df3d2b9cc4_7e5c146c-2...   [4, 10]           15   \n",
       "9d42ce6f-8537-49a9-a121-c8ae1dc7cda8_3ffbf9cc-b...  [99, 25]          NaN   \n",
       "...                                                      ...          ...   \n",
       "3e7ffb67-8872-4172-bf18-4fe338ecae3f_04fe104b-9...    [7, 9]            8   \n",
       "3e7ffb67-8872-4172-bf18-4fe338ecae3f_67dbeda4-1...   [7, 20]            1   \n",
       "3e7ffb67-8872-4172-bf18-4fe338ecae3f_80f9b3d2-4...    [4, 7]           30   \n",
       "b96ad235-2f4f-4236-9aa3-9df85dfcf7cb_b1cb90a1-a...   [5, 31]            1   \n",
       "74b154c1-e265-4cb9-8e71-0c9bbc3dc880_5c18e09e-9...  [99, 99]          NaN   \n",
       "\n",
       "                                                   CareDurationType  \\\n",
       "fichier                                                               \n",
       "55d674cc-3389-4cf6-ab7c-1f1b9fa1b6ed_3e005951-4...             Year   \n",
       "2d035c4b-cdfa-4982-87dc-916fe07a0824_2dfdf4ab-f...             Days   \n",
       "c619f0e1-7c22-4047-adb2-df4dec6643ba_8214d80f-0...             Days   \n",
       "f0caa21b-c11d-40a3-98ec-e2df3d2b9cc4_7e5c146c-2...             Days   \n",
       "9d42ce6f-8537-49a9-a121-c8ae1dc7cda8_3ffbf9cc-b...              NaN   \n",
       "...                                                             ...   \n",
       "3e7ffb67-8872-4172-bf18-4fe338ecae3f_04fe104b-9...             Days   \n",
       "3e7ffb67-8872-4172-bf18-4fe338ecae3f_67dbeda4-1...           Months   \n",
       "3e7ffb67-8872-4172-bf18-4fe338ecae3f_80f9b3d2-4...             Days   \n",
       "b96ad235-2f4f-4236-9aa3-9df85dfcf7cb_b1cb90a1-a...             Year   \n",
       "74b154c1-e265-4cb9-8e71-0c9bbc3dc880_5c18e09e-9...              NaN   \n",
       "\n",
       "                                                       CareEnd  \n",
       "fichier                                                         \n",
       "55d674cc-3389-4cf6-ab7c-1f1b9fa1b6ed_3e005951-4...         NaN  \n",
       "2d035c4b-cdfa-4982-87dc-916fe07a0824_2dfdf4ab-f...         NaN  \n",
       "c619f0e1-7c22-4047-adb2-df4dec6643ba_8214d80f-0...  17 janvier  \n",
       "f0caa21b-c11d-40a3-98ec-e2df3d2b9cc4_7e5c146c-2...         NaN  \n",
       "9d42ce6f-8537-49a9-a121-c8ae1dc7cda8_3ffbf9cc-b...  8 décembre  \n",
       "...                                                        ...  \n",
       "3e7ffb67-8872-4172-bf18-4fe338ecae3f_04fe104b-9...         NaN  \n",
       "3e7ffb67-8872-4172-bf18-4fe338ecae3f_67dbeda4-1...         NaN  \n",
       "3e7ffb67-8872-4172-bf18-4fe338ecae3f_80f9b3d2-4...         NaN  \n",
       "b96ad235-2f4f-4236-9aa3-9df85dfcf7cb_b1cb90a1-a...         NaN  \n",
       "74b154c1-e265-4cb9-8e71-0c9bbc3dc880_5c18e09e-9...         NaN  \n",
       "\n",
       "[306 rows x 6 columns]"
      ]
     },
     "execution_count": 87,
     "metadata": {},
     "output_type": "execute_result"
    }
   ],
   "source": [
    "test"
   ]
  },
  {
   "cell_type": "code",
   "execution_count": 80,
   "id": "b4e90b10",
   "metadata": {},
   "outputs": [
    {
     "ename": "TypeError",
     "evalue": "'NoneType' object is not subscriptable",
     "output_type": "error",
     "traceback": [
      "\u001b[0;31m---------------------------------------------------------------------------\u001b[0m",
      "\u001b[0;31mTypeError\u001b[0m                                 Traceback (most recent call last)",
      "Input \u001b[0;32mIn [80]\u001b[0m, in \u001b[0;36m<cell line: 1>\u001b[0;34m()\u001b[0m\n\u001b[0;32m----> 1\u001b[0m test[\u001b[38;5;124m'\u001b[39m\u001b[38;5;124mCareDuration\u001b[39m\u001b[38;5;124m'\u001b[39m] \u001b[38;5;241m=\u001b[39m  \u001b[43mtest\u001b[49m\u001b[43m[\u001b[49m\u001b[38;5;124;43m\"\u001b[39;49m\u001b[38;5;124;43mtemp\u001b[39;49m\u001b[38;5;124;43m\"\u001b[39;49m\u001b[43m]\u001b[49m\u001b[38;5;241;43m.\u001b[39;49m\u001b[43mapply\u001b[49m\u001b[43m(\u001b[49m\u001b[38;5;28;43;01mlambda\u001b[39;49;00m\u001b[43m \u001b[49m\u001b[43mx\u001b[49m\u001b[43m:\u001b[49m\u001b[43m \u001b[49m\u001b[43mx\u001b[49m\u001b[43m[\u001b[49m\u001b[38;5;124;43m\"\u001b[39;49m\u001b[38;5;124;43mCareDuration\u001b[39;49m\u001b[38;5;124;43m\"\u001b[39;49m\u001b[43m]\u001b[49m\u001b[43m[\u001b[49m\u001b[38;5;241;43m0\u001b[39;49m\u001b[43m]\u001b[49m\u001b[43m)\u001b[49m\n",
      "File \u001b[0;32m~/.pyenv/versions/3.8.12/envs/ephesus/lib/python3.8/site-packages/pandas/core/series.py:4433\u001b[0m, in \u001b[0;36mSeries.apply\u001b[0;34m(self, func, convert_dtype, args, **kwargs)\u001b[0m\n\u001b[1;32m   4323\u001b[0m \u001b[38;5;28;01mdef\u001b[39;00m \u001b[38;5;21mapply\u001b[39m(\n\u001b[1;32m   4324\u001b[0m     \u001b[38;5;28mself\u001b[39m,\n\u001b[1;32m   4325\u001b[0m     func: AggFuncType,\n\u001b[0;32m   (...)\u001b[0m\n\u001b[1;32m   4328\u001b[0m     \u001b[38;5;241m*\u001b[39m\u001b[38;5;241m*\u001b[39mkwargs,\n\u001b[1;32m   4329\u001b[0m ) \u001b[38;5;241m-\u001b[39m\u001b[38;5;241m>\u001b[39m DataFrame \u001b[38;5;241m|\u001b[39m Series:\n\u001b[1;32m   4330\u001b[0m     \u001b[38;5;124;03m\"\"\"\u001b[39;00m\n\u001b[1;32m   4331\u001b[0m \u001b[38;5;124;03m    Invoke function on values of Series.\u001b[39;00m\n\u001b[1;32m   4332\u001b[0m \n\u001b[0;32m   (...)\u001b[0m\n\u001b[1;32m   4431\u001b[0m \u001b[38;5;124;03m    dtype: float64\u001b[39;00m\n\u001b[1;32m   4432\u001b[0m \u001b[38;5;124;03m    \"\"\"\u001b[39;00m\n\u001b[0;32m-> 4433\u001b[0m     \u001b[38;5;28;01mreturn\u001b[39;00m \u001b[43mSeriesApply\u001b[49m\u001b[43m(\u001b[49m\u001b[38;5;28;43mself\u001b[39;49m\u001b[43m,\u001b[49m\u001b[43m \u001b[49m\u001b[43mfunc\u001b[49m\u001b[43m,\u001b[49m\u001b[43m \u001b[49m\u001b[43mconvert_dtype\u001b[49m\u001b[43m,\u001b[49m\u001b[43m \u001b[49m\u001b[43margs\u001b[49m\u001b[43m,\u001b[49m\u001b[43m \u001b[49m\u001b[43mkwargs\u001b[49m\u001b[43m)\u001b[49m\u001b[38;5;241;43m.\u001b[39;49m\u001b[43mapply\u001b[49m\u001b[43m(\u001b[49m\u001b[43m)\u001b[49m\n",
      "File \u001b[0;32m~/.pyenv/versions/3.8.12/envs/ephesus/lib/python3.8/site-packages/pandas/core/apply.py:1082\u001b[0m, in \u001b[0;36mSeriesApply.apply\u001b[0;34m(self)\u001b[0m\n\u001b[1;32m   1078\u001b[0m \u001b[38;5;28;01mif\u001b[39;00m \u001b[38;5;28misinstance\u001b[39m(\u001b[38;5;28mself\u001b[39m\u001b[38;5;241m.\u001b[39mf, \u001b[38;5;28mstr\u001b[39m):\n\u001b[1;32m   1079\u001b[0m     \u001b[38;5;66;03m# if we are a string, try to dispatch\u001b[39;00m\n\u001b[1;32m   1080\u001b[0m     \u001b[38;5;28;01mreturn\u001b[39;00m \u001b[38;5;28mself\u001b[39m\u001b[38;5;241m.\u001b[39mapply_str()\n\u001b[0;32m-> 1082\u001b[0m \u001b[38;5;28;01mreturn\u001b[39;00m \u001b[38;5;28;43mself\u001b[39;49m\u001b[38;5;241;43m.\u001b[39;49m\u001b[43mapply_standard\u001b[49m\u001b[43m(\u001b[49m\u001b[43m)\u001b[49m\n",
      "File \u001b[0;32m~/.pyenv/versions/3.8.12/envs/ephesus/lib/python3.8/site-packages/pandas/core/apply.py:1137\u001b[0m, in \u001b[0;36mSeriesApply.apply_standard\u001b[0;34m(self)\u001b[0m\n\u001b[1;32m   1131\u001b[0m         values \u001b[38;5;241m=\u001b[39m obj\u001b[38;5;241m.\u001b[39mastype(\u001b[38;5;28mobject\u001b[39m)\u001b[38;5;241m.\u001b[39m_values\n\u001b[1;32m   1132\u001b[0m         \u001b[38;5;66;03m# error: Argument 2 to \"map_infer\" has incompatible type\u001b[39;00m\n\u001b[1;32m   1133\u001b[0m         \u001b[38;5;66;03m# \"Union[Callable[..., Any], str, List[Union[Callable[..., Any], str]],\u001b[39;00m\n\u001b[1;32m   1134\u001b[0m         \u001b[38;5;66;03m# Dict[Hashable, Union[Union[Callable[..., Any], str],\u001b[39;00m\n\u001b[1;32m   1135\u001b[0m         \u001b[38;5;66;03m# List[Union[Callable[..., Any], str]]]]]\"; expected\u001b[39;00m\n\u001b[1;32m   1136\u001b[0m         \u001b[38;5;66;03m# \"Callable[[Any], Any]\"\u001b[39;00m\n\u001b[0;32m-> 1137\u001b[0m         mapped \u001b[38;5;241m=\u001b[39m \u001b[43mlib\u001b[49m\u001b[38;5;241;43m.\u001b[39;49m\u001b[43mmap_infer\u001b[49m\u001b[43m(\u001b[49m\n\u001b[1;32m   1138\u001b[0m \u001b[43m            \u001b[49m\u001b[43mvalues\u001b[49m\u001b[43m,\u001b[49m\n\u001b[1;32m   1139\u001b[0m \u001b[43m            \u001b[49m\u001b[43mf\u001b[49m\u001b[43m,\u001b[49m\u001b[43m  \u001b[49m\u001b[38;5;66;43;03m# type: ignore[arg-type]\u001b[39;49;00m\n\u001b[1;32m   1140\u001b[0m \u001b[43m            \u001b[49m\u001b[43mconvert\u001b[49m\u001b[38;5;241;43m=\u001b[39;49m\u001b[38;5;28;43mself\u001b[39;49m\u001b[38;5;241;43m.\u001b[39;49m\u001b[43mconvert_dtype\u001b[49m\u001b[43m,\u001b[49m\n\u001b[1;32m   1141\u001b[0m \u001b[43m        \u001b[49m\u001b[43m)\u001b[49m\n\u001b[1;32m   1143\u001b[0m \u001b[38;5;28;01mif\u001b[39;00m \u001b[38;5;28mlen\u001b[39m(mapped) \u001b[38;5;129;01mand\u001b[39;00m \u001b[38;5;28misinstance\u001b[39m(mapped[\u001b[38;5;241m0\u001b[39m], ABCSeries):\n\u001b[1;32m   1144\u001b[0m     \u001b[38;5;66;03m# GH#43986 Need to do list(mapped) in order to get treated as nested\u001b[39;00m\n\u001b[1;32m   1145\u001b[0m     \u001b[38;5;66;03m#  See also GH#25959 regarding EA support\u001b[39;00m\n\u001b[1;32m   1146\u001b[0m     \u001b[38;5;28;01mreturn\u001b[39;00m obj\u001b[38;5;241m.\u001b[39m_constructor_expanddim(\u001b[38;5;28mlist\u001b[39m(mapped), index\u001b[38;5;241m=\u001b[39mobj\u001b[38;5;241m.\u001b[39mindex)\n",
      "File \u001b[0;32m~/.pyenv/versions/3.8.12/envs/ephesus/lib/python3.8/site-packages/pandas/_libs/lib.pyx:2870\u001b[0m, in \u001b[0;36mpandas._libs.lib.map_infer\u001b[0;34m()\u001b[0m\n",
      "Input \u001b[0;32mIn [80]\u001b[0m, in \u001b[0;36m<lambda>\u001b[0;34m(x)\u001b[0m\n\u001b[0;32m----> 1\u001b[0m test[\u001b[38;5;124m'\u001b[39m\u001b[38;5;124mCareDuration\u001b[39m\u001b[38;5;124m'\u001b[39m] \u001b[38;5;241m=\u001b[39m  test[\u001b[38;5;124m\"\u001b[39m\u001b[38;5;124mtemp\u001b[39m\u001b[38;5;124m\"\u001b[39m]\u001b[38;5;241m.\u001b[39mapply(\u001b[38;5;28;01mlambda\u001b[39;00m x: \u001b[43mx\u001b[49m\u001b[43m[\u001b[49m\u001b[38;5;124;43m\"\u001b[39;49m\u001b[38;5;124;43mCareDuration\u001b[39;49m\u001b[38;5;124;43m\"\u001b[39;49m\u001b[43m]\u001b[49m[\u001b[38;5;241m0\u001b[39m])\n",
      "\u001b[0;31mTypeError\u001b[0m: 'NoneType' object is not subscriptable"
     ]
    }
   ],
   "source": [
    "test['CareDuration'] =  test[\"temp\"].apply(lambda x: x[\"CareDuration\"][0])"
   ]
  },
  {
   "cell_type": "code",
   "execution_count": 54,
   "id": "778ca146",
   "metadata": {},
   "outputs": [
    {
     "data": {
      "text/html": [
       "<div>\n",
       "<style scoped>\n",
       "    .dataframe tbody tr th:only-of-type {\n",
       "        vertical-align: middle;\n",
       "    }\n",
       "\n",
       "    .dataframe tbody tr th {\n",
       "        vertical-align: top;\n",
       "    }\n",
       "\n",
       "    .dataframe thead th {\n",
       "        text-align: right;\n",
       "    }\n",
       "</style>\n",
       "<table border=\"1\" class=\"dataframe\">\n",
       "  <thead>\n",
       "    <tr style=\"text-align: right;\">\n",
       "      <th></th>\n",
       "      <th>translation</th>\n",
       "      <th>Duration</th>\n",
       "      <th>Date</th>\n",
       "      <th>temp</th>\n",
       "    </tr>\n",
       "    <tr>\n",
       "      <th>fichier</th>\n",
       "      <th></th>\n",
       "      <th></th>\n",
       "      <th></th>\n",
       "      <th></th>\n",
       "    </tr>\n",
       "  </thead>\n",
       "  <tbody>\n",
       "    <tr>\n",
       "      <th>55d674cc-3389-4cf6-ab7c-1f1b9fa1b6ed_3e005951-47a1-4edb-ab50-ce602fe56c54</th>\n",
       "      <td>Renouvellement du bsc. D'une durée de un an à ...</td>\n",
       "      <td>une durée de un an</td>\n",
       "      <td>[5, 21]</td>\n",
       "      <td>{'CareDuration': ['1'], 'CareDurationType': ['...</td>\n",
       "    </tr>\n",
       "    <tr>\n",
       "      <th>2d035c4b-cdfa-4982-87dc-916fe07a0824_2dfdf4ab-fc95-4ec1-8e03-af502b95baf8</th>\n",
       "      <td>Ordonnance pour la réalisation de injection de...</td>\n",
       "      <td>pour 6 jours</td>\n",
       "      <td>[4, 17]</td>\n",
       "      <td>{'CareDuration': ['6'], 'CareDurationType': ['...</td>\n",
       "    </tr>\n",
       "    <tr>\n",
       "      <th>c619f0e1-7c22-4047-adb2-df4dec6643ba_8214d80f-0f7d-4e0d-9d4a-23294f9690b3</th>\n",
       "      <td>Soin débuté le vendredi 14 janvier 2022 jusqu'...</td>\n",
       "      <td>jusqu'au lundi 17 janvier 2022</td>\n",
       "      <td>[1, 14]</td>\n",
       "      <td>{'CareDuration': [3], 'CareDurationType': ['Da...</td>\n",
       "    </tr>\n",
       "    <tr>\n",
       "      <th>f0caa21b-c11d-40a3-98ec-e2df3d2b9cc4_7e5c146c-2faa-44ce-9228-ee5addf48580</th>\n",
       "      <td>Soin débuté le 10 avril,  à réaliser donc le s...</td>\n",
       "      <td>pendant 15 jours</td>\n",
       "      <td>[4, 10]</td>\n",
       "      <td>{'CareDuration': ['15'], 'CareDurationType': [...</td>\n",
       "    </tr>\n",
       "    <tr>\n",
       "      <th>9d42ce6f-8537-49a9-a121-c8ae1dc7cda8_3ffbf9cc-b9e4-405d-a038-fb4f9e036a72</th>\n",
       "      <td>Pour monsieur Didier Nicolas, donc un passage ...</td>\n",
       "      <td>jusqu'au 8/12/2019</td>\n",
       "      <td>[99, 25]</td>\n",
       "      <td>{'CareDuration': [nan], 'CareDurationType': [n...</td>\n",
       "    </tr>\n",
       "    <tr>\n",
       "      <th>...</th>\n",
       "      <td>...</td>\n",
       "      <td>...</td>\n",
       "      <td>...</td>\n",
       "      <td>...</td>\n",
       "    </tr>\n",
       "    <tr>\n",
       "      <th>2d035c4b-cdfa-4982-87dc-916fe07a0824_558bf9c3-a9e5-408e-bc55-da9844e1b61a</th>\n",
       "      <td>Ordonnance de renouvellement pour monsieur Did...</td>\n",
       "      <td>pour 3 mois</td>\n",
       "      <td>[6, 29]</td>\n",
       "      <td>{'CareDuration': ['3'], 'CareDurationType': ['...</td>\n",
       "    </tr>\n",
       "    <tr>\n",
       "      <th>3e7ffb67-8872-4172-bf18-4fe338ecae3f_04fe104b-9843-4abc-b467-a9301c5eb3a2</th>\n",
       "      <td>Injection sous-cutanée à réaliser une fois par...</td>\n",
       "      <td>pendant 8 jours</td>\n",
       "      <td>[7, 9]</td>\n",
       "      <td>{'CareDuration': ['8'], 'CareDurationType': ['...</td>\n",
       "    </tr>\n",
       "    <tr>\n",
       "      <th>3e7ffb67-8872-4172-bf18-4fe338ecae3f_67dbeda4-1876-41a6-8249-68f1dfeebb70</th>\n",
       "      <td>Nouvelle ordonnance pour madame Gris Rennes. O...</td>\n",
       "      <td>pendant un mois</td>\n",
       "      <td>[7, 20]</td>\n",
       "      <td>{'CareDuration': ['1'], 'CareDurationType': ['...</td>\n",
       "    </tr>\n",
       "    <tr>\n",
       "      <th>3e7ffb67-8872-4172-bf18-4fe338ecae3f_80f9b3d2-47b8-4152-9e45-a26dcf173335</th>\n",
       "      <td>Injection sous-cutanée à faire une fois par jo...</td>\n",
       "      <td>pendant 30 jours</td>\n",
       "      <td>[4, 7]</td>\n",
       "      <td>{'CareDuration': ['30'], 'CareDurationType': [...</td>\n",
       "    </tr>\n",
       "    <tr>\n",
       "      <th>b96ad235-2f4f-4236-9aa3-9df85dfcf7cb_b1cb90a1-acbb-40c6-963d-10ebac5fb0d4</th>\n",
       "      <td>Ordonnance daté du 31 mai 2021 faite par le ce...</td>\n",
       "      <td>valable pour un an</td>\n",
       "      <td>[5, 31]</td>\n",
       "      <td>{'CareDuration': ['1'], 'CareDurationType': ['...</td>\n",
       "    </tr>\n",
       "  </tbody>\n",
       "</table>\n",
       "<p>239 rows × 4 columns</p>\n",
       "</div>"
      ],
      "text/plain": [
       "                                                                                          translation  \\\n",
       "fichier                                                                                                 \n",
       "55d674cc-3389-4cf6-ab7c-1f1b9fa1b6ed_3e005951-4...  Renouvellement du bsc. D'une durée de un an à ...   \n",
       "2d035c4b-cdfa-4982-87dc-916fe07a0824_2dfdf4ab-f...  Ordonnance pour la réalisation de injection de...   \n",
       "c619f0e1-7c22-4047-adb2-df4dec6643ba_8214d80f-0...  Soin débuté le vendredi 14 janvier 2022 jusqu'...   \n",
       "f0caa21b-c11d-40a3-98ec-e2df3d2b9cc4_7e5c146c-2...  Soin débuté le 10 avril,  à réaliser donc le s...   \n",
       "9d42ce6f-8537-49a9-a121-c8ae1dc7cda8_3ffbf9cc-b...  Pour monsieur Didier Nicolas, donc un passage ...   \n",
       "...                                                                                               ...   \n",
       "2d035c4b-cdfa-4982-87dc-916fe07a0824_558bf9c3-a...  Ordonnance de renouvellement pour monsieur Did...   \n",
       "3e7ffb67-8872-4172-bf18-4fe338ecae3f_04fe104b-9...  Injection sous-cutanée à réaliser une fois par...   \n",
       "3e7ffb67-8872-4172-bf18-4fe338ecae3f_67dbeda4-1...  Nouvelle ordonnance pour madame Gris Rennes. O...   \n",
       "3e7ffb67-8872-4172-bf18-4fe338ecae3f_80f9b3d2-4...  Injection sous-cutanée à faire une fois par jo...   \n",
       "b96ad235-2f4f-4236-9aa3-9df85dfcf7cb_b1cb90a1-a...  Ordonnance daté du 31 mai 2021 faite par le ce...   \n",
       "\n",
       "                                                                          Duration  \\\n",
       "fichier                                                                              \n",
       "55d674cc-3389-4cf6-ab7c-1f1b9fa1b6ed_3e005951-4...              une durée de un an   \n",
       "2d035c4b-cdfa-4982-87dc-916fe07a0824_2dfdf4ab-f...                    pour 6 jours   \n",
       "c619f0e1-7c22-4047-adb2-df4dec6643ba_8214d80f-0...  jusqu'au lundi 17 janvier 2022   \n",
       "f0caa21b-c11d-40a3-98ec-e2df3d2b9cc4_7e5c146c-2...                pendant 15 jours   \n",
       "9d42ce6f-8537-49a9-a121-c8ae1dc7cda8_3ffbf9cc-b...              jusqu'au 8/12/2019   \n",
       "...                                                                            ...   \n",
       "2d035c4b-cdfa-4982-87dc-916fe07a0824_558bf9c3-a...                     pour 3 mois   \n",
       "3e7ffb67-8872-4172-bf18-4fe338ecae3f_04fe104b-9...                 pendant 8 jours   \n",
       "3e7ffb67-8872-4172-bf18-4fe338ecae3f_67dbeda4-1...                 pendant un mois   \n",
       "3e7ffb67-8872-4172-bf18-4fe338ecae3f_80f9b3d2-4...                pendant 30 jours   \n",
       "b96ad235-2f4f-4236-9aa3-9df85dfcf7cb_b1cb90a1-a...              valable pour un an   \n",
       "\n",
       "                                                        Date  \\\n",
       "fichier                                                        \n",
       "55d674cc-3389-4cf6-ab7c-1f1b9fa1b6ed_3e005951-4...   [5, 21]   \n",
       "2d035c4b-cdfa-4982-87dc-916fe07a0824_2dfdf4ab-f...   [4, 17]   \n",
       "c619f0e1-7c22-4047-adb2-df4dec6643ba_8214d80f-0...   [1, 14]   \n",
       "f0caa21b-c11d-40a3-98ec-e2df3d2b9cc4_7e5c146c-2...   [4, 10]   \n",
       "9d42ce6f-8537-49a9-a121-c8ae1dc7cda8_3ffbf9cc-b...  [99, 25]   \n",
       "...                                                      ...   \n",
       "2d035c4b-cdfa-4982-87dc-916fe07a0824_558bf9c3-a...   [6, 29]   \n",
       "3e7ffb67-8872-4172-bf18-4fe338ecae3f_04fe104b-9...    [7, 9]   \n",
       "3e7ffb67-8872-4172-bf18-4fe338ecae3f_67dbeda4-1...   [7, 20]   \n",
       "3e7ffb67-8872-4172-bf18-4fe338ecae3f_80f9b3d2-4...    [4, 7]   \n",
       "b96ad235-2f4f-4236-9aa3-9df85dfcf7cb_b1cb90a1-a...   [5, 31]   \n",
       "\n",
       "                                                                                                 temp  \n",
       "fichier                                                                                                \n",
       "55d674cc-3389-4cf6-ab7c-1f1b9fa1b6ed_3e005951-4...  {'CareDuration': ['1'], 'CareDurationType': ['...  \n",
       "2d035c4b-cdfa-4982-87dc-916fe07a0824_2dfdf4ab-f...  {'CareDuration': ['6'], 'CareDurationType': ['...  \n",
       "c619f0e1-7c22-4047-adb2-df4dec6643ba_8214d80f-0...  {'CareDuration': [3], 'CareDurationType': ['Da...  \n",
       "f0caa21b-c11d-40a3-98ec-e2df3d2b9cc4_7e5c146c-2...  {'CareDuration': ['15'], 'CareDurationType': [...  \n",
       "9d42ce6f-8537-49a9-a121-c8ae1dc7cda8_3ffbf9cc-b...  {'CareDuration': [nan], 'CareDurationType': [n...  \n",
       "...                                                                                               ...  \n",
       "2d035c4b-cdfa-4982-87dc-916fe07a0824_558bf9c3-a...  {'CareDuration': ['3'], 'CareDurationType': ['...  \n",
       "3e7ffb67-8872-4172-bf18-4fe338ecae3f_04fe104b-9...  {'CareDuration': ['8'], 'CareDurationType': ['...  \n",
       "3e7ffb67-8872-4172-bf18-4fe338ecae3f_67dbeda4-1...  {'CareDuration': ['1'], 'CareDurationType': ['...  \n",
       "3e7ffb67-8872-4172-bf18-4fe338ecae3f_80f9b3d2-4...  {'CareDuration': ['30'], 'CareDurationType': [...  \n",
       "b96ad235-2f4f-4236-9aa3-9df85dfcf7cb_b1cb90a1-a...  {'CareDuration': ['1'], 'CareDurationType': ['...  \n",
       "\n",
       "[239 rows x 4 columns]"
      ]
     },
     "execution_count": 54,
     "metadata": {},
     "output_type": "execute_result"
    }
   ],
   "source": [
    "df_temp"
   ]
  },
  {
   "cell_type": "code",
   "execution_count": 55,
   "id": "02deb13c",
   "metadata": {},
   "outputs": [
    {
     "name": "stdout",
     "output_type": "stream",
     "text": [
      "pour 6 jours\n",
      "[4, 17]\n",
      "{'CareDuration': ['6'], 'CareDurationType': ['Days'], 'CareEnd': [nan]}\n",
      "jusqu'au lundi 17 janvier 2022\n",
      "[1, 14]\n",
      "{'CareDuration': [3], 'CareDurationType': ['Days'], 'CareEnd': ['17 janvier']}\n",
      "jusqu'au 8/12/2019\n",
      "[99, 25]\n",
      "{'CareDuration': [nan], 'CareDurationType': [nan], 'CareEnd': ['8 décembre']}\n",
      "jusqu'au 28 novembre\n",
      "[11, 23]\n",
      "{'CareDuration': [5], 'CareDurationType': ['Days'], 'CareEnd': ['28 novembre']}\n",
      "3 mois\n",
      "[12, 11]\n",
      "{'CareDuration': ['3'], 'CareDurationType': ['Months'], 'CareEnd': [nan]}\n",
      "jusqu'au dimanche 7\n",
      "[3, 4]\n",
      "{'CareDuration': [nan], 'CareDurationType': [nan], 'CareEnd': [nan]}\n",
      "jusqu'au 20 février\n",
      "[2, 12]\n",
      "{'CareDuration': [8], 'CareDurationType': ['Days'], 'CareEnd': ['20 février']}\n",
      "jusqu'au 4 mars\n",
      "[2, 21]\n",
      "{'CareDuration': [11], 'CareDurationType': ['Days'], 'CareEnd': ['4 mars']}\n",
      "jusqu'au 27 octobre\n",
      "[9, 21]\n",
      "{'CareDuration': [36], 'CareDurationType': ['Days'], 'CareEnd': ['27 octobre']}\n",
      "jusqu'au 17 janvier\n",
      "[1, 7]\n",
      "{'CareDuration': [10], 'CareDurationType': ['Days'], 'CareEnd': ['17 janvier']}\n"
     ]
    }
   ],
   "source": [
    "for i in range(100):\n",
    "    sentence = df_temp.iloc[i,0]\n",
    "    if re.search(\"jusqu\\'au\\s\", sentence) is not None:\n",
    "        print(df_temp.iloc[i,1])\n",
    "        print(df_temp.iloc[i,2])\n",
    "        print(df_temp.iloc[i,3])"
   ]
  },
  {
   "cell_type": "code",
   "execution_count": 56,
   "id": "aa224a00",
   "metadata": {},
   "outputs": [],
   "source": [
    "df_bb = Duration(\"../models/model_full/model-best\").get_data()"
   ]
  },
  {
   "cell_type": "code",
   "execution_count": 57,
   "id": "7dfdf83a",
   "metadata": {},
   "outputs": [
    {
     "data": {
      "text/html": [
       "<div>\n",
       "<style scoped>\n",
       "    .dataframe tbody tr th:only-of-type {\n",
       "        vertical-align: middle;\n",
       "    }\n",
       "\n",
       "    .dataframe tbody tr th {\n",
       "        vertical-align: top;\n",
       "    }\n",
       "\n",
       "    .dataframe thead th {\n",
       "        text-align: right;\n",
       "    }\n",
       "</style>\n",
       "<table border=\"1\" class=\"dataframe\">\n",
       "  <thead>\n",
       "    <tr style=\"text-align: right;\">\n",
       "      <th></th>\n",
       "      <th>translation</th>\n",
       "      <th>Duration</th>\n",
       "      <th>Date</th>\n",
       "    </tr>\n",
       "    <tr>\n",
       "      <th>fichier</th>\n",
       "      <th></th>\n",
       "      <th></th>\n",
       "      <th></th>\n",
       "    </tr>\n",
       "  </thead>\n",
       "  <tbody>\n",
       "    <tr>\n",
       "      <th>9f980dcf-b431-4e67-876f-2b8e288b7900_3b5f3f01-e244-4398-8388-19fb5058c9c1</th>\n",
       "      <td>Prise de sang faite le 19 février à domicile p...</td>\n",
       "      <td>None</td>\n",
       "      <td>[2, 19]</td>\n",
       "    </tr>\n",
       "    <tr>\n",
       "      <th>2d035c4b-cdfa-4982-87dc-916fe07a0824_710f4bda-ba21-434f-883e-1b72df7ea27a</th>\n",
       "      <td>Pansement également refait le 23 mars par mylène.</td>\n",
       "      <td>None</td>\n",
       "      <td>[3, 23]</td>\n",
       "    </tr>\n",
       "    <tr>\n",
       "      <th>b96ad235-2f4f-4236-9aa3-9df85dfcf7cb_ff1697c1-a01f-4eb5-a1c2-b95205dc389a</th>\n",
       "      <td>Pcr plus prise de sang fait à domicile à 11.</td>\n",
       "      <td>None</td>\n",
       "      <td>None</td>\n",
       "    </tr>\n",
       "    <tr>\n",
       "      <th>3e7ffb67-8872-4172-bf18-4fe338ecae3f_6e8b49e5-4213-45da-bad6-158592c7f731</th>\n",
       "      <td>Prise de sang et analyse stérile des urines à ...</td>\n",
       "      <td>None</td>\n",
       "      <td>[2, 18]</td>\n",
       "    </tr>\n",
       "    <tr>\n",
       "      <th>2d035c4b-cdfa-4982-87dc-916fe07a0824_56c749ad-eed8-407a-ae9e-a17ebf420cf4</th>\n",
       "      <td>Bonjour, merci de renouveler cette ordonnance ...</td>\n",
       "      <td>None</td>\n",
       "      <td>None</td>\n",
       "    </tr>\n",
       "    <tr>\n",
       "      <th>...</th>\n",
       "      <td>...</td>\n",
       "      <td>...</td>\n",
       "      <td>...</td>\n",
       "    </tr>\n",
       "    <tr>\n",
       "      <th>a5050600-95ef-43d8-a5fa-a57c791bf843_448853a4-f75e-403a-8fcb-8dfc18f0b4ec</th>\n",
       "      <td>Test antigénique réalisé cet après-midi à domi...</td>\n",
       "      <td>None</td>\n",
       "      <td>[99, 99]</td>\n",
       "    </tr>\n",
       "    <tr>\n",
       "      <th>2d035c4b-cdfa-4982-87dc-916fe07a0824_4fb0c6a1-0562-496a-ae88-1adadec059a6</th>\n",
       "      <td>Réalisation d'une prise de sang chez monsieur ...</td>\n",
       "      <td>None</td>\n",
       "      <td>[2, 24]</td>\n",
       "    </tr>\n",
       "    <tr>\n",
       "      <th>b96ad235-2f4f-4236-9aa3-9df85dfcf7cb_b8a5877a-b8ce-4347-b294-3aa46efbcb34</th>\n",
       "      <td>Ordonnance pour la préparation du pilulier en ...</td>\n",
       "      <td>None</td>\n",
       "      <td>[2, 1]</td>\n",
       "    </tr>\n",
       "    <tr>\n",
       "      <th>978eb126-14a0-46cf-bd27-44b6b77cecb7_01fc29bf-08c4-4e82-99be-8f9f24c5974b</th>\n",
       "      <td>Début des soins le 10 juin. Avec début des sou...</td>\n",
       "      <td>None</td>\n",
       "      <td>[6, 10]</td>\n",
       "    </tr>\n",
       "    <tr>\n",
       "      <th>2d035c4b-cdfa-4982-87dc-916fe07a0824_47d4e0f3-f2f0-4a19-9df1-8ab0894980f9</th>\n",
       "      <td>Prise de sang faite au domicile de la patiente...</td>\n",
       "      <td>None</td>\n",
       "      <td>None</td>\n",
       "    </tr>\n",
       "  </tbody>\n",
       "</table>\n",
       "<p>4029 rows × 3 columns</p>\n",
       "</div>"
      ],
      "text/plain": [
       "                                                                                          translation  \\\n",
       "fichier                                                                                                 \n",
       "9f980dcf-b431-4e67-876f-2b8e288b7900_3b5f3f01-e...  Prise de sang faite le 19 février à domicile p...   \n",
       "2d035c4b-cdfa-4982-87dc-916fe07a0824_710f4bda-b...  Pansement également refait le 23 mars par mylène.   \n",
       "b96ad235-2f4f-4236-9aa3-9df85dfcf7cb_ff1697c1-a...       Pcr plus prise de sang fait à domicile à 11.   \n",
       "3e7ffb67-8872-4172-bf18-4fe338ecae3f_6e8b49e5-4...  Prise de sang et analyse stérile des urines à ...   \n",
       "2d035c4b-cdfa-4982-87dc-916fe07a0824_56c749ad-e...  Bonjour, merci de renouveler cette ordonnance ...   \n",
       "...                                                                                               ...   \n",
       "a5050600-95ef-43d8-a5fa-a57c791bf843_448853a4-f...  Test antigénique réalisé cet après-midi à domi...   \n",
       "2d035c4b-cdfa-4982-87dc-916fe07a0824_4fb0c6a1-0...  Réalisation d'une prise de sang chez monsieur ...   \n",
       "b96ad235-2f4f-4236-9aa3-9df85dfcf7cb_b8a5877a-b...  Ordonnance pour la préparation du pilulier en ...   \n",
       "978eb126-14a0-46cf-bd27-44b6b77cecb7_01fc29bf-0...  Début des soins le 10 juin. Avec début des sou...   \n",
       "2d035c4b-cdfa-4982-87dc-916fe07a0824_47d4e0f3-f...  Prise de sang faite au domicile de la patiente...   \n",
       "\n",
       "                                                   Duration      Date  \n",
       "fichier                                                                \n",
       "9f980dcf-b431-4e67-876f-2b8e288b7900_3b5f3f01-e...     None   [2, 19]  \n",
       "2d035c4b-cdfa-4982-87dc-916fe07a0824_710f4bda-b...     None   [3, 23]  \n",
       "b96ad235-2f4f-4236-9aa3-9df85dfcf7cb_ff1697c1-a...     None      None  \n",
       "3e7ffb67-8872-4172-bf18-4fe338ecae3f_6e8b49e5-4...     None   [2, 18]  \n",
       "2d035c4b-cdfa-4982-87dc-916fe07a0824_56c749ad-e...     None      None  \n",
       "...                                                     ...       ...  \n",
       "a5050600-95ef-43d8-a5fa-a57c791bf843_448853a4-f...     None  [99, 99]  \n",
       "2d035c4b-cdfa-4982-87dc-916fe07a0824_4fb0c6a1-0...     None   [2, 24]  \n",
       "b96ad235-2f4f-4236-9aa3-9df85dfcf7cb_b8a5877a-b...     None    [2, 1]  \n",
       "978eb126-14a0-46cf-bd27-44b6b77cecb7_01fc29bf-0...     None   [6, 10]  \n",
       "2d035c4b-cdfa-4982-87dc-916fe07a0824_47d4e0f3-f...     None      None  \n",
       "\n",
       "[4029 rows x 3 columns]"
      ]
     },
     "execution_count": 57,
     "metadata": {},
     "output_type": "execute_result"
    }
   ],
   "source": [
    "df_bb"
   ]
  },
  {
   "cell_type": "code",
   "execution_count": null,
   "id": "a2af7e2a",
   "metadata": {},
   "outputs": [],
   "source": []
  }
 ],
 "metadata": {
  "kernelspec": {
   "display_name": "Python 3 (ipykernel)",
   "language": "python",
   "name": "python3"
  },
  "language_info": {
   "codemirror_mode": {
    "name": "ipython",
    "version": 3
   },
   "file_extension": ".py",
   "mimetype": "text/x-python",
   "name": "python",
   "nbconvert_exporter": "python",
   "pygments_lexer": "ipython3",
   "version": "3.8.12"
  },
  "toc": {
   "base_numbering": 1,
   "nav_menu": {},
   "number_sections": true,
   "sideBar": true,
   "skip_h1_title": false,
   "title_cell": "Table of Contents",
   "title_sidebar": "Contents",
   "toc_cell": false,
   "toc_position": {},
   "toc_section_display": true,
   "toc_window_display": false
  }
 },
 "nbformat": 4,
 "nbformat_minor": 5
}
