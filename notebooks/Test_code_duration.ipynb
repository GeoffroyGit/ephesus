{
 "cells": [
  {
   "cell_type": "code",
   "execution_count": 1,
   "id": "4b431df2",
   "metadata": {},
   "outputs": [],
   "source": [
    "%load_ext autoreload\n",
    "%autoreload 2"
   ]
  },
  {
   "cell_type": "code",
   "execution_count": 2,
   "id": "2276298c",
   "metadata": {
    "scrolled": true
   },
   "outputs": [
    {
     "name": "stderr",
     "output_type": "stream",
     "text": [
      "2022-06-08 22:42:02.819531: W tensorflow/stream_executor/platform/default/dso_loader.cc:64] Could not load dynamic library 'libcudart.so.11.0'; dlerror: libcudart.so.11.0: cannot open shared object file: No such file or directory\n",
      "2022-06-08 22:42:02.819637: I tensorflow/stream_executor/cuda/cudart_stub.cc:29] Ignore above cudart dlerror if you do not have a GPU set up on your machine.\n"
     ]
    }
   ],
   "source": [
    "from ephesus.data import get_data_csv, get_data_json\n",
    "from ephesus.sentence import return_label, load_model\n",
    "from ephesus.duration import Duration\n",
    "from ephesus.timedate import Date \n",
    "import numpy as np\n",
    "import pandas as pd\n",
    "from ephesus.duration import Duration\n",
    "import re"
   ]
  },
  {
   "cell_type": "code",
   "execution_count": 163,
   "id": "339060e3",
   "metadata": {},
   "outputs": [],
   "source": [
    "df = pd.DataFrame(get_data_csv()[\"translation\"])"
   ]
  },
  {
   "cell_type": "code",
   "execution_count": 164,
   "id": "4a35ea15",
   "metadata": {},
   "outputs": [],
   "source": [
    "model = load_model(\"../models/model_full/model-best\")"
   ]
  },
  {
   "cell_type": "code",
   "execution_count": 165,
   "id": "1cbc3a6a",
   "metadata": {},
   "outputs": [
    {
     "data": {
      "text/html": [
       "<div>\n",
       "<style scoped>\n",
       "    .dataframe tbody tr th:only-of-type {\n",
       "        vertical-align: middle;\n",
       "    }\n",
       "\n",
       "    .dataframe tbody tr th {\n",
       "        vertical-align: top;\n",
       "    }\n",
       "\n",
       "    .dataframe thead th {\n",
       "        text-align: right;\n",
       "    }\n",
       "</style>\n",
       "<table border=\"1\" class=\"dataframe\">\n",
       "  <thead>\n",
       "    <tr style=\"text-align: right;\">\n",
       "      <th></th>\n",
       "      <th>translation</th>\n",
       "    </tr>\n",
       "    <tr>\n",
       "      <th>fichier</th>\n",
       "      <th></th>\n",
       "    </tr>\n",
       "  </thead>\n",
       "  <tbody>\n",
       "    <tr>\n",
       "      <th>9f980dcf-b431-4e67-876f-2b8e288b7900_3b5f3f01-e244-4398-8388-19fb5058c9c1</th>\n",
       "      <td>Prise de sang faite le 19 février à domicile p...</td>\n",
       "    </tr>\n",
       "    <tr>\n",
       "      <th>2d035c4b-cdfa-4982-87dc-916fe07a0824_710f4bda-ba21-434f-883e-1b72df7ea27a</th>\n",
       "      <td>Pansement également refait le 23 mars par mylène.</td>\n",
       "    </tr>\n",
       "    <tr>\n",
       "      <th>b96ad235-2f4f-4236-9aa3-9df85dfcf7cb_ff1697c1-a01f-4eb5-a1c2-b95205dc389a</th>\n",
       "      <td>Pcr plus prise de sang fait à domicile à 11.</td>\n",
       "    </tr>\n",
       "    <tr>\n",
       "      <th>3e7ffb67-8872-4172-bf18-4fe338ecae3f_6e8b49e5-4213-45da-bad6-158592c7f731</th>\n",
       "      <td>Prise de sang et analyse stérile des urines à ...</td>\n",
       "    </tr>\n",
       "    <tr>\n",
       "      <th>2d035c4b-cdfa-4982-87dc-916fe07a0824_56c749ad-eed8-407a-ae9e-a17ebf420cf4</th>\n",
       "      <td>Bonjour, merci de renouveler cette ordonnance ...</td>\n",
       "    </tr>\n",
       "    <tr>\n",
       "      <th>...</th>\n",
       "      <td>...</td>\n",
       "    </tr>\n",
       "    <tr>\n",
       "      <th>a5050600-95ef-43d8-a5fa-a57c791bf843_448853a4-f75e-403a-8fcb-8dfc18f0b4ec</th>\n",
       "      <td>Test antigénique réalisé cet après-midi à domi...</td>\n",
       "    </tr>\n",
       "    <tr>\n",
       "      <th>2d035c4b-cdfa-4982-87dc-916fe07a0824_4fb0c6a1-0562-496a-ae88-1adadec059a6</th>\n",
       "      <td>Réalisation d'une prise de sang chez monsieur ...</td>\n",
       "    </tr>\n",
       "    <tr>\n",
       "      <th>b96ad235-2f4f-4236-9aa3-9df85dfcf7cb_b8a5877a-b8ce-4347-b294-3aa46efbcb34</th>\n",
       "      <td>Ordonnance pour la préparation du pilulier en ...</td>\n",
       "    </tr>\n",
       "    <tr>\n",
       "      <th>978eb126-14a0-46cf-bd27-44b6b77cecb7_01fc29bf-08c4-4e82-99be-8f9f24c5974b</th>\n",
       "      <td>Début des soins le 10 juin. Avec début des sou...</td>\n",
       "    </tr>\n",
       "    <tr>\n",
       "      <th>2d035c4b-cdfa-4982-87dc-916fe07a0824_47d4e0f3-f2f0-4a19-9df1-8ab0894980f9</th>\n",
       "      <td>Prise de sang faite au domicile de la patiente...</td>\n",
       "    </tr>\n",
       "  </tbody>\n",
       "</table>\n",
       "<p>4029 rows × 1 columns</p>\n",
       "</div>"
      ],
      "text/plain": [
       "                                                                                          translation\n",
       "fichier                                                                                              \n",
       "9f980dcf-b431-4e67-876f-2b8e288b7900_3b5f3f01-e...  Prise de sang faite le 19 février à domicile p...\n",
       "2d035c4b-cdfa-4982-87dc-916fe07a0824_710f4bda-b...  Pansement également refait le 23 mars par mylène.\n",
       "b96ad235-2f4f-4236-9aa3-9df85dfcf7cb_ff1697c1-a...       Pcr plus prise de sang fait à domicile à 11.\n",
       "3e7ffb67-8872-4172-bf18-4fe338ecae3f_6e8b49e5-4...  Prise de sang et analyse stérile des urines à ...\n",
       "2d035c4b-cdfa-4982-87dc-916fe07a0824_56c749ad-e...  Bonjour, merci de renouveler cette ordonnance ...\n",
       "...                                                                                               ...\n",
       "a5050600-95ef-43d8-a5fa-a57c791bf843_448853a4-f...  Test antigénique réalisé cet après-midi à domi...\n",
       "2d035c4b-cdfa-4982-87dc-916fe07a0824_4fb0c6a1-0...  Réalisation d'une prise de sang chez monsieur ...\n",
       "b96ad235-2f4f-4236-9aa3-9df85dfcf7cb_b8a5877a-b...  Ordonnance pour la préparation du pilulier en ...\n",
       "978eb126-14a0-46cf-bd27-44b6b77cecb7_01fc29bf-0...  Début des soins le 10 juin. Avec début des sou...\n",
       "2d035c4b-cdfa-4982-87dc-916fe07a0824_47d4e0f3-f...  Prise de sang faite au domicile de la patiente...\n",
       "\n",
       "[4029 rows x 1 columns]"
      ]
     },
     "execution_count": 165,
     "metadata": {},
     "output_type": "execute_result"
    }
   ],
   "source": [
    "df"
   ]
  },
  {
   "cell_type": "code",
   "execution_count": 166,
   "id": "fb977dd4",
   "metadata": {},
   "outputs": [],
   "source": [
    "df[\"entities\"] = df[\"translation\"].apply(lambda x: return_label(x, model))"
   ]
  },
  {
   "cell_type": "code",
   "execution_count": 167,
   "id": "a8ab5e6c",
   "metadata": {},
   "outputs": [],
   "source": [
    "def extract(prediction, label):\n",
    "    for elm in prediction:\n",
    "        if elm[1] == label:\n",
    "            if elm[0] == np.nan:\n",
    "                return np.nan\n",
    "            else:\n",
    "                return elm[0]  "
   ]
  },
  {
   "cell_type": "code",
   "execution_count": 168,
   "id": "74f5b441",
   "metadata": {},
   "outputs": [],
   "source": [
    "df[\"raw_date\"] = df[\"entities\"].apply(lambda x: extract(x,'Date'))"
   ]
  },
  {
   "cell_type": "code",
   "execution_count": 169,
   "id": "ac00d777",
   "metadata": {},
   "outputs": [],
   "source": [
    "df[\"Duration\"] = df[\"entities\"].apply(lambda x: extract(x,'Duration'))"
   ]
  },
  {
   "cell_type": "code",
   "execution_count": 170,
   "id": "d6e3e55b",
   "metadata": {},
   "outputs": [],
   "source": [
    "def apply_date(sentence):\n",
    "    if sentence == None:\n",
    "        return None\n",
    "    else: \n",
    "        df = Date().transform_data(sentence)\n",
    "        return [df.iloc[0,2], df.iloc[0,1]]"
   ]
  },
  {
   "cell_type": "code",
   "execution_count": 171,
   "id": "554402fe",
   "metadata": {},
   "outputs": [
    {
     "data": {
      "text/html": [
       "<div>\n",
       "<style scoped>\n",
       "    .dataframe tbody tr th:only-of-type {\n",
       "        vertical-align: middle;\n",
       "    }\n",
       "\n",
       "    .dataframe tbody tr th {\n",
       "        vertical-align: top;\n",
       "    }\n",
       "\n",
       "    .dataframe thead th {\n",
       "        text-align: right;\n",
       "    }\n",
       "</style>\n",
       "<table border=\"1\" class=\"dataframe\">\n",
       "  <thead>\n",
       "    <tr style=\"text-align: right;\">\n",
       "      <th></th>\n",
       "      <th>data</th>\n",
       "      <th>day</th>\n",
       "      <th>month</th>\n",
       "      <th>year</th>\n",
       "      <th>day_of_week</th>\n",
       "      <th>day_from_today</th>\n",
       "    </tr>\n",
       "  </thead>\n",
       "  <tbody>\n",
       "    <tr>\n",
       "      <th>0</th>\n",
       "      <td>[10, juin]</td>\n",
       "      <td>10</td>\n",
       "      <td>6</td>\n",
       "      <td>99</td>\n",
       "      <td>99</td>\n",
       "      <td>99</td>\n",
       "    </tr>\n",
       "  </tbody>\n",
       "</table>\n",
       "</div>"
      ],
      "text/plain": [
       "         data  day  month  year  day_of_week  day_from_today\n",
       "0  [10, juin]   10      6    99           99              99"
      ]
     },
     "execution_count": 171,
     "metadata": {},
     "output_type": "execute_result"
    }
   ],
   "source": [
    "test = 'le 10 juin'\n",
    "temp = Date().transform_data(test)\n",
    "temp"
   ]
  },
  {
   "cell_type": "code",
   "execution_count": 172,
   "id": "9cfd5369",
   "metadata": {},
   "outputs": [
    {
     "data": {
      "text/plain": [
       "[6, 10]"
      ]
     },
     "execution_count": 172,
     "metadata": {},
     "output_type": "execute_result"
    }
   ],
   "source": [
    "apply_date(test)"
   ]
  },
  {
   "cell_type": "code",
   "execution_count": 173,
   "id": "8dfd4b2d",
   "metadata": {},
   "outputs": [],
   "source": [
    "df[\"Date\"] = df[\"raw_date\"].apply(lambda x: apply_date(x))"
   ]
  },
  {
   "cell_type": "code",
   "execution_count": 174,
   "id": "7e192891",
   "metadata": {},
   "outputs": [],
   "source": [
    "df.drop(columns=[\"entities\", \"raw_date\"], inplace=True)"
   ]
  },
  {
   "cell_type": "code",
   "execution_count": 175,
   "id": "d7e468a9",
   "metadata": {},
   "outputs": [
    {
     "data": {
      "text/html": [
       "<div>\n",
       "<style scoped>\n",
       "    .dataframe tbody tr th:only-of-type {\n",
       "        vertical-align: middle;\n",
       "    }\n",
       "\n",
       "    .dataframe tbody tr th {\n",
       "        vertical-align: top;\n",
       "    }\n",
       "\n",
       "    .dataframe thead th {\n",
       "        text-align: right;\n",
       "    }\n",
       "</style>\n",
       "<table border=\"1\" class=\"dataframe\">\n",
       "  <thead>\n",
       "    <tr style=\"text-align: right;\">\n",
       "      <th></th>\n",
       "      <th>translation</th>\n",
       "      <th>Duration</th>\n",
       "      <th>Date</th>\n",
       "    </tr>\n",
       "    <tr>\n",
       "      <th>fichier</th>\n",
       "      <th></th>\n",
       "      <th></th>\n",
       "      <th></th>\n",
       "    </tr>\n",
       "  </thead>\n",
       "  <tbody>\n",
       "    <tr>\n",
       "      <th>9f980dcf-b431-4e67-876f-2b8e288b7900_3b5f3f01-e244-4398-8388-19fb5058c9c1</th>\n",
       "      <td>Prise de sang faite le 19 février à domicile p...</td>\n",
       "      <td>None</td>\n",
       "      <td>[2, 19]</td>\n",
       "    </tr>\n",
       "    <tr>\n",
       "      <th>2d035c4b-cdfa-4982-87dc-916fe07a0824_710f4bda-ba21-434f-883e-1b72df7ea27a</th>\n",
       "      <td>Pansement également refait le 23 mars par mylène.</td>\n",
       "      <td>None</td>\n",
       "      <td>[3, 23]</td>\n",
       "    </tr>\n",
       "    <tr>\n",
       "      <th>b96ad235-2f4f-4236-9aa3-9df85dfcf7cb_ff1697c1-a01f-4eb5-a1c2-b95205dc389a</th>\n",
       "      <td>Pcr plus prise de sang fait à domicile à 11.</td>\n",
       "      <td>None</td>\n",
       "      <td>None</td>\n",
       "    </tr>\n",
       "    <tr>\n",
       "      <th>3e7ffb67-8872-4172-bf18-4fe338ecae3f_6e8b49e5-4213-45da-bad6-158592c7f731</th>\n",
       "      <td>Prise de sang et analyse stérile des urines à ...</td>\n",
       "      <td>None</td>\n",
       "      <td>[2, 18]</td>\n",
       "    </tr>\n",
       "    <tr>\n",
       "      <th>2d035c4b-cdfa-4982-87dc-916fe07a0824_56c749ad-eed8-407a-ae9e-a17ebf420cf4</th>\n",
       "      <td>Bonjour, merci de renouveler cette ordonnance ...</td>\n",
       "      <td>None</td>\n",
       "      <td>None</td>\n",
       "    </tr>\n",
       "  </tbody>\n",
       "</table>\n",
       "</div>"
      ],
      "text/plain": [
       "                                                                                          translation  \\\n",
       "fichier                                                                                                 \n",
       "9f980dcf-b431-4e67-876f-2b8e288b7900_3b5f3f01-e...  Prise de sang faite le 19 février à domicile p...   \n",
       "2d035c4b-cdfa-4982-87dc-916fe07a0824_710f4bda-b...  Pansement également refait le 23 mars par mylène.   \n",
       "b96ad235-2f4f-4236-9aa3-9df85dfcf7cb_ff1697c1-a...       Pcr plus prise de sang fait à domicile à 11.   \n",
       "3e7ffb67-8872-4172-bf18-4fe338ecae3f_6e8b49e5-4...  Prise de sang et analyse stérile des urines à ...   \n",
       "2d035c4b-cdfa-4982-87dc-916fe07a0824_56c749ad-e...  Bonjour, merci de renouveler cette ordonnance ...   \n",
       "\n",
       "                                                   Duration     Date  \n",
       "fichier                                                               \n",
       "9f980dcf-b431-4e67-876f-2b8e288b7900_3b5f3f01-e...     None  [2, 19]  \n",
       "2d035c4b-cdfa-4982-87dc-916fe07a0824_710f4bda-b...     None  [3, 23]  \n",
       "b96ad235-2f4f-4236-9aa3-9df85dfcf7cb_ff1697c1-a...     None     None  \n",
       "3e7ffb67-8872-4172-bf18-4fe338ecae3f_6e8b49e5-4...     None  [2, 18]  \n",
       "2d035c4b-cdfa-4982-87dc-916fe07a0824_56c749ad-e...     None     None  "
      ]
     },
     "execution_count": 175,
     "metadata": {},
     "output_type": "execute_result"
    }
   ],
   "source": [
    "df.head()"
   ]
  },
  {
   "cell_type": "code",
   "execution_count": 111,
   "id": "7c7ba329",
   "metadata": {},
   "outputs": [
    {
     "data": {
      "text/plain": [
       "{'CareDuration': ['3 semaines'],\n",
       " 'CareDurationType': ['Weeks'],\n",
       " 'CareEnd': [nan]}"
      ]
     },
     "execution_count": 111,
     "metadata": {},
     "output_type": "execute_result"
    }
   ],
   "source": [
    "Duration().explicit_duration(\"pendant 3 semaines\")"
   ]
  },
  {
   "cell_type": "code",
   "execution_count": 109,
   "id": "09ae11f9",
   "metadata": {},
   "outputs": [],
   "source": [
    "test = Duration()"
   ]
  },
  {
   "cell_type": "code",
   "execution_count": 110,
   "id": "fef1e7b6",
   "metadata": {},
   "outputs": [
    {
     "data": {
      "text/plain": [
       "{'CareDuration': ['3 jours'], 'CareDurationType': ['Days'], 'CareEnd': [nan]}"
      ]
     },
     "execution_count": 110,
     "metadata": {},
     "output_type": "execute_result"
    }
   ],
   "source": [
    "test.explicit_duration(\"pendant 3 jours\")"
   ]
  },
  {
   "cell_type": "code",
   "execution_count": 19,
   "id": "c76b325d",
   "metadata": {},
   "outputs": [],
   "source": [
    "df.iloc[0,2][0] = df.iloc[0,2][0] + 2 "
   ]
  },
  {
   "cell_type": "code",
   "execution_count": 20,
   "id": "1e01cd97",
   "metadata": {},
   "outputs": [
    {
     "data": {
      "text/plain": [
       "4"
      ]
     },
     "execution_count": 20,
     "metadata": {},
     "output_type": "execute_result"
    }
   ],
   "source": [
    "df.iloc[0,2][0]"
   ]
  },
  {
   "cell_type": "code",
   "execution_count": 21,
   "id": "cc0c8909",
   "metadata": {},
   "outputs": [
    {
     "data": {
      "text/plain": [
       "'(janvier|février|mars|avril|mai|juin|juillet|août|septembre|octobre|novembre|décembre)'"
      ]
     },
     "execution_count": 21,
     "metadata": {},
     "output_type": "execute_result"
    }
   ],
   "source": [
    "test.liste_mois"
   ]
  },
  {
   "cell_type": "code",
   "execution_count": 32,
   "id": "b48e3649",
   "metadata": {},
   "outputs": [
    {
     "data": {
      "text/plain": [
       "{'CareDuration': [nan], 'CareDurationType': [nan], 'CareEnd': ['24 juin']}"
      ]
     },
     "execution_count": 32,
     "metadata": {},
     "output_type": "execute_result"
    }
   ],
   "source": [
    "test.implicit_duration_1('jusqu\\'au 24 juin')"
   ]
  },
  {
   "cell_type": "code",
   "execution_count": 33,
   "id": "e0518794",
   "metadata": {},
   "outputs": [
    {
     "data": {
      "text/plain": [
       "{'CareDuration': [14], 'CareDurationType': ['Days'], 'CareEnd': ['24 juin']}"
      ]
     },
     "execution_count": 33,
     "metadata": {},
     "output_type": "execute_result"
    }
   ],
   "source": [
    "test.implicit_duration_1('jusqu\\'au 24 juin',(6,10))"
   ]
  },
  {
   "cell_type": "code",
   "execution_count": 34,
   "id": "def690d7",
   "metadata": {},
   "outputs": [
    {
     "data": {
      "text/plain": [
       "{'CareDuration': [nan], 'CareDurationType': ['Days'], 'CareEnd': ['16 juin']}"
      ]
     },
     "execution_count": 34,
     "metadata": {},
     "output_type": "execute_result"
    }
   ],
   "source": [
    "test.get_duration(sentence='jusqu\\'au 16 juin', CareBeginDate=[6,20])"
   ]
  },
  {
   "cell_type": "code",
   "execution_count": 27,
   "id": "3cd6455c",
   "metadata": {},
   "outputs": [],
   "source": [
    "liste_mois = '(janvier|février|mars|avril|mai|juin|juillet|août|septembre|octobre|novembre|décembre)'"
   ]
  },
  {
   "cell_type": "code",
   "execution_count": 28,
   "id": "c401cb54",
   "metadata": {},
   "outputs": [
    {
     "data": {
      "text/plain": [
       "<re.Match object; span=(9, 16), match='16 juin'>"
      ]
     },
     "execution_count": 28,
     "metadata": {},
     "output_type": "execute_result"
    }
   ],
   "source": [
    "re.search(\"(?<=jusqu\\'au\\s)(\\w\\s)*\\d{1,2}\\s\"+liste_mois, 'jusqu\\'au 16 juin')"
   ]
  },
  {
   "cell_type": "code",
   "execution_count": 35,
   "id": "94f783d6",
   "metadata": {},
   "outputs": [
    {
     "data": {
      "text/plain": [
       "{'CareDuration': [nan], 'CareDurationType': [nan], 'CareEnd': ['16 juin']}"
      ]
     },
     "execution_count": 35,
     "metadata": {},
     "output_type": "execute_result"
    }
   ],
   "source": [
    "test.get_duration(sentence=\"jusqu'au 16 juin\")"
   ]
  },
  {
   "cell_type": "code",
   "execution_count": 36,
   "id": "a19a0863",
   "metadata": {},
   "outputs": [
    {
     "data": {
      "text/plain": [
       "{'CareDuration': ['10'], 'CareDurationType': ['Days'], 'CareEnd': [nan]}"
      ]
     },
     "execution_count": 36,
     "metadata": {},
     "output_type": "execute_result"
    }
   ],
   "source": [
    "test.get_duration(sentence='pour 10 jours')"
   ]
  },
  {
   "cell_type": "code",
   "execution_count": 37,
   "id": "714f9b58",
   "metadata": {},
   "outputs": [],
   "source": [
    "def get_duration_df(x):\n",
    "    if x is None:\n",
    "        return None"
   ]
  },
  {
   "cell_type": "code",
   "execution_count": 39,
   "id": "c628fcb9",
   "metadata": {},
   "outputs": [],
   "source": [
    "test = pd.DataFrame()"
   ]
  },
  {
   "cell_type": "code",
   "execution_count": 40,
   "id": "ca9961c1",
   "metadata": {},
   "outputs": [
    {
     "data": {
      "text/plain": [
       "True"
      ]
     },
     "execution_count": 40,
     "metadata": {},
     "output_type": "execute_result"
    }
   ],
   "source": [
    "type(test) == pd.core.frame.DataFrame"
   ]
  },
  {
   "cell_type": "code",
   "execution_count": 41,
   "id": "a11245ed",
   "metadata": {},
   "outputs": [
    {
     "data": {
      "text/plain": [
       "pandas.core.series.Series"
      ]
     },
     "execution_count": 41,
     "metadata": {},
     "output_type": "execute_result"
    }
   ],
   "source": [
    "type(df[\"Duration\"])"
   ]
  },
  {
   "cell_type": "code",
   "execution_count": 42,
   "id": "8f3769a8",
   "metadata": {},
   "outputs": [],
   "source": [
    "duration = df[\"Duration\"]\n",
    "date = df[\"Date\"]"
   ]
  },
  {
   "cell_type": "code",
   "execution_count": 46,
   "id": "0ebee199",
   "metadata": {},
   "outputs": [
    {
     "data": {
      "text/html": [
       "<div>\n",
       "<style scoped>\n",
       "    .dataframe tbody tr th:only-of-type {\n",
       "        vertical-align: middle;\n",
       "    }\n",
       "\n",
       "    .dataframe tbody tr th {\n",
       "        vertical-align: top;\n",
       "    }\n",
       "\n",
       "    .dataframe thead th {\n",
       "        text-align: right;\n",
       "    }\n",
       "</style>\n",
       "<table border=\"1\" class=\"dataframe\">\n",
       "  <thead>\n",
       "    <tr style=\"text-align: right;\">\n",
       "      <th></th>\n",
       "      <th>translation</th>\n",
       "      <th>Duration</th>\n",
       "      <th>Date</th>\n",
       "    </tr>\n",
       "    <tr>\n",
       "      <th>fichier</th>\n",
       "      <th></th>\n",
       "      <th></th>\n",
       "      <th></th>\n",
       "    </tr>\n",
       "  </thead>\n",
       "  <tbody>\n",
       "    <tr>\n",
       "      <th>55d674cc-3389-4cf6-ab7c-1f1b9fa1b6ed_3e005951-47a1-4edb-ab50-ce602fe56c54</th>\n",
       "      <td>Renouvellement du bsc. D'une durée de un an à ...</td>\n",
       "      <td>une durée de un an</td>\n",
       "      <td>[5, 21]</td>\n",
       "    </tr>\n",
       "    <tr>\n",
       "      <th>2d035c4b-cdfa-4982-87dc-916fe07a0824_2dfdf4ab-fc95-4ec1-8e03-af502b95baf8</th>\n",
       "      <td>Ordonnance pour la réalisation de injection de...</td>\n",
       "      <td>pour 6 jours</td>\n",
       "      <td>[4, 17]</td>\n",
       "    </tr>\n",
       "    <tr>\n",
       "      <th>c619f0e1-7c22-4047-adb2-df4dec6643ba_8214d80f-0f7d-4e0d-9d4a-23294f9690b3</th>\n",
       "      <td>Soin débuté le vendredi 14 janvier 2022 jusqu'...</td>\n",
       "      <td>jusqu'au lundi 17 janvier 2022</td>\n",
       "      <td>[1, 14]</td>\n",
       "    </tr>\n",
       "    <tr>\n",
       "      <th>f0caa21b-c11d-40a3-98ec-e2df3d2b9cc4_7e5c146c-2faa-44ce-9228-ee5addf48580</th>\n",
       "      <td>Soin débuté le 10 avril,  à réaliser donc le s...</td>\n",
       "      <td>pendant 15 jours</td>\n",
       "      <td>[4, 10]</td>\n",
       "    </tr>\n",
       "    <tr>\n",
       "      <th>9d42ce6f-8537-49a9-a121-c8ae1dc7cda8_3ffbf9cc-b9e4-405d-a038-fb4f9e036a72</th>\n",
       "      <td>Pour monsieur Didier Nicolas, donc un passage ...</td>\n",
       "      <td>jusqu'au 8/12/2019</td>\n",
       "      <td>[99, 25]</td>\n",
       "    </tr>\n",
       "    <tr>\n",
       "      <th>...</th>\n",
       "      <td>...</td>\n",
       "      <td>...</td>\n",
       "      <td>...</td>\n",
       "    </tr>\n",
       "    <tr>\n",
       "      <th>3e7ffb67-8872-4172-bf18-4fe338ecae3f_04fe104b-9843-4abc-b467-a9301c5eb3a2</th>\n",
       "      <td>Injection sous-cutanée à réaliser une fois par...</td>\n",
       "      <td>pendant 8 jours</td>\n",
       "      <td>[7, 9]</td>\n",
       "    </tr>\n",
       "    <tr>\n",
       "      <th>3e7ffb67-8872-4172-bf18-4fe338ecae3f_67dbeda4-1876-41a6-8249-68f1dfeebb70</th>\n",
       "      <td>Nouvelle ordonnance pour madame Gris Rennes. O...</td>\n",
       "      <td>pendant un mois</td>\n",
       "      <td>[7, 20]</td>\n",
       "    </tr>\n",
       "    <tr>\n",
       "      <th>3e7ffb67-8872-4172-bf18-4fe338ecae3f_80f9b3d2-47b8-4152-9e45-a26dcf173335</th>\n",
       "      <td>Injection sous-cutanée à faire une fois par jo...</td>\n",
       "      <td>pendant 30 jours</td>\n",
       "      <td>[4, 7]</td>\n",
       "    </tr>\n",
       "    <tr>\n",
       "      <th>b96ad235-2f4f-4236-9aa3-9df85dfcf7cb_b1cb90a1-acbb-40c6-963d-10ebac5fb0d4</th>\n",
       "      <td>Ordonnance daté du 31 mai 2021 faite par le ce...</td>\n",
       "      <td>valable pour un an</td>\n",
       "      <td>[5, 31]</td>\n",
       "    </tr>\n",
       "    <tr>\n",
       "      <th>74b154c1-e265-4cb9-8e71-0c9bbc3dc880_5c18e09e-9dfc-421d-92b2-73b6a22d2ddc</th>\n",
       "      <td>Oui, bonjour dany, c'est sylvie, je viens de v...</td>\n",
       "      <td>pendant 15 pendant</td>\n",
       "      <td>[99, 99]</td>\n",
       "    </tr>\n",
       "  </tbody>\n",
       "</table>\n",
       "<p>306 rows × 3 columns</p>\n",
       "</div>"
      ],
      "text/plain": [
       "                                                                                          translation  \\\n",
       "fichier                                                                                                 \n",
       "55d674cc-3389-4cf6-ab7c-1f1b9fa1b6ed_3e005951-4...  Renouvellement du bsc. D'une durée de un an à ...   \n",
       "2d035c4b-cdfa-4982-87dc-916fe07a0824_2dfdf4ab-f...  Ordonnance pour la réalisation de injection de...   \n",
       "c619f0e1-7c22-4047-adb2-df4dec6643ba_8214d80f-0...  Soin débuté le vendredi 14 janvier 2022 jusqu'...   \n",
       "f0caa21b-c11d-40a3-98ec-e2df3d2b9cc4_7e5c146c-2...  Soin débuté le 10 avril,  à réaliser donc le s...   \n",
       "9d42ce6f-8537-49a9-a121-c8ae1dc7cda8_3ffbf9cc-b...  Pour monsieur Didier Nicolas, donc un passage ...   \n",
       "...                                                                                               ...   \n",
       "3e7ffb67-8872-4172-bf18-4fe338ecae3f_04fe104b-9...  Injection sous-cutanée à réaliser une fois par...   \n",
       "3e7ffb67-8872-4172-bf18-4fe338ecae3f_67dbeda4-1...  Nouvelle ordonnance pour madame Gris Rennes. O...   \n",
       "3e7ffb67-8872-4172-bf18-4fe338ecae3f_80f9b3d2-4...  Injection sous-cutanée à faire une fois par jo...   \n",
       "b96ad235-2f4f-4236-9aa3-9df85dfcf7cb_b1cb90a1-a...  Ordonnance daté du 31 mai 2021 faite par le ce...   \n",
       "74b154c1-e265-4cb9-8e71-0c9bbc3dc880_5c18e09e-9...  Oui, bonjour dany, c'est sylvie, je viens de v...   \n",
       "\n",
       "                                                                          Duration  \\\n",
       "fichier                                                                              \n",
       "55d674cc-3389-4cf6-ab7c-1f1b9fa1b6ed_3e005951-4...              une durée de un an   \n",
       "2d035c4b-cdfa-4982-87dc-916fe07a0824_2dfdf4ab-f...                    pour 6 jours   \n",
       "c619f0e1-7c22-4047-adb2-df4dec6643ba_8214d80f-0...  jusqu'au lundi 17 janvier 2022   \n",
       "f0caa21b-c11d-40a3-98ec-e2df3d2b9cc4_7e5c146c-2...                pendant 15 jours   \n",
       "9d42ce6f-8537-49a9-a121-c8ae1dc7cda8_3ffbf9cc-b...              jusqu'au 8/12/2019   \n",
       "...                                                                            ...   \n",
       "3e7ffb67-8872-4172-bf18-4fe338ecae3f_04fe104b-9...                 pendant 8 jours   \n",
       "3e7ffb67-8872-4172-bf18-4fe338ecae3f_67dbeda4-1...                 pendant un mois   \n",
       "3e7ffb67-8872-4172-bf18-4fe338ecae3f_80f9b3d2-4...                pendant 30 jours   \n",
       "b96ad235-2f4f-4236-9aa3-9df85dfcf7cb_b1cb90a1-a...              valable pour un an   \n",
       "74b154c1-e265-4cb9-8e71-0c9bbc3dc880_5c18e09e-9...              pendant 15 pendant   \n",
       "\n",
       "                                                        Date  \n",
       "fichier                                                       \n",
       "55d674cc-3389-4cf6-ab7c-1f1b9fa1b6ed_3e005951-4...   [5, 21]  \n",
       "2d035c4b-cdfa-4982-87dc-916fe07a0824_2dfdf4ab-f...   [4, 17]  \n",
       "c619f0e1-7c22-4047-adb2-df4dec6643ba_8214d80f-0...   [1, 14]  \n",
       "f0caa21b-c11d-40a3-98ec-e2df3d2b9cc4_7e5c146c-2...   [4, 10]  \n",
       "9d42ce6f-8537-49a9-a121-c8ae1dc7cda8_3ffbf9cc-b...  [99, 25]  \n",
       "...                                                      ...  \n",
       "3e7ffb67-8872-4172-bf18-4fe338ecae3f_04fe104b-9...    [7, 9]  \n",
       "3e7ffb67-8872-4172-bf18-4fe338ecae3f_67dbeda4-1...   [7, 20]  \n",
       "3e7ffb67-8872-4172-bf18-4fe338ecae3f_80f9b3d2-4...    [4, 7]  \n",
       "b96ad235-2f4f-4236-9aa3-9df85dfcf7cb_b1cb90a1-a...   [5, 31]  \n",
       "74b154c1-e265-4cb9-8e71-0c9bbc3dc880_5c18e09e-9...  [99, 99]  \n",
       "\n",
       "[306 rows x 3 columns]"
      ]
     },
     "execution_count": 46,
     "metadata": {},
     "output_type": "execute_result"
    }
   ],
   "source": [
    "df_temp = df.dropna()\n",
    "df_temp"
   ]
  },
  {
   "cell_type": "code",
   "execution_count": 47,
   "id": "56af0b18",
   "metadata": {},
   "outputs": [],
   "source": [
    "test_1 = Duration().explicit_duration(\"pour 4 jours\")"
   ]
  },
  {
   "cell_type": "code",
   "execution_count": 48,
   "id": "04fbc6b4",
   "metadata": {},
   "outputs": [],
   "source": [
    "test_2 = Duration().explicit_duration(\"pendant 8 mois\")"
   ]
  },
  {
   "cell_type": "code",
   "execution_count": 49,
   "id": "96a7e04e",
   "metadata": {},
   "outputs": [
    {
     "data": {
      "text/html": [
       "<div>\n",
       "<style scoped>\n",
       "    .dataframe tbody tr th:only-of-type {\n",
       "        vertical-align: middle;\n",
       "    }\n",
       "\n",
       "    .dataframe tbody tr th {\n",
       "        vertical-align: top;\n",
       "    }\n",
       "\n",
       "    .dataframe thead th {\n",
       "        text-align: right;\n",
       "    }\n",
       "</style>\n",
       "<table border=\"1\" class=\"dataframe\">\n",
       "  <thead>\n",
       "    <tr style=\"text-align: right;\">\n",
       "      <th></th>\n",
       "      <th>test</th>\n",
       "    </tr>\n",
       "  </thead>\n",
       "  <tbody>\n",
       "    <tr>\n",
       "      <th>0</th>\n",
       "      <td>{'CareDuration': ['4'], 'CareDurationType': ['...</td>\n",
       "    </tr>\n",
       "    <tr>\n",
       "      <th>1</th>\n",
       "      <td>{'CareDuration': ['8'], 'CareDurationType': ['...</td>\n",
       "    </tr>\n",
       "  </tbody>\n",
       "</table>\n",
       "</div>"
      ],
      "text/plain": [
       "                                                test\n",
       "0  {'CareDuration': ['4'], 'CareDurationType': ['...\n",
       "1  {'CareDuration': ['8'], 'CareDurationType': ['..."
      ]
     },
     "execution_count": 49,
     "metadata": {},
     "output_type": "execute_result"
    }
   ],
   "source": [
    "full_test = pd.DataFrame({'test':[test_1,test_2]})\n",
    "full_test"
   ]
  },
  {
   "cell_type": "code",
   "execution_count": 50,
   "id": "0459a6d2",
   "metadata": {},
   "outputs": [],
   "source": [
    "full_test['CareDuration'] = full_test[\"test\"].apply(lambda x:x['CareDuration'][0])"
   ]
  },
  {
   "cell_type": "code",
   "execution_count": 51,
   "id": "61fa1693",
   "metadata": {},
   "outputs": [
    {
     "data": {
      "text/html": [
       "<div>\n",
       "<style scoped>\n",
       "    .dataframe tbody tr th:only-of-type {\n",
       "        vertical-align: middle;\n",
       "    }\n",
       "\n",
       "    .dataframe tbody tr th {\n",
       "        vertical-align: top;\n",
       "    }\n",
       "\n",
       "    .dataframe thead th {\n",
       "        text-align: right;\n",
       "    }\n",
       "</style>\n",
       "<table border=\"1\" class=\"dataframe\">\n",
       "  <thead>\n",
       "    <tr style=\"text-align: right;\">\n",
       "      <th></th>\n",
       "      <th>test</th>\n",
       "      <th>CareDuration</th>\n",
       "    </tr>\n",
       "  </thead>\n",
       "  <tbody>\n",
       "    <tr>\n",
       "      <th>0</th>\n",
       "      <td>{'CareDuration': ['4'], 'CareDurationType': ['...</td>\n",
       "      <td>4</td>\n",
       "    </tr>\n",
       "    <tr>\n",
       "      <th>1</th>\n",
       "      <td>{'CareDuration': ['8'], 'CareDurationType': ['...</td>\n",
       "      <td>8</td>\n",
       "    </tr>\n",
       "  </tbody>\n",
       "</table>\n",
       "</div>"
      ],
      "text/plain": [
       "                                                test CareDuration\n",
       "0  {'CareDuration': ['4'], 'CareDurationType': ['...            4\n",
       "1  {'CareDuration': ['8'], 'CareDurationType': ['...            8"
      ]
     },
     "execution_count": 51,
     "metadata": {},
     "output_type": "execute_result"
    }
   ],
   "source": [
    "full_test"
   ]
  },
  {
   "cell_type": "code",
   "execution_count": 52,
   "id": "17316030",
   "metadata": {},
   "outputs": [
    {
     "data": {
      "text/html": [
       "<div>\n",
       "<style scoped>\n",
       "    .dataframe tbody tr th:only-of-type {\n",
       "        vertical-align: middle;\n",
       "    }\n",
       "\n",
       "    .dataframe tbody tr th {\n",
       "        vertical-align: top;\n",
       "    }\n",
       "\n",
       "    .dataframe thead th {\n",
       "        text-align: right;\n",
       "    }\n",
       "</style>\n",
       "<table border=\"1\" class=\"dataframe\">\n",
       "  <thead>\n",
       "    <tr style=\"text-align: right;\">\n",
       "      <th></th>\n",
       "      <th>CareDuration</th>\n",
       "      <th>CareDurationType</th>\n",
       "      <th>CareEnd</th>\n",
       "    </tr>\n",
       "  </thead>\n",
       "  <tbody>\n",
       "    <tr>\n",
       "      <th>0</th>\n",
       "      <td>10</td>\n",
       "      <td>Days</td>\n",
       "      <td>20 juin</td>\n",
       "    </tr>\n",
       "  </tbody>\n",
       "</table>\n",
       "</div>"
      ],
      "text/plain": [
       "   CareDuration CareDurationType  CareEnd\n",
       "0            10             Days  20 juin"
      ]
     },
     "execution_count": 52,
     "metadata": {},
     "output_type": "execute_result"
    }
   ],
   "source": [
    "Duration().implicit_duration_1(\"jusqu'au 20 juin\", [6,10],df=True)"
   ]
  },
  {
   "cell_type": "code",
   "execution_count": 53,
   "id": "f2ea42d4",
   "metadata": {},
   "outputs": [
    {
     "data": {
      "text/html": [
       "<div>\n",
       "<style scoped>\n",
       "    .dataframe tbody tr th:only-of-type {\n",
       "        vertical-align: middle;\n",
       "    }\n",
       "\n",
       "    .dataframe tbody tr th {\n",
       "        vertical-align: top;\n",
       "    }\n",
       "\n",
       "    .dataframe thead th {\n",
       "        text-align: right;\n",
       "    }\n",
       "</style>\n",
       "<table border=\"1\" class=\"dataframe\">\n",
       "  <thead>\n",
       "    <tr style=\"text-align: right;\">\n",
       "      <th></th>\n",
       "      <th>translation</th>\n",
       "      <th>Duration</th>\n",
       "      <th>Date</th>\n",
       "    </tr>\n",
       "    <tr>\n",
       "      <th>fichier</th>\n",
       "      <th></th>\n",
       "      <th></th>\n",
       "      <th></th>\n",
       "    </tr>\n",
       "  </thead>\n",
       "  <tbody>\n",
       "    <tr>\n",
       "      <th>9f980dcf-b431-4e67-876f-2b8e288b7900_3b5f3f01-e244-4398-8388-19fb5058c9c1</th>\n",
       "      <td>Prise de sang faite le 19 février à domicile p...</td>\n",
       "      <td>None</td>\n",
       "      <td>[4, 19]</td>\n",
       "    </tr>\n",
       "    <tr>\n",
       "      <th>2d035c4b-cdfa-4982-87dc-916fe07a0824_710f4bda-ba21-434f-883e-1b72df7ea27a</th>\n",
       "      <td>Pansement également refait le 23 mars par mylène.</td>\n",
       "      <td>None</td>\n",
       "      <td>[3, 23]</td>\n",
       "    </tr>\n",
       "    <tr>\n",
       "      <th>b96ad235-2f4f-4236-9aa3-9df85dfcf7cb_ff1697c1-a01f-4eb5-a1c2-b95205dc389a</th>\n",
       "      <td>Pcr plus prise de sang fait à domicile à 11.</td>\n",
       "      <td>None</td>\n",
       "      <td>None</td>\n",
       "    </tr>\n",
       "    <tr>\n",
       "      <th>3e7ffb67-8872-4172-bf18-4fe338ecae3f_6e8b49e5-4213-45da-bad6-158592c7f731</th>\n",
       "      <td>Prise de sang et analyse stérile des urines à ...</td>\n",
       "      <td>None</td>\n",
       "      <td>[2, 18]</td>\n",
       "    </tr>\n",
       "    <tr>\n",
       "      <th>2d035c4b-cdfa-4982-87dc-916fe07a0824_56c749ad-eed8-407a-ae9e-a17ebf420cf4</th>\n",
       "      <td>Bonjour, merci de renouveler cette ordonnance ...</td>\n",
       "      <td>None</td>\n",
       "      <td>None</td>\n",
       "    </tr>\n",
       "    <tr>\n",
       "      <th>...</th>\n",
       "      <td>...</td>\n",
       "      <td>...</td>\n",
       "      <td>...</td>\n",
       "    </tr>\n",
       "    <tr>\n",
       "      <th>a5050600-95ef-43d8-a5fa-a57c791bf843_448853a4-f75e-403a-8fcb-8dfc18f0b4ec</th>\n",
       "      <td>Test antigénique réalisé cet après-midi à domi...</td>\n",
       "      <td>None</td>\n",
       "      <td>[99, 99]</td>\n",
       "    </tr>\n",
       "    <tr>\n",
       "      <th>2d035c4b-cdfa-4982-87dc-916fe07a0824_4fb0c6a1-0562-496a-ae88-1adadec059a6</th>\n",
       "      <td>Réalisation d'une prise de sang chez monsieur ...</td>\n",
       "      <td>None</td>\n",
       "      <td>[2, 24]</td>\n",
       "    </tr>\n",
       "    <tr>\n",
       "      <th>b96ad235-2f4f-4236-9aa3-9df85dfcf7cb_b8a5877a-b8ce-4347-b294-3aa46efbcb34</th>\n",
       "      <td>Ordonnance pour la préparation du pilulier en ...</td>\n",
       "      <td>None</td>\n",
       "      <td>[2, 1]</td>\n",
       "    </tr>\n",
       "    <tr>\n",
       "      <th>978eb126-14a0-46cf-bd27-44b6b77cecb7_01fc29bf-08c4-4e82-99be-8f9f24c5974b</th>\n",
       "      <td>Début des soins le 10 juin. Avec début des sou...</td>\n",
       "      <td>None</td>\n",
       "      <td>[6, 10]</td>\n",
       "    </tr>\n",
       "    <tr>\n",
       "      <th>2d035c4b-cdfa-4982-87dc-916fe07a0824_47d4e0f3-f2f0-4a19-9df1-8ab0894980f9</th>\n",
       "      <td>Prise de sang faite au domicile de la patiente...</td>\n",
       "      <td>None</td>\n",
       "      <td>None</td>\n",
       "    </tr>\n",
       "  </tbody>\n",
       "</table>\n",
       "<p>4029 rows × 3 columns</p>\n",
       "</div>"
      ],
      "text/plain": [
       "                                                                                          translation  \\\n",
       "fichier                                                                                                 \n",
       "9f980dcf-b431-4e67-876f-2b8e288b7900_3b5f3f01-e...  Prise de sang faite le 19 février à domicile p...   \n",
       "2d035c4b-cdfa-4982-87dc-916fe07a0824_710f4bda-b...  Pansement également refait le 23 mars par mylène.   \n",
       "b96ad235-2f4f-4236-9aa3-9df85dfcf7cb_ff1697c1-a...       Pcr plus prise de sang fait à domicile à 11.   \n",
       "3e7ffb67-8872-4172-bf18-4fe338ecae3f_6e8b49e5-4...  Prise de sang et analyse stérile des urines à ...   \n",
       "2d035c4b-cdfa-4982-87dc-916fe07a0824_56c749ad-e...  Bonjour, merci de renouveler cette ordonnance ...   \n",
       "...                                                                                               ...   \n",
       "a5050600-95ef-43d8-a5fa-a57c791bf843_448853a4-f...  Test antigénique réalisé cet après-midi à domi...   \n",
       "2d035c4b-cdfa-4982-87dc-916fe07a0824_4fb0c6a1-0...  Réalisation d'une prise de sang chez monsieur ...   \n",
       "b96ad235-2f4f-4236-9aa3-9df85dfcf7cb_b8a5877a-b...  Ordonnance pour la préparation du pilulier en ...   \n",
       "978eb126-14a0-46cf-bd27-44b6b77cecb7_01fc29bf-0...  Début des soins le 10 juin. Avec début des sou...   \n",
       "2d035c4b-cdfa-4982-87dc-916fe07a0824_47d4e0f3-f...  Prise de sang faite au domicile de la patiente...   \n",
       "\n",
       "                                                   Duration      Date  \n",
       "fichier                                                                \n",
       "9f980dcf-b431-4e67-876f-2b8e288b7900_3b5f3f01-e...     None   [4, 19]  \n",
       "2d035c4b-cdfa-4982-87dc-916fe07a0824_710f4bda-b...     None   [3, 23]  \n",
       "b96ad235-2f4f-4236-9aa3-9df85dfcf7cb_ff1697c1-a...     None      None  \n",
       "3e7ffb67-8872-4172-bf18-4fe338ecae3f_6e8b49e5-4...     None   [2, 18]  \n",
       "2d035c4b-cdfa-4982-87dc-916fe07a0824_56c749ad-e...     None      None  \n",
       "...                                                     ...       ...  \n",
       "a5050600-95ef-43d8-a5fa-a57c791bf843_448853a4-f...     None  [99, 99]  \n",
       "2d035c4b-cdfa-4982-87dc-916fe07a0824_4fb0c6a1-0...     None   [2, 24]  \n",
       "b96ad235-2f4f-4236-9aa3-9df85dfcf7cb_b8a5877a-b...     None    [2, 1]  \n",
       "978eb126-14a0-46cf-bd27-44b6b77cecb7_01fc29bf-0...     None   [6, 10]  \n",
       "2d035c4b-cdfa-4982-87dc-916fe07a0824_47d4e0f3-f...     None      None  \n",
       "\n",
       "[4029 rows x 3 columns]"
      ]
     },
     "execution_count": 53,
     "metadata": {},
     "output_type": "execute_result"
    }
   ],
   "source": [
    "df"
   ]
  },
  {
   "cell_type": "code",
   "execution_count": 69,
   "id": "8bec2431",
   "metadata": {},
   "outputs": [],
   "source": [
    "def test(x):\n",
    "    if x is None:\n",
    "        return None\n",
    "    return Duration().implicit_duration_1(x)"
   ]
  },
  {
   "cell_type": "code",
   "execution_count": 70,
   "id": "6502e047",
   "metadata": {},
   "outputs": [],
   "source": [
    "df_temp = df.copy().dropna()"
   ]
  },
  {
   "cell_type": "code",
   "execution_count": 71,
   "id": "9d95b7e8",
   "metadata": {
    "scrolled": true
   },
   "outputs": [],
   "source": [
    "df_temp[\"test\"] = df_temp[\"Duration\"].apply(lambda x: test(x))"
   ]
  },
  {
   "cell_type": "code",
   "execution_count": 72,
   "id": "1d567e5b",
   "metadata": {},
   "outputs": [
    {
     "data": {
      "text/html": [
       "<div>\n",
       "<style scoped>\n",
       "    .dataframe tbody tr th:only-of-type {\n",
       "        vertical-align: middle;\n",
       "    }\n",
       "\n",
       "    .dataframe tbody tr th {\n",
       "        vertical-align: top;\n",
       "    }\n",
       "\n",
       "    .dataframe thead th {\n",
       "        text-align: right;\n",
       "    }\n",
       "</style>\n",
       "<table border=\"1\" class=\"dataframe\">\n",
       "  <thead>\n",
       "    <tr style=\"text-align: right;\">\n",
       "      <th></th>\n",
       "      <th>translation</th>\n",
       "      <th>Duration</th>\n",
       "      <th>Date</th>\n",
       "      <th>test</th>\n",
       "    </tr>\n",
       "    <tr>\n",
       "      <th>fichier</th>\n",
       "      <th></th>\n",
       "      <th></th>\n",
       "      <th></th>\n",
       "      <th></th>\n",
       "    </tr>\n",
       "  </thead>\n",
       "  <tbody>\n",
       "    <tr>\n",
       "      <th>55d674cc-3389-4cf6-ab7c-1f1b9fa1b6ed_3e005951-47a1-4edb-ab50-ce602fe56c54</th>\n",
       "      <td>Renouvellement du bsc. D'une durée de un an à ...</td>\n",
       "      <td>une durée de un an</td>\n",
       "      <td>[5, 21]</td>\n",
       "      <td>None</td>\n",
       "    </tr>\n",
       "    <tr>\n",
       "      <th>2d035c4b-cdfa-4982-87dc-916fe07a0824_2dfdf4ab-fc95-4ec1-8e03-af502b95baf8</th>\n",
       "      <td>Ordonnance pour la réalisation de injection de...</td>\n",
       "      <td>pour 6 jours</td>\n",
       "      <td>[4, 17]</td>\n",
       "      <td>None</td>\n",
       "    </tr>\n",
       "    <tr>\n",
       "      <th>c619f0e1-7c22-4047-adb2-df4dec6643ba_8214d80f-0f7d-4e0d-9d4a-23294f9690b3</th>\n",
       "      <td>Soin débuté le vendredi 14 janvier 2022 jusqu'...</td>\n",
       "      <td>jusqu'au lundi 17 janvier 2022</td>\n",
       "      <td>[1, 14]</td>\n",
       "      <td>None</td>\n",
       "    </tr>\n",
       "    <tr>\n",
       "      <th>f0caa21b-c11d-40a3-98ec-e2df3d2b9cc4_7e5c146c-2faa-44ce-9228-ee5addf48580</th>\n",
       "      <td>Soin débuté le 10 avril,  à réaliser donc le s...</td>\n",
       "      <td>pendant 15 jours</td>\n",
       "      <td>[4, 10]</td>\n",
       "      <td>None</td>\n",
       "    </tr>\n",
       "    <tr>\n",
       "      <th>9d42ce6f-8537-49a9-a121-c8ae1dc7cda8_3ffbf9cc-b9e4-405d-a038-fb4f9e036a72</th>\n",
       "      <td>Pour monsieur Didier Nicolas, donc un passage ...</td>\n",
       "      <td>jusqu'au 8/12/2019</td>\n",
       "      <td>[99, 25]</td>\n",
       "      <td>None</td>\n",
       "    </tr>\n",
       "    <tr>\n",
       "      <th>...</th>\n",
       "      <td>...</td>\n",
       "      <td>...</td>\n",
       "      <td>...</td>\n",
       "      <td>...</td>\n",
       "    </tr>\n",
       "    <tr>\n",
       "      <th>3e7ffb67-8872-4172-bf18-4fe338ecae3f_04fe104b-9843-4abc-b467-a9301c5eb3a2</th>\n",
       "      <td>Injection sous-cutanée à réaliser une fois par...</td>\n",
       "      <td>pendant 8 jours</td>\n",
       "      <td>[7, 9]</td>\n",
       "      <td>None</td>\n",
       "    </tr>\n",
       "    <tr>\n",
       "      <th>3e7ffb67-8872-4172-bf18-4fe338ecae3f_67dbeda4-1876-41a6-8249-68f1dfeebb70</th>\n",
       "      <td>Nouvelle ordonnance pour madame Gris Rennes. O...</td>\n",
       "      <td>pendant un mois</td>\n",
       "      <td>[7, 20]</td>\n",
       "      <td>None</td>\n",
       "    </tr>\n",
       "    <tr>\n",
       "      <th>3e7ffb67-8872-4172-bf18-4fe338ecae3f_80f9b3d2-47b8-4152-9e45-a26dcf173335</th>\n",
       "      <td>Injection sous-cutanée à faire une fois par jo...</td>\n",
       "      <td>pendant 30 jours</td>\n",
       "      <td>[4, 7]</td>\n",
       "      <td>None</td>\n",
       "    </tr>\n",
       "    <tr>\n",
       "      <th>b96ad235-2f4f-4236-9aa3-9df85dfcf7cb_b1cb90a1-acbb-40c6-963d-10ebac5fb0d4</th>\n",
       "      <td>Ordonnance daté du 31 mai 2021 faite par le ce...</td>\n",
       "      <td>valable pour un an</td>\n",
       "      <td>[5, 31]</td>\n",
       "      <td>None</td>\n",
       "    </tr>\n",
       "    <tr>\n",
       "      <th>74b154c1-e265-4cb9-8e71-0c9bbc3dc880_5c18e09e-9dfc-421d-92b2-73b6a22d2ddc</th>\n",
       "      <td>Oui, bonjour dany, c'est sylvie, je viens de v...</td>\n",
       "      <td>pendant 15 pendant</td>\n",
       "      <td>[99, 99]</td>\n",
       "      <td>None</td>\n",
       "    </tr>\n",
       "  </tbody>\n",
       "</table>\n",
       "<p>306 rows × 4 columns</p>\n",
       "</div>"
      ],
      "text/plain": [
       "                                                                                          translation  \\\n",
       "fichier                                                                                                 \n",
       "55d674cc-3389-4cf6-ab7c-1f1b9fa1b6ed_3e005951-4...  Renouvellement du bsc. D'une durée de un an à ...   \n",
       "2d035c4b-cdfa-4982-87dc-916fe07a0824_2dfdf4ab-f...  Ordonnance pour la réalisation de injection de...   \n",
       "c619f0e1-7c22-4047-adb2-df4dec6643ba_8214d80f-0...  Soin débuté le vendredi 14 janvier 2022 jusqu'...   \n",
       "f0caa21b-c11d-40a3-98ec-e2df3d2b9cc4_7e5c146c-2...  Soin débuté le 10 avril,  à réaliser donc le s...   \n",
       "9d42ce6f-8537-49a9-a121-c8ae1dc7cda8_3ffbf9cc-b...  Pour monsieur Didier Nicolas, donc un passage ...   \n",
       "...                                                                                               ...   \n",
       "3e7ffb67-8872-4172-bf18-4fe338ecae3f_04fe104b-9...  Injection sous-cutanée à réaliser une fois par...   \n",
       "3e7ffb67-8872-4172-bf18-4fe338ecae3f_67dbeda4-1...  Nouvelle ordonnance pour madame Gris Rennes. O...   \n",
       "3e7ffb67-8872-4172-bf18-4fe338ecae3f_80f9b3d2-4...  Injection sous-cutanée à faire une fois par jo...   \n",
       "b96ad235-2f4f-4236-9aa3-9df85dfcf7cb_b1cb90a1-a...  Ordonnance daté du 31 mai 2021 faite par le ce...   \n",
       "74b154c1-e265-4cb9-8e71-0c9bbc3dc880_5c18e09e-9...  Oui, bonjour dany, c'est sylvie, je viens de v...   \n",
       "\n",
       "                                                                          Duration  \\\n",
       "fichier                                                                              \n",
       "55d674cc-3389-4cf6-ab7c-1f1b9fa1b6ed_3e005951-4...              une durée de un an   \n",
       "2d035c4b-cdfa-4982-87dc-916fe07a0824_2dfdf4ab-f...                    pour 6 jours   \n",
       "c619f0e1-7c22-4047-adb2-df4dec6643ba_8214d80f-0...  jusqu'au lundi 17 janvier 2022   \n",
       "f0caa21b-c11d-40a3-98ec-e2df3d2b9cc4_7e5c146c-2...                pendant 15 jours   \n",
       "9d42ce6f-8537-49a9-a121-c8ae1dc7cda8_3ffbf9cc-b...              jusqu'au 8/12/2019   \n",
       "...                                                                            ...   \n",
       "3e7ffb67-8872-4172-bf18-4fe338ecae3f_04fe104b-9...                 pendant 8 jours   \n",
       "3e7ffb67-8872-4172-bf18-4fe338ecae3f_67dbeda4-1...                 pendant un mois   \n",
       "3e7ffb67-8872-4172-bf18-4fe338ecae3f_80f9b3d2-4...                pendant 30 jours   \n",
       "b96ad235-2f4f-4236-9aa3-9df85dfcf7cb_b1cb90a1-a...              valable pour un an   \n",
       "74b154c1-e265-4cb9-8e71-0c9bbc3dc880_5c18e09e-9...              pendant 15 pendant   \n",
       "\n",
       "                                                        Date  test  \n",
       "fichier                                                             \n",
       "55d674cc-3389-4cf6-ab7c-1f1b9fa1b6ed_3e005951-4...   [5, 21]  None  \n",
       "2d035c4b-cdfa-4982-87dc-916fe07a0824_2dfdf4ab-f...   [4, 17]  None  \n",
       "c619f0e1-7c22-4047-adb2-df4dec6643ba_8214d80f-0...   [1, 14]  None  \n",
       "f0caa21b-c11d-40a3-98ec-e2df3d2b9cc4_7e5c146c-2...   [4, 10]  None  \n",
       "9d42ce6f-8537-49a9-a121-c8ae1dc7cda8_3ffbf9cc-b...  [99, 25]  None  \n",
       "...                                                      ...   ...  \n",
       "3e7ffb67-8872-4172-bf18-4fe338ecae3f_04fe104b-9...    [7, 9]  None  \n",
       "3e7ffb67-8872-4172-bf18-4fe338ecae3f_67dbeda4-1...   [7, 20]  None  \n",
       "3e7ffb67-8872-4172-bf18-4fe338ecae3f_80f9b3d2-4...    [4, 7]  None  \n",
       "b96ad235-2f4f-4236-9aa3-9df85dfcf7cb_b1cb90a1-a...   [5, 31]  None  \n",
       "74b154c1-e265-4cb9-8e71-0c9bbc3dc880_5c18e09e-9...  [99, 99]  None  \n",
       "\n",
       "[306 rows x 4 columns]"
      ]
     },
     "execution_count": 72,
     "metadata": {},
     "output_type": "execute_result"
    }
   ],
   "source": [
    "df_temp"
   ]
  },
  {
   "cell_type": "code",
   "execution_count": 97,
   "id": "d420ced2",
   "metadata": {},
   "outputs": [
    {
     "data": {
      "text/html": [
       "<div>\n",
       "<style scoped>\n",
       "    .dataframe tbody tr th:only-of-type {\n",
       "        vertical-align: middle;\n",
       "    }\n",
       "\n",
       "    .dataframe tbody tr th {\n",
       "        vertical-align: top;\n",
       "    }\n",
       "\n",
       "    .dataframe thead th {\n",
       "        text-align: right;\n",
       "    }\n",
       "</style>\n",
       "<table border=\"1\" class=\"dataframe\">\n",
       "  <thead>\n",
       "    <tr style=\"text-align: right;\">\n",
       "      <th></th>\n",
       "      <th>data</th>\n",
       "      <th>day</th>\n",
       "      <th>month</th>\n",
       "      <th>year</th>\n",
       "      <th>day_of_week</th>\n",
       "      <th>day_from_today</th>\n",
       "    </tr>\n",
       "  </thead>\n",
       "  <tbody>\n",
       "    <tr>\n",
       "      <th>0</th>\n",
       "      <td>[jusqu, 6, 6, 2022]</td>\n",
       "      <td>6</td>\n",
       "      <td>6</td>\n",
       "      <td>2022</td>\n",
       "      <td>99</td>\n",
       "      <td>99</td>\n",
       "    </tr>\n",
       "  </tbody>\n",
       "</table>\n",
       "</div>"
      ],
      "text/plain": [
       "                  data  day  month  year  day_of_week  day_from_today\n",
       "0  [jusqu, 6, 6, 2022]    6      6  2022           99              99"
      ]
     },
     "execution_count": 97,
     "metadata": {},
     "output_type": "execute_result"
    }
   ],
   "source": [
    "test = \"jusqu'au 6/6/2022\"\n",
    "df_blabla = Date().transform_data(test)\n",
    "df_blabla"
   ]
  },
  {
   "cell_type": "code",
   "execution_count": 99,
   "id": "23dafba8",
   "metadata": {},
   "outputs": [
    {
     "data": {
      "text/html": [
       "<div>\n",
       "<style scoped>\n",
       "    .dataframe tbody tr th:only-of-type {\n",
       "        vertical-align: middle;\n",
       "    }\n",
       "\n",
       "    .dataframe tbody tr th {\n",
       "        vertical-align: top;\n",
       "    }\n",
       "\n",
       "    .dataframe thead th {\n",
       "        text-align: right;\n",
       "    }\n",
       "</style>\n",
       "<table border=\"1\" class=\"dataframe\">\n",
       "  <thead>\n",
       "    <tr style=\"text-align: right;\">\n",
       "      <th></th>\n",
       "      <th>CareDuration</th>\n",
       "      <th>CareDurationType</th>\n",
       "      <th>CareEnd</th>\n",
       "    </tr>\n",
       "  </thead>\n",
       "  <tbody>\n",
       "    <tr>\n",
       "      <th>0</th>\n",
       "      <td>4</td>\n",
       "      <td>Days</td>\n",
       "      <td>6 juin</td>\n",
       "    </tr>\n",
       "  </tbody>\n",
       "</table>\n",
       "</div>"
      ],
      "text/plain": [
       "   CareDuration CareDurationType CareEnd\n",
       "0             4             Days  6 juin"
      ]
     },
     "execution_count": 99,
     "metadata": {},
     "output_type": "execute_result"
    }
   ],
   "source": [
    "Duration().implicit_duration_1(test, [6,2], df=True)"
   ]
  },
  {
   "cell_type": "code",
   "execution_count": 128,
   "id": "0a352e56",
   "metadata": {},
   "outputs": [],
   "source": [
    "test = \"jusqu'au 10 juin\""
   ]
  },
  {
   "cell_type": "code",
   "execution_count": 136,
   "id": "7a7724da",
   "metadata": {},
   "outputs": [
    {
     "data": {
      "text/html": [
       "<div>\n",
       "<style scoped>\n",
       "    .dataframe tbody tr th:only-of-type {\n",
       "        vertical-align: middle;\n",
       "    }\n",
       "\n",
       "    .dataframe tbody tr th {\n",
       "        vertical-align: top;\n",
       "    }\n",
       "\n",
       "    .dataframe thead th {\n",
       "        text-align: right;\n",
       "    }\n",
       "</style>\n",
       "<table border=\"1\" class=\"dataframe\">\n",
       "  <thead>\n",
       "    <tr style=\"text-align: right;\">\n",
       "      <th></th>\n",
       "      <th>CareDuration</th>\n",
       "      <th>CareDurationType</th>\n",
       "      <th>CareEnd</th>\n",
       "    </tr>\n",
       "  </thead>\n",
       "  <tbody>\n",
       "    <tr>\n",
       "      <th>0</th>\n",
       "      <td>NaN</td>\n",
       "      <td>NaN</td>\n",
       "      <td>10 juin</td>\n",
       "    </tr>\n",
       "  </tbody>\n",
       "</table>\n",
       "</div>"
      ],
      "text/plain": [
       "   CareDuration  CareDurationType  CareEnd\n",
       "0           NaN               NaN  10 juin"
      ]
     },
     "execution_count": 136,
     "metadata": {},
     "output_type": "execute_result"
    }
   ],
   "source": [
    "Duration().get_duration(test, [6,99], df=True)"
   ]
  },
  {
   "cell_type": "code",
   "execution_count": 162,
   "id": "0030438d",
   "metadata": {},
   "outputs": [
    {
     "data": {
      "text/html": [
       "<div>\n",
       "<style scoped>\n",
       "    .dataframe tbody tr th:only-of-type {\n",
       "        vertical-align: middle;\n",
       "    }\n",
       "\n",
       "    .dataframe tbody tr th {\n",
       "        vertical-align: top;\n",
       "    }\n",
       "\n",
       "    .dataframe thead th {\n",
       "        text-align: right;\n",
       "    }\n",
       "</style>\n",
       "<table border=\"1\" class=\"dataframe\">\n",
       "  <thead>\n",
       "    <tr style=\"text-align: right;\">\n",
       "      <th></th>\n",
       "      <th>translation</th>\n",
       "      <th>Duration</th>\n",
       "      <th>Date</th>\n",
       "      <th>test</th>\n",
       "      <th>test_2</th>\n",
       "    </tr>\n",
       "    <tr>\n",
       "      <th>fichier</th>\n",
       "      <th></th>\n",
       "      <th></th>\n",
       "      <th></th>\n",
       "      <th></th>\n",
       "      <th></th>\n",
       "    </tr>\n",
       "  </thead>\n",
       "  <tbody>\n",
       "    <tr>\n",
       "      <th>9f980dcf-b431-4e67-876f-2b8e288b7900_3b5f3f01-e244-4398-8388-19fb5058c9c1</th>\n",
       "      <td>Prise de sang faite le 19 février à domicile p...</td>\n",
       "      <td>None</td>\n",
       "      <td>[4, 19]</td>\n",
       "      <td>None</td>\n",
       "      <td>None</td>\n",
       "    </tr>\n",
       "    <tr>\n",
       "      <th>2d035c4b-cdfa-4982-87dc-916fe07a0824_710f4bda-ba21-434f-883e-1b72df7ea27a</th>\n",
       "      <td>Pansement également refait le 23 mars par mylène.</td>\n",
       "      <td>None</td>\n",
       "      <td>[3, 23]</td>\n",
       "      <td>None</td>\n",
       "      <td>None</td>\n",
       "    </tr>\n",
       "    <tr>\n",
       "      <th>b96ad235-2f4f-4236-9aa3-9df85dfcf7cb_ff1697c1-a01f-4eb5-a1c2-b95205dc389a</th>\n",
       "      <td>Pcr plus prise de sang fait à domicile à 11.</td>\n",
       "      <td>None</td>\n",
       "      <td>None</td>\n",
       "      <td>None</td>\n",
       "      <td>None</td>\n",
       "    </tr>\n",
       "    <tr>\n",
       "      <th>3e7ffb67-8872-4172-bf18-4fe338ecae3f_6e8b49e5-4213-45da-bad6-158592c7f731</th>\n",
       "      <td>Prise de sang et analyse stérile des urines à ...</td>\n",
       "      <td>None</td>\n",
       "      <td>[2, 18]</td>\n",
       "      <td>None</td>\n",
       "      <td>None</td>\n",
       "    </tr>\n",
       "    <tr>\n",
       "      <th>2d035c4b-cdfa-4982-87dc-916fe07a0824_56c749ad-eed8-407a-ae9e-a17ebf420cf4</th>\n",
       "      <td>Bonjour, merci de renouveler cette ordonnance ...</td>\n",
       "      <td>None</td>\n",
       "      <td>None</td>\n",
       "      <td>None</td>\n",
       "      <td>None</td>\n",
       "    </tr>\n",
       "    <tr>\n",
       "      <th>...</th>\n",
       "      <td>...</td>\n",
       "      <td>...</td>\n",
       "      <td>...</td>\n",
       "      <td>...</td>\n",
       "      <td>...</td>\n",
       "    </tr>\n",
       "    <tr>\n",
       "      <th>a5050600-95ef-43d8-a5fa-a57c791bf843_448853a4-f75e-403a-8fcb-8dfc18f0b4ec</th>\n",
       "      <td>Test antigénique réalisé cet après-midi à domi...</td>\n",
       "      <td>None</td>\n",
       "      <td>[99, 99]</td>\n",
       "      <td>None</td>\n",
       "      <td>None</td>\n",
       "    </tr>\n",
       "    <tr>\n",
       "      <th>2d035c4b-cdfa-4982-87dc-916fe07a0824_4fb0c6a1-0562-496a-ae88-1adadec059a6</th>\n",
       "      <td>Réalisation d'une prise de sang chez monsieur ...</td>\n",
       "      <td>None</td>\n",
       "      <td>[2, 24]</td>\n",
       "      <td>None</td>\n",
       "      <td>None</td>\n",
       "    </tr>\n",
       "    <tr>\n",
       "      <th>b96ad235-2f4f-4236-9aa3-9df85dfcf7cb_b8a5877a-b8ce-4347-b294-3aa46efbcb34</th>\n",
       "      <td>Ordonnance pour la préparation du pilulier en ...</td>\n",
       "      <td>None</td>\n",
       "      <td>[2, 1]</td>\n",
       "      <td>None</td>\n",
       "      <td>None</td>\n",
       "    </tr>\n",
       "    <tr>\n",
       "      <th>978eb126-14a0-46cf-bd27-44b6b77cecb7_01fc29bf-08c4-4e82-99be-8f9f24c5974b</th>\n",
       "      <td>Début des soins le 10 juin. Avec début des sou...</td>\n",
       "      <td>None</td>\n",
       "      <td>[6, 10]</td>\n",
       "      <td>None</td>\n",
       "      <td>None</td>\n",
       "    </tr>\n",
       "    <tr>\n",
       "      <th>2d035c4b-cdfa-4982-87dc-916fe07a0824_47d4e0f3-f2f0-4a19-9df1-8ab0894980f9</th>\n",
       "      <td>Prise de sang faite au domicile de la patiente...</td>\n",
       "      <td>None</td>\n",
       "      <td>None</td>\n",
       "      <td>None</td>\n",
       "      <td>None</td>\n",
       "    </tr>\n",
       "  </tbody>\n",
       "</table>\n",
       "<p>4029 rows × 5 columns</p>\n",
       "</div>"
      ],
      "text/plain": [
       "                                                                                          translation  \\\n",
       "fichier                                                                                                 \n",
       "9f980dcf-b431-4e67-876f-2b8e288b7900_3b5f3f01-e...  Prise de sang faite le 19 février à domicile p...   \n",
       "2d035c4b-cdfa-4982-87dc-916fe07a0824_710f4bda-b...  Pansement également refait le 23 mars par mylène.   \n",
       "b96ad235-2f4f-4236-9aa3-9df85dfcf7cb_ff1697c1-a...       Pcr plus prise de sang fait à domicile à 11.   \n",
       "3e7ffb67-8872-4172-bf18-4fe338ecae3f_6e8b49e5-4...  Prise de sang et analyse stérile des urines à ...   \n",
       "2d035c4b-cdfa-4982-87dc-916fe07a0824_56c749ad-e...  Bonjour, merci de renouveler cette ordonnance ...   \n",
       "...                                                                                               ...   \n",
       "a5050600-95ef-43d8-a5fa-a57c791bf843_448853a4-f...  Test antigénique réalisé cet après-midi à domi...   \n",
       "2d035c4b-cdfa-4982-87dc-916fe07a0824_4fb0c6a1-0...  Réalisation d'une prise de sang chez monsieur ...   \n",
       "b96ad235-2f4f-4236-9aa3-9df85dfcf7cb_b8a5877a-b...  Ordonnance pour la préparation du pilulier en ...   \n",
       "978eb126-14a0-46cf-bd27-44b6b77cecb7_01fc29bf-0...  Début des soins le 10 juin. Avec début des sou...   \n",
       "2d035c4b-cdfa-4982-87dc-916fe07a0824_47d4e0f3-f...  Prise de sang faite au domicile de la patiente...   \n",
       "\n",
       "                                                   Duration      Date  test  \\\n",
       "fichier                                                                       \n",
       "9f980dcf-b431-4e67-876f-2b8e288b7900_3b5f3f01-e...     None   [4, 19]  None   \n",
       "2d035c4b-cdfa-4982-87dc-916fe07a0824_710f4bda-b...     None   [3, 23]  None   \n",
       "b96ad235-2f4f-4236-9aa3-9df85dfcf7cb_ff1697c1-a...     None      None  None   \n",
       "3e7ffb67-8872-4172-bf18-4fe338ecae3f_6e8b49e5-4...     None   [2, 18]  None   \n",
       "2d035c4b-cdfa-4982-87dc-916fe07a0824_56c749ad-e...     None      None  None   \n",
       "...                                                     ...       ...   ...   \n",
       "a5050600-95ef-43d8-a5fa-a57c791bf843_448853a4-f...     None  [99, 99]  None   \n",
       "2d035c4b-cdfa-4982-87dc-916fe07a0824_4fb0c6a1-0...     None   [2, 24]  None   \n",
       "b96ad235-2f4f-4236-9aa3-9df85dfcf7cb_b8a5877a-b...     None    [2, 1]  None   \n",
       "978eb126-14a0-46cf-bd27-44b6b77cecb7_01fc29bf-0...     None   [6, 10]  None   \n",
       "2d035c4b-cdfa-4982-87dc-916fe07a0824_47d4e0f3-f...     None      None  None   \n",
       "\n",
       "                                                   test_2  \n",
       "fichier                                                    \n",
       "9f980dcf-b431-4e67-876f-2b8e288b7900_3b5f3f01-e...   None  \n",
       "2d035c4b-cdfa-4982-87dc-916fe07a0824_710f4bda-b...   None  \n",
       "b96ad235-2f4f-4236-9aa3-9df85dfcf7cb_ff1697c1-a...   None  \n",
       "3e7ffb67-8872-4172-bf18-4fe338ecae3f_6e8b49e5-4...   None  \n",
       "2d035c4b-cdfa-4982-87dc-916fe07a0824_56c749ad-e...   None  \n",
       "...                                                   ...  \n",
       "a5050600-95ef-43d8-a5fa-a57c791bf843_448853a4-f...   None  \n",
       "2d035c4b-cdfa-4982-87dc-916fe07a0824_4fb0c6a1-0...   None  \n",
       "b96ad235-2f4f-4236-9aa3-9df85dfcf7cb_b8a5877a-b...   None  \n",
       "978eb126-14a0-46cf-bd27-44b6b77cecb7_01fc29bf-0...   None  \n",
       "2d035c4b-cdfa-4982-87dc-916fe07a0824_47d4e0f3-f...   None  \n",
       "\n",
       "[4029 rows x 5 columns]"
      ]
     },
     "execution_count": 162,
     "metadata": {},
     "output_type": "execute_result"
    }
   ],
   "source": [
    "df"
   ]
  },
  {
   "cell_type": "code",
   "execution_count": 193,
   "id": "f344e653",
   "metadata": {},
   "outputs": [],
   "source": [
    "df_temp = df.copy()"
   ]
  },
  {
   "cell_type": "code",
   "execution_count": 194,
   "id": "160be593",
   "metadata": {},
   "outputs": [],
   "source": [
    "df_temp = Duration().apply_to_df(df_temp)"
   ]
  },
  {
   "cell_type": "code",
   "execution_count": 200,
   "id": "cb6f6a65",
   "metadata": {},
   "outputs": [],
   "source": [
    "df_temp = df_temp.dropna()"
   ]
  },
  {
   "cell_type": "code",
   "execution_count": 201,
   "id": "ec2504df",
   "metadata": {},
   "outputs": [
    {
     "data": {
      "text/html": [
       "<div>\n",
       "<style scoped>\n",
       "    .dataframe tbody tr th:only-of-type {\n",
       "        vertical-align: middle;\n",
       "    }\n",
       "\n",
       "    .dataframe tbody tr th {\n",
       "        vertical-align: top;\n",
       "    }\n",
       "\n",
       "    .dataframe thead th {\n",
       "        text-align: right;\n",
       "    }\n",
       "</style>\n",
       "<table border=\"1\" class=\"dataframe\">\n",
       "  <thead>\n",
       "    <tr style=\"text-align: right;\">\n",
       "      <th></th>\n",
       "      <th>translation</th>\n",
       "      <th>Duration</th>\n",
       "      <th>Date</th>\n",
       "      <th>temp</th>\n",
       "    </tr>\n",
       "    <tr>\n",
       "      <th>fichier</th>\n",
       "      <th></th>\n",
       "      <th></th>\n",
       "      <th></th>\n",
       "      <th></th>\n",
       "    </tr>\n",
       "  </thead>\n",
       "  <tbody>\n",
       "    <tr>\n",
       "      <th>55d674cc-3389-4cf6-ab7c-1f1b9fa1b6ed_3e005951-47a1-4edb-ab50-ce602fe56c54</th>\n",
       "      <td>Renouvellement du bsc. D'une durée de un an à ...</td>\n",
       "      <td>une durée de un an</td>\n",
       "      <td>[5, 21]</td>\n",
       "      <td>{'CareDuration': ['1'], 'CareDurationType': ['...</td>\n",
       "    </tr>\n",
       "    <tr>\n",
       "      <th>2d035c4b-cdfa-4982-87dc-916fe07a0824_2dfdf4ab-fc95-4ec1-8e03-af502b95baf8</th>\n",
       "      <td>Ordonnance pour la réalisation de injection de...</td>\n",
       "      <td>pour 6 jours</td>\n",
       "      <td>[4, 17]</td>\n",
       "      <td>{'CareDuration': ['6'], 'CareDurationType': ['...</td>\n",
       "    </tr>\n",
       "    <tr>\n",
       "      <th>c619f0e1-7c22-4047-adb2-df4dec6643ba_8214d80f-0f7d-4e0d-9d4a-23294f9690b3</th>\n",
       "      <td>Soin débuté le vendredi 14 janvier 2022 jusqu'...</td>\n",
       "      <td>jusqu'au lundi 17 janvier 2022</td>\n",
       "      <td>[1, 14]</td>\n",
       "      <td>{'CareDuration': [3], 'CareDurationType': ['Da...</td>\n",
       "    </tr>\n",
       "    <tr>\n",
       "      <th>f0caa21b-c11d-40a3-98ec-e2df3d2b9cc4_7e5c146c-2faa-44ce-9228-ee5addf48580</th>\n",
       "      <td>Soin débuté le 10 avril,  à réaliser donc le s...</td>\n",
       "      <td>pendant 15 jours</td>\n",
       "      <td>[4, 10]</td>\n",
       "      <td>{'CareDuration': ['15'], 'CareDurationType': [...</td>\n",
       "    </tr>\n",
       "    <tr>\n",
       "      <th>9d42ce6f-8537-49a9-a121-c8ae1dc7cda8_3ffbf9cc-b9e4-405d-a038-fb4f9e036a72</th>\n",
       "      <td>Pour monsieur Didier Nicolas, donc un passage ...</td>\n",
       "      <td>jusqu'au 8/12/2019</td>\n",
       "      <td>[99, 25]</td>\n",
       "      <td>{'CareDuration': [nan], 'CareDurationType': [n...</td>\n",
       "    </tr>\n",
       "    <tr>\n",
       "      <th>...</th>\n",
       "      <td>...</td>\n",
       "      <td>...</td>\n",
       "      <td>...</td>\n",
       "      <td>...</td>\n",
       "    </tr>\n",
       "    <tr>\n",
       "      <th>2d035c4b-cdfa-4982-87dc-916fe07a0824_558bf9c3-a9e5-408e-bc55-da9844e1b61a</th>\n",
       "      <td>Ordonnance de renouvellement pour monsieur Did...</td>\n",
       "      <td>pour 3 mois</td>\n",
       "      <td>[6, 29]</td>\n",
       "      <td>{'CareDuration': ['3'], 'CareDurationType': ['...</td>\n",
       "    </tr>\n",
       "    <tr>\n",
       "      <th>3e7ffb67-8872-4172-bf18-4fe338ecae3f_04fe104b-9843-4abc-b467-a9301c5eb3a2</th>\n",
       "      <td>Injection sous-cutanée à réaliser une fois par...</td>\n",
       "      <td>pendant 8 jours</td>\n",
       "      <td>[7, 9]</td>\n",
       "      <td>{'CareDuration': ['8'], 'CareDurationType': ['...</td>\n",
       "    </tr>\n",
       "    <tr>\n",
       "      <th>3e7ffb67-8872-4172-bf18-4fe338ecae3f_67dbeda4-1876-41a6-8249-68f1dfeebb70</th>\n",
       "      <td>Nouvelle ordonnance pour madame Gris Rennes. O...</td>\n",
       "      <td>pendant un mois</td>\n",
       "      <td>[7, 20]</td>\n",
       "      <td>{'CareDuration': ['1'], 'CareDurationType': ['...</td>\n",
       "    </tr>\n",
       "    <tr>\n",
       "      <th>3e7ffb67-8872-4172-bf18-4fe338ecae3f_80f9b3d2-47b8-4152-9e45-a26dcf173335</th>\n",
       "      <td>Injection sous-cutanée à faire une fois par jo...</td>\n",
       "      <td>pendant 30 jours</td>\n",
       "      <td>[4, 7]</td>\n",
       "      <td>{'CareDuration': ['30'], 'CareDurationType': [...</td>\n",
       "    </tr>\n",
       "    <tr>\n",
       "      <th>b96ad235-2f4f-4236-9aa3-9df85dfcf7cb_b1cb90a1-acbb-40c6-963d-10ebac5fb0d4</th>\n",
       "      <td>Ordonnance daté du 31 mai 2021 faite par le ce...</td>\n",
       "      <td>valable pour un an</td>\n",
       "      <td>[5, 31]</td>\n",
       "      <td>{'CareDuration': ['1'], 'CareDurationType': ['...</td>\n",
       "    </tr>\n",
       "  </tbody>\n",
       "</table>\n",
       "<p>239 rows × 4 columns</p>\n",
       "</div>"
      ],
      "text/plain": [
       "                                                                                          translation  \\\n",
       "fichier                                                                                                 \n",
       "55d674cc-3389-4cf6-ab7c-1f1b9fa1b6ed_3e005951-4...  Renouvellement du bsc. D'une durée de un an à ...   \n",
       "2d035c4b-cdfa-4982-87dc-916fe07a0824_2dfdf4ab-f...  Ordonnance pour la réalisation de injection de...   \n",
       "c619f0e1-7c22-4047-adb2-df4dec6643ba_8214d80f-0...  Soin débuté le vendredi 14 janvier 2022 jusqu'...   \n",
       "f0caa21b-c11d-40a3-98ec-e2df3d2b9cc4_7e5c146c-2...  Soin débuté le 10 avril,  à réaliser donc le s...   \n",
       "9d42ce6f-8537-49a9-a121-c8ae1dc7cda8_3ffbf9cc-b...  Pour monsieur Didier Nicolas, donc un passage ...   \n",
       "...                                                                                               ...   \n",
       "2d035c4b-cdfa-4982-87dc-916fe07a0824_558bf9c3-a...  Ordonnance de renouvellement pour monsieur Did...   \n",
       "3e7ffb67-8872-4172-bf18-4fe338ecae3f_04fe104b-9...  Injection sous-cutanée à réaliser une fois par...   \n",
       "3e7ffb67-8872-4172-bf18-4fe338ecae3f_67dbeda4-1...  Nouvelle ordonnance pour madame Gris Rennes. O...   \n",
       "3e7ffb67-8872-4172-bf18-4fe338ecae3f_80f9b3d2-4...  Injection sous-cutanée à faire une fois par jo...   \n",
       "b96ad235-2f4f-4236-9aa3-9df85dfcf7cb_b1cb90a1-a...  Ordonnance daté du 31 mai 2021 faite par le ce...   \n",
       "\n",
       "                                                                          Duration  \\\n",
       "fichier                                                                              \n",
       "55d674cc-3389-4cf6-ab7c-1f1b9fa1b6ed_3e005951-4...              une durée de un an   \n",
       "2d035c4b-cdfa-4982-87dc-916fe07a0824_2dfdf4ab-f...                    pour 6 jours   \n",
       "c619f0e1-7c22-4047-adb2-df4dec6643ba_8214d80f-0...  jusqu'au lundi 17 janvier 2022   \n",
       "f0caa21b-c11d-40a3-98ec-e2df3d2b9cc4_7e5c146c-2...                pendant 15 jours   \n",
       "9d42ce6f-8537-49a9-a121-c8ae1dc7cda8_3ffbf9cc-b...              jusqu'au 8/12/2019   \n",
       "...                                                                            ...   \n",
       "2d035c4b-cdfa-4982-87dc-916fe07a0824_558bf9c3-a...                     pour 3 mois   \n",
       "3e7ffb67-8872-4172-bf18-4fe338ecae3f_04fe104b-9...                 pendant 8 jours   \n",
       "3e7ffb67-8872-4172-bf18-4fe338ecae3f_67dbeda4-1...                 pendant un mois   \n",
       "3e7ffb67-8872-4172-bf18-4fe338ecae3f_80f9b3d2-4...                pendant 30 jours   \n",
       "b96ad235-2f4f-4236-9aa3-9df85dfcf7cb_b1cb90a1-a...              valable pour un an   \n",
       "\n",
       "                                                        Date  \\\n",
       "fichier                                                        \n",
       "55d674cc-3389-4cf6-ab7c-1f1b9fa1b6ed_3e005951-4...   [5, 21]   \n",
       "2d035c4b-cdfa-4982-87dc-916fe07a0824_2dfdf4ab-f...   [4, 17]   \n",
       "c619f0e1-7c22-4047-adb2-df4dec6643ba_8214d80f-0...   [1, 14]   \n",
       "f0caa21b-c11d-40a3-98ec-e2df3d2b9cc4_7e5c146c-2...   [4, 10]   \n",
       "9d42ce6f-8537-49a9-a121-c8ae1dc7cda8_3ffbf9cc-b...  [99, 25]   \n",
       "...                                                      ...   \n",
       "2d035c4b-cdfa-4982-87dc-916fe07a0824_558bf9c3-a...   [6, 29]   \n",
       "3e7ffb67-8872-4172-bf18-4fe338ecae3f_04fe104b-9...    [7, 9]   \n",
       "3e7ffb67-8872-4172-bf18-4fe338ecae3f_67dbeda4-1...   [7, 20]   \n",
       "3e7ffb67-8872-4172-bf18-4fe338ecae3f_80f9b3d2-4...    [4, 7]   \n",
       "b96ad235-2f4f-4236-9aa3-9df85dfcf7cb_b1cb90a1-a...   [5, 31]   \n",
       "\n",
       "                                                                                                 temp  \n",
       "fichier                                                                                                \n",
       "55d674cc-3389-4cf6-ab7c-1f1b9fa1b6ed_3e005951-4...  {'CareDuration': ['1'], 'CareDurationType': ['...  \n",
       "2d035c4b-cdfa-4982-87dc-916fe07a0824_2dfdf4ab-f...  {'CareDuration': ['6'], 'CareDurationType': ['...  \n",
       "c619f0e1-7c22-4047-adb2-df4dec6643ba_8214d80f-0...  {'CareDuration': [3], 'CareDurationType': ['Da...  \n",
       "f0caa21b-c11d-40a3-98ec-e2df3d2b9cc4_7e5c146c-2...  {'CareDuration': ['15'], 'CareDurationType': [...  \n",
       "9d42ce6f-8537-49a9-a121-c8ae1dc7cda8_3ffbf9cc-b...  {'CareDuration': [nan], 'CareDurationType': [n...  \n",
       "...                                                                                               ...  \n",
       "2d035c4b-cdfa-4982-87dc-916fe07a0824_558bf9c3-a...  {'CareDuration': ['3'], 'CareDurationType': ['...  \n",
       "3e7ffb67-8872-4172-bf18-4fe338ecae3f_04fe104b-9...  {'CareDuration': ['8'], 'CareDurationType': ['...  \n",
       "3e7ffb67-8872-4172-bf18-4fe338ecae3f_67dbeda4-1...  {'CareDuration': ['1'], 'CareDurationType': ['...  \n",
       "3e7ffb67-8872-4172-bf18-4fe338ecae3f_80f9b3d2-4...  {'CareDuration': ['30'], 'CareDurationType': [...  \n",
       "b96ad235-2f4f-4236-9aa3-9df85dfcf7cb_b1cb90a1-a...  {'CareDuration': ['1'], 'CareDurationType': ['...  \n",
       "\n",
       "[239 rows x 4 columns]"
      ]
     },
     "execution_count": 201,
     "metadata": {},
     "output_type": "execute_result"
    }
   ],
   "source": [
    "df_temp"
   ]
  },
  {
   "cell_type": "code",
   "execution_count": 206,
   "id": "96752231",
   "metadata": {},
   "outputs": [
    {
     "name": "stdout",
     "output_type": "stream",
     "text": [
      "pour 6 jours\n",
      "[4, 17]\n",
      "{'CareDuration': ['6'], 'CareDurationType': ['Days'], 'CareEnd': [nan]}\n",
      "jusqu'au lundi 17 janvier 2022\n",
      "[1, 14]\n",
      "{'CareDuration': [3], 'CareDurationType': ['Days'], 'CareEnd': ['17 janvier']}\n",
      "jusqu'au 8/12/2019\n",
      "[99, 25]\n",
      "{'CareDuration': [nan], 'CareDurationType': [nan], 'CareEnd': ['8 décembre']}\n",
      "jusqu'au 28 novembre\n",
      "[11, 23]\n",
      "{'CareDuration': [5], 'CareDurationType': ['Days'], 'CareEnd': ['28 novembre']}\n",
      "3 mois\n",
      "[12, 11]\n",
      "{'CareDuration': ['3'], 'CareDurationType': ['Months'], 'CareEnd': [nan]}\n",
      "jusqu'au dimanche 7\n",
      "[3, 4]\n",
      "{'CareDuration': [nan], 'CareDurationType': [nan], 'CareEnd': [nan]}\n",
      "jusqu'au 20 février\n",
      "[2, 12]\n",
      "{'CareDuration': [8], 'CareDurationType': ['Days'], 'CareEnd': ['20 février']}\n",
      "jusqu'au 4 mars\n",
      "[2, 21]\n",
      "{'CareDuration': [11], 'CareDurationType': ['Days'], 'CareEnd': ['4 mars']}\n",
      "jusqu'au 27 octobre\n",
      "[9, 21]\n",
      "{'CareDuration': [36], 'CareDurationType': ['Days'], 'CareEnd': ['27 octobre']}\n",
      "jusqu'au 17 janvier\n",
      "[1, 7]\n",
      "{'CareDuration': [10], 'CareDurationType': ['Days'], 'CareEnd': ['17 janvier']}\n"
     ]
    }
   ],
   "source": [
    "for i in range(100):\n",
    "    sentence = df_temp.iloc[i,0]\n",
    "    if re.search(\"jusqu\\'au\\s\", sentence) is not None:\n",
    "        print(df_temp.iloc[i,1])\n",
    "        print(df_temp.iloc[i,2])\n",
    "        print(df_temp.iloc[i,3])"
   ]
  },
  {
   "cell_type": "code",
   "execution_count": 210,
   "id": "3bb33935",
   "metadata": {},
   "outputs": [],
   "source": [
    "df_bb = Duration(\"../models/model_full/model-best\").get_data()"
   ]
  },
  {
   "cell_type": "code",
   "execution_count": 211,
   "id": "372c7034",
   "metadata": {},
   "outputs": [
    {
     "data": {
      "text/html": [
       "<div>\n",
       "<style scoped>\n",
       "    .dataframe tbody tr th:only-of-type {\n",
       "        vertical-align: middle;\n",
       "    }\n",
       "\n",
       "    .dataframe tbody tr th {\n",
       "        vertical-align: top;\n",
       "    }\n",
       "\n",
       "    .dataframe thead th {\n",
       "        text-align: right;\n",
       "    }\n",
       "</style>\n",
       "<table border=\"1\" class=\"dataframe\">\n",
       "  <thead>\n",
       "    <tr style=\"text-align: right;\">\n",
       "      <th></th>\n",
       "      <th>translation</th>\n",
       "      <th>Duration</th>\n",
       "      <th>Date</th>\n",
       "    </tr>\n",
       "    <tr>\n",
       "      <th>fichier</th>\n",
       "      <th></th>\n",
       "      <th></th>\n",
       "      <th></th>\n",
       "    </tr>\n",
       "  </thead>\n",
       "  <tbody>\n",
       "    <tr>\n",
       "      <th>9f980dcf-b431-4e67-876f-2b8e288b7900_3b5f3f01-e244-4398-8388-19fb5058c9c1</th>\n",
       "      <td>Prise de sang faite le 19 février à domicile p...</td>\n",
       "      <td>None</td>\n",
       "      <td>[2, 19]</td>\n",
       "    </tr>\n",
       "    <tr>\n",
       "      <th>2d035c4b-cdfa-4982-87dc-916fe07a0824_710f4bda-ba21-434f-883e-1b72df7ea27a</th>\n",
       "      <td>Pansement également refait le 23 mars par mylène.</td>\n",
       "      <td>None</td>\n",
       "      <td>[3, 23]</td>\n",
       "    </tr>\n",
       "    <tr>\n",
       "      <th>b96ad235-2f4f-4236-9aa3-9df85dfcf7cb_ff1697c1-a01f-4eb5-a1c2-b95205dc389a</th>\n",
       "      <td>Pcr plus prise de sang fait à domicile à 11.</td>\n",
       "      <td>None</td>\n",
       "      <td>None</td>\n",
       "    </tr>\n",
       "    <tr>\n",
       "      <th>3e7ffb67-8872-4172-bf18-4fe338ecae3f_6e8b49e5-4213-45da-bad6-158592c7f731</th>\n",
       "      <td>Prise de sang et analyse stérile des urines à ...</td>\n",
       "      <td>None</td>\n",
       "      <td>[2, 18]</td>\n",
       "    </tr>\n",
       "    <tr>\n",
       "      <th>2d035c4b-cdfa-4982-87dc-916fe07a0824_56c749ad-eed8-407a-ae9e-a17ebf420cf4</th>\n",
       "      <td>Bonjour, merci de renouveler cette ordonnance ...</td>\n",
       "      <td>None</td>\n",
       "      <td>None</td>\n",
       "    </tr>\n",
       "    <tr>\n",
       "      <th>...</th>\n",
       "      <td>...</td>\n",
       "      <td>...</td>\n",
       "      <td>...</td>\n",
       "    </tr>\n",
       "    <tr>\n",
       "      <th>a5050600-95ef-43d8-a5fa-a57c791bf843_448853a4-f75e-403a-8fcb-8dfc18f0b4ec</th>\n",
       "      <td>Test antigénique réalisé cet après-midi à domi...</td>\n",
       "      <td>None</td>\n",
       "      <td>[99, 99]</td>\n",
       "    </tr>\n",
       "    <tr>\n",
       "      <th>2d035c4b-cdfa-4982-87dc-916fe07a0824_4fb0c6a1-0562-496a-ae88-1adadec059a6</th>\n",
       "      <td>Réalisation d'une prise de sang chez monsieur ...</td>\n",
       "      <td>None</td>\n",
       "      <td>[2, 24]</td>\n",
       "    </tr>\n",
       "    <tr>\n",
       "      <th>b96ad235-2f4f-4236-9aa3-9df85dfcf7cb_b8a5877a-b8ce-4347-b294-3aa46efbcb34</th>\n",
       "      <td>Ordonnance pour la préparation du pilulier en ...</td>\n",
       "      <td>None</td>\n",
       "      <td>[2, 1]</td>\n",
       "    </tr>\n",
       "    <tr>\n",
       "      <th>978eb126-14a0-46cf-bd27-44b6b77cecb7_01fc29bf-08c4-4e82-99be-8f9f24c5974b</th>\n",
       "      <td>Début des soins le 10 juin. Avec début des sou...</td>\n",
       "      <td>None</td>\n",
       "      <td>[6, 10]</td>\n",
       "    </tr>\n",
       "    <tr>\n",
       "      <th>2d035c4b-cdfa-4982-87dc-916fe07a0824_47d4e0f3-f2f0-4a19-9df1-8ab0894980f9</th>\n",
       "      <td>Prise de sang faite au domicile de la patiente...</td>\n",
       "      <td>None</td>\n",
       "      <td>None</td>\n",
       "    </tr>\n",
       "  </tbody>\n",
       "</table>\n",
       "<p>4029 rows × 3 columns</p>\n",
       "</div>"
      ],
      "text/plain": [
       "                                                                                          translation  \\\n",
       "fichier                                                                                                 \n",
       "9f980dcf-b431-4e67-876f-2b8e288b7900_3b5f3f01-e...  Prise de sang faite le 19 février à domicile p...   \n",
       "2d035c4b-cdfa-4982-87dc-916fe07a0824_710f4bda-b...  Pansement également refait le 23 mars par mylène.   \n",
       "b96ad235-2f4f-4236-9aa3-9df85dfcf7cb_ff1697c1-a...       Pcr plus prise de sang fait à domicile à 11.   \n",
       "3e7ffb67-8872-4172-bf18-4fe338ecae3f_6e8b49e5-4...  Prise de sang et analyse stérile des urines à ...   \n",
       "2d035c4b-cdfa-4982-87dc-916fe07a0824_56c749ad-e...  Bonjour, merci de renouveler cette ordonnance ...   \n",
       "...                                                                                               ...   \n",
       "a5050600-95ef-43d8-a5fa-a57c791bf843_448853a4-f...  Test antigénique réalisé cet après-midi à domi...   \n",
       "2d035c4b-cdfa-4982-87dc-916fe07a0824_4fb0c6a1-0...  Réalisation d'une prise de sang chez monsieur ...   \n",
       "b96ad235-2f4f-4236-9aa3-9df85dfcf7cb_b8a5877a-b...  Ordonnance pour la préparation du pilulier en ...   \n",
       "978eb126-14a0-46cf-bd27-44b6b77cecb7_01fc29bf-0...  Début des soins le 10 juin. Avec début des sou...   \n",
       "2d035c4b-cdfa-4982-87dc-916fe07a0824_47d4e0f3-f...  Prise de sang faite au domicile de la patiente...   \n",
       "\n",
       "                                                   Duration      Date  \n",
       "fichier                                                                \n",
       "9f980dcf-b431-4e67-876f-2b8e288b7900_3b5f3f01-e...     None   [2, 19]  \n",
       "2d035c4b-cdfa-4982-87dc-916fe07a0824_710f4bda-b...     None   [3, 23]  \n",
       "b96ad235-2f4f-4236-9aa3-9df85dfcf7cb_ff1697c1-a...     None      None  \n",
       "3e7ffb67-8872-4172-bf18-4fe338ecae3f_6e8b49e5-4...     None   [2, 18]  \n",
       "2d035c4b-cdfa-4982-87dc-916fe07a0824_56c749ad-e...     None      None  \n",
       "...                                                     ...       ...  \n",
       "a5050600-95ef-43d8-a5fa-a57c791bf843_448853a4-f...     None  [99, 99]  \n",
       "2d035c4b-cdfa-4982-87dc-916fe07a0824_4fb0c6a1-0...     None   [2, 24]  \n",
       "b96ad235-2f4f-4236-9aa3-9df85dfcf7cb_b8a5877a-b...     None    [2, 1]  \n",
       "978eb126-14a0-46cf-bd27-44b6b77cecb7_01fc29bf-0...     None   [6, 10]  \n",
       "2d035c4b-cdfa-4982-87dc-916fe07a0824_47d4e0f3-f...     None      None  \n",
       "\n",
       "[4029 rows x 3 columns]"
      ]
     },
     "execution_count": 211,
     "metadata": {},
     "output_type": "execute_result"
    }
   ],
   "source": [
    "df_bb"
   ]
  },
  {
   "cell_type": "code",
   "execution_count": null,
   "id": "b8d92331",
   "metadata": {},
   "outputs": [],
   "source": []
  }
 ],
 "metadata": {
  "kernelspec": {
   "display_name": "Python 3 (ipykernel)",
   "language": "python",
   "name": "python3"
  },
  "language_info": {
   "codemirror_mode": {
    "name": "ipython",
    "version": 3
   },
   "file_extension": ".py",
   "mimetype": "text/x-python",
   "name": "python",
   "nbconvert_exporter": "python",
   "pygments_lexer": "ipython3",
   "version": "3.8.12"
  },
  "toc": {
   "base_numbering": 1,
   "nav_menu": {},
   "number_sections": true,
   "sideBar": true,
   "skip_h1_title": false,
   "title_cell": "Table of Contents",
   "title_sidebar": "Contents",
   "toc_cell": false,
   "toc_position": {},
   "toc_section_display": true,
   "toc_window_display": false
  }
 },
 "nbformat": 4,
 "nbformat_minor": 5
}
