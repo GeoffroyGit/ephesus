{
 "cells": [
  {
   "cell_type": "code",
   "execution_count": 1,
   "id": "4b431df2",
   "metadata": {},
   "outputs": [],
   "source": [
    "%load_ext autoreload\n",
    "%autoreload 2"
   ]
  },
  {
   "cell_type": "code",
   "execution_count": 294,
   "id": "2276298c",
   "metadata": {
    "scrolled": true
   },
   "outputs": [],
   "source": [
    "from ephesus.data import get_data_csv, get_data_json\n",
    "from ephesus.sentence import return_label, load_model\n",
    "from ephesus.duration import Duration\n",
    "from ephesus.timedate import Date \n",
    "import numpy as np\n",
    "import pandas as pd\n",
    "from ephesus.duration import Duration\n",
    "import re\n",
    "import datetime"
   ]
  },
  {
   "cell_type": "code",
   "execution_count": 3,
   "id": "7222599b",
   "metadata": {},
   "outputs": [],
   "source": [
    "df = pd.DataFrame(get_data_csv()[\"translation\"])"
   ]
  },
  {
   "cell_type": "code",
   "execution_count": 4,
   "id": "4e8e9d8a",
   "metadata": {},
   "outputs": [],
   "source": [
    "model = load_model(\"../models/model_full/model-best\")"
   ]
  },
  {
   "cell_type": "code",
   "execution_count": 5,
   "id": "c5947a6e",
   "metadata": {},
   "outputs": [
    {
     "data": {
      "text/html": [
       "<div>\n",
       "<style scoped>\n",
       "    .dataframe tbody tr th:only-of-type {\n",
       "        vertical-align: middle;\n",
       "    }\n",
       "\n",
       "    .dataframe tbody tr th {\n",
       "        vertical-align: top;\n",
       "    }\n",
       "\n",
       "    .dataframe thead th {\n",
       "        text-align: right;\n",
       "    }\n",
       "</style>\n",
       "<table border=\"1\" class=\"dataframe\">\n",
       "  <thead>\n",
       "    <tr style=\"text-align: right;\">\n",
       "      <th></th>\n",
       "      <th>translation</th>\n",
       "    </tr>\n",
       "    <tr>\n",
       "      <th>fichier</th>\n",
       "      <th></th>\n",
       "    </tr>\n",
       "  </thead>\n",
       "  <tbody>\n",
       "    <tr>\n",
       "      <th>9f980dcf-b431-4e67-876f-2b8e288b7900_3b5f3f01-e244-4398-8388-19fb5058c9c1</th>\n",
       "      <td>Prise de sang faite le 19 février à domicile p...</td>\n",
       "    </tr>\n",
       "    <tr>\n",
       "      <th>2d035c4b-cdfa-4982-87dc-916fe07a0824_710f4bda-ba21-434f-883e-1b72df7ea27a</th>\n",
       "      <td>Pansement également refait le 23 mars par mylène.</td>\n",
       "    </tr>\n",
       "    <tr>\n",
       "      <th>b96ad235-2f4f-4236-9aa3-9df85dfcf7cb_ff1697c1-a01f-4eb5-a1c2-b95205dc389a</th>\n",
       "      <td>Pcr plus prise de sang fait à domicile à 11.</td>\n",
       "    </tr>\n",
       "    <tr>\n",
       "      <th>3e7ffb67-8872-4172-bf18-4fe338ecae3f_6e8b49e5-4213-45da-bad6-158592c7f731</th>\n",
       "      <td>Prise de sang et analyse stérile des urines à ...</td>\n",
       "    </tr>\n",
       "    <tr>\n",
       "      <th>2d035c4b-cdfa-4982-87dc-916fe07a0824_56c749ad-eed8-407a-ae9e-a17ebf420cf4</th>\n",
       "      <td>Bonjour, merci de renouveler cette ordonnance ...</td>\n",
       "    </tr>\n",
       "    <tr>\n",
       "      <th>...</th>\n",
       "      <td>...</td>\n",
       "    </tr>\n",
       "    <tr>\n",
       "      <th>a5050600-95ef-43d8-a5fa-a57c791bf843_448853a4-f75e-403a-8fcb-8dfc18f0b4ec</th>\n",
       "      <td>Test antigénique réalisé cet après-midi à domi...</td>\n",
       "    </tr>\n",
       "    <tr>\n",
       "      <th>2d035c4b-cdfa-4982-87dc-916fe07a0824_4fb0c6a1-0562-496a-ae88-1adadec059a6</th>\n",
       "      <td>Réalisation d'une prise de sang chez monsieur ...</td>\n",
       "    </tr>\n",
       "    <tr>\n",
       "      <th>b96ad235-2f4f-4236-9aa3-9df85dfcf7cb_b8a5877a-b8ce-4347-b294-3aa46efbcb34</th>\n",
       "      <td>Ordonnance pour la préparation du pilulier en ...</td>\n",
       "    </tr>\n",
       "    <tr>\n",
       "      <th>978eb126-14a0-46cf-bd27-44b6b77cecb7_01fc29bf-08c4-4e82-99be-8f9f24c5974b</th>\n",
       "      <td>Début des soins le 10 juin. Avec début des sou...</td>\n",
       "    </tr>\n",
       "    <tr>\n",
       "      <th>2d035c4b-cdfa-4982-87dc-916fe07a0824_47d4e0f3-f2f0-4a19-9df1-8ab0894980f9</th>\n",
       "      <td>Prise de sang faite au domicile de la patiente...</td>\n",
       "    </tr>\n",
       "  </tbody>\n",
       "</table>\n",
       "<p>4029 rows × 1 columns</p>\n",
       "</div>"
      ],
      "text/plain": [
       "                                                                                          translation\n",
       "fichier                                                                                              \n",
       "9f980dcf-b431-4e67-876f-2b8e288b7900_3b5f3f01-e...  Prise de sang faite le 19 février à domicile p...\n",
       "2d035c4b-cdfa-4982-87dc-916fe07a0824_710f4bda-b...  Pansement également refait le 23 mars par mylène.\n",
       "b96ad235-2f4f-4236-9aa3-9df85dfcf7cb_ff1697c1-a...       Pcr plus prise de sang fait à domicile à 11.\n",
       "3e7ffb67-8872-4172-bf18-4fe338ecae3f_6e8b49e5-4...  Prise de sang et analyse stérile des urines à ...\n",
       "2d035c4b-cdfa-4982-87dc-916fe07a0824_56c749ad-e...  Bonjour, merci de renouveler cette ordonnance ...\n",
       "...                                                                                               ...\n",
       "a5050600-95ef-43d8-a5fa-a57c791bf843_448853a4-f...  Test antigénique réalisé cet après-midi à domi...\n",
       "2d035c4b-cdfa-4982-87dc-916fe07a0824_4fb0c6a1-0...  Réalisation d'une prise de sang chez monsieur ...\n",
       "b96ad235-2f4f-4236-9aa3-9df85dfcf7cb_b8a5877a-b...  Ordonnance pour la préparation du pilulier en ...\n",
       "978eb126-14a0-46cf-bd27-44b6b77cecb7_01fc29bf-0...  Début des soins le 10 juin. Avec début des sou...\n",
       "2d035c4b-cdfa-4982-87dc-916fe07a0824_47d4e0f3-f...  Prise de sang faite au domicile de la patiente...\n",
       "\n",
       "[4029 rows x 1 columns]"
      ]
     },
     "execution_count": 5,
     "metadata": {},
     "output_type": "execute_result"
    }
   ],
   "source": [
    "df"
   ]
  },
  {
   "cell_type": "code",
   "execution_count": 6,
   "id": "049208a4",
   "metadata": {},
   "outputs": [],
   "source": [
    "df[\"entities\"] = df[\"translation\"].apply(lambda x: return_label(x, model))"
   ]
  },
  {
   "cell_type": "code",
   "execution_count": 7,
   "id": "977a6207",
   "metadata": {},
   "outputs": [],
   "source": [
    "def extract(prediction, label):\n",
    "    for elm in prediction:\n",
    "        if elm[1] == label:\n",
    "            if elm[0] == np.nan:\n",
    "                return np.nan\n",
    "            else:\n",
    "                return elm[0]  "
   ]
  },
  {
   "cell_type": "code",
   "execution_count": 8,
   "id": "967fee0e",
   "metadata": {},
   "outputs": [],
   "source": [
    "df[\"raw_date\"] = df[\"entities\"].apply(lambda x: extract(x,'Date'))"
   ]
  },
  {
   "cell_type": "code",
   "execution_count": 9,
   "id": "3fadc666",
   "metadata": {},
   "outputs": [],
   "source": [
    "df[\"Duration\"] = df[\"entities\"].apply(lambda x: extract(x,'Duration'))"
   ]
  },
  {
   "cell_type": "code",
   "execution_count": 10,
   "id": "63495d46",
   "metadata": {},
   "outputs": [],
   "source": [
    "def apply_date(sentence):\n",
    "    if sentence == None:\n",
    "        return None\n",
    "    else: \n",
    "        df = Date().transform_data(sentence)\n",
    "        return [df.iloc[0,2], df.iloc[0,1]]"
   ]
  },
  {
   "cell_type": "code",
   "execution_count": 11,
   "id": "9087efd5",
   "metadata": {},
   "outputs": [
    {
     "data": {
      "text/html": [
       "<div>\n",
       "<style scoped>\n",
       "    .dataframe tbody tr th:only-of-type {\n",
       "        vertical-align: middle;\n",
       "    }\n",
       "\n",
       "    .dataframe tbody tr th {\n",
       "        vertical-align: top;\n",
       "    }\n",
       "\n",
       "    .dataframe thead th {\n",
       "        text-align: right;\n",
       "    }\n",
       "</style>\n",
       "<table border=\"1\" class=\"dataframe\">\n",
       "  <thead>\n",
       "    <tr style=\"text-align: right;\">\n",
       "      <th></th>\n",
       "      <th>data</th>\n",
       "      <th>day</th>\n",
       "      <th>month</th>\n",
       "      <th>year</th>\n",
       "      <th>day_of_week</th>\n",
       "      <th>day_from_today</th>\n",
       "    </tr>\n",
       "  </thead>\n",
       "  <tbody>\n",
       "    <tr>\n",
       "      <th>0</th>\n",
       "      <td>[10, juin]</td>\n",
       "      <td>10</td>\n",
       "      <td>6</td>\n",
       "      <td>99</td>\n",
       "      <td>99</td>\n",
       "      <td>99</td>\n",
       "    </tr>\n",
       "  </tbody>\n",
       "</table>\n",
       "</div>"
      ],
      "text/plain": [
       "         data  day  month  year  day_of_week  day_from_today\n",
       "0  [10, juin]   10      6    99           99              99"
      ]
     },
     "execution_count": 11,
     "metadata": {},
     "output_type": "execute_result"
    }
   ],
   "source": [
    "test = 'le 10 juin'\n",
    "temp = Date().transform_data(test)\n",
    "temp"
   ]
  },
  {
   "cell_type": "code",
   "execution_count": 12,
   "id": "0e6e0292",
   "metadata": {},
   "outputs": [
    {
     "data": {
      "text/plain": [
       "[6, 10]"
      ]
     },
     "execution_count": 12,
     "metadata": {},
     "output_type": "execute_result"
    }
   ],
   "source": [
    "apply_date(test)"
   ]
  },
  {
   "cell_type": "code",
   "execution_count": 13,
   "id": "fb402197",
   "metadata": {},
   "outputs": [],
   "source": [
    "df[\"Date\"] = df[\"raw_date\"].apply(lambda x: apply_date(x))"
   ]
  },
  {
   "cell_type": "code",
   "execution_count": 14,
   "id": "fa02ff3e",
   "metadata": {},
   "outputs": [],
   "source": [
    "df.drop(columns=[\"entities\", \"raw_date\"], inplace=True)"
   ]
  },
  {
   "cell_type": "code",
   "execution_count": 15,
   "id": "aa4ab860",
   "metadata": {},
   "outputs": [
    {
     "data": {
      "text/html": [
       "<div>\n",
       "<style scoped>\n",
       "    .dataframe tbody tr th:only-of-type {\n",
       "        vertical-align: middle;\n",
       "    }\n",
       "\n",
       "    .dataframe tbody tr th {\n",
       "        vertical-align: top;\n",
       "    }\n",
       "\n",
       "    .dataframe thead th {\n",
       "        text-align: right;\n",
       "    }\n",
       "</style>\n",
       "<table border=\"1\" class=\"dataframe\">\n",
       "  <thead>\n",
       "    <tr style=\"text-align: right;\">\n",
       "      <th></th>\n",
       "      <th>translation</th>\n",
       "      <th>Duration</th>\n",
       "      <th>Date</th>\n",
       "    </tr>\n",
       "    <tr>\n",
       "      <th>fichier</th>\n",
       "      <th></th>\n",
       "      <th></th>\n",
       "      <th></th>\n",
       "    </tr>\n",
       "  </thead>\n",
       "  <tbody>\n",
       "    <tr>\n",
       "      <th>9f980dcf-b431-4e67-876f-2b8e288b7900_3b5f3f01-e244-4398-8388-19fb5058c9c1</th>\n",
       "      <td>Prise de sang faite le 19 février à domicile p...</td>\n",
       "      <td>None</td>\n",
       "      <td>[2, 19]</td>\n",
       "    </tr>\n",
       "    <tr>\n",
       "      <th>2d035c4b-cdfa-4982-87dc-916fe07a0824_710f4bda-ba21-434f-883e-1b72df7ea27a</th>\n",
       "      <td>Pansement également refait le 23 mars par mylène.</td>\n",
       "      <td>None</td>\n",
       "      <td>[3, 23]</td>\n",
       "    </tr>\n",
       "    <tr>\n",
       "      <th>b96ad235-2f4f-4236-9aa3-9df85dfcf7cb_ff1697c1-a01f-4eb5-a1c2-b95205dc389a</th>\n",
       "      <td>Pcr plus prise de sang fait à domicile à 11.</td>\n",
       "      <td>None</td>\n",
       "      <td>None</td>\n",
       "    </tr>\n",
       "    <tr>\n",
       "      <th>3e7ffb67-8872-4172-bf18-4fe338ecae3f_6e8b49e5-4213-45da-bad6-158592c7f731</th>\n",
       "      <td>Prise de sang et analyse stérile des urines à ...</td>\n",
       "      <td>None</td>\n",
       "      <td>[2, 18]</td>\n",
       "    </tr>\n",
       "    <tr>\n",
       "      <th>2d035c4b-cdfa-4982-87dc-916fe07a0824_56c749ad-eed8-407a-ae9e-a17ebf420cf4</th>\n",
       "      <td>Bonjour, merci de renouveler cette ordonnance ...</td>\n",
       "      <td>None</td>\n",
       "      <td>None</td>\n",
       "    </tr>\n",
       "  </tbody>\n",
       "</table>\n",
       "</div>"
      ],
      "text/plain": [
       "                                                                                          translation  \\\n",
       "fichier                                                                                                 \n",
       "9f980dcf-b431-4e67-876f-2b8e288b7900_3b5f3f01-e...  Prise de sang faite le 19 février à domicile p...   \n",
       "2d035c4b-cdfa-4982-87dc-916fe07a0824_710f4bda-b...  Pansement également refait le 23 mars par mylène.   \n",
       "b96ad235-2f4f-4236-9aa3-9df85dfcf7cb_ff1697c1-a...       Pcr plus prise de sang fait à domicile à 11.   \n",
       "3e7ffb67-8872-4172-bf18-4fe338ecae3f_6e8b49e5-4...  Prise de sang et analyse stérile des urines à ...   \n",
       "2d035c4b-cdfa-4982-87dc-916fe07a0824_56c749ad-e...  Bonjour, merci de renouveler cette ordonnance ...   \n",
       "\n",
       "                                                   Duration     Date  \n",
       "fichier                                                               \n",
       "9f980dcf-b431-4e67-876f-2b8e288b7900_3b5f3f01-e...     None  [2, 19]  \n",
       "2d035c4b-cdfa-4982-87dc-916fe07a0824_710f4bda-b...     None  [3, 23]  \n",
       "b96ad235-2f4f-4236-9aa3-9df85dfcf7cb_ff1697c1-a...     None     None  \n",
       "3e7ffb67-8872-4172-bf18-4fe338ecae3f_6e8b49e5-4...     None  [2, 18]  \n",
       "2d035c4b-cdfa-4982-87dc-916fe07a0824_56c749ad-e...     None     None  "
      ]
     },
     "execution_count": 15,
     "metadata": {},
     "output_type": "execute_result"
    }
   ],
   "source": [
    "df.head()"
   ]
  },
  {
   "cell_type": "code",
   "execution_count": 16,
   "id": "b3f4cc53",
   "metadata": {},
   "outputs": [
    {
     "data": {
      "text/plain": [
       "{'CareDuration': ['3'], 'CareDurationType': ['Weeks'], 'CareEnd': [nan]}"
      ]
     },
     "execution_count": 16,
     "metadata": {},
     "output_type": "execute_result"
    }
   ],
   "source": [
    "Duration().explicit_duration(\"pendant 3 semaines\")"
   ]
  },
  {
   "cell_type": "code",
   "execution_count": 17,
   "id": "2d04d90b",
   "metadata": {},
   "outputs": [],
   "source": [
    "test = Duration()"
   ]
  },
  {
   "cell_type": "code",
   "execution_count": 18,
   "id": "8dede9dc",
   "metadata": {},
   "outputs": [
    {
     "data": {
      "text/plain": [
       "{'CareDuration': ['3'], 'CareDurationType': ['Days'], 'CareEnd': [nan]}"
      ]
     },
     "execution_count": 18,
     "metadata": {},
     "output_type": "execute_result"
    }
   ],
   "source": [
    "test.explicit_duration(\"pendant 3 jours\")"
   ]
  },
  {
   "cell_type": "code",
   "execution_count": 19,
   "id": "1b1a1d53",
   "metadata": {},
   "outputs": [],
   "source": [
    "df.iloc[0,2][0] = df.iloc[0,2][0] + 2 "
   ]
  },
  {
   "cell_type": "code",
   "execution_count": 20,
   "id": "9a9f2f92",
   "metadata": {},
   "outputs": [
    {
     "data": {
      "text/plain": [
       "4"
      ]
     },
     "execution_count": 20,
     "metadata": {},
     "output_type": "execute_result"
    }
   ],
   "source": [
    "df.iloc[0,2][0]"
   ]
  },
  {
   "cell_type": "code",
   "execution_count": 21,
   "id": "99f02767",
   "metadata": {},
   "outputs": [
    {
     "data": {
      "text/plain": [
       "'(janvier|février|mars|avril|mai|juin|juillet|août|septembre|octobre|novembre|décembre)'"
      ]
     },
     "execution_count": 21,
     "metadata": {},
     "output_type": "execute_result"
    }
   ],
   "source": [
    "test.liste_mois"
   ]
  },
  {
   "cell_type": "code",
   "execution_count": 22,
   "id": "605e6b94",
   "metadata": {},
   "outputs": [
    {
     "data": {
      "text/plain": [
       "{'CareDuration': [nan], 'CareDurationType': [nan], 'CareEnd': ['24 juin']}"
      ]
     },
     "execution_count": 22,
     "metadata": {},
     "output_type": "execute_result"
    }
   ],
   "source": [
    "test.implicit_duration_1('jusqu\\'au 24 juin')"
   ]
  },
  {
   "cell_type": "code",
   "execution_count": 23,
   "id": "49f642c2",
   "metadata": {},
   "outputs": [
    {
     "data": {
      "text/plain": [
       "{'CareDuration': [14], 'CareDurationType': ['Days'], 'CareEnd': ['24 juin']}"
      ]
     },
     "execution_count": 23,
     "metadata": {},
     "output_type": "execute_result"
    }
   ],
   "source": [
    "test.implicit_duration_1('jusqu\\'au 24 juin',(6,10))"
   ]
  },
  {
   "cell_type": "code",
   "execution_count": 24,
   "id": "ed19ac14",
   "metadata": {},
   "outputs": [
    {
     "data": {
      "text/plain": [
       "{'CareDuration': [nan], 'CareDurationType': ['Days'], 'CareEnd': ['16 juin']}"
      ]
     },
     "execution_count": 24,
     "metadata": {},
     "output_type": "execute_result"
    }
   ],
   "source": [
    "test.get_duration(sentence='jusqu\\'au 16 juin', CareBeginDate=[6,20])"
   ]
  },
  {
   "cell_type": "code",
   "execution_count": 25,
   "id": "7d6e930a",
   "metadata": {},
   "outputs": [],
   "source": [
    "liste_mois = '(janvier|février|mars|avril|mai|juin|juillet|août|septembre|octobre|novembre|décembre)'"
   ]
  },
  {
   "cell_type": "code",
   "execution_count": 26,
   "id": "c68ecacc",
   "metadata": {},
   "outputs": [
    {
     "data": {
      "text/plain": [
       "<re.Match object; span=(9, 16), match='16 juin'>"
      ]
     },
     "execution_count": 26,
     "metadata": {},
     "output_type": "execute_result"
    }
   ],
   "source": [
    "re.search(\"(?<=jusqu\\'au\\s)(\\w\\s)*\\d{1,2}\\s\"+liste_mois, 'jusqu\\'au 16 juin')"
   ]
  },
  {
   "cell_type": "code",
   "execution_count": 27,
   "id": "73366b81",
   "metadata": {},
   "outputs": [
    {
     "data": {
      "text/plain": [
       "{'CareDuration': [nan], 'CareDurationType': [nan], 'CareEnd': ['16 juin']}"
      ]
     },
     "execution_count": 27,
     "metadata": {},
     "output_type": "execute_result"
    }
   ],
   "source": [
    "test.get_duration(sentence=\"jusqu'au 16 juin\")"
   ]
  },
  {
   "cell_type": "code",
   "execution_count": 28,
   "id": "97e6e247",
   "metadata": {},
   "outputs": [
    {
     "data": {
      "text/plain": [
       "{'CareDuration': ['10'], 'CareDurationType': ['Days'], 'CareEnd': [nan]}"
      ]
     },
     "execution_count": 28,
     "metadata": {},
     "output_type": "execute_result"
    }
   ],
   "source": [
    "test.get_duration(sentence='pour 10 jours')"
   ]
  },
  {
   "cell_type": "code",
   "execution_count": 29,
   "id": "a4ebba15",
   "metadata": {},
   "outputs": [],
   "source": [
    "def get_duration_df(x):\n",
    "    if x is None:\n",
    "        return None"
   ]
  },
  {
   "cell_type": "code",
   "execution_count": 30,
   "id": "9e125fb2",
   "metadata": {},
   "outputs": [],
   "source": [
    "test = pd.DataFrame()"
   ]
  },
  {
   "cell_type": "code",
   "execution_count": 31,
   "id": "c926a8ba",
   "metadata": {},
   "outputs": [
    {
     "data": {
      "text/plain": [
       "True"
      ]
     },
     "execution_count": 31,
     "metadata": {},
     "output_type": "execute_result"
    }
   ],
   "source": [
    "type(test) == pd.core.frame.DataFrame"
   ]
  },
  {
   "cell_type": "code",
   "execution_count": 32,
   "id": "c88ba235",
   "metadata": {},
   "outputs": [
    {
     "data": {
      "text/plain": [
       "pandas.core.series.Series"
      ]
     },
     "execution_count": 32,
     "metadata": {},
     "output_type": "execute_result"
    }
   ],
   "source": [
    "type(df[\"Duration\"])"
   ]
  },
  {
   "cell_type": "code",
   "execution_count": 33,
   "id": "19c38a30",
   "metadata": {},
   "outputs": [],
   "source": [
    "duration = df[\"Duration\"]\n",
    "date = df[\"Date\"]"
   ]
  },
  {
   "cell_type": "code",
   "execution_count": 34,
   "id": "d7f3eebd",
   "metadata": {},
   "outputs": [
    {
     "data": {
      "text/html": [
       "<div>\n",
       "<style scoped>\n",
       "    .dataframe tbody tr th:only-of-type {\n",
       "        vertical-align: middle;\n",
       "    }\n",
       "\n",
       "    .dataframe tbody tr th {\n",
       "        vertical-align: top;\n",
       "    }\n",
       "\n",
       "    .dataframe thead th {\n",
       "        text-align: right;\n",
       "    }\n",
       "</style>\n",
       "<table border=\"1\" class=\"dataframe\">\n",
       "  <thead>\n",
       "    <tr style=\"text-align: right;\">\n",
       "      <th></th>\n",
       "      <th>translation</th>\n",
       "      <th>Duration</th>\n",
       "      <th>Date</th>\n",
       "    </tr>\n",
       "    <tr>\n",
       "      <th>fichier</th>\n",
       "      <th></th>\n",
       "      <th></th>\n",
       "      <th></th>\n",
       "    </tr>\n",
       "  </thead>\n",
       "  <tbody>\n",
       "    <tr>\n",
       "      <th>55d674cc-3389-4cf6-ab7c-1f1b9fa1b6ed_3e005951-47a1-4edb-ab50-ce602fe56c54</th>\n",
       "      <td>Renouvellement du bsc. D'une durée de un an à ...</td>\n",
       "      <td>une durée de un an</td>\n",
       "      <td>[5, 21]</td>\n",
       "    </tr>\n",
       "    <tr>\n",
       "      <th>2d035c4b-cdfa-4982-87dc-916fe07a0824_2dfdf4ab-fc95-4ec1-8e03-af502b95baf8</th>\n",
       "      <td>Ordonnance pour la réalisation de injection de...</td>\n",
       "      <td>pour 6 jours</td>\n",
       "      <td>[4, 17]</td>\n",
       "    </tr>\n",
       "    <tr>\n",
       "      <th>c619f0e1-7c22-4047-adb2-df4dec6643ba_8214d80f-0f7d-4e0d-9d4a-23294f9690b3</th>\n",
       "      <td>Soin débuté le vendredi 14 janvier 2022 jusqu'...</td>\n",
       "      <td>jusqu'au lundi 17 janvier 2022</td>\n",
       "      <td>[1, 14]</td>\n",
       "    </tr>\n",
       "    <tr>\n",
       "      <th>f0caa21b-c11d-40a3-98ec-e2df3d2b9cc4_7e5c146c-2faa-44ce-9228-ee5addf48580</th>\n",
       "      <td>Soin débuté le 10 avril,  à réaliser donc le s...</td>\n",
       "      <td>pendant 15 jours</td>\n",
       "      <td>[4, 10]</td>\n",
       "    </tr>\n",
       "    <tr>\n",
       "      <th>9d42ce6f-8537-49a9-a121-c8ae1dc7cda8_3ffbf9cc-b9e4-405d-a038-fb4f9e036a72</th>\n",
       "      <td>Pour monsieur Didier Nicolas, donc un passage ...</td>\n",
       "      <td>jusqu'au 8/12/2019</td>\n",
       "      <td>[99, 25]</td>\n",
       "    </tr>\n",
       "    <tr>\n",
       "      <th>...</th>\n",
       "      <td>...</td>\n",
       "      <td>...</td>\n",
       "      <td>...</td>\n",
       "    </tr>\n",
       "    <tr>\n",
       "      <th>3e7ffb67-8872-4172-bf18-4fe338ecae3f_04fe104b-9843-4abc-b467-a9301c5eb3a2</th>\n",
       "      <td>Injection sous-cutanée à réaliser une fois par...</td>\n",
       "      <td>pendant 8 jours</td>\n",
       "      <td>[7, 9]</td>\n",
       "    </tr>\n",
       "    <tr>\n",
       "      <th>3e7ffb67-8872-4172-bf18-4fe338ecae3f_67dbeda4-1876-41a6-8249-68f1dfeebb70</th>\n",
       "      <td>Nouvelle ordonnance pour madame Gris Rennes. O...</td>\n",
       "      <td>pendant un mois</td>\n",
       "      <td>[7, 20]</td>\n",
       "    </tr>\n",
       "    <tr>\n",
       "      <th>3e7ffb67-8872-4172-bf18-4fe338ecae3f_80f9b3d2-47b8-4152-9e45-a26dcf173335</th>\n",
       "      <td>Injection sous-cutanée à faire une fois par jo...</td>\n",
       "      <td>pendant 30 jours</td>\n",
       "      <td>[4, 7]</td>\n",
       "    </tr>\n",
       "    <tr>\n",
       "      <th>b96ad235-2f4f-4236-9aa3-9df85dfcf7cb_b1cb90a1-acbb-40c6-963d-10ebac5fb0d4</th>\n",
       "      <td>Ordonnance daté du 31 mai 2021 faite par le ce...</td>\n",
       "      <td>valable pour un an</td>\n",
       "      <td>[5, 31]</td>\n",
       "    </tr>\n",
       "    <tr>\n",
       "      <th>74b154c1-e265-4cb9-8e71-0c9bbc3dc880_5c18e09e-9dfc-421d-92b2-73b6a22d2ddc</th>\n",
       "      <td>Oui, bonjour dany, c'est sylvie, je viens de v...</td>\n",
       "      <td>pendant 15 pendant</td>\n",
       "      <td>[99, 99]</td>\n",
       "    </tr>\n",
       "  </tbody>\n",
       "</table>\n",
       "<p>306 rows × 3 columns</p>\n",
       "</div>"
      ],
      "text/plain": [
       "                                                                                          translation  \\\n",
       "fichier                                                                                                 \n",
       "55d674cc-3389-4cf6-ab7c-1f1b9fa1b6ed_3e005951-4...  Renouvellement du bsc. D'une durée de un an à ...   \n",
       "2d035c4b-cdfa-4982-87dc-916fe07a0824_2dfdf4ab-f...  Ordonnance pour la réalisation de injection de...   \n",
       "c619f0e1-7c22-4047-adb2-df4dec6643ba_8214d80f-0...  Soin débuté le vendredi 14 janvier 2022 jusqu'...   \n",
       "f0caa21b-c11d-40a3-98ec-e2df3d2b9cc4_7e5c146c-2...  Soin débuté le 10 avril,  à réaliser donc le s...   \n",
       "9d42ce6f-8537-49a9-a121-c8ae1dc7cda8_3ffbf9cc-b...  Pour monsieur Didier Nicolas, donc un passage ...   \n",
       "...                                                                                               ...   \n",
       "3e7ffb67-8872-4172-bf18-4fe338ecae3f_04fe104b-9...  Injection sous-cutanée à réaliser une fois par...   \n",
       "3e7ffb67-8872-4172-bf18-4fe338ecae3f_67dbeda4-1...  Nouvelle ordonnance pour madame Gris Rennes. O...   \n",
       "3e7ffb67-8872-4172-bf18-4fe338ecae3f_80f9b3d2-4...  Injection sous-cutanée à faire une fois par jo...   \n",
       "b96ad235-2f4f-4236-9aa3-9df85dfcf7cb_b1cb90a1-a...  Ordonnance daté du 31 mai 2021 faite par le ce...   \n",
       "74b154c1-e265-4cb9-8e71-0c9bbc3dc880_5c18e09e-9...  Oui, bonjour dany, c'est sylvie, je viens de v...   \n",
       "\n",
       "                                                                          Duration  \\\n",
       "fichier                                                                              \n",
       "55d674cc-3389-4cf6-ab7c-1f1b9fa1b6ed_3e005951-4...              une durée de un an   \n",
       "2d035c4b-cdfa-4982-87dc-916fe07a0824_2dfdf4ab-f...                    pour 6 jours   \n",
       "c619f0e1-7c22-4047-adb2-df4dec6643ba_8214d80f-0...  jusqu'au lundi 17 janvier 2022   \n",
       "f0caa21b-c11d-40a3-98ec-e2df3d2b9cc4_7e5c146c-2...                pendant 15 jours   \n",
       "9d42ce6f-8537-49a9-a121-c8ae1dc7cda8_3ffbf9cc-b...              jusqu'au 8/12/2019   \n",
       "...                                                                            ...   \n",
       "3e7ffb67-8872-4172-bf18-4fe338ecae3f_04fe104b-9...                 pendant 8 jours   \n",
       "3e7ffb67-8872-4172-bf18-4fe338ecae3f_67dbeda4-1...                 pendant un mois   \n",
       "3e7ffb67-8872-4172-bf18-4fe338ecae3f_80f9b3d2-4...                pendant 30 jours   \n",
       "b96ad235-2f4f-4236-9aa3-9df85dfcf7cb_b1cb90a1-a...              valable pour un an   \n",
       "74b154c1-e265-4cb9-8e71-0c9bbc3dc880_5c18e09e-9...              pendant 15 pendant   \n",
       "\n",
       "                                                        Date  \n",
       "fichier                                                       \n",
       "55d674cc-3389-4cf6-ab7c-1f1b9fa1b6ed_3e005951-4...   [5, 21]  \n",
       "2d035c4b-cdfa-4982-87dc-916fe07a0824_2dfdf4ab-f...   [4, 17]  \n",
       "c619f0e1-7c22-4047-adb2-df4dec6643ba_8214d80f-0...   [1, 14]  \n",
       "f0caa21b-c11d-40a3-98ec-e2df3d2b9cc4_7e5c146c-2...   [4, 10]  \n",
       "9d42ce6f-8537-49a9-a121-c8ae1dc7cda8_3ffbf9cc-b...  [99, 25]  \n",
       "...                                                      ...  \n",
       "3e7ffb67-8872-4172-bf18-4fe338ecae3f_04fe104b-9...    [7, 9]  \n",
       "3e7ffb67-8872-4172-bf18-4fe338ecae3f_67dbeda4-1...   [7, 20]  \n",
       "3e7ffb67-8872-4172-bf18-4fe338ecae3f_80f9b3d2-4...    [4, 7]  \n",
       "b96ad235-2f4f-4236-9aa3-9df85dfcf7cb_b1cb90a1-a...   [5, 31]  \n",
       "74b154c1-e265-4cb9-8e71-0c9bbc3dc880_5c18e09e-9...  [99, 99]  \n",
       "\n",
       "[306 rows x 3 columns]"
      ]
     },
     "execution_count": 34,
     "metadata": {},
     "output_type": "execute_result"
    }
   ],
   "source": [
    "df_temp = df.dropna()\n",
    "df_temp"
   ]
  },
  {
   "cell_type": "code",
   "execution_count": 35,
   "id": "0a11e073",
   "metadata": {},
   "outputs": [],
   "source": [
    "test_1 = Duration().explicit_duration(\"pour 4 jours\")"
   ]
  },
  {
   "cell_type": "code",
   "execution_count": 36,
   "id": "b83a7d6f",
   "metadata": {},
   "outputs": [],
   "source": [
    "test_2 = Duration().explicit_duration(\"pendant 8 mois\")"
   ]
  },
  {
   "cell_type": "code",
   "execution_count": 37,
   "id": "f3f97ec7",
   "metadata": {},
   "outputs": [
    {
     "data": {
      "text/html": [
       "<div>\n",
       "<style scoped>\n",
       "    .dataframe tbody tr th:only-of-type {\n",
       "        vertical-align: middle;\n",
       "    }\n",
       "\n",
       "    .dataframe tbody tr th {\n",
       "        vertical-align: top;\n",
       "    }\n",
       "\n",
       "    .dataframe thead th {\n",
       "        text-align: right;\n",
       "    }\n",
       "</style>\n",
       "<table border=\"1\" class=\"dataframe\">\n",
       "  <thead>\n",
       "    <tr style=\"text-align: right;\">\n",
       "      <th></th>\n",
       "      <th>test</th>\n",
       "    </tr>\n",
       "  </thead>\n",
       "  <tbody>\n",
       "    <tr>\n",
       "      <th>0</th>\n",
       "      <td>{'CareDuration': ['4'], 'CareDurationType': ['...</td>\n",
       "    </tr>\n",
       "    <tr>\n",
       "      <th>1</th>\n",
       "      <td>{'CareDuration': ['8'], 'CareDurationType': ['...</td>\n",
       "    </tr>\n",
       "  </tbody>\n",
       "</table>\n",
       "</div>"
      ],
      "text/plain": [
       "                                                test\n",
       "0  {'CareDuration': ['4'], 'CareDurationType': ['...\n",
       "1  {'CareDuration': ['8'], 'CareDurationType': ['..."
      ]
     },
     "execution_count": 37,
     "metadata": {},
     "output_type": "execute_result"
    }
   ],
   "source": [
    "full_test = pd.DataFrame({'test':[test_1,test_2]})\n",
    "full_test"
   ]
  },
  {
   "cell_type": "code",
   "execution_count": 38,
   "id": "a26f0d4a",
   "metadata": {},
   "outputs": [],
   "source": [
    "full_test['CareDuration'] = full_test[\"test\"].apply(lambda x:x['CareDuration'][0])"
   ]
  },
  {
   "cell_type": "code",
   "execution_count": 39,
   "id": "88b901c6",
   "metadata": {},
   "outputs": [
    {
     "data": {
      "text/html": [
       "<div>\n",
       "<style scoped>\n",
       "    .dataframe tbody tr th:only-of-type {\n",
       "        vertical-align: middle;\n",
       "    }\n",
       "\n",
       "    .dataframe tbody tr th {\n",
       "        vertical-align: top;\n",
       "    }\n",
       "\n",
       "    .dataframe thead th {\n",
       "        text-align: right;\n",
       "    }\n",
       "</style>\n",
       "<table border=\"1\" class=\"dataframe\">\n",
       "  <thead>\n",
       "    <tr style=\"text-align: right;\">\n",
       "      <th></th>\n",
       "      <th>test</th>\n",
       "      <th>CareDuration</th>\n",
       "    </tr>\n",
       "  </thead>\n",
       "  <tbody>\n",
       "    <tr>\n",
       "      <th>0</th>\n",
       "      <td>{'CareDuration': ['4'], 'CareDurationType': ['...</td>\n",
       "      <td>4</td>\n",
       "    </tr>\n",
       "    <tr>\n",
       "      <th>1</th>\n",
       "      <td>{'CareDuration': ['8'], 'CareDurationType': ['...</td>\n",
       "      <td>8</td>\n",
       "    </tr>\n",
       "  </tbody>\n",
       "</table>\n",
       "</div>"
      ],
      "text/plain": [
       "                                                test CareDuration\n",
       "0  {'CareDuration': ['4'], 'CareDurationType': ['...            4\n",
       "1  {'CareDuration': ['8'], 'CareDurationType': ['...            8"
      ]
     },
     "execution_count": 39,
     "metadata": {},
     "output_type": "execute_result"
    }
   ],
   "source": [
    "full_test"
   ]
  },
  {
   "cell_type": "code",
   "execution_count": 40,
   "id": "e56230cf",
   "metadata": {},
   "outputs": [
    {
     "data": {
      "text/html": [
       "<div>\n",
       "<style scoped>\n",
       "    .dataframe tbody tr th:only-of-type {\n",
       "        vertical-align: middle;\n",
       "    }\n",
       "\n",
       "    .dataframe tbody tr th {\n",
       "        vertical-align: top;\n",
       "    }\n",
       "\n",
       "    .dataframe thead th {\n",
       "        text-align: right;\n",
       "    }\n",
       "</style>\n",
       "<table border=\"1\" class=\"dataframe\">\n",
       "  <thead>\n",
       "    <tr style=\"text-align: right;\">\n",
       "      <th></th>\n",
       "      <th>CareDuration</th>\n",
       "      <th>CareDurationType</th>\n",
       "      <th>CareEnd</th>\n",
       "    </tr>\n",
       "  </thead>\n",
       "  <tbody>\n",
       "    <tr>\n",
       "      <th>0</th>\n",
       "      <td>10</td>\n",
       "      <td>Days</td>\n",
       "      <td>20 juin</td>\n",
       "    </tr>\n",
       "  </tbody>\n",
       "</table>\n",
       "</div>"
      ],
      "text/plain": [
       "   CareDuration CareDurationType  CareEnd\n",
       "0            10             Days  20 juin"
      ]
     },
     "execution_count": 40,
     "metadata": {},
     "output_type": "execute_result"
    }
   ],
   "source": [
    "Duration().implicit_duration_1(\"jusqu'au 20 juin\", [6,10],df=True)"
   ]
  },
  {
   "cell_type": "code",
   "execution_count": 41,
   "id": "6ab4ed37",
   "metadata": {},
   "outputs": [
    {
     "data": {
      "text/html": [
       "<div>\n",
       "<style scoped>\n",
       "    .dataframe tbody tr th:only-of-type {\n",
       "        vertical-align: middle;\n",
       "    }\n",
       "\n",
       "    .dataframe tbody tr th {\n",
       "        vertical-align: top;\n",
       "    }\n",
       "\n",
       "    .dataframe thead th {\n",
       "        text-align: right;\n",
       "    }\n",
       "</style>\n",
       "<table border=\"1\" class=\"dataframe\">\n",
       "  <thead>\n",
       "    <tr style=\"text-align: right;\">\n",
       "      <th></th>\n",
       "      <th>translation</th>\n",
       "      <th>Duration</th>\n",
       "      <th>Date</th>\n",
       "    </tr>\n",
       "    <tr>\n",
       "      <th>fichier</th>\n",
       "      <th></th>\n",
       "      <th></th>\n",
       "      <th></th>\n",
       "    </tr>\n",
       "  </thead>\n",
       "  <tbody>\n",
       "    <tr>\n",
       "      <th>9f980dcf-b431-4e67-876f-2b8e288b7900_3b5f3f01-e244-4398-8388-19fb5058c9c1</th>\n",
       "      <td>Prise de sang faite le 19 février à domicile p...</td>\n",
       "      <td>None</td>\n",
       "      <td>[4, 19]</td>\n",
       "    </tr>\n",
       "    <tr>\n",
       "      <th>2d035c4b-cdfa-4982-87dc-916fe07a0824_710f4bda-ba21-434f-883e-1b72df7ea27a</th>\n",
       "      <td>Pansement également refait le 23 mars par mylène.</td>\n",
       "      <td>None</td>\n",
       "      <td>[3, 23]</td>\n",
       "    </tr>\n",
       "    <tr>\n",
       "      <th>b96ad235-2f4f-4236-9aa3-9df85dfcf7cb_ff1697c1-a01f-4eb5-a1c2-b95205dc389a</th>\n",
       "      <td>Pcr plus prise de sang fait à domicile à 11.</td>\n",
       "      <td>None</td>\n",
       "      <td>None</td>\n",
       "    </tr>\n",
       "    <tr>\n",
       "      <th>3e7ffb67-8872-4172-bf18-4fe338ecae3f_6e8b49e5-4213-45da-bad6-158592c7f731</th>\n",
       "      <td>Prise de sang et analyse stérile des urines à ...</td>\n",
       "      <td>None</td>\n",
       "      <td>[2, 18]</td>\n",
       "    </tr>\n",
       "    <tr>\n",
       "      <th>2d035c4b-cdfa-4982-87dc-916fe07a0824_56c749ad-eed8-407a-ae9e-a17ebf420cf4</th>\n",
       "      <td>Bonjour, merci de renouveler cette ordonnance ...</td>\n",
       "      <td>None</td>\n",
       "      <td>None</td>\n",
       "    </tr>\n",
       "    <tr>\n",
       "      <th>...</th>\n",
       "      <td>...</td>\n",
       "      <td>...</td>\n",
       "      <td>...</td>\n",
       "    </tr>\n",
       "    <tr>\n",
       "      <th>a5050600-95ef-43d8-a5fa-a57c791bf843_448853a4-f75e-403a-8fcb-8dfc18f0b4ec</th>\n",
       "      <td>Test antigénique réalisé cet après-midi à domi...</td>\n",
       "      <td>None</td>\n",
       "      <td>[99, 99]</td>\n",
       "    </tr>\n",
       "    <tr>\n",
       "      <th>2d035c4b-cdfa-4982-87dc-916fe07a0824_4fb0c6a1-0562-496a-ae88-1adadec059a6</th>\n",
       "      <td>Réalisation d'une prise de sang chez monsieur ...</td>\n",
       "      <td>None</td>\n",
       "      <td>[2, 24]</td>\n",
       "    </tr>\n",
       "    <tr>\n",
       "      <th>b96ad235-2f4f-4236-9aa3-9df85dfcf7cb_b8a5877a-b8ce-4347-b294-3aa46efbcb34</th>\n",
       "      <td>Ordonnance pour la préparation du pilulier en ...</td>\n",
       "      <td>None</td>\n",
       "      <td>[2, 1]</td>\n",
       "    </tr>\n",
       "    <tr>\n",
       "      <th>978eb126-14a0-46cf-bd27-44b6b77cecb7_01fc29bf-08c4-4e82-99be-8f9f24c5974b</th>\n",
       "      <td>Début des soins le 10 juin. Avec début des sou...</td>\n",
       "      <td>None</td>\n",
       "      <td>[6, 10]</td>\n",
       "    </tr>\n",
       "    <tr>\n",
       "      <th>2d035c4b-cdfa-4982-87dc-916fe07a0824_47d4e0f3-f2f0-4a19-9df1-8ab0894980f9</th>\n",
       "      <td>Prise de sang faite au domicile de la patiente...</td>\n",
       "      <td>None</td>\n",
       "      <td>None</td>\n",
       "    </tr>\n",
       "  </tbody>\n",
       "</table>\n",
       "<p>4029 rows × 3 columns</p>\n",
       "</div>"
      ],
      "text/plain": [
       "                                                                                          translation  \\\n",
       "fichier                                                                                                 \n",
       "9f980dcf-b431-4e67-876f-2b8e288b7900_3b5f3f01-e...  Prise de sang faite le 19 février à domicile p...   \n",
       "2d035c4b-cdfa-4982-87dc-916fe07a0824_710f4bda-b...  Pansement également refait le 23 mars par mylène.   \n",
       "b96ad235-2f4f-4236-9aa3-9df85dfcf7cb_ff1697c1-a...       Pcr plus prise de sang fait à domicile à 11.   \n",
       "3e7ffb67-8872-4172-bf18-4fe338ecae3f_6e8b49e5-4...  Prise de sang et analyse stérile des urines à ...   \n",
       "2d035c4b-cdfa-4982-87dc-916fe07a0824_56c749ad-e...  Bonjour, merci de renouveler cette ordonnance ...   \n",
       "...                                                                                               ...   \n",
       "a5050600-95ef-43d8-a5fa-a57c791bf843_448853a4-f...  Test antigénique réalisé cet après-midi à domi...   \n",
       "2d035c4b-cdfa-4982-87dc-916fe07a0824_4fb0c6a1-0...  Réalisation d'une prise de sang chez monsieur ...   \n",
       "b96ad235-2f4f-4236-9aa3-9df85dfcf7cb_b8a5877a-b...  Ordonnance pour la préparation du pilulier en ...   \n",
       "978eb126-14a0-46cf-bd27-44b6b77cecb7_01fc29bf-0...  Début des soins le 10 juin. Avec début des sou...   \n",
       "2d035c4b-cdfa-4982-87dc-916fe07a0824_47d4e0f3-f...  Prise de sang faite au domicile de la patiente...   \n",
       "\n",
       "                                                   Duration      Date  \n",
       "fichier                                                                \n",
       "9f980dcf-b431-4e67-876f-2b8e288b7900_3b5f3f01-e...     None   [4, 19]  \n",
       "2d035c4b-cdfa-4982-87dc-916fe07a0824_710f4bda-b...     None   [3, 23]  \n",
       "b96ad235-2f4f-4236-9aa3-9df85dfcf7cb_ff1697c1-a...     None      None  \n",
       "3e7ffb67-8872-4172-bf18-4fe338ecae3f_6e8b49e5-4...     None   [2, 18]  \n",
       "2d035c4b-cdfa-4982-87dc-916fe07a0824_56c749ad-e...     None      None  \n",
       "...                                                     ...       ...  \n",
       "a5050600-95ef-43d8-a5fa-a57c791bf843_448853a4-f...     None  [99, 99]  \n",
       "2d035c4b-cdfa-4982-87dc-916fe07a0824_4fb0c6a1-0...     None   [2, 24]  \n",
       "b96ad235-2f4f-4236-9aa3-9df85dfcf7cb_b8a5877a-b...     None    [2, 1]  \n",
       "978eb126-14a0-46cf-bd27-44b6b77cecb7_01fc29bf-0...     None   [6, 10]  \n",
       "2d035c4b-cdfa-4982-87dc-916fe07a0824_47d4e0f3-f...     None      None  \n",
       "\n",
       "[4029 rows x 3 columns]"
      ]
     },
     "execution_count": 41,
     "metadata": {},
     "output_type": "execute_result"
    }
   ],
   "source": [
    "df"
   ]
  },
  {
   "cell_type": "code",
   "execution_count": 42,
   "id": "91d04fb8",
   "metadata": {},
   "outputs": [],
   "source": [
    "def test(x):\n",
    "    if x is None:\n",
    "        return None\n",
    "    return Duration().implicit_duration_1(x)"
   ]
  },
  {
   "cell_type": "code",
   "execution_count": 59,
   "id": "eac9059d",
   "metadata": {},
   "outputs": [],
   "source": [
    "df_temp = df.copy()"
   ]
  },
  {
   "cell_type": "code",
   "execution_count": 60,
   "id": "32a9d25d",
   "metadata": {
    "scrolled": true
   },
   "outputs": [
    {
     "ename": "TypeError",
     "evalue": "'str' object is not callable",
     "output_type": "error",
     "traceback": [
      "\u001b[0;31m---------------------------------------------------------------------------\u001b[0m",
      "\u001b[0;31mTypeError\u001b[0m                                 Traceback (most recent call last)",
      "Input \u001b[0;32mIn [60]\u001b[0m, in \u001b[0;36m<cell line: 1>\u001b[0;34m()\u001b[0m\n\u001b[0;32m----> 1\u001b[0m df_temp[\u001b[38;5;124m\"\u001b[39m\u001b[38;5;124mtest\u001b[39m\u001b[38;5;124m\"\u001b[39m] \u001b[38;5;241m=\u001b[39m \u001b[43mdf_temp\u001b[49m\u001b[43m[\u001b[49m\u001b[38;5;124;43m\"\u001b[39;49m\u001b[38;5;124;43mDuration\u001b[39;49m\u001b[38;5;124;43m\"\u001b[39;49m\u001b[43m]\u001b[49m\u001b[38;5;241;43m.\u001b[39;49m\u001b[43mapply\u001b[49m\u001b[43m(\u001b[49m\u001b[38;5;28;43;01mlambda\u001b[39;49;00m\u001b[43m \u001b[49m\u001b[43mx\u001b[49m\u001b[43m:\u001b[49m\u001b[43m \u001b[49m\u001b[43mtest\u001b[49m\u001b[43m(\u001b[49m\u001b[43mx\u001b[49m\u001b[43m)\u001b[49m\u001b[43m)\u001b[49m\n",
      "File \u001b[0;32m~/.pyenv/versions/3.8.12/envs/ephesus/lib/python3.8/site-packages/pandas/core/series.py:4433\u001b[0m, in \u001b[0;36mSeries.apply\u001b[0;34m(self, func, convert_dtype, args, **kwargs)\u001b[0m\n\u001b[1;32m   4323\u001b[0m \u001b[38;5;28;01mdef\u001b[39;00m \u001b[38;5;21mapply\u001b[39m(\n\u001b[1;32m   4324\u001b[0m     \u001b[38;5;28mself\u001b[39m,\n\u001b[1;32m   4325\u001b[0m     func: AggFuncType,\n\u001b[0;32m   (...)\u001b[0m\n\u001b[1;32m   4328\u001b[0m     \u001b[38;5;241m*\u001b[39m\u001b[38;5;241m*\u001b[39mkwargs,\n\u001b[1;32m   4329\u001b[0m ) \u001b[38;5;241m-\u001b[39m\u001b[38;5;241m>\u001b[39m DataFrame \u001b[38;5;241m|\u001b[39m Series:\n\u001b[1;32m   4330\u001b[0m     \u001b[38;5;124;03m\"\"\"\u001b[39;00m\n\u001b[1;32m   4331\u001b[0m \u001b[38;5;124;03m    Invoke function on values of Series.\u001b[39;00m\n\u001b[1;32m   4332\u001b[0m \n\u001b[0;32m   (...)\u001b[0m\n\u001b[1;32m   4431\u001b[0m \u001b[38;5;124;03m    dtype: float64\u001b[39;00m\n\u001b[1;32m   4432\u001b[0m \u001b[38;5;124;03m    \"\"\"\u001b[39;00m\n\u001b[0;32m-> 4433\u001b[0m     \u001b[38;5;28;01mreturn\u001b[39;00m \u001b[43mSeriesApply\u001b[49m\u001b[43m(\u001b[49m\u001b[38;5;28;43mself\u001b[39;49m\u001b[43m,\u001b[49m\u001b[43m \u001b[49m\u001b[43mfunc\u001b[49m\u001b[43m,\u001b[49m\u001b[43m \u001b[49m\u001b[43mconvert_dtype\u001b[49m\u001b[43m,\u001b[49m\u001b[43m \u001b[49m\u001b[43margs\u001b[49m\u001b[43m,\u001b[49m\u001b[43m \u001b[49m\u001b[43mkwargs\u001b[49m\u001b[43m)\u001b[49m\u001b[38;5;241;43m.\u001b[39;49m\u001b[43mapply\u001b[49m\u001b[43m(\u001b[49m\u001b[43m)\u001b[49m\n",
      "File \u001b[0;32m~/.pyenv/versions/3.8.12/envs/ephesus/lib/python3.8/site-packages/pandas/core/apply.py:1082\u001b[0m, in \u001b[0;36mSeriesApply.apply\u001b[0;34m(self)\u001b[0m\n\u001b[1;32m   1078\u001b[0m \u001b[38;5;28;01mif\u001b[39;00m \u001b[38;5;28misinstance\u001b[39m(\u001b[38;5;28mself\u001b[39m\u001b[38;5;241m.\u001b[39mf, \u001b[38;5;28mstr\u001b[39m):\n\u001b[1;32m   1079\u001b[0m     \u001b[38;5;66;03m# if we are a string, try to dispatch\u001b[39;00m\n\u001b[1;32m   1080\u001b[0m     \u001b[38;5;28;01mreturn\u001b[39;00m \u001b[38;5;28mself\u001b[39m\u001b[38;5;241m.\u001b[39mapply_str()\n\u001b[0;32m-> 1082\u001b[0m \u001b[38;5;28;01mreturn\u001b[39;00m \u001b[38;5;28;43mself\u001b[39;49m\u001b[38;5;241;43m.\u001b[39;49m\u001b[43mapply_standard\u001b[49m\u001b[43m(\u001b[49m\u001b[43m)\u001b[49m\n",
      "File \u001b[0;32m~/.pyenv/versions/3.8.12/envs/ephesus/lib/python3.8/site-packages/pandas/core/apply.py:1137\u001b[0m, in \u001b[0;36mSeriesApply.apply_standard\u001b[0;34m(self)\u001b[0m\n\u001b[1;32m   1131\u001b[0m         values \u001b[38;5;241m=\u001b[39m obj\u001b[38;5;241m.\u001b[39mastype(\u001b[38;5;28mobject\u001b[39m)\u001b[38;5;241m.\u001b[39m_values\n\u001b[1;32m   1132\u001b[0m         \u001b[38;5;66;03m# error: Argument 2 to \"map_infer\" has incompatible type\u001b[39;00m\n\u001b[1;32m   1133\u001b[0m         \u001b[38;5;66;03m# \"Union[Callable[..., Any], str, List[Union[Callable[..., Any], str]],\u001b[39;00m\n\u001b[1;32m   1134\u001b[0m         \u001b[38;5;66;03m# Dict[Hashable, Union[Union[Callable[..., Any], str],\u001b[39;00m\n\u001b[1;32m   1135\u001b[0m         \u001b[38;5;66;03m# List[Union[Callable[..., Any], str]]]]]\"; expected\u001b[39;00m\n\u001b[1;32m   1136\u001b[0m         \u001b[38;5;66;03m# \"Callable[[Any], Any]\"\u001b[39;00m\n\u001b[0;32m-> 1137\u001b[0m         mapped \u001b[38;5;241m=\u001b[39m \u001b[43mlib\u001b[49m\u001b[38;5;241;43m.\u001b[39;49m\u001b[43mmap_infer\u001b[49m\u001b[43m(\u001b[49m\n\u001b[1;32m   1138\u001b[0m \u001b[43m            \u001b[49m\u001b[43mvalues\u001b[49m\u001b[43m,\u001b[49m\n\u001b[1;32m   1139\u001b[0m \u001b[43m            \u001b[49m\u001b[43mf\u001b[49m\u001b[43m,\u001b[49m\u001b[43m  \u001b[49m\u001b[38;5;66;43;03m# type: ignore[arg-type]\u001b[39;49;00m\n\u001b[1;32m   1140\u001b[0m \u001b[43m            \u001b[49m\u001b[43mconvert\u001b[49m\u001b[38;5;241;43m=\u001b[39;49m\u001b[38;5;28;43mself\u001b[39;49m\u001b[38;5;241;43m.\u001b[39;49m\u001b[43mconvert_dtype\u001b[49m\u001b[43m,\u001b[49m\n\u001b[1;32m   1141\u001b[0m \u001b[43m        \u001b[49m\u001b[43m)\u001b[49m\n\u001b[1;32m   1143\u001b[0m \u001b[38;5;28;01mif\u001b[39;00m \u001b[38;5;28mlen\u001b[39m(mapped) \u001b[38;5;129;01mand\u001b[39;00m \u001b[38;5;28misinstance\u001b[39m(mapped[\u001b[38;5;241m0\u001b[39m], ABCSeries):\n\u001b[1;32m   1144\u001b[0m     \u001b[38;5;66;03m# GH#43986 Need to do list(mapped) in order to get treated as nested\u001b[39;00m\n\u001b[1;32m   1145\u001b[0m     \u001b[38;5;66;03m#  See also GH#25959 regarding EA support\u001b[39;00m\n\u001b[1;32m   1146\u001b[0m     \u001b[38;5;28;01mreturn\u001b[39;00m obj\u001b[38;5;241m.\u001b[39m_constructor_expanddim(\u001b[38;5;28mlist\u001b[39m(mapped), index\u001b[38;5;241m=\u001b[39mobj\u001b[38;5;241m.\u001b[39mindex)\n",
      "File \u001b[0;32m~/.pyenv/versions/3.8.12/envs/ephesus/lib/python3.8/site-packages/pandas/_libs/lib.pyx:2870\u001b[0m, in \u001b[0;36mpandas._libs.lib.map_infer\u001b[0;34m()\u001b[0m\n",
      "Input \u001b[0;32mIn [60]\u001b[0m, in \u001b[0;36m<lambda>\u001b[0;34m(x)\u001b[0m\n\u001b[0;32m----> 1\u001b[0m df_temp[\u001b[38;5;124m\"\u001b[39m\u001b[38;5;124mtest\u001b[39m\u001b[38;5;124m\"\u001b[39m] \u001b[38;5;241m=\u001b[39m df_temp[\u001b[38;5;124m\"\u001b[39m\u001b[38;5;124mDuration\u001b[39m\u001b[38;5;124m\"\u001b[39m]\u001b[38;5;241m.\u001b[39mapply(\u001b[38;5;28;01mlambda\u001b[39;00m x: \u001b[43mtest\u001b[49m\u001b[43m(\u001b[49m\u001b[43mx\u001b[49m\u001b[43m)\u001b[49m)\n",
      "\u001b[0;31mTypeError\u001b[0m: 'str' object is not callable"
     ]
    }
   ],
   "source": [
    "df_temp[\"test\"] = df_temp[\"Duration\"].apply(lambda x: test(x))"
   ]
  },
  {
   "cell_type": "code",
   "execution_count": 61,
   "id": "1bdbe719",
   "metadata": {},
   "outputs": [
    {
     "data": {
      "text/plain": [
       "translation       0\n",
       "Duration       3655\n",
       "Date            652\n",
       "dtype: int64"
      ]
     },
     "execution_count": 61,
     "metadata": {},
     "output_type": "execute_result"
    }
   ],
   "source": [
    "df_temp.isna().sum()"
   ]
  },
  {
   "cell_type": "code",
   "execution_count": 46,
   "id": "8cc88231",
   "metadata": {},
   "outputs": [
    {
     "data": {
      "text/html": [
       "<div>\n",
       "<style scoped>\n",
       "    .dataframe tbody tr th:only-of-type {\n",
       "        vertical-align: middle;\n",
       "    }\n",
       "\n",
       "    .dataframe tbody tr th {\n",
       "        vertical-align: top;\n",
       "    }\n",
       "\n",
       "    .dataframe thead th {\n",
       "        text-align: right;\n",
       "    }\n",
       "</style>\n",
       "<table border=\"1\" class=\"dataframe\">\n",
       "  <thead>\n",
       "    <tr style=\"text-align: right;\">\n",
       "      <th></th>\n",
       "      <th>data</th>\n",
       "      <th>day</th>\n",
       "      <th>month</th>\n",
       "      <th>year</th>\n",
       "      <th>day_of_week</th>\n",
       "      <th>day_from_today</th>\n",
       "    </tr>\n",
       "  </thead>\n",
       "  <tbody>\n",
       "    <tr>\n",
       "      <th>0</th>\n",
       "      <td>[jusqu, 6, 6, 2022]</td>\n",
       "      <td>6</td>\n",
       "      <td>6</td>\n",
       "      <td>2022</td>\n",
       "      <td>99</td>\n",
       "      <td>99</td>\n",
       "    </tr>\n",
       "  </tbody>\n",
       "</table>\n",
       "</div>"
      ],
      "text/plain": [
       "                  data  day  month  year  day_of_week  day_from_today\n",
       "0  [jusqu, 6, 6, 2022]    6      6  2022           99              99"
      ]
     },
     "execution_count": 46,
     "metadata": {},
     "output_type": "execute_result"
    }
   ],
   "source": [
    "test = \"jusqu'au 6/6/2022\"\n",
    "df_blabla = Date().transform_data(test)\n",
    "df_blabla"
   ]
  },
  {
   "cell_type": "code",
   "execution_count": 47,
   "id": "91622dac",
   "metadata": {},
   "outputs": [
    {
     "data": {
      "text/html": [
       "<div>\n",
       "<style scoped>\n",
       "    .dataframe tbody tr th:only-of-type {\n",
       "        vertical-align: middle;\n",
       "    }\n",
       "\n",
       "    .dataframe tbody tr th {\n",
       "        vertical-align: top;\n",
       "    }\n",
       "\n",
       "    .dataframe thead th {\n",
       "        text-align: right;\n",
       "    }\n",
       "</style>\n",
       "<table border=\"1\" class=\"dataframe\">\n",
       "  <thead>\n",
       "    <tr style=\"text-align: right;\">\n",
       "      <th></th>\n",
       "      <th>CareDuration</th>\n",
       "      <th>CareDurationType</th>\n",
       "      <th>CareEnd</th>\n",
       "    </tr>\n",
       "  </thead>\n",
       "  <tbody>\n",
       "    <tr>\n",
       "      <th>0</th>\n",
       "      <td>4</td>\n",
       "      <td>Days</td>\n",
       "      <td>6 juin</td>\n",
       "    </tr>\n",
       "  </tbody>\n",
       "</table>\n",
       "</div>"
      ],
      "text/plain": [
       "   CareDuration CareDurationType CareEnd\n",
       "0             4             Days  6 juin"
      ]
     },
     "execution_count": 47,
     "metadata": {},
     "output_type": "execute_result"
    }
   ],
   "source": [
    "Duration().implicit_duration_1(test, [6,2], df=True)"
   ]
  },
  {
   "cell_type": "code",
   "execution_count": 48,
   "id": "bc6e8991",
   "metadata": {},
   "outputs": [],
   "source": [
    "test = \"jusqu'au 10 juin\""
   ]
  },
  {
   "cell_type": "code",
   "execution_count": 49,
   "id": "4cd6c8d4",
   "metadata": {},
   "outputs": [
    {
     "data": {
      "text/html": [
       "<div>\n",
       "<style scoped>\n",
       "    .dataframe tbody tr th:only-of-type {\n",
       "        vertical-align: middle;\n",
       "    }\n",
       "\n",
       "    .dataframe tbody tr th {\n",
       "        vertical-align: top;\n",
       "    }\n",
       "\n",
       "    .dataframe thead th {\n",
       "        text-align: right;\n",
       "    }\n",
       "</style>\n",
       "<table border=\"1\" class=\"dataframe\">\n",
       "  <thead>\n",
       "    <tr style=\"text-align: right;\">\n",
       "      <th></th>\n",
       "      <th>CareDuration</th>\n",
       "      <th>CareDurationType</th>\n",
       "      <th>CareEnd</th>\n",
       "    </tr>\n",
       "  </thead>\n",
       "  <tbody>\n",
       "    <tr>\n",
       "      <th>0</th>\n",
       "      <td>NaN</td>\n",
       "      <td>NaN</td>\n",
       "      <td>10 juin</td>\n",
       "    </tr>\n",
       "  </tbody>\n",
       "</table>\n",
       "</div>"
      ],
      "text/plain": [
       "   CareDuration  CareDurationType  CareEnd\n",
       "0           NaN               NaN  10 juin"
      ]
     },
     "execution_count": 49,
     "metadata": {},
     "output_type": "execute_result"
    }
   ],
   "source": [
    "Duration().get_duration(test, [6,99], df=True)"
   ]
  },
  {
   "cell_type": "code",
   "execution_count": 50,
   "id": "f8336ef7",
   "metadata": {},
   "outputs": [
    {
     "data": {
      "text/html": [
       "<div>\n",
       "<style scoped>\n",
       "    .dataframe tbody tr th:only-of-type {\n",
       "        vertical-align: middle;\n",
       "    }\n",
       "\n",
       "    .dataframe tbody tr th {\n",
       "        vertical-align: top;\n",
       "    }\n",
       "\n",
       "    .dataframe thead th {\n",
       "        text-align: right;\n",
       "    }\n",
       "</style>\n",
       "<table border=\"1\" class=\"dataframe\">\n",
       "  <thead>\n",
       "    <tr style=\"text-align: right;\">\n",
       "      <th></th>\n",
       "      <th>translation</th>\n",
       "      <th>Duration</th>\n",
       "      <th>Date</th>\n",
       "    </tr>\n",
       "    <tr>\n",
       "      <th>fichier</th>\n",
       "      <th></th>\n",
       "      <th></th>\n",
       "      <th></th>\n",
       "    </tr>\n",
       "  </thead>\n",
       "  <tbody>\n",
       "    <tr>\n",
       "      <th>9f980dcf-b431-4e67-876f-2b8e288b7900_3b5f3f01-e244-4398-8388-19fb5058c9c1</th>\n",
       "      <td>Prise de sang faite le 19 février à domicile p...</td>\n",
       "      <td>None</td>\n",
       "      <td>[4, 19]</td>\n",
       "    </tr>\n",
       "    <tr>\n",
       "      <th>2d035c4b-cdfa-4982-87dc-916fe07a0824_710f4bda-ba21-434f-883e-1b72df7ea27a</th>\n",
       "      <td>Pansement également refait le 23 mars par mylène.</td>\n",
       "      <td>None</td>\n",
       "      <td>[3, 23]</td>\n",
       "    </tr>\n",
       "    <tr>\n",
       "      <th>b96ad235-2f4f-4236-9aa3-9df85dfcf7cb_ff1697c1-a01f-4eb5-a1c2-b95205dc389a</th>\n",
       "      <td>Pcr plus prise de sang fait à domicile à 11.</td>\n",
       "      <td>None</td>\n",
       "      <td>None</td>\n",
       "    </tr>\n",
       "    <tr>\n",
       "      <th>3e7ffb67-8872-4172-bf18-4fe338ecae3f_6e8b49e5-4213-45da-bad6-158592c7f731</th>\n",
       "      <td>Prise de sang et analyse stérile des urines à ...</td>\n",
       "      <td>None</td>\n",
       "      <td>[2, 18]</td>\n",
       "    </tr>\n",
       "    <tr>\n",
       "      <th>2d035c4b-cdfa-4982-87dc-916fe07a0824_56c749ad-eed8-407a-ae9e-a17ebf420cf4</th>\n",
       "      <td>Bonjour, merci de renouveler cette ordonnance ...</td>\n",
       "      <td>None</td>\n",
       "      <td>None</td>\n",
       "    </tr>\n",
       "    <tr>\n",
       "      <th>...</th>\n",
       "      <td>...</td>\n",
       "      <td>...</td>\n",
       "      <td>...</td>\n",
       "    </tr>\n",
       "    <tr>\n",
       "      <th>a5050600-95ef-43d8-a5fa-a57c791bf843_448853a4-f75e-403a-8fcb-8dfc18f0b4ec</th>\n",
       "      <td>Test antigénique réalisé cet après-midi à domi...</td>\n",
       "      <td>None</td>\n",
       "      <td>[99, 99]</td>\n",
       "    </tr>\n",
       "    <tr>\n",
       "      <th>2d035c4b-cdfa-4982-87dc-916fe07a0824_4fb0c6a1-0562-496a-ae88-1adadec059a6</th>\n",
       "      <td>Réalisation d'une prise de sang chez monsieur ...</td>\n",
       "      <td>None</td>\n",
       "      <td>[2, 24]</td>\n",
       "    </tr>\n",
       "    <tr>\n",
       "      <th>b96ad235-2f4f-4236-9aa3-9df85dfcf7cb_b8a5877a-b8ce-4347-b294-3aa46efbcb34</th>\n",
       "      <td>Ordonnance pour la préparation du pilulier en ...</td>\n",
       "      <td>None</td>\n",
       "      <td>[2, 1]</td>\n",
       "    </tr>\n",
       "    <tr>\n",
       "      <th>978eb126-14a0-46cf-bd27-44b6b77cecb7_01fc29bf-08c4-4e82-99be-8f9f24c5974b</th>\n",
       "      <td>Début des soins le 10 juin. Avec début des sou...</td>\n",
       "      <td>None</td>\n",
       "      <td>[6, 10]</td>\n",
       "    </tr>\n",
       "    <tr>\n",
       "      <th>2d035c4b-cdfa-4982-87dc-916fe07a0824_47d4e0f3-f2f0-4a19-9df1-8ab0894980f9</th>\n",
       "      <td>Prise de sang faite au domicile de la patiente...</td>\n",
       "      <td>None</td>\n",
       "      <td>None</td>\n",
       "    </tr>\n",
       "  </tbody>\n",
       "</table>\n",
       "<p>4029 rows × 3 columns</p>\n",
       "</div>"
      ],
      "text/plain": [
       "                                                                                          translation  \\\n",
       "fichier                                                                                                 \n",
       "9f980dcf-b431-4e67-876f-2b8e288b7900_3b5f3f01-e...  Prise de sang faite le 19 février à domicile p...   \n",
       "2d035c4b-cdfa-4982-87dc-916fe07a0824_710f4bda-b...  Pansement également refait le 23 mars par mylène.   \n",
       "b96ad235-2f4f-4236-9aa3-9df85dfcf7cb_ff1697c1-a...       Pcr plus prise de sang fait à domicile à 11.   \n",
       "3e7ffb67-8872-4172-bf18-4fe338ecae3f_6e8b49e5-4...  Prise de sang et analyse stérile des urines à ...   \n",
       "2d035c4b-cdfa-4982-87dc-916fe07a0824_56c749ad-e...  Bonjour, merci de renouveler cette ordonnance ...   \n",
       "...                                                                                               ...   \n",
       "a5050600-95ef-43d8-a5fa-a57c791bf843_448853a4-f...  Test antigénique réalisé cet après-midi à domi...   \n",
       "2d035c4b-cdfa-4982-87dc-916fe07a0824_4fb0c6a1-0...  Réalisation d'une prise de sang chez monsieur ...   \n",
       "b96ad235-2f4f-4236-9aa3-9df85dfcf7cb_b8a5877a-b...  Ordonnance pour la préparation du pilulier en ...   \n",
       "978eb126-14a0-46cf-bd27-44b6b77cecb7_01fc29bf-0...  Début des soins le 10 juin. Avec début des sou...   \n",
       "2d035c4b-cdfa-4982-87dc-916fe07a0824_47d4e0f3-f...  Prise de sang faite au domicile de la patiente...   \n",
       "\n",
       "                                                   Duration      Date  \n",
       "fichier                                                                \n",
       "9f980dcf-b431-4e67-876f-2b8e288b7900_3b5f3f01-e...     None   [4, 19]  \n",
       "2d035c4b-cdfa-4982-87dc-916fe07a0824_710f4bda-b...     None   [3, 23]  \n",
       "b96ad235-2f4f-4236-9aa3-9df85dfcf7cb_ff1697c1-a...     None      None  \n",
       "3e7ffb67-8872-4172-bf18-4fe338ecae3f_6e8b49e5-4...     None   [2, 18]  \n",
       "2d035c4b-cdfa-4982-87dc-916fe07a0824_56c749ad-e...     None      None  \n",
       "...                                                     ...       ...  \n",
       "a5050600-95ef-43d8-a5fa-a57c791bf843_448853a4-f...     None  [99, 99]  \n",
       "2d035c4b-cdfa-4982-87dc-916fe07a0824_4fb0c6a1-0...     None   [2, 24]  \n",
       "b96ad235-2f4f-4236-9aa3-9df85dfcf7cb_b8a5877a-b...     None    [2, 1]  \n",
       "978eb126-14a0-46cf-bd27-44b6b77cecb7_01fc29bf-0...     None   [6, 10]  \n",
       "2d035c4b-cdfa-4982-87dc-916fe07a0824_47d4e0f3-f...     None      None  \n",
       "\n",
       "[4029 rows x 3 columns]"
      ]
     },
     "execution_count": 50,
     "metadata": {},
     "output_type": "execute_result"
    }
   ],
   "source": [
    "df"
   ]
  },
  {
   "cell_type": "code",
   "execution_count": 102,
   "id": "97d6a545",
   "metadata": {},
   "outputs": [],
   "source": [
    "df_temp = df.copy()"
   ]
  },
  {
   "cell_type": "code",
   "execution_count": 103,
   "id": "f6677027",
   "metadata": {},
   "outputs": [
    {
     "data": {
      "text/plain": [
       "translation       0\n",
       "Duration       3655\n",
       "Date            652\n",
       "dtype: int64"
      ]
     },
     "execution_count": 103,
     "metadata": {},
     "output_type": "execute_result"
    }
   ],
   "source": [
    "df_temp.isna().sum()"
   ]
  },
  {
   "cell_type": "code",
   "execution_count": 101,
   "id": "dde9c1ee",
   "metadata": {},
   "outputs": [
    {
     "name": "stdout",
     "output_type": "stream",
     "text": [
      "{'CareDuration': [nan], 'CareDurationType': [nan], 'CareEnd': [nan]}\n"
     ]
    }
   ],
   "source": [
    "print(Duration().get_duration('ma bite'))"
   ]
  },
  {
   "cell_type": "code",
   "execution_count": 104,
   "id": "f4b4bbbd",
   "metadata": {},
   "outputs": [
    {
     "data": {
      "text/html": [
       "<div>\n",
       "<style scoped>\n",
       "    .dataframe tbody tr th:only-of-type {\n",
       "        vertical-align: middle;\n",
       "    }\n",
       "\n",
       "    .dataframe tbody tr th {\n",
       "        vertical-align: top;\n",
       "    }\n",
       "\n",
       "    .dataframe thead th {\n",
       "        text-align: right;\n",
       "    }\n",
       "</style>\n",
       "<table border=\"1\" class=\"dataframe\">\n",
       "  <thead>\n",
       "    <tr style=\"text-align: right;\">\n",
       "      <th></th>\n",
       "      <th>translation</th>\n",
       "      <th>Duration</th>\n",
       "      <th>Date</th>\n",
       "      <th>CareDuration</th>\n",
       "      <th>CareDurationType</th>\n",
       "      <th>CareEnd</th>\n",
       "    </tr>\n",
       "    <tr>\n",
       "      <th>fichier</th>\n",
       "      <th></th>\n",
       "      <th></th>\n",
       "      <th></th>\n",
       "      <th></th>\n",
       "      <th></th>\n",
       "      <th></th>\n",
       "    </tr>\n",
       "  </thead>\n",
       "  <tbody>\n",
       "    <tr>\n",
       "      <th>9f980dcf-b431-4e67-876f-2b8e288b7900_3b5f3f01-e244-4398-8388-19fb5058c9c1</th>\n",
       "      <td>Prise de sang faite le 19 février à domicile p...</td>\n",
       "      <td>None</td>\n",
       "      <td>[4, 19]</td>\n",
       "      <td>NaN</td>\n",
       "      <td>NaN</td>\n",
       "      <td>NaN</td>\n",
       "    </tr>\n",
       "    <tr>\n",
       "      <th>2d035c4b-cdfa-4982-87dc-916fe07a0824_710f4bda-ba21-434f-883e-1b72df7ea27a</th>\n",
       "      <td>Pansement également refait le 23 mars par mylène.</td>\n",
       "      <td>None</td>\n",
       "      <td>[3, 23]</td>\n",
       "      <td>NaN</td>\n",
       "      <td>NaN</td>\n",
       "      <td>NaN</td>\n",
       "    </tr>\n",
       "    <tr>\n",
       "      <th>b96ad235-2f4f-4236-9aa3-9df85dfcf7cb_ff1697c1-a01f-4eb5-a1c2-b95205dc389a</th>\n",
       "      <td>Pcr plus prise de sang fait à domicile à 11.</td>\n",
       "      <td>None</td>\n",
       "      <td>None</td>\n",
       "      <td>NaN</td>\n",
       "      <td>NaN</td>\n",
       "      <td>NaN</td>\n",
       "    </tr>\n",
       "    <tr>\n",
       "      <th>3e7ffb67-8872-4172-bf18-4fe338ecae3f_6e8b49e5-4213-45da-bad6-158592c7f731</th>\n",
       "      <td>Prise de sang et analyse stérile des urines à ...</td>\n",
       "      <td>None</td>\n",
       "      <td>[2, 18]</td>\n",
       "      <td>NaN</td>\n",
       "      <td>NaN</td>\n",
       "      <td>NaN</td>\n",
       "    </tr>\n",
       "    <tr>\n",
       "      <th>2d035c4b-cdfa-4982-87dc-916fe07a0824_56c749ad-eed8-407a-ae9e-a17ebf420cf4</th>\n",
       "      <td>Bonjour, merci de renouveler cette ordonnance ...</td>\n",
       "      <td>None</td>\n",
       "      <td>None</td>\n",
       "      <td>NaN</td>\n",
       "      <td>NaN</td>\n",
       "      <td>NaN</td>\n",
       "    </tr>\n",
       "    <tr>\n",
       "      <th>...</th>\n",
       "      <td>...</td>\n",
       "      <td>...</td>\n",
       "      <td>...</td>\n",
       "      <td>...</td>\n",
       "      <td>...</td>\n",
       "      <td>...</td>\n",
       "    </tr>\n",
       "    <tr>\n",
       "      <th>a5050600-95ef-43d8-a5fa-a57c791bf843_448853a4-f75e-403a-8fcb-8dfc18f0b4ec</th>\n",
       "      <td>Test antigénique réalisé cet après-midi à domi...</td>\n",
       "      <td>None</td>\n",
       "      <td>[99, 99]</td>\n",
       "      <td>NaN</td>\n",
       "      <td>NaN</td>\n",
       "      <td>NaN</td>\n",
       "    </tr>\n",
       "    <tr>\n",
       "      <th>2d035c4b-cdfa-4982-87dc-916fe07a0824_4fb0c6a1-0562-496a-ae88-1adadec059a6</th>\n",
       "      <td>Réalisation d'une prise de sang chez monsieur ...</td>\n",
       "      <td>None</td>\n",
       "      <td>[2, 24]</td>\n",
       "      <td>NaN</td>\n",
       "      <td>NaN</td>\n",
       "      <td>NaN</td>\n",
       "    </tr>\n",
       "    <tr>\n",
       "      <th>b96ad235-2f4f-4236-9aa3-9df85dfcf7cb_b8a5877a-b8ce-4347-b294-3aa46efbcb34</th>\n",
       "      <td>Ordonnance pour la préparation du pilulier en ...</td>\n",
       "      <td>None</td>\n",
       "      <td>[2, 1]</td>\n",
       "      <td>NaN</td>\n",
       "      <td>NaN</td>\n",
       "      <td>NaN</td>\n",
       "    </tr>\n",
       "    <tr>\n",
       "      <th>978eb126-14a0-46cf-bd27-44b6b77cecb7_01fc29bf-08c4-4e82-99be-8f9f24c5974b</th>\n",
       "      <td>Début des soins le 10 juin. Avec début des sou...</td>\n",
       "      <td>None</td>\n",
       "      <td>[6, 10]</td>\n",
       "      <td>NaN</td>\n",
       "      <td>NaN</td>\n",
       "      <td>NaN</td>\n",
       "    </tr>\n",
       "    <tr>\n",
       "      <th>2d035c4b-cdfa-4982-87dc-916fe07a0824_47d4e0f3-f2f0-4a19-9df1-8ab0894980f9</th>\n",
       "      <td>Prise de sang faite au domicile de la patiente...</td>\n",
       "      <td>None</td>\n",
       "      <td>None</td>\n",
       "      <td>NaN</td>\n",
       "      <td>NaN</td>\n",
       "      <td>NaN</td>\n",
       "    </tr>\n",
       "  </tbody>\n",
       "</table>\n",
       "<p>4029 rows × 6 columns</p>\n",
       "</div>"
      ],
      "text/plain": [
       "                                                                                          translation  \\\n",
       "fichier                                                                                                 \n",
       "9f980dcf-b431-4e67-876f-2b8e288b7900_3b5f3f01-e...  Prise de sang faite le 19 février à domicile p...   \n",
       "2d035c4b-cdfa-4982-87dc-916fe07a0824_710f4bda-b...  Pansement également refait le 23 mars par mylène.   \n",
       "b96ad235-2f4f-4236-9aa3-9df85dfcf7cb_ff1697c1-a...       Pcr plus prise de sang fait à domicile à 11.   \n",
       "3e7ffb67-8872-4172-bf18-4fe338ecae3f_6e8b49e5-4...  Prise de sang et analyse stérile des urines à ...   \n",
       "2d035c4b-cdfa-4982-87dc-916fe07a0824_56c749ad-e...  Bonjour, merci de renouveler cette ordonnance ...   \n",
       "...                                                                                               ...   \n",
       "a5050600-95ef-43d8-a5fa-a57c791bf843_448853a4-f...  Test antigénique réalisé cet après-midi à domi...   \n",
       "2d035c4b-cdfa-4982-87dc-916fe07a0824_4fb0c6a1-0...  Réalisation d'une prise de sang chez monsieur ...   \n",
       "b96ad235-2f4f-4236-9aa3-9df85dfcf7cb_b8a5877a-b...  Ordonnance pour la préparation du pilulier en ...   \n",
       "978eb126-14a0-46cf-bd27-44b6b77cecb7_01fc29bf-0...  Début des soins le 10 juin. Avec début des sou...   \n",
       "2d035c4b-cdfa-4982-87dc-916fe07a0824_47d4e0f3-f...  Prise de sang faite au domicile de la patiente...   \n",
       "\n",
       "                                                   Duration      Date  \\\n",
       "fichier                                                                 \n",
       "9f980dcf-b431-4e67-876f-2b8e288b7900_3b5f3f01-e...     None   [4, 19]   \n",
       "2d035c4b-cdfa-4982-87dc-916fe07a0824_710f4bda-b...     None   [3, 23]   \n",
       "b96ad235-2f4f-4236-9aa3-9df85dfcf7cb_ff1697c1-a...     None      None   \n",
       "3e7ffb67-8872-4172-bf18-4fe338ecae3f_6e8b49e5-4...     None   [2, 18]   \n",
       "2d035c4b-cdfa-4982-87dc-916fe07a0824_56c749ad-e...     None      None   \n",
       "...                                                     ...       ...   \n",
       "a5050600-95ef-43d8-a5fa-a57c791bf843_448853a4-f...     None  [99, 99]   \n",
       "2d035c4b-cdfa-4982-87dc-916fe07a0824_4fb0c6a1-0...     None   [2, 24]   \n",
       "b96ad235-2f4f-4236-9aa3-9df85dfcf7cb_b8a5877a-b...     None    [2, 1]   \n",
       "978eb126-14a0-46cf-bd27-44b6b77cecb7_01fc29bf-0...     None   [6, 10]   \n",
       "2d035c4b-cdfa-4982-87dc-916fe07a0824_47d4e0f3-f...     None      None   \n",
       "\n",
       "                                                   CareDuration  \\\n",
       "fichier                                                           \n",
       "9f980dcf-b431-4e67-876f-2b8e288b7900_3b5f3f01-e...          NaN   \n",
       "2d035c4b-cdfa-4982-87dc-916fe07a0824_710f4bda-b...          NaN   \n",
       "b96ad235-2f4f-4236-9aa3-9df85dfcf7cb_ff1697c1-a...          NaN   \n",
       "3e7ffb67-8872-4172-bf18-4fe338ecae3f_6e8b49e5-4...          NaN   \n",
       "2d035c4b-cdfa-4982-87dc-916fe07a0824_56c749ad-e...          NaN   \n",
       "...                                                         ...   \n",
       "a5050600-95ef-43d8-a5fa-a57c791bf843_448853a4-f...          NaN   \n",
       "2d035c4b-cdfa-4982-87dc-916fe07a0824_4fb0c6a1-0...          NaN   \n",
       "b96ad235-2f4f-4236-9aa3-9df85dfcf7cb_b8a5877a-b...          NaN   \n",
       "978eb126-14a0-46cf-bd27-44b6b77cecb7_01fc29bf-0...          NaN   \n",
       "2d035c4b-cdfa-4982-87dc-916fe07a0824_47d4e0f3-f...          NaN   \n",
       "\n",
       "                                                   CareDurationType CareEnd  \n",
       "fichier                                                                      \n",
       "9f980dcf-b431-4e67-876f-2b8e288b7900_3b5f3f01-e...              NaN     NaN  \n",
       "2d035c4b-cdfa-4982-87dc-916fe07a0824_710f4bda-b...              NaN     NaN  \n",
       "b96ad235-2f4f-4236-9aa3-9df85dfcf7cb_ff1697c1-a...              NaN     NaN  \n",
       "3e7ffb67-8872-4172-bf18-4fe338ecae3f_6e8b49e5-4...              NaN     NaN  \n",
       "2d035c4b-cdfa-4982-87dc-916fe07a0824_56c749ad-e...              NaN     NaN  \n",
       "...                                                             ...     ...  \n",
       "a5050600-95ef-43d8-a5fa-a57c791bf843_448853a4-f...              NaN     NaN  \n",
       "2d035c4b-cdfa-4982-87dc-916fe07a0824_4fb0c6a1-0...              NaN     NaN  \n",
       "b96ad235-2f4f-4236-9aa3-9df85dfcf7cb_b8a5877a-b...              NaN     NaN  \n",
       "978eb126-14a0-46cf-bd27-44b6b77cecb7_01fc29bf-0...              NaN     NaN  \n",
       "2d035c4b-cdfa-4982-87dc-916fe07a0824_47d4e0f3-f...              NaN     NaN  \n",
       "\n",
       "[4029 rows x 6 columns]"
      ]
     },
     "execution_count": 104,
     "metadata": {},
     "output_type": "execute_result"
    }
   ],
   "source": [
    "test = Duration().apply_to_df(df_temp)\n",
    "test"
   ]
  },
  {
   "cell_type": "code",
   "execution_count": 86,
   "id": "a5697cb0",
   "metadata": {},
   "outputs": [
    {
     "data": {
      "text/plain": [
       "translation           0\n",
       "Duration              0\n",
       "Date                  0\n",
       "CareDuration         78\n",
       "CareDurationType     75\n",
       "CareEnd             287\n",
       "dtype: int64"
      ]
     },
     "execution_count": 86,
     "metadata": {},
     "output_type": "execute_result"
    }
   ],
   "source": [
    "test.isna().sum()"
   ]
  },
  {
   "cell_type": "code",
   "execution_count": 87,
   "id": "5075ad91",
   "metadata": {},
   "outputs": [
    {
     "data": {
      "text/html": [
       "<div>\n",
       "<style scoped>\n",
       "    .dataframe tbody tr th:only-of-type {\n",
       "        vertical-align: middle;\n",
       "    }\n",
       "\n",
       "    .dataframe tbody tr th {\n",
       "        vertical-align: top;\n",
       "    }\n",
       "\n",
       "    .dataframe thead th {\n",
       "        text-align: right;\n",
       "    }\n",
       "</style>\n",
       "<table border=\"1\" class=\"dataframe\">\n",
       "  <thead>\n",
       "    <tr style=\"text-align: right;\">\n",
       "      <th></th>\n",
       "      <th>translation</th>\n",
       "      <th>Duration</th>\n",
       "      <th>Date</th>\n",
       "      <th>CareDuration</th>\n",
       "      <th>CareDurationType</th>\n",
       "      <th>CareEnd</th>\n",
       "    </tr>\n",
       "    <tr>\n",
       "      <th>fichier</th>\n",
       "      <th></th>\n",
       "      <th></th>\n",
       "      <th></th>\n",
       "      <th></th>\n",
       "      <th></th>\n",
       "      <th></th>\n",
       "    </tr>\n",
       "  </thead>\n",
       "  <tbody>\n",
       "    <tr>\n",
       "      <th>55d674cc-3389-4cf6-ab7c-1f1b9fa1b6ed_3e005951-47a1-4edb-ab50-ce602fe56c54</th>\n",
       "      <td>Renouvellement du bsc. D'une durée de un an à ...</td>\n",
       "      <td>une durée de un an</td>\n",
       "      <td>[5, 21]</td>\n",
       "      <td>1</td>\n",
       "      <td>Year</td>\n",
       "      <td>NaN</td>\n",
       "    </tr>\n",
       "    <tr>\n",
       "      <th>2d035c4b-cdfa-4982-87dc-916fe07a0824_2dfdf4ab-fc95-4ec1-8e03-af502b95baf8</th>\n",
       "      <td>Ordonnance pour la réalisation de injection de...</td>\n",
       "      <td>pour 6 jours</td>\n",
       "      <td>[4, 17]</td>\n",
       "      <td>6</td>\n",
       "      <td>Days</td>\n",
       "      <td>NaN</td>\n",
       "    </tr>\n",
       "    <tr>\n",
       "      <th>c619f0e1-7c22-4047-adb2-df4dec6643ba_8214d80f-0f7d-4e0d-9d4a-23294f9690b3</th>\n",
       "      <td>Soin débuté le vendredi 14 janvier 2022 jusqu'...</td>\n",
       "      <td>jusqu'au lundi 17 janvier 2022</td>\n",
       "      <td>[1, 14]</td>\n",
       "      <td>3</td>\n",
       "      <td>Days</td>\n",
       "      <td>17 janvier</td>\n",
       "    </tr>\n",
       "    <tr>\n",
       "      <th>f0caa21b-c11d-40a3-98ec-e2df3d2b9cc4_7e5c146c-2faa-44ce-9228-ee5addf48580</th>\n",
       "      <td>Soin débuté le 10 avril,  à réaliser donc le s...</td>\n",
       "      <td>pendant 15 jours</td>\n",
       "      <td>[4, 10]</td>\n",
       "      <td>15</td>\n",
       "      <td>Days</td>\n",
       "      <td>NaN</td>\n",
       "    </tr>\n",
       "    <tr>\n",
       "      <th>9d42ce6f-8537-49a9-a121-c8ae1dc7cda8_3ffbf9cc-b9e4-405d-a038-fb4f9e036a72</th>\n",
       "      <td>Pour monsieur Didier Nicolas, donc un passage ...</td>\n",
       "      <td>jusqu'au 8/12/2019</td>\n",
       "      <td>[99, 25]</td>\n",
       "      <td>NaN</td>\n",
       "      <td>NaN</td>\n",
       "      <td>8 décembre</td>\n",
       "    </tr>\n",
       "    <tr>\n",
       "      <th>...</th>\n",
       "      <td>...</td>\n",
       "      <td>...</td>\n",
       "      <td>...</td>\n",
       "      <td>...</td>\n",
       "      <td>...</td>\n",
       "      <td>...</td>\n",
       "    </tr>\n",
       "    <tr>\n",
       "      <th>3e7ffb67-8872-4172-bf18-4fe338ecae3f_04fe104b-9843-4abc-b467-a9301c5eb3a2</th>\n",
       "      <td>Injection sous-cutanée à réaliser une fois par...</td>\n",
       "      <td>pendant 8 jours</td>\n",
       "      <td>[7, 9]</td>\n",
       "      <td>8</td>\n",
       "      <td>Days</td>\n",
       "      <td>NaN</td>\n",
       "    </tr>\n",
       "    <tr>\n",
       "      <th>3e7ffb67-8872-4172-bf18-4fe338ecae3f_67dbeda4-1876-41a6-8249-68f1dfeebb70</th>\n",
       "      <td>Nouvelle ordonnance pour madame Gris Rennes. O...</td>\n",
       "      <td>pendant un mois</td>\n",
       "      <td>[7, 20]</td>\n",
       "      <td>1</td>\n",
       "      <td>Months</td>\n",
       "      <td>NaN</td>\n",
       "    </tr>\n",
       "    <tr>\n",
       "      <th>3e7ffb67-8872-4172-bf18-4fe338ecae3f_80f9b3d2-47b8-4152-9e45-a26dcf173335</th>\n",
       "      <td>Injection sous-cutanée à faire une fois par jo...</td>\n",
       "      <td>pendant 30 jours</td>\n",
       "      <td>[4, 7]</td>\n",
       "      <td>30</td>\n",
       "      <td>Days</td>\n",
       "      <td>NaN</td>\n",
       "    </tr>\n",
       "    <tr>\n",
       "      <th>b96ad235-2f4f-4236-9aa3-9df85dfcf7cb_b1cb90a1-acbb-40c6-963d-10ebac5fb0d4</th>\n",
       "      <td>Ordonnance daté du 31 mai 2021 faite par le ce...</td>\n",
       "      <td>valable pour un an</td>\n",
       "      <td>[5, 31]</td>\n",
       "      <td>1</td>\n",
       "      <td>Year</td>\n",
       "      <td>NaN</td>\n",
       "    </tr>\n",
       "    <tr>\n",
       "      <th>74b154c1-e265-4cb9-8e71-0c9bbc3dc880_5c18e09e-9dfc-421d-92b2-73b6a22d2ddc</th>\n",
       "      <td>Oui, bonjour dany, c'est sylvie, je viens de v...</td>\n",
       "      <td>pendant 15 pendant</td>\n",
       "      <td>[99, 99]</td>\n",
       "      <td>NaN</td>\n",
       "      <td>NaN</td>\n",
       "      <td>NaN</td>\n",
       "    </tr>\n",
       "  </tbody>\n",
       "</table>\n",
       "<p>306 rows × 6 columns</p>\n",
       "</div>"
      ],
      "text/plain": [
       "                                                                                          translation  \\\n",
       "fichier                                                                                                 \n",
       "55d674cc-3389-4cf6-ab7c-1f1b9fa1b6ed_3e005951-4...  Renouvellement du bsc. D'une durée de un an à ...   \n",
       "2d035c4b-cdfa-4982-87dc-916fe07a0824_2dfdf4ab-f...  Ordonnance pour la réalisation de injection de...   \n",
       "c619f0e1-7c22-4047-adb2-df4dec6643ba_8214d80f-0...  Soin débuté le vendredi 14 janvier 2022 jusqu'...   \n",
       "f0caa21b-c11d-40a3-98ec-e2df3d2b9cc4_7e5c146c-2...  Soin débuté le 10 avril,  à réaliser donc le s...   \n",
       "9d42ce6f-8537-49a9-a121-c8ae1dc7cda8_3ffbf9cc-b...  Pour monsieur Didier Nicolas, donc un passage ...   \n",
       "...                                                                                               ...   \n",
       "3e7ffb67-8872-4172-bf18-4fe338ecae3f_04fe104b-9...  Injection sous-cutanée à réaliser une fois par...   \n",
       "3e7ffb67-8872-4172-bf18-4fe338ecae3f_67dbeda4-1...  Nouvelle ordonnance pour madame Gris Rennes. O...   \n",
       "3e7ffb67-8872-4172-bf18-4fe338ecae3f_80f9b3d2-4...  Injection sous-cutanée à faire une fois par jo...   \n",
       "b96ad235-2f4f-4236-9aa3-9df85dfcf7cb_b1cb90a1-a...  Ordonnance daté du 31 mai 2021 faite par le ce...   \n",
       "74b154c1-e265-4cb9-8e71-0c9bbc3dc880_5c18e09e-9...  Oui, bonjour dany, c'est sylvie, je viens de v...   \n",
       "\n",
       "                                                                          Duration  \\\n",
       "fichier                                                                              \n",
       "55d674cc-3389-4cf6-ab7c-1f1b9fa1b6ed_3e005951-4...              une durée de un an   \n",
       "2d035c4b-cdfa-4982-87dc-916fe07a0824_2dfdf4ab-f...                    pour 6 jours   \n",
       "c619f0e1-7c22-4047-adb2-df4dec6643ba_8214d80f-0...  jusqu'au lundi 17 janvier 2022   \n",
       "f0caa21b-c11d-40a3-98ec-e2df3d2b9cc4_7e5c146c-2...                pendant 15 jours   \n",
       "9d42ce6f-8537-49a9-a121-c8ae1dc7cda8_3ffbf9cc-b...              jusqu'au 8/12/2019   \n",
       "...                                                                            ...   \n",
       "3e7ffb67-8872-4172-bf18-4fe338ecae3f_04fe104b-9...                 pendant 8 jours   \n",
       "3e7ffb67-8872-4172-bf18-4fe338ecae3f_67dbeda4-1...                 pendant un mois   \n",
       "3e7ffb67-8872-4172-bf18-4fe338ecae3f_80f9b3d2-4...                pendant 30 jours   \n",
       "b96ad235-2f4f-4236-9aa3-9df85dfcf7cb_b1cb90a1-a...              valable pour un an   \n",
       "74b154c1-e265-4cb9-8e71-0c9bbc3dc880_5c18e09e-9...              pendant 15 pendant   \n",
       "\n",
       "                                                        Date CareDuration  \\\n",
       "fichier                                                                     \n",
       "55d674cc-3389-4cf6-ab7c-1f1b9fa1b6ed_3e005951-4...   [5, 21]            1   \n",
       "2d035c4b-cdfa-4982-87dc-916fe07a0824_2dfdf4ab-f...   [4, 17]            6   \n",
       "c619f0e1-7c22-4047-adb2-df4dec6643ba_8214d80f-0...   [1, 14]            3   \n",
       "f0caa21b-c11d-40a3-98ec-e2df3d2b9cc4_7e5c146c-2...   [4, 10]           15   \n",
       "9d42ce6f-8537-49a9-a121-c8ae1dc7cda8_3ffbf9cc-b...  [99, 25]          NaN   \n",
       "...                                                      ...          ...   \n",
       "3e7ffb67-8872-4172-bf18-4fe338ecae3f_04fe104b-9...    [7, 9]            8   \n",
       "3e7ffb67-8872-4172-bf18-4fe338ecae3f_67dbeda4-1...   [7, 20]            1   \n",
       "3e7ffb67-8872-4172-bf18-4fe338ecae3f_80f9b3d2-4...    [4, 7]           30   \n",
       "b96ad235-2f4f-4236-9aa3-9df85dfcf7cb_b1cb90a1-a...   [5, 31]            1   \n",
       "74b154c1-e265-4cb9-8e71-0c9bbc3dc880_5c18e09e-9...  [99, 99]          NaN   \n",
       "\n",
       "                                                   CareDurationType  \\\n",
       "fichier                                                               \n",
       "55d674cc-3389-4cf6-ab7c-1f1b9fa1b6ed_3e005951-4...             Year   \n",
       "2d035c4b-cdfa-4982-87dc-916fe07a0824_2dfdf4ab-f...             Days   \n",
       "c619f0e1-7c22-4047-adb2-df4dec6643ba_8214d80f-0...             Days   \n",
       "f0caa21b-c11d-40a3-98ec-e2df3d2b9cc4_7e5c146c-2...             Days   \n",
       "9d42ce6f-8537-49a9-a121-c8ae1dc7cda8_3ffbf9cc-b...              NaN   \n",
       "...                                                             ...   \n",
       "3e7ffb67-8872-4172-bf18-4fe338ecae3f_04fe104b-9...             Days   \n",
       "3e7ffb67-8872-4172-bf18-4fe338ecae3f_67dbeda4-1...           Months   \n",
       "3e7ffb67-8872-4172-bf18-4fe338ecae3f_80f9b3d2-4...             Days   \n",
       "b96ad235-2f4f-4236-9aa3-9df85dfcf7cb_b1cb90a1-a...             Year   \n",
       "74b154c1-e265-4cb9-8e71-0c9bbc3dc880_5c18e09e-9...              NaN   \n",
       "\n",
       "                                                       CareEnd  \n",
       "fichier                                                         \n",
       "55d674cc-3389-4cf6-ab7c-1f1b9fa1b6ed_3e005951-4...         NaN  \n",
       "2d035c4b-cdfa-4982-87dc-916fe07a0824_2dfdf4ab-f...         NaN  \n",
       "c619f0e1-7c22-4047-adb2-df4dec6643ba_8214d80f-0...  17 janvier  \n",
       "f0caa21b-c11d-40a3-98ec-e2df3d2b9cc4_7e5c146c-2...         NaN  \n",
       "9d42ce6f-8537-49a9-a121-c8ae1dc7cda8_3ffbf9cc-b...  8 décembre  \n",
       "...                                                        ...  \n",
       "3e7ffb67-8872-4172-bf18-4fe338ecae3f_04fe104b-9...         NaN  \n",
       "3e7ffb67-8872-4172-bf18-4fe338ecae3f_67dbeda4-1...         NaN  \n",
       "3e7ffb67-8872-4172-bf18-4fe338ecae3f_80f9b3d2-4...         NaN  \n",
       "b96ad235-2f4f-4236-9aa3-9df85dfcf7cb_b1cb90a1-a...         NaN  \n",
       "74b154c1-e265-4cb9-8e71-0c9bbc3dc880_5c18e09e-9...         NaN  \n",
       "\n",
       "[306 rows x 6 columns]"
      ]
     },
     "execution_count": 87,
     "metadata": {},
     "output_type": "execute_result"
    }
   ],
   "source": [
    "test"
   ]
  },
  {
   "cell_type": "code",
   "execution_count": 54,
   "id": "f945ef84",
   "metadata": {},
   "outputs": [
    {
     "data": {
      "text/html": [
       "<div>\n",
       "<style scoped>\n",
       "    .dataframe tbody tr th:only-of-type {\n",
       "        vertical-align: middle;\n",
       "    }\n",
       "\n",
       "    .dataframe tbody tr th {\n",
       "        vertical-align: top;\n",
       "    }\n",
       "\n",
       "    .dataframe thead th {\n",
       "        text-align: right;\n",
       "    }\n",
       "</style>\n",
       "<table border=\"1\" class=\"dataframe\">\n",
       "  <thead>\n",
       "    <tr style=\"text-align: right;\">\n",
       "      <th></th>\n",
       "      <th>translation</th>\n",
       "      <th>Duration</th>\n",
       "      <th>Date</th>\n",
       "      <th>temp</th>\n",
       "    </tr>\n",
       "    <tr>\n",
       "      <th>fichier</th>\n",
       "      <th></th>\n",
       "      <th></th>\n",
       "      <th></th>\n",
       "      <th></th>\n",
       "    </tr>\n",
       "  </thead>\n",
       "  <tbody>\n",
       "    <tr>\n",
       "      <th>55d674cc-3389-4cf6-ab7c-1f1b9fa1b6ed_3e005951-47a1-4edb-ab50-ce602fe56c54</th>\n",
       "      <td>Renouvellement du bsc. D'une durée de un an à ...</td>\n",
       "      <td>une durée de un an</td>\n",
       "      <td>[5, 21]</td>\n",
       "      <td>{'CareDuration': ['1'], 'CareDurationType': ['...</td>\n",
       "    </tr>\n",
       "    <tr>\n",
       "      <th>2d035c4b-cdfa-4982-87dc-916fe07a0824_2dfdf4ab-fc95-4ec1-8e03-af502b95baf8</th>\n",
       "      <td>Ordonnance pour la réalisation de injection de...</td>\n",
       "      <td>pour 6 jours</td>\n",
       "      <td>[4, 17]</td>\n",
       "      <td>{'CareDuration': ['6'], 'CareDurationType': ['...</td>\n",
       "    </tr>\n",
       "    <tr>\n",
       "      <th>c619f0e1-7c22-4047-adb2-df4dec6643ba_8214d80f-0f7d-4e0d-9d4a-23294f9690b3</th>\n",
       "      <td>Soin débuté le vendredi 14 janvier 2022 jusqu'...</td>\n",
       "      <td>jusqu'au lundi 17 janvier 2022</td>\n",
       "      <td>[1, 14]</td>\n",
       "      <td>{'CareDuration': [3], 'CareDurationType': ['Da...</td>\n",
       "    </tr>\n",
       "    <tr>\n",
       "      <th>f0caa21b-c11d-40a3-98ec-e2df3d2b9cc4_7e5c146c-2faa-44ce-9228-ee5addf48580</th>\n",
       "      <td>Soin débuté le 10 avril,  à réaliser donc le s...</td>\n",
       "      <td>pendant 15 jours</td>\n",
       "      <td>[4, 10]</td>\n",
       "      <td>{'CareDuration': ['15'], 'CareDurationType': [...</td>\n",
       "    </tr>\n",
       "    <tr>\n",
       "      <th>9d42ce6f-8537-49a9-a121-c8ae1dc7cda8_3ffbf9cc-b9e4-405d-a038-fb4f9e036a72</th>\n",
       "      <td>Pour monsieur Didier Nicolas, donc un passage ...</td>\n",
       "      <td>jusqu'au 8/12/2019</td>\n",
       "      <td>[99, 25]</td>\n",
       "      <td>{'CareDuration': [nan], 'CareDurationType': [n...</td>\n",
       "    </tr>\n",
       "    <tr>\n",
       "      <th>...</th>\n",
       "      <td>...</td>\n",
       "      <td>...</td>\n",
       "      <td>...</td>\n",
       "      <td>...</td>\n",
       "    </tr>\n",
       "    <tr>\n",
       "      <th>2d035c4b-cdfa-4982-87dc-916fe07a0824_558bf9c3-a9e5-408e-bc55-da9844e1b61a</th>\n",
       "      <td>Ordonnance de renouvellement pour monsieur Did...</td>\n",
       "      <td>pour 3 mois</td>\n",
       "      <td>[6, 29]</td>\n",
       "      <td>{'CareDuration': ['3'], 'CareDurationType': ['...</td>\n",
       "    </tr>\n",
       "    <tr>\n",
       "      <th>3e7ffb67-8872-4172-bf18-4fe338ecae3f_04fe104b-9843-4abc-b467-a9301c5eb3a2</th>\n",
       "      <td>Injection sous-cutanée à réaliser une fois par...</td>\n",
       "      <td>pendant 8 jours</td>\n",
       "      <td>[7, 9]</td>\n",
       "      <td>{'CareDuration': ['8'], 'CareDurationType': ['...</td>\n",
       "    </tr>\n",
       "    <tr>\n",
       "      <th>3e7ffb67-8872-4172-bf18-4fe338ecae3f_67dbeda4-1876-41a6-8249-68f1dfeebb70</th>\n",
       "      <td>Nouvelle ordonnance pour madame Gris Rennes. O...</td>\n",
       "      <td>pendant un mois</td>\n",
       "      <td>[7, 20]</td>\n",
       "      <td>{'CareDuration': ['1'], 'CareDurationType': ['...</td>\n",
       "    </tr>\n",
       "    <tr>\n",
       "      <th>3e7ffb67-8872-4172-bf18-4fe338ecae3f_80f9b3d2-47b8-4152-9e45-a26dcf173335</th>\n",
       "      <td>Injection sous-cutanée à faire une fois par jo...</td>\n",
       "      <td>pendant 30 jours</td>\n",
       "      <td>[4, 7]</td>\n",
       "      <td>{'CareDuration': ['30'], 'CareDurationType': [...</td>\n",
       "    </tr>\n",
       "    <tr>\n",
       "      <th>b96ad235-2f4f-4236-9aa3-9df85dfcf7cb_b1cb90a1-acbb-40c6-963d-10ebac5fb0d4</th>\n",
       "      <td>Ordonnance daté du 31 mai 2021 faite par le ce...</td>\n",
       "      <td>valable pour un an</td>\n",
       "      <td>[5, 31]</td>\n",
       "      <td>{'CareDuration': ['1'], 'CareDurationType': ['...</td>\n",
       "    </tr>\n",
       "  </tbody>\n",
       "</table>\n",
       "<p>239 rows × 4 columns</p>\n",
       "</div>"
      ],
      "text/plain": [
       "                                                                                          translation  \\\n",
       "fichier                                                                                                 \n",
       "55d674cc-3389-4cf6-ab7c-1f1b9fa1b6ed_3e005951-4...  Renouvellement du bsc. D'une durée de un an à ...   \n",
       "2d035c4b-cdfa-4982-87dc-916fe07a0824_2dfdf4ab-f...  Ordonnance pour la réalisation de injection de...   \n",
       "c619f0e1-7c22-4047-adb2-df4dec6643ba_8214d80f-0...  Soin débuté le vendredi 14 janvier 2022 jusqu'...   \n",
       "f0caa21b-c11d-40a3-98ec-e2df3d2b9cc4_7e5c146c-2...  Soin débuté le 10 avril,  à réaliser donc le s...   \n",
       "9d42ce6f-8537-49a9-a121-c8ae1dc7cda8_3ffbf9cc-b...  Pour monsieur Didier Nicolas, donc un passage ...   \n",
       "...                                                                                               ...   \n",
       "2d035c4b-cdfa-4982-87dc-916fe07a0824_558bf9c3-a...  Ordonnance de renouvellement pour monsieur Did...   \n",
       "3e7ffb67-8872-4172-bf18-4fe338ecae3f_04fe104b-9...  Injection sous-cutanée à réaliser une fois par...   \n",
       "3e7ffb67-8872-4172-bf18-4fe338ecae3f_67dbeda4-1...  Nouvelle ordonnance pour madame Gris Rennes. O...   \n",
       "3e7ffb67-8872-4172-bf18-4fe338ecae3f_80f9b3d2-4...  Injection sous-cutanée à faire une fois par jo...   \n",
       "b96ad235-2f4f-4236-9aa3-9df85dfcf7cb_b1cb90a1-a...  Ordonnance daté du 31 mai 2021 faite par le ce...   \n",
       "\n",
       "                                                                          Duration  \\\n",
       "fichier                                                                              \n",
       "55d674cc-3389-4cf6-ab7c-1f1b9fa1b6ed_3e005951-4...              une durée de un an   \n",
       "2d035c4b-cdfa-4982-87dc-916fe07a0824_2dfdf4ab-f...                    pour 6 jours   \n",
       "c619f0e1-7c22-4047-adb2-df4dec6643ba_8214d80f-0...  jusqu'au lundi 17 janvier 2022   \n",
       "f0caa21b-c11d-40a3-98ec-e2df3d2b9cc4_7e5c146c-2...                pendant 15 jours   \n",
       "9d42ce6f-8537-49a9-a121-c8ae1dc7cda8_3ffbf9cc-b...              jusqu'au 8/12/2019   \n",
       "...                                                                            ...   \n",
       "2d035c4b-cdfa-4982-87dc-916fe07a0824_558bf9c3-a...                     pour 3 mois   \n",
       "3e7ffb67-8872-4172-bf18-4fe338ecae3f_04fe104b-9...                 pendant 8 jours   \n",
       "3e7ffb67-8872-4172-bf18-4fe338ecae3f_67dbeda4-1...                 pendant un mois   \n",
       "3e7ffb67-8872-4172-bf18-4fe338ecae3f_80f9b3d2-4...                pendant 30 jours   \n",
       "b96ad235-2f4f-4236-9aa3-9df85dfcf7cb_b1cb90a1-a...              valable pour un an   \n",
       "\n",
       "                                                        Date  \\\n",
       "fichier                                                        \n",
       "55d674cc-3389-4cf6-ab7c-1f1b9fa1b6ed_3e005951-4...   [5, 21]   \n",
       "2d035c4b-cdfa-4982-87dc-916fe07a0824_2dfdf4ab-f...   [4, 17]   \n",
       "c619f0e1-7c22-4047-adb2-df4dec6643ba_8214d80f-0...   [1, 14]   \n",
       "f0caa21b-c11d-40a3-98ec-e2df3d2b9cc4_7e5c146c-2...   [4, 10]   \n",
       "9d42ce6f-8537-49a9-a121-c8ae1dc7cda8_3ffbf9cc-b...  [99, 25]   \n",
       "...                                                      ...   \n",
       "2d035c4b-cdfa-4982-87dc-916fe07a0824_558bf9c3-a...   [6, 29]   \n",
       "3e7ffb67-8872-4172-bf18-4fe338ecae3f_04fe104b-9...    [7, 9]   \n",
       "3e7ffb67-8872-4172-bf18-4fe338ecae3f_67dbeda4-1...   [7, 20]   \n",
       "3e7ffb67-8872-4172-bf18-4fe338ecae3f_80f9b3d2-4...    [4, 7]   \n",
       "b96ad235-2f4f-4236-9aa3-9df85dfcf7cb_b1cb90a1-a...   [5, 31]   \n",
       "\n",
       "                                                                                                 temp  \n",
       "fichier                                                                                                \n",
       "55d674cc-3389-4cf6-ab7c-1f1b9fa1b6ed_3e005951-4...  {'CareDuration': ['1'], 'CareDurationType': ['...  \n",
       "2d035c4b-cdfa-4982-87dc-916fe07a0824_2dfdf4ab-f...  {'CareDuration': ['6'], 'CareDurationType': ['...  \n",
       "c619f0e1-7c22-4047-adb2-df4dec6643ba_8214d80f-0...  {'CareDuration': [3], 'CareDurationType': ['Da...  \n",
       "f0caa21b-c11d-40a3-98ec-e2df3d2b9cc4_7e5c146c-2...  {'CareDuration': ['15'], 'CareDurationType': [...  \n",
       "9d42ce6f-8537-49a9-a121-c8ae1dc7cda8_3ffbf9cc-b...  {'CareDuration': [nan], 'CareDurationType': [n...  \n",
       "...                                                                                               ...  \n",
       "2d035c4b-cdfa-4982-87dc-916fe07a0824_558bf9c3-a...  {'CareDuration': ['3'], 'CareDurationType': ['...  \n",
       "3e7ffb67-8872-4172-bf18-4fe338ecae3f_04fe104b-9...  {'CareDuration': ['8'], 'CareDurationType': ['...  \n",
       "3e7ffb67-8872-4172-bf18-4fe338ecae3f_67dbeda4-1...  {'CareDuration': ['1'], 'CareDurationType': ['...  \n",
       "3e7ffb67-8872-4172-bf18-4fe338ecae3f_80f9b3d2-4...  {'CareDuration': ['30'], 'CareDurationType': [...  \n",
       "b96ad235-2f4f-4236-9aa3-9df85dfcf7cb_b1cb90a1-a...  {'CareDuration': ['1'], 'CareDurationType': ['...  \n",
       "\n",
       "[239 rows x 4 columns]"
      ]
     },
     "execution_count": 54,
     "metadata": {},
     "output_type": "execute_result"
    }
   ],
   "source": [
    "df_temp"
   ]
  },
  {
   "cell_type": "code",
   "execution_count": 55,
   "id": "7efdfd2f",
   "metadata": {},
   "outputs": [
    {
     "name": "stdout",
     "output_type": "stream",
     "text": [
      "pour 6 jours\n",
      "[4, 17]\n",
      "{'CareDuration': ['6'], 'CareDurationType': ['Days'], 'CareEnd': [nan]}\n",
      "jusqu'au lundi 17 janvier 2022\n",
      "[1, 14]\n",
      "{'CareDuration': [3], 'CareDurationType': ['Days'], 'CareEnd': ['17 janvier']}\n",
      "jusqu'au 8/12/2019\n",
      "[99, 25]\n",
      "{'CareDuration': [nan], 'CareDurationType': [nan], 'CareEnd': ['8 décembre']}\n",
      "jusqu'au 28 novembre\n",
      "[11, 23]\n",
      "{'CareDuration': [5], 'CareDurationType': ['Days'], 'CareEnd': ['28 novembre']}\n",
      "3 mois\n",
      "[12, 11]\n",
      "{'CareDuration': ['3'], 'CareDurationType': ['Months'], 'CareEnd': [nan]}\n",
      "jusqu'au dimanche 7\n",
      "[3, 4]\n",
      "{'CareDuration': [nan], 'CareDurationType': [nan], 'CareEnd': [nan]}\n",
      "jusqu'au 20 février\n",
      "[2, 12]\n",
      "{'CareDuration': [8], 'CareDurationType': ['Days'], 'CareEnd': ['20 février']}\n",
      "jusqu'au 4 mars\n",
      "[2, 21]\n",
      "{'CareDuration': [11], 'CareDurationType': ['Days'], 'CareEnd': ['4 mars']}\n",
      "jusqu'au 27 octobre\n",
      "[9, 21]\n",
      "{'CareDuration': [36], 'CareDurationType': ['Days'], 'CareEnd': ['27 octobre']}\n",
      "jusqu'au 17 janvier\n",
      "[1, 7]\n",
      "{'CareDuration': [10], 'CareDurationType': ['Days'], 'CareEnd': ['17 janvier']}\n"
     ]
    }
   ],
   "source": [
    "for i in range(100):\n",
    "    sentence = df_temp.iloc[i,0]\n",
    "    if re.search(\"jusqu\\'au\\s\", sentence) is not None:\n",
    "        print(df_temp.iloc[i,1])\n",
    "        print(df_temp.iloc[i,2])\n",
    "        print(df_temp.iloc[i,3])"
   ]
  },
  {
   "cell_type": "code",
   "execution_count": 56,
   "id": "b9d7afce",
   "metadata": {},
   "outputs": [],
   "source": [
    "df_bb = Duration(\"../models/model_full/model-best\").get_data()"
   ]
  },
  {
   "cell_type": "code",
   "execution_count": 57,
   "id": "7d0c8e05",
   "metadata": {},
   "outputs": [
    {
     "data": {
      "text/html": [
       "<div>\n",
       "<style scoped>\n",
       "    .dataframe tbody tr th:only-of-type {\n",
       "        vertical-align: middle;\n",
       "    }\n",
       "\n",
       "    .dataframe tbody tr th {\n",
       "        vertical-align: top;\n",
       "    }\n",
       "\n",
       "    .dataframe thead th {\n",
       "        text-align: right;\n",
       "    }\n",
       "</style>\n",
       "<table border=\"1\" class=\"dataframe\">\n",
       "  <thead>\n",
       "    <tr style=\"text-align: right;\">\n",
       "      <th></th>\n",
       "      <th>translation</th>\n",
       "      <th>Duration</th>\n",
       "      <th>Date</th>\n",
       "    </tr>\n",
       "    <tr>\n",
       "      <th>fichier</th>\n",
       "      <th></th>\n",
       "      <th></th>\n",
       "      <th></th>\n",
       "    </tr>\n",
       "  </thead>\n",
       "  <tbody>\n",
       "    <tr>\n",
       "      <th>9f980dcf-b431-4e67-876f-2b8e288b7900_3b5f3f01-e244-4398-8388-19fb5058c9c1</th>\n",
       "      <td>Prise de sang faite le 19 février à domicile p...</td>\n",
       "      <td>None</td>\n",
       "      <td>[2, 19]</td>\n",
       "    </tr>\n",
       "    <tr>\n",
       "      <th>2d035c4b-cdfa-4982-87dc-916fe07a0824_710f4bda-ba21-434f-883e-1b72df7ea27a</th>\n",
       "      <td>Pansement également refait le 23 mars par mylène.</td>\n",
       "      <td>None</td>\n",
       "      <td>[3, 23]</td>\n",
       "    </tr>\n",
       "    <tr>\n",
       "      <th>b96ad235-2f4f-4236-9aa3-9df85dfcf7cb_ff1697c1-a01f-4eb5-a1c2-b95205dc389a</th>\n",
       "      <td>Pcr plus prise de sang fait à domicile à 11.</td>\n",
       "      <td>None</td>\n",
       "      <td>None</td>\n",
       "    </tr>\n",
       "    <tr>\n",
       "      <th>3e7ffb67-8872-4172-bf18-4fe338ecae3f_6e8b49e5-4213-45da-bad6-158592c7f731</th>\n",
       "      <td>Prise de sang et analyse stérile des urines à ...</td>\n",
       "      <td>None</td>\n",
       "      <td>[2, 18]</td>\n",
       "    </tr>\n",
       "    <tr>\n",
       "      <th>2d035c4b-cdfa-4982-87dc-916fe07a0824_56c749ad-eed8-407a-ae9e-a17ebf420cf4</th>\n",
       "      <td>Bonjour, merci de renouveler cette ordonnance ...</td>\n",
       "      <td>None</td>\n",
       "      <td>None</td>\n",
       "    </tr>\n",
       "    <tr>\n",
       "      <th>...</th>\n",
       "      <td>...</td>\n",
       "      <td>...</td>\n",
       "      <td>...</td>\n",
       "    </tr>\n",
       "    <tr>\n",
       "      <th>a5050600-95ef-43d8-a5fa-a57c791bf843_448853a4-f75e-403a-8fcb-8dfc18f0b4ec</th>\n",
       "      <td>Test antigénique réalisé cet après-midi à domi...</td>\n",
       "      <td>None</td>\n",
       "      <td>[99, 99]</td>\n",
       "    </tr>\n",
       "    <tr>\n",
       "      <th>2d035c4b-cdfa-4982-87dc-916fe07a0824_4fb0c6a1-0562-496a-ae88-1adadec059a6</th>\n",
       "      <td>Réalisation d'une prise de sang chez monsieur ...</td>\n",
       "      <td>None</td>\n",
       "      <td>[2, 24]</td>\n",
       "    </tr>\n",
       "    <tr>\n",
       "      <th>b96ad235-2f4f-4236-9aa3-9df85dfcf7cb_b8a5877a-b8ce-4347-b294-3aa46efbcb34</th>\n",
       "      <td>Ordonnance pour la préparation du pilulier en ...</td>\n",
       "      <td>None</td>\n",
       "      <td>[2, 1]</td>\n",
       "    </tr>\n",
       "    <tr>\n",
       "      <th>978eb126-14a0-46cf-bd27-44b6b77cecb7_01fc29bf-08c4-4e82-99be-8f9f24c5974b</th>\n",
       "      <td>Début des soins le 10 juin. Avec début des sou...</td>\n",
       "      <td>None</td>\n",
       "      <td>[6, 10]</td>\n",
       "    </tr>\n",
       "    <tr>\n",
       "      <th>2d035c4b-cdfa-4982-87dc-916fe07a0824_47d4e0f3-f2f0-4a19-9df1-8ab0894980f9</th>\n",
       "      <td>Prise de sang faite au domicile de la patiente...</td>\n",
       "      <td>None</td>\n",
       "      <td>None</td>\n",
       "    </tr>\n",
       "  </tbody>\n",
       "</table>\n",
       "<p>4029 rows × 3 columns</p>\n",
       "</div>"
      ],
      "text/plain": [
       "                                                                                          translation  \\\n",
       "fichier                                                                                                 \n",
       "9f980dcf-b431-4e67-876f-2b8e288b7900_3b5f3f01-e...  Prise de sang faite le 19 février à domicile p...   \n",
       "2d035c4b-cdfa-4982-87dc-916fe07a0824_710f4bda-b...  Pansement également refait le 23 mars par mylène.   \n",
       "b96ad235-2f4f-4236-9aa3-9df85dfcf7cb_ff1697c1-a...       Pcr plus prise de sang fait à domicile à 11.   \n",
       "3e7ffb67-8872-4172-bf18-4fe338ecae3f_6e8b49e5-4...  Prise de sang et analyse stérile des urines à ...   \n",
       "2d035c4b-cdfa-4982-87dc-916fe07a0824_56c749ad-e...  Bonjour, merci de renouveler cette ordonnance ...   \n",
       "...                                                                                               ...   \n",
       "a5050600-95ef-43d8-a5fa-a57c791bf843_448853a4-f...  Test antigénique réalisé cet après-midi à domi...   \n",
       "2d035c4b-cdfa-4982-87dc-916fe07a0824_4fb0c6a1-0...  Réalisation d'une prise de sang chez monsieur ...   \n",
       "b96ad235-2f4f-4236-9aa3-9df85dfcf7cb_b8a5877a-b...  Ordonnance pour la préparation du pilulier en ...   \n",
       "978eb126-14a0-46cf-bd27-44b6b77cecb7_01fc29bf-0...  Début des soins le 10 juin. Avec début des sou...   \n",
       "2d035c4b-cdfa-4982-87dc-916fe07a0824_47d4e0f3-f...  Prise de sang faite au domicile de la patiente...   \n",
       "\n",
       "                                                   Duration      Date  \n",
       "fichier                                                                \n",
       "9f980dcf-b431-4e67-876f-2b8e288b7900_3b5f3f01-e...     None   [2, 19]  \n",
       "2d035c4b-cdfa-4982-87dc-916fe07a0824_710f4bda-b...     None   [3, 23]  \n",
       "b96ad235-2f4f-4236-9aa3-9df85dfcf7cb_ff1697c1-a...     None      None  \n",
       "3e7ffb67-8872-4172-bf18-4fe338ecae3f_6e8b49e5-4...     None   [2, 18]  \n",
       "2d035c4b-cdfa-4982-87dc-916fe07a0824_56c749ad-e...     None      None  \n",
       "...                                                     ...       ...  \n",
       "a5050600-95ef-43d8-a5fa-a57c791bf843_448853a4-f...     None  [99, 99]  \n",
       "2d035c4b-cdfa-4982-87dc-916fe07a0824_4fb0c6a1-0...     None   [2, 24]  \n",
       "b96ad235-2f4f-4236-9aa3-9df85dfcf7cb_b8a5877a-b...     None    [2, 1]  \n",
       "978eb126-14a0-46cf-bd27-44b6b77cecb7_01fc29bf-0...     None   [6, 10]  \n",
       "2d035c4b-cdfa-4982-87dc-916fe07a0824_47d4e0f3-f...     None      None  \n",
       "\n",
       "[4029 rows x 3 columns]"
      ]
     },
     "execution_count": 57,
     "metadata": {},
     "output_type": "execute_result"
    }
   ],
   "source": [
    "df_bb"
   ]
  },
  {
   "cell_type": "markdown",
   "id": "46b65c8e",
   "metadata": {},
   "source": [
    "### Test for du XX au XX"
   ]
  },
  {
   "cell_type": "code",
   "execution_count": 126,
   "id": "ad36ad49",
   "metadata": {},
   "outputs": [],
   "source": [
    "liste_mois = '(janvier|février|mars|avril|mai|juin|juillet|août|septembre|octobre|novembre|décembre)'"
   ]
  },
  {
   "cell_type": "code",
   "execution_count": 159,
   "id": "86b1fb00",
   "metadata": {},
   "outputs": [
    {
     "data": {
      "text/plain": [
       "<re.Match object; span=(0, 27), match='du lundi 17 juin au 22 juin'>"
      ]
     },
     "execution_count": 159,
     "metadata": {},
     "output_type": "execute_result"
    }
   ],
   "source": [
    "test = \"du lundi 17 juin au 22 juin 2022\"\n",
    "re.search(\"du\\s\\w*?\\s?(\\d{1,2}\\sjuin\\s)(\\d{1,4}\\s)?au\\s\\w*?\\s?(\\d{1,2}\\sjuin)\", test)"
   ]
  },
  {
   "cell_type": "code",
   "execution_count": 146,
   "id": "9f98ec46",
   "metadata": {},
   "outputs": [],
   "source": [
    "regex = \"du\\s\\w*?\\s?(\\d{1,2}\\s\"+liste_mois+\"\\s)(\\d{1,4}\\s)?au\\s\\w*?\\s?(\\d{1,2}\\s\"+liste_mois+\")\"\n",
    "x = re.search(regex, test)"
   ]
  },
  {
   "cell_type": "code",
   "execution_count": 147,
   "id": "5f59919a",
   "metadata": {},
   "outputs": [
    {
     "data": {
      "text/plain": [
       "'du 17 juin au 22 juin'"
      ]
     },
     "execution_count": 147,
     "metadata": {},
     "output_type": "execute_result"
    }
   ],
   "source": [
    "x.group()"
   ]
  },
  {
   "cell_type": "code",
   "execution_count": 160,
   "id": "9f33bb2f",
   "metadata": {},
   "outputs": [
    {
     "data": {
      "text/html": [
       "<div>\n",
       "<style scoped>\n",
       "    .dataframe tbody tr th:only-of-type {\n",
       "        vertical-align: middle;\n",
       "    }\n",
       "\n",
       "    .dataframe tbody tr th {\n",
       "        vertical-align: top;\n",
       "    }\n",
       "\n",
       "    .dataframe thead th {\n",
       "        text-align: right;\n",
       "    }\n",
       "</style>\n",
       "<table border=\"1\" class=\"dataframe\">\n",
       "  <thead>\n",
       "    <tr style=\"text-align: right;\">\n",
       "      <th></th>\n",
       "      <th>CareDuration</th>\n",
       "      <th>CareDurationType</th>\n",
       "      <th>CareEnd</th>\n",
       "    </tr>\n",
       "  </thead>\n",
       "  <tbody>\n",
       "    <tr>\n",
       "      <th>0</th>\n",
       "      <td>5</td>\n",
       "      <td>Days</td>\n",
       "      <td>22 juin</td>\n",
       "    </tr>\n",
       "  </tbody>\n",
       "</table>\n",
       "</div>"
      ],
      "text/plain": [
       "   CareDuration CareDurationType  CareEnd\n",
       "0             5             Days  22 juin"
      ]
     },
     "execution_count": 160,
     "metadata": {},
     "output_type": "execute_result"
    }
   ],
   "source": [
    "Duration().implicit_duration_2(test, df=True)"
   ]
  },
  {
   "cell_type": "code",
   "execution_count": 148,
   "id": "61e76879",
   "metadata": {},
   "outputs": [],
   "source": [
    "end_date = re.search('(?<=au\\s)\\w*?\\s?(\\d{1,2}\\s'+liste_mois+')', test)"
   ]
  },
  {
   "cell_type": "code",
   "execution_count": 152,
   "id": "0699d279",
   "metadata": {},
   "outputs": [
    {
     "data": {
      "text/plain": [
       "'22 juin'"
      ]
     },
     "execution_count": 152,
     "metadata": {},
     "output_type": "execute_result"
    }
   ],
   "source": [
    "end_date.group()"
   ]
  },
  {
   "cell_type": "code",
   "execution_count": 161,
   "id": "ed8363d9",
   "metadata": {},
   "outputs": [
    {
     "data": {
      "text/html": [
       "<div>\n",
       "<style scoped>\n",
       "    .dataframe tbody tr th:only-of-type {\n",
       "        vertical-align: middle;\n",
       "    }\n",
       "\n",
       "    .dataframe tbody tr th {\n",
       "        vertical-align: top;\n",
       "    }\n",
       "\n",
       "    .dataframe thead th {\n",
       "        text-align: right;\n",
       "    }\n",
       "</style>\n",
       "<table border=\"1\" class=\"dataframe\">\n",
       "  <thead>\n",
       "    <tr style=\"text-align: right;\">\n",
       "      <th></th>\n",
       "      <th>CareDuration</th>\n",
       "      <th>CareDurationType</th>\n",
       "      <th>CareEnd</th>\n",
       "    </tr>\n",
       "  </thead>\n",
       "  <tbody>\n",
       "    <tr>\n",
       "      <th>0</th>\n",
       "      <td>5</td>\n",
       "      <td>Days</td>\n",
       "      <td>22 juin</td>\n",
       "    </tr>\n",
       "  </tbody>\n",
       "</table>\n",
       "</div>"
      ],
      "text/plain": [
       "   CareDuration CareDurationType  CareEnd\n",
       "0             5             Days  22 juin"
      ]
     },
     "execution_count": 161,
     "metadata": {},
     "output_type": "execute_result"
    }
   ],
   "source": [
    "Duration().get_duration(test, df=True)"
   ]
  },
  {
   "cell_type": "code",
   "execution_count": 164,
   "id": "f9ac3eca",
   "metadata": {},
   "outputs": [],
   "source": [
    "last_test = Duration(path_spacy = \"../models/model_full/model-best\").get_data()"
   ]
  },
  {
   "cell_type": "code",
   "execution_count": 166,
   "id": "a3e71acb",
   "metadata": {},
   "outputs": [],
   "source": [
    "last_test = Duration().apply_to_df(last_test)"
   ]
  },
  {
   "cell_type": "code",
   "execution_count": 181,
   "id": "93a0f15f",
   "metadata": {},
   "outputs": [
    {
     "data": {
      "text/html": [
       "<div>\n",
       "<style scoped>\n",
       "    .dataframe tbody tr th:only-of-type {\n",
       "        vertical-align: middle;\n",
       "    }\n",
       "\n",
       "    .dataframe tbody tr th {\n",
       "        vertical-align: top;\n",
       "    }\n",
       "\n",
       "    .dataframe thead th {\n",
       "        text-align: right;\n",
       "    }\n",
       "</style>\n",
       "<table border=\"1\" class=\"dataframe\">\n",
       "  <thead>\n",
       "    <tr style=\"text-align: right;\">\n",
       "      <th></th>\n",
       "      <th>translation</th>\n",
       "      <th>Duration</th>\n",
       "      <th>Date</th>\n",
       "      <th>CareDuration</th>\n",
       "      <th>CareDurationType</th>\n",
       "      <th>CareEnd</th>\n",
       "    </tr>\n",
       "    <tr>\n",
       "      <th>fichier</th>\n",
       "      <th></th>\n",
       "      <th></th>\n",
       "      <th></th>\n",
       "      <th></th>\n",
       "      <th></th>\n",
       "      <th></th>\n",
       "    </tr>\n",
       "  </thead>\n",
       "  <tbody>\n",
       "    <tr>\n",
       "      <th>c619f0e1-7c22-4047-adb2-df4dec6643ba_8214d80f-0f7d-4e0d-9d4a-23294f9690b3</th>\n",
       "      <td>Soin débuté le vendredi 14 janvier 2022 jusqu'...</td>\n",
       "      <td>jusqu'au lundi 17 janvier 2022</td>\n",
       "      <td>[1, 14]</td>\n",
       "      <td>3</td>\n",
       "      <td>Days</td>\n",
       "      <td>17 janvier</td>\n",
       "    </tr>\n",
       "    <tr>\n",
       "      <th>9d42ce6f-8537-49a9-a121-c8ae1dc7cda8_3ffbf9cc-b9e4-405d-a038-fb4f9e036a72</th>\n",
       "      <td>Pour monsieur Didier Nicolas, donc un passage ...</td>\n",
       "      <td>jusqu'au 8/12/2019</td>\n",
       "      <td>[99, 25]</td>\n",
       "      <td>NaN</td>\n",
       "      <td>NaN</td>\n",
       "      <td>8 décembre</td>\n",
       "    </tr>\n",
       "    <tr>\n",
       "      <th>9d42ce6f-8537-49a9-a121-c8ae1dc7cda8_273dbe94-8234-4a98-9f7f-43ae33995686</th>\n",
       "      <td>Pour madame Didier Nicole, un passage à domici...</td>\n",
       "      <td>jusqu'au 28 novembre</td>\n",
       "      <td>[11, 23]</td>\n",
       "      <td>5</td>\n",
       "      <td>Days</td>\n",
       "      <td>28 novembre</td>\n",
       "    </tr>\n",
       "    <tr>\n",
       "      <th>a5050600-95ef-43d8-a5fa-a57c791bf843_7e6b8930-4733-4700-a0ac-40d28720c7ec</th>\n",
       "      <td>Injection d'anticoagulants à planifier tous le...</td>\n",
       "      <td>du 5 mars au 14 mars</td>\n",
       "      <td>None</td>\n",
       "      <td>9</td>\n",
       "      <td>Days</td>\n",
       "      <td>14 mars</td>\n",
       "    </tr>\n",
       "    <tr>\n",
       "      <th>55d674cc-3389-4cf6-ab7c-1f1b9fa1b6ed_4915ce53-0693-b8fe-67bf-cda0c15a57fe</th>\n",
       "      <td>C'est un forfait bsc matin et soir et c'est ju...</td>\n",
       "      <td>jusqu'au 16 avril</td>\n",
       "      <td>None</td>\n",
       "      <td>NaN</td>\n",
       "      <td>NaN</td>\n",
       "      <td>16 avril</td>\n",
       "    </tr>\n",
       "    <tr>\n",
       "      <th>3e7ffb67-8872-4172-bf18-4fe338ecae3f_98c34931-c7d8-4eb2-9ef3-fac00eaad6a1</th>\n",
       "      <td>Ordonnance pour la réalisation à domicile par ...</td>\n",
       "      <td>jusqu'au 20 février</td>\n",
       "      <td>[2, 12]</td>\n",
       "      <td>8</td>\n",
       "      <td>Days</td>\n",
       "      <td>20 février</td>\n",
       "    </tr>\n",
       "    <tr>\n",
       "      <th>74b154c1-e265-4cb9-8e71-0c9bbc3dc880_0a7fd90b-e718-4cca-bc3b-ee47a3b89b31</th>\n",
       "      <td>Petite précision pour monsieur jean-paul, il e...</td>\n",
       "      <td>jusqu'au 18 juillet</td>\n",
       "      <td>None</td>\n",
       "      <td>NaN</td>\n",
       "      <td>NaN</td>\n",
       "      <td>18 juillet</td>\n",
       "    </tr>\n",
       "    <tr>\n",
       "      <th>9d42ce6f-8537-49a9-a121-c8ae1dc7cda8_9e347870-1b98-479e-ad0b-8e2153695491</th>\n",
       "      <td>Pansement à domicile, juin le 21 février. C'es...</td>\n",
       "      <td>jusqu'au 4 mars</td>\n",
       "      <td>[2, 21]</td>\n",
       "      <td>11</td>\n",
       "      <td>Days</td>\n",
       "      <td>4 mars</td>\n",
       "    </tr>\n",
       "    <tr>\n",
       "      <th>978eb126-14a0-46cf-bd27-44b6b77cecb7_3b1ee428-2b8b-41c7-a04c-bebe224b2353</th>\n",
       "      <td>Ordonnance de renouvellement pour les sous-cut...</td>\n",
       "      <td>jusqu'au 27 octobre</td>\n",
       "      <td>[9, 21]</td>\n",
       "      <td>36</td>\n",
       "      <td>Days</td>\n",
       "      <td>27 octobre</td>\n",
       "    </tr>\n",
       "    <tr>\n",
       "      <th>a5050600-95ef-43d8-a5fa-a57c791bf843_82dddb77-a783-42f0-9aff-ea1aa03fc3f5</th>\n",
       "      <td>Pourriez-vous me préparer la facture jusqu'au ...</td>\n",
       "      <td>jusqu'au dimanche 27 juin</td>\n",
       "      <td>None</td>\n",
       "      <td>NaN</td>\n",
       "      <td>NaN</td>\n",
       "      <td>27 juin</td>\n",
       "    </tr>\n",
       "    <tr>\n",
       "      <th>9f980dcf-b431-4e67-876f-2b8e288b7900_1d110f73-529d-474c-a36a-4f6f3a713d6b</th>\n",
       "      <td>Intramusculaire programmé matin et soir. parti...</td>\n",
       "      <td>du 3 mars et jusqu'au 6 mars inclus</td>\n",
       "      <td>None</td>\n",
       "      <td>NaN</td>\n",
       "      <td>NaN</td>\n",
       "      <td>3 mars</td>\n",
       "    </tr>\n",
       "    <tr>\n",
       "      <th>3e7ffb67-8872-4172-bf18-4fe338ecae3f_67b54ced-ef5a-4bf0-bb40-a7ccd4b98a23</th>\n",
       "      <td>Merci de planifier en même temps que son injec...</td>\n",
       "      <td>jusqu'au 11 septembre</td>\n",
       "      <td>None</td>\n",
       "      <td>NaN</td>\n",
       "      <td>NaN</td>\n",
       "      <td>11 septembre</td>\n",
       "    </tr>\n",
       "    <tr>\n",
       "      <th>f0caa21b-c11d-40a3-98ec-e2df3d2b9cc4_3585dfb8-fd89-477d-b9aa-f123325ea578</th>\n",
       "      <td>Soin débuté pour des pansements secs. À la mai...</td>\n",
       "      <td>jusqu'au 17 janvier</td>\n",
       "      <td>[1, 7]</td>\n",
       "      <td>10</td>\n",
       "      <td>Days</td>\n",
       "      <td>17 janvier</td>\n",
       "    </tr>\n",
       "    <tr>\n",
       "      <th>b96ad235-2f4f-4236-9aa3-9df85dfcf7cb_71748131-8c97-4f6d-8ded-a16eca067793</th>\n",
       "      <td>Prolongation de l'ordonnance c'est des sous-cu...</td>\n",
       "      <td>jusqu'au 7 avril</td>\n",
       "      <td>None</td>\n",
       "      <td>NaN</td>\n",
       "      <td>NaN</td>\n",
       "      <td>7 avril</td>\n",
       "    </tr>\n",
       "    <tr>\n",
       "      <th>3e7ffb67-8872-4172-bf18-4fe338ecae3f_8a591970-7650-4c64-a3b5-f97aec8f8d93</th>\n",
       "      <td>Merci de planifier un pansement simple une foi...</td>\n",
       "      <td>jusqu'au 2 avril inclus</td>\n",
       "      <td>[3, 30]</td>\n",
       "      <td>3</td>\n",
       "      <td>Days</td>\n",
       "      <td>2 avril</td>\n",
       "    </tr>\n",
       "    <tr>\n",
       "      <th>3e7ffb67-8872-4172-bf18-4fe338ecae3f_2e324248-b417-4226-9649-9b4eb14af093</th>\n",
       "      <td>Ordonnance pour Madame Didier Denise chez qui ...</td>\n",
       "      <td>jusqu'au 9 septembre</td>\n",
       "      <td>[9, 3]</td>\n",
       "      <td>6</td>\n",
       "      <td>Days</td>\n",
       "      <td>9 septembre</td>\n",
       "    </tr>\n",
       "    <tr>\n",
       "      <th>f0caa21b-c11d-40a3-98ec-e2df3d2b9cc4_93e7e1b8-f417-4132-82cc-0cca5fbbb59e</th>\n",
       "      <td>Début du sous-cutanée le 10 juillet au matin, ...</td>\n",
       "      <td>jusqu'au 12 juillet</td>\n",
       "      <td>[7, 10]</td>\n",
       "      <td>2</td>\n",
       "      <td>Days</td>\n",
       "      <td>12 juillet</td>\n",
       "    </tr>\n",
       "    <tr>\n",
       "      <th>978eb126-14a0-46cf-bd27-44b6b77cecb7_0ad4bf49-4530-4c0f-bf72-1aa4683e34d2</th>\n",
       "      <td>Créer une séance de soin à partir du 27/12/202...</td>\n",
       "      <td>jusqu'au vendredi 7 janvier</td>\n",
       "      <td>[12, 27]</td>\n",
       "      <td>NaN</td>\n",
       "      <td>Days</td>\n",
       "      <td>7 janvier</td>\n",
       "    </tr>\n",
       "    <tr>\n",
       "      <th>3e7ffb67-8872-4172-bf18-4fe338ecae3f_113b96b5-4c92-4a1f-a1d2-a4e00b20e492</th>\n",
       "      <td>Karen, veuillez noter que cette ordonnance est...</td>\n",
       "      <td>jusqu'au 18 août</td>\n",
       "      <td>None</td>\n",
       "      <td>NaN</td>\n",
       "      <td>NaN</td>\n",
       "      <td>18 août</td>\n",
       "    </tr>\n",
       "    <tr>\n",
       "      <th>a5050600-95ef-43d8-a5fa-a57c791bf843_9d3b65aa-5a9e-48d6-b8b9-ba208b5e5b4e</th>\n",
       "      <td>Finalement, poursuite des soins jusqu'au 6 mar...</td>\n",
       "      <td>jusqu'au 6 mars</td>\n",
       "      <td>None</td>\n",
       "      <td>NaN</td>\n",
       "      <td>NaN</td>\n",
       "      <td>6 mars</td>\n",
       "    </tr>\n",
       "    <tr>\n",
       "      <th>9f980dcf-b431-4e67-876f-2b8e288b7900_42ff336e-b972-41c1-b260-4e87f6879147</th>\n",
       "      <td>Prescription qui fera suite à celle en cours q...</td>\n",
       "      <td>jusqu'au 2 avril</td>\n",
       "      <td>None</td>\n",
       "      <td>NaN</td>\n",
       "      <td>NaN</td>\n",
       "      <td>2 avril</td>\n",
       "    </tr>\n",
       "    <tr>\n",
       "      <th>f0caa21b-c11d-40a3-98ec-e2df3d2b9cc4_85a2e5bf-ef8c-4d6a-bd80-f19f17bac6f1</th>\n",
       "      <td>Pansement débuté le 13 novembre à midi jusqu'a...</td>\n",
       "      <td>jusqu'au 25 novembre</td>\n",
       "      <td>[11, 13]</td>\n",
       "      <td>12</td>\n",
       "      <td>Days</td>\n",
       "      <td>25 novembre</td>\n",
       "    </tr>\n",
       "    <tr>\n",
       "      <th>74b154c1-e265-4cb9-8e71-0c9bbc3dc880_0a7c082c-3ccd-4619-8e31-013507cd5efb</th>\n",
       "      <td>Madame Didier Denise à ordonnance du 24 décemb...</td>\n",
       "      <td>du 24 décembre au 24 mars 2022</td>\n",
       "      <td>[12, 24]</td>\n",
       "      <td>NaN</td>\n",
       "      <td>Days</td>\n",
       "      <td>24 mars</td>\n",
       "    </tr>\n",
       "    <tr>\n",
       "      <th>b96ad235-2f4f-4236-9aa3-9df85dfcf7cb_36581e6f-80b1-4303-bc75-f8b29e3425de</th>\n",
       "      <td>Début des soins le 15 au soir jusqu'au 7 avril...</td>\n",
       "      <td>jusqu'au 7 avril</td>\n",
       "      <td>[99, 15]</td>\n",
       "      <td>NaN</td>\n",
       "      <td>NaN</td>\n",
       "      <td>7 avril</td>\n",
       "    </tr>\n",
       "    <tr>\n",
       "      <th>f0caa21b-c11d-40a3-98ec-e2df3d2b9cc4_19c5b62d-e72f-49bf-9b2d-84127af3a2ad</th>\n",
       "      <td>Soins débuté le 22 juillet au soir jusqu'au 2 ...</td>\n",
       "      <td>jusqu'au 2 août</td>\n",
       "      <td>[7, 22]</td>\n",
       "      <td>11</td>\n",
       "      <td>Days</td>\n",
       "      <td>2 août</td>\n",
       "    </tr>\n",
       "    <tr>\n",
       "      <th>2206f47b-a858-4f23-8696-d10e1050f2d7_3fc544b2-ec2c-443d-a393-ba9c9b2e4cdd</th>\n",
       "      <td>Prescription pour suivre sous-cutanée pour mad...</td>\n",
       "      <td>jusqu'au 8 juillet</td>\n",
       "      <td>[6, 30]</td>\n",
       "      <td>8</td>\n",
       "      <td>Days</td>\n",
       "      <td>8 juillet</td>\n",
       "    </tr>\n",
       "    <tr>\n",
       "      <th>74b154c1-e265-4cb9-8e71-0c9bbc3dc880_5b0df381-7280-4371-bb28-30f060e76789</th>\n",
       "      <td>Alors, madame Didier Nicole, tourner ride un s...</td>\n",
       "      <td>jusqu'au 20 mars</td>\n",
       "      <td>[12, 16]</td>\n",
       "      <td>NaN</td>\n",
       "      <td>Days</td>\n",
       "      <td>20 mars</td>\n",
       "    </tr>\n",
       "    <tr>\n",
       "      <th>2206f47b-a858-4f23-8696-d10e1050f2d7_1d5aa348-9df4-411e-a83e-36b4c6c87a74</th>\n",
       "      <td>Ensuite, il un problème parce que là l'ordonna...</td>\n",
       "      <td>jusqu'au 10 février</td>\n",
       "      <td>[12, 23]</td>\n",
       "      <td>NaN</td>\n",
       "      <td>Days</td>\n",
       "      <td>10 février</td>\n",
       "    </tr>\n",
       "    <tr>\n",
       "      <th>9f980dcf-b431-4e67-876f-2b8e288b7900_1cd21890-7fee-469a-b8ad-ed917ba84e0a</th>\n",
       "      <td>Sous-cutanée débuté le 22 mars à 10h30. Sur la...</td>\n",
       "      <td>jusqu'au 2 avril inclus</td>\n",
       "      <td>[3, 22]</td>\n",
       "      <td>11</td>\n",
       "      <td>Days</td>\n",
       "      <td>2 avril</td>\n",
       "    </tr>\n",
       "    <tr>\n",
       "      <th>c619f0e1-7c22-4047-adb2-df4dec6643ba_5fcabdda-7eba-46ac-91ff-05ab6d52c79e</th>\n",
       "      <td>Soin débuté le 18 octobre 2020 un jusqu'au 29 ...</td>\n",
       "      <td>jusqu'au 29 octobre 2000 vingt-et-un</td>\n",
       "      <td>[10, 18]</td>\n",
       "      <td>11</td>\n",
       "      <td>Days</td>\n",
       "      <td>29 octobre</td>\n",
       "    </tr>\n",
       "  </tbody>\n",
       "</table>\n",
       "</div>"
      ],
      "text/plain": [
       "                                                                                          translation  \\\n",
       "fichier                                                                                                 \n",
       "c619f0e1-7c22-4047-adb2-df4dec6643ba_8214d80f-0...  Soin débuté le vendredi 14 janvier 2022 jusqu'...   \n",
       "9d42ce6f-8537-49a9-a121-c8ae1dc7cda8_3ffbf9cc-b...  Pour monsieur Didier Nicolas, donc un passage ...   \n",
       "9d42ce6f-8537-49a9-a121-c8ae1dc7cda8_273dbe94-8...  Pour madame Didier Nicole, un passage à domici...   \n",
       "a5050600-95ef-43d8-a5fa-a57c791bf843_7e6b8930-4...  Injection d'anticoagulants à planifier tous le...   \n",
       "55d674cc-3389-4cf6-ab7c-1f1b9fa1b6ed_4915ce53-0...  C'est un forfait bsc matin et soir et c'est ju...   \n",
       "3e7ffb67-8872-4172-bf18-4fe338ecae3f_98c34931-c...  Ordonnance pour la réalisation à domicile par ...   \n",
       "74b154c1-e265-4cb9-8e71-0c9bbc3dc880_0a7fd90b-e...  Petite précision pour monsieur jean-paul, il e...   \n",
       "9d42ce6f-8537-49a9-a121-c8ae1dc7cda8_9e347870-1...  Pansement à domicile, juin le 21 février. C'es...   \n",
       "978eb126-14a0-46cf-bd27-44b6b77cecb7_3b1ee428-2...  Ordonnance de renouvellement pour les sous-cut...   \n",
       "a5050600-95ef-43d8-a5fa-a57c791bf843_82dddb77-a...  Pourriez-vous me préparer la facture jusqu'au ...   \n",
       "9f980dcf-b431-4e67-876f-2b8e288b7900_1d110f73-5...  Intramusculaire programmé matin et soir. parti...   \n",
       "3e7ffb67-8872-4172-bf18-4fe338ecae3f_67b54ced-e...  Merci de planifier en même temps que son injec...   \n",
       "f0caa21b-c11d-40a3-98ec-e2df3d2b9cc4_3585dfb8-f...  Soin débuté pour des pansements secs. À la mai...   \n",
       "b96ad235-2f4f-4236-9aa3-9df85dfcf7cb_71748131-8...  Prolongation de l'ordonnance c'est des sous-cu...   \n",
       "3e7ffb67-8872-4172-bf18-4fe338ecae3f_8a591970-7...  Merci de planifier un pansement simple une foi...   \n",
       "3e7ffb67-8872-4172-bf18-4fe338ecae3f_2e324248-b...  Ordonnance pour Madame Didier Denise chez qui ...   \n",
       "f0caa21b-c11d-40a3-98ec-e2df3d2b9cc4_93e7e1b8-f...  Début du sous-cutanée le 10 juillet au matin, ...   \n",
       "978eb126-14a0-46cf-bd27-44b6b77cecb7_0ad4bf49-4...  Créer une séance de soin à partir du 27/12/202...   \n",
       "3e7ffb67-8872-4172-bf18-4fe338ecae3f_113b96b5-4...  Karen, veuillez noter que cette ordonnance est...   \n",
       "a5050600-95ef-43d8-a5fa-a57c791bf843_9d3b65aa-5...  Finalement, poursuite des soins jusqu'au 6 mar...   \n",
       "9f980dcf-b431-4e67-876f-2b8e288b7900_42ff336e-b...  Prescription qui fera suite à celle en cours q...   \n",
       "f0caa21b-c11d-40a3-98ec-e2df3d2b9cc4_85a2e5bf-e...  Pansement débuté le 13 novembre à midi jusqu'a...   \n",
       "74b154c1-e265-4cb9-8e71-0c9bbc3dc880_0a7c082c-3...  Madame Didier Denise à ordonnance du 24 décemb...   \n",
       "b96ad235-2f4f-4236-9aa3-9df85dfcf7cb_36581e6f-8...  Début des soins le 15 au soir jusqu'au 7 avril...   \n",
       "f0caa21b-c11d-40a3-98ec-e2df3d2b9cc4_19c5b62d-e...  Soins débuté le 22 juillet au soir jusqu'au 2 ...   \n",
       "2206f47b-a858-4f23-8696-d10e1050f2d7_3fc544b2-e...  Prescription pour suivre sous-cutanée pour mad...   \n",
       "74b154c1-e265-4cb9-8e71-0c9bbc3dc880_5b0df381-7...  Alors, madame Didier Nicole, tourner ride un s...   \n",
       "2206f47b-a858-4f23-8696-d10e1050f2d7_1d5aa348-9...  Ensuite, il un problème parce que là l'ordonna...   \n",
       "9f980dcf-b431-4e67-876f-2b8e288b7900_1cd21890-7...  Sous-cutanée débuté le 22 mars à 10h30. Sur la...   \n",
       "c619f0e1-7c22-4047-adb2-df4dec6643ba_5fcabdda-7...  Soin débuté le 18 octobre 2020 un jusqu'au 29 ...   \n",
       "\n",
       "                                                                                Duration  \\\n",
       "fichier                                                                                    \n",
       "c619f0e1-7c22-4047-adb2-df4dec6643ba_8214d80f-0...        jusqu'au lundi 17 janvier 2022   \n",
       "9d42ce6f-8537-49a9-a121-c8ae1dc7cda8_3ffbf9cc-b...                    jusqu'au 8/12/2019   \n",
       "9d42ce6f-8537-49a9-a121-c8ae1dc7cda8_273dbe94-8...                  jusqu'au 28 novembre   \n",
       "a5050600-95ef-43d8-a5fa-a57c791bf843_7e6b8930-4...                  du 5 mars au 14 mars   \n",
       "55d674cc-3389-4cf6-ab7c-1f1b9fa1b6ed_4915ce53-0...                     jusqu'au 16 avril   \n",
       "3e7ffb67-8872-4172-bf18-4fe338ecae3f_98c34931-c...                   jusqu'au 20 février   \n",
       "74b154c1-e265-4cb9-8e71-0c9bbc3dc880_0a7fd90b-e...                   jusqu'au 18 juillet   \n",
       "9d42ce6f-8537-49a9-a121-c8ae1dc7cda8_9e347870-1...                       jusqu'au 4 mars   \n",
       "978eb126-14a0-46cf-bd27-44b6b77cecb7_3b1ee428-2...                   jusqu'au 27 octobre   \n",
       "a5050600-95ef-43d8-a5fa-a57c791bf843_82dddb77-a...             jusqu'au dimanche 27 juin   \n",
       "9f980dcf-b431-4e67-876f-2b8e288b7900_1d110f73-5...   du 3 mars et jusqu'au 6 mars inclus   \n",
       "3e7ffb67-8872-4172-bf18-4fe338ecae3f_67b54ced-e...                 jusqu'au 11 septembre   \n",
       "f0caa21b-c11d-40a3-98ec-e2df3d2b9cc4_3585dfb8-f...                   jusqu'au 17 janvier   \n",
       "b96ad235-2f4f-4236-9aa3-9df85dfcf7cb_71748131-8...                      jusqu'au 7 avril   \n",
       "3e7ffb67-8872-4172-bf18-4fe338ecae3f_8a591970-7...               jusqu'au 2 avril inclus   \n",
       "3e7ffb67-8872-4172-bf18-4fe338ecae3f_2e324248-b...                  jusqu'au 9 septembre   \n",
       "f0caa21b-c11d-40a3-98ec-e2df3d2b9cc4_93e7e1b8-f...                   jusqu'au 12 juillet   \n",
       "978eb126-14a0-46cf-bd27-44b6b77cecb7_0ad4bf49-4...           jusqu'au vendredi 7 janvier   \n",
       "3e7ffb67-8872-4172-bf18-4fe338ecae3f_113b96b5-4...                      jusqu'au 18 août   \n",
       "a5050600-95ef-43d8-a5fa-a57c791bf843_9d3b65aa-5...                       jusqu'au 6 mars   \n",
       "9f980dcf-b431-4e67-876f-2b8e288b7900_42ff336e-b...                      jusqu'au 2 avril   \n",
       "f0caa21b-c11d-40a3-98ec-e2df3d2b9cc4_85a2e5bf-e...                  jusqu'au 25 novembre   \n",
       "74b154c1-e265-4cb9-8e71-0c9bbc3dc880_0a7c082c-3...        du 24 décembre au 24 mars 2022   \n",
       "b96ad235-2f4f-4236-9aa3-9df85dfcf7cb_36581e6f-8...                      jusqu'au 7 avril   \n",
       "f0caa21b-c11d-40a3-98ec-e2df3d2b9cc4_19c5b62d-e...                       jusqu'au 2 août   \n",
       "2206f47b-a858-4f23-8696-d10e1050f2d7_3fc544b2-e...                    jusqu'au 8 juillet   \n",
       "74b154c1-e265-4cb9-8e71-0c9bbc3dc880_5b0df381-7...                      jusqu'au 20 mars   \n",
       "2206f47b-a858-4f23-8696-d10e1050f2d7_1d5aa348-9...                   jusqu'au 10 février   \n",
       "9f980dcf-b431-4e67-876f-2b8e288b7900_1cd21890-7...               jusqu'au 2 avril inclus   \n",
       "c619f0e1-7c22-4047-adb2-df4dec6643ba_5fcabdda-7...  jusqu'au 29 octobre 2000 vingt-et-un   \n",
       "\n",
       "                                                        Date CareDuration  \\\n",
       "fichier                                                                     \n",
       "c619f0e1-7c22-4047-adb2-df4dec6643ba_8214d80f-0...   [1, 14]            3   \n",
       "9d42ce6f-8537-49a9-a121-c8ae1dc7cda8_3ffbf9cc-b...  [99, 25]          NaN   \n",
       "9d42ce6f-8537-49a9-a121-c8ae1dc7cda8_273dbe94-8...  [11, 23]            5   \n",
       "a5050600-95ef-43d8-a5fa-a57c791bf843_7e6b8930-4...      None            9   \n",
       "55d674cc-3389-4cf6-ab7c-1f1b9fa1b6ed_4915ce53-0...      None          NaN   \n",
       "3e7ffb67-8872-4172-bf18-4fe338ecae3f_98c34931-c...   [2, 12]            8   \n",
       "74b154c1-e265-4cb9-8e71-0c9bbc3dc880_0a7fd90b-e...      None          NaN   \n",
       "9d42ce6f-8537-49a9-a121-c8ae1dc7cda8_9e347870-1...   [2, 21]           11   \n",
       "978eb126-14a0-46cf-bd27-44b6b77cecb7_3b1ee428-2...   [9, 21]           36   \n",
       "a5050600-95ef-43d8-a5fa-a57c791bf843_82dddb77-a...      None          NaN   \n",
       "9f980dcf-b431-4e67-876f-2b8e288b7900_1d110f73-5...      None          NaN   \n",
       "3e7ffb67-8872-4172-bf18-4fe338ecae3f_67b54ced-e...      None          NaN   \n",
       "f0caa21b-c11d-40a3-98ec-e2df3d2b9cc4_3585dfb8-f...    [1, 7]           10   \n",
       "b96ad235-2f4f-4236-9aa3-9df85dfcf7cb_71748131-8...      None          NaN   \n",
       "3e7ffb67-8872-4172-bf18-4fe338ecae3f_8a591970-7...   [3, 30]            3   \n",
       "3e7ffb67-8872-4172-bf18-4fe338ecae3f_2e324248-b...    [9, 3]            6   \n",
       "f0caa21b-c11d-40a3-98ec-e2df3d2b9cc4_93e7e1b8-f...   [7, 10]            2   \n",
       "978eb126-14a0-46cf-bd27-44b6b77cecb7_0ad4bf49-4...  [12, 27]          NaN   \n",
       "3e7ffb67-8872-4172-bf18-4fe338ecae3f_113b96b5-4...      None          NaN   \n",
       "a5050600-95ef-43d8-a5fa-a57c791bf843_9d3b65aa-5...      None          NaN   \n",
       "9f980dcf-b431-4e67-876f-2b8e288b7900_42ff336e-b...      None          NaN   \n",
       "f0caa21b-c11d-40a3-98ec-e2df3d2b9cc4_85a2e5bf-e...  [11, 13]           12   \n",
       "74b154c1-e265-4cb9-8e71-0c9bbc3dc880_0a7c082c-3...  [12, 24]          NaN   \n",
       "b96ad235-2f4f-4236-9aa3-9df85dfcf7cb_36581e6f-8...  [99, 15]          NaN   \n",
       "f0caa21b-c11d-40a3-98ec-e2df3d2b9cc4_19c5b62d-e...   [7, 22]           11   \n",
       "2206f47b-a858-4f23-8696-d10e1050f2d7_3fc544b2-e...   [6, 30]            8   \n",
       "74b154c1-e265-4cb9-8e71-0c9bbc3dc880_5b0df381-7...  [12, 16]          NaN   \n",
       "2206f47b-a858-4f23-8696-d10e1050f2d7_1d5aa348-9...  [12, 23]          NaN   \n",
       "9f980dcf-b431-4e67-876f-2b8e288b7900_1cd21890-7...   [3, 22]           11   \n",
       "c619f0e1-7c22-4047-adb2-df4dec6643ba_5fcabdda-7...  [10, 18]           11   \n",
       "\n",
       "                                                   CareDurationType  \\\n",
       "fichier                                                               \n",
       "c619f0e1-7c22-4047-adb2-df4dec6643ba_8214d80f-0...             Days   \n",
       "9d42ce6f-8537-49a9-a121-c8ae1dc7cda8_3ffbf9cc-b...              NaN   \n",
       "9d42ce6f-8537-49a9-a121-c8ae1dc7cda8_273dbe94-8...             Days   \n",
       "a5050600-95ef-43d8-a5fa-a57c791bf843_7e6b8930-4...             Days   \n",
       "55d674cc-3389-4cf6-ab7c-1f1b9fa1b6ed_4915ce53-0...              NaN   \n",
       "3e7ffb67-8872-4172-bf18-4fe338ecae3f_98c34931-c...             Days   \n",
       "74b154c1-e265-4cb9-8e71-0c9bbc3dc880_0a7fd90b-e...              NaN   \n",
       "9d42ce6f-8537-49a9-a121-c8ae1dc7cda8_9e347870-1...             Days   \n",
       "978eb126-14a0-46cf-bd27-44b6b77cecb7_3b1ee428-2...             Days   \n",
       "a5050600-95ef-43d8-a5fa-a57c791bf843_82dddb77-a...              NaN   \n",
       "9f980dcf-b431-4e67-876f-2b8e288b7900_1d110f73-5...              NaN   \n",
       "3e7ffb67-8872-4172-bf18-4fe338ecae3f_67b54ced-e...              NaN   \n",
       "f0caa21b-c11d-40a3-98ec-e2df3d2b9cc4_3585dfb8-f...             Days   \n",
       "b96ad235-2f4f-4236-9aa3-9df85dfcf7cb_71748131-8...              NaN   \n",
       "3e7ffb67-8872-4172-bf18-4fe338ecae3f_8a591970-7...             Days   \n",
       "3e7ffb67-8872-4172-bf18-4fe338ecae3f_2e324248-b...             Days   \n",
       "f0caa21b-c11d-40a3-98ec-e2df3d2b9cc4_93e7e1b8-f...             Days   \n",
       "978eb126-14a0-46cf-bd27-44b6b77cecb7_0ad4bf49-4...             Days   \n",
       "3e7ffb67-8872-4172-bf18-4fe338ecae3f_113b96b5-4...              NaN   \n",
       "a5050600-95ef-43d8-a5fa-a57c791bf843_9d3b65aa-5...              NaN   \n",
       "9f980dcf-b431-4e67-876f-2b8e288b7900_42ff336e-b...              NaN   \n",
       "f0caa21b-c11d-40a3-98ec-e2df3d2b9cc4_85a2e5bf-e...             Days   \n",
       "74b154c1-e265-4cb9-8e71-0c9bbc3dc880_0a7c082c-3...             Days   \n",
       "b96ad235-2f4f-4236-9aa3-9df85dfcf7cb_36581e6f-8...              NaN   \n",
       "f0caa21b-c11d-40a3-98ec-e2df3d2b9cc4_19c5b62d-e...             Days   \n",
       "2206f47b-a858-4f23-8696-d10e1050f2d7_3fc544b2-e...             Days   \n",
       "74b154c1-e265-4cb9-8e71-0c9bbc3dc880_5b0df381-7...             Days   \n",
       "2206f47b-a858-4f23-8696-d10e1050f2d7_1d5aa348-9...             Days   \n",
       "9f980dcf-b431-4e67-876f-2b8e288b7900_1cd21890-7...             Days   \n",
       "c619f0e1-7c22-4047-adb2-df4dec6643ba_5fcabdda-7...             Days   \n",
       "\n",
       "                                                         CareEnd  \n",
       "fichier                                                           \n",
       "c619f0e1-7c22-4047-adb2-df4dec6643ba_8214d80f-0...    17 janvier  \n",
       "9d42ce6f-8537-49a9-a121-c8ae1dc7cda8_3ffbf9cc-b...    8 décembre  \n",
       "9d42ce6f-8537-49a9-a121-c8ae1dc7cda8_273dbe94-8...   28 novembre  \n",
       "a5050600-95ef-43d8-a5fa-a57c791bf843_7e6b8930-4...       14 mars  \n",
       "55d674cc-3389-4cf6-ab7c-1f1b9fa1b6ed_4915ce53-0...      16 avril  \n",
       "3e7ffb67-8872-4172-bf18-4fe338ecae3f_98c34931-c...    20 février  \n",
       "74b154c1-e265-4cb9-8e71-0c9bbc3dc880_0a7fd90b-e...    18 juillet  \n",
       "9d42ce6f-8537-49a9-a121-c8ae1dc7cda8_9e347870-1...        4 mars  \n",
       "978eb126-14a0-46cf-bd27-44b6b77cecb7_3b1ee428-2...    27 octobre  \n",
       "a5050600-95ef-43d8-a5fa-a57c791bf843_82dddb77-a...       27 juin  \n",
       "9f980dcf-b431-4e67-876f-2b8e288b7900_1d110f73-5...        3 mars  \n",
       "3e7ffb67-8872-4172-bf18-4fe338ecae3f_67b54ced-e...  11 septembre  \n",
       "f0caa21b-c11d-40a3-98ec-e2df3d2b9cc4_3585dfb8-f...    17 janvier  \n",
       "b96ad235-2f4f-4236-9aa3-9df85dfcf7cb_71748131-8...       7 avril  \n",
       "3e7ffb67-8872-4172-bf18-4fe338ecae3f_8a591970-7...       2 avril  \n",
       "3e7ffb67-8872-4172-bf18-4fe338ecae3f_2e324248-b...   9 septembre  \n",
       "f0caa21b-c11d-40a3-98ec-e2df3d2b9cc4_93e7e1b8-f...    12 juillet  \n",
       "978eb126-14a0-46cf-bd27-44b6b77cecb7_0ad4bf49-4...     7 janvier  \n",
       "3e7ffb67-8872-4172-bf18-4fe338ecae3f_113b96b5-4...       18 août  \n",
       "a5050600-95ef-43d8-a5fa-a57c791bf843_9d3b65aa-5...        6 mars  \n",
       "9f980dcf-b431-4e67-876f-2b8e288b7900_42ff336e-b...       2 avril  \n",
       "f0caa21b-c11d-40a3-98ec-e2df3d2b9cc4_85a2e5bf-e...   25 novembre  \n",
       "74b154c1-e265-4cb9-8e71-0c9bbc3dc880_0a7c082c-3...       24 mars  \n",
       "b96ad235-2f4f-4236-9aa3-9df85dfcf7cb_36581e6f-8...       7 avril  \n",
       "f0caa21b-c11d-40a3-98ec-e2df3d2b9cc4_19c5b62d-e...        2 août  \n",
       "2206f47b-a858-4f23-8696-d10e1050f2d7_3fc544b2-e...     8 juillet  \n",
       "74b154c1-e265-4cb9-8e71-0c9bbc3dc880_5b0df381-7...       20 mars  \n",
       "2206f47b-a858-4f23-8696-d10e1050f2d7_1d5aa348-9...    10 février  \n",
       "9f980dcf-b431-4e67-876f-2b8e288b7900_1cd21890-7...       2 avril  \n",
       "c619f0e1-7c22-4047-adb2-df4dec6643ba_5fcabdda-7...    29 octobre  "
      ]
     },
     "execution_count": 181,
     "metadata": {},
     "output_type": "execute_result"
    }
   ],
   "source": [
    "last_test_copy = last_test.copy().dropna(subset=[\"Duration\",\"CareEnd\"])\n",
    "last_test_copy"
   ]
  },
  {
   "cell_type": "code",
   "execution_count": 182,
   "id": "f68e1e85",
   "metadata": {
    "scrolled": true
   },
   "outputs": [
    {
     "data": {
      "text/html": [
       "<div>\n",
       "<style scoped>\n",
       "    .dataframe tbody tr th:only-of-type {\n",
       "        vertical-align: middle;\n",
       "    }\n",
       "\n",
       "    .dataframe tbody tr th {\n",
       "        vertical-align: top;\n",
       "    }\n",
       "\n",
       "    .dataframe thead th {\n",
       "        text-align: right;\n",
       "    }\n",
       "</style>\n",
       "<table border=\"1\" class=\"dataframe\">\n",
       "  <thead>\n",
       "    <tr style=\"text-align: right;\">\n",
       "      <th></th>\n",
       "      <th>translation</th>\n",
       "      <th>Duration</th>\n",
       "      <th>Date</th>\n",
       "    </tr>\n",
       "    <tr>\n",
       "      <th>fichier</th>\n",
       "      <th></th>\n",
       "      <th></th>\n",
       "      <th></th>\n",
       "    </tr>\n",
       "  </thead>\n",
       "  <tbody>\n",
       "    <tr>\n",
       "      <th>9f980dcf-b431-4e67-876f-2b8e288b7900_3b5f3f01-e244-4398-8388-19fb5058c9c1</th>\n",
       "      <td>Prise de sang faite le 19 février à domicile p...</td>\n",
       "      <td>None</td>\n",
       "      <td>[2, 19]</td>\n",
       "    </tr>\n",
       "    <tr>\n",
       "      <th>2d035c4b-cdfa-4982-87dc-916fe07a0824_710f4bda-ba21-434f-883e-1b72df7ea27a</th>\n",
       "      <td>Pansement également refait le 23 mars par mylène.</td>\n",
       "      <td>None</td>\n",
       "      <td>[3, 23]</td>\n",
       "    </tr>\n",
       "    <tr>\n",
       "      <th>b96ad235-2f4f-4236-9aa3-9df85dfcf7cb_ff1697c1-a01f-4eb5-a1c2-b95205dc389a</th>\n",
       "      <td>Pcr plus prise de sang fait à domicile à 11.</td>\n",
       "      <td>None</td>\n",
       "      <td>None</td>\n",
       "    </tr>\n",
       "    <tr>\n",
       "      <th>3e7ffb67-8872-4172-bf18-4fe338ecae3f_6e8b49e5-4213-45da-bad6-158592c7f731</th>\n",
       "      <td>Prise de sang et analyse stérile des urines à ...</td>\n",
       "      <td>None</td>\n",
       "      <td>[2, 18]</td>\n",
       "    </tr>\n",
       "    <tr>\n",
       "      <th>2d035c4b-cdfa-4982-87dc-916fe07a0824_56c749ad-eed8-407a-ae9e-a17ebf420cf4</th>\n",
       "      <td>Bonjour, merci de renouveler cette ordonnance ...</td>\n",
       "      <td>None</td>\n",
       "      <td>None</td>\n",
       "    </tr>\n",
       "    <tr>\n",
       "      <th>...</th>\n",
       "      <td>...</td>\n",
       "      <td>...</td>\n",
       "      <td>...</td>\n",
       "    </tr>\n",
       "    <tr>\n",
       "      <th>a5050600-95ef-43d8-a5fa-a57c791bf843_448853a4-f75e-403a-8fcb-8dfc18f0b4ec</th>\n",
       "      <td>Test antigénique réalisé cet après-midi à domi...</td>\n",
       "      <td>None</td>\n",
       "      <td>[99, 99]</td>\n",
       "    </tr>\n",
       "    <tr>\n",
       "      <th>2d035c4b-cdfa-4982-87dc-916fe07a0824_4fb0c6a1-0562-496a-ae88-1adadec059a6</th>\n",
       "      <td>Réalisation d'une prise de sang chez monsieur ...</td>\n",
       "      <td>None</td>\n",
       "      <td>[2, 24]</td>\n",
       "    </tr>\n",
       "    <tr>\n",
       "      <th>b96ad235-2f4f-4236-9aa3-9df85dfcf7cb_b8a5877a-b8ce-4347-b294-3aa46efbcb34</th>\n",
       "      <td>Ordonnance pour la préparation du pilulier en ...</td>\n",
       "      <td>None</td>\n",
       "      <td>[2, 1]</td>\n",
       "    </tr>\n",
       "    <tr>\n",
       "      <th>978eb126-14a0-46cf-bd27-44b6b77cecb7_01fc29bf-08c4-4e82-99be-8f9f24c5974b</th>\n",
       "      <td>Début des soins le 10 juin. Avec début des sou...</td>\n",
       "      <td>None</td>\n",
       "      <td>[6, 10]</td>\n",
       "    </tr>\n",
       "    <tr>\n",
       "      <th>2d035c4b-cdfa-4982-87dc-916fe07a0824_47d4e0f3-f2f0-4a19-9df1-8ab0894980f9</th>\n",
       "      <td>Prise de sang faite au domicile de la patiente...</td>\n",
       "      <td>None</td>\n",
       "      <td>None</td>\n",
       "    </tr>\n",
       "  </tbody>\n",
       "</table>\n",
       "<p>4029 rows × 3 columns</p>\n",
       "</div>"
      ],
      "text/plain": [
       "                                                                                          translation  \\\n",
       "fichier                                                                                                 \n",
       "9f980dcf-b431-4e67-876f-2b8e288b7900_3b5f3f01-e...  Prise de sang faite le 19 février à domicile p...   \n",
       "2d035c4b-cdfa-4982-87dc-916fe07a0824_710f4bda-b...  Pansement également refait le 23 mars par mylène.   \n",
       "b96ad235-2f4f-4236-9aa3-9df85dfcf7cb_ff1697c1-a...       Pcr plus prise de sang fait à domicile à 11.   \n",
       "3e7ffb67-8872-4172-bf18-4fe338ecae3f_6e8b49e5-4...  Prise de sang et analyse stérile des urines à ...   \n",
       "2d035c4b-cdfa-4982-87dc-916fe07a0824_56c749ad-e...  Bonjour, merci de renouveler cette ordonnance ...   \n",
       "...                                                                                               ...   \n",
       "a5050600-95ef-43d8-a5fa-a57c791bf843_448853a4-f...  Test antigénique réalisé cet après-midi à domi...   \n",
       "2d035c4b-cdfa-4982-87dc-916fe07a0824_4fb0c6a1-0...  Réalisation d'une prise de sang chez monsieur ...   \n",
       "b96ad235-2f4f-4236-9aa3-9df85dfcf7cb_b8a5877a-b...  Ordonnance pour la préparation du pilulier en ...   \n",
       "978eb126-14a0-46cf-bd27-44b6b77cecb7_01fc29bf-0...  Début des soins le 10 juin. Avec début des sou...   \n",
       "2d035c4b-cdfa-4982-87dc-916fe07a0824_47d4e0f3-f...  Prise de sang faite au domicile de la patiente...   \n",
       "\n",
       "                                                   Duration      Date  \n",
       "fichier                                                                \n",
       "9f980dcf-b431-4e67-876f-2b8e288b7900_3b5f3f01-e...     None   [2, 19]  \n",
       "2d035c4b-cdfa-4982-87dc-916fe07a0824_710f4bda-b...     None   [3, 23]  \n",
       "b96ad235-2f4f-4236-9aa3-9df85dfcf7cb_ff1697c1-a...     None      None  \n",
       "3e7ffb67-8872-4172-bf18-4fe338ecae3f_6e8b49e5-4...     None   [2, 18]  \n",
       "2d035c4b-cdfa-4982-87dc-916fe07a0824_56c749ad-e...     None      None  \n",
       "...                                                     ...       ...  \n",
       "a5050600-95ef-43d8-a5fa-a57c791bf843_448853a4-f...     None  [99, 99]  \n",
       "2d035c4b-cdfa-4982-87dc-916fe07a0824_4fb0c6a1-0...     None   [2, 24]  \n",
       "b96ad235-2f4f-4236-9aa3-9df85dfcf7cb_b8a5877a-b...     None    [2, 1]  \n",
       "978eb126-14a0-46cf-bd27-44b6b77cecb7_01fc29bf-0...     None   [6, 10]  \n",
       "2d035c4b-cdfa-4982-87dc-916fe07a0824_47d4e0f3-f...     None      None  \n",
       "\n",
       "[4029 rows x 3 columns]"
      ]
     },
     "execution_count": 182,
     "metadata": {},
     "output_type": "execute_result"
    }
   ],
   "source": [
    "last_test_v2 = Duration(path_spacy = \"../models/model_full/model-best\").get_data()\n",
    "last_test_v2"
   ]
  },
  {
   "cell_type": "code",
   "execution_count": 316,
   "id": "0859b555",
   "metadata": {},
   "outputs": [
    {
     "name": "stdout",
     "output_type": "stream",
     "text": [
      "(374, 3)\n"
     ]
    }
   ],
   "source": [
    "copycopy = last_test_v2.copy().dropna(subset=[\"Duration\"])\n",
    "print(copycopy.shape)"
   ]
  },
  {
   "cell_type": "code",
   "execution_count": 317,
   "id": "bdb4ebcb",
   "metadata": {},
   "outputs": [],
   "source": [
    "copycopy['test'] = copycopy[\"Duration\"].apply(lambda x: re.search(\"(?<=du\\s)\\w*?\\s?(\\d{1,2}\\s)\",x).string if re.search(\"(?<=du\\s)\\w*?\\s?(\\d{1,2}\\s)\",x) is not None else None)"
   ]
  },
  {
   "cell_type": "code",
   "execution_count": 323,
   "id": "1c0b4c52",
   "metadata": {
    "scrolled": true
   },
   "outputs": [
    {
     "data": {
      "text/html": [
       "<div>\n",
       "<style scoped>\n",
       "    .dataframe tbody tr th:only-of-type {\n",
       "        vertical-align: middle;\n",
       "    }\n",
       "\n",
       "    .dataframe tbody tr th {\n",
       "        vertical-align: top;\n",
       "    }\n",
       "\n",
       "    .dataframe thead th {\n",
       "        text-align: right;\n",
       "    }\n",
       "</style>\n",
       "<table border=\"1\" class=\"dataframe\">\n",
       "  <thead>\n",
       "    <tr style=\"text-align: right;\">\n",
       "      <th></th>\n",
       "      <th>translation</th>\n",
       "      <th>Duration</th>\n",
       "      <th>Date</th>\n",
       "      <th>test</th>\n",
       "    </tr>\n",
       "    <tr>\n",
       "      <th>fichier</th>\n",
       "      <th></th>\n",
       "      <th></th>\n",
       "      <th></th>\n",
       "      <th></th>\n",
       "    </tr>\n",
       "  </thead>\n",
       "  <tbody>\n",
       "    <tr>\n",
       "      <th>a5050600-95ef-43d8-a5fa-a57c791bf843_7e6b8930-4733-4700-a0ac-40d28720c7ec</th>\n",
       "      <td>Injection d'anticoagulants à planifier tous le...</td>\n",
       "      <td>du 5 mars au 14 mars</td>\n",
       "      <td>None</td>\n",
       "      <td>du 5 mars au 14 mars</td>\n",
       "    </tr>\n",
       "    <tr>\n",
       "      <th>9d42ce6f-8537-49a9-a121-c8ae1dc7cda8_3492f087-bb2b-49ae-82d5-2da4fa3656b6</th>\n",
       "      <td>Administration traitement ehpad Claudette Chen...</td>\n",
       "      <td>du 25 au 28 février</td>\n",
       "      <td>None</td>\n",
       "      <td>du 25 au 28 février</td>\n",
       "    </tr>\n",
       "    <tr>\n",
       "      <th>55d674cc-3389-4cf6-ab7c-1f1b9fa1b6ed_94d30710-8eb0-4bbb-8bea-f0d577006f5d</th>\n",
       "      <td>Faire pratiquer par une infirmière à domicile ...</td>\n",
       "      <td>du 12 au 21 février</td>\n",
       "      <td>[2, 21]</td>\n",
       "      <td>du 12 au 21 février</td>\n",
       "    </tr>\n",
       "    <tr>\n",
       "      <th>3e7ffb67-8872-4172-bf18-4fe338ecae3f_18f3b4fe-e953-471e-884d-2e7cede92edb</th>\n",
       "      <td>Merci de planifier également des prises de san...</td>\n",
       "      <td>du 14 mars</td>\n",
       "      <td>[3, 14]</td>\n",
       "      <td>du 14 mars</td>\n",
       "    </tr>\n",
       "    <tr>\n",
       "      <th>74b154c1-e265-4cb9-8e71-0c9bbc3dc880_6a8c906a-1c6b-4bc6-b86a-d21a553c6ed4</th>\n",
       "      <td>monsieur Didier Nicolas, ordonnance du 25 mars...</td>\n",
       "      <td>du 25 mars</td>\n",
       "      <td>[3, 25]</td>\n",
       "      <td>du 25 mars</td>\n",
       "    </tr>\n",
       "    <tr>\n",
       "      <th>9d42ce6f-8537-49a9-a121-c8ae1dc7cda8_47fa45f9-0a6f-4709-9184-3e58865cb49d</th>\n",
       "      <td>Administration traitement ehpad Claudette Chen...</td>\n",
       "      <td>du 25 au 28 février</td>\n",
       "      <td>None</td>\n",
       "      <td>du 25 au 28 février</td>\n",
       "    </tr>\n",
       "    <tr>\n",
       "      <th>9f980dcf-b431-4e67-876f-2b8e288b7900_1d110f73-529d-474c-a36a-4f6f3a713d6b</th>\n",
       "      <td>Intramusculaire programmé matin et soir. parti...</td>\n",
       "      <td>du 3 mars et jusqu'au 6 mars inclus</td>\n",
       "      <td>None</td>\n",
       "      <td>du 3 mars et jusqu'au 6 mars inclus</td>\n",
       "    </tr>\n",
       "    <tr>\n",
       "      <th>2206f47b-a858-4f23-8696-d10e1050f2d7_2a6c1cf5-5afa-4970-948a-7c46571a26fc</th>\n",
       "      <td>Donc nouvelle ordonnance par madame Didier Den...</td>\n",
       "      <td>du 11 décembre</td>\n",
       "      <td>[12, 12]</td>\n",
       "      <td>du 11 décembre</td>\n",
       "    </tr>\n",
       "    <tr>\n",
       "      <th>8a3df958-343b-4cf2-9134-6c49839ebf08_2239280f-fed7-4cbe-b172-aa97a7ff48fb</th>\n",
       "      <td>Alors madame fabre, on commencé du 25 et on fi...</td>\n",
       "      <td>du 25 et on finit</td>\n",
       "      <td>[99, 99]</td>\n",
       "      <td>du 25 et on finit</td>\n",
       "    </tr>\n",
       "    <tr>\n",
       "      <th>2d035c4b-cdfa-4982-87dc-916fe07a0824_54e15d3a-b146-4d40-84ae-0c4ae1ec472b</th>\n",
       "      <td>Pansement AMI2 tous les jours 18h-18h30 du 12 ...</td>\n",
       "      <td>du 12 au 21 mai</td>\n",
       "      <td>None</td>\n",
       "      <td>du 12 au 21 mai</td>\n",
       "    </tr>\n",
       "    <tr>\n",
       "      <th>74b154c1-e265-4cb9-8e71-0c9bbc3dc880_0a7c082c-3ccd-4619-8e31-013507cd5efb</th>\n",
       "      <td>Madame Didier Denise à ordonnance du 24 décemb...</td>\n",
       "      <td>du 24 décembre au 24 mars 2022</td>\n",
       "      <td>[12, 24]</td>\n",
       "      <td>du 24 décembre au 24 mars 2022</td>\n",
       "    </tr>\n",
       "    <tr>\n",
       "      <th>9d42ce6f-8537-49a9-a121-c8ae1dc7cda8_345cbb38-4bc0-4554-9404-f9b7986946f9</th>\n",
       "      <td>Administration, traitement ehpad Cloudetchene,...</td>\n",
       "      <td>du 25 au 28 février</td>\n",
       "      <td>None</td>\n",
       "      <td>du 25 au 28 février</td>\n",
       "    </tr>\n",
       "  </tbody>\n",
       "</table>\n",
       "</div>"
      ],
      "text/plain": [
       "                                                                                          translation  \\\n",
       "fichier                                                                                                 \n",
       "a5050600-95ef-43d8-a5fa-a57c791bf843_7e6b8930-4...  Injection d'anticoagulants à planifier tous le...   \n",
       "9d42ce6f-8537-49a9-a121-c8ae1dc7cda8_3492f087-b...  Administration traitement ehpad Claudette Chen...   \n",
       "55d674cc-3389-4cf6-ab7c-1f1b9fa1b6ed_94d30710-8...  Faire pratiquer par une infirmière à domicile ...   \n",
       "3e7ffb67-8872-4172-bf18-4fe338ecae3f_18f3b4fe-e...  Merci de planifier également des prises de san...   \n",
       "74b154c1-e265-4cb9-8e71-0c9bbc3dc880_6a8c906a-1...  monsieur Didier Nicolas, ordonnance du 25 mars...   \n",
       "9d42ce6f-8537-49a9-a121-c8ae1dc7cda8_47fa45f9-0...  Administration traitement ehpad Claudette Chen...   \n",
       "9f980dcf-b431-4e67-876f-2b8e288b7900_1d110f73-5...  Intramusculaire programmé matin et soir. parti...   \n",
       "2206f47b-a858-4f23-8696-d10e1050f2d7_2a6c1cf5-5...  Donc nouvelle ordonnance par madame Didier Den...   \n",
       "8a3df958-343b-4cf2-9134-6c49839ebf08_2239280f-f...  Alors madame fabre, on commencé du 25 et on fi...   \n",
       "2d035c4b-cdfa-4982-87dc-916fe07a0824_54e15d3a-b...  Pansement AMI2 tous les jours 18h-18h30 du 12 ...   \n",
       "74b154c1-e265-4cb9-8e71-0c9bbc3dc880_0a7c082c-3...  Madame Didier Denise à ordonnance du 24 décemb...   \n",
       "9d42ce6f-8537-49a9-a121-c8ae1dc7cda8_345cbb38-4...  Administration, traitement ehpad Cloudetchene,...   \n",
       "\n",
       "                                                                               Duration  \\\n",
       "fichier                                                                                   \n",
       "a5050600-95ef-43d8-a5fa-a57c791bf843_7e6b8930-4...                 du 5 mars au 14 mars   \n",
       "9d42ce6f-8537-49a9-a121-c8ae1dc7cda8_3492f087-b...                  du 25 au 28 février   \n",
       "55d674cc-3389-4cf6-ab7c-1f1b9fa1b6ed_94d30710-8...                  du 12 au 21 février   \n",
       "3e7ffb67-8872-4172-bf18-4fe338ecae3f_18f3b4fe-e...                           du 14 mars   \n",
       "74b154c1-e265-4cb9-8e71-0c9bbc3dc880_6a8c906a-1...                           du 25 mars   \n",
       "9d42ce6f-8537-49a9-a121-c8ae1dc7cda8_47fa45f9-0...                  du 25 au 28 février   \n",
       "9f980dcf-b431-4e67-876f-2b8e288b7900_1d110f73-5...  du 3 mars et jusqu'au 6 mars inclus   \n",
       "2206f47b-a858-4f23-8696-d10e1050f2d7_2a6c1cf5-5...                       du 11 décembre   \n",
       "8a3df958-343b-4cf2-9134-6c49839ebf08_2239280f-f...                    du 25 et on finit   \n",
       "2d035c4b-cdfa-4982-87dc-916fe07a0824_54e15d3a-b...                      du 12 au 21 mai   \n",
       "74b154c1-e265-4cb9-8e71-0c9bbc3dc880_0a7c082c-3...       du 24 décembre au 24 mars 2022   \n",
       "9d42ce6f-8537-49a9-a121-c8ae1dc7cda8_345cbb38-4...                  du 25 au 28 février   \n",
       "\n",
       "                                                        Date  \\\n",
       "fichier                                                        \n",
       "a5050600-95ef-43d8-a5fa-a57c791bf843_7e6b8930-4...      None   \n",
       "9d42ce6f-8537-49a9-a121-c8ae1dc7cda8_3492f087-b...      None   \n",
       "55d674cc-3389-4cf6-ab7c-1f1b9fa1b6ed_94d30710-8...   [2, 21]   \n",
       "3e7ffb67-8872-4172-bf18-4fe338ecae3f_18f3b4fe-e...   [3, 14]   \n",
       "74b154c1-e265-4cb9-8e71-0c9bbc3dc880_6a8c906a-1...   [3, 25]   \n",
       "9d42ce6f-8537-49a9-a121-c8ae1dc7cda8_47fa45f9-0...      None   \n",
       "9f980dcf-b431-4e67-876f-2b8e288b7900_1d110f73-5...      None   \n",
       "2206f47b-a858-4f23-8696-d10e1050f2d7_2a6c1cf5-5...  [12, 12]   \n",
       "8a3df958-343b-4cf2-9134-6c49839ebf08_2239280f-f...  [99, 99]   \n",
       "2d035c4b-cdfa-4982-87dc-916fe07a0824_54e15d3a-b...      None   \n",
       "74b154c1-e265-4cb9-8e71-0c9bbc3dc880_0a7c082c-3...  [12, 24]   \n",
       "9d42ce6f-8537-49a9-a121-c8ae1dc7cda8_345cbb38-4...      None   \n",
       "\n",
       "                                                                                   test  \n",
       "fichier                                                                                  \n",
       "a5050600-95ef-43d8-a5fa-a57c791bf843_7e6b8930-4...                 du 5 mars au 14 mars  \n",
       "9d42ce6f-8537-49a9-a121-c8ae1dc7cda8_3492f087-b...                  du 25 au 28 février  \n",
       "55d674cc-3389-4cf6-ab7c-1f1b9fa1b6ed_94d30710-8...                  du 12 au 21 février  \n",
       "3e7ffb67-8872-4172-bf18-4fe338ecae3f_18f3b4fe-e...                           du 14 mars  \n",
       "74b154c1-e265-4cb9-8e71-0c9bbc3dc880_6a8c906a-1...                           du 25 mars  \n",
       "9d42ce6f-8537-49a9-a121-c8ae1dc7cda8_47fa45f9-0...                  du 25 au 28 février  \n",
       "9f980dcf-b431-4e67-876f-2b8e288b7900_1d110f73-5...  du 3 mars et jusqu'au 6 mars inclus  \n",
       "2206f47b-a858-4f23-8696-d10e1050f2d7_2a6c1cf5-5...                       du 11 décembre  \n",
       "8a3df958-343b-4cf2-9134-6c49839ebf08_2239280f-f...                    du 25 et on finit  \n",
       "2d035c4b-cdfa-4982-87dc-916fe07a0824_54e15d3a-b...                      du 12 au 21 mai  \n",
       "74b154c1-e265-4cb9-8e71-0c9bbc3dc880_0a7c082c-3...       du 24 décembre au 24 mars 2022  \n",
       "9d42ce6f-8537-49a9-a121-c8ae1dc7cda8_345cbb38-4...                  du 25 au 28 février  "
      ]
     },
     "execution_count": 323,
     "metadata": {},
     "output_type": "execute_result"
    }
   ],
   "source": [
    "extract_test = copycopy.dropna(subset=[\"test\"])\n",
    "extract_test"
   ]
  },
  {
   "cell_type": "code",
   "execution_count": 324,
   "id": "f9d3be9c",
   "metadata": {},
   "outputs": [],
   "source": [
    "extract_test = Duration().apply_to_df(extract_test)"
   ]
  },
  {
   "cell_type": "code",
   "execution_count": 325,
   "id": "f4b9c64b",
   "metadata": {},
   "outputs": [
    {
     "data": {
      "text/plain": [
       "(12, 7)"
      ]
     },
     "execution_count": 325,
     "metadata": {},
     "output_type": "execute_result"
    }
   ],
   "source": [
    "extract_test.shape"
   ]
  },
  {
   "cell_type": "code",
   "execution_count": 326,
   "id": "cfab904c",
   "metadata": {},
   "outputs": [
    {
     "data": {
      "text/html": [
       "<div>\n",
       "<style scoped>\n",
       "    .dataframe tbody tr th:only-of-type {\n",
       "        vertical-align: middle;\n",
       "    }\n",
       "\n",
       "    .dataframe tbody tr th {\n",
       "        vertical-align: top;\n",
       "    }\n",
       "\n",
       "    .dataframe thead th {\n",
       "        text-align: right;\n",
       "    }\n",
       "</style>\n",
       "<table border=\"1\" class=\"dataframe\">\n",
       "  <thead>\n",
       "    <tr style=\"text-align: right;\">\n",
       "      <th></th>\n",
       "      <th>translation</th>\n",
       "      <th>Duration</th>\n",
       "      <th>Date</th>\n",
       "      <th>test</th>\n",
       "      <th>CareDuration</th>\n",
       "      <th>CareDurationType</th>\n",
       "      <th>CareEnd</th>\n",
       "    </tr>\n",
       "    <tr>\n",
       "      <th>fichier</th>\n",
       "      <th></th>\n",
       "      <th></th>\n",
       "      <th></th>\n",
       "      <th></th>\n",
       "      <th></th>\n",
       "      <th></th>\n",
       "      <th></th>\n",
       "    </tr>\n",
       "  </thead>\n",
       "  <tbody>\n",
       "    <tr>\n",
       "      <th>a5050600-95ef-43d8-a5fa-a57c791bf843_7e6b8930-4733-4700-a0ac-40d28720c7ec</th>\n",
       "      <td>Injection d'anticoagulants à planifier tous le...</td>\n",
       "      <td>du 5 mars au 14 mars</td>\n",
       "      <td>None</td>\n",
       "      <td>du 5 mars au 14 mars</td>\n",
       "      <td>9.0</td>\n",
       "      <td>Days</td>\n",
       "      <td>14 mars</td>\n",
       "    </tr>\n",
       "    <tr>\n",
       "      <th>9d42ce6f-8537-49a9-a121-c8ae1dc7cda8_3492f087-bb2b-49ae-82d5-2da4fa3656b6</th>\n",
       "      <td>Administration traitement ehpad Claudette Chen...</td>\n",
       "      <td>du 25 au 28 février</td>\n",
       "      <td>None</td>\n",
       "      <td>du 25 au 28 février</td>\n",
       "      <td>3.0</td>\n",
       "      <td>Days</td>\n",
       "      <td>28 février</td>\n",
       "    </tr>\n",
       "    <tr>\n",
       "      <th>55d674cc-3389-4cf6-ab7c-1f1b9fa1b6ed_94d30710-8eb0-4bbb-8bea-f0d577006f5d</th>\n",
       "      <td>Faire pratiquer par une infirmière à domicile ...</td>\n",
       "      <td>du 12 au 21 février</td>\n",
       "      <td>[2, 21]</td>\n",
       "      <td>du 12 au 21 février</td>\n",
       "      <td>9.0</td>\n",
       "      <td>Days</td>\n",
       "      <td>21 février</td>\n",
       "    </tr>\n",
       "    <tr>\n",
       "      <th>3e7ffb67-8872-4172-bf18-4fe338ecae3f_18f3b4fe-e953-471e-884d-2e7cede92edb</th>\n",
       "      <td>Merci de planifier également des prises de san...</td>\n",
       "      <td>du 14 mars</td>\n",
       "      <td>[3, 14]</td>\n",
       "      <td>du 14 mars</td>\n",
       "      <td>NaN</td>\n",
       "      <td>NaN</td>\n",
       "      <td>NaN</td>\n",
       "    </tr>\n",
       "    <tr>\n",
       "      <th>74b154c1-e265-4cb9-8e71-0c9bbc3dc880_6a8c906a-1c6b-4bc6-b86a-d21a553c6ed4</th>\n",
       "      <td>monsieur Didier Nicolas, ordonnance du 25 mars...</td>\n",
       "      <td>du 25 mars</td>\n",
       "      <td>[3, 25]</td>\n",
       "      <td>du 25 mars</td>\n",
       "      <td>NaN</td>\n",
       "      <td>NaN</td>\n",
       "      <td>NaN</td>\n",
       "    </tr>\n",
       "    <tr>\n",
       "      <th>9d42ce6f-8537-49a9-a121-c8ae1dc7cda8_47fa45f9-0a6f-4709-9184-3e58865cb49d</th>\n",
       "      <td>Administration traitement ehpad Claudette Chen...</td>\n",
       "      <td>du 25 au 28 février</td>\n",
       "      <td>None</td>\n",
       "      <td>du 25 au 28 février</td>\n",
       "      <td>3.0</td>\n",
       "      <td>Days</td>\n",
       "      <td>28 février</td>\n",
       "    </tr>\n",
       "    <tr>\n",
       "      <th>9f980dcf-b431-4e67-876f-2b8e288b7900_1d110f73-529d-474c-a36a-4f6f3a713d6b</th>\n",
       "      <td>Intramusculaire programmé matin et soir. parti...</td>\n",
       "      <td>du 3 mars et jusqu'au 6 mars inclus</td>\n",
       "      <td>None</td>\n",
       "      <td>du 3 mars et jusqu'au 6 mars inclus</td>\n",
       "      <td>NaN</td>\n",
       "      <td>NaN</td>\n",
       "      <td>3 mars</td>\n",
       "    </tr>\n",
       "    <tr>\n",
       "      <th>2206f47b-a858-4f23-8696-d10e1050f2d7_2a6c1cf5-5afa-4970-948a-7c46571a26fc</th>\n",
       "      <td>Donc nouvelle ordonnance par madame Didier Den...</td>\n",
       "      <td>du 11 décembre</td>\n",
       "      <td>[12, 12]</td>\n",
       "      <td>du 11 décembre</td>\n",
       "      <td>NaN</td>\n",
       "      <td>NaN</td>\n",
       "      <td>NaN</td>\n",
       "    </tr>\n",
       "    <tr>\n",
       "      <th>8a3df958-343b-4cf2-9134-6c49839ebf08_2239280f-fed7-4cbe-b172-aa97a7ff48fb</th>\n",
       "      <td>Alors madame fabre, on commencé du 25 et on fi...</td>\n",
       "      <td>du 25 et on finit</td>\n",
       "      <td>[99, 99]</td>\n",
       "      <td>du 25 et on finit</td>\n",
       "      <td>NaN</td>\n",
       "      <td>NaN</td>\n",
       "      <td>NaN</td>\n",
       "    </tr>\n",
       "    <tr>\n",
       "      <th>2d035c4b-cdfa-4982-87dc-916fe07a0824_54e15d3a-b146-4d40-84ae-0c4ae1ec472b</th>\n",
       "      <td>Pansement AMI2 tous les jours 18h-18h30 du 12 ...</td>\n",
       "      <td>du 12 au 21 mai</td>\n",
       "      <td>None</td>\n",
       "      <td>du 12 au 21 mai</td>\n",
       "      <td>9.0</td>\n",
       "      <td>Days</td>\n",
       "      <td>21 mai</td>\n",
       "    </tr>\n",
       "    <tr>\n",
       "      <th>74b154c1-e265-4cb9-8e71-0c9bbc3dc880_0a7c082c-3ccd-4619-8e31-013507cd5efb</th>\n",
       "      <td>Madame Didier Denise à ordonnance du 24 décemb...</td>\n",
       "      <td>du 24 décembre au 24 mars 2022</td>\n",
       "      <td>[12, 24]</td>\n",
       "      <td>du 24 décembre au 24 mars 2022</td>\n",
       "      <td>NaN</td>\n",
       "      <td>Days</td>\n",
       "      <td>24 mars</td>\n",
       "    </tr>\n",
       "    <tr>\n",
       "      <th>9d42ce6f-8537-49a9-a121-c8ae1dc7cda8_345cbb38-4bc0-4554-9404-f9b7986946f9</th>\n",
       "      <td>Administration, traitement ehpad Cloudetchene,...</td>\n",
       "      <td>du 25 au 28 février</td>\n",
       "      <td>None</td>\n",
       "      <td>du 25 au 28 février</td>\n",
       "      <td>3.0</td>\n",
       "      <td>Days</td>\n",
       "      <td>28 février</td>\n",
       "    </tr>\n",
       "  </tbody>\n",
       "</table>\n",
       "</div>"
      ],
      "text/plain": [
       "                                                                                          translation  \\\n",
       "fichier                                                                                                 \n",
       "a5050600-95ef-43d8-a5fa-a57c791bf843_7e6b8930-4...  Injection d'anticoagulants à planifier tous le...   \n",
       "9d42ce6f-8537-49a9-a121-c8ae1dc7cda8_3492f087-b...  Administration traitement ehpad Claudette Chen...   \n",
       "55d674cc-3389-4cf6-ab7c-1f1b9fa1b6ed_94d30710-8...  Faire pratiquer par une infirmière à domicile ...   \n",
       "3e7ffb67-8872-4172-bf18-4fe338ecae3f_18f3b4fe-e...  Merci de planifier également des prises de san...   \n",
       "74b154c1-e265-4cb9-8e71-0c9bbc3dc880_6a8c906a-1...  monsieur Didier Nicolas, ordonnance du 25 mars...   \n",
       "9d42ce6f-8537-49a9-a121-c8ae1dc7cda8_47fa45f9-0...  Administration traitement ehpad Claudette Chen...   \n",
       "9f980dcf-b431-4e67-876f-2b8e288b7900_1d110f73-5...  Intramusculaire programmé matin et soir. parti...   \n",
       "2206f47b-a858-4f23-8696-d10e1050f2d7_2a6c1cf5-5...  Donc nouvelle ordonnance par madame Didier Den...   \n",
       "8a3df958-343b-4cf2-9134-6c49839ebf08_2239280f-f...  Alors madame fabre, on commencé du 25 et on fi...   \n",
       "2d035c4b-cdfa-4982-87dc-916fe07a0824_54e15d3a-b...  Pansement AMI2 tous les jours 18h-18h30 du 12 ...   \n",
       "74b154c1-e265-4cb9-8e71-0c9bbc3dc880_0a7c082c-3...  Madame Didier Denise à ordonnance du 24 décemb...   \n",
       "9d42ce6f-8537-49a9-a121-c8ae1dc7cda8_345cbb38-4...  Administration, traitement ehpad Cloudetchene,...   \n",
       "\n",
       "                                                                               Duration  \\\n",
       "fichier                                                                                   \n",
       "a5050600-95ef-43d8-a5fa-a57c791bf843_7e6b8930-4...                 du 5 mars au 14 mars   \n",
       "9d42ce6f-8537-49a9-a121-c8ae1dc7cda8_3492f087-b...                  du 25 au 28 février   \n",
       "55d674cc-3389-4cf6-ab7c-1f1b9fa1b6ed_94d30710-8...                  du 12 au 21 février   \n",
       "3e7ffb67-8872-4172-bf18-4fe338ecae3f_18f3b4fe-e...                           du 14 mars   \n",
       "74b154c1-e265-4cb9-8e71-0c9bbc3dc880_6a8c906a-1...                           du 25 mars   \n",
       "9d42ce6f-8537-49a9-a121-c8ae1dc7cda8_47fa45f9-0...                  du 25 au 28 février   \n",
       "9f980dcf-b431-4e67-876f-2b8e288b7900_1d110f73-5...  du 3 mars et jusqu'au 6 mars inclus   \n",
       "2206f47b-a858-4f23-8696-d10e1050f2d7_2a6c1cf5-5...                       du 11 décembre   \n",
       "8a3df958-343b-4cf2-9134-6c49839ebf08_2239280f-f...                    du 25 et on finit   \n",
       "2d035c4b-cdfa-4982-87dc-916fe07a0824_54e15d3a-b...                      du 12 au 21 mai   \n",
       "74b154c1-e265-4cb9-8e71-0c9bbc3dc880_0a7c082c-3...       du 24 décembre au 24 mars 2022   \n",
       "9d42ce6f-8537-49a9-a121-c8ae1dc7cda8_345cbb38-4...                  du 25 au 28 février   \n",
       "\n",
       "                                                        Date  \\\n",
       "fichier                                                        \n",
       "a5050600-95ef-43d8-a5fa-a57c791bf843_7e6b8930-4...      None   \n",
       "9d42ce6f-8537-49a9-a121-c8ae1dc7cda8_3492f087-b...      None   \n",
       "55d674cc-3389-4cf6-ab7c-1f1b9fa1b6ed_94d30710-8...   [2, 21]   \n",
       "3e7ffb67-8872-4172-bf18-4fe338ecae3f_18f3b4fe-e...   [3, 14]   \n",
       "74b154c1-e265-4cb9-8e71-0c9bbc3dc880_6a8c906a-1...   [3, 25]   \n",
       "9d42ce6f-8537-49a9-a121-c8ae1dc7cda8_47fa45f9-0...      None   \n",
       "9f980dcf-b431-4e67-876f-2b8e288b7900_1d110f73-5...      None   \n",
       "2206f47b-a858-4f23-8696-d10e1050f2d7_2a6c1cf5-5...  [12, 12]   \n",
       "8a3df958-343b-4cf2-9134-6c49839ebf08_2239280f-f...  [99, 99]   \n",
       "2d035c4b-cdfa-4982-87dc-916fe07a0824_54e15d3a-b...      None   \n",
       "74b154c1-e265-4cb9-8e71-0c9bbc3dc880_0a7c082c-3...  [12, 24]   \n",
       "9d42ce6f-8537-49a9-a121-c8ae1dc7cda8_345cbb38-4...      None   \n",
       "\n",
       "                                                                                   test  \\\n",
       "fichier                                                                                   \n",
       "a5050600-95ef-43d8-a5fa-a57c791bf843_7e6b8930-4...                 du 5 mars au 14 mars   \n",
       "9d42ce6f-8537-49a9-a121-c8ae1dc7cda8_3492f087-b...                  du 25 au 28 février   \n",
       "55d674cc-3389-4cf6-ab7c-1f1b9fa1b6ed_94d30710-8...                  du 12 au 21 février   \n",
       "3e7ffb67-8872-4172-bf18-4fe338ecae3f_18f3b4fe-e...                           du 14 mars   \n",
       "74b154c1-e265-4cb9-8e71-0c9bbc3dc880_6a8c906a-1...                           du 25 mars   \n",
       "9d42ce6f-8537-49a9-a121-c8ae1dc7cda8_47fa45f9-0...                  du 25 au 28 février   \n",
       "9f980dcf-b431-4e67-876f-2b8e288b7900_1d110f73-5...  du 3 mars et jusqu'au 6 mars inclus   \n",
       "2206f47b-a858-4f23-8696-d10e1050f2d7_2a6c1cf5-5...                       du 11 décembre   \n",
       "8a3df958-343b-4cf2-9134-6c49839ebf08_2239280f-f...                    du 25 et on finit   \n",
       "2d035c4b-cdfa-4982-87dc-916fe07a0824_54e15d3a-b...                      du 12 au 21 mai   \n",
       "74b154c1-e265-4cb9-8e71-0c9bbc3dc880_0a7c082c-3...       du 24 décembre au 24 mars 2022   \n",
       "9d42ce6f-8537-49a9-a121-c8ae1dc7cda8_345cbb38-4...                  du 25 au 28 février   \n",
       "\n",
       "                                                    CareDuration  \\\n",
       "fichier                                                            \n",
       "a5050600-95ef-43d8-a5fa-a57c791bf843_7e6b8930-4...           9.0   \n",
       "9d42ce6f-8537-49a9-a121-c8ae1dc7cda8_3492f087-b...           3.0   \n",
       "55d674cc-3389-4cf6-ab7c-1f1b9fa1b6ed_94d30710-8...           9.0   \n",
       "3e7ffb67-8872-4172-bf18-4fe338ecae3f_18f3b4fe-e...           NaN   \n",
       "74b154c1-e265-4cb9-8e71-0c9bbc3dc880_6a8c906a-1...           NaN   \n",
       "9d42ce6f-8537-49a9-a121-c8ae1dc7cda8_47fa45f9-0...           3.0   \n",
       "9f980dcf-b431-4e67-876f-2b8e288b7900_1d110f73-5...           NaN   \n",
       "2206f47b-a858-4f23-8696-d10e1050f2d7_2a6c1cf5-5...           NaN   \n",
       "8a3df958-343b-4cf2-9134-6c49839ebf08_2239280f-f...           NaN   \n",
       "2d035c4b-cdfa-4982-87dc-916fe07a0824_54e15d3a-b...           9.0   \n",
       "74b154c1-e265-4cb9-8e71-0c9bbc3dc880_0a7c082c-3...           NaN   \n",
       "9d42ce6f-8537-49a9-a121-c8ae1dc7cda8_345cbb38-4...           3.0   \n",
       "\n",
       "                                                   CareDurationType  \\\n",
       "fichier                                                               \n",
       "a5050600-95ef-43d8-a5fa-a57c791bf843_7e6b8930-4...             Days   \n",
       "9d42ce6f-8537-49a9-a121-c8ae1dc7cda8_3492f087-b...             Days   \n",
       "55d674cc-3389-4cf6-ab7c-1f1b9fa1b6ed_94d30710-8...             Days   \n",
       "3e7ffb67-8872-4172-bf18-4fe338ecae3f_18f3b4fe-e...              NaN   \n",
       "74b154c1-e265-4cb9-8e71-0c9bbc3dc880_6a8c906a-1...              NaN   \n",
       "9d42ce6f-8537-49a9-a121-c8ae1dc7cda8_47fa45f9-0...             Days   \n",
       "9f980dcf-b431-4e67-876f-2b8e288b7900_1d110f73-5...              NaN   \n",
       "2206f47b-a858-4f23-8696-d10e1050f2d7_2a6c1cf5-5...              NaN   \n",
       "8a3df958-343b-4cf2-9134-6c49839ebf08_2239280f-f...              NaN   \n",
       "2d035c4b-cdfa-4982-87dc-916fe07a0824_54e15d3a-b...             Days   \n",
       "74b154c1-e265-4cb9-8e71-0c9bbc3dc880_0a7c082c-3...             Days   \n",
       "9d42ce6f-8537-49a9-a121-c8ae1dc7cda8_345cbb38-4...             Days   \n",
       "\n",
       "                                                       CareEnd  \n",
       "fichier                                                         \n",
       "a5050600-95ef-43d8-a5fa-a57c791bf843_7e6b8930-4...     14 mars  \n",
       "9d42ce6f-8537-49a9-a121-c8ae1dc7cda8_3492f087-b...  28 février  \n",
       "55d674cc-3389-4cf6-ab7c-1f1b9fa1b6ed_94d30710-8...  21 février  \n",
       "3e7ffb67-8872-4172-bf18-4fe338ecae3f_18f3b4fe-e...         NaN  \n",
       "74b154c1-e265-4cb9-8e71-0c9bbc3dc880_6a8c906a-1...         NaN  \n",
       "9d42ce6f-8537-49a9-a121-c8ae1dc7cda8_47fa45f9-0...  28 février  \n",
       "9f980dcf-b431-4e67-876f-2b8e288b7900_1d110f73-5...      3 mars  \n",
       "2206f47b-a858-4f23-8696-d10e1050f2d7_2a6c1cf5-5...         NaN  \n",
       "8a3df958-343b-4cf2-9134-6c49839ebf08_2239280f-f...         NaN  \n",
       "2d035c4b-cdfa-4982-87dc-916fe07a0824_54e15d3a-b...      21 mai  \n",
       "74b154c1-e265-4cb9-8e71-0c9bbc3dc880_0a7c082c-3...     24 mars  \n",
       "9d42ce6f-8537-49a9-a121-c8ae1dc7cda8_345cbb38-4...  28 février  "
      ]
     },
     "execution_count": 326,
     "metadata": {},
     "output_type": "execute_result"
    }
   ],
   "source": [
    "extract_test"
   ]
  },
  {
   "cell_type": "code",
   "execution_count": 286,
   "id": "dd4e8795",
   "metadata": {},
   "outputs": [],
   "source": [
    "sentence = \"du 23 au 27 juin\""
   ]
  },
  {
   "cell_type": "code",
   "execution_count": 276,
   "id": "b281861b",
   "metadata": {},
   "outputs": [
    {
     "data": {
      "text/plain": [
       "<re.Match object; span=(0, 32), match='du lundi 23 juin 2022 au 27 juin'>"
      ]
     },
     "execution_count": 276,
     "metadata": {},
     "output_type": "execute_result"
    }
   ],
   "source": [
    "regex = \"du\\s\\w*?\\s?(\\d{1,2})\\s(\"+liste_mois+\"\\s)?(\\d{1,4}\\s)?au\\s\\w*?\\s?(\\d{1,2}\\s\"+liste_mois+\")\"\n",
    "re.search(regex, test)"
   ]
  },
  {
   "cell_type": "code",
   "execution_count": 277,
   "id": "10bca51c",
   "metadata": {},
   "outputs": [
    {
     "data": {
      "text/plain": [
       "<re.Match object; span=(3, 17), match='lundi 23 juin '>"
      ]
     },
     "execution_count": 277,
     "metadata": {},
     "output_type": "execute_result"
    }
   ],
   "source": [
    "regex = \"(?<=du\\s)\\w*?\\s?(\\d{1,2})\\s(\"+liste_mois+\")?\\s?\"\n",
    "re.search(regex, test)"
   ]
  },
  {
   "cell_type": "code",
   "execution_count": 284,
   "id": "82ed89a6",
   "metadata": {},
   "outputs": [
    {
     "data": {
      "text/plain": [
       "<re.Match object; span=(3, 16), match='23 au 27 juin'>"
      ]
     },
     "execution_count": 284,
     "metadata": {},
     "output_type": "execute_result"
    }
   ],
   "source": [
    "regex = \"(?<=du\\s)\\w*?\\s?(\\d{1,2})\\s(\"+liste_mois+\")?\\s?(\\d{1,4}\\s)?au\\s\\w*?\\s?(\\d{1,2}\\s\"+liste_mois+\")\"\n",
    "re.search(regex, test)"
   ]
  },
  {
   "cell_type": "code",
   "execution_count": 304,
   "id": "180a0714",
   "metadata": {},
   "outputs": [
    {
     "name": "stdout",
     "output_type": "stream",
     "text": [
      "<re.Match object; span=(3, 16), match='23 au 27 juin'>\n",
      "23 \n",
      "27 juin\n"
     ]
    }
   ],
   "source": [
    "test = re.search(regex, sentence)\n",
    "print(test)\n",
    "dico = {}\n",
    "start_date = re.search(\"(?<=du\\s)\\w*?\\s?(\\d{1,2})\\s(\"+liste_mois+\")?\\s?\", sentence).group()\n",
    "end_date = re.search('(?<=au\\s)\\w*?\\s?(\\d{1,2}\\s'+liste_mois+')', sentence).group()\n",
    "print(start_date)\n",
    "print(end_date)"
   ]
  },
  {
   "cell_type": "code",
   "execution_count": 305,
   "id": "440f69c7",
   "metadata": {},
   "outputs": [],
   "source": [
    "start_date_df = Date().transform_data(start_date)\n",
    "end_date_df = Date().transform_data(end_date)"
   ]
  },
  {
   "cell_type": "code",
   "execution_count": 306,
   "id": "b1cb74dc",
   "metadata": {},
   "outputs": [
    {
     "data": {
      "text/html": [
       "<div>\n",
       "<style scoped>\n",
       "    .dataframe tbody tr th:only-of-type {\n",
       "        vertical-align: middle;\n",
       "    }\n",
       "\n",
       "    .dataframe tbody tr th {\n",
       "        vertical-align: top;\n",
       "    }\n",
       "\n",
       "    .dataframe thead th {\n",
       "        text-align: right;\n",
       "    }\n",
       "</style>\n",
       "<table border=\"1\" class=\"dataframe\">\n",
       "  <thead>\n",
       "    <tr style=\"text-align: right;\">\n",
       "      <th></th>\n",
       "      <th>data</th>\n",
       "      <th>day</th>\n",
       "      <th>month</th>\n",
       "      <th>year</th>\n",
       "      <th>day_of_week</th>\n",
       "      <th>day_from_today</th>\n",
       "    </tr>\n",
       "  </thead>\n",
       "  <tbody>\n",
       "    <tr>\n",
       "      <th>0</th>\n",
       "      <td>[23]</td>\n",
       "      <td>23</td>\n",
       "      <td>99</td>\n",
       "      <td>99</td>\n",
       "      <td>99</td>\n",
       "      <td>99</td>\n",
       "    </tr>\n",
       "  </tbody>\n",
       "</table>\n",
       "</div>"
      ],
      "text/plain": [
       "   data  day  month  year  day_of_week  day_from_today\n",
       "0  [23]   23     99    99           99              99"
      ]
     },
     "execution_count": 306,
     "metadata": {},
     "output_type": "execute_result"
    }
   ],
   "source": [
    "start_date_df"
   ]
  },
  {
   "cell_type": "code",
   "execution_count": 307,
   "id": "bec8c473",
   "metadata": {},
   "outputs": [
    {
     "data": {
      "text/html": [
       "<div>\n",
       "<style scoped>\n",
       "    .dataframe tbody tr th:only-of-type {\n",
       "        vertical-align: middle;\n",
       "    }\n",
       "\n",
       "    .dataframe tbody tr th {\n",
       "        vertical-align: top;\n",
       "    }\n",
       "\n",
       "    .dataframe thead th {\n",
       "        text-align: right;\n",
       "    }\n",
       "</style>\n",
       "<table border=\"1\" class=\"dataframe\">\n",
       "  <thead>\n",
       "    <tr style=\"text-align: right;\">\n",
       "      <th></th>\n",
       "      <th>data</th>\n",
       "      <th>day</th>\n",
       "      <th>month</th>\n",
       "      <th>year</th>\n",
       "      <th>day_of_week</th>\n",
       "      <th>day_from_today</th>\n",
       "    </tr>\n",
       "  </thead>\n",
       "  <tbody>\n",
       "    <tr>\n",
       "      <th>0</th>\n",
       "      <td>[27, juin]</td>\n",
       "      <td>27</td>\n",
       "      <td>6</td>\n",
       "      <td>99</td>\n",
       "      <td>99</td>\n",
       "      <td>99</td>\n",
       "    </tr>\n",
       "  </tbody>\n",
       "</table>\n",
       "</div>"
      ],
      "text/plain": [
       "         data  day  month  year  day_of_week  day_from_today\n",
       "0  [27, juin]   27      6    99           99              99"
      ]
     },
     "execution_count": 307,
     "metadata": {},
     "output_type": "execute_result"
    }
   ],
   "source": [
    "end_date_df"
   ]
  },
  {
   "cell_type": "code",
   "execution_count": 308,
   "id": "e0727ad4",
   "metadata": {},
   "outputs": [
    {
     "data": {
      "text/plain": [
       "datetime.date(2022, 6, 27)"
      ]
     },
     "execution_count": 308,
     "metadata": {},
     "output_type": "execute_result"
    }
   ],
   "source": [
    "end_date_datetime = datetime.date(2022,end_date_df.iloc[0,2],end_date_df.iloc[0,1])\n",
    "end_date_datetime"
   ]
  },
  {
   "cell_type": "code",
   "execution_count": 309,
   "id": "718e7e08",
   "metadata": {},
   "outputs": [
    {
     "data": {
      "text/plain": [
       "datetime.date(2022, 6, 23)"
      ]
     },
     "execution_count": 309,
     "metadata": {},
     "output_type": "execute_result"
    }
   ],
   "source": [
    "if start_date_df.iloc[0,2] == 99:\n",
    "    start_month = end_date_df.iloc[0,2]\n",
    "else:\n",
    "    start_month = start_date_df.iloc[0,2]\n",
    "start_date_datetime = datetime.date(2022,start_month,start_date_df.iloc[0,1])\n",
    "start_date_datetime"
   ]
  },
  {
   "cell_type": "code",
   "execution_count": 310,
   "id": "db74dcf0",
   "metadata": {},
   "outputs": [
    {
     "data": {
      "text/plain": [
       "4"
      ]
     },
     "execution_count": 310,
     "metadata": {},
     "output_type": "execute_result"
    }
   ],
   "source": [
    "diff = (end_date_datetime - start_date_datetime).days\n",
    "diff"
   ]
  },
  {
   "cell_type": "code",
   "execution_count": 311,
   "id": "68b7af11",
   "metadata": {},
   "outputs": [],
   "source": [
    "if diff <= 0:\n",
    "    dico[\"CareDuration\"] = [np.nan]\n",
    "else:\n",
    "    dico[\"CareDuration\"] = [diff]\n",
    "        # by default, CareDurationType is Days\n",
    "    dico[\"CareDurationType\"] = [\"Days\"]\n",
    "    dico[\"CareEnd\"] = [end_date]"
   ]
  },
  {
   "cell_type": "code",
   "execution_count": 312,
   "id": "0cc9cecf",
   "metadata": {},
   "outputs": [
    {
     "data": {
      "text/plain": [
       "{'CareDuration': [4], 'CareDurationType': ['Days'], 'CareEnd': ['27 juin']}"
      ]
     },
     "execution_count": 312,
     "metadata": {},
     "output_type": "execute_result"
    }
   ],
   "source": [
    "dico"
   ]
  },
  {
   "cell_type": "code",
   "execution_count": 313,
   "id": "b52bc8a9",
   "metadata": {},
   "outputs": [
    {
     "data": {
      "text/plain": [
       "{'CareDuration': [4], 'CareDurationType': ['Days'], 'CareEnd': ['27 juin']}"
      ]
     },
     "execution_count": 313,
     "metadata": {},
     "output_type": "execute_result"
    }
   ],
   "source": [
    "Duration().implicit_duration_2(sentence)"
   ]
  },
  {
   "cell_type": "code",
   "execution_count": 328,
   "id": "3a73c417",
   "metadata": {},
   "outputs": [
    {
     "data": {
      "text/plain": [
       "{'CareDuration': [nan], 'CareDurationType': [nan], 'CareEnd': ['27 juin']}"
      ]
     },
     "execution_count": 328,
     "metadata": {},
     "output_type": "execute_result"
    }
   ],
   "source": [
    "sentence = \"du lundi 23 juin 2022 et jusqu'au 27 juin\"\n",
    "Duration().get_duration(sentence)"
   ]
  }
 ],
 "metadata": {
  "kernelspec": {
   "display_name": "Python 3 (ipykernel)",
   "language": "python",
   "name": "python3"
  },
  "language_info": {
   "codemirror_mode": {
    "name": "ipython",
    "version": 3
   },
   "file_extension": ".py",
   "mimetype": "text/x-python",
   "name": "python",
   "nbconvert_exporter": "python",
   "pygments_lexer": "ipython3",
   "version": "3.8.12"
  },
  "toc": {
   "base_numbering": 1,
   "nav_menu": {},
   "number_sections": true,
   "sideBar": true,
   "skip_h1_title": false,
   "title_cell": "Table of Contents",
   "title_sidebar": "Contents",
   "toc_cell": false,
   "toc_position": {},
   "toc_section_display": true,
   "toc_window_display": false
  }
 },
 "nbformat": 4,
 "nbformat_minor": 5
}
