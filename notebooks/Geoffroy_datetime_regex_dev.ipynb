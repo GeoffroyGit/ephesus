{
 "cells": [
  {
   "cell_type": "code",
   "execution_count": 1,
   "id": "9510af3a",
   "metadata": {},
   "outputs": [],
   "source": [
    "import pandas as pd"
   ]
  },
  {
   "cell_type": "code",
   "execution_count": 2,
   "id": "98b021d8",
   "metadata": {},
   "outputs": [
    {
     "name": "stderr",
     "output_type": "stream",
     "text": [
      "2022-06-04 23:13:18.897275: W tensorflow/stream_executor/platform/default/dso_loader.cc:64] Could not load dynamic library 'libcudart.so.11.0'; dlerror: libcudart.so.11.0: cannot open shared object file: No such file or directory\n",
      "2022-06-04 23:13:18.897306: I tensorflow/stream_executor/cuda/cudart_stub.cc:29] Ignore above cudart dlerror if you do not have a GPU set up on your machine.\n"
     ]
    }
   ],
   "source": [
    "from ephesus.timedate import Date"
   ]
  },
  {
   "cell_type": "code",
   "execution_count": 3,
   "id": "57a15156",
   "metadata": {},
   "outputs": [],
   "source": [
    "test = Date(\"../models/model_v2/model-best\")"
   ]
  },
  {
   "cell_type": "code",
   "execution_count": 4,
   "id": "0231517e",
   "metadata": {},
   "outputs": [],
   "source": [
    "test.get_data()"
   ]
  },
  {
   "cell_type": "code",
   "execution_count": 5,
   "id": "36eb8860",
   "metadata": {},
   "outputs": [
    {
     "data": {
      "text/html": [
       "<div>\n",
       "<style scoped>\n",
       "    .dataframe tbody tr th:only-of-type {\n",
       "        vertical-align: middle;\n",
       "    }\n",
       "\n",
       "    .dataframe tbody tr th {\n",
       "        vertical-align: top;\n",
       "    }\n",
       "\n",
       "    .dataframe thead th {\n",
       "        text-align: right;\n",
       "    }\n",
       "</style>\n",
       "<table border=\"1\" class=\"dataframe\">\n",
       "  <thead>\n",
       "    <tr style=\"text-align: right;\">\n",
       "      <th></th>\n",
       "      <th>filename</th>\n",
       "      <th>date</th>\n",
       "    </tr>\n",
       "  </thead>\n",
       "  <tbody>\n",
       "    <tr>\n",
       "      <th>0</th>\n",
       "      <td>3e7ffb67-8872-4172-bf18-4fe338ecae3f_64e118fc-...</td>\n",
       "      <td>27 juillet</td>\n",
       "    </tr>\n",
       "    <tr>\n",
       "      <th>1</th>\n",
       "      <td>3e7ffb67-8872-4172-bf18-4fe338ecae3f_64e118fc-...</td>\n",
       "      <td>26 octobre</td>\n",
       "    </tr>\n",
       "    <tr>\n",
       "      <th>2</th>\n",
       "      <td>3e7ffb67-8872-4172-bf18-4fe338ecae3f_64e118fc-...</td>\n",
       "      <td>30 novembre</td>\n",
       "    </tr>\n",
       "    <tr>\n",
       "      <th>3</th>\n",
       "      <td>3e7ffb67-8872-4172-bf18-4fe338ecae3f_64e118fc-...</td>\n",
       "      <td>28 décembre</td>\n",
       "    </tr>\n",
       "    <tr>\n",
       "      <th>4</th>\n",
       "      <td>2d035c4b-cdfa-4982-87dc-916fe07a0824_50e8d80a-...</td>\n",
       "      <td>ce jour</td>\n",
       "    </tr>\n",
       "  </tbody>\n",
       "</table>\n",
       "</div>"
      ],
      "text/plain": [
       "                                            filename         date\n",
       "0  3e7ffb67-8872-4172-bf18-4fe338ecae3f_64e118fc-...   27 juillet\n",
       "1  3e7ffb67-8872-4172-bf18-4fe338ecae3f_64e118fc-...   26 octobre\n",
       "2  3e7ffb67-8872-4172-bf18-4fe338ecae3f_64e118fc-...  30 novembre\n",
       "3  3e7ffb67-8872-4172-bf18-4fe338ecae3f_64e118fc-...  28 décembre\n",
       "4  2d035c4b-cdfa-4982-87dc-916fe07a0824_50e8d80a-...      ce jour"
      ]
     },
     "execution_count": 5,
     "metadata": {},
     "output_type": "execute_result"
    }
   ],
   "source": [
    "test.df.head()"
   ]
  },
  {
   "cell_type": "code",
   "execution_count": 6,
   "id": "fcde0b3b",
   "metadata": {},
   "outputs": [
    {
     "data": {
      "text/html": [
       "<div>\n",
       "<style scoped>\n",
       "    .dataframe tbody tr th:only-of-type {\n",
       "        vertical-align: middle;\n",
       "    }\n",
       "\n",
       "    .dataframe tbody tr th {\n",
       "        vertical-align: top;\n",
       "    }\n",
       "\n",
       "    .dataframe thead th {\n",
       "        text-align: right;\n",
       "    }\n",
       "</style>\n",
       "<table border=\"1\" class=\"dataframe\">\n",
       "  <thead>\n",
       "    <tr style=\"text-align: right;\">\n",
       "      <th></th>\n",
       "      <th>filename</th>\n",
       "      <th>data</th>\n",
       "      <th>day</th>\n",
       "      <th>month</th>\n",
       "      <th>year</th>\n",
       "      <th>day_of_week</th>\n",
       "      <th>day_from_today</th>\n",
       "    </tr>\n",
       "  </thead>\n",
       "  <tbody>\n",
       "    <tr>\n",
       "      <th>0</th>\n",
       "      <td>3e7ffb67-8872-4172-bf18-4fe338ecae3f_64e118fc-...</td>\n",
       "      <td>[27, juillet]</td>\n",
       "      <td>27</td>\n",
       "      <td>7</td>\n",
       "      <td>99</td>\n",
       "      <td>99</td>\n",
       "      <td>99</td>\n",
       "    </tr>\n",
       "    <tr>\n",
       "      <th>1</th>\n",
       "      <td>3e7ffb67-8872-4172-bf18-4fe338ecae3f_64e118fc-...</td>\n",
       "      <td>[26, octobre]</td>\n",
       "      <td>26</td>\n",
       "      <td>10</td>\n",
       "      <td>99</td>\n",
       "      <td>99</td>\n",
       "      <td>99</td>\n",
       "    </tr>\n",
       "    <tr>\n",
       "      <th>2</th>\n",
       "      <td>3e7ffb67-8872-4172-bf18-4fe338ecae3f_64e118fc-...</td>\n",
       "      <td>[30, novembre]</td>\n",
       "      <td>30</td>\n",
       "      <td>11</td>\n",
       "      <td>99</td>\n",
       "      <td>99</td>\n",
       "      <td>99</td>\n",
       "    </tr>\n",
       "    <tr>\n",
       "      <th>3</th>\n",
       "      <td>3e7ffb67-8872-4172-bf18-4fe338ecae3f_64e118fc-...</td>\n",
       "      <td>[28, décembre]</td>\n",
       "      <td>28</td>\n",
       "      <td>12</td>\n",
       "      <td>99</td>\n",
       "      <td>99</td>\n",
       "      <td>99</td>\n",
       "    </tr>\n",
       "    <tr>\n",
       "      <th>4</th>\n",
       "      <td>2d035c4b-cdfa-4982-87dc-916fe07a0824_50e8d80a-...</td>\n",
       "      <td>[jour]</td>\n",
       "      <td>99</td>\n",
       "      <td>99</td>\n",
       "      <td>99</td>\n",
       "      <td>99</td>\n",
       "      <td>0</td>\n",
       "    </tr>\n",
       "  </tbody>\n",
       "</table>\n",
       "</div>"
      ],
      "text/plain": [
       "                                            filename            data  day  \\\n",
       "0  3e7ffb67-8872-4172-bf18-4fe338ecae3f_64e118fc-...   [27, juillet]   27   \n",
       "1  3e7ffb67-8872-4172-bf18-4fe338ecae3f_64e118fc-...   [26, octobre]   26   \n",
       "2  3e7ffb67-8872-4172-bf18-4fe338ecae3f_64e118fc-...  [30, novembre]   30   \n",
       "3  3e7ffb67-8872-4172-bf18-4fe338ecae3f_64e118fc-...  [28, décembre]   28   \n",
       "4  2d035c4b-cdfa-4982-87dc-916fe07a0824_50e8d80a-...          [jour]   99   \n",
       "\n",
       "   month  year  day_of_week  day_from_today  \n",
       "0      7    99           99              99  \n",
       "1     10    99           99              99  \n",
       "2     11    99           99              99  \n",
       "3     12    99           99              99  \n",
       "4     99    99           99               0  "
      ]
     },
     "execution_count": 6,
     "metadata": {},
     "output_type": "execute_result"
    }
   ],
   "source": [
    "df = test.transform_data()\n",
    "df.head()"
   ]
  },
  {
   "cell_type": "code",
   "execution_count": 9,
   "id": "dae4c3aa",
   "metadata": {},
   "outputs": [
    {
     "data": {
      "text/html": [
       "<div>\n",
       "<style scoped>\n",
       "    .dataframe tbody tr th:only-of-type {\n",
       "        vertical-align: middle;\n",
       "    }\n",
       "\n",
       "    .dataframe tbody tr th {\n",
       "        vertical-align: top;\n",
       "    }\n",
       "\n",
       "    .dataframe thead th {\n",
       "        text-align: right;\n",
       "    }\n",
       "</style>\n",
       "<table border=\"1\" class=\"dataframe\">\n",
       "  <thead>\n",
       "    <tr style=\"text-align: right;\">\n",
       "      <th></th>\n",
       "      <th>filename</th>\n",
       "      <th>data</th>\n",
       "      <th>day</th>\n",
       "      <th>month</th>\n",
       "      <th>year</th>\n",
       "      <th>day_of_week</th>\n",
       "      <th>day_from_today</th>\n",
       "    </tr>\n",
       "  </thead>\n",
       "  <tbody>\n",
       "    <tr>\n",
       "      <th>4114</th>\n",
       "      <td>2d035c4b-cdfa-4982-87dc-916fe07a0824_5d093a86-...</td>\n",
       "      <td>[28, 10]</td>\n",
       "      <td>28</td>\n",
       "      <td>10</td>\n",
       "      <td>99</td>\n",
       "      <td>99</td>\n",
       "      <td>99</td>\n",
       "    </tr>\n",
       "    <tr>\n",
       "      <th>4115</th>\n",
       "      <td>2d035c4b-cdfa-4982-87dc-916fe07a0824_440d48c4-...</td>\n",
       "      <td>[18, septembre, 2021]</td>\n",
       "      <td>18</td>\n",
       "      <td>9</td>\n",
       "      <td>2021</td>\n",
       "      <td>99</td>\n",
       "      <td>99</td>\n",
       "    </tr>\n",
       "    <tr>\n",
       "      <th>4116</th>\n",
       "      <td>55d674cc-3389-4cf6-ab7c-1f1b9fa1b6ed_2db874ba-...</td>\n",
       "      <td>[6, avril, 2021]</td>\n",
       "      <td>6</td>\n",
       "      <td>4</td>\n",
       "      <td>2021</td>\n",
       "      <td>99</td>\n",
       "      <td>99</td>\n",
       "    </tr>\n",
       "    <tr>\n",
       "      <th>4117</th>\n",
       "      <td>c619f0e1-7c22-4047-adb2-df4dec6643ba_a5e8a359-...</td>\n",
       "      <td>[20, juin]</td>\n",
       "      <td>20</td>\n",
       "      <td>6</td>\n",
       "      <td>99</td>\n",
       "      <td>99</td>\n",
       "      <td>99</td>\n",
       "    </tr>\n",
       "    <tr>\n",
       "      <th>4118</th>\n",
       "      <td>9f980dcf-b431-4e67-876f-2b8e288b7900_174af308-...</td>\n",
       "      <td>[22, février]</td>\n",
       "      <td>22</td>\n",
       "      <td>2</td>\n",
       "      <td>99</td>\n",
       "      <td>99</td>\n",
       "      <td>99</td>\n",
       "    </tr>\n",
       "  </tbody>\n",
       "</table>\n",
       "</div>"
      ],
      "text/plain": [
       "                                               filename  \\\n",
       "4114  2d035c4b-cdfa-4982-87dc-916fe07a0824_5d093a86-...   \n",
       "4115  2d035c4b-cdfa-4982-87dc-916fe07a0824_440d48c4-...   \n",
       "4116  55d674cc-3389-4cf6-ab7c-1f1b9fa1b6ed_2db874ba-...   \n",
       "4117  c619f0e1-7c22-4047-adb2-df4dec6643ba_a5e8a359-...   \n",
       "4118  9f980dcf-b431-4e67-876f-2b8e288b7900_174af308-...   \n",
       "\n",
       "                       data  day  month  year  day_of_week  day_from_today  \n",
       "4114               [28, 10]   28     10    99           99              99  \n",
       "4115  [18, septembre, 2021]   18      9  2021           99              99  \n",
       "4116       [6, avril, 2021]    6      4  2021           99              99  \n",
       "4117             [20, juin]   20      6    99           99              99  \n",
       "4118          [22, février]   22      2    99           99              99  "
      ]
     },
     "execution_count": 9,
     "metadata": {},
     "output_type": "execute_result"
    }
   ],
   "source": [
    "df.tail()"
   ]
  },
  {
   "cell_type": "markdown",
   "id": "59070673",
   "metadata": {},
   "source": [
    "# now, play with time"
   ]
  },
  {
   "cell_type": "code",
   "execution_count": 1,
   "id": "932ffbe9",
   "metadata": {},
   "outputs": [],
   "source": [
    "import time"
   ]
  },
  {
   "cell_type": "code",
   "execution_count": 2,
   "id": "9679784f",
   "metadata": {},
   "outputs": [
    {
     "name": "stderr",
     "output_type": "stream",
     "text": [
      "2022-06-05 00:52:28.635890: W tensorflow/stream_executor/platform/default/dso_loader.cc:64] Could not load dynamic library 'libcudart.so.11.0'; dlerror: libcudart.so.11.0: cannot open shared object file: No such file or directory\n",
      "2022-06-05 00:52:28.635916: I tensorflow/stream_executor/cuda/cudart_stub.cc:29] Ignore above cudart dlerror if you do not have a GPU set up on your machine.\n"
     ]
    }
   ],
   "source": [
    "from ephesus.timedate import Time"
   ]
  },
  {
   "cell_type": "code",
   "execution_count": 3,
   "id": "0a0a1a57",
   "metadata": {},
   "outputs": [
    {
     "name": "stdout",
     "output_type": "stream",
     "text": [
      "18 10\n"
     ]
    }
   ],
   "source": [
    "token = \"18h10\"\n",
    "\n",
    "time_formats = [\"%Hh%M\", \"%H %M\", \"%Hh\", \"%H\"]\n",
    "\n",
    "correct_format_found = False\n",
    "hour_min = False\n",
    "for time_format in time_formats:\n",
    "    try:\n",
    "        hour_min = time.strptime(token, time_format)\n",
    "        correct_format_found = True\n",
    "    except ValueError:\n",
    "        correct_format_found = False\n",
    "\n",
    "if hour_min:\n",
    "    hour = hour_min.tm_hour\n",
    "    minute = hour_min.tm_min\n",
    "else:\n",
    "    hour, minute = 99, 99\n",
    "    \n",
    "print(hour, minute)"
   ]
  },
  {
   "cell_type": "code",
   "execution_count": 4,
   "id": "11d24881",
   "metadata": {},
   "outputs": [],
   "source": [
    "path_spacy = \"../models/model_v2/model-best\"\n",
    "test = Time(path_spacy=path_spacy)\n",
    "test.get_data()"
   ]
  },
  {
   "cell_type": "code",
   "execution_count": 5,
   "id": "8637e90c",
   "metadata": {},
   "outputs": [
    {
     "data": {
      "text/plain": [
       "(12, 0)"
      ]
     },
     "execution_count": 5,
     "metadata": {},
     "output_type": "execute_result"
    }
   ],
   "source": [
    "test.get_plain_text_time([\"midi\"])"
   ]
  },
  {
   "cell_type": "code",
   "execution_count": 7,
   "id": "93173382",
   "metadata": {},
   "outputs": [
    {
     "data": {
      "text/html": [
       "<div>\n",
       "<style scoped>\n",
       "    .dataframe tbody tr th:only-of-type {\n",
       "        vertical-align: middle;\n",
       "    }\n",
       "\n",
       "    .dataframe tbody tr th {\n",
       "        vertical-align: top;\n",
       "    }\n",
       "\n",
       "    .dataframe thead th {\n",
       "        text-align: right;\n",
       "    }\n",
       "</style>\n",
       "<table border=\"1\" class=\"dataframe\">\n",
       "  <thead>\n",
       "    <tr style=\"text-align: right;\">\n",
       "      <th></th>\n",
       "      <th>data</th>\n",
       "      <th>time</th>\n",
       "    </tr>\n",
       "  </thead>\n",
       "  <tbody>\n",
       "    <tr>\n",
       "      <th>0</th>\n",
       "      <td>[11h]</td>\n",
       "      <td>(11, 0)</td>\n",
       "    </tr>\n",
       "    <tr>\n",
       "      <th>1</th>\n",
       "      <td>[8h15]</td>\n",
       "      <td>(8, 15)</td>\n",
       "    </tr>\n",
       "    <tr>\n",
       "      <th>2</th>\n",
       "      <td>[9h]</td>\n",
       "      <td>(9, 0)</td>\n",
       "    </tr>\n",
       "    <tr>\n",
       "      <th>3</th>\n",
       "      <td>[11h15]</td>\n",
       "      <td>(11, 15)</td>\n",
       "    </tr>\n",
       "    <tr>\n",
       "      <th>4</th>\n",
       "      <td>[19h15]</td>\n",
       "      <td>(19, 15)</td>\n",
       "    </tr>\n",
       "  </tbody>\n",
       "</table>\n",
       "</div>"
      ],
      "text/plain": [
       "      data      time\n",
       "0    [11h]   (11, 0)\n",
       "1   [8h15]   (8, 15)\n",
       "2     [9h]    (9, 0)\n",
       "3  [11h15]  (11, 15)\n",
       "4  [19h15]  (19, 15)"
      ]
     },
     "execution_count": 7,
     "metadata": {},
     "output_type": "execute_result"
    }
   ],
   "source": [
    "df = test.transform_data()\n",
    "df.head()"
   ]
  }
 ],
 "metadata": {
  "kernelspec": {
   "display_name": "Python 3 (ipykernel)",
   "language": "python",
   "name": "python3"
  },
  "language_info": {
   "codemirror_mode": {
    "name": "ipython",
    "version": 3
   },
   "file_extension": ".py",
   "mimetype": "text/x-python",
   "name": "python",
   "nbconvert_exporter": "python",
   "pygments_lexer": "ipython3",
   "version": "3.8.12"
  },
  "toc": {
   "base_numbering": 1,
   "nav_menu": {},
   "number_sections": true,
   "sideBar": true,
   "skip_h1_title": false,
   "title_cell": "Table of Contents",
   "title_sidebar": "Contents",
   "toc_cell": false,
   "toc_position": {},
   "toc_section_display": true,
   "toc_window_display": false
  },
  "varInspector": {
   "cols": {
    "lenName": 16,
    "lenType": 16,
    "lenVar": 40
   },
   "kernels_config": {
    "python": {
     "delete_cmd_postfix": "",
     "delete_cmd_prefix": "del ",
     "library": "var_list.py",
     "varRefreshCmd": "print(var_dic_list())"
    },
    "r": {
     "delete_cmd_postfix": ") ",
     "delete_cmd_prefix": "rm(",
     "library": "var_list.r",
     "varRefreshCmd": "cat(var_dic_list()) "
    }
   },
   "types_to_exclude": [
    "module",
    "function",
    "builtin_function_or_method",
    "instance",
    "_Feature"
   ],
   "window_display": false
  }
 },
 "nbformat": 4,
 "nbformat_minor": 5
}
