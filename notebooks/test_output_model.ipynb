{
 "cells": [
  {
   "cell_type": "code",
   "execution_count": 5,
   "id": "956b5f0f",
   "metadata": {},
   "outputs": [],
   "source": [
    "import pandas as pd\n",
    "import numpy as np \n",
    "import spacy\n",
    "\n",
    "import seaborn as sns\n",
    "import matplotlib.pyplot as plt\n",
    "\n",
    "from ephesus.data import *\n",
    "from ephesus.sentence import *"
   ]
  },
  {
   "cell_type": "code",
   "execution_count": 8,
   "id": "9230e54a",
   "metadata": {},
   "outputs": [
    {
     "data": {
      "text/html": [
       "<div>\n",
       "<style scoped>\n",
       "    .dataframe tbody tr th:only-of-type {\n",
       "        vertical-align: middle;\n",
       "    }\n",
       "\n",
       "    .dataframe tbody tr th {\n",
       "        vertical-align: top;\n",
       "    }\n",
       "\n",
       "    .dataframe thead th {\n",
       "        text-align: right;\n",
       "    }\n",
       "</style>\n",
       "<table border=\"1\" class=\"dataframe\">\n",
       "  <thead>\n",
       "    <tr style=\"text-align: right;\">\n",
       "      <th></th>\n",
       "      <th>translation</th>\n",
       "      <th>TreatmentDetected_1</th>\n",
       "      <th>NGAP_1</th>\n",
       "      <th>Cotation_1</th>\n",
       "      <th>Hour_1</th>\n",
       "      <th>AldRelated_1</th>\n",
       "      <th>CareBeginDate_1</th>\n",
       "      <th>CareDuration_1</th>\n",
       "      <th>CareDurationTypeEnum_1</th>\n",
       "      <th>CareOnPublicHoliday_1</th>\n",
       "      <th>CareLocation_1</th>\n",
       "      <th>CareBeginHpName_1</th>\n",
       "      <th>ZoneName_1</th>\n",
       "      <th>IK_1</th>\n",
       "    </tr>\n",
       "    <tr>\n",
       "      <th>fichier</th>\n",
       "      <th></th>\n",
       "      <th></th>\n",
       "      <th></th>\n",
       "      <th></th>\n",
       "      <th></th>\n",
       "      <th></th>\n",
       "      <th></th>\n",
       "      <th></th>\n",
       "      <th></th>\n",
       "      <th></th>\n",
       "      <th></th>\n",
       "      <th></th>\n",
       "      <th></th>\n",
       "      <th></th>\n",
       "    </tr>\n",
       "  </thead>\n",
       "  <tbody>\n",
       "    <tr>\n",
       "      <th>9f980dcf-b431-4e67-876f-2b8e288b7900_3b5f3f01-e244-4398-8388-19fb5058c9c1</th>\n",
       "      <td>Prise de sang faite le 19 février à domicile p...</td>\n",
       "      <td>NaN</td>\n",
       "      <td>PSG</td>\n",
       "      <td>NaN</td>\n",
       "      <td>10:00:00</td>\n",
       "      <td>True</td>\n",
       "      <td>2022-02-19T10:00:00</td>\n",
       "      <td>1</td>\n",
       "      <td>Days</td>\n",
       "      <td>True</td>\n",
       "      <td>Domicile</td>\n",
       "      <td>Bouvet Pauline</td>\n",
       "      <td>NaN</td>\n",
       "      <td>{'KilometersNumberPlain': None, 'KilometersNum...</td>\n",
       "    </tr>\n",
       "    <tr>\n",
       "      <th>2d035c4b-cdfa-4982-87dc-916fe07a0824_710f4bda-ba21-434f-883e-1b72df7ea27a</th>\n",
       "      <td>Pansement également refait le 23 mars par mylène.</td>\n",
       "      <td>NaN</td>\n",
       "      <td>PSTA</td>\n",
       "      <td>NaN</td>\n",
       "      <td>18:00:00</td>\n",
       "      <td>True</td>\n",
       "      <td>2022-03-23T18:00:00</td>\n",
       "      <td>1</td>\n",
       "      <td>Days</td>\n",
       "      <td>True</td>\n",
       "      <td>Domicile</td>\n",
       "      <td>Scheuer Mylène</td>\n",
       "      <td>NaN</td>\n",
       "      <td>NaN</td>\n",
       "    </tr>\n",
       "    <tr>\n",
       "      <th>b96ad235-2f4f-4236-9aa3-9df85dfcf7cb_ff1697c1-a01f-4eb5-a1c2-b95205dc389a</th>\n",
       "      <td>Pcr plus prise de sang fait à domicile à 11.</td>\n",
       "      <td>NaN</td>\n",
       "      <td>PV19</td>\n",
       "      <td>NaN</td>\n",
       "      <td>11:00:00</td>\n",
       "      <td>False</td>\n",
       "      <td>2022-03-12T11:00:00</td>\n",
       "      <td>1</td>\n",
       "      <td>Days</td>\n",
       "      <td>True</td>\n",
       "      <td>Domicile</td>\n",
       "      <td>NaN</td>\n",
       "      <td>NaN</td>\n",
       "      <td>NaN</td>\n",
       "    </tr>\n",
       "    <tr>\n",
       "      <th>3e7ffb67-8872-4172-bf18-4fe338ecae3f_6e8b49e5-4213-45da-bad6-158592c7f731</th>\n",
       "      <td>Prise de sang et analyse stérile des urines à ...</td>\n",
       "      <td>NaN</td>\n",
       "      <td>PLVA</td>\n",
       "      <td>NaN</td>\n",
       "      <td>09:00:00</td>\n",
       "      <td>True</td>\n",
       "      <td>2022-02-18T09:00:00</td>\n",
       "      <td>1</td>\n",
       "      <td>Days</td>\n",
       "      <td>True</td>\n",
       "      <td>Domicile</td>\n",
       "      <td>NaN</td>\n",
       "      <td>NaN</td>\n",
       "      <td>NaN</td>\n",
       "    </tr>\n",
       "    <tr>\n",
       "      <th>2d035c4b-cdfa-4982-87dc-916fe07a0824_56c749ad-eed8-407a-ae9e-a17ebf420cf4</th>\n",
       "      <td>Bonjour, merci de renouveler cette ordonnance ...</td>\n",
       "      <td>NaN</td>\n",
       "      <td>PLM</td>\n",
       "      <td>NaN</td>\n",
       "      <td>16:00:00</td>\n",
       "      <td>False</td>\n",
       "      <td>2022-03-18T16:00:00</td>\n",
       "      <td>2</td>\n",
       "      <td>Months</td>\n",
       "      <td>True</td>\n",
       "      <td>Domicile</td>\n",
       "      <td>NaN</td>\n",
       "      <td>NaN</td>\n",
       "      <td>NaN</td>\n",
       "    </tr>\n",
       "  </tbody>\n",
       "</table>\n",
       "</div>"
      ],
      "text/plain": [
       "                                                                                          translation  \\\n",
       "fichier                                                                                                 \n",
       "9f980dcf-b431-4e67-876f-2b8e288b7900_3b5f3f01-e...  Prise de sang faite le 19 février à domicile p...   \n",
       "2d035c4b-cdfa-4982-87dc-916fe07a0824_710f4bda-b...  Pansement également refait le 23 mars par mylène.   \n",
       "b96ad235-2f4f-4236-9aa3-9df85dfcf7cb_ff1697c1-a...       Pcr plus prise de sang fait à domicile à 11.   \n",
       "3e7ffb67-8872-4172-bf18-4fe338ecae3f_6e8b49e5-4...  Prise de sang et analyse stérile des urines à ...   \n",
       "2d035c4b-cdfa-4982-87dc-916fe07a0824_56c749ad-e...  Bonjour, merci de renouveler cette ordonnance ...   \n",
       "\n",
       "                                                    TreatmentDetected_1  \\\n",
       "fichier                                                                   \n",
       "9f980dcf-b431-4e67-876f-2b8e288b7900_3b5f3f01-e...                  NaN   \n",
       "2d035c4b-cdfa-4982-87dc-916fe07a0824_710f4bda-b...                  NaN   \n",
       "b96ad235-2f4f-4236-9aa3-9df85dfcf7cb_ff1697c1-a...                  NaN   \n",
       "3e7ffb67-8872-4172-bf18-4fe338ecae3f_6e8b49e5-4...                  NaN   \n",
       "2d035c4b-cdfa-4982-87dc-916fe07a0824_56c749ad-e...                  NaN   \n",
       "\n",
       "                                                   NGAP_1 Cotation_1  \\\n",
       "fichier                                                                \n",
       "9f980dcf-b431-4e67-876f-2b8e288b7900_3b5f3f01-e...    PSG        NaN   \n",
       "2d035c4b-cdfa-4982-87dc-916fe07a0824_710f4bda-b...   PSTA        NaN   \n",
       "b96ad235-2f4f-4236-9aa3-9df85dfcf7cb_ff1697c1-a...   PV19        NaN   \n",
       "3e7ffb67-8872-4172-bf18-4fe338ecae3f_6e8b49e5-4...   PLVA        NaN   \n",
       "2d035c4b-cdfa-4982-87dc-916fe07a0824_56c749ad-e...    PLM        NaN   \n",
       "\n",
       "                                                      Hour_1  AldRelated_1  \\\n",
       "fichier                                                                      \n",
       "9f980dcf-b431-4e67-876f-2b8e288b7900_3b5f3f01-e...  10:00:00          True   \n",
       "2d035c4b-cdfa-4982-87dc-916fe07a0824_710f4bda-b...  18:00:00          True   \n",
       "b96ad235-2f4f-4236-9aa3-9df85dfcf7cb_ff1697c1-a...  11:00:00         False   \n",
       "3e7ffb67-8872-4172-bf18-4fe338ecae3f_6e8b49e5-4...  09:00:00          True   \n",
       "2d035c4b-cdfa-4982-87dc-916fe07a0824_56c749ad-e...  16:00:00         False   \n",
       "\n",
       "                                                        CareBeginDate_1  \\\n",
       "fichier                                                                   \n",
       "9f980dcf-b431-4e67-876f-2b8e288b7900_3b5f3f01-e...  2022-02-19T10:00:00   \n",
       "2d035c4b-cdfa-4982-87dc-916fe07a0824_710f4bda-b...  2022-03-23T18:00:00   \n",
       "b96ad235-2f4f-4236-9aa3-9df85dfcf7cb_ff1697c1-a...  2022-03-12T11:00:00   \n",
       "3e7ffb67-8872-4172-bf18-4fe338ecae3f_6e8b49e5-4...  2022-02-18T09:00:00   \n",
       "2d035c4b-cdfa-4982-87dc-916fe07a0824_56c749ad-e...  2022-03-18T16:00:00   \n",
       "\n",
       "                                                    CareDuration_1  \\\n",
       "fichier                                                              \n",
       "9f980dcf-b431-4e67-876f-2b8e288b7900_3b5f3f01-e...               1   \n",
       "2d035c4b-cdfa-4982-87dc-916fe07a0824_710f4bda-b...               1   \n",
       "b96ad235-2f4f-4236-9aa3-9df85dfcf7cb_ff1697c1-a...               1   \n",
       "3e7ffb67-8872-4172-bf18-4fe338ecae3f_6e8b49e5-4...               1   \n",
       "2d035c4b-cdfa-4982-87dc-916fe07a0824_56c749ad-e...               2   \n",
       "\n",
       "                                                   CareDurationTypeEnum_1  \\\n",
       "fichier                                                                     \n",
       "9f980dcf-b431-4e67-876f-2b8e288b7900_3b5f3f01-e...                   Days   \n",
       "2d035c4b-cdfa-4982-87dc-916fe07a0824_710f4bda-b...                   Days   \n",
       "b96ad235-2f4f-4236-9aa3-9df85dfcf7cb_ff1697c1-a...                   Days   \n",
       "3e7ffb67-8872-4172-bf18-4fe338ecae3f_6e8b49e5-4...                   Days   \n",
       "2d035c4b-cdfa-4982-87dc-916fe07a0824_56c749ad-e...                 Months   \n",
       "\n",
       "                                                    CareOnPublicHoliday_1  \\\n",
       "fichier                                                                     \n",
       "9f980dcf-b431-4e67-876f-2b8e288b7900_3b5f3f01-e...                   True   \n",
       "2d035c4b-cdfa-4982-87dc-916fe07a0824_710f4bda-b...                   True   \n",
       "b96ad235-2f4f-4236-9aa3-9df85dfcf7cb_ff1697c1-a...                   True   \n",
       "3e7ffb67-8872-4172-bf18-4fe338ecae3f_6e8b49e5-4...                   True   \n",
       "2d035c4b-cdfa-4982-87dc-916fe07a0824_56c749ad-e...                   True   \n",
       "\n",
       "                                                   CareLocation_1  \\\n",
       "fichier                                                             \n",
       "9f980dcf-b431-4e67-876f-2b8e288b7900_3b5f3f01-e...       Domicile   \n",
       "2d035c4b-cdfa-4982-87dc-916fe07a0824_710f4bda-b...       Domicile   \n",
       "b96ad235-2f4f-4236-9aa3-9df85dfcf7cb_ff1697c1-a...       Domicile   \n",
       "3e7ffb67-8872-4172-bf18-4fe338ecae3f_6e8b49e5-4...       Domicile   \n",
       "2d035c4b-cdfa-4982-87dc-916fe07a0824_56c749ad-e...       Domicile   \n",
       "\n",
       "                                                   CareBeginHpName_1  \\\n",
       "fichier                                                                \n",
       "9f980dcf-b431-4e67-876f-2b8e288b7900_3b5f3f01-e...    Bouvet Pauline   \n",
       "2d035c4b-cdfa-4982-87dc-916fe07a0824_710f4bda-b...    Scheuer Mylène   \n",
       "b96ad235-2f4f-4236-9aa3-9df85dfcf7cb_ff1697c1-a...               NaN   \n",
       "3e7ffb67-8872-4172-bf18-4fe338ecae3f_6e8b49e5-4...               NaN   \n",
       "2d035c4b-cdfa-4982-87dc-916fe07a0824_56c749ad-e...               NaN   \n",
       "\n",
       "                                                   ZoneName_1  \\\n",
       "fichier                                                         \n",
       "9f980dcf-b431-4e67-876f-2b8e288b7900_3b5f3f01-e...        NaN   \n",
       "2d035c4b-cdfa-4982-87dc-916fe07a0824_710f4bda-b...        NaN   \n",
       "b96ad235-2f4f-4236-9aa3-9df85dfcf7cb_ff1697c1-a...        NaN   \n",
       "3e7ffb67-8872-4172-bf18-4fe338ecae3f_6e8b49e5-4...        NaN   \n",
       "2d035c4b-cdfa-4982-87dc-916fe07a0824_56c749ad-e...        NaN   \n",
       "\n",
       "                                                                                                 IK_1  \n",
       "fichier                                                                                                \n",
       "9f980dcf-b431-4e67-876f-2b8e288b7900_3b5f3f01-e...  {'KilometersNumberPlain': None, 'KilometersNum...  \n",
       "2d035c4b-cdfa-4982-87dc-916fe07a0824_710f4bda-b...                                                NaN  \n",
       "b96ad235-2f4f-4236-9aa3-9df85dfcf7cb_ff1697c1-a...                                                NaN  \n",
       "3e7ffb67-8872-4172-bf18-4fe338ecae3f_6e8b49e5-4...                                                NaN  \n",
       "2d035c4b-cdfa-4982-87dc-916fe07a0824_56c749ad-e...                                                NaN  "
      ]
     },
     "execution_count": 8,
     "metadata": {},
     "output_type": "execute_result"
    }
   ],
   "source": [
    "data = get_data_csv()\n",
    "data.head()"
   ]
  },
  {
   "cell_type": "code",
   "execution_count": 10,
   "id": "e45ad545",
   "metadata": {},
   "outputs": [
    {
     "data": {
      "text/html": [
       "<div>\n",
       "<style scoped>\n",
       "    .dataframe tbody tr th:only-of-type {\n",
       "        vertical-align: middle;\n",
       "    }\n",
       "\n",
       "    .dataframe tbody tr th {\n",
       "        vertical-align: top;\n",
       "    }\n",
       "\n",
       "    .dataframe thead th {\n",
       "        text-align: right;\n",
       "    }\n",
       "</style>\n",
       "<table border=\"1\" class=\"dataframe\">\n",
       "  <thead>\n",
       "    <tr style=\"text-align: right;\">\n",
       "      <th></th>\n",
       "      <th>fichier</th>\n",
       "      <th>translation</th>\n",
       "    </tr>\n",
       "  </thead>\n",
       "  <tbody>\n",
       "    <tr>\n",
       "      <th>0</th>\n",
       "      <td>9f980dcf-b431-4e67-876f-2b8e288b7900_3b5f3f01-...</td>\n",
       "      <td>Prise de sang faite le 19 février à domicile p...</td>\n",
       "    </tr>\n",
       "    <tr>\n",
       "      <th>1</th>\n",
       "      <td>2d035c4b-cdfa-4982-87dc-916fe07a0824_710f4bda-...</td>\n",
       "      <td>Pansement également refait le 23 mars par mylène.</td>\n",
       "    </tr>\n",
       "    <tr>\n",
       "      <th>2</th>\n",
       "      <td>b96ad235-2f4f-4236-9aa3-9df85dfcf7cb_ff1697c1-...</td>\n",
       "      <td>Pcr plus prise de sang fait à domicile à 11.</td>\n",
       "    </tr>\n",
       "    <tr>\n",
       "      <th>3</th>\n",
       "      <td>3e7ffb67-8872-4172-bf18-4fe338ecae3f_6e8b49e5-...</td>\n",
       "      <td>Prise de sang et analyse stérile des urines à ...</td>\n",
       "    </tr>\n",
       "    <tr>\n",
       "      <th>4</th>\n",
       "      <td>2d035c4b-cdfa-4982-87dc-916fe07a0824_56c749ad-...</td>\n",
       "      <td>Bonjour, merci de renouveler cette ordonnance ...</td>\n",
       "    </tr>\n",
       "  </tbody>\n",
       "</table>\n",
       "</div>"
      ],
      "text/plain": [
       "                                             fichier  \\\n",
       "0  9f980dcf-b431-4e67-876f-2b8e288b7900_3b5f3f01-...   \n",
       "1  2d035c4b-cdfa-4982-87dc-916fe07a0824_710f4bda-...   \n",
       "2  b96ad235-2f4f-4236-9aa3-9df85dfcf7cb_ff1697c1-...   \n",
       "3  3e7ffb67-8872-4172-bf18-4fe338ecae3f_6e8b49e5-...   \n",
       "4  2d035c4b-cdfa-4982-87dc-916fe07a0824_56c749ad-...   \n",
       "\n",
       "                                         translation  \n",
       "0  Prise de sang faite le 19 février à domicile p...  \n",
       "1  Pansement également refait le 23 mars par mylène.  \n",
       "2       Pcr plus prise de sang fait à domicile à 11.  \n",
       "3  Prise de sang et analyse stérile des urines à ...  \n",
       "4  Bonjour, merci de renouveler cette ordonnance ...  "
      ]
     },
     "execution_count": 10,
     "metadata": {},
     "output_type": "execute_result"
    }
   ],
   "source": [
    "df = data[\"translation\"].reset_index()\n",
    "df.head()"
   ]
  },
  {
   "cell_type": "code",
   "execution_count": 16,
   "id": "8695d8a2",
   "metadata": {},
   "outputs": [],
   "source": [
    "nlp = spacy.load(\"../models/model_v2/model-best\")"
   ]
  },
  {
   "cell_type": "code",
   "execution_count": 25,
   "id": "edd121b7",
   "metadata": {},
   "outputs": [
    {
     "name": "stderr",
     "output_type": "stream",
     "text": [
      "/home/thomas/.pyenv/versions/3.8.12/envs/ephesus/lib/python3.8/site-packages/spacy/displacy/__init__.py:205: UserWarning: [W006] No entities to visualize found in Doc object. If this is surprising to you, make sure the Doc was processed using a model that supports named entity recognition, and check the `doc.ents` property manually if necessary.\n",
      "  warnings.warn(Warnings.W006)\n"
     ]
    },
    {
     "data": {
      "text/html": [
       "<span class=\"tex2jax_ignore\"><div class=\"entities\" style=\"line-height: 2.5; direction: ltr\">Non patient ime.</div></span>"
      ],
      "text/plain": [
       "<IPython.core.display.HTML object>"
      ]
     },
     "metadata": {},
     "output_type": "display_data"
    },
    {
     "data": {
      "text/html": [
       "<span class=\"tex2jax_ignore\"><div class=\"entities\" style=\"line-height: 2.5; direction: ltr\">\n",
       "<mark class=\"entity\" style=\"background: #ddd; padding: 0.45em 0.6em; margin: 0 0.25em; line-height: 1; border-radius: 0.35em;\">\n",
       "    Test antigénique\n",
       "    <span style=\"font-size: 0.8em; font-weight: bold; line-height: 1; border-radius: 0.35em; vertical-align: middle; margin-left: 0.5rem\">Treatment</span>\n",
       "</mark>\n",
       " réalisé le \n",
       "<mark class=\"entity\" style=\"background: #bfe1d9; padding: 0.45em 0.6em; margin: 0 0.25em; line-height: 1; border-radius: 0.35em;\">\n",
       "    21 février\n",
       "    <span style=\"font-size: 0.8em; font-weight: bold; line-height: 1; border-radius: 0.35em; vertical-align: middle; margin-left: 0.5rem\">Date</span>\n",
       "</mark>\n",
       " matin à \n",
       "<mark class=\"entity\" style=\"background: #ddd; padding: 0.45em 0.6em; margin: 0 0.25em; line-height: 1; border-radius: 0.35em;\">\n",
       "    domicile\n",
       "    <span style=\"font-size: 0.8em; font-weight: bold; line-height: 1; border-radius: 0.35em; vertical-align: middle; margin-left: 0.5rem\">Location</span>\n",
       "</mark>\n",
       ".</div></span>"
      ],
      "text/plain": [
       "<IPython.core.display.HTML object>"
      ]
     },
     "metadata": {},
     "output_type": "display_data"
    },
    {
     "data": {
      "text/html": [
       "<span class=\"tex2jax_ignore\"><div class=\"entities\" style=\"line-height: 2.5; direction: ltr\">\n",
       "<mark class=\"entity\" style=\"background: #ddd; padding: 0.45em 0.6em; margin: 0 0.25em; line-height: 1; border-radius: 0.35em;\">\n",
       "    Bilan sanguin\n",
       "    <span style=\"font-size: 0.8em; font-weight: bold; line-height: 1; border-radius: 0.35em; vertical-align: middle; margin-left: 0.5rem\">Treatment</span>\n",
       "</mark>\n",
       " à \n",
       "<mark class=\"entity\" style=\"background: #ddd; padding: 0.45em 0.6em; margin: 0 0.25em; line-height: 1; border-radius: 0.35em;\">\n",
       "    domicile\n",
       "    <span style=\"font-size: 0.8em; font-weight: bold; line-height: 1; border-radius: 0.35em; vertical-align: middle; margin-left: 0.5rem\">Location</span>\n",
       "</mark>\n",
       " par isabelle.</div></span>"
      ],
      "text/plain": [
       "<IPython.core.display.HTML object>"
      ]
     },
     "metadata": {},
     "output_type": "display_data"
    },
    {
     "data": {
      "text/html": [
       "<span class=\"tex2jax_ignore\"><div class=\"entities\" style=\"line-height: 2.5; direction: ltr\">Merci de compter pour le \n",
       "<mark class=\"entity\" style=\"background: #bfe1d9; padding: 0.45em 0.6em; margin: 0 0.25em; line-height: 1; border-radius: 0.35em;\">\n",
       "    24 février\n",
       "    <span style=\"font-size: 0.8em; font-weight: bold; line-height: 1; border-radius: 0.35em; vertical-align: middle; margin-left: 0.5rem\">Date</span>\n",
       "</mark>\n",
       " à \n",
       "<mark class=\"entity\" style=\"background: #bfe1d9; padding: 0.45em 0.6em; margin: 0 0.25em; line-height: 1; border-radius: 0.35em;\">\n",
       "    8h\n",
       "    <span style=\"font-size: 0.8em; font-weight: bold; line-height: 1; border-radius: 0.35em; vertical-align: middle; margin-left: 0.5rem\">Time</span>\n",
       "</mark>\n",
       ". Puis à \n",
       "<mark class=\"entity\" style=\"background: #bfe1d9; padding: 0.45em 0.6em; margin: 0 0.25em; line-height: 1; border-radius: 0.35em;\">\n",
       "    9h30\n",
       "    <span style=\"font-size: 0.8em; font-weight: bold; line-height: 1; border-radius: 0.35em; vertical-align: middle; margin-left: 0.5rem\">Time</span>\n",
       "</mark>\n",
       ", une \n",
       "<mark class=\"entity\" style=\"background: #ddd; padding: 0.45em 0.6em; margin: 0 0.25em; line-height: 1; border-radius: 0.35em;\">\n",
       "    prise de sang\n",
       "    <span style=\"font-size: 0.8em; font-weight: bold; line-height: 1; border-radius: 0.35em; vertical-align: middle; margin-left: 0.5rem\">Treatment</span>\n",
       "</mark>\n",
       ". donc ça fait 2 \n",
       "<mark class=\"entity\" style=\"background: #ddd; padding: 0.45em 0.6em; margin: 0 0.25em; line-height: 1; border-radius: 0.35em;\">\n",
       "    prises de sang\n",
       "    <span style=\"font-size: 0.8em; font-weight: bold; line-height: 1; border-radius: 0.35em; vertical-align: middle; margin-left: 0.5rem\">Treatment</span>\n",
       "</mark>\n",
       " et un déplacement. </div></span>"
      ],
      "text/plain": [
       "<IPython.core.display.HTML object>"
      ]
     },
     "metadata": {},
     "output_type": "display_data"
    },
    {
     "data": {
      "text/html": [
       "<span class=\"tex2jax_ignore\"><div class=\"entities\" style=\"line-height: 2.5; direction: ltr\">Oui, \n",
       "<mark class=\"entity\" style=\"background: #ddd; padding: 0.45em 0.6em; margin: 0 0.25em; line-height: 1; border-radius: 0.35em;\">\n",
       "    pansement\n",
       "    <span style=\"font-size: 0.8em; font-weight: bold; line-height: 1; border-radius: 0.35em; vertical-align: middle; margin-left: 0.5rem\">Treatment</span>\n",
       "</mark>\n",
       " fait \n",
       "<mark class=\"entity\" style=\"background: #ddd; padding: 0.45em 0.6em; margin: 0 0.25em; line-height: 1; border-radius: 0.35em;\">\n",
       "    tous les 2 jours\n",
       "    <span style=\"font-size: 0.8em; font-weight: bold; line-height: 1; border-radius: 0.35em; vertical-align: middle; margin-left: 0.5rem\">Frequency</span>\n",
       "</mark>\n",
       ". Débuté \n",
       "<mark class=\"entity\" style=\"background: #bfe1d9; padding: 0.45em 0.6em; margin: 0 0.25em; line-height: 1; border-radius: 0.35em;\">\n",
       "    ce jour\n",
       "    <span style=\"font-size: 0.8em; font-weight: bold; line-height: 1; border-radius: 0.35em; vertical-align: middle; margin-left: 0.5rem\">Date</span>\n",
       "</mark>\n",
       " dimanche 13. À \n",
       "<mark class=\"entity\" style=\"background: #ddd; padding: 0.45em 0.6em; margin: 0 0.25em; line-height: 1; border-radius: 0.35em;\">\n",
       "    domicile\n",
       "    <span style=\"font-size: 0.8em; font-weight: bold; line-height: 1; border-radius: 0.35em; vertical-align: middle; margin-left: 0.5rem\">Location</span>\n",
       "</mark>\n",
       ". Et faire attention au déplacement, merci.</div></span>"
      ],
      "text/plain": [
       "<IPython.core.display.HTML object>"
      ]
     },
     "metadata": {},
     "output_type": "display_data"
    },
    {
     "data": {
      "text/html": [
       "<span class=\"tex2jax_ignore\"><div class=\"entities\" style=\"line-height: 2.5; direction: ltr\">Madame jeanniot, nathalie. Injection. Débuter le \n",
       "<mark class=\"entity\" style=\"background: #bfe1d9; padding: 0.45em 0.6em; margin: 0 0.25em; line-height: 1; border-radius: 0.35em;\">\n",
       "    20 903 2022\n",
       "    <span style=\"font-size: 0.8em; font-weight: bold; line-height: 1; border-radius: 0.35em; vertical-align: middle; margin-left: 0.5rem\">Date</span>\n",
       "</mark>\n",
       " à \n",
       "<mark class=\"entity\" style=\"background: #bfe1d9; padding: 0.45em 0.6em; margin: 0 0.25em; line-height: 1; border-radius: 0.35em;\">\n",
       "    10h00\n",
       "    <span style=\"font-size: 0.8em; font-weight: bold; line-height: 1; border-radius: 0.35em; vertical-align: middle; margin-left: 0.5rem\">Time</span>\n",
       "</mark>\n",
       " au \n",
       "<mark class=\"entity\" style=\"background: #ddd; padding: 0.45em 0.6em; margin: 0 0.25em; line-height: 1; border-radius: 0.35em;\">\n",
       "    domicile\n",
       "    <span style=\"font-size: 0.8em; font-weight: bold; line-height: 1; border-radius: 0.35em; vertical-align: middle; margin-left: 0.5rem\">Location</span>\n",
       "</mark>\n",
       " \n",
       "<mark class=\"entity\" style=\"background: #ddd; padding: 0.45em 0.6em; margin: 0 0.25em; line-height: 1; border-radius: 0.35em;\">\n",
       "    intramusculaire\n",
       "    <span style=\"font-size: 0.8em; font-weight: bold; line-height: 1; border-radius: 0.35em; vertical-align: middle; margin-left: 0.5rem\">Treatment</span>\n",
       "</mark>\n",
       " tout. Les jours \n",
       "<mark class=\"entity\" style=\"background: #ddd; padding: 0.45em 0.6em; margin: 0 0.25em; line-height: 1; border-radius: 0.35em;\">\n",
       "    pendant 6 jours\n",
       "    <span style=\"font-size: 0.8em; font-weight: bold; line-height: 1; border-radius: 0.35em; vertical-align: middle; margin-left: 0.5rem\">Duration</span>\n",
       "</mark>\n",
       ". Soin et mau am am ccmu.</div></span>"
      ],
      "text/plain": [
       "<IPython.core.display.HTML object>"
      ]
     },
     "metadata": {},
     "output_type": "display_data"
    },
    {
     "data": {
      "text/html": [
       "<span class=\"tex2jax_ignore\"><div class=\"entities\" style=\"line-height: 2.5; direction: ltr\">\n",
       "<mark class=\"entity\" style=\"background: #ddd; padding: 0.45em 0.6em; margin: 0 0.25em; line-height: 1; border-radius: 0.35em;\">\n",
       "    Prise de sang\n",
       "    <span style=\"font-size: 0.8em; font-weight: bold; line-height: 1; border-radius: 0.35em; vertical-align: middle; margin-left: 0.5rem\">Treatment</span>\n",
       "</mark>\n",
       " réalisée à \n",
       "<mark class=\"entity\" style=\"background: #ddd; padding: 0.45em 0.6em; margin: 0 0.25em; line-height: 1; border-radius: 0.35em;\">\n",
       "    domicile\n",
       "    <span style=\"font-size: 0.8em; font-weight: bold; line-height: 1; border-radius: 0.35em; vertical-align: middle; margin-left: 0.5rem\">Location</span>\n",
       "</mark>\n",
       ", aggoun en le \n",
       "<mark class=\"entity\" style=\"background: #bfe1d9; padding: 0.45em 0.6em; margin: 0 0.25em; line-height: 1; border-radius: 0.35em;\">\n",
       "    22 septembre\n",
       "    <span style=\"font-size: 0.8em; font-weight: bold; line-height: 1; border-radius: 0.35em; vertical-align: middle; margin-left: 0.5rem\">Date</span>\n",
       "</mark>\n",
       " à \n",
       "<mark class=\"entity\" style=\"background: #bfe1d9; padding: 0.45em 0.6em; margin: 0 0.25em; line-height: 1; border-radius: 0.35em;\">\n",
       "    7h30\n",
       "    <span style=\"font-size: 0.8em; font-weight: bold; line-height: 1; border-radius: 0.35em; vertical-align: middle; margin-left: 0.5rem\">Time</span>\n",
       "</mark>\n",
       ".</div></span>"
      ],
      "text/plain": [
       "<IPython.core.display.HTML object>"
      ]
     },
     "metadata": {},
     "output_type": "display_data"
    },
    {
     "data": {
      "text/html": [
       "<span class=\"tex2jax_ignore\"><div class=\"entities\" style=\"line-height: 2.5; direction: ltr\">\n",
       "<mark class=\"entity\" style=\"background: #ddd; padding: 0.45em 0.6em; margin: 0 0.25em; line-height: 1; border-radius: 0.35em;\">\n",
       "    Test antigénique\n",
       "    <span style=\"font-size: 0.8em; font-weight: bold; line-height: 1; border-radius: 0.35em; vertical-align: middle; margin-left: 0.5rem\">Treatment</span>\n",
       "</mark>\n",
       " supérieur à 2 réaliser \n",
       "<mark class=\"entity\" style=\"background: #bfe1d9; padding: 0.45em 0.6em; margin: 0 0.25em; line-height: 1; border-radius: 0.35em;\">\n",
       "    ce soir\n",
       "    <span style=\"font-size: 0.8em; font-weight: bold; line-height: 1; border-radius: 0.35em; vertical-align: middle; margin-left: 0.5rem\">Date</span>\n",
       "</mark>\n",
       " à \n",
       "<mark class=\"entity\" style=\"background: #ddd; padding: 0.45em 0.6em; margin: 0 0.25em; line-height: 1; border-radius: 0.35em;\">\n",
       "    domicile\n",
       "    <span style=\"font-size: 0.8em; font-weight: bold; line-height: 1; border-radius: 0.35em; vertical-align: middle; margin-left: 0.5rem\">Location</span>\n",
       "</mark>\n",
       " pas de frais de déplacement.</div></span>"
      ],
      "text/plain": [
       "<IPython.core.display.HTML object>"
      ]
     },
     "metadata": {},
     "output_type": "display_data"
    },
    {
     "data": {
      "text/html": [
       "<span class=\"tex2jax_ignore\"><div class=\"entities\" style=\"line-height: 2.5; direction: ltr\">\n",
       "<mark class=\"entity\" style=\"background: #ddd; padding: 0.45em 0.6em; margin: 0 0.25em; line-height: 1; border-radius: 0.35em;\">\n",
       "    Vaccination covid-19\n",
       "    <span style=\"font-size: 0.8em; font-weight: bold; line-height: 1; border-radius: 0.35em; vertical-align: middle; margin-left: 0.5rem\">Treatment</span>\n",
       "</mark>\n",
       " par Isabelle au \n",
       "<mark class=\"entity\" style=\"background: #ddd; padding: 0.45em 0.6em; margin: 0 0.25em; line-height: 1; border-radius: 0.35em;\">\n",
       "    cabinet\n",
       "    <span style=\"font-size: 0.8em; font-weight: bold; line-height: 1; border-radius: 0.35em; vertical-align: middle; margin-left: 0.5rem\">Location</span>\n",
       "</mark>\n",
       " plus prescription.</div></span>"
      ],
      "text/plain": [
       "<IPython.core.display.HTML object>"
      ]
     },
     "metadata": {},
     "output_type": "display_data"
    },
    {
     "data": {
      "text/html": [
       "<span class=\"tex2jax_ignore\"><div class=\"entities\" style=\"line-height: 2.5; direction: ltr\">Prise en charge de madame Didier pour une alimentation entérale \n",
       "<mark class=\"entity\" style=\"background: #ddd; padding: 0.45em 0.6em; margin: 0 0.25em; line-height: 1; border-radius: 0.35em;\">\n",
       "    tous les jours\n",
       "    <span style=\"font-size: 0.8em; font-weight: bold; line-height: 1; border-radius: 0.35em; vertical-align: middle; margin-left: 0.5rem\">Frequency</span>\n",
       "</mark>\n",
       " \n",
       "<mark class=\"entity\" style=\"background: #ddd; padding: 0.45em 0.6em; margin: 0 0.25em; line-height: 1; border-radius: 0.35em;\">\n",
       "    jusqu'à prochaine ordre\n",
       "    <span style=\"font-size: 0.8em; font-weight: bold; line-height: 1; border-radius: 0.35em; vertical-align: middle; margin-left: 0.5rem\">Duration</span>\n",
       "</mark>\n",
       ".</div></span>"
      ],
      "text/plain": [
       "<IPython.core.display.HTML object>"
      ]
     },
     "metadata": {},
     "output_type": "display_data"
    }
   ],
   "source": [
    "for sentence in df[\"translation\"].sample(10):\n",
    "    doc = nlp(sentence)\n",
    "    spacy.displacy.render(doc, style=\"ent\",jupyter=True)\n"
   ]
  },
  {
   "cell_type": "code",
   "execution_count": 96,
   "id": "4eeb5ec5",
   "metadata": {
    "scrolled": true
   },
   "outputs": [
    {
     "data": {
      "text/html": [
       "<span class=\"tex2jax_ignore\"><div class=\"entities\" style=\"line-height: 2.5; direction: ltr\">Pour madame Didier Nicole, un passage à \n",
       "<mark class=\"entity\" style=\"background: #ddd; padding: 0.45em 0.6em; margin: 0 0.25em; line-height: 1; border-radius: 0.35em;\">\n",
       "    domicile\n",
       "    <span style=\"font-size: 0.8em; font-weight: bold; line-height: 1; border-radius: 0.35em; vertical-align: middle; margin-left: 0.5rem\">Location</span>\n",
       "</mark>\n",
       " à partir du \n",
       "<mark class=\"entity\" style=\"background: #bfe1d9; padding: 0.45em 0.6em; margin: 0 0.25em; line-height: 1; border-radius: 0.35em;\">\n",
       "    23 novembre\n",
       "    <span style=\"font-size: 0.8em; font-weight: bold; line-height: 1; border-radius: 0.35em; vertical-align: middle; margin-left: 0.5rem\">Date</span>\n",
       "</mark>\n",
       " jusqu'au 28 novembre pour des sous cuts. Ajouter pour le \n",
       "<mark class=\"entity\" style=\"background: #bfe1d9; padding: 0.45em 0.6em; margin: 0 0.25em; line-height: 1; border-radius: 0.35em;\">\n",
       "    25 novembre\n",
       "    <span style=\"font-size: 0.8em; font-weight: bold; line-height: 1; border-radius: 0.35em; vertical-align: middle; margin-left: 0.5rem\">Date</span>\n",
       "</mark>\n",
       " une \n",
       "<mark class=\"entity\" style=\"background: #ddd; padding: 0.45em 0.6em; margin: 0 0.25em; line-height: 1; border-radius: 0.35em;\">\n",
       "    prise de sang\n",
       "    <span style=\"font-size: 0.8em; font-weight: bold; line-height: 1; border-radius: 0.35em; vertical-align: middle; margin-left: 0.5rem\">Treatment</span>\n",
       "</mark>\n",
       ". Et prévoir une cotation pour des \n",
       "<mark class=\"entity\" style=\"background: #ddd; padding: 0.45em 0.6em; margin: 0 0.25em; line-height: 1; border-radius: 0.35em;\">\n",
       "    pansement\n",
       "    <span style=\"font-size: 0.8em; font-weight: bold; line-height: 1; border-radius: 0.35em; vertical-align: middle; margin-left: 0.5rem\">Treatment</span>\n",
       "</mark>\n",
       " à partir du \n",
       "<mark class=\"entity\" style=\"background: #bfe1d9; padding: 0.45em 0.6em; margin: 0 0.25em; line-height: 1; border-radius: 0.35em;\">\n",
       "    14 décembre\n",
       "    <span style=\"font-size: 0.8em; font-weight: bold; line-height: 1; border-radius: 0.35em; vertical-align: middle; margin-left: 0.5rem\">Date</span>\n",
       "</mark>\n",
       " un jour su deux AM2 plus \n",
       "<mark class=\"entity\" style=\"background: #ddd; padding: 0.45em 0.6em; margin: 0 0.25em; line-height: 1; border-radius: 0.35em;\">\n",
       "    AMI2\n",
       "    <span style=\"font-size: 0.8em; font-weight: bold; line-height: 1; border-radius: 0.35em; vertical-align: middle; margin-left: 0.5rem\">Cotation</span>\n",
       "</mark>\n",
       " sur 2 à \n",
       "<mark class=\"entity\" style=\"background: #ddd; padding: 0.45em 0.6em; margin: 0 0.25em; line-height: 1; border-radius: 0.35em;\">\n",
       "    domicile\n",
       "    <span style=\"font-size: 0.8em; font-weight: bold; line-height: 1; border-radius: 0.35em; vertical-align: middle; margin-left: 0.5rem\">Location</span>\n",
       "</mark>\n",
       " voilà merci.</div></span>"
      ],
      "text/plain": [
       "<IPython.core.display.HTML object>"
      ]
     },
     "metadata": {},
     "output_type": "display_data"
    }
   ],
   "source": [
    "test = df.iloc[167,1]\n",
    "doc = nlp(test)\n",
    "spacy.displacy.render(doc, style=\"ent\",jupyter=True)\n"
   ]
  },
  {
   "cell_type": "code",
   "execution_count": 114,
   "id": "39e2ab81",
   "metadata": {
    "scrolled": true
   },
   "outputs": [
    {
     "data": {
      "text/plain": [
       "'Location'"
      ]
     },
     "execution_count": 114,
     "metadata": {},
     "output_type": "execute_result"
    }
   ],
   "source": [
    "doc.ents[0]."
   ]
  },
  {
   "cell_type": "code",
   "execution_count": 47,
   "id": "66ce3727",
   "metadata": {},
   "outputs": [
    {
     "name": "stdout",
     "output_type": "stream",
     "text": [
      "Location\n",
      "Date\n",
      "Date\n",
      "Treatment\n",
      "Treatment\n",
      "Date\n",
      "Cotation\n",
      "Location\n"
     ]
    }
   ],
   "source": [
    "for elm in doc.ents:\n",
    "    print(elm.label_)"
   ]
  },
  {
   "cell_type": "code",
   "execution_count": 34,
   "id": "f47ce259",
   "metadata": {
    "scrolled": true
   },
   "outputs": [
    {
     "name": "stdout",
     "output_type": "stream",
     "text": [
      "Location\n",
      "Date\n",
      "Date\n",
      "Treatment\n",
      "Treatment\n",
      "Date\n",
      "Cotation\n",
      "Location\n"
     ]
    }
   ],
   "source": [
    "for ent in doc.ents:\n",
    "    print(ent.label_)"
   ]
  },
  {
   "cell_type": "code",
   "execution_count": 53,
   "id": "1c5d980f",
   "metadata": {},
   "outputs": [
    {
     "name": "stdout",
     "output_type": "stream",
     "text": [
      "domicile\n",
      "23 novembre\n",
      "25 novembre\n",
      "prise de sang\n",
      "pansement\n",
      "14 décembre\n",
      "AMI2\n",
      "domicile\n"
     ]
    }
   ],
   "source": [
    "doc = nlp(test)\n",
    "for index, ent in enumerate(doc.ents):\n",
    "    print(doc.ents[index])\n",
    "    "
   ]
  },
  {
   "cell_type": "code",
   "execution_count": 67,
   "id": "6574f27d",
   "metadata": {},
   "outputs": [],
   "source": [
    "def return_label(sentence, model):\n",
    "    liste = []\n",
    "    doc = model(sentence)\n",
    "    for index, ent in enumerate(doc.ents):\n",
    "        liste.append((str(doc.ents[index]), ent.label_))\n",
    "    return liste"
   ]
  },
  {
   "cell_type": "code",
   "execution_count": 66,
   "id": "dbf83032",
   "metadata": {},
   "outputs": [
    {
     "data": {
      "text/html": [
       "<div>\n",
       "<style scoped>\n",
       "    .dataframe tbody tr th:only-of-type {\n",
       "        vertical-align: middle;\n",
       "    }\n",
       "\n",
       "    .dataframe tbody tr th {\n",
       "        vertical-align: top;\n",
       "    }\n",
       "\n",
       "    .dataframe thead th {\n",
       "        text-align: right;\n",
       "    }\n",
       "</style>\n",
       "<table border=\"1\" class=\"dataframe\">\n",
       "  <thead>\n",
       "    <tr style=\"text-align: right;\">\n",
       "      <th></th>\n",
       "      <th>fichier</th>\n",
       "      <th>translation</th>\n",
       "    </tr>\n",
       "  </thead>\n",
       "  <tbody>\n",
       "    <tr>\n",
       "      <th>2765</th>\n",
       "      <td>f0caa21b-c11d-40a3-98ec-e2df3d2b9cc4_152f29b9-...</td>\n",
       "      <td>Test PCR réalisé ce jour au domicile du patient.</td>\n",
       "    </tr>\n",
       "    <tr>\n",
       "      <th>2590</th>\n",
       "      <td>a5050600-95ef-43d8-a5fa-a57c791bf843_1db16550-...</td>\n",
       "      <td>Test antigénique réalisé cet après-midi à domi...</td>\n",
       "    </tr>\n",
       "    <tr>\n",
       "      <th>1478</th>\n",
       "      <td>f0caa21b-c11d-40a3-98ec-e2df3d2b9cc4_5943ed3a-...</td>\n",
       "      <td>Prise de sang réalisée le 18 février à midi.</td>\n",
       "    </tr>\n",
       "    <tr>\n",
       "      <th>3764</th>\n",
       "      <td>9f980dcf-b431-4e67-876f-2b8e288b7900_16cd54ce-...</td>\n",
       "      <td>Bois bernard. Commencé hier, les im. domicile ...</td>\n",
       "    </tr>\n",
       "    <tr>\n",
       "      <th>87</th>\n",
       "      <td>b96ad235-2f4f-4236-9aa3-9df85dfcf7cb_28cb6cb2-...</td>\n",
       "      <td>Pour le pansement du jeudi 24 en plus, une pri...</td>\n",
       "    </tr>\n",
       "    <tr>\n",
       "      <th>1012</th>\n",
       "      <td>f0caa21b-c11d-40a3-98ec-e2df3d2b9cc4_2f09b33a-...</td>\n",
       "      <td>Ce jour, prise de sang donc à réaliser tous en...</td>\n",
       "    </tr>\n",
       "    <tr>\n",
       "      <th>572</th>\n",
       "      <td>f0caa21b-c11d-40a3-98ec-e2df3d2b9cc4_5035e231-...</td>\n",
       "      <td>Prise de sang réalisée ce matin.</td>\n",
       "    </tr>\n",
       "    <tr>\n",
       "      <th>1507</th>\n",
       "      <td>9f980dcf-b431-4e67-876f-2b8e288b7900_7bf579c8-...</td>\n",
       "      <td>Injection intramusculaire. Pour 10 injections ...</td>\n",
       "    </tr>\n",
       "    <tr>\n",
       "      <th>3349</th>\n",
       "      <td>2d035c4b-cdfa-4982-87dc-916fe07a0824_47e94ab8-...</td>\n",
       "      <td>Prise de sang faite au domicile ce jour 29 mai...</td>\n",
       "    </tr>\n",
       "    <tr>\n",
       "      <th>2445</th>\n",
       "      <td>b96ad235-2f4f-4236-9aa3-9df85dfcf7cb_085ea951-...</td>\n",
       "      <td>Prise de sang au cabinet ce jour.</td>\n",
       "    </tr>\n",
       "  </tbody>\n",
       "</table>\n",
       "</div>"
      ],
      "text/plain": [
       "                                                fichier  \\\n",
       "2765  f0caa21b-c11d-40a3-98ec-e2df3d2b9cc4_152f29b9-...   \n",
       "2590  a5050600-95ef-43d8-a5fa-a57c791bf843_1db16550-...   \n",
       "1478  f0caa21b-c11d-40a3-98ec-e2df3d2b9cc4_5943ed3a-...   \n",
       "3764  9f980dcf-b431-4e67-876f-2b8e288b7900_16cd54ce-...   \n",
       "87    b96ad235-2f4f-4236-9aa3-9df85dfcf7cb_28cb6cb2-...   \n",
       "1012  f0caa21b-c11d-40a3-98ec-e2df3d2b9cc4_2f09b33a-...   \n",
       "572   f0caa21b-c11d-40a3-98ec-e2df3d2b9cc4_5035e231-...   \n",
       "1507  9f980dcf-b431-4e67-876f-2b8e288b7900_7bf579c8-...   \n",
       "3349  2d035c4b-cdfa-4982-87dc-916fe07a0824_47e94ab8-...   \n",
       "2445  b96ad235-2f4f-4236-9aa3-9df85dfcf7cb_085ea951-...   \n",
       "\n",
       "                                            translation  \n",
       "2765   Test PCR réalisé ce jour au domicile du patient.  \n",
       "2590  Test antigénique réalisé cet après-midi à domi...  \n",
       "1478       Prise de sang réalisée le 18 février à midi.  \n",
       "3764  Bois bernard. Commencé hier, les im. domicile ...  \n",
       "87    Pour le pansement du jeudi 24 en plus, une pri...  \n",
       "1012  Ce jour, prise de sang donc à réaliser tous en...  \n",
       "572                    Prise de sang réalisée ce matin.  \n",
       "1507  Injection intramusculaire. Pour 10 injections ...  \n",
       "3349  Prise de sang faite au domicile ce jour 29 mai...  \n",
       "2445                  Prise de sang au cabinet ce jour.  "
      ]
     },
     "execution_count": 66,
     "metadata": {},
     "output_type": "execute_result"
    }
   ],
   "source": [
    "df_test = df.sample(10, random_state=0)\n",
    "df_test"
   ]
  },
  {
   "cell_type": "code",
   "execution_count": 68,
   "id": "b675f20a",
   "metadata": {},
   "outputs": [
    {
     "data": {
      "text/plain": [
       "[('domicile', 'Location'),\n",
       " ('23 novembre', 'Date'),\n",
       " ('25 novembre', 'Date'),\n",
       " ('prise de sang', 'Treatment'),\n",
       " ('pansement', 'Treatment'),\n",
       " ('14 décembre', 'Date'),\n",
       " ('AMI2', 'Cotation'),\n",
       " ('domicile', 'Location')]"
      ]
     },
     "execution_count": 68,
     "metadata": {},
     "output_type": "execute_result"
    }
   ],
   "source": [
    "return_label(test, nlp)"
   ]
  },
  {
   "cell_type": "code",
   "execution_count": 69,
   "id": "61c0f02d",
   "metadata": {},
   "outputs": [],
   "source": [
    "df_test['labels'] = df_test[\"translation\"].apply(lambda x: return_label(x,nlp))"
   ]
  },
  {
   "cell_type": "code",
   "execution_count": 127,
   "id": "3777945a",
   "metadata": {},
   "outputs": [
    {
     "data": {
      "text/html": [
       "<div>\n",
       "<style scoped>\n",
       "    .dataframe tbody tr th:only-of-type {\n",
       "        vertical-align: middle;\n",
       "    }\n",
       "\n",
       "    .dataframe tbody tr th {\n",
       "        vertical-align: top;\n",
       "    }\n",
       "\n",
       "    .dataframe thead th {\n",
       "        text-align: right;\n",
       "    }\n",
       "</style>\n",
       "<table border=\"1\" class=\"dataframe\">\n",
       "  <thead>\n",
       "    <tr style=\"text-align: right;\">\n",
       "      <th></th>\n",
       "      <th>fichier</th>\n",
       "      <th>translation</th>\n",
       "      <th>labels</th>\n",
       "    </tr>\n",
       "  </thead>\n",
       "  <tbody>\n",
       "    <tr>\n",
       "      <th>2765</th>\n",
       "      <td>f0caa21b-c11d-40a3-98ec-e2df3d2b9cc4_152f29b9-...</td>\n",
       "      <td>Test PCR réalisé ce jour au domicile du patient.</td>\n",
       "      <td>[(Test PCR, Treatment), (ce jour, Date), (domi...</td>\n",
       "    </tr>\n",
       "    <tr>\n",
       "      <th>2590</th>\n",
       "      <td>a5050600-95ef-43d8-a5fa-a57c791bf843_1db16550-...</td>\n",
       "      <td>Test antigénique réalisé cet après-midi à domi...</td>\n",
       "      <td>[(Test antigénique, Treatment), (cet après-mid...</td>\n",
       "    </tr>\n",
       "    <tr>\n",
       "      <th>1478</th>\n",
       "      <td>f0caa21b-c11d-40a3-98ec-e2df3d2b9cc4_5943ed3a-...</td>\n",
       "      <td>Prise de sang réalisée le 18 février à midi.</td>\n",
       "      <td>[(Prise de sang, Treatment), (18 février, Date...</td>\n",
       "    </tr>\n",
       "    <tr>\n",
       "      <th>3764</th>\n",
       "      <td>9f980dcf-b431-4e67-876f-2b8e288b7900_16cd54ce-...</td>\n",
       "      <td>Bois bernard. Commencé hier, les im. domicile ...</td>\n",
       "      <td>[(bernard, Date), (hier, Date), (im, Treatment...</td>\n",
       "    </tr>\n",
       "    <tr>\n",
       "      <th>87</th>\n",
       "      <td>b96ad235-2f4f-4236-9aa3-9df85dfcf7cb_28cb6cb2-...</td>\n",
       "      <td>Pour le pansement du jeudi 24 en plus, une pri...</td>\n",
       "      <td>[(pansement, Treatment), (jeudi 24, Date), (pr...</td>\n",
       "    </tr>\n",
       "    <tr>\n",
       "      <th>1012</th>\n",
       "      <td>f0caa21b-c11d-40a3-98ec-e2df3d2b9cc4_2f09b33a-...</td>\n",
       "      <td>Ce jour, prise de sang donc à réaliser tous en...</td>\n",
       "      <td>[(prise de sang, Treatment), (tous les 15 jour...</td>\n",
       "    </tr>\n",
       "    <tr>\n",
       "      <th>572</th>\n",
       "      <td>f0caa21b-c11d-40a3-98ec-e2df3d2b9cc4_5035e231-...</td>\n",
       "      <td>Prise de sang réalisée ce matin.</td>\n",
       "      <td>[(Prise de sang, Treatment), (ce matin, Date)]</td>\n",
       "    </tr>\n",
       "    <tr>\n",
       "      <th>1507</th>\n",
       "      <td>9f980dcf-b431-4e67-876f-2b8e288b7900_7bf579c8-...</td>\n",
       "      <td>Injection intramusculaire. Pour 10 injections ...</td>\n",
       "      <td>[(Injection intramusculaire, Treatment), (le 2...</td>\n",
       "    </tr>\n",
       "    <tr>\n",
       "      <th>3349</th>\n",
       "      <td>2d035c4b-cdfa-4982-87dc-916fe07a0824_47e94ab8-...</td>\n",
       "      <td>Prise de sang faite au domicile ce jour 29 mai...</td>\n",
       "      <td>[(Prise de sang, Treatment), (domicile, Locati...</td>\n",
       "    </tr>\n",
       "    <tr>\n",
       "      <th>2445</th>\n",
       "      <td>b96ad235-2f4f-4236-9aa3-9df85dfcf7cb_085ea951-...</td>\n",
       "      <td>Prise de sang au cabinet ce jour.</td>\n",
       "      <td>[(Prise de sang, Treatment), (cabinet, Locatio...</td>\n",
       "    </tr>\n",
       "  </tbody>\n",
       "</table>\n",
       "</div>"
      ],
      "text/plain": [
       "                                                fichier  \\\n",
       "2765  f0caa21b-c11d-40a3-98ec-e2df3d2b9cc4_152f29b9-...   \n",
       "2590  a5050600-95ef-43d8-a5fa-a57c791bf843_1db16550-...   \n",
       "1478  f0caa21b-c11d-40a3-98ec-e2df3d2b9cc4_5943ed3a-...   \n",
       "3764  9f980dcf-b431-4e67-876f-2b8e288b7900_16cd54ce-...   \n",
       "87    b96ad235-2f4f-4236-9aa3-9df85dfcf7cb_28cb6cb2-...   \n",
       "1012  f0caa21b-c11d-40a3-98ec-e2df3d2b9cc4_2f09b33a-...   \n",
       "572   f0caa21b-c11d-40a3-98ec-e2df3d2b9cc4_5035e231-...   \n",
       "1507  9f980dcf-b431-4e67-876f-2b8e288b7900_7bf579c8-...   \n",
       "3349  2d035c4b-cdfa-4982-87dc-916fe07a0824_47e94ab8-...   \n",
       "2445  b96ad235-2f4f-4236-9aa3-9df85dfcf7cb_085ea951-...   \n",
       "\n",
       "                                            translation  \\\n",
       "2765   Test PCR réalisé ce jour au domicile du patient.   \n",
       "2590  Test antigénique réalisé cet après-midi à domi...   \n",
       "1478       Prise de sang réalisée le 18 février à midi.   \n",
       "3764  Bois bernard. Commencé hier, les im. domicile ...   \n",
       "87    Pour le pansement du jeudi 24 en plus, une pri...   \n",
       "1012  Ce jour, prise de sang donc à réaliser tous en...   \n",
       "572                    Prise de sang réalisée ce matin.   \n",
       "1507  Injection intramusculaire. Pour 10 injections ...   \n",
       "3349  Prise de sang faite au domicile ce jour 29 mai...   \n",
       "2445                  Prise de sang au cabinet ce jour.   \n",
       "\n",
       "                                                 labels  \n",
       "2765  [(Test PCR, Treatment), (ce jour, Date), (domi...  \n",
       "2590  [(Test antigénique, Treatment), (cet après-mid...  \n",
       "1478  [(Prise de sang, Treatment), (18 février, Date...  \n",
       "3764  [(bernard, Date), (hier, Date), (im, Treatment...  \n",
       "87    [(pansement, Treatment), (jeudi 24, Date), (pr...  \n",
       "1012  [(prise de sang, Treatment), (tous les 15 jour...  \n",
       "572      [(Prise de sang, Treatment), (ce matin, Date)]  \n",
       "1507  [(Injection intramusculaire, Treatment), (le 2...  \n",
       "3349  [(Prise de sang, Treatment), (domicile, Locati...  \n",
       "2445  [(Prise de sang, Treatment), (cabinet, Locatio...  "
      ]
     },
     "execution_count": 127,
     "metadata": {},
     "output_type": "execute_result"
    }
   ],
   "source": [
    "df_test"
   ]
  },
  {
   "cell_type": "code",
   "execution_count": null,
   "id": "67e930b7",
   "metadata": {},
   "outputs": [],
   "source": []
  }
 ],
 "metadata": {
  "kernelspec": {
   "display_name": "Python 3 (ipykernel)",
   "language": "python",
   "name": "python3"
  },
  "language_info": {
   "codemirror_mode": {
    "name": "ipython",
    "version": 3
   },
   "file_extension": ".py",
   "mimetype": "text/x-python",
   "name": "python",
   "nbconvert_exporter": "python",
   "pygments_lexer": "ipython3",
   "version": "3.8.12"
  },
  "toc": {
   "base_numbering": 1,
   "nav_menu": {},
   "number_sections": true,
   "sideBar": true,
   "skip_h1_title": false,
   "title_cell": "Table of Contents",
   "title_sidebar": "Contents",
   "toc_cell": false,
   "toc_position": {},
   "toc_section_display": true,
   "toc_window_display": false
  }
 },
 "nbformat": 4,
 "nbformat_minor": 5
}
